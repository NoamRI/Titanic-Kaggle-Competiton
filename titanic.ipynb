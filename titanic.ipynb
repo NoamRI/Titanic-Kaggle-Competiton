{
 "cells": [
  {
   "cell_type": "code",
   "execution_count": 1,
   "id": "3d0dd7c8",
   "metadata": {
    "_cell_guid": "b1076dfc-b9ad-4769-8c92-a6c4dae69d19",
    "_uuid": "8f2839f25d086af736a60e9eeb907d3b93b6e0e5",
    "execution": {
     "iopub.execute_input": "2022-11-02T10:27:17.318200Z",
     "iopub.status.busy": "2022-11-02T10:27:17.317486Z",
     "iopub.status.idle": "2022-11-02T10:27:17.332830Z",
     "shell.execute_reply": "2022-11-02T10:27:17.331680Z"
    },
    "papermill": {
     "duration": 0.035914,
     "end_time": "2022-11-02T10:27:17.335990",
     "exception": false,
     "start_time": "2022-11-02T10:27:17.300076",
     "status": "completed"
    },
    "tags": []
   },
   "outputs": [
    {
     "name": "stdout",
     "output_type": "stream",
     "text": [
      "/kaggle/input/titanic/train.csv\n",
      "/kaggle/input/titanic/test.csv\n",
      "/kaggle/input/titanic/gender_submission.csv\n"
     ]
    }
   ],
   "source": [
    "# This Python 3 environment comes with many helpful analytics libraries installed\n",
    "# It is defined by the kaggle/python Docker image: https://github.com/kaggle/docker-python\n",
    "# For example, here's several helpful packages to load\n",
    "\n",
    "import numpy as np # linear algebra\n",
    "import pandas as pd # data processing, CSV file I/O (e.g. pd.read_csv)\n",
    "\n",
    "# Input data files are available in the read-only \"../input/\" directory\n",
    "# For example, running this (by clicking run or pressing Shift+Enter) will list all files under the input directory\n",
    "\n",
    "import os\n",
    "for dirname, _, filenames in os.walk('/kaggle/input'):\n",
    "    for filename in filenames:\n",
    "        print(os.path.join(dirname, filename))\n",
    "\n",
    "# You can write up to 20GB to the current directory (/kaggle/working/) that gets preserved as output when you create a version using \"Save & Run All\" \n",
    "# You can also write temporary files to /kaggle/temp/, but they won't be saved outside of the current session"
   ]
  },
  {
   "cell_type": "markdown",
   "id": "3e112f6c",
   "metadata": {
    "papermill": {
     "duration": 0.014271,
     "end_time": "2022-11-02T10:27:17.366402",
     "exception": false,
     "start_time": "2022-11-02T10:27:17.352131",
     "status": "completed"
    },
    "tags": []
   },
   "source": [
    "On April 15, 1912, during her maiden voyage, the widely considered “unsinkable” RMS Titanic sank after colliding with an iceberg. Unfortunately, there weren’t enough lifeboats for everyone onboard, resulting in the death of 1502 out of 2224 passengers and crew.\n",
    "\n",
    "While there was some element of luck involved in surviving, it seems some groups of people were more likely to survive than others.\n",
    "\n",
    "In this notebook I would like the answer the question-\n",
    "“what sorts of people were more likely to survive?”\n",
    "using some classification models that predicts which passengers survived the Titanic shipwreck."
   ]
  },
  {
   "cell_type": "code",
   "execution_count": 2,
   "id": "fed18cfd",
   "metadata": {
    "execution": {
     "iopub.execute_input": "2022-11-02T10:27:17.398155Z",
     "iopub.status.busy": "2022-11-02T10:27:17.397170Z",
     "iopub.status.idle": "2022-11-02T10:27:18.571452Z",
     "shell.execute_reply": "2022-11-02T10:27:18.570552Z"
    },
    "papermill": {
     "duration": 1.19324,
     "end_time": "2022-11-02T10:27:18.574271",
     "exception": false,
     "start_time": "2022-11-02T10:27:17.381031",
     "status": "completed"
    },
    "tags": []
   },
   "outputs": [],
   "source": [
    "import matplotlib.pyplot as plt\n",
    "import seaborn as sns"
   ]
  },
  {
   "cell_type": "markdown",
   "id": "e1157f8d",
   "metadata": {
    "papermill": {
     "duration": 0.013675,
     "end_time": "2022-11-02T10:27:18.602155",
     "exception": false,
     "start_time": "2022-11-02T10:27:18.588480",
     "status": "completed"
    },
    "tags": []
   },
   "source": [
    "# **Importing the datasets**"
   ]
  },
  {
   "cell_type": "markdown",
   "id": "18f48f56",
   "metadata": {
    "papermill": {
     "duration": 0.014243,
     "end_time": "2022-11-02T10:27:18.630659",
     "exception": false,
     "start_time": "2022-11-02T10:27:18.616416",
     "status": "completed"
    },
    "tags": []
   },
   "source": [
    "## **Train data**"
   ]
  },
  {
   "cell_type": "code",
   "execution_count": 3,
   "id": "96de25ce",
   "metadata": {
    "execution": {
     "iopub.execute_input": "2022-11-02T10:27:18.660301Z",
     "iopub.status.busy": "2022-11-02T10:27:18.659592Z",
     "iopub.status.idle": "2022-11-02T10:27:18.702195Z",
     "shell.execute_reply": "2022-11-02T10:27:18.700960Z"
    },
    "papermill": {
     "duration": 0.060518,
     "end_time": "2022-11-02T10:27:18.705002",
     "exception": false,
     "start_time": "2022-11-02T10:27:18.644484",
     "status": "completed"
    },
    "tags": []
   },
   "outputs": [
    {
     "data": {
      "text/html": [
       "<div>\n",
       "<style scoped>\n",
       "    .dataframe tbody tr th:only-of-type {\n",
       "        vertical-align: middle;\n",
       "    }\n",
       "\n",
       "    .dataframe tbody tr th {\n",
       "        vertical-align: top;\n",
       "    }\n",
       "\n",
       "    .dataframe thead th {\n",
       "        text-align: right;\n",
       "    }\n",
       "</style>\n",
       "<table border=\"1\" class=\"dataframe\">\n",
       "  <thead>\n",
       "    <tr style=\"text-align: right;\">\n",
       "      <th></th>\n",
       "      <th>PassengerId</th>\n",
       "      <th>Survived</th>\n",
       "      <th>Pclass</th>\n",
       "      <th>Name</th>\n",
       "      <th>Sex</th>\n",
       "      <th>Age</th>\n",
       "      <th>SibSp</th>\n",
       "      <th>Parch</th>\n",
       "      <th>Ticket</th>\n",
       "      <th>Fare</th>\n",
       "      <th>Cabin</th>\n",
       "      <th>Embarked</th>\n",
       "    </tr>\n",
       "  </thead>\n",
       "  <tbody>\n",
       "    <tr>\n",
       "      <th>0</th>\n",
       "      <td>1</td>\n",
       "      <td>0</td>\n",
       "      <td>3</td>\n",
       "      <td>Braund, Mr. Owen Harris</td>\n",
       "      <td>male</td>\n",
       "      <td>22.0</td>\n",
       "      <td>1</td>\n",
       "      <td>0</td>\n",
       "      <td>A/5 21171</td>\n",
       "      <td>7.2500</td>\n",
       "      <td>NaN</td>\n",
       "      <td>S</td>\n",
       "    </tr>\n",
       "    <tr>\n",
       "      <th>1</th>\n",
       "      <td>2</td>\n",
       "      <td>1</td>\n",
       "      <td>1</td>\n",
       "      <td>Cumings, Mrs. John Bradley (Florence Briggs Th...</td>\n",
       "      <td>female</td>\n",
       "      <td>38.0</td>\n",
       "      <td>1</td>\n",
       "      <td>0</td>\n",
       "      <td>PC 17599</td>\n",
       "      <td>71.2833</td>\n",
       "      <td>C85</td>\n",
       "      <td>C</td>\n",
       "    </tr>\n",
       "    <tr>\n",
       "      <th>2</th>\n",
       "      <td>3</td>\n",
       "      <td>1</td>\n",
       "      <td>3</td>\n",
       "      <td>Heikkinen, Miss. Laina</td>\n",
       "      <td>female</td>\n",
       "      <td>26.0</td>\n",
       "      <td>0</td>\n",
       "      <td>0</td>\n",
       "      <td>STON/O2. 3101282</td>\n",
       "      <td>7.9250</td>\n",
       "      <td>NaN</td>\n",
       "      <td>S</td>\n",
       "    </tr>\n",
       "    <tr>\n",
       "      <th>3</th>\n",
       "      <td>4</td>\n",
       "      <td>1</td>\n",
       "      <td>1</td>\n",
       "      <td>Futrelle, Mrs. Jacques Heath (Lily May Peel)</td>\n",
       "      <td>female</td>\n",
       "      <td>35.0</td>\n",
       "      <td>1</td>\n",
       "      <td>0</td>\n",
       "      <td>113803</td>\n",
       "      <td>53.1000</td>\n",
       "      <td>C123</td>\n",
       "      <td>S</td>\n",
       "    </tr>\n",
       "    <tr>\n",
       "      <th>4</th>\n",
       "      <td>5</td>\n",
       "      <td>0</td>\n",
       "      <td>3</td>\n",
       "      <td>Allen, Mr. William Henry</td>\n",
       "      <td>male</td>\n",
       "      <td>35.0</td>\n",
       "      <td>0</td>\n",
       "      <td>0</td>\n",
       "      <td>373450</td>\n",
       "      <td>8.0500</td>\n",
       "      <td>NaN</td>\n",
       "      <td>S</td>\n",
       "    </tr>\n",
       "  </tbody>\n",
       "</table>\n",
       "</div>"
      ],
      "text/plain": [
       "   PassengerId  Survived  Pclass  \\\n",
       "0            1         0       3   \n",
       "1            2         1       1   \n",
       "2            3         1       3   \n",
       "3            4         1       1   \n",
       "4            5         0       3   \n",
       "\n",
       "                                                Name     Sex   Age  SibSp  \\\n",
       "0                            Braund, Mr. Owen Harris    male  22.0      1   \n",
       "1  Cumings, Mrs. John Bradley (Florence Briggs Th...  female  38.0      1   \n",
       "2                             Heikkinen, Miss. Laina  female  26.0      0   \n",
       "3       Futrelle, Mrs. Jacques Heath (Lily May Peel)  female  35.0      1   \n",
       "4                           Allen, Mr. William Henry    male  35.0      0   \n",
       "\n",
       "   Parch            Ticket     Fare Cabin Embarked  \n",
       "0      0         A/5 21171   7.2500   NaN        S  \n",
       "1      0          PC 17599  71.2833   C85        C  \n",
       "2      0  STON/O2. 3101282   7.9250   NaN        S  \n",
       "3      0            113803  53.1000  C123        S  \n",
       "4      0            373450   8.0500   NaN        S  "
      ]
     },
     "execution_count": 3,
     "metadata": {},
     "output_type": "execute_result"
    }
   ],
   "source": [
    "train_data = pd.read_csv('/kaggle/input/titanic/train.csv')\n",
    "train_data.head()"
   ]
  },
  {
   "cell_type": "markdown",
   "id": "793c4710",
   "metadata": {
    "papermill": {
     "duration": 0.013686,
     "end_time": "2022-11-02T10:27:18.733143",
     "exception": false,
     "start_time": "2022-11-02T10:27:18.719457",
     "status": "completed"
    },
    "tags": []
   },
   "source": [
    "## **Test data**"
   ]
  },
  {
   "cell_type": "code",
   "execution_count": 4,
   "id": "4886e949",
   "metadata": {
    "collapsed": true,
    "execution": {
     "iopub.execute_input": "2022-11-02T10:27:18.764018Z",
     "iopub.status.busy": "2022-11-02T10:27:18.762574Z",
     "iopub.status.idle": "2022-11-02T10:27:18.788324Z",
     "shell.execute_reply": "2022-11-02T10:27:18.787156Z"
    },
    "jupyter": {
     "outputs_hidden": true
    },
    "papermill": {
     "duration": 0.043854,
     "end_time": "2022-11-02T10:27:18.791061",
     "exception": false,
     "start_time": "2022-11-02T10:27:18.747207",
     "status": "completed"
    },
    "tags": []
   },
   "outputs": [
    {
     "data": {
      "text/html": [
       "<div>\n",
       "<style scoped>\n",
       "    .dataframe tbody tr th:only-of-type {\n",
       "        vertical-align: middle;\n",
       "    }\n",
       "\n",
       "    .dataframe tbody tr th {\n",
       "        vertical-align: top;\n",
       "    }\n",
       "\n",
       "    .dataframe thead th {\n",
       "        text-align: right;\n",
       "    }\n",
       "</style>\n",
       "<table border=\"1\" class=\"dataframe\">\n",
       "  <thead>\n",
       "    <tr style=\"text-align: right;\">\n",
       "      <th></th>\n",
       "      <th>PassengerId</th>\n",
       "      <th>Pclass</th>\n",
       "      <th>Name</th>\n",
       "      <th>Sex</th>\n",
       "      <th>Age</th>\n",
       "      <th>SibSp</th>\n",
       "      <th>Parch</th>\n",
       "      <th>Ticket</th>\n",
       "      <th>Fare</th>\n",
       "      <th>Cabin</th>\n",
       "      <th>Embarked</th>\n",
       "    </tr>\n",
       "  </thead>\n",
       "  <tbody>\n",
       "    <tr>\n",
       "      <th>0</th>\n",
       "      <td>892</td>\n",
       "      <td>3</td>\n",
       "      <td>Kelly, Mr. James</td>\n",
       "      <td>male</td>\n",
       "      <td>34.5</td>\n",
       "      <td>0</td>\n",
       "      <td>0</td>\n",
       "      <td>330911</td>\n",
       "      <td>7.8292</td>\n",
       "      <td>NaN</td>\n",
       "      <td>Q</td>\n",
       "    </tr>\n",
       "    <tr>\n",
       "      <th>1</th>\n",
       "      <td>893</td>\n",
       "      <td>3</td>\n",
       "      <td>Wilkes, Mrs. James (Ellen Needs)</td>\n",
       "      <td>female</td>\n",
       "      <td>47.0</td>\n",
       "      <td>1</td>\n",
       "      <td>0</td>\n",
       "      <td>363272</td>\n",
       "      <td>7.0000</td>\n",
       "      <td>NaN</td>\n",
       "      <td>S</td>\n",
       "    </tr>\n",
       "    <tr>\n",
       "      <th>2</th>\n",
       "      <td>894</td>\n",
       "      <td>2</td>\n",
       "      <td>Myles, Mr. Thomas Francis</td>\n",
       "      <td>male</td>\n",
       "      <td>62.0</td>\n",
       "      <td>0</td>\n",
       "      <td>0</td>\n",
       "      <td>240276</td>\n",
       "      <td>9.6875</td>\n",
       "      <td>NaN</td>\n",
       "      <td>Q</td>\n",
       "    </tr>\n",
       "    <tr>\n",
       "      <th>3</th>\n",
       "      <td>895</td>\n",
       "      <td>3</td>\n",
       "      <td>Wirz, Mr. Albert</td>\n",
       "      <td>male</td>\n",
       "      <td>27.0</td>\n",
       "      <td>0</td>\n",
       "      <td>0</td>\n",
       "      <td>315154</td>\n",
       "      <td>8.6625</td>\n",
       "      <td>NaN</td>\n",
       "      <td>S</td>\n",
       "    </tr>\n",
       "    <tr>\n",
       "      <th>4</th>\n",
       "      <td>896</td>\n",
       "      <td>3</td>\n",
       "      <td>Hirvonen, Mrs. Alexander (Helga E Lindqvist)</td>\n",
       "      <td>female</td>\n",
       "      <td>22.0</td>\n",
       "      <td>1</td>\n",
       "      <td>1</td>\n",
       "      <td>3101298</td>\n",
       "      <td>12.2875</td>\n",
       "      <td>NaN</td>\n",
       "      <td>S</td>\n",
       "    </tr>\n",
       "  </tbody>\n",
       "</table>\n",
       "</div>"
      ],
      "text/plain": [
       "   PassengerId  Pclass                                          Name     Sex  \\\n",
       "0          892       3                              Kelly, Mr. James    male   \n",
       "1          893       3              Wilkes, Mrs. James (Ellen Needs)  female   \n",
       "2          894       2                     Myles, Mr. Thomas Francis    male   \n",
       "3          895       3                              Wirz, Mr. Albert    male   \n",
       "4          896       3  Hirvonen, Mrs. Alexander (Helga E Lindqvist)  female   \n",
       "\n",
       "    Age  SibSp  Parch   Ticket     Fare Cabin Embarked  \n",
       "0  34.5      0      0   330911   7.8292   NaN        Q  \n",
       "1  47.0      1      0   363272   7.0000   NaN        S  \n",
       "2  62.0      0      0   240276   9.6875   NaN        Q  \n",
       "3  27.0      0      0   315154   8.6625   NaN        S  \n",
       "4  22.0      1      1  3101298  12.2875   NaN        S  "
      ]
     },
     "execution_count": 4,
     "metadata": {},
     "output_type": "execute_result"
    }
   ],
   "source": [
    "test_data = pd.read_csv('/kaggle/input/titanic/test.csv')\n",
    "test_data.head()"
   ]
  },
  {
   "cell_type": "markdown",
   "id": "bd9b6dd4",
   "metadata": {
    "papermill": {
     "duration": 0.014478,
     "end_time": "2022-11-02T10:27:18.821658",
     "exception": false,
     "start_time": "2022-11-02T10:27:18.807180",
     "status": "completed"
    },
    "tags": []
   },
   "source": [
    "# **Data Analysis**"
   ]
  },
  {
   "cell_type": "markdown",
   "id": "a7c68d66",
   "metadata": {
    "papermill": {
     "duration": 0.015204,
     "end_time": "2022-11-02T10:27:18.852017",
     "exception": false,
     "start_time": "2022-11-02T10:27:18.836813",
     "status": "completed"
    },
    "tags": []
   },
   "source": [
    "### The train data contain information about 891 passengers (rows) and 14 columns."
   ]
  },
  {
   "cell_type": "code",
   "execution_count": 5,
   "id": "3e69ed19",
   "metadata": {
    "execution": {
     "iopub.execute_input": "2022-11-02T10:27:18.884091Z",
     "iopub.status.busy": "2022-11-02T10:27:18.882919Z",
     "iopub.status.idle": "2022-11-02T10:27:18.890568Z",
     "shell.execute_reply": "2022-11-02T10:27:18.889558Z"
    },
    "papermill": {
     "duration": 0.025523,
     "end_time": "2022-11-02T10:27:18.892821",
     "exception": false,
     "start_time": "2022-11-02T10:27:18.867298",
     "status": "completed"
    },
    "tags": []
   },
   "outputs": [
    {
     "data": {
      "text/plain": [
       "(891, 12)"
      ]
     },
     "execution_count": 5,
     "metadata": {},
     "output_type": "execute_result"
    }
   ],
   "source": [
    "train_data.shape"
   ]
  },
  {
   "cell_type": "markdown",
   "id": "c7aba579",
   "metadata": {
    "papermill": {
     "duration": 0.015849,
     "end_time": "2022-11-02T10:27:18.923751",
     "exception": false,
     "start_time": "2022-11-02T10:27:18.907902",
     "status": "completed"
    },
    "tags": []
   },
   "source": [
    "### The type of each column in the data frame:"
   ]
  },
  {
   "cell_type": "code",
   "execution_count": 6,
   "id": "c22657ca",
   "metadata": {
    "execution": {
     "iopub.execute_input": "2022-11-02T10:27:18.954863Z",
     "iopub.status.busy": "2022-11-02T10:27:18.954174Z",
     "iopub.status.idle": "2022-11-02T10:27:18.962319Z",
     "shell.execute_reply": "2022-11-02T10:27:18.961232Z"
    },
    "papermill": {
     "duration": 0.026274,
     "end_time": "2022-11-02T10:27:18.964499",
     "exception": false,
     "start_time": "2022-11-02T10:27:18.938225",
     "status": "completed"
    },
    "tags": []
   },
   "outputs": [
    {
     "data": {
      "text/plain": [
       "PassengerId      int64\n",
       "Survived         int64\n",
       "Pclass           int64\n",
       "Name            object\n",
       "Sex             object\n",
       "Age            float64\n",
       "SibSp            int64\n",
       "Parch            int64\n",
       "Ticket          object\n",
       "Fare           float64\n",
       "Cabin           object\n",
       "Embarked        object\n",
       "dtype: object"
      ]
     },
     "execution_count": 6,
     "metadata": {},
     "output_type": "execute_result"
    }
   ],
   "source": [
    "train_data.dtypes"
   ]
  },
  {
   "cell_type": "markdown",
   "id": "9ead5066",
   "metadata": {
    "papermill": {
     "duration": 0.014782,
     "end_time": "2022-11-02T10:27:18.993940",
     "exception": false,
     "start_time": "2022-11-02T10:27:18.979158",
     "status": "completed"
    },
    "tags": []
   },
   "source": [
    "### Checking for missing data"
   ]
  },
  {
   "cell_type": "code",
   "execution_count": 7,
   "id": "2a700302",
   "metadata": {
    "execution": {
     "iopub.execute_input": "2022-11-02T10:27:19.025778Z",
     "iopub.status.busy": "2022-11-02T10:27:19.025327Z",
     "iopub.status.idle": "2022-11-02T10:27:19.033884Z",
     "shell.execute_reply": "2022-11-02T10:27:19.032968Z"
    },
    "papermill": {
     "duration": 0.027253,
     "end_time": "2022-11-02T10:27:19.036098",
     "exception": false,
     "start_time": "2022-11-02T10:27:19.008845",
     "status": "completed"
    },
    "tags": []
   },
   "outputs": [
    {
     "data": {
      "text/plain": [
       "['Age', 'Cabin', 'Embarked']"
      ]
     },
     "execution_count": 7,
     "metadata": {},
     "output_type": "execute_result"
    }
   ],
   "source": [
    "# find the columns with Nans\n",
    "train_data.columns[train_data.isna().any()].tolist()"
   ]
  },
  {
   "cell_type": "markdown",
   "id": "ff7e9064",
   "metadata": {
    "papermill": {
     "duration": 0.014321,
     "end_time": "2022-11-02T10:27:19.065700",
     "exception": false,
     "start_time": "2022-11-02T10:27:19.051379",
     "status": "completed"
    },
    "tags": []
   },
   "source": [
    "There are three columns with Nan values.\n",
    "\n",
    "Let's replace the Nans in the Age column by the mean of the column."
   ]
  },
  {
   "cell_type": "code",
   "execution_count": 8,
   "id": "0dde3c6b",
   "metadata": {
    "execution": {
     "iopub.execute_input": "2022-11-02T10:27:19.097546Z",
     "iopub.status.busy": "2022-11-02T10:27:19.096455Z",
     "iopub.status.idle": "2022-11-02T10:27:19.456758Z",
     "shell.execute_reply": "2022-11-02T10:27:19.455362Z"
    },
    "papermill": {
     "duration": 0.379194,
     "end_time": "2022-11-02T10:27:19.459744",
     "exception": false,
     "start_time": "2022-11-02T10:27:19.080550",
     "status": "completed"
    },
    "tags": []
   },
   "outputs": [],
   "source": [
    "from sklearn.impute import SimpleImputer\n",
    "imputer = SimpleImputer(missing_values=np.nan, strategy='mean') # replace the nan by the mean of the column's values\n",
    "imputer.fit(train_data[['Age']])\n",
    "train_data['Age'] = imputer.transform(train_data[['Age']])"
   ]
  },
  {
   "cell_type": "markdown",
   "id": "5dec21e2",
   "metadata": {
    "papermill": {
     "duration": 0.015163,
     "end_time": "2022-11-02T10:27:19.489897",
     "exception": false,
     "start_time": "2022-11-02T10:27:19.474734",
     "status": "completed"
    },
    "tags": []
   },
   "source": [
    "The Cabin column and the Embarked column are object types, so we'll replace the Nans by empty string ''."
   ]
  },
  {
   "cell_type": "code",
   "execution_count": 9,
   "id": "0250b315",
   "metadata": {
    "execution": {
     "iopub.execute_input": "2022-11-02T10:27:19.522487Z",
     "iopub.status.busy": "2022-11-02T10:27:19.521312Z",
     "iopub.status.idle": "2022-11-02T10:27:19.528297Z",
     "shell.execute_reply": "2022-11-02T10:27:19.527281Z"
    },
    "papermill": {
     "duration": 0.025863,
     "end_time": "2022-11-02T10:27:19.530949",
     "exception": false,
     "start_time": "2022-11-02T10:27:19.505086",
     "status": "completed"
    },
    "tags": []
   },
   "outputs": [],
   "source": [
    "train_data['Cabin'].replace(np.nan, '', inplace = True)\n",
    "train_data['Embarked'].replace(np.nan, '', inplace = True)"
   ]
  },
  {
   "cell_type": "markdown",
   "id": "5a7e9839",
   "metadata": {
    "papermill": {
     "duration": 0.01479,
     "end_time": "2022-11-02T10:27:19.560557",
     "exception": false,
     "start_time": "2022-11-02T10:27:19.545767",
     "status": "completed"
    },
    "tags": []
   },
   "source": [
    "Now we will ensure there are no Nan values anymore-"
   ]
  },
  {
   "cell_type": "code",
   "execution_count": 10,
   "id": "c758ccb9",
   "metadata": {
    "execution": {
     "iopub.execute_input": "2022-11-02T10:27:19.592913Z",
     "iopub.status.busy": "2022-11-02T10:27:19.592517Z",
     "iopub.status.idle": "2022-11-02T10:27:19.602864Z",
     "shell.execute_reply": "2022-11-02T10:27:19.601853Z"
    },
    "papermill": {
     "duration": 0.029025,
     "end_time": "2022-11-02T10:27:19.605144",
     "exception": false,
     "start_time": "2022-11-02T10:27:19.576119",
     "status": "completed"
    },
    "tags": []
   },
   "outputs": [
    {
     "data": {
      "text/plain": [
       "[]"
      ]
     },
     "execution_count": 10,
     "metadata": {},
     "output_type": "execute_result"
    }
   ],
   "source": [
    "train_data.isnull().values.any()\n",
    "train_data.columns[train_data.isna().any()].tolist()"
   ]
  },
  {
   "cell_type": "markdown",
   "id": "e41d24c6",
   "metadata": {
    "papermill": {
     "duration": 0.015931,
     "end_time": "2022-11-02T10:27:19.636210",
     "exception": false,
     "start_time": "2022-11-02T10:27:19.620279",
     "status": "completed"
    },
    "tags": []
   },
   "source": [
    "**Good! there are no Nans.**"
   ]
  },
  {
   "cell_type": "markdown",
   "id": "e17101c0",
   "metadata": {
    "papermill": {
     "duration": 0.014554,
     "end_time": "2022-11-02T10:27:19.665782",
     "exception": false,
     "start_time": "2022-11-02T10:27:19.651228",
     "status": "completed"
    },
    "tags": []
   },
   "source": [
    "There are no duplicates:"
   ]
  },
  {
   "cell_type": "code",
   "execution_count": 11,
   "id": "973f26d1",
   "metadata": {
    "execution": {
     "iopub.execute_input": "2022-11-02T10:27:19.697794Z",
     "iopub.status.busy": "2022-11-02T10:27:19.697328Z",
     "iopub.status.idle": "2022-11-02T10:27:19.710050Z",
     "shell.execute_reply": "2022-11-02T10:27:19.708860Z"
    },
    "papermill": {
     "duration": 0.03172,
     "end_time": "2022-11-02T10:27:19.712477",
     "exception": false,
     "start_time": "2022-11-02T10:27:19.680757",
     "status": "completed"
    },
    "tags": []
   },
   "outputs": [
    {
     "data": {
      "text/plain": [
       "False"
      ]
     },
     "execution_count": 11,
     "metadata": {},
     "output_type": "execute_result"
    }
   ],
   "source": [
    "train_data.duplicated().any()"
   ]
  },
  {
   "cell_type": "markdown",
   "id": "a3c31854",
   "metadata": {
    "papermill": {
     "duration": 0.014721,
     "end_time": "2022-11-02T10:27:19.743147",
     "exception": false,
     "start_time": "2022-11-02T10:27:19.728426",
     "status": "completed"
    },
    "tags": []
   },
   "source": [
    "For the sake of convenience, we will encode the Sex column into a new column- Sex_cat, where 0 = female and 1 = male.\n",
    "\n",
    "Additionally, we will create a new column, AgeGroup, that will contain the age groups of the passengers according the following partition:\n",
    "- Infant: 0-3\n",
    "- Kid: 4-12\n",
    "- Teen: 13-19\n",
    "- Adult: 20-110"
   ]
  },
  {
   "cell_type": "code",
   "execution_count": 12,
   "id": "cff86ae1",
   "metadata": {
    "execution": {
     "iopub.execute_input": "2022-11-02T10:27:19.775671Z",
     "iopub.status.busy": "2022-11-02T10:27:19.774991Z",
     "iopub.status.idle": "2022-11-02T10:27:19.790562Z",
     "shell.execute_reply": "2022-11-02T10:27:19.789437Z"
    },
    "papermill": {
     "duration": 0.034967,
     "end_time": "2022-11-02T10:27:19.793471",
     "exception": false,
     "start_time": "2022-11-02T10:27:19.758504",
     "status": "completed"
    },
    "tags": []
   },
   "outputs": [
    {
     "data": {
      "text/plain": [
       "PassengerId       int64\n",
       "Survived          int64\n",
       "Pclass            int64\n",
       "Name             object\n",
       "Sex            category\n",
       "Age             float64\n",
       "SibSp             int64\n",
       "Parch             int64\n",
       "Ticket           object\n",
       "Fare            float64\n",
       "Cabin            object\n",
       "Embarked         object\n",
       "Sex_cat            int8\n",
       "AgeGroup       category\n",
       "dtype: object"
      ]
     },
     "execution_count": 12,
     "metadata": {},
     "output_type": "execute_result"
    }
   ],
   "source": [
    "train_data[\"Sex\"] = train_data[\"Sex\"].astype('category')\n",
    "train_data[\"Sex_cat\"] = train_data[\"Sex\"].cat.codes\n",
    "\n",
    "bins= [0,4,13,20,110]\n",
    "labels = ['Infant','Kid','Teen','Adult']\n",
    "train_data['AgeGroup'] = pd.cut(train_data['Age'], bins=bins, labels=labels, right=False)\n",
    "train_data.dtypes"
   ]
  },
  {
   "cell_type": "code",
   "execution_count": 13,
   "id": "eaa197b7",
   "metadata": {
    "execution": {
     "iopub.execute_input": "2022-11-02T10:27:19.826735Z",
     "iopub.status.busy": "2022-11-02T10:27:19.826284Z",
     "iopub.status.idle": "2022-11-02T10:27:19.845850Z",
     "shell.execute_reply": "2022-11-02T10:27:19.844543Z"
    },
    "papermill": {
     "duration": 0.039152,
     "end_time": "2022-11-02T10:27:19.848109",
     "exception": false,
     "start_time": "2022-11-02T10:27:19.808957",
     "status": "completed"
    },
    "tags": []
   },
   "outputs": [
    {
     "data": {
      "text/html": [
       "<div>\n",
       "<style scoped>\n",
       "    .dataframe tbody tr th:only-of-type {\n",
       "        vertical-align: middle;\n",
       "    }\n",
       "\n",
       "    .dataframe tbody tr th {\n",
       "        vertical-align: top;\n",
       "    }\n",
       "\n",
       "    .dataframe thead th {\n",
       "        text-align: right;\n",
       "    }\n",
       "</style>\n",
       "<table border=\"1\" class=\"dataframe\">\n",
       "  <thead>\n",
       "    <tr style=\"text-align: right;\">\n",
       "      <th></th>\n",
       "      <th>PassengerId</th>\n",
       "      <th>Survived</th>\n",
       "      <th>Pclass</th>\n",
       "      <th>Name</th>\n",
       "      <th>Sex</th>\n",
       "      <th>Age</th>\n",
       "      <th>SibSp</th>\n",
       "      <th>Parch</th>\n",
       "      <th>Ticket</th>\n",
       "      <th>Fare</th>\n",
       "      <th>Cabin</th>\n",
       "      <th>Embarked</th>\n",
       "      <th>Sex_cat</th>\n",
       "      <th>AgeGroup</th>\n",
       "    </tr>\n",
       "  </thead>\n",
       "  <tbody>\n",
       "    <tr>\n",
       "      <th>0</th>\n",
       "      <td>1</td>\n",
       "      <td>0</td>\n",
       "      <td>3</td>\n",
       "      <td>Braund, Mr. Owen Harris</td>\n",
       "      <td>male</td>\n",
       "      <td>22.0</td>\n",
       "      <td>1</td>\n",
       "      <td>0</td>\n",
       "      <td>A/5 21171</td>\n",
       "      <td>7.2500</td>\n",
       "      <td></td>\n",
       "      <td>S</td>\n",
       "      <td>1</td>\n",
       "      <td>Adult</td>\n",
       "    </tr>\n",
       "    <tr>\n",
       "      <th>1</th>\n",
       "      <td>2</td>\n",
       "      <td>1</td>\n",
       "      <td>1</td>\n",
       "      <td>Cumings, Mrs. John Bradley (Florence Briggs Th...</td>\n",
       "      <td>female</td>\n",
       "      <td>38.0</td>\n",
       "      <td>1</td>\n",
       "      <td>0</td>\n",
       "      <td>PC 17599</td>\n",
       "      <td>71.2833</td>\n",
       "      <td>C85</td>\n",
       "      <td>C</td>\n",
       "      <td>0</td>\n",
       "      <td>Adult</td>\n",
       "    </tr>\n",
       "    <tr>\n",
       "      <th>2</th>\n",
       "      <td>3</td>\n",
       "      <td>1</td>\n",
       "      <td>3</td>\n",
       "      <td>Heikkinen, Miss. Laina</td>\n",
       "      <td>female</td>\n",
       "      <td>26.0</td>\n",
       "      <td>0</td>\n",
       "      <td>0</td>\n",
       "      <td>STON/O2. 3101282</td>\n",
       "      <td>7.9250</td>\n",
       "      <td></td>\n",
       "      <td>S</td>\n",
       "      <td>0</td>\n",
       "      <td>Adult</td>\n",
       "    </tr>\n",
       "    <tr>\n",
       "      <th>3</th>\n",
       "      <td>4</td>\n",
       "      <td>1</td>\n",
       "      <td>1</td>\n",
       "      <td>Futrelle, Mrs. Jacques Heath (Lily May Peel)</td>\n",
       "      <td>female</td>\n",
       "      <td>35.0</td>\n",
       "      <td>1</td>\n",
       "      <td>0</td>\n",
       "      <td>113803</td>\n",
       "      <td>53.1000</td>\n",
       "      <td>C123</td>\n",
       "      <td>S</td>\n",
       "      <td>0</td>\n",
       "      <td>Adult</td>\n",
       "    </tr>\n",
       "    <tr>\n",
       "      <th>4</th>\n",
       "      <td>5</td>\n",
       "      <td>0</td>\n",
       "      <td>3</td>\n",
       "      <td>Allen, Mr. William Henry</td>\n",
       "      <td>male</td>\n",
       "      <td>35.0</td>\n",
       "      <td>0</td>\n",
       "      <td>0</td>\n",
       "      <td>373450</td>\n",
       "      <td>8.0500</td>\n",
       "      <td></td>\n",
       "      <td>S</td>\n",
       "      <td>1</td>\n",
       "      <td>Adult</td>\n",
       "    </tr>\n",
       "  </tbody>\n",
       "</table>\n",
       "</div>"
      ],
      "text/plain": [
       "   PassengerId  Survived  Pclass  \\\n",
       "0            1         0       3   \n",
       "1            2         1       1   \n",
       "2            3         1       3   \n",
       "3            4         1       1   \n",
       "4            5         0       3   \n",
       "\n",
       "                                                Name     Sex   Age  SibSp  \\\n",
       "0                            Braund, Mr. Owen Harris    male  22.0      1   \n",
       "1  Cumings, Mrs. John Bradley (Florence Briggs Th...  female  38.0      1   \n",
       "2                             Heikkinen, Miss. Laina  female  26.0      0   \n",
       "3       Futrelle, Mrs. Jacques Heath (Lily May Peel)  female  35.0      1   \n",
       "4                           Allen, Mr. William Henry    male  35.0      0   \n",
       "\n",
       "   Parch            Ticket     Fare Cabin Embarked  Sex_cat AgeGroup  \n",
       "0      0         A/5 21171   7.2500              S        1    Adult  \n",
       "1      0          PC 17599  71.2833   C85        C        0    Adult  \n",
       "2      0  STON/O2. 3101282   7.9250              S        0    Adult  \n",
       "3      0            113803  53.1000  C123        S        0    Adult  \n",
       "4      0            373450   8.0500              S        1    Adult  "
      ]
     },
     "execution_count": 13,
     "metadata": {},
     "output_type": "execute_result"
    }
   ],
   "source": [
    "train_data.head()"
   ]
  },
  {
   "cell_type": "markdown",
   "id": "f09fbe6c",
   "metadata": {
    "papermill": {
     "duration": 0.015364,
     "end_time": "2022-11-02T10:27:19.879643",
     "exception": false,
     "start_time": "2022-11-02T10:27:19.864279",
     "status": "completed"
    },
    "tags": []
   },
   "source": [
    "### Some statistics information:"
   ]
  },
  {
   "cell_type": "code",
   "execution_count": 14,
   "id": "560f307c",
   "metadata": {
    "execution": {
     "iopub.execute_input": "2022-11-02T10:27:19.915546Z",
     "iopub.status.busy": "2022-11-02T10:27:19.915132Z",
     "iopub.status.idle": "2022-11-02T10:27:19.969169Z",
     "shell.execute_reply": "2022-11-02T10:27:19.967888Z"
    },
    "papermill": {
     "duration": 0.076717,
     "end_time": "2022-11-02T10:27:19.971918",
     "exception": false,
     "start_time": "2022-11-02T10:27:19.895201",
     "status": "completed"
    },
    "tags": []
   },
   "outputs": [
    {
     "data": {
      "text/html": [
       "<div>\n",
       "<style scoped>\n",
       "    .dataframe tbody tr th:only-of-type {\n",
       "        vertical-align: middle;\n",
       "    }\n",
       "\n",
       "    .dataframe tbody tr th {\n",
       "        vertical-align: top;\n",
       "    }\n",
       "\n",
       "    .dataframe thead th {\n",
       "        text-align: right;\n",
       "    }\n",
       "</style>\n",
       "<table border=\"1\" class=\"dataframe\">\n",
       "  <thead>\n",
       "    <tr style=\"text-align: right;\">\n",
       "      <th></th>\n",
       "      <th>Survived</th>\n",
       "      <th>Pclass</th>\n",
       "      <th>Name</th>\n",
       "      <th>Sex</th>\n",
       "      <th>Age</th>\n",
       "      <th>SibSp</th>\n",
       "      <th>Parch</th>\n",
       "      <th>Ticket</th>\n",
       "      <th>Fare</th>\n",
       "      <th>Cabin</th>\n",
       "      <th>Embarked</th>\n",
       "      <th>Sex_cat</th>\n",
       "      <th>AgeGroup</th>\n",
       "    </tr>\n",
       "  </thead>\n",
       "  <tbody>\n",
       "    <tr>\n",
       "      <th>count</th>\n",
       "      <td>891.000000</td>\n",
       "      <td>891.000000</td>\n",
       "      <td>891</td>\n",
       "      <td>891</td>\n",
       "      <td>891.000000</td>\n",
       "      <td>891.000000</td>\n",
       "      <td>891.000000</td>\n",
       "      <td>891</td>\n",
       "      <td>891.000000</td>\n",
       "      <td>891</td>\n",
       "      <td>891</td>\n",
       "      <td>891.000000</td>\n",
       "      <td>891</td>\n",
       "    </tr>\n",
       "    <tr>\n",
       "      <th>unique</th>\n",
       "      <td>NaN</td>\n",
       "      <td>NaN</td>\n",
       "      <td>891</td>\n",
       "      <td>2</td>\n",
       "      <td>NaN</td>\n",
       "      <td>NaN</td>\n",
       "      <td>NaN</td>\n",
       "      <td>681</td>\n",
       "      <td>NaN</td>\n",
       "      <td>148</td>\n",
       "      <td>4</td>\n",
       "      <td>NaN</td>\n",
       "      <td>4</td>\n",
       "    </tr>\n",
       "    <tr>\n",
       "      <th>top</th>\n",
       "      <td>NaN</td>\n",
       "      <td>NaN</td>\n",
       "      <td>Braund, Mr. Owen Harris</td>\n",
       "      <td>male</td>\n",
       "      <td>NaN</td>\n",
       "      <td>NaN</td>\n",
       "      <td>NaN</td>\n",
       "      <td>347082</td>\n",
       "      <td>NaN</td>\n",
       "      <td></td>\n",
       "      <td>S</td>\n",
       "      <td>NaN</td>\n",
       "      <td>Adult</td>\n",
       "    </tr>\n",
       "    <tr>\n",
       "      <th>freq</th>\n",
       "      <td>NaN</td>\n",
       "      <td>NaN</td>\n",
       "      <td>1</td>\n",
       "      <td>577</td>\n",
       "      <td>NaN</td>\n",
       "      <td>NaN</td>\n",
       "      <td>NaN</td>\n",
       "      <td>7</td>\n",
       "      <td>NaN</td>\n",
       "      <td>687</td>\n",
       "      <td>644</td>\n",
       "      <td>NaN</td>\n",
       "      <td>727</td>\n",
       "    </tr>\n",
       "    <tr>\n",
       "      <th>mean</th>\n",
       "      <td>0.383838</td>\n",
       "      <td>2.308642</td>\n",
       "      <td>NaN</td>\n",
       "      <td>NaN</td>\n",
       "      <td>29.699118</td>\n",
       "      <td>0.523008</td>\n",
       "      <td>0.381594</td>\n",
       "      <td>NaN</td>\n",
       "      <td>32.204208</td>\n",
       "      <td>NaN</td>\n",
       "      <td>NaN</td>\n",
       "      <td>0.647587</td>\n",
       "      <td>NaN</td>\n",
       "    </tr>\n",
       "    <tr>\n",
       "      <th>std</th>\n",
       "      <td>0.486592</td>\n",
       "      <td>0.836071</td>\n",
       "      <td>NaN</td>\n",
       "      <td>NaN</td>\n",
       "      <td>13.002015</td>\n",
       "      <td>1.102743</td>\n",
       "      <td>0.806057</td>\n",
       "      <td>NaN</td>\n",
       "      <td>49.693429</td>\n",
       "      <td>NaN</td>\n",
       "      <td>NaN</td>\n",
       "      <td>0.477990</td>\n",
       "      <td>NaN</td>\n",
       "    </tr>\n",
       "    <tr>\n",
       "      <th>min</th>\n",
       "      <td>0.000000</td>\n",
       "      <td>1.000000</td>\n",
       "      <td>NaN</td>\n",
       "      <td>NaN</td>\n",
       "      <td>0.420000</td>\n",
       "      <td>0.000000</td>\n",
       "      <td>0.000000</td>\n",
       "      <td>NaN</td>\n",
       "      <td>0.000000</td>\n",
       "      <td>NaN</td>\n",
       "      <td>NaN</td>\n",
       "      <td>0.000000</td>\n",
       "      <td>NaN</td>\n",
       "    </tr>\n",
       "    <tr>\n",
       "      <th>25%</th>\n",
       "      <td>0.000000</td>\n",
       "      <td>2.000000</td>\n",
       "      <td>NaN</td>\n",
       "      <td>NaN</td>\n",
       "      <td>22.000000</td>\n",
       "      <td>0.000000</td>\n",
       "      <td>0.000000</td>\n",
       "      <td>NaN</td>\n",
       "      <td>7.910400</td>\n",
       "      <td>NaN</td>\n",
       "      <td>NaN</td>\n",
       "      <td>0.000000</td>\n",
       "      <td>NaN</td>\n",
       "    </tr>\n",
       "    <tr>\n",
       "      <th>50%</th>\n",
       "      <td>0.000000</td>\n",
       "      <td>3.000000</td>\n",
       "      <td>NaN</td>\n",
       "      <td>NaN</td>\n",
       "      <td>29.699118</td>\n",
       "      <td>0.000000</td>\n",
       "      <td>0.000000</td>\n",
       "      <td>NaN</td>\n",
       "      <td>14.454200</td>\n",
       "      <td>NaN</td>\n",
       "      <td>NaN</td>\n",
       "      <td>1.000000</td>\n",
       "      <td>NaN</td>\n",
       "    </tr>\n",
       "    <tr>\n",
       "      <th>75%</th>\n",
       "      <td>1.000000</td>\n",
       "      <td>3.000000</td>\n",
       "      <td>NaN</td>\n",
       "      <td>NaN</td>\n",
       "      <td>35.000000</td>\n",
       "      <td>1.000000</td>\n",
       "      <td>0.000000</td>\n",
       "      <td>NaN</td>\n",
       "      <td>31.000000</td>\n",
       "      <td>NaN</td>\n",
       "      <td>NaN</td>\n",
       "      <td>1.000000</td>\n",
       "      <td>NaN</td>\n",
       "    </tr>\n",
       "    <tr>\n",
       "      <th>max</th>\n",
       "      <td>1.000000</td>\n",
       "      <td>3.000000</td>\n",
       "      <td>NaN</td>\n",
       "      <td>NaN</td>\n",
       "      <td>80.000000</td>\n",
       "      <td>8.000000</td>\n",
       "      <td>6.000000</td>\n",
       "      <td>NaN</td>\n",
       "      <td>512.329200</td>\n",
       "      <td>NaN</td>\n",
       "      <td>NaN</td>\n",
       "      <td>1.000000</td>\n",
       "      <td>NaN</td>\n",
       "    </tr>\n",
       "  </tbody>\n",
       "</table>\n",
       "</div>"
      ],
      "text/plain": [
       "          Survived      Pclass                     Name   Sex         Age  \\\n",
       "count   891.000000  891.000000                      891   891  891.000000   \n",
       "unique         NaN         NaN                      891     2         NaN   \n",
       "top            NaN         NaN  Braund, Mr. Owen Harris  male         NaN   \n",
       "freq           NaN         NaN                        1   577         NaN   \n",
       "mean      0.383838    2.308642                      NaN   NaN   29.699118   \n",
       "std       0.486592    0.836071                      NaN   NaN   13.002015   \n",
       "min       0.000000    1.000000                      NaN   NaN    0.420000   \n",
       "25%       0.000000    2.000000                      NaN   NaN   22.000000   \n",
       "50%       0.000000    3.000000                      NaN   NaN   29.699118   \n",
       "75%       1.000000    3.000000                      NaN   NaN   35.000000   \n",
       "max       1.000000    3.000000                      NaN   NaN   80.000000   \n",
       "\n",
       "             SibSp       Parch  Ticket        Fare Cabin Embarked     Sex_cat  \\\n",
       "count   891.000000  891.000000     891  891.000000   891      891  891.000000   \n",
       "unique         NaN         NaN     681         NaN   148        4         NaN   \n",
       "top            NaN         NaN  347082         NaN              S         NaN   \n",
       "freq           NaN         NaN       7         NaN   687      644         NaN   \n",
       "mean      0.523008    0.381594     NaN   32.204208   NaN      NaN    0.647587   \n",
       "std       1.102743    0.806057     NaN   49.693429   NaN      NaN    0.477990   \n",
       "min       0.000000    0.000000     NaN    0.000000   NaN      NaN    0.000000   \n",
       "25%       0.000000    0.000000     NaN    7.910400   NaN      NaN    0.000000   \n",
       "50%       0.000000    0.000000     NaN   14.454200   NaN      NaN    1.000000   \n",
       "75%       1.000000    0.000000     NaN   31.000000   NaN      NaN    1.000000   \n",
       "max       8.000000    6.000000     NaN  512.329200   NaN      NaN    1.000000   \n",
       "\n",
       "       AgeGroup  \n",
       "count       891  \n",
       "unique        4  \n",
       "top       Adult  \n",
       "freq        727  \n",
       "mean        NaN  \n",
       "std         NaN  \n",
       "min         NaN  \n",
       "25%         NaN  \n",
       "50%         NaN  \n",
       "75%         NaN  \n",
       "max         NaN  "
      ]
     },
     "execution_count": 14,
     "metadata": {},
     "output_type": "execute_result"
    }
   ],
   "source": [
    "train_data.iloc[:, 1:].describe(include='all')"
   ]
  },
  {
   "cell_type": "markdown",
   "id": "4e165a08",
   "metadata": {
    "papermill": {
     "duration": 0.015552,
     "end_time": "2022-11-02T10:27:20.003605",
     "exception": false,
     "start_time": "2022-11-02T10:27:19.988053",
     "status": "completed"
    },
    "tags": []
   },
   "source": [
    " #### According to the descriptive statistics table above-\n",
    "\n",
    "**Survived:**\n",
    "- Most of the passengers didn't survived (as we already know...), the mean = 0.3838 and the median = 0.\n",
    "\n",
    "**Ticket Class (Pclass):**\n",
    "- The mean = 2.3 and the median = 3, indicates that most tickets are for third class, and the minority are for first class.\n",
    "\n",
    "**Sex**\n",
    "- There are 577 male passengers and the rest are female.\n",
    "\n",
    "**Age/AgeGroup**\n",
    "- The average age is 29.699 and so the median, with a std of ~13. Most of the passengers are adults.\n",
    "\n",
    "**Number of Siblings/Spouses (SibSp)**\n",
    "- According to the mean and the median, most of the passengers came without their sibilig or spouses.\n",
    "\n",
    "**Number of Parents/Children (Parch)**\n",
    "- According to the mean and the median, most of the passengers came without their parents or children.\n",
    "\n",
    "**Fare**\n",
    "- It seems that most of the passengers paids for the trip below to 14.45 (A right skewed distribution, mean > median).\n",
    "\n",
    "**Cabin**\n",
    "- The mode of the cabin numer is unknown.\n",
    "\n",
    "**Embarked**\n",
    "- There three port of embarkation: C = Cherbourg, Q = Queenstown, S = Southampton. The common one is Southampton."
   ]
  },
  {
   "cell_type": "code",
   "execution_count": 15,
   "id": "f309a2cf",
   "metadata": {
    "execution": {
     "iopub.execute_input": "2022-11-02T10:27:20.037226Z",
     "iopub.status.busy": "2022-11-02T10:27:20.036806Z",
     "iopub.status.idle": "2022-11-02T10:27:20.462535Z",
     "shell.execute_reply": "2022-11-02T10:27:20.461551Z"
    },
    "papermill": {
     "duration": 0.445271,
     "end_time": "2022-11-02T10:27:20.464797",
     "exception": false,
     "start_time": "2022-11-02T10:27:20.019526",
     "status": "completed"
    },
    "tags": []
   },
   "outputs": [
    {
     "data": {
      "text/plain": [
       "<AxesSubplot:>"
      ]
     },
     "execution_count": 15,
     "metadata": {},
     "output_type": "execute_result"
    },
    {
     "data": {
      "image/png": "[encoded data removed]",
      "text/plain": [
       "<Figure size 432x288 with 2 Axes>"
      ]
     },
     "metadata": {
      "needs_background": "light"
     },
     "output_type": "display_data"
    }
   ],
   "source": [
    "corr = train_data.corr()\n",
    "mask = np.triu(np.ones_like(corr))\n",
    "\n",
    "sns.heatmap(corr, mask = mask, annot = True)"
   ]
  },
  {
   "cell_type": "markdown",
   "id": "57599839",
   "metadata": {
    "papermill": {
     "duration": 0.016538,
     "end_time": "2022-11-02T10:27:20.498364",
     "exception": false,
     "start_time": "2022-11-02T10:27:20.481826",
     "status": "completed"
    },
    "tags": []
   },
   "source": [
    "We can see a moderately negative correlation between the Sex variable ( = Sex_cat) and the Survived variable."
   ]
  },
  {
   "cell_type": "markdown",
   "id": "4f873ae2",
   "metadata": {
    "papermill": {
     "duration": 0.01635,
     "end_time": "2022-11-02T10:27:20.531457",
     "exception": false,
     "start_time": "2022-11-02T10:27:20.515107",
     "status": "completed"
    },
    "tags": []
   },
   "source": [
    "### Data Visualization\n",
    "Helps us to understand better how the data are behaving"
   ]
  },
  {
   "cell_type": "code",
   "execution_count": 16,
   "id": "2a3c26e7",
   "metadata": {
    "execution": {
     "iopub.execute_input": "2022-11-02T10:27:20.567819Z",
     "iopub.status.busy": "2022-11-02T10:27:20.566952Z",
     "iopub.status.idle": "2022-11-02T10:27:21.961807Z",
     "shell.execute_reply": "2022-11-02T10:27:21.960462Z"
    },
    "papermill": {
     "duration": 1.41611,
     "end_time": "2022-11-02T10:27:21.964433",
     "exception": false,
     "start_time": "2022-11-02T10:27:20.548323",
     "status": "completed"
    },
    "tags": []
   },
   "outputs": [
    {
     "data": {
      "text/plain": [
       "Text(0.5, 1.0, 'Passenger fare')"
      ]
     },
     "execution_count": 16,
     "metadata": {},
     "output_type": "execute_result"
    },
    {
     "data": {
      "image/png": "[encoded data removed]",
      "text/plain": [
       "<Figure size 1080x1440 with 7 Axes>"
      ]
     },
     "metadata": {
      "needs_background": "light"
     },
     "output_type": "display_data"
    }
   ],
   "source": [
    "plt.figure(figsize = (15,20))\n",
    "\n",
    "plt.subplot(3, 3, 1)\n",
    "sns.countplot(x = 'Survived', data = train_data)\n",
    "plt.title(\"How Many Survived\")\n",
    "\n",
    "plt.subplot(3, 3, 2)\n",
    "sns.countplot(x = \"Sex\", data = train_data)\n",
    "plt.title(\"Sex Counting\")\n",
    "\n",
    "plt.subplot(3, 3, 3)\n",
    "sns.histplot(x = \"Age\", data = train_data, kde = True)\n",
    "plt.title(\"Age Distribution\")\n",
    "\n",
    "plt.subplot(3, 3, 4)\n",
    "sns.countplot(x = 'Pclass', data = train_data)\n",
    "plt.title('Ticket Class')\n",
    "\n",
    "plt.subplot(3, 3, 5)\n",
    "sns.countplot(x = 'SibSp', data = train_data)\n",
    "plt.title(\"# of siblings / spouses\\naboard the Titanic\")\n",
    "\n",
    "plt.subplot(3, 3, 6)\n",
    "sns.countplot(x = 'Parch', data = train_data)\n",
    "plt.title('# of parents / children\\naboard the Titanic')\n",
    "\n",
    "plt.subplot(3, 3, 7)\n",
    "sns.histplot(x = 'Fare', data = train_data, kde = True)\n",
    "plt.title('Passenger fare')"
   ]
  },
  {
   "cell_type": "markdown",
   "id": "4ddaffea",
   "metadata": {
    "papermill": {
     "duration": 0.01734,
     "end_time": "2022-11-02T10:27:22.000290",
     "exception": false,
     "start_time": "2022-11-02T10:27:21.982950",
     "status": "completed"
    },
    "tags": []
   },
   "source": [
    "#### We want to evaluate which features are affecting the chance to survive.\n",
    "#### Accordingly, let's visually examine the connection."
   ]
  },
  {
   "cell_type": "markdown",
   "id": "ebf1a4ec",
   "metadata": {
    "papermill": {
     "duration": 0.017469,
     "end_time": "2022-11-02T10:27:22.035682",
     "exception": false,
     "start_time": "2022-11-02T10:27:22.018213",
     "status": "completed"
    },
    "tags": []
   },
   "source": [
    "**Survived ~ Sex**"
   ]
  },
  {
   "cell_type": "code",
   "execution_count": 17,
   "id": "90775792",
   "metadata": {
    "execution": {
     "iopub.execute_input": "2022-11-02T10:27:22.072454Z",
     "iopub.status.busy": "2022-11-02T10:27:22.072025Z",
     "iopub.status.idle": "2022-11-02T10:27:22.294669Z",
     "shell.execute_reply": "2022-11-02T10:27:22.293732Z"
    },
    "papermill": {
     "duration": 0.244134,
     "end_time": "2022-11-02T10:27:22.297278",
     "exception": false,
     "start_time": "2022-11-02T10:27:22.053144",
     "status": "completed"
    },
    "tags": []
   },
   "outputs": [
    {
     "name": "stdout",
     "output_type": "stream",
     "text": [
      "% of men who survived: 0.18890814558058924\n",
      "% of women who survived: 0.7420382165605095\n"
     ]
    },
    {
     "data": {
      "text/plain": [
       "<AxesSubplot:xlabel='Sex', ylabel='count'>"
      ]
     },
     "execution_count": 17,
     "metadata": {},
     "output_type": "execute_result"
    },
    {
     "data": {
      "image/png": "[encoded data removed]",
      "text/plain": [
       "<Figure size 432x288 with 1 Axes>"
      ]
     },
     "metadata": {
      "needs_background": "light"
     },
     "output_type": "display_data"
    }
   ],
   "source": [
    "women = train_data.loc[train_data.Sex == \"female\"]['Survived']\n",
    "rate_women = sum(women) / len(women)\n",
    "\n",
    "men = train_data.loc[train_data.Sex == \"male\"]['Survived']\n",
    "rate_men = sum(men) / len(men)\n",
    "\n",
    "print(\"% of men who survived:\", rate_men)\n",
    "print(\"% of women who survived:\", rate_women)\n",
    "\n",
    "sns.countplot(x = 'Sex', data = train_data, hue = 'Survived')"
   ]
  },
  {
   "cell_type": "markdown",
   "id": "5f17989e",
   "metadata": {
    "papermill": {
     "duration": 0.021361,
     "end_time": "2022-11-02T10:27:22.338322",
     "exception": false,
     "start_time": "2022-11-02T10:27:22.316961",
     "status": "completed"
    },
    "tags": []
   },
   "source": [
    "**Survived ~ Ticket Class (Pclass)**"
   ]
  },
  {
   "cell_type": "code",
   "execution_count": 18,
   "id": "6f84e8da",
   "metadata": {
    "execution": {
     "iopub.execute_input": "2022-11-02T10:27:22.377741Z",
     "iopub.status.busy": "2022-11-02T10:27:22.377287Z",
     "iopub.status.idle": "2022-11-02T10:27:22.628632Z",
     "shell.execute_reply": "2022-11-02T10:27:22.627390Z"
    },
    "papermill": {
     "duration": 0.273921,
     "end_time": "2022-11-02T10:27:22.631341",
     "exception": false,
     "start_time": "2022-11-02T10:27:22.357420",
     "status": "completed"
    },
    "tags": []
   },
   "outputs": [
    {
     "name": "stdout",
     "output_type": "stream",
     "text": [
      "% of class 1 who survived: 0.6296296296296297\n",
      "% of class 2 who survived: 0.47282608695652173\n",
      "% of class 3 who survived: 0.24236252545824846\n"
     ]
    },
    {
     "data": {
      "text/plain": [
       "<AxesSubplot:xlabel='Pclass', ylabel='count'>"
      ]
     },
     "execution_count": 18,
     "metadata": {},
     "output_type": "execute_result"
    },
    {
     "data": {
      "image/png": "[encoded data removed]",
      "text/plain": [
       "<Figure size 432x288 with 1 Axes>"
      ]
     },
     "metadata": {
      "needs_background": "light"
     },
     "output_type": "display_data"
    }
   ],
   "source": [
    "class1 = train_data.loc[train_data.Pclass == 1]['Survived']\n",
    "rate_class1 = sum(class1) / len(class1)\n",
    "\n",
    "class2 = train_data.loc[train_data.Pclass == 2]['Survived']\n",
    "rate_class2 = sum(class2) / len(class2)\n",
    "\n",
    "class3 = train_data.loc[train_data.Pclass == 3]['Survived']\n",
    "rate_class3 = sum(class3) / len(class3)\n",
    "\n",
    "print(\"% of class 1 who survived:\", rate_class1)\n",
    "print(\"% of class 2 who survived:\", rate_class2)\n",
    "print(\"% of class 3 who survived:\", rate_class3)\n",
    "\n",
    "sns.countplot(x = 'Pclass', data = train_data, hue = 'Survived')"
   ]
  },
  {
   "cell_type": "markdown",
   "id": "dfc1380a",
   "metadata": {
    "papermill": {
     "duration": 0.018127,
     "end_time": "2022-11-02T10:27:22.668641",
     "exception": false,
     "start_time": "2022-11-02T10:27:22.650514",
     "status": "completed"
    },
    "tags": []
   },
   "source": [
    "**Survived ~ # of Parents/Children (Parch)**"
   ]
  },
  {
   "cell_type": "code",
   "execution_count": 19,
   "id": "fc5536e5",
   "metadata": {
    "execution": {
     "iopub.execute_input": "2022-11-02T10:27:22.708350Z",
     "iopub.status.busy": "2022-11-02T10:27:22.707636Z",
     "iopub.status.idle": "2022-11-02T10:27:22.978192Z",
     "shell.execute_reply": "2022-11-02T10:27:22.977036Z"
    },
    "papermill": {
     "duration": 0.293128,
     "end_time": "2022-11-02T10:27:22.980545",
     "exception": false,
     "start_time": "2022-11-02T10:27:22.687417",
     "status": "completed"
    },
    "tags": []
   },
   "outputs": [
    {
     "name": "stdout",
     "output_type": "stream",
     "text": [
      "% of passengers who have  0  of parents/children aboard the Titanic that survived: 0.34365781710914456\n",
      "% of passengers who have  1  of parents/children aboard the Titanic that survived: 0.5508474576271186\n",
      "% of passengers who have  2  of parents/children aboard the Titanic that survived: 0.5\n",
      "% of passengers who have  5  of parents/children aboard the Titanic that survived: 0.2\n",
      "% of passengers who have  3  of parents/children aboard the Titanic that survived: 0.6\n",
      "% of passengers who have  4  of parents/children aboard the Titanic that survived: 0.0\n",
      "% of passengers who have  6  of parents/children aboard the Titanic that survived: 0.0\n"
     ]
    },
    {
     "data": {
      "text/plain": [
       "<matplotlib.legend.Legend at 0x7fc35ba9cc50>"
      ]
     },
     "execution_count": 19,
     "metadata": {},
     "output_type": "execute_result"
    },
    {
     "data": {
      "image/png": "[encoded data removed]",
      "text/plain": [
       "<Figure size 432x288 with 1 Axes>"
      ]
     },
     "metadata": {
      "needs_background": "light"
     },
     "output_type": "display_data"
    }
   ],
   "source": [
    "for i in train_data.Parch.unique():\n",
    "    temp_survived = train_data.loc[train_data.Parch == i]['Survived']\n",
    "    rate = sum(temp_survived) / len(temp_survived)\n",
    "    print(\"% of passengers who have \", i, \" of parents/children aboard the Titanic that survived:\", rate)\n",
    "    \n",
    "sns.countplot(x = 'Parch', data = train_data, hue = 'Survived')\n",
    "plt.legend(title = 'Survived', loc='upper right')\n"
   ]
  },
  {
   "cell_type": "markdown",
   "id": "29461a33",
   "metadata": {
    "papermill": {
     "duration": 0.018818,
     "end_time": "2022-11-02T10:27:23.018969",
     "exception": false,
     "start_time": "2022-11-02T10:27:23.000151",
     "status": "completed"
    },
    "tags": []
   },
   "source": [
    "**Survived ~ # of Sibiling/Spouses (SibSp)**"
   ]
  },
  {
   "cell_type": "code",
   "execution_count": 20,
   "id": "6a68b6bb",
   "metadata": {
    "execution": {
     "iopub.execute_input": "2022-11-02T10:27:23.059483Z",
     "iopub.status.busy": "2022-11-02T10:27:23.059049Z",
     "iopub.status.idle": "2022-11-02T10:27:23.487658Z",
     "shell.execute_reply": "2022-11-02T10:27:23.486409Z"
    },
    "papermill": {
     "duration": 0.452431,
     "end_time": "2022-11-02T10:27:23.490374",
     "exception": false,
     "start_time": "2022-11-02T10:27:23.037943",
     "status": "completed"
    },
    "tags": []
   },
   "outputs": [
    {
     "name": "stdout",
     "output_type": "stream",
     "text": [
      "% of passengers who have  1  of siblings/spouses aboard the Titanic that survived: 0.5358851674641149\n",
      "% of passengers who have  0  of siblings/spouses aboard the Titanic that survived: 0.34539473684210525\n",
      "% of passengers who have  3  of siblings/spouses aboard the Titanic that survived: 0.25\n",
      "% of passengers who have  4  of siblings/spouses aboard the Titanic that survived: 0.16666666666666666\n",
      "% of passengers who have  2  of siblings/spouses aboard the Titanic that survived: 0.4642857142857143\n",
      "% of passengers who have  5  of siblings/spouses aboard the Titanic that survived: 0.0\n",
      "% of passengers who have  8  of siblings/spouses aboard the Titanic that survived: 0.0\n"
     ]
    },
    {
     "data": {
      "text/plain": [
       "<matplotlib.legend.Legend at 0x7fc35b597fd0>"
      ]
     },
     "execution_count": 20,
     "metadata": {},
     "output_type": "execute_result"
    },
    {
     "data": {
      "image/png": "[encoded data removed]",
      "text/plain": [
       "<Figure size 432x288 with 1 Axes>"
      ]
     },
     "metadata": {
      "needs_background": "light"
     },
     "output_type": "display_data"
    }
   ],
   "source": [
    "for i in train_data.SibSp.unique():\n",
    "    temp_survived = train_data.loc[train_data.SibSp == i]['Survived']\n",
    "    rate = sum(temp_survived) / len(temp_survived)\n",
    "    print(\"% of passengers who have \", i, \" of siblings/spouses aboard the Titanic that survived:\", rate)\n",
    "    \n",
    "\n",
    "sns.countplot(x = 'SibSp', data = train_data, hue = 'Survived')\n",
    "plt.legend(title = 'Survived', loc='upper right')"
   ]
  },
  {
   "cell_type": "markdown",
   "id": "276cd0ec",
   "metadata": {
    "papermill": {
     "duration": 0.019053,
     "end_time": "2022-11-02T10:27:23.529124",
     "exception": false,
     "start_time": "2022-11-02T10:27:23.510071",
     "status": "completed"
    },
    "tags": []
   },
   "source": [
    "**Survived ~ Age**"
   ]
  },
  {
   "cell_type": "code",
   "execution_count": 21,
   "id": "5c9226a7",
   "metadata": {
    "execution": {
     "iopub.execute_input": "2022-11-02T10:27:23.569786Z",
     "iopub.status.busy": "2022-11-02T10:27:23.569342Z",
     "iopub.status.idle": "2022-11-02T10:27:23.809773Z",
     "shell.execute_reply": "2022-11-02T10:27:23.808461Z"
    },
    "papermill": {
     "duration": 0.264099,
     "end_time": "2022-11-02T10:27:23.812693",
     "exception": false,
     "start_time": "2022-11-02T10:27:23.548594",
     "status": "completed"
    },
    "tags": []
   },
   "outputs": [
    {
     "name": "stdout",
     "output_type": "stream",
     "text": [
      "% of Adults that survived: 0.36176066024759285\n",
      "% of Infants that survived: 0.6666666666666666\n",
      "% of Teens that survived: 0.4105263157894737\n",
      "% of Kids that survived: 0.5128205128205128\n"
     ]
    },
    {
     "data": {
      "text/plain": [
       "<AxesSubplot:xlabel='AgeGroup', ylabel='count'>"
      ]
     },
     "execution_count": 21,
     "metadata": {},
     "output_type": "execute_result"
    },
    {
     "data": {
      "image/png": "[encoded data removed]",
      "text/plain": [
       "<Figure size 432x288 with 1 Axes>"
      ]
     },
     "metadata": {
      "needs_background": "light"
     },
     "output_type": "display_data"
    }
   ],
   "source": [
    "for i in train_data.AgeGroup.unique():\n",
    "    temp_survived = train_data.loc[train_data.AgeGroup == i]['Survived']\n",
    "    rate = sum(temp_survived) / len(temp_survived)\n",
    "    print(\"% of\", i + 's', \"that survived:\", rate)\n",
    "\n",
    "sns.countplot(x = 'AgeGroup', data = train_data, hue = 'Survived')"
   ]
  },
  {
   "cell_type": "markdown",
   "id": "8dafe14b",
   "metadata": {
    "papermill": {
     "duration": 0.019233,
     "end_time": "2022-11-02T10:27:23.851686",
     "exception": false,
     "start_time": "2022-11-02T10:27:23.832453",
     "status": "completed"
    },
    "tags": []
   },
   "source": [
    "###### The features- PassengerId, Name, Number of Ticket, Cabin, Embarked and Fare, are not affectingin in any way the chance to survive or not."
   ]
  },
  {
   "cell_type": "markdown",
   "id": "26fd2699",
   "metadata": {
    "papermill": {
     "duration": 0.019516,
     "end_time": "2022-11-02T10:27:23.890808",
     "exception": false,
     "start_time": "2022-11-02T10:27:23.871292",
     "status": "completed"
    },
    "tags": []
   },
   "source": [
    "# **Model Building**"
   ]
  },
  {
   "cell_type": "markdown",
   "id": "73b6c906",
   "metadata": {
    "papermill": {
     "duration": 0.01937,
     "end_time": "2022-11-02T10:27:23.930131",
     "exception": false,
     "start_time": "2022-11-02T10:27:23.910761",
     "status": "completed"
    },
    "tags": []
   },
   "source": [
    "### Data Preparation\n",
    "Before using the classification models, let's prepered our data:"
   ]
  },
  {
   "cell_type": "code",
   "execution_count": 22,
   "id": "dd82006e",
   "metadata": {
    "execution": {
     "iopub.execute_input": "2022-11-02T10:27:23.971091Z",
     "iopub.status.busy": "2022-11-02T10:27:23.970702Z",
     "iopub.status.idle": "2022-11-02T10:27:23.987491Z",
     "shell.execute_reply": "2022-11-02T10:27:23.986378Z"
    },
    "papermill": {
     "duration": 0.040134,
     "end_time": "2022-11-02T10:27:23.990003",
     "exception": false,
     "start_time": "2022-11-02T10:27:23.949869",
     "status": "completed"
    },
    "tags": []
   },
   "outputs": [
    {
     "data": {
      "text/html": [
       "<div>\n",
       "<style scoped>\n",
       "    .dataframe tbody tr th:only-of-type {\n",
       "        vertical-align: middle;\n",
       "    }\n",
       "\n",
       "    .dataframe tbody tr th {\n",
       "        vertical-align: top;\n",
       "    }\n",
       "\n",
       "    .dataframe thead th {\n",
       "        text-align: right;\n",
       "    }\n",
       "</style>\n",
       "<table border=\"1\" class=\"dataframe\">\n",
       "  <thead>\n",
       "    <tr style=\"text-align: right;\">\n",
       "      <th></th>\n",
       "      <th>Sex_cat</th>\n",
       "      <th>Pclass</th>\n",
       "      <th>SibSp</th>\n",
       "      <th>Parch</th>\n",
       "      <th>Age</th>\n",
       "    </tr>\n",
       "  </thead>\n",
       "  <tbody>\n",
       "    <tr>\n",
       "      <th>0</th>\n",
       "      <td>1</td>\n",
       "      <td>3</td>\n",
       "      <td>1</td>\n",
       "      <td>0</td>\n",
       "      <td>22.000000</td>\n",
       "    </tr>\n",
       "    <tr>\n",
       "      <th>1</th>\n",
       "      <td>0</td>\n",
       "      <td>1</td>\n",
       "      <td>1</td>\n",
       "      <td>0</td>\n",
       "      <td>38.000000</td>\n",
       "    </tr>\n",
       "    <tr>\n",
       "      <th>2</th>\n",
       "      <td>0</td>\n",
       "      <td>3</td>\n",
       "      <td>0</td>\n",
       "      <td>0</td>\n",
       "      <td>26.000000</td>\n",
       "    </tr>\n",
       "    <tr>\n",
       "      <th>3</th>\n",
       "      <td>0</td>\n",
       "      <td>1</td>\n",
       "      <td>1</td>\n",
       "      <td>0</td>\n",
       "      <td>35.000000</td>\n",
       "    </tr>\n",
       "    <tr>\n",
       "      <th>4</th>\n",
       "      <td>1</td>\n",
       "      <td>3</td>\n",
       "      <td>0</td>\n",
       "      <td>0</td>\n",
       "      <td>35.000000</td>\n",
       "    </tr>\n",
       "    <tr>\n",
       "      <th>...</th>\n",
       "      <td>...</td>\n",
       "      <td>...</td>\n",
       "      <td>...</td>\n",
       "      <td>...</td>\n",
       "      <td>...</td>\n",
       "    </tr>\n",
       "    <tr>\n",
       "      <th>886</th>\n",
       "      <td>1</td>\n",
       "      <td>2</td>\n",
       "      <td>0</td>\n",
       "      <td>0</td>\n",
       "      <td>27.000000</td>\n",
       "    </tr>\n",
       "    <tr>\n",
       "      <th>887</th>\n",
       "      <td>0</td>\n",
       "      <td>1</td>\n",
       "      <td>0</td>\n",
       "      <td>0</td>\n",
       "      <td>19.000000</td>\n",
       "    </tr>\n",
       "    <tr>\n",
       "      <th>888</th>\n",
       "      <td>0</td>\n",
       "      <td>3</td>\n",
       "      <td>1</td>\n",
       "      <td>2</td>\n",
       "      <td>29.699118</td>\n",
       "    </tr>\n",
       "    <tr>\n",
       "      <th>889</th>\n",
       "      <td>1</td>\n",
       "      <td>1</td>\n",
       "      <td>0</td>\n",
       "      <td>0</td>\n",
       "      <td>26.000000</td>\n",
       "    </tr>\n",
       "    <tr>\n",
       "      <th>890</th>\n",
       "      <td>1</td>\n",
       "      <td>3</td>\n",
       "      <td>0</td>\n",
       "      <td>0</td>\n",
       "      <td>32.000000</td>\n",
       "    </tr>\n",
       "  </tbody>\n",
       "</table>\n",
       "<p>891 rows × 5 columns</p>\n",
       "</div>"
      ],
      "text/plain": [
       "     Sex_cat  Pclass  SibSp  Parch        Age\n",
       "0          1       3      1      0  22.000000\n",
       "1          0       1      1      0  38.000000\n",
       "2          0       3      0      0  26.000000\n",
       "3          0       1      1      0  35.000000\n",
       "4          1       3      0      0  35.000000\n",
       "..       ...     ...    ...    ...        ...\n",
       "886        1       2      0      0  27.000000\n",
       "887        0       1      0      0  19.000000\n",
       "888        0       3      1      2  29.699118\n",
       "889        1       1      0      0  26.000000\n",
       "890        1       3      0      0  32.000000\n",
       "\n",
       "[891 rows x 5 columns]"
      ]
     },
     "execution_count": 22,
     "metadata": {},
     "output_type": "execute_result"
    }
   ],
   "source": [
    "X = train_data.loc[:, (\"Sex_cat\", \"Pclass\", \"SibSp\", \"Parch\", \"Age\")]\n",
    "y = train_data[\"Survived\"].values\n",
    "X"
   ]
  },
  {
   "cell_type": "code",
   "execution_count": 23,
   "id": "9560ec99",
   "metadata": {
    "execution": {
     "iopub.execute_input": "2022-11-02T10:27:24.031732Z",
     "iopub.status.busy": "2022-11-02T10:27:24.031307Z",
     "iopub.status.idle": "2022-11-02T10:27:24.044605Z",
     "shell.execute_reply": "2022-11-02T10:27:24.043463Z"
    },
    "papermill": {
     "duration": 0.036873,
     "end_time": "2022-11-02T10:27:24.047042",
     "exception": false,
     "start_time": "2022-11-02T10:27:24.010169",
     "status": "completed"
    },
    "tags": []
   },
   "outputs": [
    {
     "data": {
      "text/plain": [
       "array([[ 0.73769513,  0.82737724,  0.43279337, -0.47367361, -0.5924806 ],\n",
       "       [-1.35557354, -1.56610693,  0.43279337, -0.47367361,  0.63878901],\n",
       "       [-1.35557354,  0.82737724, -0.4745452 , -0.47367361, -0.2846632 ],\n",
       "       ...,\n",
       "       [-1.35557354,  0.82737724,  0.43279337,  2.00893337,  0.        ],\n",
       "       [ 0.73769513, -1.56610693, -0.4745452 , -0.47367361, -0.2846632 ],\n",
       "       [ 0.73769513,  0.82737724, -0.4745452 , -0.47367361,  0.17706291]])"
      ]
     },
     "execution_count": 23,
     "metadata": {},
     "output_type": "execute_result"
    }
   ],
   "source": [
    "# feature scaling\n",
    "from sklearn.preprocessing import StandardScaler\n",
    "sc = StandardScaler()\n",
    "X = sc.fit_transform(X)\n",
    "X"
   ]
  },
  {
   "cell_type": "markdown",
   "id": "ac989ff8",
   "metadata": {
    "papermill": {
     "duration": 0.019664,
     "end_time": "2022-11-02T10:27:24.086868",
     "exception": false,
     "start_time": "2022-11-02T10:27:24.067204",
     "status": "completed"
    },
    "tags": []
   },
   "source": [
    "## **Model Selection**"
   ]
  },
  {
   "cell_type": "code",
   "execution_count": 24,
   "id": "fe1d94f5",
   "metadata": {
    "execution": {
     "iopub.execute_input": "2022-11-02T10:27:24.128943Z",
     "iopub.status.busy": "2022-11-02T10:27:24.128511Z",
     "iopub.status.idle": "2022-11-02T10:27:24.133641Z",
     "shell.execute_reply": "2022-11-02T10:27:24.132502Z"
    },
    "papermill": {
     "duration": 0.029122,
     "end_time": "2022-11-02T10:27:24.136099",
     "exception": false,
     "start_time": "2022-11-02T10:27:24.106977",
     "status": "completed"
    },
    "tags": []
   },
   "outputs": [],
   "source": [
    "from sklearn.model_selection import cross_val_score"
   ]
  },
  {
   "cell_type": "code",
   "execution_count": 25,
   "id": "70f98f51",
   "metadata": {
    "execution": {
     "iopub.execute_input": "2022-11-02T10:27:24.178213Z",
     "iopub.status.busy": "2022-11-02T10:27:24.177831Z",
     "iopub.status.idle": "2022-11-02T10:27:24.183095Z",
     "shell.execute_reply": "2022-11-02T10:27:24.181799Z"
    },
    "papermill": {
     "duration": 0.029354,
     "end_time": "2022-11-02T10:27:24.185518",
     "exception": false,
     "start_time": "2022-11-02T10:27:24.156164",
     "status": "completed"
    },
    "tags": []
   },
   "outputs": [],
   "source": [
    "models_accuracy_scores = {}"
   ]
  },
  {
   "cell_type": "markdown",
   "id": "d064b844",
   "metadata": {
    "papermill": {
     "duration": 0.020275,
     "end_time": "2022-11-02T10:27:24.226382",
     "exception": false,
     "start_time": "2022-11-02T10:27:24.206107",
     "status": "completed"
    },
    "tags": []
   },
   "source": [
    "## **Logistic Regression**"
   ]
  },
  {
   "cell_type": "code",
   "execution_count": 26,
   "id": "31b36aa2",
   "metadata": {
    "execution": {
     "iopub.execute_input": "2022-11-02T10:27:24.269458Z",
     "iopub.status.busy": "2022-11-02T10:27:24.269039Z",
     "iopub.status.idle": "2022-11-02T10:27:24.336004Z",
     "shell.execute_reply": "2022-11-02T10:27:24.334544Z"
    },
    "papermill": {
     "duration": 0.092477,
     "end_time": "2022-11-02T10:27:24.339350",
     "exception": false,
     "start_time": "2022-11-02T10:27:24.246873",
     "status": "completed"
    },
    "tags": []
   },
   "outputs": [
    {
     "name": "stdout",
     "output_type": "stream",
     "text": [
      "0.7878526841448189 0.02553551899953366\n"
     ]
    }
   ],
   "source": [
    "from sklearn.linear_model import LogisticRegression\n",
    "logistic_classifier = LogisticRegression(random_state=0)\n",
    "logistic_accuracies = cross_val_score(logistic_classifier, X, y, cv = 10, scoring = 'accuracy')\n",
    "logistic_score = logistic_accuracies.mean()\n",
    "logistic_std = logistic_accuracies.std()\n",
    "print(logistic_score, logistic_std)"
   ]
  },
  {
   "cell_type": "code",
   "execution_count": 27,
   "id": "9ca0d41a",
   "metadata": {
    "execution": {
     "iopub.execute_input": "2022-11-02T10:27:24.382533Z",
     "iopub.status.busy": "2022-11-02T10:27:24.382078Z",
     "iopub.status.idle": "2022-11-02T10:27:24.387716Z",
     "shell.execute_reply": "2022-11-02T10:27:24.386396Z"
    },
    "papermill": {
     "duration": 0.029981,
     "end_time": "2022-11-02T10:27:24.390221",
     "exception": false,
     "start_time": "2022-11-02T10:27:24.360240",
     "status": "completed"
    },
    "tags": []
   },
   "outputs": [],
   "source": [
    "models_accuracy_scores[\"Logistic Regression\"] = [logistic_score, logistic_std]"
   ]
  },
  {
   "cell_type": "markdown",
   "id": "b71a5bcf",
   "metadata": {
    "papermill": {
     "duration": 0.020099,
     "end_time": "2022-11-02T10:27:24.430872",
     "exception": false,
     "start_time": "2022-11-02T10:27:24.410773",
     "status": "completed"
    },
    "tags": []
   },
   "source": [
    "## **K-NN**"
   ]
  },
  {
   "cell_type": "code",
   "execution_count": 28,
   "id": "c6ba8807",
   "metadata": {
    "execution": {
     "iopub.execute_input": "2022-11-02T10:27:24.473409Z",
     "iopub.status.busy": "2022-11-02T10:27:24.473000Z",
     "iopub.status.idle": "2022-11-02T10:27:26.138456Z",
     "shell.execute_reply": "2022-11-02T10:27:26.136964Z"
    },
    "papermill": {
     "duration": 1.689989,
     "end_time": "2022-11-02T10:27:26.141153",
     "exception": false,
     "start_time": "2022-11-02T10:27:24.451164",
     "status": "completed"
    },
    "tags": []
   },
   "outputs": [
    {
     "name": "stdout",
     "output_type": "stream",
     "text": [
      "[0.7610362047440699, 0.8013982521847691, 0.8081647940074907, 0.8205243445692885, 0.8137827715355804, 0.810461922596754, 0.8104244694132333, 0.8059051186017477, 0.8058801498127341, 0.8047565543071162, 0.8092634207240949, 0.8081148564294633, 0.8081273408239701, 0.8024968789013732, 0.8024968789013733, 0.8024594257178528, 0.8035955056179775, 0.8069538077403247, 0.8170661672908863, 0.8136953807740325, 0.8193008739076154, 0.8170661672908863, 0.8181647940074905, 0.8170536828963796, 0.8204369538077403, 0.8226716604244693, 0.8193008739076154, 0.8181772784019975, 0.8170661672908863, 0.8204369538077405]\n"
     ]
    }
   ],
   "source": [
    "# search for an optimal value of k for K-NN\n",
    "from sklearn.neighbors import KNeighborsClassifier\n",
    "k_range = range(1,31)\n",
    "k_scores = []\n",
    "for k in k_range:\n",
    "    knn = KNeighborsClassifier(n_neighbors=k, metric='minkowski', p=2)\n",
    "    scores = cross_val_score(knn, X, y, cv = 10, scoring = 'accuracy')\n",
    "    k_scores.append(scores.mean())\n",
    "print(k_scores)"
   ]
  },
  {
   "cell_type": "code",
   "execution_count": 29,
   "id": "5e9c045c",
   "metadata": {
    "execution": {
     "iopub.execute_input": "2022-11-02T10:27:26.183413Z",
     "iopub.status.busy": "2022-11-02T10:27:26.182989Z",
     "iopub.status.idle": "2022-11-02T10:27:26.415360Z",
     "shell.execute_reply": "2022-11-02T10:27:26.414529Z"
    },
    "papermill": {
     "duration": 0.256337,
     "end_time": "2022-11-02T10:27:26.417795",
     "exception": false,
     "start_time": "2022-11-02T10:27:26.161458",
     "status": "completed"
    },
    "tags": []
   },
   "outputs": [
    {
     "data": {
      "text/plain": [
       "Text(0, 0.5, 'Cross-Validated Accuracy')"
      ]
     },
     "execution_count": 29,
     "metadata": {},
     "output_type": "execute_result"
    },
    {
     "data": {
      "image/png": "[encoded data removed]",
      "text/plain": [
       "<Figure size 432x288 with 1 Axes>"
      ]
     },
     "metadata": {
      "needs_background": "light"
     },
     "output_type": "display_data"
    }
   ],
   "source": [
    "# plot the value of k for K-NN (x axis) versus the cross-validated accuracy (y axis)\n",
    "plt.plot(k_range, k_scores)\n",
    "plt.xlabel('Value of k')\n",
    "plt.ylabel('Cross-Validated Accuracy')"
   ]
  },
  {
   "cell_type": "markdown",
   "id": "34226b99",
   "metadata": {
    "papermill": {
     "duration": 0.020593,
     "end_time": "2022-11-02T10:27:26.459600",
     "exception": false,
     "start_time": "2022-11-02T10:27:26.439007",
     "status": "completed"
    },
    "tags": []
   },
   "source": [
    "The optimal value of k is 27 with 0.786729 accuracy score"
   ]
  },
  {
   "cell_type": "code",
   "execution_count": 30,
   "id": "e91dd221",
   "metadata": {
    "execution": {
     "iopub.execute_input": "2022-11-02T10:27:26.504283Z",
     "iopub.status.busy": "2022-11-02T10:27:26.503049Z",
     "iopub.status.idle": "2022-11-02T10:27:26.568860Z",
     "shell.execute_reply": "2022-11-02T10:27:26.567453Z"
    },
    "papermill": {
     "duration": 0.091092,
     "end_time": "2022-11-02T10:27:26.571819",
     "exception": false,
     "start_time": "2022-11-02T10:27:26.480727",
     "status": "completed"
    },
    "tags": []
   },
   "outputs": [
    {
     "name": "stdout",
     "output_type": "stream",
     "text": [
      "0.8226716604244693\n"
     ]
    }
   ],
   "source": [
    "knn_classifier = KNeighborsClassifier(n_neighbors=26, metric='minkowski', p=2)\n",
    "knn_accuracies = cross_val_score(knn_classifier, X, y, cv = 10, scoring = 'accuracy')\n",
    "knn_score = knn_accuracies.mean()\n",
    "knn_std = knn_accuracies.std()\n",
    "print(knn_score)\n",
    "models_accuracy_scores[\"K-NN\"] = [knn_score, knn_std]"
   ]
  },
  {
   "cell_type": "markdown",
   "id": "e731bea8",
   "metadata": {
    "papermill": {
     "duration": 0.021527,
     "end_time": "2022-11-02T10:27:26.614488",
     "exception": false,
     "start_time": "2022-11-02T10:27:26.592961",
     "status": "completed"
    },
    "tags": []
   },
   "source": [
    "## **SVM**"
   ]
  },
  {
   "cell_type": "code",
   "execution_count": 31,
   "id": "0d540f28",
   "metadata": {
    "execution": {
     "iopub.execute_input": "2022-11-02T10:27:26.659292Z",
     "iopub.status.busy": "2022-11-02T10:27:26.658566Z",
     "iopub.status.idle": "2022-11-02T10:27:26.814048Z",
     "shell.execute_reply": "2022-11-02T10:27:26.812652Z"
    },
    "papermill": {
     "duration": 0.181395,
     "end_time": "2022-11-02T10:27:26.816964",
     "exception": false,
     "start_time": "2022-11-02T10:27:26.635569",
     "status": "completed"
    },
    "tags": []
   },
   "outputs": [],
   "source": [
    "from sklearn.svm import SVC\n",
    "svm_classifier = SVC(kernel='linear', random_state=0)\n",
    "svm_accuracies = cross_val_score(svm_classifier, X, y, cv = 10, scoring = 'accuracy')\n",
    "svm_score = svm_accuracies.mean()\n",
    "svm_std = svm_accuracies.std()\n",
    "models_accuracy_scores[\"SVM\"] = [svm_score, svm_std]"
   ]
  },
  {
   "cell_type": "code",
   "execution_count": 32,
   "id": "50b8d905",
   "metadata": {
    "execution": {
     "iopub.execute_input": "2022-11-02T10:27:26.861821Z",
     "iopub.status.busy": "2022-11-02T10:27:26.860563Z",
     "iopub.status.idle": "2022-11-02T10:27:26.868200Z",
     "shell.execute_reply": "2022-11-02T10:27:26.867150Z"
    },
    "papermill": {
     "duration": 0.032045,
     "end_time": "2022-11-02T10:27:26.870353",
     "exception": false,
     "start_time": "2022-11-02T10:27:26.838308",
     "status": "completed"
    },
    "tags": []
   },
   "outputs": [
    {
     "data": {
      "text/plain": [
       "{'Logistic Regression': [0.7878526841448189, 0.02553551899953366],\n",
       " 'K-NN': [0.8226716604244693, 0.03247897231498733],\n",
       " 'SVM': [0.786729088639201, 0.028599350013463757]}"
      ]
     },
     "execution_count": 32,
     "metadata": {},
     "output_type": "execute_result"
    }
   ],
   "source": [
    "models_accuracy_scores"
   ]
  },
  {
   "cell_type": "markdown",
   "id": "de2d8daa",
   "metadata": {
    "papermill": {
     "duration": 0.021285,
     "end_time": "2022-11-02T10:27:26.912860",
     "exception": false,
     "start_time": "2022-11-02T10:27:26.891575",
     "status": "completed"
    },
    "tags": []
   },
   "source": [
    "## **Naive Bayes**"
   ]
  },
  {
   "cell_type": "code",
   "execution_count": 33,
   "id": "ef634004",
   "metadata": {
    "execution": {
     "iopub.execute_input": "2022-11-02T10:27:26.955782Z",
     "iopub.status.busy": "2022-11-02T10:27:26.955364Z",
     "iopub.status.idle": "2022-11-02T10:27:26.984240Z",
     "shell.execute_reply": "2022-11-02T10:27:26.982962Z"
    },
    "papermill": {
     "duration": 0.053533,
     "end_time": "2022-11-02T10:27:26.987079",
     "exception": false,
     "start_time": "2022-11-02T10:27:26.933546",
     "status": "completed"
    },
    "tags": []
   },
   "outputs": [],
   "source": [
    "from sklearn.naive_bayes import GaussianNB\n",
    "nb_classifier = GaussianNB()\n",
    "nb_accuracies = cross_val_score(nb_classifier, X, y, cv = 10, scoring = 'accuracy')\n",
    "nb_score = nb_accuracies.mean()\n",
    "nb_std = nb_accuracies.std()\n",
    "models_accuracy_scores[\"Naive Bayes\"] = [nb_score, nb_std]"
   ]
  },
  {
   "cell_type": "code",
   "execution_count": 34,
   "id": "ccb8f767",
   "metadata": {
    "execution": {
     "iopub.execute_input": "2022-11-02T10:27:27.032310Z",
     "iopub.status.busy": "2022-11-02T10:27:27.031501Z",
     "iopub.status.idle": "2022-11-02T10:27:27.037544Z",
     "shell.execute_reply": "2022-11-02T10:27:27.036779Z"
    },
    "papermill": {
     "duration": 0.031243,
     "end_time": "2022-11-02T10:27:27.039743",
     "exception": false,
     "start_time": "2022-11-02T10:27:27.008500",
     "status": "completed"
    },
    "tags": []
   },
   "outputs": [
    {
     "data": {
      "text/plain": [
       "0.762059925093633"
      ]
     },
     "execution_count": 34,
     "metadata": {},
     "output_type": "execute_result"
    }
   ],
   "source": [
    "nb_score"
   ]
  },
  {
   "cell_type": "markdown",
   "id": "486ceeb4",
   "metadata": {
    "papermill": {
     "duration": 0.021593,
     "end_time": "2022-11-02T10:27:27.082567",
     "exception": false,
     "start_time": "2022-11-02T10:27:27.060974",
     "status": "completed"
    },
    "tags": []
   },
   "source": [
    "## **Random Forest**"
   ]
  },
  {
   "cell_type": "code",
   "execution_count": 35,
   "id": "d7916edb",
   "metadata": {
    "execution": {
     "iopub.execute_input": "2022-11-02T10:27:27.126360Z",
     "iopub.status.busy": "2022-11-02T10:27:27.125534Z",
     "iopub.status.idle": "2022-11-02T10:27:27.456423Z",
     "shell.execute_reply": "2022-11-02T10:27:27.455552Z"
    },
    "papermill": {
     "duration": 0.355932,
     "end_time": "2022-11-02T10:27:27.459126",
     "exception": false,
     "start_time": "2022-11-02T10:27:27.103194",
     "status": "completed"
    },
    "tags": []
   },
   "outputs": [
    {
     "data": {
      "text/plain": [
       "0.7991760299625469"
      ]
     },
     "execution_count": 35,
     "metadata": {},
     "output_type": "execute_result"
    }
   ],
   "source": [
    "from sklearn.ensemble import RandomForestClassifier\n",
    "rf_classifier = RandomForestClassifier(n_estimators=10, criterion='entropy', random_state=0)\n",
    "rf_accuracies = cross_val_score(rf_classifier, X, y, cv = 10, scoring = 'accuracy')\n",
    "rf_score = rf_accuracies.mean()\n",
    "rf_std = rf_accuracies.std()\n",
    "models_accuracy_scores[\"Random forest\"] = [rf_score, rf_std]\n",
    "rf_score"
   ]
  },
  {
   "cell_type": "code",
   "execution_count": 36,
   "id": "fc96fe74",
   "metadata": {
    "execution": {
     "iopub.execute_input": "2022-11-02T10:27:27.505285Z",
     "iopub.status.busy": "2022-11-02T10:27:27.504447Z",
     "iopub.status.idle": "2022-11-02T10:27:27.511104Z",
     "shell.execute_reply": "2022-11-02T10:27:27.510341Z"
    },
    "papermill": {
     "duration": 0.032568,
     "end_time": "2022-11-02T10:27:27.513207",
     "exception": false,
     "start_time": "2022-11-02T10:27:27.480639",
     "status": "completed"
    },
    "tags": []
   },
   "outputs": [
    {
     "data": {
      "text/plain": [
       "{'Logistic Regression': [0.7878526841448189, 0.02553551899953366],\n",
       " 'K-NN': [0.8226716604244693, 0.03247897231498733],\n",
       " 'SVM': [0.786729088639201, 0.028599350013463757],\n",
       " 'Naive Bayes': [0.762059925093633, 0.028809289673386286],\n",
       " 'Random forest': [0.7991760299625469, 0.03854942486782428]}"
      ]
     },
     "execution_count": 36,
     "metadata": {},
     "output_type": "execute_result"
    }
   ],
   "source": [
    "models_accuracy_scores"
   ]
  },
  {
   "cell_type": "code",
   "execution_count": 37,
   "id": "cab92333",
   "metadata": {
    "execution": {
     "iopub.execute_input": "2022-11-02T10:27:27.558755Z",
     "iopub.status.busy": "2022-11-02T10:27:27.558009Z",
     "iopub.status.idle": "2022-11-02T10:27:27.756689Z",
     "shell.execute_reply": "2022-11-02T10:27:27.755406Z"
    },
    "papermill": {
     "duration": 0.225117,
     "end_time": "2022-11-02T10:27:27.759467",
     "exception": false,
     "start_time": "2022-11-02T10:27:27.534350",
     "status": "completed"
    },
    "tags": []
   },
   "outputs": [
    {
     "name": "stdout",
     "output_type": "stream",
     "text": [
      "Your submission was successfully saved!\n"
     ]
    }
   ],
   "source": [
    "from sklearn.ensemble import RandomForestClassifier\n",
    "\n",
    "y = train_data[\"Survived\"]\n",
    "\n",
    "features = [\"Pclass\", \"Sex\", \"SibSp\", \"Parch\"]\n",
    "X = pd.get_dummies(train_data[features])\n",
    "X_test = pd.get_dummies(test_data[features])\n",
    "\n",
    "model = RandomForestClassifier(n_estimators=100, max_depth=5, random_state=1)\n",
    "model.fit(X, y)\n",
    "predictions = model.predict(X_test)\n",
    "\n",
    "output = pd.DataFrame({'PassengerId': test_data.PassengerId, 'Survived': predictions})\n",
    "output.to_csv('submission.csv', index=False)\n",
    "print(\"Your submission was successfully saved!\")"
   ]
  },
  {
   "cell_type": "code",
   "execution_count": 38,
   "id": "31ccfc90",
   "metadata": {
    "execution": {
     "iopub.execute_input": "2022-11-02T10:27:27.806323Z",
     "iopub.status.busy": "2022-11-02T10:27:27.805101Z",
     "iopub.status.idle": "2022-11-02T10:27:27.816586Z",
     "shell.execute_reply": "2022-11-02T10:27:27.815475Z"
    },
    "papermill": {
     "duration": 0.038224,
     "end_time": "2022-11-02T10:27:27.819061",
     "exception": false,
     "start_time": "2022-11-02T10:27:27.780837",
     "status": "completed"
    },
    "tags": []
   },
   "outputs": [
    {
     "data": {
      "text/html": [
       "<div>\n",
       "<style scoped>\n",
       "    .dataframe tbody tr th:only-of-type {\n",
       "        vertical-align: middle;\n",
       "    }\n",
       "\n",
       "    .dataframe tbody tr th {\n",
       "        vertical-align: top;\n",
       "    }\n",
       "\n",
       "    .dataframe thead th {\n",
       "        text-align: right;\n",
       "    }\n",
       "</style>\n",
       "<table border=\"1\" class=\"dataframe\">\n",
       "  <thead>\n",
       "    <tr style=\"text-align: right;\">\n",
       "      <th></th>\n",
       "      <th>PassengerId</th>\n",
       "      <th>Survived</th>\n",
       "    </tr>\n",
       "  </thead>\n",
       "  <tbody>\n",
       "    <tr>\n",
       "      <th>0</th>\n",
       "      <td>892</td>\n",
       "      <td>0</td>\n",
       "    </tr>\n",
       "    <tr>\n",
       "      <th>1</th>\n",
       "      <td>893</td>\n",
       "      <td>1</td>\n",
       "    </tr>\n",
       "    <tr>\n",
       "      <th>2</th>\n",
       "      <td>894</td>\n",
       "      <td>0</td>\n",
       "    </tr>\n",
       "    <tr>\n",
       "      <th>3</th>\n",
       "      <td>895</td>\n",
       "      <td>0</td>\n",
       "    </tr>\n",
       "    <tr>\n",
       "      <th>4</th>\n",
       "      <td>896</td>\n",
       "      <td>1</td>\n",
       "    </tr>\n",
       "  </tbody>\n",
       "</table>\n",
       "</div>"
      ],
      "text/plain": [
       "   PassengerId  Survived\n",
       "0          892         0\n",
       "1          893         1\n",
       "2          894         0\n",
       "3          895         0\n",
       "4          896         1"
      ]
     },
     "execution_count": 38,
     "metadata": {},
     "output_type": "execute_result"
    }
   ],
   "source": [
    "output.head()"
   ]
  }
 ],
 "metadata": {
  "kernelspec": {
   "display_name": "Python 3",
   "language": "python",
   "name": "python3"
  },
  "language_info": {
   "codemirror_mode": {
    "name": "ipython",
    "version": 3
   },
   "file_extension": ".py",
   "mimetype": "text/x-python",
   "name": "python",
   "nbconvert_exporter": "python",
   "pygments_lexer": "ipython3",
   "version": "3.7.12"
  },
  "papermill": {
   "default_parameters": {},
   "duration": 20.376984,
   "end_time": "2022-11-02T10:27:28.762456",
   "environment_variables": {},
   "exception": null,
   "input_path": "__notebook__.ipynb",
   "output_path": "__notebook__.ipynb",
   "parameters": {},
   "start_time": "2022-11-02T10:27:08.385472",
   "version": "2.3.4"
  }
 },
 "nbformat": 4,
 "nbformat_minor": 5
}
