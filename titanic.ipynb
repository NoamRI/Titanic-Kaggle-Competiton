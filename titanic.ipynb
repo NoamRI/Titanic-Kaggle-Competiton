{
 "cells": [
  {
   "cell_type": "code",
   "execution_count": 1,
   "id": "0c36d0b4",
   "metadata": {
    "_cell_guid": "b1076dfc-b9ad-4769-8c92-a6c4dae69d19",
    "_uuid": "8f2839f25d086af736a60e9eeb907d3b93b6e0e5",
    "execution": {
     "iopub.execute_input": "2022-12-11T13:45:03.268351Z",
     "iopub.status.busy": "2022-12-11T13:45:03.267602Z",
     "iopub.status.idle": "2022-12-11T13:45:03.280028Z",
     "shell.execute_reply": "2022-12-11T13:45:03.278891Z"
    },
    "papermill": {
     "duration": 0.049188,
     "end_time": "2022-12-11T13:45:03.282488",
     "exception": false,
     "start_time": "2022-12-11T13:45:03.233300",
     "status": "completed"
    },
    "tags": []
   },
   "outputs": [
    {
     "name": "stdout",
     "output_type": "stream",
     "text": [
      "/kaggle/input/titanic/train.csv\n",
      "/kaggle/input/titanic/test.csv\n",
      "/kaggle/input/titanic/gender_submission.csv\n"
     ]
    }
   ],
   "source": [
    "# This Python 3 environment comes with many helpful analytics libraries installed\n",
    "# It is defined by the kaggle/python Docker image: https://github.com/kaggle/docker-python\n",
    "# For example, here's several helpful packages to load\n",
    "\n",
    "import numpy as np # linear algebra\n",
    "import pandas as pd # data processing, CSV file I/O (e.g. pd.read_csv)\n",
    "\n",
    "# Input data files are available in the read-only \"../input/\" directory\n",
    "# For example, running this (by clicking run or pressing Shift+Enter) will list all files under the input directory\n",
    "\n",
    "import os\n",
    "for dirname, _, filenames in os.walk('/kaggle/input'):\n",
    "    for filename in filenames:\n",
    "        print(os.path.join(dirname, filename))\n",
    "\n",
    "# You can write up to 20GB to the current directory (/kaggle/working/) that gets preserved as output when you create a version using \"Save & Run All\" \n",
    "# You can also write temporary files to /kaggle/temp/, but they won't be saved outside of the current session"
   ]
  },
  {
   "cell_type": "markdown",
   "id": "e3d67609",
   "metadata": {
    "papermill": {
     "duration": 0.027846,
     "end_time": "2022-12-11T13:45:03.338568",
     "exception": false,
     "start_time": "2022-12-11T13:45:03.310722",
     "status": "completed"
    },
    "tags": []
   },
   "source": [
    "On April 15, 1912, during her maiden voyage, the widely considered “unsinkable” RMS Titanic sank after colliding with an iceberg. Unfortunately, there weren’t enough lifeboats for everyone onboard, resulting in the death of 1502 out of 2224 passengers and crew.\n",
    "\n",
    "While there was some element of luck involved in surviving, it seems some groups of people were more likely to survive than others.\n",
    "\n",
    "In this notebook I would like the answer the question-\n",
    "“what sorts of people were more likely to survive?”\n",
    "using some classification models that predicts which passengers survived the Titanic shipwreck."
   ]
  },
  {
   "cell_type": "code",
   "execution_count": 2,
   "id": "3d72223e",
   "metadata": {
    "execution": {
     "iopub.execute_input": "2022-12-11T13:45:03.395299Z",
     "iopub.status.busy": "2022-12-11T13:45:03.394406Z",
     "iopub.status.idle": "2022-12-11T13:45:04.738210Z",
     "shell.execute_reply": "2022-12-11T13:45:04.737013Z"
    },
    "papermill": {
     "duration": 1.375019,
     "end_time": "2022-12-11T13:45:04.740837",
     "exception": false,
     "start_time": "2022-12-11T13:45:03.365818",
     "status": "completed"
    },
    "tags": []
   },
   "outputs": [],
   "source": [
    "import matplotlib.pyplot as plt\n",
    "import seaborn as sns\n",
    "from sklearn.preprocessing import OneHotEncoder, LabelEncoder"
   ]
  },
  {
   "cell_type": "markdown",
   "id": "11940043",
   "metadata": {
    "papermill": {
     "duration": 0.02727,
     "end_time": "2022-12-11T13:45:04.794981",
     "exception": false,
     "start_time": "2022-12-11T13:45:04.767711",
     "status": "completed"
    },
    "tags": []
   },
   "source": [
    "# **Importing the datasets**"
   ]
  },
  {
   "cell_type": "markdown",
   "id": "3fad765a",
   "metadata": {
    "papermill": {
     "duration": 0.026131,
     "end_time": "2022-12-11T13:45:04.848403",
     "exception": false,
     "start_time": "2022-12-11T13:45:04.822272",
     "status": "completed"
    },
    "tags": []
   },
   "source": [
    "## **Train data**"
   ]
  },
  {
   "cell_type": "code",
   "execution_count": 3,
   "id": "1fa8105d",
   "metadata": {
    "execution": {
     "iopub.execute_input": "2022-12-11T13:45:04.903210Z",
     "iopub.status.busy": "2022-12-11T13:45:04.902804Z",
     "iopub.status.idle": "2022-12-11T13:45:04.944502Z",
     "shell.execute_reply": "2022-12-11T13:45:04.943542Z"
    },
    "papermill": {
     "duration": 0.071887,
     "end_time": "2022-12-11T13:45:04.946892",
     "exception": false,
     "start_time": "2022-12-11T13:45:04.875005",
     "status": "completed"
    },
    "tags": []
   },
   "outputs": [
    {
     "data": {
      "text/html": [
       "<div>\n",
       "<style scoped>\n",
       "    .dataframe tbody tr th:only-of-type {\n",
       "        vertical-align: middle;\n",
       "    }\n",
       "\n",
       "    .dataframe tbody tr th {\n",
       "        vertical-align: top;\n",
       "    }\n",
       "\n",
       "    .dataframe thead th {\n",
       "        text-align: right;\n",
       "    }\n",
       "</style>\n",
       "<table border=\"1\" class=\"dataframe\">\n",
       "  <thead>\n",
       "    <tr style=\"text-align: right;\">\n",
       "      <th></th>\n",
       "      <th>PassengerId</th>\n",
       "      <th>Survived</th>\n",
       "      <th>Pclass</th>\n",
       "      <th>Name</th>\n",
       "      <th>Sex</th>\n",
       "      <th>Age</th>\n",
       "      <th>SibSp</th>\n",
       "      <th>Parch</th>\n",
       "      <th>Ticket</th>\n",
       "      <th>Fare</th>\n",
       "      <th>Cabin</th>\n",
       "      <th>Embarked</th>\n",
       "    </tr>\n",
       "  </thead>\n",
       "  <tbody>\n",
       "    <tr>\n",
       "      <th>0</th>\n",
       "      <td>1</td>\n",
       "      <td>0</td>\n",
       "      <td>3</td>\n",
       "      <td>Braund, Mr. Owen Harris</td>\n",
       "      <td>male</td>\n",
       "      <td>22.0</td>\n",
       "      <td>1</td>\n",
       "      <td>0</td>\n",
       "      <td>A/5 21171</td>\n",
       "      <td>7.2500</td>\n",
       "      <td>NaN</td>\n",
       "      <td>S</td>\n",
       "    </tr>\n",
       "    <tr>\n",
       "      <th>1</th>\n",
       "      <td>2</td>\n",
       "      <td>1</td>\n",
       "      <td>1</td>\n",
       "      <td>Cumings, Mrs. John Bradley (Florence Briggs Th...</td>\n",
       "      <td>female</td>\n",
       "      <td>38.0</td>\n",
       "      <td>1</td>\n",
       "      <td>0</td>\n",
       "      <td>PC 17599</td>\n",
       "      <td>71.2833</td>\n",
       "      <td>C85</td>\n",
       "      <td>C</td>\n",
       "    </tr>\n",
       "    <tr>\n",
       "      <th>2</th>\n",
       "      <td>3</td>\n",
       "      <td>1</td>\n",
       "      <td>3</td>\n",
       "      <td>Heikkinen, Miss. Laina</td>\n",
       "      <td>female</td>\n",
       "      <td>26.0</td>\n",
       "      <td>0</td>\n",
       "      <td>0</td>\n",
       "      <td>STON/O2. 3101282</td>\n",
       "      <td>7.9250</td>\n",
       "      <td>NaN</td>\n",
       "      <td>S</td>\n",
       "    </tr>\n",
       "    <tr>\n",
       "      <th>3</th>\n",
       "      <td>4</td>\n",
       "      <td>1</td>\n",
       "      <td>1</td>\n",
       "      <td>Futrelle, Mrs. Jacques Heath (Lily May Peel)</td>\n",
       "      <td>female</td>\n",
       "      <td>35.0</td>\n",
       "      <td>1</td>\n",
       "      <td>0</td>\n",
       "      <td>113803</td>\n",
       "      <td>53.1000</td>\n",
       "      <td>C123</td>\n",
       "      <td>S</td>\n",
       "    </tr>\n",
       "    <tr>\n",
       "      <th>4</th>\n",
       "      <td>5</td>\n",
       "      <td>0</td>\n",
       "      <td>3</td>\n",
       "      <td>Allen, Mr. William Henry</td>\n",
       "      <td>male</td>\n",
       "      <td>35.0</td>\n",
       "      <td>0</td>\n",
       "      <td>0</td>\n",
       "      <td>373450</td>\n",
       "      <td>8.0500</td>\n",
       "      <td>NaN</td>\n",
       "      <td>S</td>\n",
       "    </tr>\n",
       "  </tbody>\n",
       "</table>\n",
       "</div>"
      ],
      "text/plain": [
       "   PassengerId  Survived  Pclass  \\\n",
       "0            1         0       3   \n",
       "1            2         1       1   \n",
       "2            3         1       3   \n",
       "3            4         1       1   \n",
       "4            5         0       3   \n",
       "\n",
       "                                                Name     Sex   Age  SibSp  \\\n",
       "0                            Braund, Mr. Owen Harris    male  22.0      1   \n",
       "1  Cumings, Mrs. John Bradley (Florence Briggs Th...  female  38.0      1   \n",
       "2                             Heikkinen, Miss. Laina  female  26.0      0   \n",
       "3       Futrelle, Mrs. Jacques Heath (Lily May Peel)  female  35.0      1   \n",
       "4                           Allen, Mr. William Henry    male  35.0      0   \n",
       "\n",
       "   Parch            Ticket     Fare Cabin Embarked  \n",
       "0      0         A/5 21171   7.2500   NaN        S  \n",
       "1      0          PC 17599  71.2833   C85        C  \n",
       "2      0  STON/O2. 3101282   7.9250   NaN        S  \n",
       "3      0            113803  53.1000  C123        S  \n",
       "4      0            373450   8.0500   NaN        S  "
      ]
     },
     "execution_count": 3,
     "metadata": {},
     "output_type": "execute_result"
    }
   ],
   "source": [
    "train_data = pd.read_csv('/kaggle/input/titanic/train.csv')\n",
    "train_data.head()"
   ]
  },
  {
   "cell_type": "markdown",
   "id": "5805ded8",
   "metadata": {
    "papermill": {
     "duration": 0.026911,
     "end_time": "2022-12-11T13:45:05.001044",
     "exception": false,
     "start_time": "2022-12-11T13:45:04.974133",
     "status": "completed"
    },
    "tags": []
   },
   "source": [
    "The train data contain information about 891 passengers (rows) and 12 columns."
   ]
  },
  {
   "cell_type": "code",
   "execution_count": 4,
   "id": "cdcb95cc",
   "metadata": {
    "execution": {
     "iopub.execute_input": "2022-12-11T13:45:05.058026Z",
     "iopub.status.busy": "2022-12-11T13:45:05.057594Z",
     "iopub.status.idle": "2022-12-11T13:45:05.063908Z",
     "shell.execute_reply": "2022-12-11T13:45:05.062922Z"
    },
    "papermill": {
     "duration": 0.037308,
     "end_time": "2022-12-11T13:45:05.065782",
     "exception": false,
     "start_time": "2022-12-11T13:45:05.028474",
     "status": "completed"
    },
    "tags": []
   },
   "outputs": [
    {
     "data": {
      "text/plain": [
       "(891, 12)"
      ]
     },
     "execution_count": 4,
     "metadata": {},
     "output_type": "execute_result"
    }
   ],
   "source": [
    "train_data.shape"
   ]
  },
  {
   "cell_type": "markdown",
   "id": "9bb01aaf",
   "metadata": {
    "papermill": {
     "duration": 0.027518,
     "end_time": "2022-12-11T13:45:05.120535",
     "exception": false,
     "start_time": "2022-12-11T13:45:05.093017",
     "status": "completed"
    },
    "tags": []
   },
   "source": [
    "## **Test data**"
   ]
  },
  {
   "cell_type": "code",
   "execution_count": 5,
   "id": "0a15fc0e",
   "metadata": {
    "execution": {
     "iopub.execute_input": "2022-12-11T13:45:05.177243Z",
     "iopub.status.busy": "2022-12-11T13:45:05.176707Z",
     "iopub.status.idle": "2022-12-11T13:45:05.199422Z",
     "shell.execute_reply": "2022-12-11T13:45:05.198170Z"
    },
    "papermill": {
     "duration": 0.0542,
     "end_time": "2022-12-11T13:45:05.202151",
     "exception": false,
     "start_time": "2022-12-11T13:45:05.147951",
     "status": "completed"
    },
    "tags": []
   },
   "outputs": [
    {
     "data": {
      "text/html": [
       "<div>\n",
       "<style scoped>\n",
       "    .dataframe tbody tr th:only-of-type {\n",
       "        vertical-align: middle;\n",
       "    }\n",
       "\n",
       "    .dataframe tbody tr th {\n",
       "        vertical-align: top;\n",
       "    }\n",
       "\n",
       "    .dataframe thead th {\n",
       "        text-align: right;\n",
       "    }\n",
       "</style>\n",
       "<table border=\"1\" class=\"dataframe\">\n",
       "  <thead>\n",
       "    <tr style=\"text-align: right;\">\n",
       "      <th></th>\n",
       "      <th>PassengerId</th>\n",
       "      <th>Pclass</th>\n",
       "      <th>Name</th>\n",
       "      <th>Sex</th>\n",
       "      <th>Age</th>\n",
       "      <th>SibSp</th>\n",
       "      <th>Parch</th>\n",
       "      <th>Ticket</th>\n",
       "      <th>Fare</th>\n",
       "      <th>Cabin</th>\n",
       "      <th>Embarked</th>\n",
       "    </tr>\n",
       "  </thead>\n",
       "  <tbody>\n",
       "    <tr>\n",
       "      <th>0</th>\n",
       "      <td>892</td>\n",
       "      <td>3</td>\n",
       "      <td>Kelly, Mr. James</td>\n",
       "      <td>male</td>\n",
       "      <td>34.5</td>\n",
       "      <td>0</td>\n",
       "      <td>0</td>\n",
       "      <td>330911</td>\n",
       "      <td>7.8292</td>\n",
       "      <td>NaN</td>\n",
       "      <td>Q</td>\n",
       "    </tr>\n",
       "    <tr>\n",
       "      <th>1</th>\n",
       "      <td>893</td>\n",
       "      <td>3</td>\n",
       "      <td>Wilkes, Mrs. James (Ellen Needs)</td>\n",
       "      <td>female</td>\n",
       "      <td>47.0</td>\n",
       "      <td>1</td>\n",
       "      <td>0</td>\n",
       "      <td>363272</td>\n",
       "      <td>7.0000</td>\n",
       "      <td>NaN</td>\n",
       "      <td>S</td>\n",
       "    </tr>\n",
       "    <tr>\n",
       "      <th>2</th>\n",
       "      <td>894</td>\n",
       "      <td>2</td>\n",
       "      <td>Myles, Mr. Thomas Francis</td>\n",
       "      <td>male</td>\n",
       "      <td>62.0</td>\n",
       "      <td>0</td>\n",
       "      <td>0</td>\n",
       "      <td>240276</td>\n",
       "      <td>9.6875</td>\n",
       "      <td>NaN</td>\n",
       "      <td>Q</td>\n",
       "    </tr>\n",
       "    <tr>\n",
       "      <th>3</th>\n",
       "      <td>895</td>\n",
       "      <td>3</td>\n",
       "      <td>Wirz, Mr. Albert</td>\n",
       "      <td>male</td>\n",
       "      <td>27.0</td>\n",
       "      <td>0</td>\n",
       "      <td>0</td>\n",
       "      <td>315154</td>\n",
       "      <td>8.6625</td>\n",
       "      <td>NaN</td>\n",
       "      <td>S</td>\n",
       "    </tr>\n",
       "    <tr>\n",
       "      <th>4</th>\n",
       "      <td>896</td>\n",
       "      <td>3</td>\n",
       "      <td>Hirvonen, Mrs. Alexander (Helga E Lindqvist)</td>\n",
       "      <td>female</td>\n",
       "      <td>22.0</td>\n",
       "      <td>1</td>\n",
       "      <td>1</td>\n",
       "      <td>3101298</td>\n",
       "      <td>12.2875</td>\n",
       "      <td>NaN</td>\n",
       "      <td>S</td>\n",
       "    </tr>\n",
       "  </tbody>\n",
       "</table>\n",
       "</div>"
      ],
      "text/plain": [
       "   PassengerId  Pclass                                          Name     Sex  \\\n",
       "0          892       3                              Kelly, Mr. James    male   \n",
       "1          893       3              Wilkes, Mrs. James (Ellen Needs)  female   \n",
       "2          894       2                     Myles, Mr. Thomas Francis    male   \n",
       "3          895       3                              Wirz, Mr. Albert    male   \n",
       "4          896       3  Hirvonen, Mrs. Alexander (Helga E Lindqvist)  female   \n",
       "\n",
       "    Age  SibSp  Parch   Ticket     Fare Cabin Embarked  \n",
       "0  34.5      0      0   330911   7.8292   NaN        Q  \n",
       "1  47.0      1      0   363272   7.0000   NaN        S  \n",
       "2  62.0      0      0   240276   9.6875   NaN        Q  \n",
       "3  27.0      0      0   315154   8.6625   NaN        S  \n",
       "4  22.0      1      1  3101298  12.2875   NaN        S  "
      ]
     },
     "execution_count": 5,
     "metadata": {},
     "output_type": "execute_result"
    }
   ],
   "source": [
    "test_data = pd.read_csv('/kaggle/input/titanic/test.csv')\n",
    "test_data.head()"
   ]
  },
  {
   "cell_type": "markdown",
   "id": "3c203462",
   "metadata": {
    "papermill": {
     "duration": 0.027099,
     "end_time": "2022-12-11T13:45:05.257102",
     "exception": false,
     "start_time": "2022-12-11T13:45:05.230003",
     "status": "completed"
    },
    "tags": []
   },
   "source": [
    "The test data contain information about 418 passengers (rows) and 11 columns."
   ]
  },
  {
   "cell_type": "code",
   "execution_count": 6,
   "id": "3ee9e094",
   "metadata": {
    "execution": {
     "iopub.execute_input": "2022-12-11T13:45:05.314084Z",
     "iopub.status.busy": "2022-12-11T13:45:05.313722Z",
     "iopub.status.idle": "2022-12-11T13:45:05.320536Z",
     "shell.execute_reply": "2022-12-11T13:45:05.319459Z"
    },
    "papermill": {
     "duration": 0.038676,
     "end_time": "2022-12-11T13:45:05.323484",
     "exception": false,
     "start_time": "2022-12-11T13:45:05.284808",
     "status": "completed"
    },
    "tags": []
   },
   "outputs": [
    {
     "data": {
      "text/plain": [
       "(418, 11)"
      ]
     },
     "execution_count": 6,
     "metadata": {},
     "output_type": "execute_result"
    }
   ],
   "source": [
    "test_data.shape"
   ]
  },
  {
   "cell_type": "markdown",
   "id": "91e9d93a",
   "metadata": {
    "papermill": {
     "duration": 0.027864,
     "end_time": "2022-12-11T13:45:05.379257",
     "exception": false,
     "start_time": "2022-12-11T13:45:05.351393",
     "status": "completed"
    },
    "tags": []
   },
   "source": [
    "# **Features Engineering & Data Analysis**"
   ]
  },
  {
   "cell_type": "markdown",
   "id": "22e2aa43",
   "metadata": {
    "papermill": {
     "duration": 0.028377,
     "end_time": "2022-12-11T13:45:05.435743",
     "exception": false,
     "start_time": "2022-12-11T13:45:05.407366",
     "status": "completed"
    },
    "tags": []
   },
   "source": [
    "#### For Features Engineering let's combine the train set and the test set."
   ]
  },
  {
   "cell_type": "code",
   "execution_count": 7,
   "id": "3817b7e5",
   "metadata": {
    "execution": {
     "iopub.execute_input": "2022-12-11T13:45:05.492494Z",
     "iopub.status.busy": "2022-12-11T13:45:05.492130Z",
     "iopub.status.idle": "2022-12-11T13:45:05.507471Z",
     "shell.execute_reply": "2022-12-11T13:45:05.505929Z"
    },
    "papermill": {
     "duration": 0.046659,
     "end_time": "2022-12-11T13:45:05.510057",
     "exception": false,
     "start_time": "2022-12-11T13:45:05.463398",
     "status": "completed"
    },
    "tags": []
   },
   "outputs": [],
   "source": [
    "all_data = train_data.append(test_data)"
   ]
  },
  {
   "cell_type": "code",
   "execution_count": 8,
   "id": "dd0621f6",
   "metadata": {
    "execution": {
     "iopub.execute_input": "2022-12-11T13:45:05.567870Z",
     "iopub.status.busy": "2022-12-11T13:45:05.567463Z",
     "iopub.status.idle": "2022-12-11T13:45:05.573095Z",
     "shell.execute_reply": "2022-12-11T13:45:05.572149Z"
    },
    "papermill": {
     "duration": 0.036603,
     "end_time": "2022-12-11T13:45:05.574904",
     "exception": false,
     "start_time": "2022-12-11T13:45:05.538301",
     "status": "completed"
    },
    "tags": []
   },
   "outputs": [
    {
     "data": {
      "text/plain": [
       "(1309, 12)"
      ]
     },
     "execution_count": 8,
     "metadata": {},
     "output_type": "execute_result"
    }
   ],
   "source": [
    "all_data.shape"
   ]
  },
  {
   "cell_type": "markdown",
   "id": "133e9067",
   "metadata": {
    "papermill": {
     "duration": 0.026927,
     "end_time": "2022-12-11T13:45:05.628865",
     "exception": false,
     "start_time": "2022-12-11T13:45:05.601938",
     "status": "completed"
    },
    "tags": []
   },
   "source": [
    "#### **The type of each column in the data frame:**"
   ]
  },
  {
   "cell_type": "code",
   "execution_count": 9,
   "id": "d9e25538",
   "metadata": {
    "execution": {
     "iopub.execute_input": "2022-12-11T13:45:05.688580Z",
     "iopub.status.busy": "2022-12-11T13:45:05.688246Z",
     "iopub.status.idle": "2022-12-11T13:45:05.694880Z",
     "shell.execute_reply": "2022-12-11T13:45:05.693756Z"
    },
    "papermill": {
     "duration": 0.03776,
     "end_time": "2022-12-11T13:45:05.696944",
     "exception": false,
     "start_time": "2022-12-11T13:45:05.659184",
     "status": "completed"
    },
    "tags": []
   },
   "outputs": [
    {
     "data": {
      "text/plain": [
       "PassengerId      int64\n",
       "Survived       float64\n",
       "Pclass           int64\n",
       "Name            object\n",
       "Sex             object\n",
       "Age            float64\n",
       "SibSp            int64\n",
       "Parch            int64\n",
       "Ticket          object\n",
       "Fare           float64\n",
       "Cabin           object\n",
       "Embarked        object\n",
       "dtype: object"
      ]
     },
     "execution_count": 9,
     "metadata": {},
     "output_type": "execute_result"
    }
   ],
   "source": [
    "all_data.dtypes"
   ]
  },
  {
   "cell_type": "markdown",
   "id": "7de89924",
   "metadata": {
    "papermill": {
     "duration": 0.02744,
     "end_time": "2022-12-11T13:45:05.751998",
     "exception": false,
     "start_time": "2022-12-11T13:45:05.724558",
     "status": "completed"
    },
    "tags": []
   },
   "source": [
    "* #### **Checking whether there are missing data**"
   ]
  },
  {
   "cell_type": "code",
   "execution_count": 10,
   "id": "1a373599",
   "metadata": {
    "execution": {
     "iopub.execute_input": "2022-12-11T13:45:05.809499Z",
     "iopub.status.busy": "2022-12-11T13:45:05.808517Z",
     "iopub.status.idle": "2022-12-11T13:45:05.818444Z",
     "shell.execute_reply": "2022-12-11T13:45:05.817387Z"
    },
    "papermill": {
     "duration": 0.041268,
     "end_time": "2022-12-11T13:45:05.820903",
     "exception": false,
     "start_time": "2022-12-11T13:45:05.779635",
     "status": "completed"
    },
    "tags": []
   },
   "outputs": [
    {
     "data": {
      "text/plain": [
       "['Survived', 'Age', 'Fare', 'Cabin', 'Embarked']"
      ]
     },
     "execution_count": 10,
     "metadata": {},
     "output_type": "execute_result"
    }
   ],
   "source": [
    "all_data.columns[all_data.isna().any()].tolist()"
   ]
  },
  {
   "cell_type": "markdown",
   "id": "e96a3b56",
   "metadata": {
    "papermill": {
     "duration": 0.02774,
     "end_time": "2022-12-11T13:45:05.876733",
     "exception": false,
     "start_time": "2022-12-11T13:45:05.848993",
     "status": "completed"
    },
    "tags": []
   },
   "source": [
    "It's obvious why there are missing values in the Survived column...\n",
    "\n",
    "I can't see how the information about the Cabin can help, so I won't fill up the empty cells.\n",
    "\n",
    "For the rest columns with missing values, let's do some manipulations to fill up the empty cells."
   ]
  },
  {
   "cell_type": "markdown",
   "id": "59211558",
   "metadata": {
    "papermill": {
     "duration": 0.027273,
     "end_time": "2022-12-11T13:45:05.932457",
     "exception": false,
     "start_time": "2022-12-11T13:45:05.905184",
     "status": "completed"
    },
    "tags": []
   },
   "source": [
    "* #### **Age**\n",
    "To imputing the age more precisely, let's define a new temp column- 'Title' (the title of each passenger). "
   ]
  },
  {
   "cell_type": "code",
   "execution_count": 11,
   "id": "a3b160a8",
   "metadata": {
    "execution": {
     "iopub.execute_input": "2022-12-11T13:45:05.989932Z",
     "iopub.status.busy": "2022-12-11T13:45:05.989505Z",
     "iopub.status.idle": "2022-12-11T13:45:10.261073Z",
     "shell.execute_reply": "2022-12-11T13:45:10.260173Z"
    },
    "papermill": {
     "duration": 4.302859,
     "end_time": "2022-12-11T13:45:10.263304",
     "exception": false,
     "start_time": "2022-12-11T13:45:05.960445",
     "status": "completed"
    },
    "tags": []
   },
   "outputs": [
    {
     "data": {
      "text/plain": [
       "array(['Mr', 'Mrs', 'Miss', 'Master', 'Don', 'Rev', 'Dr', 'Mme', 'Ms',\n",
       "       'Major', 'Lady', 'Sir', 'Mlle', 'Col', 'Capt', 'Countess',\n",
       "       'Jonkheer', 'Dona'], dtype=object)"
      ]
     },
     "execution_count": 11,
     "metadata": {},
     "output_type": "execute_result"
    }
   ],
   "source": [
    "all_data['Title'] = all_data['Name']\n",
    "\n",
    "# Cleaning name and extracting Title\n",
    "for name_string in all_data['Name']:\n",
    "    all_data['Title'] = all_data['Name'].str.extract('([A-Za-z]+)\\.', expand=True)\n",
    "\n",
    "all_data.Title.unique()"
   ]
  },
  {
   "cell_type": "code",
   "execution_count": 12,
   "id": "4c750c63",
   "metadata": {
    "execution": {
     "iopub.execute_input": "2022-12-11T13:45:10.323469Z",
     "iopub.status.busy": "2022-12-11T13:45:10.323121Z",
     "iopub.status.idle": "2022-12-11T13:45:10.348667Z",
     "shell.execute_reply": "2022-12-11T13:45:10.347683Z"
    },
    "papermill": {
     "duration": 0.059576,
     "end_time": "2022-12-11T13:45:10.351337",
     "exception": false,
     "start_time": "2022-12-11T13:45:10.291761",
     "status": "completed"
    },
    "tags": []
   },
   "outputs": [],
   "source": [
    "# Replacing rare titles with more common ones\n",
    "mapping = {'Mlle': 'Miss', 'Major': 'Mr', 'Col': 'Mr', 'Sir': 'Mr', 'Don': 'Mr', 'Mme': 'Miss',\n",
    "          'Jonkheer': 'Mr', 'Lady': 'Mrs', 'Capt': 'Mr', 'Countess': 'Mrs', 'Ms': 'Miss', 'Dona': 'Mrs'}\n",
    "\n",
    "all_data.replace({'Title': mapping}, inplace=True)\n",
    "titles = ['Dr', 'Master', 'Miss', 'Mr', 'Mrs', 'Rev']\n",
    "\n",
    "for title in titles:\n",
    "    age_to_impute = all_data.groupby('Title')['Age'].median()[titles.index(title)]\n",
    "    all_data.loc[(all_data['Age'].isnull()) & (all_data['Title'] == title), 'Age'] = age_to_impute\n",
    "    \n",
    "# Substituting Age values in TRAIN_DF and TEST_DF:\n",
    "train_data['Age'] = all_data['Age'][:891]\n",
    "test_data['Age'] = all_data['Age'][891:]\n",
    "\n",
    "# Dropping Title feature\n",
    "all_data.drop('Title', axis = 1, inplace = True)"
   ]
  },
  {
   "cell_type": "markdown",
   "id": "15476779",
   "metadata": {
    "papermill": {
     "duration": 0.028144,
     "end_time": "2022-12-11T13:45:10.408716",
     "exception": false,
     "start_time": "2022-12-11T13:45:10.380572",
     "status": "completed"
    },
    "tags": []
   },
   "source": [
    "We will create a new column, AgeGroup, that will contain the age groups of the passengers according the following partition:\n",
    "- Infant: 0-3\n",
    "- Kid: 4-12\n",
    "- Teen: 13-19\n",
    "- Adult: 20-110\n",
    "\n",
    "After that, we will encode this column to a new one - AgeGroup_code."
   ]
  },
  {
   "cell_type": "code",
   "execution_count": 13,
   "id": "0c7fd117",
   "metadata": {
    "execution": {
     "iopub.execute_input": "2022-12-11T13:45:10.467205Z",
     "iopub.status.busy": "2022-12-11T13:45:10.466872Z",
     "iopub.status.idle": "2022-12-11T13:45:10.480321Z",
     "shell.execute_reply": "2022-12-11T13:45:10.478897Z"
    },
    "papermill": {
     "duration": 0.04592,
     "end_time": "2022-12-11T13:45:10.483119",
     "exception": false,
     "start_time": "2022-12-11T13:45:10.437199",
     "status": "completed"
    },
    "tags": []
   },
   "outputs": [],
   "source": [
    "bins= [0,4,13,20,110]\n",
    "labels = ['Infant','Kid','Teen','Adult']\n",
    "all_data['AgeGroup'] = pd.cut(train_data['Age'], bins=bins, labels=labels, right=False)\n",
    "\n",
    "label = LabelEncoder()\n",
    "\n",
    "all_data['AgeGroup_code'] = label.fit_transform(all_data['AgeGroup'])\n",
    "\n",
    "train_data['AgeGroup_code'] = all_data['AgeGroup_code'][:891]\n",
    "test_data['AgeGroup_code'] = all_data['AgeGroup_code'][891:]"
   ]
  },
  {
   "cell_type": "code",
   "execution_count": 14,
   "id": "a33ae58e",
   "metadata": {
    "execution": {
     "iopub.execute_input": "2022-12-11T13:45:10.541201Z",
     "iopub.status.busy": "2022-12-11T13:45:10.540852Z",
     "iopub.status.idle": "2022-12-11T13:45:10.553922Z",
     "shell.execute_reply": "2022-12-11T13:45:10.552655Z"
    },
    "papermill": {
     "duration": 0.045141,
     "end_time": "2022-12-11T13:45:10.556686",
     "exception": false,
     "start_time": "2022-12-11T13:45:10.511545",
     "status": "completed"
    },
    "tags": []
   },
   "outputs": [
    {
     "data": {
      "text/html": [
       "<div>\n",
       "<style scoped>\n",
       "    .dataframe tbody tr th:only-of-type {\n",
       "        vertical-align: middle;\n",
       "    }\n",
       "\n",
       "    .dataframe tbody tr th {\n",
       "        vertical-align: top;\n",
       "    }\n",
       "\n",
       "    .dataframe thead th {\n",
       "        text-align: right;\n",
       "    }\n",
       "</style>\n",
       "<table border=\"1\" class=\"dataframe\">\n",
       "  <thead>\n",
       "    <tr style=\"text-align: right;\">\n",
       "      <th></th>\n",
       "      <th>AgeGroup</th>\n",
       "      <th>AgeGroup_code</th>\n",
       "    </tr>\n",
       "  </thead>\n",
       "  <tbody>\n",
       "    <tr>\n",
       "      <th>0</th>\n",
       "      <td>Adult</td>\n",
       "      <td>0</td>\n",
       "    </tr>\n",
       "    <tr>\n",
       "      <th>1</th>\n",
       "      <td>Adult</td>\n",
       "      <td>0</td>\n",
       "    </tr>\n",
       "    <tr>\n",
       "      <th>2</th>\n",
       "      <td>Adult</td>\n",
       "      <td>0</td>\n",
       "    </tr>\n",
       "    <tr>\n",
       "      <th>3</th>\n",
       "      <td>Adult</td>\n",
       "      <td>0</td>\n",
       "    </tr>\n",
       "    <tr>\n",
       "      <th>4</th>\n",
       "      <td>Adult</td>\n",
       "      <td>0</td>\n",
       "    </tr>\n",
       "    <tr>\n",
       "      <th>5</th>\n",
       "      <td>Adult</td>\n",
       "      <td>0</td>\n",
       "    </tr>\n",
       "    <tr>\n",
       "      <th>6</th>\n",
       "      <td>Adult</td>\n",
       "      <td>0</td>\n",
       "    </tr>\n",
       "    <tr>\n",
       "      <th>7</th>\n",
       "      <td>Infant</td>\n",
       "      <td>1</td>\n",
       "    </tr>\n",
       "    <tr>\n",
       "      <th>8</th>\n",
       "      <td>Adult</td>\n",
       "      <td>0</td>\n",
       "    </tr>\n",
       "    <tr>\n",
       "      <th>9</th>\n",
       "      <td>Teen</td>\n",
       "      <td>3</td>\n",
       "    </tr>\n",
       "  </tbody>\n",
       "</table>\n",
       "</div>"
      ],
      "text/plain": [
       "  AgeGroup  AgeGroup_code\n",
       "0    Adult              0\n",
       "1    Adult              0\n",
       "2    Adult              0\n",
       "3    Adult              0\n",
       "4    Adult              0\n",
       "5    Adult              0\n",
       "6    Adult              0\n",
       "7   Infant              1\n",
       "8    Adult              0\n",
       "9     Teen              3"
      ]
     },
     "execution_count": 14,
     "metadata": {},
     "output_type": "execute_result"
    }
   ],
   "source": [
    "all_data[['AgeGroup', 'AgeGroup_code']].head(10)"
   ]
  },
  {
   "cell_type": "markdown",
   "id": "d2ef3fff",
   "metadata": {
    "papermill": {
     "duration": 0.02766,
     "end_time": "2022-12-11T13:45:10.612587",
     "exception": false,
     "start_time": "2022-12-11T13:45:10.584927",
     "status": "completed"
    },
    "tags": []
   },
   "source": [
    "- 0 : Adult\n",
    "- 1 : Infant\n",
    "- 2 : Kid\n",
    "- 3 : Teen"
   ]
  },
  {
   "cell_type": "markdown",
   "id": "a84f0ecd",
   "metadata": {
    "papermill": {
     "duration": 0.027748,
     "end_time": "2022-12-11T13:45:10.668566",
     "exception": false,
     "start_time": "2022-12-11T13:45:10.640818",
     "status": "completed"
    },
    "tags": []
   },
   "source": [
    "* #### **Embarked**\n",
    "Let's fill up the missing values cells in the Embarked column with the most common value."
   ]
  },
  {
   "cell_type": "code",
   "execution_count": 15,
   "id": "27c6e2bc",
   "metadata": {
    "execution": {
     "iopub.execute_input": "2022-12-11T13:45:10.728908Z",
     "iopub.status.busy": "2022-12-11T13:45:10.728282Z",
     "iopub.status.idle": "2022-12-11T13:45:10.736966Z",
     "shell.execute_reply": "2022-12-11T13:45:10.735650Z"
    },
    "papermill": {
     "duration": 0.041723,
     "end_time": "2022-12-11T13:45:10.740584",
     "exception": false,
     "start_time": "2022-12-11T13:45:10.698861",
     "status": "completed"
    },
    "tags": []
   },
   "outputs": [
    {
     "name": "stdout",
     "output_type": "stream",
     "text": [
      "the most common value in the Embarked column:  S\n"
     ]
    }
   ],
   "source": [
    "print('the most common value in the Embarked column: ', all_data.Embarked.value_counts().idxmax())"
   ]
  },
  {
   "cell_type": "code",
   "execution_count": 16,
   "id": "dfb095b6",
   "metadata": {
    "execution": {
     "iopub.execute_input": "2022-12-11T13:45:10.799337Z",
     "iopub.status.busy": "2022-12-11T13:45:10.798979Z",
     "iopub.status.idle": "2022-12-11T13:45:10.805169Z",
     "shell.execute_reply": "2022-12-11T13:45:10.803750Z"
    },
    "papermill": {
     "duration": 0.038653,
     "end_time": "2022-12-11T13:45:10.807310",
     "exception": false,
     "start_time": "2022-12-11T13:45:10.768657",
     "status": "completed"
    },
    "tags": []
   },
   "outputs": [],
   "source": [
    "all_data.Embarked.fillna('S', inplace = True)"
   ]
  },
  {
   "cell_type": "markdown",
   "id": "9334c8d3",
   "metadata": {
    "papermill": {
     "duration": 0.027889,
     "end_time": "2022-12-11T13:45:10.863468",
     "exception": false,
     "start_time": "2022-12-11T13:45:10.835579",
     "status": "completed"
    },
    "tags": []
   },
   "source": [
    "* #### **Fare**\n",
    "Filling up the missing values with the median of the Fare column"
   ]
  },
  {
   "cell_type": "code",
   "execution_count": 17,
   "id": "0ecdc3ac",
   "metadata": {
    "execution": {
     "iopub.execute_input": "2022-12-11T13:45:10.922259Z",
     "iopub.status.busy": "2022-12-11T13:45:10.921885Z",
     "iopub.status.idle": "2022-12-11T13:45:10.929439Z",
     "shell.execute_reply": "2022-12-11T13:45:10.928681Z"
    },
    "papermill": {
     "duration": 0.039473,
     "end_time": "2022-12-11T13:45:10.931451",
     "exception": false,
     "start_time": "2022-12-11T13:45:10.891978",
     "status": "completed"
    },
    "tags": []
   },
   "outputs": [],
   "source": [
    "all_data.Fare.fillna(all_data.Fare.median(), inplace = True)"
   ]
  },
  {
   "cell_type": "markdown",
   "id": "1a5367f7",
   "metadata": {
    "papermill": {
     "duration": 0.027719,
     "end_time": "2022-12-11T13:45:10.987382",
     "exception": false,
     "start_time": "2022-12-11T13:45:10.959663",
     "status": "completed"
    },
    "tags": []
   },
   "source": [
    "Encoding the Fare column into a new column - FareBins_code :"
   ]
  },
  {
   "cell_type": "code",
   "execution_count": 18,
   "id": "79974b5b",
   "metadata": {
    "execution": {
     "iopub.execute_input": "2022-12-11T13:45:11.045882Z",
     "iopub.status.busy": "2022-12-11T13:45:11.044600Z",
     "iopub.status.idle": "2022-12-11T13:45:11.073024Z",
     "shell.execute_reply": "2022-12-11T13:45:11.071841Z"
    },
    "papermill": {
     "duration": 0.060967,
     "end_time": "2022-12-11T13:45:11.076453",
     "exception": false,
     "start_time": "2022-12-11T13:45:11.015486",
     "status": "completed"
    },
    "tags": []
   },
   "outputs": [
    {
     "name": "stdout",
     "output_type": "stream",
     "text": [
      "[(-0.001, 7.854], (41.579, 512.329], (7.854, 10.5], (10.5, 21.558], (21.558, 41.579]]\n",
      "Categories (5, interval[float64, right]): [(-0.001, 7.854] < (7.854, 10.5] < (10.5, 21.558] < (21.558, 41.579] < (41.579, 512.329]]\n"
     ]
    }
   ],
   "source": [
    "all_data['FareBins'] = pd.qcut(all_data.Fare, 5)\n",
    "print(all_data['FareBins'].unique())\n",
    "label = LabelEncoder()\n",
    "\n",
    "all_data['FareBins_code'] = label.fit_transform(all_data['FareBins'])\n",
    "\n",
    "train_data['FareBins_code'] = all_data['FareBins_code'][:891]\n",
    "test_data['FareBins_code'] = all_data['FareBins_code'][891:]"
   ]
  },
  {
   "cell_type": "code",
   "execution_count": 19,
   "id": "c38351b9",
   "metadata": {
    "execution": {
     "iopub.execute_input": "2022-12-11T13:45:11.136011Z",
     "iopub.status.busy": "2022-12-11T13:45:11.135587Z",
     "iopub.status.idle": "2022-12-11T13:45:11.148033Z",
     "shell.execute_reply": "2022-12-11T13:45:11.147291Z"
    },
    "papermill": {
     "duration": 0.044078,
     "end_time": "2022-12-11T13:45:11.149977",
     "exception": false,
     "start_time": "2022-12-11T13:45:11.105899",
     "status": "completed"
    },
    "tags": []
   },
   "outputs": [
    {
     "data": {
      "text/html": [
       "<div>\n",
       "<style scoped>\n",
       "    .dataframe tbody tr th:only-of-type {\n",
       "        vertical-align: middle;\n",
       "    }\n",
       "\n",
       "    .dataframe tbody tr th {\n",
       "        vertical-align: top;\n",
       "    }\n",
       "\n",
       "    .dataframe thead th {\n",
       "        text-align: right;\n",
       "    }\n",
       "</style>\n",
       "<table border=\"1\" class=\"dataframe\">\n",
       "  <thead>\n",
       "    <tr style=\"text-align: right;\">\n",
       "      <th></th>\n",
       "      <th>FareBins</th>\n",
       "      <th>FareBins_code</th>\n",
       "    </tr>\n",
       "  </thead>\n",
       "  <tbody>\n",
       "    <tr>\n",
       "      <th>0</th>\n",
       "      <td>(-0.001, 7.854]</td>\n",
       "      <td>0</td>\n",
       "    </tr>\n",
       "    <tr>\n",
       "      <th>1</th>\n",
       "      <td>(41.579, 512.329]</td>\n",
       "      <td>4</td>\n",
       "    </tr>\n",
       "    <tr>\n",
       "      <th>2</th>\n",
       "      <td>(7.854, 10.5]</td>\n",
       "      <td>1</td>\n",
       "    </tr>\n",
       "    <tr>\n",
       "      <th>3</th>\n",
       "      <td>(41.579, 512.329]</td>\n",
       "      <td>4</td>\n",
       "    </tr>\n",
       "    <tr>\n",
       "      <th>4</th>\n",
       "      <td>(7.854, 10.5]</td>\n",
       "      <td>1</td>\n",
       "    </tr>\n",
       "    <tr>\n",
       "      <th>5</th>\n",
       "      <td>(7.854, 10.5]</td>\n",
       "      <td>1</td>\n",
       "    </tr>\n",
       "    <tr>\n",
       "      <th>6</th>\n",
       "      <td>(41.579, 512.329]</td>\n",
       "      <td>4</td>\n",
       "    </tr>\n",
       "    <tr>\n",
       "      <th>7</th>\n",
       "      <td>(10.5, 21.558]</td>\n",
       "      <td>2</td>\n",
       "    </tr>\n",
       "    <tr>\n",
       "      <th>8</th>\n",
       "      <td>(10.5, 21.558]</td>\n",
       "      <td>2</td>\n",
       "    </tr>\n",
       "    <tr>\n",
       "      <th>9</th>\n",
       "      <td>(21.558, 41.579]</td>\n",
       "      <td>3</td>\n",
       "    </tr>\n",
       "  </tbody>\n",
       "</table>\n",
       "</div>"
      ],
      "text/plain": [
       "            FareBins  FareBins_code\n",
       "0    (-0.001, 7.854]              0\n",
       "1  (41.579, 512.329]              4\n",
       "2      (7.854, 10.5]              1\n",
       "3  (41.579, 512.329]              4\n",
       "4      (7.854, 10.5]              1\n",
       "5      (7.854, 10.5]              1\n",
       "6  (41.579, 512.329]              4\n",
       "7     (10.5, 21.558]              2\n",
       "8     (10.5, 21.558]              2\n",
       "9   (21.558, 41.579]              3"
      ]
     },
     "execution_count": 19,
     "metadata": {},
     "output_type": "execute_result"
    }
   ],
   "source": [
    "all_data[['FareBins','FareBins_code']].head(10)"
   ]
  },
  {
   "cell_type": "markdown",
   "id": "e821d686",
   "metadata": {
    "papermill": {
     "duration": 0.028029,
     "end_time": "2022-12-11T13:45:11.208770",
     "exception": false,
     "start_time": "2022-12-11T13:45:11.180741",
     "status": "completed"
    },
    "tags": []
   },
   "source": [
    "- 0 : (-0.001, 7.854]\n",
    "- 1 : (7.854, 10.5]\n",
    "- 2 : (10.5, 21.558]\n",
    "- 3 : (21.558, 41.579]\n",
    "- 4 : (41.579, 512.329]"
   ]
  },
  {
   "cell_type": "markdown",
   "id": "3336c1d8",
   "metadata": {
    "papermill": {
     "duration": 0.027909,
     "end_time": "2022-12-11T13:45:11.265145",
     "exception": false,
     "start_time": "2022-12-11T13:45:11.237236",
     "status": "completed"
    },
    "tags": []
   },
   "source": [
    "* #### **Sex**\n",
    "We will encode the Sex column into a new column- Sex_cat, where 0 = female and 1 = male."
   ]
  },
  {
   "cell_type": "code",
   "execution_count": 20,
   "id": "ac29f610",
   "metadata": {
    "execution": {
     "iopub.execute_input": "2022-12-11T13:45:11.324008Z",
     "iopub.status.busy": "2022-12-11T13:45:11.323280Z",
     "iopub.status.idle": "2022-12-11T13:45:11.331476Z",
     "shell.execute_reply": "2022-12-11T13:45:11.330690Z"
    },
    "papermill": {
     "duration": 0.040857,
     "end_time": "2022-12-11T13:45:11.333880",
     "exception": false,
     "start_time": "2022-12-11T13:45:11.293023",
     "status": "completed"
    },
    "tags": []
   },
   "outputs": [],
   "source": [
    "all_data[\"Sex\"] = all_data[\"Sex\"].astype('category')\n",
    "all_data[\"Sex_cat\"] = all_data[\"Sex\"].cat.codes\n",
    "\n",
    "train_data['Sex_cat'] = all_data['Sex_cat'][:891]\n",
    "test_data['Sex_cat'] = all_data['Sex_cat'][891:]"
   ]
  },
  {
   "cell_type": "code",
   "execution_count": 21,
   "id": "0da809e3",
   "metadata": {
    "execution": {
     "iopub.execute_input": "2022-12-11T13:45:11.393445Z",
     "iopub.status.busy": "2022-12-11T13:45:11.392509Z",
     "iopub.status.idle": "2022-12-11T13:45:11.403123Z",
     "shell.execute_reply": "2022-12-11T13:45:11.401880Z"
    },
    "papermill": {
     "duration": 0.043043,
     "end_time": "2022-12-11T13:45:11.405600",
     "exception": false,
     "start_time": "2022-12-11T13:45:11.362557",
     "status": "completed"
    },
    "tags": []
   },
   "outputs": [
    {
     "data": {
      "text/html": [
       "<div>\n",
       "<style scoped>\n",
       "    .dataframe tbody tr th:only-of-type {\n",
       "        vertical-align: middle;\n",
       "    }\n",
       "\n",
       "    .dataframe tbody tr th {\n",
       "        vertical-align: top;\n",
       "    }\n",
       "\n",
       "    .dataframe thead th {\n",
       "        text-align: right;\n",
       "    }\n",
       "</style>\n",
       "<table border=\"1\" class=\"dataframe\">\n",
       "  <thead>\n",
       "    <tr style=\"text-align: right;\">\n",
       "      <th></th>\n",
       "      <th>Sex</th>\n",
       "      <th>Sex_cat</th>\n",
       "    </tr>\n",
       "  </thead>\n",
       "  <tbody>\n",
       "    <tr>\n",
       "      <th>0</th>\n",
       "      <td>male</td>\n",
       "      <td>1</td>\n",
       "    </tr>\n",
       "    <tr>\n",
       "      <th>1</th>\n",
       "      <td>female</td>\n",
       "      <td>0</td>\n",
       "    </tr>\n",
       "    <tr>\n",
       "      <th>2</th>\n",
       "      <td>female</td>\n",
       "      <td>0</td>\n",
       "    </tr>\n",
       "    <tr>\n",
       "      <th>3</th>\n",
       "      <td>female</td>\n",
       "      <td>0</td>\n",
       "    </tr>\n",
       "    <tr>\n",
       "      <th>4</th>\n",
       "      <td>male</td>\n",
       "      <td>1</td>\n",
       "    </tr>\n",
       "  </tbody>\n",
       "</table>\n",
       "</div>"
      ],
      "text/plain": [
       "      Sex  Sex_cat\n",
       "0    male        1\n",
       "1  female        0\n",
       "2  female        0\n",
       "3  female        0\n",
       "4    male        1"
      ]
     },
     "execution_count": 21,
     "metadata": {},
     "output_type": "execute_result"
    }
   ],
   "source": [
    "all_data[['Sex', 'Sex_cat']].head()"
   ]
  },
  {
   "cell_type": "markdown",
   "id": "8347060a",
   "metadata": {
    "papermill": {
     "duration": 0.027685,
     "end_time": "2022-12-11T13:45:11.461467",
     "exception": false,
     "start_time": "2022-12-11T13:45:11.433782",
     "status": "completed"
    },
    "tags": []
   },
   "source": [
    "* male : 1\n",
    "* female : 0 "
   ]
  },
  {
   "cell_type": "markdown",
   "id": "f1499dfc",
   "metadata": {
    "papermill": {
     "duration": 0.027812,
     "end_time": "2022-12-11T13:45:11.517586",
     "exception": false,
     "start_time": "2022-12-11T13:45:11.489774",
     "status": "completed"
    },
    "tags": []
   },
   "source": [
    "* #### **Adding Family_Size**"
   ]
  },
  {
   "cell_type": "code",
   "execution_count": 22,
   "id": "d599d6d6",
   "metadata": {
    "execution": {
     "iopub.execute_input": "2022-12-11T13:45:11.577408Z",
     "iopub.status.busy": "2022-12-11T13:45:11.576715Z",
     "iopub.status.idle": "2022-12-11T13:45:11.584551Z",
     "shell.execute_reply": "2022-12-11T13:45:11.583499Z"
    },
    "papermill": {
     "duration": 0.040424,
     "end_time": "2022-12-11T13:45:11.586990",
     "exception": false,
     "start_time": "2022-12-11T13:45:11.546566",
     "status": "completed"
    },
    "tags": []
   },
   "outputs": [],
   "source": [
    "all_data['Family_Size'] = all_data['SibSp'] + all_data['Parch']\n",
    "\n",
    "# Substituting the values in train_data and test_data:\n",
    "train_data['Family_Size'] = all_data['Family_Size'][:891]\n",
    "test_data['Family_Size'] = all_data['Family_Size'][891:]"
   ]
  },
  {
   "cell_type": "markdown",
   "id": "8f62cfc2",
   "metadata": {
    "papermill": {
     "duration": 0.028324,
     "end_time": "2022-12-11T13:45:11.643666",
     "exception": false,
     "start_time": "2022-12-11T13:45:11.615342",
     "status": "completed"
    },
    "tags": []
   },
   "source": [
    "* #### **Adding Family_Survival**\n",
    "Grouping families and people with the same tickets together and researches the info."
   ]
  },
  {
   "cell_type": "code",
   "execution_count": 23,
   "id": "7b74ff09",
   "metadata": {
    "execution": {
     "iopub.execute_input": "2022-12-11T13:45:11.702418Z",
     "iopub.status.busy": "2022-12-11T13:45:11.701638Z",
     "iopub.status.idle": "2022-12-11T13:45:11.708938Z",
     "shell.execute_reply": "2022-12-11T13:45:11.707771Z"
    },
    "papermill": {
     "duration": 0.039333,
     "end_time": "2022-12-11T13:45:11.711207",
     "exception": false,
     "start_time": "2022-12-11T13:45:11.671874",
     "status": "completed"
    },
    "tags": []
   },
   "outputs": [],
   "source": [
    "all_data['Last_Name'] = all_data['Name'].apply(lambda x: str.split(x, \",\")[0])"
   ]
  },
  {
   "cell_type": "code",
   "execution_count": 24,
   "id": "f99a730f",
   "metadata": {
    "execution": {
     "iopub.execute_input": "2022-12-11T13:45:11.771392Z",
     "iopub.status.busy": "2022-12-11T13:45:11.770720Z",
     "iopub.status.idle": "2022-12-11T13:45:12.524542Z",
     "shell.execute_reply": "2022-12-11T13:45:12.523172Z"
    },
    "papermill": {
     "duration": 0.78755,
     "end_time": "2022-12-11T13:45:12.527355",
     "exception": false,
     "start_time": "2022-12-11T13:45:11.739805",
     "status": "completed"
    },
    "tags": []
   },
   "outputs": [
    {
     "name": "stdout",
     "output_type": "stream",
     "text": [
      "Number of passengers with family survival information: 420\n"
     ]
    }
   ],
   "source": [
    "DEFAULT_SURVIVAL_VALUE = 0.5\n",
    "all_data['Family_Survival'] = DEFAULT_SURVIVAL_VALUE\n",
    "\n",
    "for grp, grp_df in all_data[['Survived','Name', 'Last_Name', 'Fare', 'Ticket', 'PassengerId',\n",
    "                           'SibSp', 'Parch', 'Age', 'Cabin']].groupby(['Last_Name', 'Fare']):\n",
    "    \n",
    "    if len(grp_df) != 1: # A Family group is found.\n",
    "        \n",
    "        for ind, row in grp_df.iterrows():\n",
    "            surv_max = grp_df.drop(ind)['Survived'].max()\n",
    "            surv_min = grp_df.drop(ind)['Survived'].min()\n",
    "            passID = row['PassengerId']\n",
    "            \n",
    "            if surv_max == 1.0:\n",
    "                all_data.loc[all_data.PassengerId == passID, 'Family_Survival'] = 1\n",
    "            elif surv_min == 0.0:\n",
    "                all_data.loc[all_data.PassengerId == passID, 'Family_Survival'] = 0\n",
    "\n",
    "print(\"Number of passengers with family survival information:\", \n",
    "      all_data.loc[all_data['Family_Survival'] != 0.5].shape[0])"
   ]
  },
  {
   "cell_type": "code",
   "execution_count": 25,
   "id": "02b83674",
   "metadata": {
    "execution": {
     "iopub.execute_input": "2022-12-11T13:45:12.588381Z",
     "iopub.status.busy": "2022-12-11T13:45:12.587939Z",
     "iopub.status.idle": "2022-12-11T13:45:13.329534Z",
     "shell.execute_reply": "2022-12-11T13:45:13.328395Z"
    },
    "papermill": {
     "duration": 0.775461,
     "end_time": "2022-12-11T13:45:13.332450",
     "exception": false,
     "start_time": "2022-12-11T13:45:12.556989",
     "status": "completed"
    },
    "tags": []
   },
   "outputs": [
    {
     "name": "stdout",
     "output_type": "stream",
     "text": [
      "Number of passenger with family/group survival information:  546\n"
     ]
    }
   ],
   "source": [
    "for grp, grp_df in all_data.groupby('Ticket'):\n",
    "    if len(grp_df) != 1:\n",
    "        \n",
    "        for ind, row in grp_df.iterrows():\n",
    "            if (row['Family_Survival'] == 0) | (row['Family_Survival'] == 0.5):\n",
    "                surv_max = grp_df.drop(ind)['Survived'].max()\n",
    "                surv_min = grp_df.drop(ind)['Survived'].min()\n",
    "                passID = row['PassengerId']\n",
    "\n",
    "                if surv_max == 1.0:\n",
    "                    all_data.loc[all_data.PassengerId == passID, 'Family_Survival'] = 1\n",
    "                elif surv_min == 0.0:\n",
    "                    all_data.loc[all_data.PassengerId == passID, 'Family_Survival'] = 0\n",
    "print(\"Number of passenger with family/group survival information: \" ,\n",
    "      (all_data[all_data['Family_Survival']!=0.5].shape[0]))"
   ]
  },
  {
   "cell_type": "code",
   "execution_count": 26,
   "id": "ca9ca4fd",
   "metadata": {
    "execution": {
     "iopub.execute_input": "2022-12-11T13:45:13.393350Z",
     "iopub.status.busy": "2022-12-11T13:45:13.392753Z",
     "iopub.status.idle": "2022-12-11T13:45:13.398847Z",
     "shell.execute_reply": "2022-12-11T13:45:13.397755Z"
    },
    "papermill": {
     "duration": 0.039161,
     "end_time": "2022-12-11T13:45:13.401060",
     "exception": false,
     "start_time": "2022-12-11T13:45:13.361899",
     "status": "completed"
    },
    "tags": []
   },
   "outputs": [],
   "source": [
    "# # Family_Survival in TRAIN_DATA and TEST_DATA:\n",
    "train_data['Family_Survival'] = all_data['Family_Survival'][:891]\n",
    "test_data['Family_Survival'] = all_data['Family_Survival'][891:]"
   ]
  },
  {
   "cell_type": "markdown",
   "id": "edd6e470",
   "metadata": {
    "papermill": {
     "duration": 0.028902,
     "end_time": "2022-12-11T13:45:13.458956",
     "exception": false,
     "start_time": "2022-12-11T13:45:13.430054",
     "status": "completed"
    },
    "tags": []
   },
   "source": [
    "* #### **Cleaning Data**"
   ]
  },
  {
   "cell_type": "code",
   "execution_count": 27,
   "id": "eb49be7e",
   "metadata": {
    "execution": {
     "iopub.execute_input": "2022-12-11T13:45:13.518309Z",
     "iopub.status.busy": "2022-12-11T13:45:13.517701Z",
     "iopub.status.idle": "2022-12-11T13:45:13.524513Z",
     "shell.execute_reply": "2022-12-11T13:45:13.523508Z"
    },
    "papermill": {
     "duration": 0.039572,
     "end_time": "2022-12-11T13:45:13.527076",
     "exception": false,
     "start_time": "2022-12-11T13:45:13.487504",
     "status": "completed"
    },
    "tags": []
   },
   "outputs": [
    {
     "data": {
      "text/plain": [
       "Index(['PassengerId', 'Survived', 'Pclass', 'Name', 'Sex', 'Age', 'SibSp',\n",
       "       'Parch', 'Ticket', 'Fare', 'Cabin', 'Embarked', 'AgeGroup',\n",
       "       'AgeGroup_code', 'FareBins', 'FareBins_code', 'Sex_cat', 'Family_Size',\n",
       "       'Last_Name', 'Family_Survival'],\n",
       "      dtype='object')"
      ]
     },
     "execution_count": 27,
     "metadata": {},
     "output_type": "execute_result"
    }
   ],
   "source": [
    "all_data.columns"
   ]
  },
  {
   "cell_type": "code",
   "execution_count": 28,
   "id": "90c46d17",
   "metadata": {
    "execution": {
     "iopub.execute_input": "2022-12-11T13:45:13.588013Z",
     "iopub.status.busy": "2022-12-11T13:45:13.587629Z",
     "iopub.status.idle": "2022-12-11T13:45:13.597254Z",
     "shell.execute_reply": "2022-12-11T13:45:13.595719Z"
    },
    "papermill": {
     "duration": 0.042314,
     "end_time": "2022-12-11T13:45:13.599770",
     "exception": false,
     "start_time": "2022-12-11T13:45:13.557456",
     "status": "completed"
    },
    "tags": []
   },
   "outputs": [],
   "source": [
    "train_data.drop(['PassengerId','Name', 'Sex', 'Age', 'SibSp',\n",
    "                 'Parch', 'Ticket', 'Fare', 'Cabin', 'Embarked'], axis = 1, inplace = True)\n",
    "\n",
    "test_data.drop(['PassengerId','Name', 'Sex', 'Age', 'SibSp',\n",
    "                 'Parch', 'Ticket', 'Fare', 'Cabin', 'Embarked'], axis = 1, inplace = True)"
   ]
  },
  {
   "cell_type": "code",
   "execution_count": 29,
   "id": "4d42e2c4",
   "metadata": {
    "execution": {
     "iopub.execute_input": "2022-12-11T13:45:13.659218Z",
     "iopub.status.busy": "2022-12-11T13:45:13.658775Z",
     "iopub.status.idle": "2022-12-11T13:45:13.665561Z",
     "shell.execute_reply": "2022-12-11T13:45:13.663670Z"
    },
    "papermill": {
     "duration": 0.03983,
     "end_time": "2022-12-11T13:45:13.668329",
     "exception": false,
     "start_time": "2022-12-11T13:45:13.628499",
     "status": "completed"
    },
    "tags": []
   },
   "outputs": [
    {
     "name": "stdout",
     "output_type": "stream",
     "text": [
      "Train data column names:  Index(['Survived', 'Pclass', 'AgeGroup_code', 'FareBins_code', 'Sex_cat',\n",
      "       'Family_Size', 'Family_Survival'],\n",
      "      dtype='object')\n",
      "\n",
      "Test data column names:  Index(['Pclass', 'AgeGroup_code', 'FareBins_code', 'Sex_cat', 'Family_Size',\n",
      "       'Family_Survival'],\n",
      "      dtype='object')\n"
     ]
    }
   ],
   "source": [
    "print(\"Train data column names: \", train_data.columns)\n",
    "print(\"\\nTest data column names: \", test_data.columns)"
   ]
  },
  {
   "cell_type": "code",
   "execution_count": null,
   "id": "ac898237",
   "metadata": {
    "papermill": {
     "duration": 0.028925,
     "end_time": "2022-12-11T13:45:13.726595",
     "exception": false,
     "start_time": "2022-12-11T13:45:13.697670",
     "status": "completed"
    },
    "tags": []
   },
   "outputs": [],
   "source": []
  },
  {
   "cell_type": "code",
   "execution_count": null,
   "id": "79282939",
   "metadata": {
    "execution": {
     "iopub.execute_input": "2022-11-23T10:00:28.606778Z",
     "iopub.status.busy": "2022-11-23T10:00:28.606372Z",
     "iopub.status.idle": "2022-11-23T10:00:28.625823Z",
     "shell.execute_reply": "2022-11-23T10:00:28.624592Z",
     "shell.execute_reply.started": "2022-11-23T10:00:28.606745Z"
    },
    "papermill": {
     "duration": 0.029067,
     "end_time": "2022-12-11T13:45:13.784986",
     "exception": false,
     "start_time": "2022-12-11T13:45:13.755919",
     "status": "completed"
    },
    "tags": []
   },
   "outputs": [],
   "source": []
  },
  {
   "cell_type": "markdown",
   "id": "84987146",
   "metadata": {
    "papermill": {
     "duration": 0.028664,
     "end_time": "2022-12-11T13:45:13.843399",
     "exception": false,
     "start_time": "2022-12-11T13:45:13.814735",
     "status": "completed"
    },
    "tags": []
   },
   "source": [
    "#### From now on we will continue to work with the training set (train_data) and not with all the data"
   ]
  },
  {
   "cell_type": "markdown",
   "id": "ce16ba3b",
   "metadata": {
    "papermill": {
     "duration": 0.028823,
     "end_time": "2022-12-11T13:45:13.901275",
     "exception": false,
     "start_time": "2022-12-11T13:45:13.872452",
     "status": "completed"
    },
    "tags": []
   },
   "source": [
    "### **Statistical information and visualization:**"
   ]
  },
  {
   "cell_type": "code",
   "execution_count": 30,
   "id": "a33a0ad8",
   "metadata": {
    "execution": {
     "iopub.execute_input": "2022-12-11T13:45:13.961489Z",
     "iopub.status.busy": "2022-12-11T13:45:13.960277Z",
     "iopub.status.idle": "2022-12-11T13:45:13.990002Z",
     "shell.execute_reply": "2022-12-11T13:45:13.988416Z"
    },
    "papermill": {
     "duration": 0.062006,
     "end_time": "2022-12-11T13:45:13.992094",
     "exception": false,
     "start_time": "2022-12-11T13:45:13.930088",
     "status": "completed"
    },
    "tags": []
   },
   "outputs": [
    {
     "data": {
      "text/html": [
       "<div>\n",
       "<style scoped>\n",
       "    .dataframe tbody tr th:only-of-type {\n",
       "        vertical-align: middle;\n",
       "    }\n",
       "\n",
       "    .dataframe tbody tr th {\n",
       "        vertical-align: top;\n",
       "    }\n",
       "\n",
       "    .dataframe thead th {\n",
       "        text-align: right;\n",
       "    }\n",
       "</style>\n",
       "<table border=\"1\" class=\"dataframe\">\n",
       "  <thead>\n",
       "    <tr style=\"text-align: right;\">\n",
       "      <th></th>\n",
       "      <th>Survived</th>\n",
       "      <th>Pclass</th>\n",
       "      <th>AgeGroup_code</th>\n",
       "      <th>FareBins_code</th>\n",
       "      <th>Sex_cat</th>\n",
       "      <th>Family_Size</th>\n",
       "      <th>Family_Survival</th>\n",
       "    </tr>\n",
       "  </thead>\n",
       "  <tbody>\n",
       "    <tr>\n",
       "      <th>count</th>\n",
       "      <td>891.000000</td>\n",
       "      <td>891.000000</td>\n",
       "      <td>891.000000</td>\n",
       "      <td>891.000000</td>\n",
       "      <td>891.000000</td>\n",
       "      <td>891.000000</td>\n",
       "      <td>891.000000</td>\n",
       "    </tr>\n",
       "    <tr>\n",
       "      <th>mean</th>\n",
       "      <td>0.383838</td>\n",
       "      <td>2.308642</td>\n",
       "      <td>0.450056</td>\n",
       "      <td>1.985410</td>\n",
       "      <td>0.647587</td>\n",
       "      <td>0.904602</td>\n",
       "      <td>0.519641</td>\n",
       "    </tr>\n",
       "    <tr>\n",
       "      <th>std</th>\n",
       "      <td>0.486592</td>\n",
       "      <td>0.836071</td>\n",
       "      <td>0.992402</td>\n",
       "      <td>1.411355</td>\n",
       "      <td>0.477990</td>\n",
       "      <td>1.613459</td>\n",
       "      <td>0.323961</td>\n",
       "    </tr>\n",
       "    <tr>\n",
       "      <th>min</th>\n",
       "      <td>0.000000</td>\n",
       "      <td>1.000000</td>\n",
       "      <td>0.000000</td>\n",
       "      <td>0.000000</td>\n",
       "      <td>0.000000</td>\n",
       "      <td>0.000000</td>\n",
       "      <td>0.000000</td>\n",
       "    </tr>\n",
       "    <tr>\n",
       "      <th>25%</th>\n",
       "      <td>0.000000</td>\n",
       "      <td>2.000000</td>\n",
       "      <td>0.000000</td>\n",
       "      <td>1.000000</td>\n",
       "      <td>0.000000</td>\n",
       "      <td>0.000000</td>\n",
       "      <td>0.500000</td>\n",
       "    </tr>\n",
       "    <tr>\n",
       "      <th>50%</th>\n",
       "      <td>0.000000</td>\n",
       "      <td>3.000000</td>\n",
       "      <td>0.000000</td>\n",
       "      <td>2.000000</td>\n",
       "      <td>1.000000</td>\n",
       "      <td>0.000000</td>\n",
       "      <td>0.500000</td>\n",
       "    </tr>\n",
       "    <tr>\n",
       "      <th>75%</th>\n",
       "      <td>1.000000</td>\n",
       "      <td>3.000000</td>\n",
       "      <td>0.000000</td>\n",
       "      <td>3.000000</td>\n",
       "      <td>1.000000</td>\n",
       "      <td>1.000000</td>\n",
       "      <td>0.500000</td>\n",
       "    </tr>\n",
       "    <tr>\n",
       "      <th>max</th>\n",
       "      <td>1.000000</td>\n",
       "      <td>3.000000</td>\n",
       "      <td>3.000000</td>\n",
       "      <td>4.000000</td>\n",
       "      <td>1.000000</td>\n",
       "      <td>10.000000</td>\n",
       "      <td>1.000000</td>\n",
       "    </tr>\n",
       "  </tbody>\n",
       "</table>\n",
       "</div>"
      ],
      "text/plain": [
       "         Survived      Pclass  AgeGroup_code  FareBins_code     Sex_cat  \\\n",
       "count  891.000000  891.000000     891.000000     891.000000  891.000000   \n",
       "mean     0.383838    2.308642       0.450056       1.985410    0.647587   \n",
       "std      0.486592    0.836071       0.992402       1.411355    0.477990   \n",
       "min      0.000000    1.000000       0.000000       0.000000    0.000000   \n",
       "25%      0.000000    2.000000       0.000000       1.000000    0.000000   \n",
       "50%      0.000000    3.000000       0.000000       2.000000    1.000000   \n",
       "75%      1.000000    3.000000       0.000000       3.000000    1.000000   \n",
       "max      1.000000    3.000000       3.000000       4.000000    1.000000   \n",
       "\n",
       "       Family_Size  Family_Survival  \n",
       "count   891.000000       891.000000  \n",
       "mean      0.904602         0.519641  \n",
       "std       1.613459         0.323961  \n",
       "min       0.000000         0.000000  \n",
       "25%       0.000000         0.500000  \n",
       "50%       0.000000         0.500000  \n",
       "75%       1.000000         0.500000  \n",
       "max      10.000000         1.000000  "
      ]
     },
     "execution_count": 30,
     "metadata": {},
     "output_type": "execute_result"
    }
   ],
   "source": [
    "train_data.describe(include='all')"
   ]
  },
  {
   "cell_type": "code",
   "execution_count": 31,
   "id": "6f9d0ca5",
   "metadata": {
    "execution": {
     "iopub.execute_input": "2022-12-11T13:45:14.053482Z",
     "iopub.status.busy": "2022-12-11T13:45:14.051988Z",
     "iopub.status.idle": "2022-12-11T13:45:14.977106Z",
     "shell.execute_reply": "2022-12-11T13:45:14.975585Z"
    },
    "papermill": {
     "duration": 0.958393,
     "end_time": "2022-12-11T13:45:14.979823",
     "exception": false,
     "start_time": "2022-12-11T13:45:14.021430",
     "status": "completed"
    },
    "tags": []
   },
   "outputs": [
    {
     "data": {
      "text/plain": [
       "Text(0.5, 0, 'Fare Range')"
      ]
     },
     "execution_count": 31,
     "metadata": {},
     "output_type": "execute_result"
    },
    {
     "data": {
      "image/png": "[encoded data removed]",
      "text/plain": [
       "<Figure size 1080x1440 with 7 Axes>"
      ]
     },
     "metadata": {
      "needs_background": "light"
     },
     "output_type": "display_data"
    }
   ],
   "source": [
    "plt.figure(figsize = (15,20))\n",
    "\n",
    "plt.subplot(3, 3, 1)\n",
    "sns.countplot(x = 'Survived', data = train_data.replace({'Survived':{0:'dead', 1:'survived'}}))\n",
    "plt.title(\"How Many Survived\")\n",
    "\n",
    "plt.subplot(3, 3, 2)\n",
    "sns.countplot(x = \"Sex_cat\", data = train_data.replace({'Sex_cat':{0:'females', 1:'males'}}))\n",
    "plt.title(\"Sex Counting\")\n",
    "plt.xlabel(\"Sex\")\n",
    "\n",
    "plt.subplot(3, 3, 3)\n",
    "sns.countplot(x = \"AgeGroup_code\", data = train_data.replace({'AgeGroup_code':{0:'Adult',1:'Infant',2:'Kid',3:'Teen'}}))\n",
    "plt.title(\"Age Distribution\")\n",
    "plt.xlabel(\"Age Group\")\n",
    "\n",
    "plt.subplot(3, 3, 4)\n",
    "sns.countplot(x = 'Pclass', data = train_data.replace({'Pclass':{1:'1st', 2:'2nd', 3:'3rd'}}))\n",
    "plt.title('Ticket Class')\n",
    "plt.xlabel(\"Class\")\n",
    "\n",
    "plt.subplot(3, 3, 5)\n",
    "sns.countplot(x = 'Family_Size', data = train_data)\n",
    "plt.title(\"Family Size\")\n",
    "\n",
    "plt.subplot(3, 3, 6)\n",
    "sns.countplot(x = 'Family_Survival', data = train_data)\n",
    "plt.title('Family Survival')\n",
    "\n",
    "plt.subplot(3, 3, 7)\n",
    "sns.countplot(x = 'FareBins_code', data = train_data.replace({'FareBins_code':{0:'(-0.001, 7.854]',\n",
    "                                                                              1:'(7.854, 10.5]',\n",
    "                                                                              2:'(10.5, 21.558]',\n",
    "                                                                              3:'(21.558, 41.579]',\n",
    "                                                                              4:'(41.579, 512.329]'}}))\n",
    "plt.title('Passenger fare')\n",
    "plt.xticks(rotation = 45)\n",
    "plt.xlabel(\"Fare Range\")"
   ]
  },
  {
   "cell_type": "markdown",
   "id": "17cbe7ed",
   "metadata": {
    "papermill": {
     "duration": 0.029496,
     "end_time": "2022-12-11T13:45:15.040213",
     "exception": false,
     "start_time": "2022-12-11T13:45:15.010717",
     "status": "completed"
    },
    "tags": []
   },
   "source": [
    " #### According to the descriptive statistics table and the plots above-\n",
    "\n",
    "**Survived:**\n",
    "- Most of the passengers didn't survived (as we already know...), the mean = 0.3838 and the median = 0.\n",
    "\n",
    "**Ticket Class (Pclass):**\n",
    "- The mean = 2.3 and the median = 3, indicates that most tickets are for third class.\n",
    "\n",
    "**Age/AgeGroup_code**\n",
    "- The average AgeGroup_code is 0.45 and the median is 0, with a std of ~0.99. Most of the passengers are adults.\n",
    "\n",
    "**Fare/FareBins_code**\n",
    "- It seems that most of the passengers paids for the trip between 7.854 to 10.5 and between 21.558 to 41.579.\n",
    "\n",
    "**Sex**\n",
    "- Most of passengers are males.\n",
    "\n",
    "**Family Size:**\n",
    "- Most of the passengers came alone (mean = 0.9, std = 1.6).\n",
    "\n",
    "**Family Survival:**\n",
    "- There is no substantial evidence that being with family or being part of a group changes the chance of survival."
   ]
  },
  {
   "cell_type": "markdown",
   "id": "aaac8cee",
   "metadata": {
    "papermill": {
     "duration": 0.029479,
     "end_time": "2022-12-11T13:45:15.099461",
     "exception": false,
     "start_time": "2022-12-11T13:45:15.069982",
     "status": "completed"
    },
    "tags": []
   },
   "source": [
    "#### We want to evaluate which features are affecting the chance to survive.\n",
    "#### Accordingly, let's visually examine the connection."
   ]
  },
  {
   "cell_type": "markdown",
   "id": "37ee246d",
   "metadata": {
    "papermill": {
     "duration": 0.029852,
     "end_time": "2022-12-11T13:45:15.159079",
     "exception": false,
     "start_time": "2022-12-11T13:45:15.129227",
     "status": "completed"
    },
    "tags": []
   },
   "source": [
    "**Survived ~ Sex**"
   ]
  },
  {
   "cell_type": "code",
   "execution_count": 32,
   "id": "dfb76dc8",
   "metadata": {
    "execution": {
     "iopub.execute_input": "2022-12-11T13:45:15.221285Z",
     "iopub.status.busy": "2022-12-11T13:45:15.220690Z",
     "iopub.status.idle": "2022-12-11T13:45:15.373583Z",
     "shell.execute_reply": "2022-12-11T13:45:15.372742Z"
    },
    "papermill": {
     "duration": 0.186883,
     "end_time": "2022-12-11T13:45:15.375733",
     "exception": false,
     "start_time": "2022-12-11T13:45:15.188850",
     "status": "completed"
    },
    "tags": []
   },
   "outputs": [
    {
     "name": "stdout",
     "output_type": "stream",
     "text": [
      "% of men who survived: 0.18890814558058924\n",
      "% of women who survived: 0.7420382165605095\n"
     ]
    },
    {
     "data": {
      "text/plain": [
       "<matplotlib.legend.Legend at 0x7f5b5dcd5cd0>"
      ]
     },
     "execution_count": 32,
     "metadata": {},
     "output_type": "execute_result"
    },
    {
     "data": {
      "image/png": "[encoded data removed]",
      "text/plain": [
       "<Figure size 432x288 with 1 Axes>"
      ]
     },
     "metadata": {
      "needs_background": "light"
     },
     "output_type": "display_data"
    }
   ],
   "source": [
    "women = train_data.loc[train_data.Sex_cat == 0]['Survived']\n",
    "rate_women = sum(women) / len(women)\n",
    "\n",
    "men = train_data.loc[train_data.Sex_cat == 1]['Survived']\n",
    "rate_men = sum(men) / len(men)\n",
    "\n",
    "print(\"% of men who survived:\", rate_men)\n",
    "print(\"% of women who survived:\", rate_women)\n",
    "\n",
    "sns.countplot(x = 'Sex_cat', data = train_data.replace({'Sex_cat':{0:'females', 1:'males'}}), hue = 'Survived')\n",
    "plt.xlabel(\"Sex\")\n",
    "plt.legend(labels = ['dead', 'survived'], title = 'Survived')"
   ]
  },
  {
   "cell_type": "markdown",
   "id": "0cc6aa72",
   "metadata": {
    "papermill": {
     "duration": 0.031446,
     "end_time": "2022-12-11T13:45:15.440804",
     "exception": false,
     "start_time": "2022-12-11T13:45:15.409358",
     "status": "completed"
    },
    "tags": []
   },
   "source": [
    "**Survived ~ Ticket Class (Pclass)**"
   ]
  },
  {
   "cell_type": "code",
   "execution_count": 33,
   "id": "b91fca1b",
   "metadata": {
    "execution": {
     "iopub.execute_input": "2022-12-11T13:45:15.504596Z",
     "iopub.status.busy": "2022-12-11T13:45:15.504060Z",
     "iopub.status.idle": "2022-12-11T13:45:15.677530Z",
     "shell.execute_reply": "2022-12-11T13:45:15.676587Z"
    },
    "papermill": {
     "duration": 0.208283,
     "end_time": "2022-12-11T13:45:15.680116",
     "exception": false,
     "start_time": "2022-12-11T13:45:15.471833",
     "status": "completed"
    },
    "tags": []
   },
   "outputs": [
    {
     "name": "stdout",
     "output_type": "stream",
     "text": [
      "% of class 1 who survived: 0.6296296296296297\n",
      "% of class 2 who survived: 0.47282608695652173\n",
      "% of class 3 who survived: 0.24236252545824846\n"
     ]
    },
    {
     "data": {
      "text/plain": [
       "<matplotlib.legend.Legend at 0x7f5b5e5b0fd0>"
      ]
     },
     "execution_count": 33,
     "metadata": {},
     "output_type": "execute_result"
    },
    {
     "data": {
      "image/png": "[encoded data removed]",
      "text/plain": [
       "<Figure size 432x288 with 1 Axes>"
      ]
     },
     "metadata": {
      "needs_background": "light"
     },
     "output_type": "display_data"
    }
   ],
   "source": [
    "class1 = train_data.loc[train_data.Pclass == 1]['Survived']\n",
    "rate_class1 = sum(class1) / len(class1)\n",
    "\n",
    "class2 = train_data.loc[train_data.Pclass == 2]['Survived']\n",
    "rate_class2 = sum(class2) / len(class2)\n",
    "\n",
    "class3 = train_data.loc[train_data.Pclass == 3]['Survived']\n",
    "rate_class3 = sum(class3) / len(class3)\n",
    "\n",
    "print(\"% of class 1 who survived:\", rate_class1)\n",
    "print(\"% of class 2 who survived:\", rate_class2)\n",
    "print(\"% of class 3 who survived:\", rate_class3)\n",
    "\n",
    "sns.countplot(x = 'Pclass', data = train_data, hue = 'Survived')\n",
    "plt.xlabel(\"Class\")\n",
    "plt.legend(labels = ['dead', 'survived'], title = 'Survived')"
   ]
  },
  {
   "cell_type": "markdown",
   "id": "ae778be8",
   "metadata": {
    "papermill": {
     "duration": 0.031466,
     "end_time": "2022-12-11T13:45:15.742937",
     "exception": false,
     "start_time": "2022-12-11T13:45:15.711471",
     "status": "completed"
    },
    "tags": []
   },
   "source": [
    "**Survived ~ Family Size**"
   ]
  },
  {
   "cell_type": "code",
   "execution_count": 34,
   "id": "0eee57a0",
   "metadata": {
    "execution": {
     "iopub.execute_input": "2022-12-11T13:45:15.807145Z",
     "iopub.status.busy": "2022-12-11T13:45:15.806756Z",
     "iopub.status.idle": "2022-12-11T13:45:16.027423Z",
     "shell.execute_reply": "2022-12-11T13:45:16.026277Z"
    },
    "papermill": {
     "duration": 0.255481,
     "end_time": "2022-12-11T13:45:16.029603",
     "exception": false,
     "start_time": "2022-12-11T13:45:15.774122",
     "status": "completed"
    },
    "tags": []
   },
   "outputs": [
    {
     "name": "stdout",
     "output_type": "stream",
     "text": [
      "% of passengers who have  1  of family members aboard the Titanic that survived: 0.5527950310559007\n",
      "% of passengers who have  0  of family members aboard the Titanic that survived: 0.30353817504655495\n",
      "% of passengers who have  4  of family members aboard the Titanic that survived: 0.2\n",
      "% of passengers who have  2  of family members aboard the Titanic that survived: 0.5784313725490197\n",
      "% of passengers who have  6  of family members aboard the Titanic that survived: 0.3333333333333333\n",
      "% of passengers who have  5  of family members aboard the Titanic that survived: 0.13636363636363635\n",
      "% of passengers who have  3  of family members aboard the Titanic that survived: 0.7241379310344828\n",
      "% of passengers who have  7  of family members aboard the Titanic that survived: 0.0\n",
      "% of passengers who have  10  of family members aboard the Titanic that survived: 0.0\n"
     ]
    },
    {
     "data": {
      "text/plain": [
       "<matplotlib.legend.Legend at 0x7f5b5eb54110>"
      ]
     },
     "execution_count": 34,
     "metadata": {},
     "output_type": "execute_result"
    },
    {
     "data": {
      "image/png": "[encoded data removed]",
      "text/plain": [
       "<Figure size 432x288 with 1 Axes>"
      ]
     },
     "metadata": {
      "needs_background": "light"
     },
     "output_type": "display_data"
    }
   ],
   "source": [
    "for i in train_data.Family_Size.unique():\n",
    "    temp_survived = train_data.loc[train_data.Family_Size == i]['Survived']\n",
    "    rate = sum(temp_survived) / len(temp_survived)\n",
    "    print(\"% of passengers who have \", i, \" of family members aboard the Titanic that survived:\", rate)\n",
    "    \n",
    "sns.countplot(x = 'Family_Size', data = train_data, hue = 'Survived')\n",
    "plt.legend(labels = ['dead', 'survived'], title = 'Survived', loc='upper right')"
   ]
  },
  {
   "cell_type": "markdown",
   "id": "d30d9a7a",
   "metadata": {
    "papermill": {
     "duration": 0.031381,
     "end_time": "2022-12-11T13:45:16.094363",
     "exception": false,
     "start_time": "2022-12-11T13:45:16.062982",
     "status": "completed"
    },
    "tags": []
   },
   "source": [
    "**Survived ~ Fare**"
   ]
  },
  {
   "cell_type": "code",
   "execution_count": 35,
   "id": "a63e56ff",
   "metadata": {
    "execution": {
     "iopub.execute_input": "2022-12-11T13:45:16.160226Z",
     "iopub.status.busy": "2022-12-11T13:45:16.159684Z",
     "iopub.status.idle": "2022-12-11T13:45:16.356962Z",
     "shell.execute_reply": "2022-12-11T13:45:16.355334Z"
    },
    "papermill": {
     "duration": 0.232007,
     "end_time": "2022-12-11T13:45:16.359480",
     "exception": false,
     "start_time": "2022-12-11T13:45:16.127473",
     "status": "completed"
    },
    "tags": []
   },
   "outputs": [
    {
     "name": "stdout",
     "output_type": "stream",
     "text": [
      "% of passengers who paid in a range  (-0.001, 7.854]  for a ticket that survived: 0.21787709497206703\n",
      "% of passengers who paid in a range  (41.579, 512.329]  for a ticket that survived: 0.6453488372093024\n",
      "% of passengers who paid in a range  (7.854, 10.5]  for a ticket that survived: 0.20108695652173914\n",
      "% of passengers who paid in a range  (10.5, 21.558]  for a ticket that survived: 0.4269005847953216\n",
      "% of passengers who paid in a range  (21.558, 41.579]  for a ticket that survived: 0.44324324324324327\n"
     ]
    },
    {
     "data": {
      "text/plain": [
       "(array([0, 1, 2, 3, 4]),\n",
       " [Text(0, 0, '(-0.001, 7.854]'),\n",
       "  Text(1, 0, '(41.579, 512.329]'),\n",
       "  Text(2, 0, '(7.854, 10.5]'),\n",
       "  Text(3, 0, '(10.5, 21.558]'),\n",
       "  Text(4, 0, '(21.558, 41.579]')])"
      ]
     },
     "execution_count": 35,
     "metadata": {},
     "output_type": "execute_result"
    },
    {
     "data": {
      "image/png": "[encoded data removed]",
      "text/plain": [
       "<Figure size 432x288 with 1 Axes>"
      ]
     },
     "metadata": {
      "needs_background": "light"
     },
     "output_type": "display_data"
    }
   ],
   "source": [
    "temp_train = train_data.replace({'FareBins_code':{0:'(-0.001, 7.854]',1:'(7.854, 10.5]',\n",
    "                                                  2:'(10.5, 21.558]',3:'(21.558, 41.579]',4:'(41.579, 512.329]'}})\n",
    "for i in temp_train.FareBins_code.unique():\n",
    "    temp_survived = temp_train.loc[temp_train.FareBins_code == i]['Survived']\n",
    "    rate = sum(temp_survived) / len(temp_survived)\n",
    "    print(\"% of passengers who paid in a range \", i, \" for a ticket that survived:\", rate)\n",
    "    \n",
    "\n",
    "sns.countplot(x = 'FareBins_code', data = temp_train, hue = 'Survived')\n",
    "plt.xlabel(\"Fare Range\")\n",
    "plt.legend(labels = ['dead', 'survived'], title = 'Survived', loc='upper right')\n",
    "plt.xticks(rotation = 45)"
   ]
  },
  {
   "cell_type": "markdown",
   "id": "339b676e",
   "metadata": {
    "papermill": {
     "duration": 0.030413,
     "end_time": "2022-12-11T13:45:16.421146",
     "exception": false,
     "start_time": "2022-12-11T13:45:16.390733",
     "status": "completed"
    },
    "tags": []
   },
   "source": [
    "**Survived ~ Age**"
   ]
  },
  {
   "cell_type": "code",
   "execution_count": 36,
   "id": "bbde1bc4",
   "metadata": {
    "execution": {
     "iopub.execute_input": "2022-12-11T13:45:16.485504Z",
     "iopub.status.busy": "2022-12-11T13:45:16.484793Z",
     "iopub.status.idle": "2022-12-11T13:45:16.795905Z",
     "shell.execute_reply": "2022-12-11T13:45:16.795157Z"
    },
    "papermill": {
     "duration": 0.345873,
     "end_time": "2022-12-11T13:45:16.797884",
     "exception": false,
     "start_time": "2022-12-11T13:45:16.452011",
     "status": "completed"
    },
    "tags": []
   },
   "outputs": [
    {
     "name": "stdout",
     "output_type": "stream",
     "text": [
      "% of Adults that survived: 0.36099585062240663\n",
      "% of Infants that survived: 0.6666666666666666\n",
      "% of Teens that survived: 0.4105263157894737\n",
      "% of Kids that survived: 0.5116279069767442\n"
     ]
    },
    {
     "data": {
      "text/plain": [
       "<matplotlib.legend.Legend at 0x7f5b5ec12410>"
      ]
     },
     "execution_count": 36,
     "metadata": {},
     "output_type": "execute_result"
    },
    {
     "data": {
      "image/png": "[encoded data removed]",
      "text/plain": [
       "<Figure size 432x288 with 1 Axes>"
      ]
     },
     "metadata": {
      "needs_background": "light"
     },
     "output_type": "display_data"
    }
   ],
   "source": [
    "temp_train = train_data.replace({'AgeGroup_code':{0:'Adult',1:'Infant',2:'Kid',3:'Teen'}})\n",
    "for i in temp_train.AgeGroup_code.unique():\n",
    "    temp_survived = temp_train.loc[temp_train.AgeGroup_code == i]['Survived']\n",
    "    rate = sum(temp_survived) / len(temp_survived)\n",
    "    print(\"% of\", i + 's', \"that survived:\", rate)\n",
    "\n",
    "sns.countplot(x = 'AgeGroup_code', data = temp_train, hue = 'Survived')\n",
    "plt.xlabel(\"Age Group\")\n",
    "plt.legend(labels = ['dead', 'survived'], title = 'Survived')"
   ]
  },
  {
   "cell_type": "markdown",
   "id": "2716547b",
   "metadata": {
    "papermill": {
     "duration": 0.031272,
     "end_time": "2022-12-11T13:45:16.860517",
     "exception": false,
     "start_time": "2022-12-11T13:45:16.829245",
     "status": "completed"
    },
    "tags": []
   },
   "source": [
    "###### The features- PassengerId, Name, Number of Ticket, Cabin, Embarked and Fare, are not affecting in any way the chance to survive or not."
   ]
  },
  {
   "cell_type": "markdown",
   "id": "6b7ca9e3",
   "metadata": {
    "papermill": {
     "duration": 0.03102,
     "end_time": "2022-12-11T13:45:16.923209",
     "exception": false,
     "start_time": "2022-12-11T13:45:16.892189",
     "status": "completed"
    },
    "tags": []
   },
   "source": [
    "# **Model Building**"
   ]
  },
  {
   "cell_type": "markdown",
   "id": "ae041a34",
   "metadata": {
    "papermill": {
     "duration": 0.031287,
     "end_time": "2022-12-11T13:45:16.986074",
     "exception": false,
     "start_time": "2022-12-11T13:45:16.954787",
     "status": "completed"
    },
    "tags": []
   },
   "source": [
    "### Data Preparation\n",
    "Before using the classification models, let's prepered our data:"
   ]
  },
  {
   "cell_type": "code",
   "execution_count": 37,
   "id": "4efc424c",
   "metadata": {
    "execution": {
     "iopub.execute_input": "2022-12-11T13:45:17.051731Z",
     "iopub.status.busy": "2022-12-11T13:45:17.051034Z",
     "iopub.status.idle": "2022-12-11T13:45:17.056499Z",
     "shell.execute_reply": "2022-12-11T13:45:17.055537Z"
    },
    "papermill": {
     "duration": 0.041338,
     "end_time": "2022-12-11T13:45:17.059257",
     "exception": false,
     "start_time": "2022-12-11T13:45:17.017919",
     "status": "completed"
    },
    "tags": []
   },
   "outputs": [],
   "source": [
    "X = train_data.loc[:, train_data.columns != \"Survived\"]\n",
    "y = train_data[\"Survived\"].values"
   ]
  },
  {
   "cell_type": "markdown",
   "id": "3b407fa4",
   "metadata": {
    "papermill": {
     "duration": 0.03156,
     "end_time": "2022-12-11T13:45:17.123001",
     "exception": false,
     "start_time": "2022-12-11T13:45:17.091441",
     "status": "completed"
    },
    "tags": []
   },
   "source": [
    "The feature matrix, X:"
   ]
  },
  {
   "cell_type": "code",
   "execution_count": 38,
   "id": "f8f33e56",
   "metadata": {
    "execution": {
     "iopub.execute_input": "2022-12-11T13:45:17.188502Z",
     "iopub.status.busy": "2022-12-11T13:45:17.188138Z",
     "iopub.status.idle": "2022-12-11T13:45:17.202398Z",
     "shell.execute_reply": "2022-12-11T13:45:17.201398Z"
    },
    "papermill": {
     "duration": 0.049386,
     "end_time": "2022-12-11T13:45:17.204237",
     "exception": false,
     "start_time": "2022-12-11T13:45:17.154851",
     "status": "completed"
    },
    "tags": []
   },
   "outputs": [
    {
     "data": {
      "text/html": [
       "<div>\n",
       "<style scoped>\n",
       "    .dataframe tbody tr th:only-of-type {\n",
       "        vertical-align: middle;\n",
       "    }\n",
       "\n",
       "    .dataframe tbody tr th {\n",
       "        vertical-align: top;\n",
       "    }\n",
       "\n",
       "    .dataframe thead th {\n",
       "        text-align: right;\n",
       "    }\n",
       "</style>\n",
       "<table border=\"1\" class=\"dataframe\">\n",
       "  <thead>\n",
       "    <tr style=\"text-align: right;\">\n",
       "      <th></th>\n",
       "      <th>Pclass</th>\n",
       "      <th>AgeGroup_code</th>\n",
       "      <th>FareBins_code</th>\n",
       "      <th>Sex_cat</th>\n",
       "      <th>Family_Size</th>\n",
       "      <th>Family_Survival</th>\n",
       "    </tr>\n",
       "  </thead>\n",
       "  <tbody>\n",
       "    <tr>\n",
       "      <th>0</th>\n",
       "      <td>3</td>\n",
       "      <td>0</td>\n",
       "      <td>0</td>\n",
       "      <td>1</td>\n",
       "      <td>1</td>\n",
       "      <td>0.5</td>\n",
       "    </tr>\n",
       "    <tr>\n",
       "      <th>1</th>\n",
       "      <td>1</td>\n",
       "      <td>0</td>\n",
       "      <td>4</td>\n",
       "      <td>0</td>\n",
       "      <td>1</td>\n",
       "      <td>0.5</td>\n",
       "    </tr>\n",
       "    <tr>\n",
       "      <th>2</th>\n",
       "      <td>3</td>\n",
       "      <td>0</td>\n",
       "      <td>1</td>\n",
       "      <td>0</td>\n",
       "      <td>0</td>\n",
       "      <td>0.5</td>\n",
       "    </tr>\n",
       "    <tr>\n",
       "      <th>3</th>\n",
       "      <td>1</td>\n",
       "      <td>0</td>\n",
       "      <td>4</td>\n",
       "      <td>0</td>\n",
       "      <td>1</td>\n",
       "      <td>0.0</td>\n",
       "    </tr>\n",
       "    <tr>\n",
       "      <th>4</th>\n",
       "      <td>3</td>\n",
       "      <td>0</td>\n",
       "      <td>1</td>\n",
       "      <td>1</td>\n",
       "      <td>0</td>\n",
       "      <td>0.5</td>\n",
       "    </tr>\n",
       "    <tr>\n",
       "      <th>...</th>\n",
       "      <td>...</td>\n",
       "      <td>...</td>\n",
       "      <td>...</td>\n",
       "      <td>...</td>\n",
       "      <td>...</td>\n",
       "      <td>...</td>\n",
       "    </tr>\n",
       "    <tr>\n",
       "      <th>886</th>\n",
       "      <td>2</td>\n",
       "      <td>0</td>\n",
       "      <td>2</td>\n",
       "      <td>1</td>\n",
       "      <td>0</td>\n",
       "      <td>0.5</td>\n",
       "    </tr>\n",
       "    <tr>\n",
       "      <th>887</th>\n",
       "      <td>1</td>\n",
       "      <td>3</td>\n",
       "      <td>3</td>\n",
       "      <td>0</td>\n",
       "      <td>0</td>\n",
       "      <td>0.5</td>\n",
       "    </tr>\n",
       "    <tr>\n",
       "      <th>888</th>\n",
       "      <td>3</td>\n",
       "      <td>0</td>\n",
       "      <td>3</td>\n",
       "      <td>0</td>\n",
       "      <td>3</td>\n",
       "      <td>0.0</td>\n",
       "    </tr>\n",
       "    <tr>\n",
       "      <th>889</th>\n",
       "      <td>1</td>\n",
       "      <td>0</td>\n",
       "      <td>3</td>\n",
       "      <td>1</td>\n",
       "      <td>0</td>\n",
       "      <td>0.5</td>\n",
       "    </tr>\n",
       "    <tr>\n",
       "      <th>890</th>\n",
       "      <td>3</td>\n",
       "      <td>0</td>\n",
       "      <td>0</td>\n",
       "      <td>1</td>\n",
       "      <td>0</td>\n",
       "      <td>0.5</td>\n",
       "    </tr>\n",
       "  </tbody>\n",
       "</table>\n",
       "<p>891 rows × 6 columns</p>\n",
       "</div>"
      ],
      "text/plain": [
       "     Pclass  AgeGroup_code  FareBins_code  Sex_cat  Family_Size  \\\n",
       "0         3              0              0        1            1   \n",
       "1         1              0              4        0            1   \n",
       "2         3              0              1        0            0   \n",
       "3         1              0              4        0            1   \n",
       "4         3              0              1        1            0   \n",
       "..      ...            ...            ...      ...          ...   \n",
       "886       2              0              2        1            0   \n",
       "887       1              3              3        0            0   \n",
       "888       3              0              3        0            3   \n",
       "889       1              0              3        1            0   \n",
       "890       3              0              0        1            0   \n",
       "\n",
       "     Family_Survival  \n",
       "0                0.5  \n",
       "1                0.5  \n",
       "2                0.5  \n",
       "3                0.0  \n",
       "4                0.5  \n",
       "..               ...  \n",
       "886              0.5  \n",
       "887              0.5  \n",
       "888              0.0  \n",
       "889              0.5  \n",
       "890              0.5  \n",
       "\n",
       "[891 rows x 6 columns]"
      ]
     },
     "execution_count": 38,
     "metadata": {},
     "output_type": "execute_result"
    }
   ],
   "source": [
    "X"
   ]
  },
  {
   "cell_type": "markdown",
   "id": "39d90bde",
   "metadata": {
    "papermill": {
     "duration": 0.032342,
     "end_time": "2022-12-11T13:45:17.268319",
     "exception": false,
     "start_time": "2022-12-11T13:45:17.235977",
     "status": "completed"
    },
    "tags": []
   },
   "source": [
    "The target column, y:"
   ]
  },
  {
   "cell_type": "code",
   "execution_count": 39,
   "id": "bb05f2f5",
   "metadata": {
    "execution": {
     "iopub.execute_input": "2022-12-11T13:45:17.334885Z",
     "iopub.status.busy": "2022-12-11T13:45:17.334199Z",
     "iopub.status.idle": "2022-12-11T13:45:17.340538Z",
     "shell.execute_reply": "2022-12-11T13:45:17.339557Z"
    },
    "papermill": {
     "duration": 0.042281,
     "end_time": "2022-12-11T13:45:17.342420",
     "exception": false,
     "start_time": "2022-12-11T13:45:17.300139",
     "status": "completed"
    },
    "tags": []
   },
   "outputs": [
    {
     "data": {
      "text/plain": [
       "array([0, 1, 1, 1, 0])"
      ]
     },
     "execution_count": 39,
     "metadata": {},
     "output_type": "execute_result"
    }
   ],
   "source": [
    "y[:5]"
   ]
  },
  {
   "cell_type": "markdown",
   "id": "9d911fea",
   "metadata": {
    "papermill": {
     "duration": 0.032451,
     "end_time": "2022-12-11T13:45:17.406730",
     "exception": false,
     "start_time": "2022-12-11T13:45:17.374279",
     "status": "completed"
    },
    "tags": []
   },
   "source": [
    "#### Splitting the dataset into the Training set and Test set"
   ]
  },
  {
   "cell_type": "code",
   "execution_count": 40,
   "id": "1bb4b28d",
   "metadata": {
    "execution": {
     "iopub.execute_input": "2022-12-11T13:45:17.473537Z",
     "iopub.status.busy": "2022-12-11T13:45:17.473163Z",
     "iopub.status.idle": "2022-12-11T13:45:17.543452Z",
     "shell.execute_reply": "2022-12-11T13:45:17.542366Z"
    },
    "papermill": {
     "duration": 0.106376,
     "end_time": "2022-12-11T13:45:17.545778",
     "exception": false,
     "start_time": "2022-12-11T13:45:17.439402",
     "status": "completed"
    },
    "tags": []
   },
   "outputs": [],
   "source": [
    "from sklearn.model_selection import train_test_split\n",
    "X_train, X_test, y_train, y_test = train_test_split(X, y, test_size = 0.25, random_state = 0)"
   ]
  },
  {
   "cell_type": "code",
   "execution_count": 41,
   "id": "cbf3a6b2",
   "metadata": {
    "execution": {
     "iopub.execute_input": "2022-12-11T13:45:17.612915Z",
     "iopub.status.busy": "2022-12-11T13:45:17.612501Z",
     "iopub.status.idle": "2022-12-11T13:45:17.630323Z",
     "shell.execute_reply": "2022-12-11T13:45:17.629383Z"
    },
    "papermill": {
     "duration": 0.054382,
     "end_time": "2022-12-11T13:45:17.632066",
     "exception": false,
     "start_time": "2022-12-11T13:45:17.577684",
     "status": "completed"
    },
    "tags": []
   },
   "outputs": [
    {
     "data": {
      "text/html": [
       "<div>\n",
       "<style scoped>\n",
       "    .dataframe tbody tr th:only-of-type {\n",
       "        vertical-align: middle;\n",
       "    }\n",
       "\n",
       "    .dataframe tbody tr th {\n",
       "        vertical-align: top;\n",
       "    }\n",
       "\n",
       "    .dataframe thead th {\n",
       "        text-align: right;\n",
       "    }\n",
       "</style>\n",
       "<table border=\"1\" class=\"dataframe\">\n",
       "  <thead>\n",
       "    <tr style=\"text-align: right;\">\n",
       "      <th></th>\n",
       "      <th>Pclass</th>\n",
       "      <th>AgeGroup_code</th>\n",
       "      <th>FareBins_code</th>\n",
       "      <th>Sex_cat</th>\n",
       "      <th>Family_Size</th>\n",
       "      <th>Family_Survival</th>\n",
       "    </tr>\n",
       "  </thead>\n",
       "  <tbody>\n",
       "    <tr>\n",
       "      <th>495</th>\n",
       "      <td>3</td>\n",
       "      <td>0</td>\n",
       "      <td>2</td>\n",
       "      <td>1</td>\n",
       "      <td>0</td>\n",
       "      <td>0.0</td>\n",
       "    </tr>\n",
       "    <tr>\n",
       "      <th>648</th>\n",
       "      <td>3</td>\n",
       "      <td>0</td>\n",
       "      <td>0</td>\n",
       "      <td>1</td>\n",
       "      <td>0</td>\n",
       "      <td>0.5</td>\n",
       "    </tr>\n",
       "    <tr>\n",
       "      <th>278</th>\n",
       "      <td>3</td>\n",
       "      <td>2</td>\n",
       "      <td>3</td>\n",
       "      <td>1</td>\n",
       "      <td>5</td>\n",
       "      <td>0.0</td>\n",
       "    </tr>\n",
       "    <tr>\n",
       "      <th>31</th>\n",
       "      <td>1</td>\n",
       "      <td>0</td>\n",
       "      <td>4</td>\n",
       "      <td>0</td>\n",
       "      <td>1</td>\n",
       "      <td>1.0</td>\n",
       "    </tr>\n",
       "    <tr>\n",
       "      <th>255</th>\n",
       "      <td>3</td>\n",
       "      <td>0</td>\n",
       "      <td>2</td>\n",
       "      <td>0</td>\n",
       "      <td>2</td>\n",
       "      <td>0.5</td>\n",
       "    </tr>\n",
       "    <tr>\n",
       "      <th>...</th>\n",
       "      <td>...</td>\n",
       "      <td>...</td>\n",
       "      <td>...</td>\n",
       "      <td>...</td>\n",
       "      <td>...</td>\n",
       "      <td>...</td>\n",
       "    </tr>\n",
       "    <tr>\n",
       "      <th>167</th>\n",
       "      <td>3</td>\n",
       "      <td>0</td>\n",
       "      <td>3</td>\n",
       "      <td>0</td>\n",
       "      <td>5</td>\n",
       "      <td>0.0</td>\n",
       "    </tr>\n",
       "    <tr>\n",
       "      <th>306</th>\n",
       "      <td>1</td>\n",
       "      <td>0</td>\n",
       "      <td>4</td>\n",
       "      <td>0</td>\n",
       "      <td>0</td>\n",
       "      <td>1.0</td>\n",
       "    </tr>\n",
       "    <tr>\n",
       "      <th>379</th>\n",
       "      <td>3</td>\n",
       "      <td>3</td>\n",
       "      <td>0</td>\n",
       "      <td>1</td>\n",
       "      <td>0</td>\n",
       "      <td>0.5</td>\n",
       "    </tr>\n",
       "    <tr>\n",
       "      <th>742</th>\n",
       "      <td>1</td>\n",
       "      <td>0</td>\n",
       "      <td>4</td>\n",
       "      <td>0</td>\n",
       "      <td>4</td>\n",
       "      <td>1.0</td>\n",
       "    </tr>\n",
       "    <tr>\n",
       "      <th>10</th>\n",
       "      <td>3</td>\n",
       "      <td>2</td>\n",
       "      <td>2</td>\n",
       "      <td>0</td>\n",
       "      <td>2</td>\n",
       "      <td>1.0</td>\n",
       "    </tr>\n",
       "  </tbody>\n",
       "</table>\n",
       "<p>223 rows × 6 columns</p>\n",
       "</div>"
      ],
      "text/plain": [
       "     Pclass  AgeGroup_code  FareBins_code  Sex_cat  Family_Size  \\\n",
       "495       3              0              2        1            0   \n",
       "648       3              0              0        1            0   \n",
       "278       3              2              3        1            5   \n",
       "31        1              0              4        0            1   \n",
       "255       3              0              2        0            2   \n",
       "..      ...            ...            ...      ...          ...   \n",
       "167       3              0              3        0            5   \n",
       "306       1              0              4        0            0   \n",
       "379       3              3              0        1            0   \n",
       "742       1              0              4        0            4   \n",
       "10        3              2              2        0            2   \n",
       "\n",
       "     Family_Survival  \n",
       "495              0.0  \n",
       "648              0.5  \n",
       "278              0.0  \n",
       "31               1.0  \n",
       "255              0.5  \n",
       "..               ...  \n",
       "167              0.0  \n",
       "306              1.0  \n",
       "379              0.5  \n",
       "742              1.0  \n",
       "10               1.0  \n",
       "\n",
       "[223 rows x 6 columns]"
      ]
     },
     "execution_count": 41,
     "metadata": {},
     "output_type": "execute_result"
    }
   ],
   "source": [
    "X_test"
   ]
  },
  {
   "cell_type": "markdown",
   "id": "426c3d7e",
   "metadata": {
    "papermill": {
     "duration": 0.031212,
     "end_time": "2022-12-11T13:45:17.695353",
     "exception": false,
     "start_time": "2022-12-11T13:45:17.664141",
     "status": "completed"
    },
    "tags": []
   },
   "source": [
    "#### Feature Scaling"
   ]
  },
  {
   "cell_type": "code",
   "execution_count": 42,
   "id": "efb60d0f",
   "metadata": {
    "execution": {
     "iopub.execute_input": "2022-12-11T13:45:17.762788Z",
     "iopub.status.busy": "2022-12-11T13:45:17.762392Z",
     "iopub.status.idle": "2022-12-11T13:45:17.773810Z",
     "shell.execute_reply": "2022-12-11T13:45:17.772154Z"
    },
    "papermill": {
     "duration": 0.048151,
     "end_time": "2022-12-11T13:45:17.776272",
     "exception": false,
     "start_time": "2022-12-11T13:45:17.728121",
     "status": "completed"
    },
    "tags": []
   },
   "outputs": [],
   "source": [
    "# feature scaling\n",
    "from sklearn.preprocessing import StandardScaler\n",
    "sc = StandardScaler()\n",
    "X_train = sc.fit_transform(X_train)\n",
    "X_test = sc.transform(X_test)"
   ]
  },
  {
   "cell_type": "markdown",
   "id": "0d9a2e4a",
   "metadata": {
    "papermill": {
     "duration": 0.03212,
     "end_time": "2022-12-11T13:45:17.840888",
     "exception": false,
     "start_time": "2022-12-11T13:45:17.808768",
     "status": "completed"
    },
    "tags": []
   },
   "source": [
    "## **Feature and Model Selection**"
   ]
  },
  {
   "cell_type": "code",
   "execution_count": 43,
   "id": "3cd6dfe0",
   "metadata": {
    "execution": {
     "iopub.execute_input": "2022-12-11T13:45:17.908310Z",
     "iopub.status.busy": "2022-12-11T13:45:17.907944Z",
     "iopub.status.idle": "2022-12-11T13:45:18.063692Z",
     "shell.execute_reply": "2022-12-11T13:45:18.062177Z"
    },
    "papermill": {
     "duration": 0.192606,
     "end_time": "2022-12-11T13:45:18.066697",
     "exception": false,
     "start_time": "2022-12-11T13:45:17.874091",
     "status": "completed"
    },
    "tags": []
   },
   "outputs": [],
   "source": [
    "from sklearn.model_selection import cross_val_score, GridSearchCV, RepeatedStratifiedKFold, RandomizedSearchCV\n",
    "#cross_val_predict, KFold, \n",
    "from sklearn.metrics import confusion_matrix, accuracy_score\n",
    "from sklearn.pipeline import Pipeline\n",
    "from sklearn.feature_selection import RFECV"
   ]
  },
  {
   "cell_type": "code",
   "execution_count": 44,
   "id": "ba3b96ea",
   "metadata": {
    "execution": {
     "iopub.execute_input": "2022-12-11T13:45:18.135379Z",
     "iopub.status.busy": "2022-12-11T13:45:18.134933Z",
     "iopub.status.idle": "2022-12-11T13:45:18.139808Z",
     "shell.execute_reply": "2022-12-11T13:45:18.138658Z"
    },
    "papermill": {
     "duration": 0.041622,
     "end_time": "2022-12-11T13:45:18.142334",
     "exception": false,
     "start_time": "2022-12-11T13:45:18.100712",
     "status": "completed"
    },
    "tags": []
   },
   "outputs": [],
   "source": [
    "# some experient....\n",
    "# here we use Decision Tree as estimator in the RFECV\n",
    "# from sklearn.tree import DecisionTreeClassifier\n",
    "# from sklearn.ensemble import RandomForestClassifier\n",
    "# rfe = RFECV(estimator=LogisticRegression(), cv = 10)\n",
    "# rfe = rfe.fit(X_train,y_train)\n",
    "# print(\"Feature ranking: \", rfe.ranking_)\n",
    "\n",
    "# # extracting the selected features.  get_support() function helps us to get those features names. \n",
    "# mask = rfe.get_support()\n",
    "# features = X.columns\n",
    "# best_features = features[mask]\n",
    " \n",
    "# print(\"All features: \", X.shape[1])\n",
    "# print(features)\n",
    "\n",
    "# print(\"Selected best: \", best_features.shape[0])\n",
    "# print(features[mask])"
   ]
  },
  {
   "cell_type": "markdown",
   "id": "4dd85458",
   "metadata": {
    "papermill": {
     "duration": 0.032474,
     "end_time": "2022-12-11T13:45:18.207503",
     "exception": false,
     "start_time": "2022-12-11T13:45:18.175029",
     "status": "completed"
    },
    "tags": []
   },
   "source": [
    "Let's run RFECV with different estimators to select features. Additionally, let's run some classification models, to get an intuition about which estimator and classification algorithm will give us the best results.\n",
    "\n",
    "After we chose the estimator and the model, we can check which features are selected and use GridSearchCV to find the best hyperparameters for the chosen model."
   ]
  },
  {
   "cell_type": "code",
   "execution_count": 45,
   "id": "2765048d",
   "metadata": {
    "execution": {
     "iopub.execute_input": "2022-12-11T13:45:18.274887Z",
     "iopub.status.busy": "2022-12-11T13:45:18.274544Z",
     "iopub.status.idle": "2022-12-11T13:45:18.371137Z",
     "shell.execute_reply": "2022-12-11T13:45:18.370412Z"
    },
    "papermill": {
     "duration": 0.133068,
     "end_time": "2022-12-11T13:45:18.373389",
     "exception": false,
     "start_time": "2022-12-11T13:45:18.240321",
     "status": "completed"
    },
    "tags": []
   },
   "outputs": [],
   "source": [
    "from sklearn.linear_model import LogisticRegression\n",
    "from sklearn.linear_model import Perceptron\n",
    "from sklearn.tree import DecisionTreeClassifier\n",
    "from sklearn.ensemble import RandomForestClassifier\n",
    "from sklearn.ensemble import GradientBoostingClassifier\n",
    "from sklearn.svm import SVC\n",
    "from sklearn.naive_bayes import GaussianNB\n",
    "from sklearn.neighbors import KNeighborsClassifier"
   ]
  },
  {
   "cell_type": "code",
   "execution_count": 46,
   "id": "3aa15dc0",
   "metadata": {
    "execution": {
     "iopub.execute_input": "2022-12-11T13:45:18.439756Z",
     "iopub.status.busy": "2022-12-11T13:45:18.439394Z",
     "iopub.status.idle": "2022-12-11T13:45:18.450401Z",
     "shell.execute_reply": "2022-12-11T13:45:18.449300Z"
    },
    "papermill": {
     "duration": 0.046649,
     "end_time": "2022-12-11T13:45:18.452371",
     "exception": false,
     "start_time": "2022-12-11T13:45:18.405722",
     "status": "completed"
    },
    "tags": []
   },
   "outputs": [],
   "source": [
    "# get a list of models to evaluate\n",
    "def get_models(modelc):\n",
    "    models = dict()\n",
    "    # lr\n",
    "    rfe = RFECV(estimator=LogisticRegression())\n",
    "    model = modelc\n",
    "    models['lr'] = Pipeline(steps=[('s',rfe),('m',model)])\n",
    "    # perceptron\n",
    "    rfe = RFECV(estimator=Perceptron())\n",
    "    model = modelc\n",
    "    models['per'] = Pipeline(steps=[('s',rfe),('m',model)])\n",
    "    # cart\n",
    "    rfe = RFECV(estimator=DecisionTreeClassifier())\n",
    "    model = modelc\n",
    "    models['cart'] = Pipeline(steps=[('s',rfe),('m',model)])\n",
    "    # rf\n",
    "    rfe = RFECV(estimator=RandomForestClassifier())\n",
    "    model = modelc\n",
    "    models['rf'] = Pipeline(steps=[('s',rfe),('m',model)])\n",
    "    # gbm\n",
    "    rfe = RFECV(estimator=GradientBoostingClassifier())\n",
    "    model = modelc\n",
    "    models['gbm'] = Pipeline(steps=[('s',rfe),('m',model)])\n",
    "    # svm\n",
    "    rfe = RFECV(estimator=SVC(kernel='linear'))\n",
    "    model = modelc\n",
    "    models['svm'] = Pipeline(steps=[('s',rfe),('m',model)])\n",
    "    return models\n",
    "\n",
    "# evaluate a give model using cross-validation\n",
    "def evaluate_model(model, X, y):\n",
    "    cv = RepeatedStratifiedKFold(n_splits=10, n_repeats=3, random_state=1)\n",
    "    scores = cross_val_score(model, X, y, scoring='accuracy', cv=cv, n_jobs=-1)\n",
    "    return scores"
   ]
  },
  {
   "cell_type": "code",
   "execution_count": 47,
   "id": "f354f051",
   "metadata": {
    "execution": {
     "iopub.execute_input": "2022-12-11T13:45:18.520000Z",
     "iopub.status.busy": "2022-12-11T13:45:18.518901Z",
     "iopub.status.idle": "2022-12-11T13:45:18.524376Z",
     "shell.execute_reply": "2022-12-11T13:45:18.523655Z"
    },
    "papermill": {
     "duration": 0.041532,
     "end_time": "2022-12-11T13:45:18.526444",
     "exception": false,
     "start_time": "2022-12-11T13:45:18.484912",
     "status": "completed"
    },
    "tags": []
   },
   "outputs": [],
   "source": [
    "models_dict = {'LR': LogisticRegression(random_state=0),\n",
    "               'SVM': SVC(kernel='linear', random_state=0),\n",
    "               'RF': RandomForestClassifier(),\n",
    "               'KNN': KNeighborsClassifier(),\n",
    "               'NB': GaussianNB()}"
   ]
  },
  {
   "cell_type": "code",
   "execution_count": 48,
   "id": "6442189f",
   "metadata": {
    "execution": {
     "iopub.execute_input": "2022-12-11T13:45:18.595107Z",
     "iopub.status.busy": "2022-12-11T13:45:18.594707Z",
     "iopub.status.idle": "2022-12-11T13:51:59.852343Z",
     "shell.execute_reply": "2022-12-11T13:51:59.851218Z"
    },
    "papermill": {
     "duration": 401.295467,
     "end_time": "2022-12-11T13:51:59.854891",
     "exception": false,
     "start_time": "2022-12-11T13:45:18.559424",
     "status": "completed"
    },
    "tags": []
   },
   "outputs": [
    {
     "name": "stdout",
     "output_type": "stream",
     "text": [
      "\n",
      "LR\n",
      "\n",
      ">lr 0.827 (0.034)\n",
      ">per 0.809 (0.036)\n",
      ">cart 0.833 (0.037)\n",
      ">rf 0.824 (0.035)\n",
      ">gbm 0.833 (0.038)\n",
      ">svm 0.813 (0.042)\n",
      "\n",
      "SVM\n",
      "\n",
      ">lr 0.797 (0.046)\n",
      ">per 0.800 (0.037)\n",
      ">cart 0.789 (0.043)\n",
      ">rf 0.811 (0.041)\n",
      ">gbm 0.791 (0.038)\n",
      ">svm 0.808 (0.047)\n",
      "\n",
      "RF\n",
      "\n",
      ">lr 0.823 (0.047)\n",
      ">per 0.812 (0.051)\n",
      ">cart 0.834 (0.043)\n",
      ">rf 0.824 (0.043)\n",
      ">gbm 0.843 (0.041)\n",
      ">svm 0.821 (0.050)\n",
      "\n",
      "KNN\n",
      "\n",
      ">lr 0.812 (0.050)\n",
      ">per 0.798 (0.049)\n",
      ">cart 0.829 (0.039)\n",
      ">rf 0.825 (0.046)\n",
      ">gbm 0.825 (0.047)\n",
      ">svm 0.803 (0.067)\n",
      "\n",
      "NB\n",
      "\n",
      ">lr 0.795 (0.042)\n",
      ">per 0.786 (0.042)\n",
      ">cart 0.791 (0.049)\n",
      ">rf 0.789 (0.048)\n",
      ">gbm 0.787 (0.040)\n",
      ">svm 0.800 (0.039)\n"
     ]
    }
   ],
   "source": [
    "# get the models to evaluate\n",
    "for i in models_dict.keys():\n",
    "    print('\\n'+i+'\\n')\n",
    "    models = get_models(models_dict[i])\n",
    "    # evaluate the models and store results\n",
    "    results, names = list(), list()\n",
    "    for name, model in models.items():\n",
    "        scores = evaluate_model(model, X_train, y_train)\n",
    "        results.append(scores)\n",
    "        names.append(name)\n",
    "        print('>%s %.3f (%.3f)' % (name, np.mean(scores), np.std(scores)))"
   ]
  },
  {
   "cell_type": "markdown",
   "id": "29035149",
   "metadata": {
    "papermill": {
     "duration": 0.033301,
     "end_time": "2022-12-11T13:51:59.921899",
     "exception": false,
     "start_time": "2022-12-11T13:51:59.888598",
     "status": "completed"
    },
    "tags": []
   },
   "source": [
    "O.K, let's continue with the three models with the highest accuracy mean score-\n",
    "- Random Forest + Gradient Boosting Classifier as estimator in the RFECV (accuracy mean score = 0.842, std = 0.044).\n",
    "- K-NN + Decision Tree Classifier as estimator in the RFECV (accuracy mean score = 0.83, std = 0.040).\n",
    "- Logistic Regression + Gradient Boosting Classifier as estimator in the RFECV (accuracy mean score = 0.834, std = 0.038).\n"
   ]
  },
  {
   "cell_type": "markdown",
   "id": "d1cadce4",
   "metadata": {
    "papermill": {
     "duration": 0.033203,
     "end_time": "2022-12-11T13:51:59.989034",
     "exception": false,
     "start_time": "2022-12-11T13:51:59.955831",
     "status": "completed"
    },
    "tags": []
   },
   "source": [
    "## **Random Forest**\n",
    "The feature that were selected:"
   ]
  },
  {
   "cell_type": "code",
   "execution_count": 49,
   "id": "1966e364",
   "metadata": {
    "execution": {
     "iopub.execute_input": "2022-12-11T13:52:00.058909Z",
     "iopub.status.busy": "2022-12-11T13:52:00.058515Z",
     "iopub.status.idle": "2022-12-11T13:52:01.731628Z",
     "shell.execute_reply": "2022-12-11T13:52:01.729777Z"
    },
    "papermill": {
     "duration": 1.712009,
     "end_time": "2022-12-11T13:52:01.734466",
     "exception": false,
     "start_time": "2022-12-11T13:52:00.022457",
     "status": "completed"
    },
    "tags": []
   },
   "outputs": [
    {
     "name": "stdout",
     "output_type": "stream",
     "text": [
      "Feature ranking:  [1 1 2 1 3 1]\n",
      "Selected best:  4\n",
      "Index(['Pclass', 'AgeGroup_code', 'Sex_cat', 'Family_Survival'], dtype='object')\n"
     ]
    }
   ],
   "source": [
    "rf_rfe = RFECV(estimator=GradientBoostingClassifier())\n",
    "rf_pipe = Pipeline(steps=[('s',rf_rfe),('m',RandomForestClassifier())])\n",
    "\n",
    "X_new_rf = rf_rfe.fit_transform(X_train, y_train)\n",
    "print(\"Feature ranking: \", rf_rfe.ranking_)\n",
    "\n",
    "rf_mask = rf_rfe.get_support()\n",
    "features = X.columns\n",
    "best_features = features[rf_mask]\n",
    "\n",
    "# print(\"All features: \", x.shape[1])\n",
    "# print(features)\n",
    "\n",
    "print(\"Selected best: \", best_features.shape[0])\n",
    "print(features[rf_mask])"
   ]
  },
  {
   "cell_type": "code",
   "execution_count": 50,
   "id": "78638020",
   "metadata": {
    "collapsed": true,
    "execution": {
     "iopub.execute_input": "2022-12-11T13:52:01.805506Z",
     "iopub.status.busy": "2022-12-11T13:52:01.805121Z",
     "iopub.status.idle": "2022-12-11T13:52:01.810355Z",
     "shell.execute_reply": "2022-12-11T13:52:01.808529Z"
    },
    "jupyter": {
     "outputs_hidden": true
    },
    "papermill": {
     "duration": 0.043248,
     "end_time": "2022-12-11T13:52:01.813036",
     "exception": false,
     "start_time": "2022-12-11T13:52:01.769788",
     "status": "completed"
    },
    "tags": []
   },
   "outputs": [],
   "source": [
    "# X_test[:,rf_mask]"
   ]
  },
  {
   "cell_type": "code",
   "execution_count": 51,
   "id": "a3ccd880",
   "metadata": {
    "execution": {
     "iopub.execute_input": "2022-12-11T13:52:01.885666Z",
     "iopub.status.busy": "2022-12-11T13:52:01.885273Z",
     "iopub.status.idle": "2022-12-11T13:52:01.890087Z",
     "shell.execute_reply": "2022-12-11T13:52:01.888600Z"
    },
    "papermill": {
     "duration": 0.044728,
     "end_time": "2022-12-11T13:52:01.892442",
     "exception": false,
     "start_time": "2022-12-11T13:52:01.847714",
     "status": "completed"
    },
    "tags": []
   },
   "outputs": [],
   "source": [
    "# X_train[:,rf_mask]"
   ]
  },
  {
   "cell_type": "markdown",
   "id": "0641376b",
   "metadata": {
    "papermill": {
     "duration": 0.034208,
     "end_time": "2022-12-11T13:52:01.961665",
     "exception": false,
     "start_time": "2022-12-11T13:52:01.927457",
     "status": "completed"
    },
    "tags": []
   },
   "source": [
    "Evaluate the model"
   ]
  },
  {
   "cell_type": "code",
   "execution_count": 52,
   "id": "6771c4ec",
   "metadata": {
    "execution": {
     "iopub.execute_input": "2022-12-11T13:52:02.032948Z",
     "iopub.status.busy": "2022-12-11T13:52:02.032579Z",
     "iopub.status.idle": "2022-12-11T13:52:34.220596Z",
     "shell.execute_reply": "2022-12-11T13:52:34.218728Z"
    },
    "papermill": {
     "duration": 32.259189,
     "end_time": "2022-12-11T13:52:34.255505",
     "exception": false,
     "start_time": "2022-12-11T13:52:01.996316",
     "status": "completed"
    },
    "tags": []
   },
   "outputs": [
    {
     "name": "stdout",
     "output_type": "stream",
     "text": [
      "Accuracy: 0.851 (0.038)\n"
     ]
    }
   ],
   "source": [
    "# evaluate model\n",
    "cv = RepeatedStratifiedKFold(n_splits=10, n_repeats=3, random_state=1)\n",
    "n_scores = cross_val_score(rf_pipe, X_new_rf, y_train, scoring='accuracy', cv=cv, error_score='raise')\n",
    "# report performance\n",
    "print('Accuracy: %.3f (%.3f)' % (np.mean(n_scores), np.std(n_scores)))"
   ]
  },
  {
   "cell_type": "markdown",
   "id": "57cb8808",
   "metadata": {
    "papermill": {
     "duration": 0.034729,
     "end_time": "2022-12-11T13:52:34.325075",
     "exception": false,
     "start_time": "2022-12-11T13:52:34.290346",
     "status": "completed"
    },
    "tags": []
   },
   "source": [
    "Find the best hyperparameters using RandomizedSearchCV"
   ]
  },
  {
   "cell_type": "code",
   "execution_count": 53,
   "id": "3dca3a88",
   "metadata": {
    "execution": {
     "iopub.execute_input": "2022-12-11T13:52:34.396417Z",
     "iopub.status.busy": "2022-12-11T13:52:34.395451Z",
     "iopub.status.idle": "2022-12-11T13:52:34.404631Z",
     "shell.execute_reply": "2022-12-11T13:52:34.403410Z"
    },
    "papermill": {
     "duration": 0.047392,
     "end_time": "2022-12-11T13:52:34.407110",
     "exception": false,
     "start_time": "2022-12-11T13:52:34.359718",
     "status": "completed"
    },
    "tags": []
   },
   "outputs": [],
   "source": [
    "# Criterion\n",
    "criterion = ['gini', 'entropy']\n",
    "# Number of trees in random forest\n",
    "n_estimators = [int(x) for x in np.linspace(start = 200, stop = 2000, num = 5)]\n",
    "# Number of features to consider at every split\n",
    "max_features = ['auto', 'sqrt']\n",
    "# Maximum number of levels in tree\n",
    "max_depth = [int(x) for x in np.linspace(10, 110, num = 11)]\n",
    "max_depth.append(None)\n",
    "# Minimum number of samples required to split a node\n",
    "min_samples_split = [2, 5, 10]\n",
    "# Minimum number of samples required at each leaf node\n",
    "min_samples_leaf = [1, 2, 4]\n",
    "# Method of selecting samples for training each tree\n",
    "bootstrap = [True, False]\n",
    "\n",
    "# Create the random grid\n",
    "rf_random_grid = {'m__criterion': criterion,\n",
    "               'm__n_estimators': n_estimators,\n",
    "               'm__max_features': max_features,\n",
    "               'm__max_depth': max_depth,\n",
    "               'm__min_samples_split': min_samples_split,\n",
    "               'm__min_samples_leaf': min_samples_leaf,\n",
    "               'm__bootstrap': bootstrap}"
   ]
  },
  {
   "cell_type": "code",
   "execution_count": 54,
   "id": "84ceb439",
   "metadata": {
    "execution": {
     "iopub.execute_input": "2022-12-11T13:52:34.479087Z",
     "iopub.status.busy": "2022-12-11T13:52:34.478758Z",
     "iopub.status.idle": "2022-12-11T14:04:03.959765Z",
     "shell.execute_reply": "2022-12-11T14:04:03.958415Z"
    },
    "papermill": {
     "duration": 689.551317,
     "end_time": "2022-12-11T14:04:03.993731",
     "exception": false,
     "start_time": "2022-12-11T13:52:34.442414",
     "status": "completed"
    },
    "tags": []
   },
   "outputs": [
    {
     "name": "stdout",
     "output_type": "stream",
     "text": [
      "Best Accuracy: 85.33 %\n",
      "Best Parameters: {'m__n_estimators': 1100, 'm__min_samples_split': 10, 'm__min_samples_leaf': 4, 'm__max_features': 'sqrt', 'm__max_depth': 50, 'm__criterion': 'gini', 'm__bootstrap': False}\n"
     ]
    }
   ],
   "source": [
    "#run very slow\n",
    "rf_random_search = RandomizedSearchCV(rf_pipe,\n",
    "                           param_distributions = rf_random_grid,\n",
    "                           scoring = 'accuracy',\n",
    "                           cv = cv,\n",
    "                           random_state = 0)\n",
    "rf_random_search.fit(X_new_rf, y_train)\n",
    "best_accuracy = rf_random_search.best_score_\n",
    "best_parameters = rf_random_search.best_params_\n",
    "print(\"Best Accuracy: {:.2f} %\".format(best_accuracy*100))\n",
    "print(\"Best Parameters:\", best_parameters)"
   ]
  },
  {
   "cell_type": "markdown",
   "id": "5f77222d",
   "metadata": {
    "papermill": {
     "duration": 0.03404,
     "end_time": "2022-12-11T14:04:04.061913",
     "exception": false,
     "start_time": "2022-12-11T14:04:04.027873",
     "status": "completed"
    },
    "tags": []
   },
   "source": [
    "The out put from the cell above (RandomizedSearchCV):\n",
    "\n",
    "Best Accuracy: 85.33 %\n",
    "\n",
    "Best Parameters: {'m__n_estimators': 1100, 'm__min_samples_split': 10, 'm__min_samples_leaf': 4, 'm__max_features': 'auto', 'm__max_depth': 80, 'm__criterion': 'gini', 'm__bootstrap': True}"
   ]
  },
  {
   "cell_type": "code",
   "execution_count": 55,
   "id": "0ad3c95e",
   "metadata": {
    "execution": {
     "iopub.execute_input": "2022-12-11T14:04:04.190964Z",
     "iopub.status.busy": "2022-12-11T14:04:04.190605Z",
     "iopub.status.idle": "2022-12-11T14:04:04.195266Z",
     "shell.execute_reply": "2022-12-11T14:04:04.193764Z"
    },
    "papermill": {
     "duration": 0.043026,
     "end_time": "2022-12-11T14:04:04.198050",
     "exception": false,
     "start_time": "2022-12-11T14:04:04.155024",
     "status": "completed"
    },
    "tags": []
   },
   "outputs": [],
   "source": [
    "# '''rf_clf = RandomForestClassifier(n_estimators=1000, criterion='entropy')\n",
    "# rf_clf.fit(X_new, y_train)\n",
    "# y_pred = rf_clf.predict(X_test[:,mask])\n",
    "# cm = confusion_matrix(y_test, y_pred)\n",
    "# print(cm)\n",
    "# accuracy_score(y_test, y_pred)'''"
   ]
  },
  {
   "cell_type": "code",
   "execution_count": 56,
   "id": "72ae5fd4",
   "metadata": {
    "execution": {
     "iopub.execute_input": "2022-12-11T14:04:04.269006Z",
     "iopub.status.busy": "2022-12-11T14:04:04.268591Z",
     "iopub.status.idle": "2022-12-11T14:04:04.272442Z",
     "shell.execute_reply": "2022-12-11T14:04:04.271689Z"
    },
    "papermill": {
     "duration": 0.041915,
     "end_time": "2022-12-11T14:04:04.274492",
     "exception": false,
     "start_time": "2022-12-11T14:04:04.232577",
     "status": "completed"
    },
    "tags": []
   },
   "outputs": [],
   "source": [
    "# X_train[:,[0,1,2,4]]"
   ]
  },
  {
   "cell_type": "code",
   "execution_count": 57,
   "id": "4cb664cd",
   "metadata": {
    "execution": {
     "iopub.execute_input": "2022-12-11T14:04:04.345798Z",
     "iopub.status.busy": "2022-12-11T14:04:04.345153Z",
     "iopub.status.idle": "2022-12-11T14:04:04.349636Z",
     "shell.execute_reply": "2022-12-11T14:04:04.348303Z"
    },
    "papermill": {
     "duration": 0.043251,
     "end_time": "2022-12-11T14:04:04.352339",
     "exception": false,
     "start_time": "2022-12-11T14:04:04.309088",
     "status": "completed"
    },
    "tags": []
   },
   "outputs": [],
   "source": [
    "# X_new"
   ]
  },
  {
   "cell_type": "markdown",
   "id": "35c7023a",
   "metadata": {
    "papermill": {
     "duration": 0.034237,
     "end_time": "2022-12-11T14:04:04.421528",
     "exception": false,
     "start_time": "2022-12-11T14:04:04.387291",
     "status": "completed"
    },
    "tags": []
   },
   "source": [
    "Predict the test set"
   ]
  },
  {
   "cell_type": "code",
   "execution_count": 58,
   "id": "21adaa93",
   "metadata": {
    "execution": {
     "iopub.execute_input": "2022-12-11T14:04:04.493198Z",
     "iopub.status.busy": "2022-12-11T14:04:04.492545Z",
     "iopub.status.idle": "2022-12-11T14:04:04.503358Z",
     "shell.execute_reply": "2022-12-11T14:04:04.502652Z"
    },
    "papermill": {
     "duration": 0.048702,
     "end_time": "2022-12-11T14:04:04.505128",
     "exception": false,
     "start_time": "2022-12-11T14:04:04.456426",
     "status": "completed"
    },
    "tags": []
   },
   "outputs": [
    {
     "data": {
      "text/plain": [
       "Pipeline(steps=[('s', RFECV(estimator=GradientBoostingClassifier())),\n",
       "                ('m',\n",
       "                 RandomForestClassifier(bootstrap=False, max_depth=50,\n",
       "                                        max_features='sqrt', min_samples_leaf=4,\n",
       "                                        min_samples_split=10,\n",
       "                                        n_estimators=1100))])"
      ]
     },
     "execution_count": 58,
     "metadata": {},
     "output_type": "execute_result"
    }
   ],
   "source": [
    "best_rf_pipe = rf_random_search.best_estimator_\n",
    "best_rf_pipe"
   ]
  },
  {
   "cell_type": "code",
   "execution_count": 59,
   "id": "4331b275",
   "metadata": {
    "execution": {
     "iopub.execute_input": "2022-12-11T14:04:04.575557Z",
     "iopub.status.busy": "2022-12-11T14:04:04.574925Z",
     "iopub.status.idle": "2022-12-11T14:04:04.705974Z",
     "shell.execute_reply": "2022-12-11T14:04:04.704909Z"
    },
    "papermill": {
     "duration": 0.168505,
     "end_time": "2022-12-11T14:04:04.707791",
     "exception": false,
     "start_time": "2022-12-11T14:04:04.539286",
     "status": "completed"
    },
    "tags": []
   },
   "outputs": [
    {
     "data": {
      "text/plain": [
       "0.8251121076233184"
      ]
     },
     "execution_count": 59,
     "metadata": {},
     "output_type": "execute_result"
    }
   ],
   "source": [
    "best_rf_pipe.score(X_test[:,rf_mask], y_test)"
   ]
  },
  {
   "cell_type": "code",
   "execution_count": 60,
   "id": "99a464f5",
   "metadata": {
    "execution": {
     "iopub.execute_input": "2022-12-11T14:04:04.778557Z",
     "iopub.status.busy": "2022-12-11T14:04:04.777944Z",
     "iopub.status.idle": "2022-12-11T14:04:04.913420Z",
     "shell.execute_reply": "2022-12-11T14:04:04.912694Z"
    },
    "papermill": {
     "duration": 0.173434,
     "end_time": "2022-12-11T14:04:04.915068",
     "exception": false,
     "start_time": "2022-12-11T14:04:04.741634",
     "status": "completed"
    },
    "tags": []
   },
   "outputs": [
    {
     "name": "stdout",
     "output_type": "stream",
     "text": [
      "[[126  13]\n",
      " [ 26  58]]\n"
     ]
    },
    {
     "data": {
      "text/plain": [
       "0.8251121076233184"
      ]
     },
     "execution_count": 60,
     "metadata": {},
     "output_type": "execute_result"
    }
   ],
   "source": [
    "# The next step:\n",
    "rf_pred = best_rf_pipe.predict(X_test[:,rf_mask])\n",
    "cm = confusion_matrix(y_test, rf_pred)\n",
    "print(cm)\n",
    "accuracy_score(y_test, rf_pred)\n"
   ]
  },
  {
   "cell_type": "markdown",
   "id": "a10677bd",
   "metadata": {
    "papermill": {
     "duration": 0.034835,
     "end_time": "2022-12-11T14:04:04.985132",
     "exception": false,
     "start_time": "2022-12-11T14:04:04.950297",
     "status": "completed"
    },
    "tags": []
   },
   "source": [
    "## **K-NN**"
   ]
  },
  {
   "cell_type": "code",
   "execution_count": 61,
   "id": "21dc00f3",
   "metadata": {
    "execution": {
     "iopub.execute_input": "2022-12-11T14:04:05.057851Z",
     "iopub.status.busy": "2022-12-11T14:04:05.056975Z",
     "iopub.status.idle": "2022-12-11T14:04:05.104870Z",
     "shell.execute_reply": "2022-12-11T14:04:05.103940Z"
    },
    "papermill": {
     "duration": 0.087499,
     "end_time": "2022-12-11T14:04:05.107786",
     "exception": false,
     "start_time": "2022-12-11T14:04:05.020287",
     "status": "completed"
    },
    "tags": []
   },
   "outputs": [
    {
     "name": "stdout",
     "output_type": "stream",
     "text": [
      "Feature ranking:  [1 1 2 1 3 1]\n",
      "Selected best:  4\n",
      "Index(['Pclass', 'AgeGroup_code', 'Sex_cat', 'Family_Survival'], dtype='object')\n"
     ]
    }
   ],
   "source": [
    "knn_rfe = RFECV(estimator=DecisionTreeClassifier())\n",
    "knn_pipe = Pipeline(steps=[('s',knn_rfe),('m',KNeighborsClassifier())])\n",
    "\n",
    "X_new_knn = knn_rfe.fit_transform(X_train, y_train)\n",
    "print(\"Feature ranking: \", knn_rfe.ranking_)\n",
    "\n",
    "knn_mask = knn_rfe.get_support()\n",
    "features = X.columns\n",
    "best_features = features[knn_mask]\n",
    "\n",
    "# print(\"All features: \", x.shape[1])\n",
    "# print(features)\n",
    "\n",
    "print(\"Selected best: \", best_features.shape[0])\n",
    "print(features[knn_mask])"
   ]
  },
  {
   "cell_type": "code",
   "execution_count": 62,
   "id": "0fdbe5a9",
   "metadata": {
    "execution": {
     "iopub.execute_input": "2022-12-11T14:04:05.182054Z",
     "iopub.status.busy": "2022-12-11T14:04:05.181712Z",
     "iopub.status.idle": "2022-12-11T14:04:05.957370Z",
     "shell.execute_reply": "2022-12-11T14:04:05.955815Z"
    },
    "papermill": {
     "duration": 0.814892,
     "end_time": "2022-12-11T14:04:05.959453",
     "exception": false,
     "start_time": "2022-12-11T14:04:05.144561",
     "status": "completed"
    },
    "tags": []
   },
   "outputs": [
    {
     "name": "stdout",
     "output_type": "stream",
     "text": [
      "Accuracy: 0.833 (0.042)\n"
     ]
    }
   ],
   "source": [
    "cv = RepeatedStratifiedKFold(n_splits=10, n_repeats=3, random_state=1)\n",
    "n_scores = cross_val_score(knn_pipe, X_new_knn, y_train, scoring='accuracy', cv=cv, error_score='raise')\n",
    "# report performance\n",
    "print('Accuracy: %.3f (%.3f)' % (np.mean(n_scores), np.std(n_scores)))"
   ]
  },
  {
   "cell_type": "code",
   "execution_count": 63,
   "id": "b557b641",
   "metadata": {
    "execution": {
     "iopub.execute_input": "2022-12-11T14:04:06.030332Z",
     "iopub.status.busy": "2022-12-11T14:04:06.029972Z",
     "iopub.status.idle": "2022-12-11T14:04:06.036778Z",
     "shell.execute_reply": "2022-12-11T14:04:06.035108Z"
    },
    "papermill": {
     "duration": 0.04546,
     "end_time": "2022-12-11T14:04:06.039357",
     "exception": false,
     "start_time": "2022-12-11T14:04:05.993897",
     "status": "completed"
    },
    "tags": []
   },
   "outputs": [],
   "source": [
    "# Number of neighbors\n",
    "n_neighbors = [i for i in range(1,31)]\n",
    "# Weight function used in prediction\n",
    "weights = ['uniform', 'distance']\n",
    "# Algorithm used to compute the nearest neighbors\n",
    "algorithm = ['auto']\n",
    "# Euclidean distance\n",
    "# metric = ['minkowski']\n",
    "# p = [2]\n",
    "\n",
    "# Create the knn hyperparameters grid\n",
    "knn_grid = {'m__n_neighbors': n_neighbors,\n",
    "               'm__weights': weights,\n",
    "               'm__algorithm': algorithm}"
   ]
  },
  {
   "cell_type": "code",
   "execution_count": 64,
   "id": "3681425d",
   "metadata": {
    "execution": {
     "iopub.execute_input": "2022-12-11T14:04:06.111601Z",
     "iopub.status.busy": "2022-12-11T14:04:06.111223Z",
     "iopub.status.idle": "2022-12-11T14:04:52.440295Z",
     "shell.execute_reply": "2022-12-11T14:04:52.439203Z"
    },
    "papermill": {
     "duration": 46.404653,
     "end_time": "2022-12-11T14:04:52.479492",
     "exception": false,
     "start_time": "2022-12-11T14:04:06.074839",
     "status": "completed"
    },
    "tags": []
   },
   "outputs": [
    {
     "name": "stdout",
     "output_type": "stream",
     "text": [
      "Best Accuracy: 85.28 %\n",
      "Best Parameters: {'m__algorithm': 'auto', 'm__n_neighbors': 29, 'm__weights': 'distance'}\n"
     ]
    }
   ],
   "source": [
    "# run very slow\n",
    "knn_random_search = GridSearchCV(knn_pipe,\n",
    "                           param_grid = knn_grid,\n",
    "                           scoring = 'accuracy',\n",
    "                           cv = cv)\n",
    "knn_random_search.fit(X_new_knn, y_train)\n",
    "best_accuracy = knn_random_search.best_score_\n",
    "best_parameters = knn_random_search.best_params_\n",
    "print(\"Best Accuracy: {:.2f} %\".format(best_accuracy*100))\n",
    "print(\"Best Parameters:\", best_parameters)"
   ]
  },
  {
   "cell_type": "code",
   "execution_count": 65,
   "id": "3a6bcd17",
   "metadata": {
    "execution": {
     "iopub.execute_input": "2022-12-11T14:04:52.551961Z",
     "iopub.status.busy": "2022-12-11T14:04:52.550860Z",
     "iopub.status.idle": "2022-12-11T14:04:52.561824Z",
     "shell.execute_reply": "2022-12-11T14:04:52.560464Z"
    },
    "papermill": {
     "duration": 0.049471,
     "end_time": "2022-12-11T14:04:52.564155",
     "exception": false,
     "start_time": "2022-12-11T14:04:52.514684",
     "status": "completed"
    },
    "tags": []
   },
   "outputs": [
    {
     "data": {
      "text/plain": [
       "Pipeline(steps=[('s', RFECV(estimator=DecisionTreeClassifier())),\n",
       "                ('m',\n",
       "                 KNeighborsClassifier(n_neighbors=29, weights='distance'))])"
      ]
     },
     "execution_count": 65,
     "metadata": {},
     "output_type": "execute_result"
    }
   ],
   "source": [
    "best_knn_pipe = knn_random_search.best_estimator_\n",
    "best_knn_pipe"
   ]
  },
  {
   "cell_type": "code",
   "execution_count": 66,
   "id": "39c51b59",
   "metadata": {
    "execution": {
     "iopub.execute_input": "2022-12-11T14:04:52.637317Z",
     "iopub.status.busy": "2022-12-11T14:04:52.636656Z",
     "iopub.status.idle": "2022-12-11T14:04:52.648263Z",
     "shell.execute_reply": "2022-12-11T14:04:52.646967Z"
    },
    "papermill": {
     "duration": 0.051624,
     "end_time": "2022-12-11T14:04:52.650779",
     "exception": false,
     "start_time": "2022-12-11T14:04:52.599155",
     "status": "completed"
    },
    "tags": []
   },
   "outputs": [
    {
     "name": "stdout",
     "output_type": "stream",
     "text": [
      "[[127  12]\n",
      " [ 28  56]]\n"
     ]
    },
    {
     "data": {
      "text/plain": [
       "0.820627802690583"
      ]
     },
     "execution_count": 66,
     "metadata": {},
     "output_type": "execute_result"
    }
   ],
   "source": [
    "knn_pred = best_knn_pipe.predict(X_test[:,knn_mask])\n",
    "cm = confusion_matrix(y_test, knn_pred)\n",
    "print(cm)\n",
    "accuracy_score(y_test, knn_pred)"
   ]
  },
  {
   "cell_type": "markdown",
   "id": "25fb2713",
   "metadata": {
    "papermill": {
     "duration": 0.034283,
     "end_time": "2022-12-11T14:04:52.719878",
     "exception": false,
     "start_time": "2022-12-11T14:04:52.685595",
     "status": "completed"
    },
    "tags": []
   },
   "source": [
    "## **Logistic Regression**"
   ]
  },
  {
   "cell_type": "code",
   "execution_count": 67,
   "id": "8b82fafb",
   "metadata": {
    "execution": {
     "iopub.execute_input": "2022-12-11T14:04:52.791916Z",
     "iopub.status.busy": "2022-12-11T14:04:52.791359Z",
     "iopub.status.idle": "2022-12-11T14:04:54.440254Z",
     "shell.execute_reply": "2022-12-11T14:04:54.439191Z"
    },
    "papermill": {
     "duration": 1.687584,
     "end_time": "2022-12-11T14:04:54.442429",
     "exception": false,
     "start_time": "2022-12-11T14:04:52.754845",
     "status": "completed"
    },
    "tags": []
   },
   "outputs": [
    {
     "name": "stdout",
     "output_type": "stream",
     "text": [
      "Feature ranking:  [1 1 2 1 3 1]\n",
      "Selected best:  4\n",
      "Index(['Pclass', 'AgeGroup_code', 'Sex_cat', 'Family_Survival'], dtype='object')\n"
     ]
    }
   ],
   "source": [
    "lr_rfe = RFECV(estimator=GradientBoostingClassifier())\n",
    "lr_pipe = Pipeline(steps=[('s',lr_rfe),('m',LogisticRegression())])\n",
    "\n",
    "X_new_lr = lr_rfe.fit_transform(X_train, y_train)\n",
    "print(\"Feature ranking: \", lr_rfe.ranking_)\n",
    "\n",
    "lr_mask = lr_rfe.get_support()\n",
    "features = X.columns\n",
    "lr_best_features = features[lr_mask]\n",
    "\n",
    "# print(\"All features: \", x.shape[1])\n",
    "# print(features)\n",
    "\n",
    "print(\"Selected best: \", lr_best_features.shape[0])\n",
    "print(features[lr_mask])"
   ]
  },
  {
   "cell_type": "code",
   "execution_count": 68,
   "id": "20a562b1",
   "metadata": {
    "execution": {
     "iopub.execute_input": "2022-12-11T14:04:54.515694Z",
     "iopub.status.busy": "2022-12-11T14:04:54.515033Z",
     "iopub.status.idle": "2022-12-11T14:05:22.684750Z",
     "shell.execute_reply": "2022-12-11T14:05:22.683793Z"
    },
    "papermill": {
     "duration": 28.209218,
     "end_time": "2022-12-11T14:05:22.687143",
     "exception": false,
     "start_time": "2022-12-11T14:04:54.477925",
     "status": "completed"
    },
    "tags": []
   },
   "outputs": [
    {
     "name": "stdout",
     "output_type": "stream",
     "text": [
      "Accuracy: 0.837 (0.036)\n"
     ]
    }
   ],
   "source": [
    "cv = RepeatedStratifiedKFold(n_splits=10, n_repeats=3, random_state=1)\n",
    "n_scores = cross_val_score(lr_pipe, X_new_lr, y_train, scoring='accuracy', cv=cv, error_score='raise')\n",
    "# report performance\n",
    "print('Accuracy: %.3f (%.3f)' % (np.mean(n_scores), np.std(n_scores)))"
   ]
  },
  {
   "cell_type": "code",
   "execution_count": 69,
   "id": "bd2520e9",
   "metadata": {
    "execution": {
     "iopub.execute_input": "2022-12-11T14:05:22.758320Z",
     "iopub.status.busy": "2022-12-11T14:05:22.757521Z",
     "iopub.status.idle": "2022-12-11T14:05:22.762517Z",
     "shell.execute_reply": "2022-12-11T14:05:22.760846Z"
    },
    "papermill": {
     "duration": 0.042794,
     "end_time": "2022-12-11T14:05:22.764825",
     "exception": false,
     "start_time": "2022-12-11T14:05:22.722031",
     "status": "completed"
    },
    "tags": []
   },
   "outputs": [],
   "source": [
    "# lr_grid = [{'m__C': [0.01, 0.1, 0.15, 0.25, 0.5, 0.75, 1], 'm__penalty': ['l2'], 'm__solver': ['liblinear','newton-cg', 'lbfgs', 'sag', 'saga','newton-cholesky']},\n",
    "#            {'m__penalty': ['none'], 'm__solver': ['newton-cg', 'newton-cholesky','lbfgs', 'sag', 'saga']},\n",
    "#            {'m__C': [0.01, 0.1, 0.15,  0.25, 0.5, 0.75, 1], 'm__penalty': ['l1'], 'm__solver': ['liblinear', 'saga']},\n",
    "#            {'m__C': [0.01, 0.1, 0.15, 0.25, 0.5, 0.75, 1], 'm__penalty': ['elasticnet'], 'm__solver': ['saga'], 'm__l1_ratio': [0.25, 0.5, 0.75]}]"
   ]
  },
  {
   "cell_type": "code",
   "execution_count": 70,
   "id": "601c1aa2",
   "metadata": {
    "execution": {
     "iopub.execute_input": "2022-12-11T14:05:22.837849Z",
     "iopub.status.busy": "2022-12-11T14:05:22.837189Z",
     "iopub.status.idle": "2022-12-11T14:05:22.841858Z",
     "shell.execute_reply": "2022-12-11T14:05:22.841051Z"
    },
    "papermill": {
     "duration": 0.043435,
     "end_time": "2022-12-11T14:05:22.843731",
     "exception": false,
     "start_time": "2022-12-11T14:05:22.800296",
     "status": "completed"
    },
    "tags": []
   },
   "outputs": [],
   "source": [
    "# lr_search = GridSearchCV(lr_pipe,\n",
    "#                            param_grid = lr_grid,\n",
    "#                            scoring = 'accuracy',\n",
    "#                            cv = cv)\n",
    "# lr_search.fit(X_new_lr, y_train)\n",
    "# best_accuracy = lr_search.best_score_\n",
    "# best_parameters = lr_search.best_params_\n",
    "# print(\"Best Accuracy: {:.2f} %\".format(best_accuracy*100))\n",
    "# print(\"Best Parameters:\", best_parameters)"
   ]
  },
  {
   "cell_type": "code",
   "execution_count": 71,
   "id": "4932a27c",
   "metadata": {
    "execution": {
     "iopub.execute_input": "2022-12-11T14:05:22.915704Z",
     "iopub.status.busy": "2022-12-11T14:05:22.914972Z",
     "iopub.status.idle": "2022-12-11T14:05:22.918997Z",
     "shell.execute_reply": "2022-12-11T14:05:22.918318Z"
    },
    "papermill": {
     "duration": 0.042156,
     "end_time": "2022-12-11T14:05:22.920854",
     "exception": false,
     "start_time": "2022-12-11T14:05:22.878698",
     "status": "completed"
    },
    "tags": []
   },
   "outputs": [],
   "source": [
    "# best_lr_pipe = lr_search.best_estimator_\n",
    "# best_lr_pipe"
   ]
  },
  {
   "cell_type": "code",
   "execution_count": 72,
   "id": "911de85a",
   "metadata": {
    "execution": {
     "iopub.execute_input": "2022-12-11T14:05:22.992367Z",
     "iopub.status.busy": "2022-12-11T14:05:22.991806Z",
     "iopub.status.idle": "2022-12-11T14:05:22.995540Z",
     "shell.execute_reply": "2022-12-11T14:05:22.994956Z"
    },
    "papermill": {
     "duration": 0.041808,
     "end_time": "2022-12-11T14:05:22.997335",
     "exception": false,
     "start_time": "2022-12-11T14:05:22.955527",
     "status": "completed"
    },
    "tags": []
   },
   "outputs": [],
   "source": [
    "# lr_pred = best_lr_pipe.predict(X_test[:,mask])\n",
    "# cm = confusion_matrix(y_test, lr_pred)\n",
    "# print(cm)\n",
    "# accuracy_score(y_test, lr_pred)"
   ]
  },
  {
   "cell_type": "markdown",
   "id": "ffa2c1b6",
   "metadata": {
    "papermill": {
     "duration": 0.034405,
     "end_time": "2022-12-11T14:05:23.066374",
     "exception": false,
     "start_time": "2022-12-11T14:05:23.031969",
     "status": "completed"
    },
    "tags": []
   },
   "source": [
    "## **Model Selection**"
   ]
  },
  {
   "cell_type": "markdown",
   "id": "9bf7b83e",
   "metadata": {
    "papermill": {
     "duration": 0.034257,
     "end_time": "2022-12-11T14:05:23.134916",
     "exception": false,
     "start_time": "2022-12-11T14:05:23.100659",
     "status": "completed"
    },
    "tags": []
   },
   "source": [
    "To find the best model with the best parameters, let's use cross validation and grid search."
   ]
  },
  {
   "cell_type": "code",
   "execution_count": 73,
   "id": "c533d190",
   "metadata": {
    "execution": {
     "iopub.execute_input": "2022-12-11T14:05:23.206356Z",
     "iopub.status.busy": "2022-12-11T14:05:23.206011Z",
     "iopub.status.idle": "2022-12-11T14:05:23.209679Z",
     "shell.execute_reply": "2022-12-11T14:05:23.208742Z"
    },
    "papermill": {
     "duration": 0.042037,
     "end_time": "2022-12-11T14:05:23.212040",
     "exception": false,
     "start_time": "2022-12-11T14:05:23.170003",
     "status": "completed"
    },
    "tags": []
   },
   "outputs": [],
   "source": [
    "# models_accuracy_scores = {}\n",
    "# best_params = {}"
   ]
  },
  {
   "cell_type": "markdown",
   "id": "0148c8b5",
   "metadata": {
    "papermill": {
     "duration": 0.03426,
     "end_time": "2022-12-11T14:05:23.281629",
     "exception": false,
     "start_time": "2022-12-11T14:05:23.247369",
     "status": "completed"
    },
    "tags": []
   },
   "source": [
    "## **Logistic Regression**"
   ]
  },
  {
   "cell_type": "markdown",
   "id": "38390e84",
   "metadata": {
    "papermill": {
     "duration": 0.034755,
     "end_time": "2022-12-11T14:05:23.350816",
     "exception": false,
     "start_time": "2022-12-11T14:05:23.316061",
     "status": "completed"
    },
    "tags": []
   },
   "source": [
    "Training the Logistic Regression model on the Training set"
   ]
  },
  {
   "cell_type": "code",
   "execution_count": 74,
   "id": "cb70a2b4",
   "metadata": {
    "execution": {
     "iopub.execute_input": "2022-12-11T14:05:23.423218Z",
     "iopub.status.busy": "2022-12-11T14:05:23.422851Z",
     "iopub.status.idle": "2022-12-11T14:05:23.426646Z",
     "shell.execute_reply": "2022-12-11T14:05:23.425736Z"
    },
    "papermill": {
     "duration": 0.042154,
     "end_time": "2022-12-11T14:05:23.428498",
     "exception": false,
     "start_time": "2022-12-11T14:05:23.386344",
     "status": "completed"
    },
    "tags": []
   },
   "outputs": [],
   "source": [
    "# logistic_classifier = LogisticRegression(random_state=0)\n",
    "# logistic_classifier.fit(X_train, y_train)"
   ]
  },
  {
   "cell_type": "markdown",
   "id": "c60d73e9",
   "metadata": {
    "papermill": {
     "duration": 0.035503,
     "end_time": "2022-12-11T14:05:23.499726",
     "exception": false,
     "start_time": "2022-12-11T14:05:23.464223",
     "status": "completed"
    },
    "tags": []
   },
   "source": [
    "Making the Confusion Matrix"
   ]
  },
  {
   "cell_type": "code",
   "execution_count": 75,
   "id": "11d753cf",
   "metadata": {
    "execution": {
     "iopub.execute_input": "2022-12-11T14:05:23.569959Z",
     "iopub.status.busy": "2022-12-11T14:05:23.569585Z",
     "iopub.status.idle": "2022-12-11T14:05:23.572798Z",
     "shell.execute_reply": "2022-12-11T14:05:23.572155Z"
    },
    "papermill": {
     "duration": 0.040244,
     "end_time": "2022-12-11T14:05:23.574351",
     "exception": false,
     "start_time": "2022-12-11T14:05:23.534107",
     "status": "completed"
    },
    "tags": []
   },
   "outputs": [],
   "source": [
    "# y_pred = logistic_classifier.predict(X_test)\n",
    "# cm = confusion_matrix(y_test, y_pred)\n",
    "# print(cm)\n",
    "# accuracy_score(y_test, y_pred)"
   ]
  },
  {
   "cell_type": "markdown",
   "id": "93acbc08",
   "metadata": {
    "papermill": {
     "duration": 0.0351,
     "end_time": "2022-12-11T14:05:23.644789",
     "exception": false,
     "start_time": "2022-12-11T14:05:23.609689",
     "status": "completed"
    },
    "tags": []
   },
   "source": [
    "Feature Selection"
   ]
  },
  {
   "cell_type": "code",
   "execution_count": 76,
   "id": "75776728",
   "metadata": {
    "execution": {
     "iopub.execute_input": "2022-12-11T14:05:23.716533Z",
     "iopub.status.busy": "2022-12-11T14:05:23.715938Z",
     "iopub.status.idle": "2022-12-11T14:05:23.720128Z",
     "shell.execute_reply": "2022-12-11T14:05:23.719460Z"
    },
    "papermill": {
     "duration": 0.04225,
     "end_time": "2022-12-11T14:05:23.722002",
     "exception": false,
     "start_time": "2022-12-11T14:05:23.679752",
     "status": "completed"
    },
    "tags": []
   },
   "outputs": [],
   "source": [
    "# from sklearn.tree import DecisionTreeClassifier\n",
    "# # create pipeline\n",
    "# rfe = RFECV(estimator=LogisticRegression())\n",
    "# model = LogisticRegression()\n",
    "# pipeline = Pipeline(steps=[('s',rfe),('m',model)])\n",
    "# # evaluate model\n",
    "# cv = RepeatedStratifiedKFold(n_splits=10, n_repeats=1, random_state=1)\n",
    "# n_scores = cross_val_score(pipeline, X_train, y_train, scoring='accuracy', cv=cv, error_score='raise')\n",
    "# # report performance\n",
    "# print('Accuracy: %.3f (%.3f)' % (np.mean(n_scores), np.std(n_scores)))"
   ]
  },
  {
   "cell_type": "code",
   "execution_count": 77,
   "id": "2a170992",
   "metadata": {
    "execution": {
     "iopub.execute_input": "2022-12-11T14:05:23.794593Z",
     "iopub.status.busy": "2022-12-11T14:05:23.793600Z",
     "iopub.status.idle": "2022-12-11T14:05:23.798033Z",
     "shell.execute_reply": "2022-12-11T14:05:23.797144Z"
    },
    "papermill": {
     "duration": 0.043761,
     "end_time": "2022-12-11T14:05:23.800794",
     "exception": false,
     "start_time": "2022-12-11T14:05:23.757033",
     "status": "completed"
    },
    "tags": []
   },
   "outputs": [],
   "source": [
    "# rfe.fit(X_train, y_train)\n",
    "# mask = rfe.get_support()\n",
    "# features = X.columns\n",
    "# best_features = features[mask]\n",
    " \n",
    "# print(\"All features: \", X.shape[1])\n",
    "# print(features)\n",
    "\n",
    "# print(\"Selected best: \", best_features.shape[0])\n",
    "# print(features[mask])"
   ]
  },
  {
   "cell_type": "code",
   "execution_count": 78,
   "id": "076cf63c",
   "metadata": {
    "execution": {
     "iopub.execute_input": "2022-12-11T14:05:23.872205Z",
     "iopub.status.busy": "2022-12-11T14:05:23.871790Z",
     "iopub.status.idle": "2022-12-11T14:05:23.876300Z",
     "shell.execute_reply": "2022-12-11T14:05:23.874931Z"
    },
    "papermill": {
     "duration": 0.04303,
     "end_time": "2022-12-11T14:05:23.878841",
     "exception": false,
     "start_time": "2022-12-11T14:05:23.835811",
     "status": "completed"
    },
    "tags": []
   },
   "outputs": [],
   "source": [
    "# model.fit(X_new, y_train)\n",
    "# pip_pred = pipeline.predict(X_test)\n",
    "# cm = confusion_matrix(y_test, pip_pred)\n",
    "# print(cm)\n",
    "# accuracy_score(y_test, pip_pred)"
   ]
  },
  {
   "cell_type": "markdown",
   "id": "6ae07279",
   "metadata": {
    "papermill": {
     "duration": 0.035032,
     "end_time": "2022-12-11T14:05:23.949375",
     "exception": false,
     "start_time": "2022-12-11T14:05:23.914343",
     "status": "completed"
    },
    "tags": []
   },
   "source": [
    "Applying k-Fold Cross Validation"
   ]
  },
  {
   "cell_type": "code",
   "execution_count": 79,
   "id": "4fc4b585",
   "metadata": {
    "execution": {
     "iopub.execute_input": "2022-12-11T14:05:24.021823Z",
     "iopub.status.busy": "2022-12-11T14:05:24.021403Z",
     "iopub.status.idle": "2022-12-11T14:05:24.026034Z",
     "shell.execute_reply": "2022-12-11T14:05:24.024709Z"
    },
    "papermill": {
     "duration": 0.043115,
     "end_time": "2022-12-11T14:05:24.027861",
     "exception": false,
     "start_time": "2022-12-11T14:05:23.984746",
     "status": "completed"
    },
    "tags": []
   },
   "outputs": [],
   "source": [
    "# accuracies = cross_val_score(estimator = logistic_classifier, X = X_train, y = y_train, cv = 10)\n",
    "# print(\"Accuracy: {:.2f} %\".format(accuracies.mean()*100))\n",
    "# print(\"Standard Deviation: {:.2f} %\".format(accuracies.std()*100))"
   ]
  },
  {
   "cell_type": "markdown",
   "id": "a40dbcd1",
   "metadata": {
    "papermill": {
     "duration": 0.03498,
     "end_time": "2022-12-11T14:05:24.098128",
     "exception": false,
     "start_time": "2022-12-11T14:05:24.063148",
     "status": "completed"
    },
    "tags": []
   },
   "source": [
    "Applying Grid Search to find the best model and the best parameters"
   ]
  },
  {
   "cell_type": "code",
   "execution_count": 80,
   "id": "6673af62",
   "metadata": {
    "execution": {
     "iopub.execute_input": "2022-12-11T14:05:24.174291Z",
     "iopub.status.busy": "2022-12-11T14:05:24.173192Z",
     "iopub.status.idle": "2022-12-11T14:05:24.178351Z",
     "shell.execute_reply": "2022-12-11T14:05:24.177391Z"
    },
    "papermill": {
     "duration": 0.046385,
     "end_time": "2022-12-11T14:05:24.180809",
     "exception": false,
     "start_time": "2022-12-11T14:05:24.134424",
     "status": "completed"
    },
    "tags": []
   },
   "outputs": [],
   "source": [
    "# parameters = [{'C': [0.01, 0.1, 0.15, 0.25, 0.5, 0.75, 1], 'penalty': ['l2'], 'solver': ['newton-cg', 'lbfgs', 'sag', 'saga']},\n",
    "#               {'penalty': ['none'], 'solver': ['newton-cg', 'lbfgs', 'sag', 'saga']},\n",
    "#               {'C': [0.01, 0.1, 0.15,  0.25, 0.5, 0.75, 1], 'penalty': ['l2', 'l1'], 'solver': ['liblinear', 'saga']},\n",
    "#               {'C': [0.01, 0.1, 0.15, 0.25, 0.5, 0.75, 1], 'penalty': ['elasticnet'], 'solver': ['saga'], 'l1_ratio': [0.25, 0.5, 0.75]}]\n",
    "\n",
    "# grid_search = GridSearchCV(estimator = logistic_classifier,\n",
    "#                            param_grid = parameters,\n",
    "#                            scoring = 'accuracy',\n",
    "#                            cv = 10)\n",
    "# grid_search.fit(X_train, y_train)\n",
    "# best_accuracy = grid_search.best_score_\n",
    "# best_parameters = grid_search.best_params_\n",
    "# print(\"Best Accuracy: {:.2f} %\".format(best_accuracy*100))\n",
    "# print(\"Best Parameters:\", best_parameters)"
   ]
  },
  {
   "cell_type": "code",
   "execution_count": 81,
   "id": "31815c45",
   "metadata": {
    "execution": {
     "iopub.execute_input": "2022-12-11T14:05:24.266013Z",
     "iopub.status.busy": "2022-12-11T14:05:24.265645Z",
     "iopub.status.idle": "2022-12-11T14:05:24.269444Z",
     "shell.execute_reply": "2022-12-11T14:05:24.268413Z"
    },
    "papermill": {
     "duration": 0.046884,
     "end_time": "2022-12-11T14:05:24.271202",
     "exception": false,
     "start_time": "2022-12-11T14:05:24.224318",
     "status": "completed"
    },
    "tags": []
   },
   "outputs": [],
   "source": [
    "# grid_pred = grid_search.predict(X_test)\n",
    "# accuracy_score(y_test, grid_pred)"
   ]
  },
  {
   "cell_type": "code",
   "execution_count": 82,
   "id": "fe544bae",
   "metadata": {
    "execution": {
     "iopub.execute_input": "2022-12-11T14:05:24.344835Z",
     "iopub.status.busy": "2022-12-11T14:05:24.344061Z",
     "iopub.status.idle": "2022-12-11T14:05:24.348401Z",
     "shell.execute_reply": "2022-12-11T14:05:24.347442Z"
    },
    "papermill": {
     "duration": 0.044154,
     "end_time": "2022-12-11T14:05:24.351282",
     "exception": false,
     "start_time": "2022-12-11T14:05:24.307128",
     "status": "completed"
    },
    "tags": []
   },
   "outputs": [],
   "source": [
    "# grid_search"
   ]
  },
  {
   "cell_type": "code",
   "execution_count": 83,
   "id": "96235182",
   "metadata": {
    "execution": {
     "iopub.execute_input": "2022-12-11T14:05:24.424141Z",
     "iopub.status.busy": "2022-12-11T14:05:24.423753Z",
     "iopub.status.idle": "2022-12-11T14:05:24.428126Z",
     "shell.execute_reply": "2022-12-11T14:05:24.427263Z"
    },
    "papermill": {
     "duration": 0.043029,
     "end_time": "2022-12-11T14:05:24.429940",
     "exception": false,
     "start_time": "2022-12-11T14:05:24.386911",
     "status": "completed"
    },
    "tags": []
   },
   "outputs": [],
   "source": [
    "# models_accuracy_scores[\"Logistic Regression\"] = [logistic_score, logistic_std]"
   ]
  },
  {
   "cell_type": "markdown",
   "id": "a5a20ea8",
   "metadata": {
    "papermill": {
     "duration": 0.035424,
     "end_time": "2022-12-11T14:05:24.500739",
     "exception": false,
     "start_time": "2022-12-11T14:05:24.465315",
     "status": "completed"
    },
    "tags": []
   },
   "source": [
    "## **K-NN**"
   ]
  },
  {
   "cell_type": "code",
   "execution_count": 84,
   "id": "d575f9fd",
   "metadata": {
    "execution": {
     "iopub.execute_input": "2022-12-11T14:05:24.575297Z",
     "iopub.status.busy": "2022-12-11T14:05:24.574918Z",
     "iopub.status.idle": "2022-12-11T14:05:24.581030Z",
     "shell.execute_reply": "2022-12-11T14:05:24.579785Z"
    },
    "papermill": {
     "duration": 0.045603,
     "end_time": "2022-12-11T14:05:24.583045",
     "exception": false,
     "start_time": "2022-12-11T14:05:24.537442",
     "status": "completed"
    },
    "tags": []
   },
   "outputs": [
    {
     "data": {
      "text/plain": [
       "\"# search for an optimal value of k for K-NN\\nfrom sklearn.neighbors import KNeighborsClassifier\\nk_range = range(1,31)\\nk_scores = []\\nfor k in k_range:\\n    knn = KNeighborsClassifier(n_neighbors=k, metric='minkowski', p=2)\\n    scores = cross_val_score(knn, X_new_knn, y_train, cv = cv, scoring = 'accuracy')\\n    k_scores.append(scores.mean())\\nprint(k_scores)\""
      ]
     },
     "execution_count": 84,
     "metadata": {},
     "output_type": "execute_result"
    }
   ],
   "source": [
    "'''# search for an optimal value of k for K-NN\n",
    "from sklearn.neighbors import KNeighborsClassifier\n",
    "k_range = range(1,31)\n",
    "k_scores = []\n",
    "for k in k_range:\n",
    "    knn = KNeighborsClassifier(n_neighbors=k, metric='minkowski', p=2)\n",
    "    scores = cross_val_score(knn, X_new_knn, y_train, cv = cv, scoring = 'accuracy')\n",
    "    k_scores.append(scores.mean())\n",
    "print(k_scores)'''"
   ]
  },
  {
   "cell_type": "code",
   "execution_count": 85,
   "id": "ad61b075",
   "metadata": {
    "execution": {
     "iopub.execute_input": "2022-12-11T14:05:24.657042Z",
     "iopub.status.busy": "2022-12-11T14:05:24.656606Z",
     "iopub.status.idle": "2022-12-11T14:05:24.662014Z",
     "shell.execute_reply": "2022-12-11T14:05:24.661123Z"
    },
    "papermill": {
     "duration": 0.044741,
     "end_time": "2022-12-11T14:05:24.663987",
     "exception": false,
     "start_time": "2022-12-11T14:05:24.619246",
     "status": "completed"
    },
    "tags": []
   },
   "outputs": [
    {
     "data": {
      "text/plain": [
       "\"# plot the value of k for K-NN (x axis) versus the cross-validated accuracy (y axis)\\nplt.plot(k_range, k_scores)\\nplt.xlabel('Value of k')\\nplt.ylabel('Cross-Validated Accuracy')\""
      ]
     },
     "execution_count": 85,
     "metadata": {},
     "output_type": "execute_result"
    }
   ],
   "source": [
    "'''# plot the value of k for K-NN (x axis) versus the cross-validated accuracy (y axis)\n",
    "plt.plot(k_range, k_scores)\n",
    "plt.xlabel('Value of k')\n",
    "plt.ylabel('Cross-Validated Accuracy')'''"
   ]
  },
  {
   "cell_type": "code",
   "execution_count": 86,
   "id": "80c7a850",
   "metadata": {
    "execution": {
     "iopub.execute_input": "2022-12-11T14:05:24.735073Z",
     "iopub.status.busy": "2022-12-11T14:05:24.734754Z",
     "iopub.status.idle": "2022-12-11T14:05:24.740093Z",
     "shell.execute_reply": "2022-12-11T14:05:24.739264Z"
    },
    "papermill": {
     "duration": 0.042869,
     "end_time": "2022-12-11T14:05:24.741830",
     "exception": false,
     "start_time": "2022-12-11T14:05:24.698961",
     "status": "completed"
    },
    "tags": []
   },
   "outputs": [
    {
     "data": {
      "text/plain": [
       "'k_scores.index(max(k_scores))'"
      ]
     },
     "execution_count": 86,
     "metadata": {},
     "output_type": "execute_result"
    }
   ],
   "source": [
    "'''k_scores.index(max(k_scores))'''"
   ]
  },
  {
   "cell_type": "markdown",
   "id": "f53088c4",
   "metadata": {
    "papermill": {
     "duration": 0.034383,
     "end_time": "2022-12-11T14:05:24.811203",
     "exception": false,
     "start_time": "2022-12-11T14:05:24.776820",
     "status": "completed"
    },
    "tags": []
   },
   "source": [
    "The optimal value of k is 27 with 0.786729 accuracy score"
   ]
  },
  {
   "cell_type": "code",
   "execution_count": 87,
   "id": "62222808",
   "metadata": {
    "execution": {
     "iopub.execute_input": "2022-12-11T14:05:24.883333Z",
     "iopub.status.busy": "2022-12-11T14:05:24.882658Z",
     "iopub.status.idle": "2022-12-11T14:05:24.888339Z",
     "shell.execute_reply": "2022-12-11T14:05:24.887670Z"
    },
    "papermill": {
     "duration": 0.043988,
     "end_time": "2022-12-11T14:05:24.890232",
     "exception": false,
     "start_time": "2022-12-11T14:05:24.846244",
     "status": "completed"
    },
    "tags": []
   },
   "outputs": [
    {
     "data": {
      "text/plain": [
       "'knn_classifier = KNeighborsClassifier(n_neighbors=26, metric=\\'minkowski\\', p=2)\\nknn_accuracies = cross_val_score(knn_classifier, X, y, cv = 10, scoring = \\'accuracy\\')\\nknn_score = knn_accuracies.mean()\\nknn_std = knn_accuracies.std()\\nprint(knn_score)\\nmodels_accuracy_scores[\"K-NN\"] = [knn_score, knn_std]'"
      ]
     },
     "execution_count": 87,
     "metadata": {},
     "output_type": "execute_result"
    }
   ],
   "source": [
    "'''knn_classifier = KNeighborsClassifier(n_neighbors=26, metric='minkowski', p=2)\n",
    "knn_accuracies = cross_val_score(knn_classifier, X, y, cv = 10, scoring = 'accuracy')\n",
    "knn_score = knn_accuracies.mean()\n",
    "knn_std = knn_accuracies.std()\n",
    "print(knn_score)\n",
    "models_accuracy_scores[\"K-NN\"] = [knn_score, knn_std]'''"
   ]
  },
  {
   "cell_type": "markdown",
   "id": "2d5ce2a7",
   "metadata": {
    "papermill": {
     "duration": 0.035086,
     "end_time": "2022-12-11T14:05:24.960884",
     "exception": false,
     "start_time": "2022-12-11T14:05:24.925798",
     "status": "completed"
    },
    "tags": []
   },
   "source": [
    "## **SVM**"
   ]
  },
  {
   "cell_type": "code",
   "execution_count": 88,
   "id": "928a289b",
   "metadata": {
    "execution": {
     "iopub.execute_input": "2022-12-11T14:05:25.034255Z",
     "iopub.status.busy": "2022-12-11T14:05:25.033599Z",
     "iopub.status.idle": "2022-12-11T14:05:25.038095Z",
     "shell.execute_reply": "2022-12-11T14:05:25.037008Z"
    },
    "papermill": {
     "duration": 0.044226,
     "end_time": "2022-12-11T14:05:25.040417",
     "exception": false,
     "start_time": "2022-12-11T14:05:24.996191",
     "status": "completed"
    },
    "tags": []
   },
   "outputs": [],
   "source": [
    "# from sklearn.svm import SVC\n",
    "# svm_classifier = SVC(kernel='linear', random_state=0)\n",
    "# svm_accuracies = cross_val_score(svm_classifier, X, y, cv = 10, scoring = 'accuracy')\n",
    "# svm_score = svm_accuracies.mean()\n",
    "# svm_std = svm_accuracies.std()\n",
    "# models_accuracy_scores[\"SVM\"] = [svm_score, svm_std]"
   ]
  },
  {
   "cell_type": "code",
   "execution_count": 89,
   "id": "e21ac51a",
   "metadata": {
    "execution": {
     "iopub.execute_input": "2022-12-11T14:05:25.113487Z",
     "iopub.status.busy": "2022-12-11T14:05:25.112942Z",
     "iopub.status.idle": "2022-12-11T14:05:25.117853Z",
     "shell.execute_reply": "2022-12-11T14:05:25.116514Z"
    },
    "papermill": {
     "duration": 0.044476,
     "end_time": "2022-12-11T14:05:25.120516",
     "exception": false,
     "start_time": "2022-12-11T14:05:25.076040",
     "status": "completed"
    },
    "tags": []
   },
   "outputs": [],
   "source": [
    "# models_accuracy_scores"
   ]
  },
  {
   "cell_type": "markdown",
   "id": "b44b8c20",
   "metadata": {
    "papermill": {
     "duration": 0.034966,
     "end_time": "2022-12-11T14:05:25.190848",
     "exception": false,
     "start_time": "2022-12-11T14:05:25.155882",
     "status": "completed"
    },
    "tags": []
   },
   "source": [
    "## **Naive Bayes**"
   ]
  },
  {
   "cell_type": "code",
   "execution_count": 90,
   "id": "dc9ed2f9",
   "metadata": {
    "execution": {
     "iopub.execute_input": "2022-12-11T14:05:25.265415Z",
     "iopub.status.busy": "2022-12-11T14:05:25.264854Z",
     "iopub.status.idle": "2022-12-11T14:05:25.269142Z",
     "shell.execute_reply": "2022-12-11T14:05:25.268470Z"
    },
    "papermill": {
     "duration": 0.04401,
     "end_time": "2022-12-11T14:05:25.270940",
     "exception": false,
     "start_time": "2022-12-11T14:05:25.226930",
     "status": "completed"
    },
    "tags": []
   },
   "outputs": [],
   "source": [
    "# from sklearn.naive_bayes import GaussianNB\n",
    "# nb_classifier = GaussianNB()\n",
    "# nb_accuracies = cross_val_score(nb_classifier, X, y, cv = 10, scoring = 'accuracy')\n",
    "# nb_score = nb_accuracies.mean()\n",
    "# nb_std = nb_accuracies.std()\n",
    "# models_accuracy_scores[\"Naive Bayes\"] = [nb_score, nb_std]"
   ]
  },
  {
   "cell_type": "code",
   "execution_count": 91,
   "id": "f96d8e99",
   "metadata": {
    "execution": {
     "iopub.execute_input": "2022-12-11T14:05:25.345925Z",
     "iopub.status.busy": "2022-12-11T14:05:25.344602Z",
     "iopub.status.idle": "2022-12-11T14:05:25.349721Z",
     "shell.execute_reply": "2022-12-11T14:05:25.348679Z"
    },
    "papermill": {
     "duration": 0.045589,
     "end_time": "2022-12-11T14:05:25.352254",
     "exception": false,
     "start_time": "2022-12-11T14:05:25.306665",
     "status": "completed"
    },
    "tags": []
   },
   "outputs": [],
   "source": [
    "# nb_score"
   ]
  },
  {
   "cell_type": "markdown",
   "id": "c03d207d",
   "metadata": {
    "papermill": {
     "duration": 0.035856,
     "end_time": "2022-12-11T14:05:25.424223",
     "exception": false,
     "start_time": "2022-12-11T14:05:25.388367",
     "status": "completed"
    },
    "tags": []
   },
   "source": [
    "## **Random Forest**"
   ]
  },
  {
   "cell_type": "code",
   "execution_count": 92,
   "id": "660a6a6a",
   "metadata": {
    "execution": {
     "iopub.execute_input": "2022-12-11T14:05:25.498983Z",
     "iopub.status.busy": "2022-12-11T14:05:25.498397Z",
     "iopub.status.idle": "2022-12-11T14:05:25.502527Z",
     "shell.execute_reply": "2022-12-11T14:05:25.501478Z"
    },
    "papermill": {
     "duration": 0.044343,
     "end_time": "2022-12-11T14:05:25.505032",
     "exception": false,
     "start_time": "2022-12-11T14:05:25.460689",
     "status": "completed"
    },
    "tags": []
   },
   "outputs": [],
   "source": [
    "# from sklearn.ensemble import RandomForestClassifier\n",
    "# rf_classifier = RandomForestClassifier(n_estimators=10, criterion='entropy', random_state=0)\n",
    "# rf_accuracies = cross_val_score(rf_classifier, X, y, cv = 10, scoring = 'accuracy')\n",
    "# rf_score = rf_accuracies.mean()\n",
    "# rf_std = rf_accuracies.std()\n",
    "# models_accuracy_scores[\"Random forest\"] = [rf_score, rf_std]\n",
    "# rf_score"
   ]
  },
  {
   "cell_type": "code",
   "execution_count": 93,
   "id": "bea9c7f1",
   "metadata": {
    "execution": {
     "iopub.execute_input": "2022-12-11T14:05:25.578945Z",
     "iopub.status.busy": "2022-12-11T14:05:25.578569Z",
     "iopub.status.idle": "2022-12-11T14:05:25.582443Z",
     "shell.execute_reply": "2022-12-11T14:05:25.581511Z"
    },
    "papermill": {
     "duration": 0.044017,
     "end_time": "2022-12-11T14:05:25.585302",
     "exception": false,
     "start_time": "2022-12-11T14:05:25.541285",
     "status": "completed"
    },
    "tags": []
   },
   "outputs": [],
   "source": [
    "# models_accuracy_scores"
   ]
  },
  {
   "cell_type": "code",
   "execution_count": 94,
   "id": "913e817f",
   "metadata": {
    "execution": {
     "iopub.execute_input": "2022-12-11T14:05:25.659120Z",
     "iopub.status.busy": "2022-12-11T14:05:25.658736Z",
     "iopub.status.idle": "2022-12-11T14:05:25.662492Z",
     "shell.execute_reply": "2022-12-11T14:05:25.661823Z"
    },
    "papermill": {
     "duration": 0.043896,
     "end_time": "2022-12-11T14:05:25.665003",
     "exception": false,
     "start_time": "2022-12-11T14:05:25.621107",
     "status": "completed"
    },
    "tags": []
   },
   "outputs": [],
   "source": [
    "# from sklearn.ensemble import RandomForestClassifier\n",
    "\n",
    "# y = train_data[\"Survived\"]\n",
    "\n",
    "# features = [\"Pclass\", \"Sex\", \"SibSp\", \"Parch\"]\n",
    "# X = pd.get_dummies(train_data[features])\n",
    "# X_test = pd.get_dummies(test_data[features])\n",
    "\n",
    "# model = RandomForestClassifier(n_estimators=100, max_depth=5, random_state=1)\n",
    "# model.fit(X, y)\n",
    "# predictions = model.predict(X_test)\n",
    "\n",
    "# output = pd.DataFrame({'PassengerId': test_data.PassengerId, 'Survived': predictions})\n",
    "# output.to_csv('submission.csv', index=False)\n",
    "# print(\"Your submission was successfully saved!\")"
   ]
  },
  {
   "cell_type": "code",
   "execution_count": 95,
   "id": "ccca051c",
   "metadata": {
    "execution": {
     "iopub.execute_input": "2022-12-11T14:05:25.741087Z",
     "iopub.status.busy": "2022-12-11T14:05:25.738818Z",
     "iopub.status.idle": "2022-12-11T14:05:25.745364Z",
     "shell.execute_reply": "2022-12-11T14:05:25.744365Z"
    },
    "papermill": {
     "duration": 0.046593,
     "end_time": "2022-12-11T14:05:25.747841",
     "exception": false,
     "start_time": "2022-12-11T14:05:25.701248",
     "status": "completed"
    },
    "tags": []
   },
   "outputs": [],
   "source": [
    "# output.head()"
   ]
  }
 ],
 "metadata": {
  "kernelspec": {
   "display_name": "Python 3",
   "language": "python",
   "name": "python3"
  },
  "language_info": {
   "codemirror_mode": {
    "name": "ipython",
    "version": 3
   },
   "file_extension": ".py",
   "mimetype": "text/x-python",
   "name": "python",
   "nbconvert_exporter": "python",
   "pygments_lexer": "ipython3",
   "version": "3.7.12"
  },
  "papermill": {
   "default_parameters": {},
   "duration": 1234.766629,
   "end_time": "2022-12-11T14:05:28.407457",
   "environment_variables": {},
   "exception": null,
   "input_path": "__notebook__.ipynb",
   "output_path": "__notebook__.ipynb",
   "parameters": {},
   "start_time": "2022-12-11T13:44:53.640828",
   "version": "2.3.4"
  }
 },
 "nbformat": 4,
 "nbformat_minor": 5
}
