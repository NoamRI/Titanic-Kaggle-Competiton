{
 "cells": [
  {
   "cell_type": "code",
   "execution_count": 1,
   "id": "1d5639d6",
   "metadata": {
    "_cell_guid": "b1076dfc-b9ad-4769-8c92-a6c4dae69d19",
    "_uuid": "8f2839f25d086af736a60e9eeb907d3b93b6e0e5",
    "execution": {
     "iopub.execute_input": "2022-12-06T10:58:58.127507Z",
     "iopub.status.busy": "2022-12-06T10:58:58.126721Z",
     "iopub.status.idle": "2022-12-06T10:58:58.141663Z",
     "shell.execute_reply": "2022-12-06T10:58:58.140307Z"
    },
    "papermill": {
     "duration": 0.052176,
     "end_time": "2022-12-06T10:58:58.145238",
     "exception": false,
     "start_time": "2022-12-06T10:58:58.093062",
     "status": "completed"
    },
    "tags": []
   },
   "outputs": [
    {
     "name": "stdout",
     "output_type": "stream",
     "text": [
      "/kaggle/input/titanic/train.csv\n",
      "/kaggle/input/titanic/test.csv\n",
      "/kaggle/input/titanic/gender_submission.csv\n"
     ]
    }
   ],
   "source": [
    "# This Python 3 environment comes with many helpful analytics libraries installed\n",
    "# It is defined by the kaggle/python Docker image: https://github.com/kaggle/docker-python\n",
    "# For example, here's several helpful packages to load\n",
    "\n",
    "import numpy as np # linear algebra\n",
    "import pandas as pd # data processing, CSV file I/O (e.g. pd.read_csv)\n",
    "\n",
    "# Input data files are available in the read-only \"../input/\" directory\n",
    "# For example, running this (by clicking run or pressing Shift+Enter) will list all files under the input directory\n",
    "\n",
    "import os\n",
    "for dirname, _, filenames in os.walk('/kaggle/input'):\n",
    "    for filename in filenames:\n",
    "        print(os.path.join(dirname, filename))\n",
    "\n",
    "# You can write up to 20GB to the current directory (/kaggle/working/) that gets preserved as output when you create a version using \"Save & Run All\" \n",
    "# You can also write temporary files to /kaggle/temp/, but they won't be saved outside of the current session"
   ]
  },
  {
   "cell_type": "markdown",
   "id": "b57b89f3",
   "metadata": {
    "papermill": {
     "duration": 0.029696,
     "end_time": "2022-12-06T10:58:58.205418",
     "exception": false,
     "start_time": "2022-12-06T10:58:58.175722",
     "status": "completed"
    },
    "tags": []
   },
   "source": [
    "On April 15, 1912, during her maiden voyage, the widely considered “unsinkable” RMS Titanic sank after colliding with an iceberg. Unfortunately, there weren’t enough lifeboats for everyone onboard, resulting in the death of 1502 out of 2224 passengers and crew.\n",
    "\n",
    "While there was some element of luck involved in surviving, it seems some groups of people were more likely to survive than others.\n",
    "\n",
    "In this notebook I would like the answer the question-\n",
    "“what sorts of people were more likely to survive?”\n",
    "using some classification models that predicts which passengers survived the Titanic shipwreck."
   ]
  },
  {
   "cell_type": "code",
   "execution_count": 2,
   "id": "9109945c",
   "metadata": {
    "execution": {
     "iopub.execute_input": "2022-12-06T10:58:58.266708Z",
     "iopub.status.busy": "2022-12-06T10:58:58.265236Z",
     "iopub.status.idle": "2022-12-06T10:58:59.594345Z",
     "shell.execute_reply": "2022-12-06T10:58:59.593165Z"
    },
    "papermill": {
     "duration": 1.36229,
     "end_time": "2022-12-06T10:58:59.597044",
     "exception": false,
     "start_time": "2022-12-06T10:58:58.234754",
     "status": "completed"
    },
    "tags": []
   },
   "outputs": [],
   "source": [
    "import matplotlib.pyplot as plt\n",
    "import seaborn as sns\n",
    "from sklearn.preprocessing import OneHotEncoder, LabelEncoder"
   ]
  },
  {
   "cell_type": "code",
   "execution_count": null,
   "id": "29768a94",
   "metadata": {
    "execution": {
     "iopub.execute_input": "2022-12-05T12:55:35.326808Z",
     "iopub.status.busy": "2022-12-05T12:55:35.325209Z",
     "iopub.status.idle": "2022-12-05T12:55:35.406203Z",
     "shell.execute_reply": "2022-12-05T12:55:35.404888Z",
     "shell.execute_reply.started": "2022-12-05T12:55:35.326742Z"
    },
    "papermill": {
     "duration": 0.028863,
     "end_time": "2022-12-06T10:58:59.655267",
     "exception": false,
     "start_time": "2022-12-06T10:58:59.626404",
     "status": "completed"
    },
    "tags": []
   },
   "outputs": [],
   "source": []
  },
  {
   "cell_type": "markdown",
   "id": "967333ff",
   "metadata": {
    "papermill": {
     "duration": 0.028912,
     "end_time": "2022-12-06T10:58:59.714937",
     "exception": false,
     "start_time": "2022-12-06T10:58:59.686025",
     "status": "completed"
    },
    "tags": []
   },
   "source": [
    "# **Importing the datasets**"
   ]
  },
  {
   "cell_type": "markdown",
   "id": "46e310ef",
   "metadata": {
    "papermill": {
     "duration": 0.031316,
     "end_time": "2022-12-06T10:58:59.775525",
     "exception": false,
     "start_time": "2022-12-06T10:58:59.744209",
     "status": "completed"
    },
    "tags": []
   },
   "source": [
    "## **Train data**"
   ]
  },
  {
   "cell_type": "code",
   "execution_count": 3,
   "id": "5aa66ebc",
   "metadata": {
    "execution": {
     "iopub.execute_input": "2022-12-06T10:58:59.836241Z",
     "iopub.status.busy": "2022-12-06T10:58:59.835757Z",
     "iopub.status.idle": "2022-12-06T10:58:59.877530Z",
     "shell.execute_reply": "2022-12-06T10:58:59.876392Z"
    },
    "papermill": {
     "duration": 0.075432,
     "end_time": "2022-12-06T10:58:59.880224",
     "exception": false,
     "start_time": "2022-12-06T10:58:59.804792",
     "status": "completed"
    },
    "tags": []
   },
   "outputs": [
    {
     "data": {
      "text/html": [
       "<div>\n",
       "<style scoped>\n",
       "    .dataframe tbody tr th:only-of-type {\n",
       "        vertical-align: middle;\n",
       "    }\n",
       "\n",
       "    .dataframe tbody tr th {\n",
       "        vertical-align: top;\n",
       "    }\n",
       "\n",
       "    .dataframe thead th {\n",
       "        text-align: right;\n",
       "    }\n",
       "</style>\n",
       "<table border=\"1\" class=\"dataframe\">\n",
       "  <thead>\n",
       "    <tr style=\"text-align: right;\">\n",
       "      <th></th>\n",
       "      <th>PassengerId</th>\n",
       "      <th>Survived</th>\n",
       "      <th>Pclass</th>\n",
       "      <th>Name</th>\n",
       "      <th>Sex</th>\n",
       "      <th>Age</th>\n",
       "      <th>SibSp</th>\n",
       "      <th>Parch</th>\n",
       "      <th>Ticket</th>\n",
       "      <th>Fare</th>\n",
       "      <th>Cabin</th>\n",
       "      <th>Embarked</th>\n",
       "    </tr>\n",
       "  </thead>\n",
       "  <tbody>\n",
       "    <tr>\n",
       "      <th>0</th>\n",
       "      <td>1</td>\n",
       "      <td>0</td>\n",
       "      <td>3</td>\n",
       "      <td>Braund, Mr. Owen Harris</td>\n",
       "      <td>male</td>\n",
       "      <td>22.0</td>\n",
       "      <td>1</td>\n",
       "      <td>0</td>\n",
       "      <td>A/5 21171</td>\n",
       "      <td>7.2500</td>\n",
       "      <td>NaN</td>\n",
       "      <td>S</td>\n",
       "    </tr>\n",
       "    <tr>\n",
       "      <th>1</th>\n",
       "      <td>2</td>\n",
       "      <td>1</td>\n",
       "      <td>1</td>\n",
       "      <td>Cumings, Mrs. John Bradley (Florence Briggs Th...</td>\n",
       "      <td>female</td>\n",
       "      <td>38.0</td>\n",
       "      <td>1</td>\n",
       "      <td>0</td>\n",
       "      <td>PC 17599</td>\n",
       "      <td>71.2833</td>\n",
       "      <td>C85</td>\n",
       "      <td>C</td>\n",
       "    </tr>\n",
       "    <tr>\n",
       "      <th>2</th>\n",
       "      <td>3</td>\n",
       "      <td>1</td>\n",
       "      <td>3</td>\n",
       "      <td>Heikkinen, Miss. Laina</td>\n",
       "      <td>female</td>\n",
       "      <td>26.0</td>\n",
       "      <td>0</td>\n",
       "      <td>0</td>\n",
       "      <td>STON/O2. 3101282</td>\n",
       "      <td>7.9250</td>\n",
       "      <td>NaN</td>\n",
       "      <td>S</td>\n",
       "    </tr>\n",
       "    <tr>\n",
       "      <th>3</th>\n",
       "      <td>4</td>\n",
       "      <td>1</td>\n",
       "      <td>1</td>\n",
       "      <td>Futrelle, Mrs. Jacques Heath (Lily May Peel)</td>\n",
       "      <td>female</td>\n",
       "      <td>35.0</td>\n",
       "      <td>1</td>\n",
       "      <td>0</td>\n",
       "      <td>113803</td>\n",
       "      <td>53.1000</td>\n",
       "      <td>C123</td>\n",
       "      <td>S</td>\n",
       "    </tr>\n",
       "    <tr>\n",
       "      <th>4</th>\n",
       "      <td>5</td>\n",
       "      <td>0</td>\n",
       "      <td>3</td>\n",
       "      <td>Allen, Mr. William Henry</td>\n",
       "      <td>male</td>\n",
       "      <td>35.0</td>\n",
       "      <td>0</td>\n",
       "      <td>0</td>\n",
       "      <td>373450</td>\n",
       "      <td>8.0500</td>\n",
       "      <td>NaN</td>\n",
       "      <td>S</td>\n",
       "    </tr>\n",
       "  </tbody>\n",
       "</table>\n",
       "</div>"
      ],
      "text/plain": [
       "   PassengerId  Survived  Pclass  \\\n",
       "0            1         0       3   \n",
       "1            2         1       1   \n",
       "2            3         1       3   \n",
       "3            4         1       1   \n",
       "4            5         0       3   \n",
       "\n",
       "                                                Name     Sex   Age  SibSp  \\\n",
       "0                            Braund, Mr. Owen Harris    male  22.0      1   \n",
       "1  Cumings, Mrs. John Bradley (Florence Briggs Th...  female  38.0      1   \n",
       "2                             Heikkinen, Miss. Laina  female  26.0      0   \n",
       "3       Futrelle, Mrs. Jacques Heath (Lily May Peel)  female  35.0      1   \n",
       "4                           Allen, Mr. William Henry    male  35.0      0   \n",
       "\n",
       "   Parch            Ticket     Fare Cabin Embarked  \n",
       "0      0         A/5 21171   7.2500   NaN        S  \n",
       "1      0          PC 17599  71.2833   C85        C  \n",
       "2      0  STON/O2. 3101282   7.9250   NaN        S  \n",
       "3      0            113803  53.1000  C123        S  \n",
       "4      0            373450   8.0500   NaN        S  "
      ]
     },
     "execution_count": 3,
     "metadata": {},
     "output_type": "execute_result"
    }
   ],
   "source": [
    "train_data = pd.read_csv('/kaggle/input/titanic/train.csv')\n",
    "train_data.head()"
   ]
  },
  {
   "cell_type": "markdown",
   "id": "09e21cea",
   "metadata": {
    "papermill": {
     "duration": 0.029362,
     "end_time": "2022-12-06T10:58:59.939067",
     "exception": false,
     "start_time": "2022-12-06T10:58:59.909705",
     "status": "completed"
    },
    "tags": []
   },
   "source": [
    "The train data contain information about 891 passengers (rows) and 12 columns."
   ]
  },
  {
   "cell_type": "code",
   "execution_count": 4,
   "id": "b5e6539b",
   "metadata": {
    "execution": {
     "iopub.execute_input": "2022-12-06T10:59:00.002026Z",
     "iopub.status.busy": "2022-12-06T10:59:00.000905Z",
     "iopub.status.idle": "2022-12-06T10:59:00.008828Z",
     "shell.execute_reply": "2022-12-06T10:59:00.007592Z"
    },
    "papermill": {
     "duration": 0.043406,
     "end_time": "2022-12-06T10:59:00.011866",
     "exception": false,
     "start_time": "2022-12-06T10:58:59.968460",
     "status": "completed"
    },
    "tags": []
   },
   "outputs": [
    {
     "data": {
      "text/plain": [
       "(891, 12)"
      ]
     },
     "execution_count": 4,
     "metadata": {},
     "output_type": "execute_result"
    }
   ],
   "source": [
    "train_data.shape"
   ]
  },
  {
   "cell_type": "markdown",
   "id": "f0e087d5",
   "metadata": {
    "papermill": {
     "duration": 0.030059,
     "end_time": "2022-12-06T10:59:00.071900",
     "exception": false,
     "start_time": "2022-12-06T10:59:00.041841",
     "status": "completed"
    },
    "tags": []
   },
   "source": [
    "## **Test data**"
   ]
  },
  {
   "cell_type": "code",
   "execution_count": 5,
   "id": "f6f241cc",
   "metadata": {
    "execution": {
     "iopub.execute_input": "2022-12-06T10:59:00.135370Z",
     "iopub.status.busy": "2022-12-06T10:59:00.134928Z",
     "iopub.status.idle": "2022-12-06T10:59:00.159369Z",
     "shell.execute_reply": "2022-12-06T10:59:00.158190Z"
    },
    "papermill": {
     "duration": 0.058088,
     "end_time": "2022-12-06T10:59:00.162002",
     "exception": false,
     "start_time": "2022-12-06T10:59:00.103914",
     "status": "completed"
    },
    "tags": []
   },
   "outputs": [
    {
     "data": {
      "text/html": [
       "<div>\n",
       "<style scoped>\n",
       "    .dataframe tbody tr th:only-of-type {\n",
       "        vertical-align: middle;\n",
       "    }\n",
       "\n",
       "    .dataframe tbody tr th {\n",
       "        vertical-align: top;\n",
       "    }\n",
       "\n",
       "    .dataframe thead th {\n",
       "        text-align: right;\n",
       "    }\n",
       "</style>\n",
       "<table border=\"1\" class=\"dataframe\">\n",
       "  <thead>\n",
       "    <tr style=\"text-align: right;\">\n",
       "      <th></th>\n",
       "      <th>PassengerId</th>\n",
       "      <th>Pclass</th>\n",
       "      <th>Name</th>\n",
       "      <th>Sex</th>\n",
       "      <th>Age</th>\n",
       "      <th>SibSp</th>\n",
       "      <th>Parch</th>\n",
       "      <th>Ticket</th>\n",
       "      <th>Fare</th>\n",
       "      <th>Cabin</th>\n",
       "      <th>Embarked</th>\n",
       "    </tr>\n",
       "  </thead>\n",
       "  <tbody>\n",
       "    <tr>\n",
       "      <th>0</th>\n",
       "      <td>892</td>\n",
       "      <td>3</td>\n",
       "      <td>Kelly, Mr. James</td>\n",
       "      <td>male</td>\n",
       "      <td>34.5</td>\n",
       "      <td>0</td>\n",
       "      <td>0</td>\n",
       "      <td>330911</td>\n",
       "      <td>7.8292</td>\n",
       "      <td>NaN</td>\n",
       "      <td>Q</td>\n",
       "    </tr>\n",
       "    <tr>\n",
       "      <th>1</th>\n",
       "      <td>893</td>\n",
       "      <td>3</td>\n",
       "      <td>Wilkes, Mrs. James (Ellen Needs)</td>\n",
       "      <td>female</td>\n",
       "      <td>47.0</td>\n",
       "      <td>1</td>\n",
       "      <td>0</td>\n",
       "      <td>363272</td>\n",
       "      <td>7.0000</td>\n",
       "      <td>NaN</td>\n",
       "      <td>S</td>\n",
       "    </tr>\n",
       "    <tr>\n",
       "      <th>2</th>\n",
       "      <td>894</td>\n",
       "      <td>2</td>\n",
       "      <td>Myles, Mr. Thomas Francis</td>\n",
       "      <td>male</td>\n",
       "      <td>62.0</td>\n",
       "      <td>0</td>\n",
       "      <td>0</td>\n",
       "      <td>240276</td>\n",
       "      <td>9.6875</td>\n",
       "      <td>NaN</td>\n",
       "      <td>Q</td>\n",
       "    </tr>\n",
       "    <tr>\n",
       "      <th>3</th>\n",
       "      <td>895</td>\n",
       "      <td>3</td>\n",
       "      <td>Wirz, Mr. Albert</td>\n",
       "      <td>male</td>\n",
       "      <td>27.0</td>\n",
       "      <td>0</td>\n",
       "      <td>0</td>\n",
       "      <td>315154</td>\n",
       "      <td>8.6625</td>\n",
       "      <td>NaN</td>\n",
       "      <td>S</td>\n",
       "    </tr>\n",
       "    <tr>\n",
       "      <th>4</th>\n",
       "      <td>896</td>\n",
       "      <td>3</td>\n",
       "      <td>Hirvonen, Mrs. Alexander (Helga E Lindqvist)</td>\n",
       "      <td>female</td>\n",
       "      <td>22.0</td>\n",
       "      <td>1</td>\n",
       "      <td>1</td>\n",
       "      <td>3101298</td>\n",
       "      <td>12.2875</td>\n",
       "      <td>NaN</td>\n",
       "      <td>S</td>\n",
       "    </tr>\n",
       "  </tbody>\n",
       "</table>\n",
       "</div>"
      ],
      "text/plain": [
       "   PassengerId  Pclass                                          Name     Sex  \\\n",
       "0          892       3                              Kelly, Mr. James    male   \n",
       "1          893       3              Wilkes, Mrs. James (Ellen Needs)  female   \n",
       "2          894       2                     Myles, Mr. Thomas Francis    male   \n",
       "3          895       3                              Wirz, Mr. Albert    male   \n",
       "4          896       3  Hirvonen, Mrs. Alexander (Helga E Lindqvist)  female   \n",
       "\n",
       "    Age  SibSp  Parch   Ticket     Fare Cabin Embarked  \n",
       "0  34.5      0      0   330911   7.8292   NaN        Q  \n",
       "1  47.0      1      0   363272   7.0000   NaN        S  \n",
       "2  62.0      0      0   240276   9.6875   NaN        Q  \n",
       "3  27.0      0      0   315154   8.6625   NaN        S  \n",
       "4  22.0      1      1  3101298  12.2875   NaN        S  "
      ]
     },
     "execution_count": 5,
     "metadata": {},
     "output_type": "execute_result"
    }
   ],
   "source": [
    "test_data = pd.read_csv('/kaggle/input/titanic/test.csv')\n",
    "test_data.head()"
   ]
  },
  {
   "cell_type": "markdown",
   "id": "f3ebe87b",
   "metadata": {
    "papermill": {
     "duration": 0.029722,
     "end_time": "2022-12-06T10:59:00.222645",
     "exception": false,
     "start_time": "2022-12-06T10:59:00.192923",
     "status": "completed"
    },
    "tags": []
   },
   "source": [
    "The test data contain information about 418 passengers (rows) and 11 columns."
   ]
  },
  {
   "cell_type": "code",
   "execution_count": 6,
   "id": "5cbb1310",
   "metadata": {
    "execution": {
     "iopub.execute_input": "2022-12-06T10:59:00.284111Z",
     "iopub.status.busy": "2022-12-06T10:59:00.283690Z",
     "iopub.status.idle": "2022-12-06T10:59:00.291717Z",
     "shell.execute_reply": "2022-12-06T10:59:00.290522Z"
    },
    "papermill": {
     "duration": 0.041295,
     "end_time": "2022-12-06T10:59:00.294098",
     "exception": false,
     "start_time": "2022-12-06T10:59:00.252803",
     "status": "completed"
    },
    "tags": []
   },
   "outputs": [
    {
     "data": {
      "text/plain": [
       "(418, 11)"
      ]
     },
     "execution_count": 6,
     "metadata": {},
     "output_type": "execute_result"
    }
   ],
   "source": [
    "test_data.shape"
   ]
  },
  {
   "cell_type": "markdown",
   "id": "c0bfe942",
   "metadata": {
    "papermill": {
     "duration": 0.030123,
     "end_time": "2022-12-06T10:59:00.355032",
     "exception": false,
     "start_time": "2022-12-06T10:59:00.324909",
     "status": "completed"
    },
    "tags": []
   },
   "source": [
    "# **Features Engineering & Data Analysis**"
   ]
  },
  {
   "cell_type": "markdown",
   "id": "1ace9aa5",
   "metadata": {
    "papermill": {
     "duration": 0.03079,
     "end_time": "2022-12-06T10:59:00.415992",
     "exception": false,
     "start_time": "2022-12-06T10:59:00.385202",
     "status": "completed"
    },
    "tags": []
   },
   "source": [
    "#### For Features Engineering let's combine the train set and the test set."
   ]
  },
  {
   "cell_type": "code",
   "execution_count": 7,
   "id": "e37fa29e",
   "metadata": {
    "execution": {
     "iopub.execute_input": "2022-12-06T10:59:00.478933Z",
     "iopub.status.busy": "2022-12-06T10:59:00.478506Z",
     "iopub.status.idle": "2022-12-06T10:59:00.492656Z",
     "shell.execute_reply": "2022-12-06T10:59:00.491659Z"
    },
    "papermill": {
     "duration": 0.048196,
     "end_time": "2022-12-06T10:59:00.495006",
     "exception": false,
     "start_time": "2022-12-06T10:59:00.446810",
     "status": "completed"
    },
    "tags": []
   },
   "outputs": [],
   "source": [
    "all_data = train_data.append(test_data)"
   ]
  },
  {
   "cell_type": "code",
   "execution_count": 8,
   "id": "564b772b",
   "metadata": {
    "execution": {
     "iopub.execute_input": "2022-12-06T10:59:00.558869Z",
     "iopub.status.busy": "2022-12-06T10:59:00.558128Z",
     "iopub.status.idle": "2022-12-06T10:59:00.564294Z",
     "shell.execute_reply": "2022-12-06T10:59:00.563159Z"
    },
    "papermill": {
     "duration": 0.041277,
     "end_time": "2022-12-06T10:59:00.566487",
     "exception": false,
     "start_time": "2022-12-06T10:59:00.525210",
     "status": "completed"
    },
    "tags": []
   },
   "outputs": [
    {
     "data": {
      "text/plain": [
       "(1309, 12)"
      ]
     },
     "execution_count": 8,
     "metadata": {},
     "output_type": "execute_result"
    }
   ],
   "source": [
    "all_data.shape"
   ]
  },
  {
   "cell_type": "markdown",
   "id": "b9dd5e95",
   "metadata": {
    "papermill": {
     "duration": 0.029877,
     "end_time": "2022-12-06T10:59:00.626479",
     "exception": false,
     "start_time": "2022-12-06T10:59:00.596602",
     "status": "completed"
    },
    "tags": []
   },
   "source": [
    "#### **The type of each column in the data frame:**"
   ]
  },
  {
   "cell_type": "code",
   "execution_count": 9,
   "id": "b6411c3f",
   "metadata": {
    "execution": {
     "iopub.execute_input": "2022-12-06T10:59:00.689249Z",
     "iopub.status.busy": "2022-12-06T10:59:00.688556Z",
     "iopub.status.idle": "2022-12-06T10:59:00.696777Z",
     "shell.execute_reply": "2022-12-06T10:59:00.695584Z"
    },
    "papermill": {
     "duration": 0.042401,
     "end_time": "2022-12-06T10:59:00.699090",
     "exception": false,
     "start_time": "2022-12-06T10:59:00.656689",
     "status": "completed"
    },
    "tags": []
   },
   "outputs": [
    {
     "data": {
      "text/plain": [
       "PassengerId      int64\n",
       "Survived       float64\n",
       "Pclass           int64\n",
       "Name            object\n",
       "Sex             object\n",
       "Age            float64\n",
       "SibSp            int64\n",
       "Parch            int64\n",
       "Ticket          object\n",
       "Fare           float64\n",
       "Cabin           object\n",
       "Embarked        object\n",
       "dtype: object"
      ]
     },
     "execution_count": 9,
     "metadata": {},
     "output_type": "execute_result"
    }
   ],
   "source": [
    "all_data.dtypes"
   ]
  },
  {
   "cell_type": "markdown",
   "id": "db4b62a4",
   "metadata": {
    "papermill": {
     "duration": 0.029715,
     "end_time": "2022-12-06T10:59:00.759081",
     "exception": false,
     "start_time": "2022-12-06T10:59:00.729366",
     "status": "completed"
    },
    "tags": []
   },
   "source": [
    "* #### **Checking whether there are missing data**"
   ]
  },
  {
   "cell_type": "code",
   "execution_count": 10,
   "id": "bc9721d5",
   "metadata": {
    "execution": {
     "iopub.execute_input": "2022-12-06T10:59:00.822161Z",
     "iopub.status.busy": "2022-12-06T10:59:00.820917Z",
     "iopub.status.idle": "2022-12-06T10:59:00.831613Z",
     "shell.execute_reply": "2022-12-06T10:59:00.830540Z"
    },
    "papermill": {
     "duration": 0.044624,
     "end_time": "2022-12-06T10:59:00.833885",
     "exception": false,
     "start_time": "2022-12-06T10:59:00.789261",
     "status": "completed"
    },
    "tags": []
   },
   "outputs": [
    {
     "data": {
      "text/plain": [
       "['Survived', 'Age', 'Fare', 'Cabin', 'Embarked']"
      ]
     },
     "execution_count": 10,
     "metadata": {},
     "output_type": "execute_result"
    }
   ],
   "source": [
    "all_data.columns[all_data.isna().any()].tolist()"
   ]
  },
  {
   "cell_type": "markdown",
   "id": "f313d2c9",
   "metadata": {
    "papermill": {
     "duration": 0.030755,
     "end_time": "2022-12-06T10:59:00.895750",
     "exception": false,
     "start_time": "2022-12-06T10:59:00.864995",
     "status": "completed"
    },
    "tags": []
   },
   "source": [
    "It's obvious why there are missing values in the Survived column...\n",
    "\n",
    "I can't see how the information about the Cabin can help, so I won't fill up the empty cells.\n",
    "\n",
    "For the rest columns with missing values, let's do some manipulations to fill up the empty cells."
   ]
  },
  {
   "cell_type": "markdown",
   "id": "39346e0d",
   "metadata": {
    "papermill": {
     "duration": 0.030133,
     "end_time": "2022-12-06T10:59:00.956110",
     "exception": false,
     "start_time": "2022-12-06T10:59:00.925977",
     "status": "completed"
    },
    "tags": []
   },
   "source": [
    "* #### **Age**\n",
    "To imputing the age more precisely, let's define a new temp column- 'Title' (the title of each passenger). "
   ]
  },
  {
   "cell_type": "code",
   "execution_count": 11,
   "id": "ec54e04b",
   "metadata": {
    "execution": {
     "iopub.execute_input": "2022-12-06T10:59:01.020595Z",
     "iopub.status.busy": "2022-12-06T10:59:01.019248Z",
     "iopub.status.idle": "2022-12-06T10:59:05.960466Z",
     "shell.execute_reply": "2022-12-06T10:59:05.959127Z"
    },
    "papermill": {
     "duration": 4.976461,
     "end_time": "2022-12-06T10:59:05.963113",
     "exception": false,
     "start_time": "2022-12-06T10:59:00.986652",
     "status": "completed"
    },
    "tags": []
   },
   "outputs": [
    {
     "data": {
      "text/plain": [
       "array(['Mr', 'Mrs', 'Miss', 'Master', 'Don', 'Rev', 'Dr', 'Mme', 'Ms',\n",
       "       'Major', 'Lady', 'Sir', 'Mlle', 'Col', 'Capt', 'Countess',\n",
       "       'Jonkheer', 'Dona'], dtype=object)"
      ]
     },
     "execution_count": 11,
     "metadata": {},
     "output_type": "execute_result"
    }
   ],
   "source": [
    "all_data['Title'] = all_data['Name']\n",
    "\n",
    "# Cleaning name and extracting Title\n",
    "for name_string in all_data['Name']:\n",
    "    all_data['Title'] = all_data['Name'].str.extract('([A-Za-z]+)\\.', expand=True)\n",
    "\n",
    "all_data.Title.unique()"
   ]
  },
  {
   "cell_type": "code",
   "execution_count": 12,
   "id": "b89280b2",
   "metadata": {
    "execution": {
     "iopub.execute_input": "2022-12-06T10:59:06.028153Z",
     "iopub.status.busy": "2022-12-06T10:59:06.027738Z",
     "iopub.status.idle": "2022-12-06T10:59:06.056222Z",
     "shell.execute_reply": "2022-12-06T10:59:06.055017Z"
    },
    "papermill": {
     "duration": 0.064959,
     "end_time": "2022-12-06T10:59:06.059150",
     "exception": false,
     "start_time": "2022-12-06T10:59:05.994191",
     "status": "completed"
    },
    "tags": []
   },
   "outputs": [],
   "source": [
    "# Replacing rare titles with more common ones\n",
    "mapping = {'Mlle': 'Miss', 'Major': 'Mr', 'Col': 'Mr', 'Sir': 'Mr', 'Don': 'Mr', 'Mme': 'Miss',\n",
    "          'Jonkheer': 'Mr', 'Lady': 'Mrs', 'Capt': 'Mr', 'Countess': 'Mrs', 'Ms': 'Miss', 'Dona': 'Mrs'}\n",
    "\n",
    "all_data.replace({'Title': mapping}, inplace=True)\n",
    "titles = ['Dr', 'Master', 'Miss', 'Mr', 'Mrs', 'Rev']\n",
    "\n",
    "for title in titles:\n",
    "    age_to_impute = all_data.groupby('Title')['Age'].median()[titles.index(title)]\n",
    "    all_data.loc[(all_data['Age'].isnull()) & (all_data['Title'] == title), 'Age'] = age_to_impute\n",
    "    \n",
    "# Substituting Age values in TRAIN_DF and TEST_DF:\n",
    "train_data['Age'] = all_data['Age'][:891]\n",
    "test_data['Age'] = all_data['Age'][891:]\n",
    "\n",
    "# Dropping Title feature\n",
    "all_data.drop('Title', axis = 1, inplace = True)"
   ]
  },
  {
   "cell_type": "markdown",
   "id": "2897e206",
   "metadata": {
    "papermill": {
     "duration": 0.031549,
     "end_time": "2022-12-06T10:59:06.122939",
     "exception": false,
     "start_time": "2022-12-06T10:59:06.091390",
     "status": "completed"
    },
    "tags": []
   },
   "source": [
    "We will create a new column, AgeGroup, that will contain the age groups of the passengers according the following partition:\n",
    "- Infant: 0-3\n",
    "- Kid: 4-12\n",
    "- Teen: 13-19\n",
    "- Adult: 20-110\n",
    "\n",
    "After that, we will encode this column to a new one - AgeGroup_code."
   ]
  },
  {
   "cell_type": "code",
   "execution_count": 13,
   "id": "de4d33f3",
   "metadata": {
    "execution": {
     "iopub.execute_input": "2022-12-06T10:59:06.186790Z",
     "iopub.status.busy": "2022-12-06T10:59:06.186315Z",
     "iopub.status.idle": "2022-12-06T10:59:06.201679Z",
     "shell.execute_reply": "2022-12-06T10:59:06.200697Z"
    },
    "papermill": {
     "duration": 0.04992,
     "end_time": "2022-12-06T10:59:06.204072",
     "exception": false,
     "start_time": "2022-12-06T10:59:06.154152",
     "status": "completed"
    },
    "tags": []
   },
   "outputs": [],
   "source": [
    "bins= [0,4,13,20,110]\n",
    "labels = ['Infant','Kid','Teen','Adult']\n",
    "all_data['AgeGroup'] = pd.cut(train_data['Age'], bins=bins, labels=labels, right=False)\n",
    "\n",
    "label = LabelEncoder()\n",
    "\n",
    "all_data['AgeGroup_code'] = label.fit_transform(all_data['AgeGroup'])\n",
    "\n",
    "train_data['AgeGroup_code'] = all_data['AgeGroup_code'][:891]\n",
    "test_data['AgeGroup_code'] = all_data['AgeGroup_code'][891:]"
   ]
  },
  {
   "cell_type": "code",
   "execution_count": 14,
   "id": "f9278de8",
   "metadata": {
    "execution": {
     "iopub.execute_input": "2022-12-06T10:59:06.267590Z",
     "iopub.status.busy": "2022-12-06T10:59:06.266759Z",
     "iopub.status.idle": "2022-12-06T10:59:06.278054Z",
     "shell.execute_reply": "2022-12-06T10:59:06.276695Z"
    },
    "papermill": {
     "duration": 0.045989,
     "end_time": "2022-12-06T10:59:06.280753",
     "exception": false,
     "start_time": "2022-12-06T10:59:06.234764",
     "status": "completed"
    },
    "tags": []
   },
   "outputs": [
    {
     "data": {
      "text/plain": [
       "['Adult', 'Infant', 'Teen', 'Kid']\n",
       "Categories (4, object): ['Infant' < 'Kid' < 'Teen' < 'Adult']"
      ]
     },
     "execution_count": 14,
     "metadata": {},
     "output_type": "execute_result"
    }
   ],
   "source": [
    "all_data.AgeGroup.unique()"
   ]
  },
  {
   "cell_type": "code",
   "execution_count": 15,
   "id": "b390ffd8",
   "metadata": {
    "execution": {
     "iopub.execute_input": "2022-12-06T10:59:06.345364Z",
     "iopub.status.busy": "2022-12-06T10:59:06.344934Z",
     "iopub.status.idle": "2022-12-06T10:59:06.352376Z",
     "shell.execute_reply": "2022-12-06T10:59:06.351222Z"
    },
    "papermill": {
     "duration": 0.042634,
     "end_time": "2022-12-06T10:59:06.355022",
     "exception": false,
     "start_time": "2022-12-06T10:59:06.312388",
     "status": "completed"
    },
    "tags": []
   },
   "outputs": [
    {
     "data": {
      "text/plain": [
       "array([0, 1, 3, 2])"
      ]
     },
     "execution_count": 15,
     "metadata": {},
     "output_type": "execute_result"
    }
   ],
   "source": [
    "all_data.AgeGroup_code.unique()"
   ]
  },
  {
   "cell_type": "markdown",
   "id": "8010badf",
   "metadata": {
    "papermill": {
     "duration": 0.030942,
     "end_time": "2022-12-06T10:59:06.416581",
     "exception": false,
     "start_time": "2022-12-06T10:59:06.385639",
     "status": "completed"
    },
    "tags": []
   },
   "source": [
    "- 0 : Adult\n",
    "- 1 : Infant\n",
    "- 2 : Kid\n",
    "- 3 : Teen"
   ]
  },
  {
   "cell_type": "code",
   "execution_count": 16,
   "id": "3f7be83d",
   "metadata": {
    "execution": {
     "iopub.execute_input": "2022-12-06T10:59:06.481480Z",
     "iopub.status.busy": "2022-12-06T10:59:06.480986Z",
     "iopub.status.idle": "2022-12-06T10:59:06.494114Z",
     "shell.execute_reply": "2022-12-06T10:59:06.492724Z"
    },
    "papermill": {
     "duration": 0.048232,
     "end_time": "2022-12-06T10:59:06.496784",
     "exception": false,
     "start_time": "2022-12-06T10:59:06.448552",
     "status": "completed"
    },
    "tags": []
   },
   "outputs": [
    {
     "data": {
      "text/html": [
       "<div>\n",
       "<style scoped>\n",
       "    .dataframe tbody tr th:only-of-type {\n",
       "        vertical-align: middle;\n",
       "    }\n",
       "\n",
       "    .dataframe tbody tr th {\n",
       "        vertical-align: top;\n",
       "    }\n",
       "\n",
       "    .dataframe thead th {\n",
       "        text-align: right;\n",
       "    }\n",
       "</style>\n",
       "<table border=\"1\" class=\"dataframe\">\n",
       "  <thead>\n",
       "    <tr style=\"text-align: right;\">\n",
       "      <th></th>\n",
       "      <th>AgeGroup</th>\n",
       "      <th>AgeGroup_code</th>\n",
       "    </tr>\n",
       "  </thead>\n",
       "  <tbody>\n",
       "    <tr>\n",
       "      <th>0</th>\n",
       "      <td>Adult</td>\n",
       "      <td>0</td>\n",
       "    </tr>\n",
       "    <tr>\n",
       "      <th>1</th>\n",
       "      <td>Adult</td>\n",
       "      <td>0</td>\n",
       "    </tr>\n",
       "    <tr>\n",
       "      <th>2</th>\n",
       "      <td>Adult</td>\n",
       "      <td>0</td>\n",
       "    </tr>\n",
       "    <tr>\n",
       "      <th>3</th>\n",
       "      <td>Adult</td>\n",
       "      <td>0</td>\n",
       "    </tr>\n",
       "    <tr>\n",
       "      <th>4</th>\n",
       "      <td>Adult</td>\n",
       "      <td>0</td>\n",
       "    </tr>\n",
       "    <tr>\n",
       "      <th>5</th>\n",
       "      <td>Adult</td>\n",
       "      <td>0</td>\n",
       "    </tr>\n",
       "    <tr>\n",
       "      <th>6</th>\n",
       "      <td>Adult</td>\n",
       "      <td>0</td>\n",
       "    </tr>\n",
       "    <tr>\n",
       "      <th>7</th>\n",
       "      <td>Infant</td>\n",
       "      <td>1</td>\n",
       "    </tr>\n",
       "    <tr>\n",
       "      <th>8</th>\n",
       "      <td>Adult</td>\n",
       "      <td>0</td>\n",
       "    </tr>\n",
       "    <tr>\n",
       "      <th>9</th>\n",
       "      <td>Teen</td>\n",
       "      <td>3</td>\n",
       "    </tr>\n",
       "  </tbody>\n",
       "</table>\n",
       "</div>"
      ],
      "text/plain": [
       "  AgeGroup  AgeGroup_code\n",
       "0    Adult              0\n",
       "1    Adult              0\n",
       "2    Adult              0\n",
       "3    Adult              0\n",
       "4    Adult              0\n",
       "5    Adult              0\n",
       "6    Adult              0\n",
       "7   Infant              1\n",
       "8    Adult              0\n",
       "9     Teen              3"
      ]
     },
     "execution_count": 16,
     "metadata": {},
     "output_type": "execute_result"
    }
   ],
   "source": [
    "all_data[['AgeGroup', 'AgeGroup_code']].head(10)"
   ]
  },
  {
   "cell_type": "markdown",
   "id": "4f81e544",
   "metadata": {
    "papermill": {
     "duration": 0.031312,
     "end_time": "2022-12-06T10:59:06.559896",
     "exception": false,
     "start_time": "2022-12-06T10:59:06.528584",
     "status": "completed"
    },
    "tags": []
   },
   "source": [
    "* #### **Embarked**\n",
    "Let's fill up the missing values cells in the Embarked column with the most common value."
   ]
  },
  {
   "cell_type": "code",
   "execution_count": 17,
   "id": "04ea3317",
   "metadata": {
    "execution": {
     "iopub.execute_input": "2022-12-06T10:59:06.623841Z",
     "iopub.status.busy": "2022-12-06T10:59:06.623391Z",
     "iopub.status.idle": "2022-12-06T10:59:06.633092Z",
     "shell.execute_reply": "2022-12-06T10:59:06.631384Z"
    },
    "papermill": {
     "duration": 0.044725,
     "end_time": "2022-12-06T10:59:06.635470",
     "exception": false,
     "start_time": "2022-12-06T10:59:06.590745",
     "status": "completed"
    },
    "tags": []
   },
   "outputs": [
    {
     "name": "stdout",
     "output_type": "stream",
     "text": [
      "the most common value in the Embarked column:  S\n"
     ]
    }
   ],
   "source": [
    "print('the most common value in the Embarked column: ', all_data.Embarked.value_counts().idxmax())"
   ]
  },
  {
   "cell_type": "code",
   "execution_count": 18,
   "id": "f5a5d067",
   "metadata": {
    "execution": {
     "iopub.execute_input": "2022-12-06T10:59:06.699524Z",
     "iopub.status.busy": "2022-12-06T10:59:06.699072Z",
     "iopub.status.idle": "2022-12-06T10:59:06.705274Z",
     "shell.execute_reply": "2022-12-06T10:59:06.704173Z"
    },
    "papermill": {
     "duration": 0.040869,
     "end_time": "2022-12-06T10:59:06.707669",
     "exception": false,
     "start_time": "2022-12-06T10:59:06.666800",
     "status": "completed"
    },
    "tags": []
   },
   "outputs": [],
   "source": [
    "all_data.Embarked.fillna('S', inplace = True)"
   ]
  },
  {
   "cell_type": "markdown",
   "id": "7ccf3d47",
   "metadata": {
    "papermill": {
     "duration": 0.030706,
     "end_time": "2022-12-06T10:59:06.769512",
     "exception": false,
     "start_time": "2022-12-06T10:59:06.738806",
     "status": "completed"
    },
    "tags": []
   },
   "source": [
    "* #### **Fare**\n",
    "Filling up the missing values with the median of the Fare column"
   ]
  },
  {
   "cell_type": "code",
   "execution_count": 19,
   "id": "74d09561",
   "metadata": {
    "execution": {
     "iopub.execute_input": "2022-12-06T10:59:06.834055Z",
     "iopub.status.busy": "2022-12-06T10:59:06.833585Z",
     "iopub.status.idle": "2022-12-06T10:59:06.849342Z",
     "shell.execute_reply": "2022-12-06T10:59:06.848287Z"
    },
    "papermill": {
     "duration": 0.050786,
     "end_time": "2022-12-06T10:59:06.852151",
     "exception": false,
     "start_time": "2022-12-06T10:59:06.801365",
     "status": "completed"
    },
    "tags": []
   },
   "outputs": [],
   "source": [
    "all_data.Fare.fillna(all_data.Fare.median(), inplace = True)"
   ]
  },
  {
   "cell_type": "markdown",
   "id": "7d2f393f",
   "metadata": {
    "papermill": {
     "duration": 0.030671,
     "end_time": "2022-12-06T10:59:06.913888",
     "exception": false,
     "start_time": "2022-12-06T10:59:06.883217",
     "status": "completed"
    },
    "tags": []
   },
   "source": [
    "Encoding the Fare column into a new column - FareBins_code :"
   ]
  },
  {
   "cell_type": "code",
   "execution_count": 20,
   "id": "edfa53db",
   "metadata": {
    "execution": {
     "iopub.execute_input": "2022-12-06T10:59:06.977504Z",
     "iopub.status.busy": "2022-12-06T10:59:06.977101Z",
     "iopub.status.idle": "2022-12-06T10:59:07.005339Z",
     "shell.execute_reply": "2022-12-06T10:59:07.003715Z"
    },
    "papermill": {
     "duration": 0.063936,
     "end_time": "2022-12-06T10:59:07.008817",
     "exception": false,
     "start_time": "2022-12-06T10:59:06.944881",
     "status": "completed"
    },
    "tags": []
   },
   "outputs": [
    {
     "name": "stdout",
     "output_type": "stream",
     "text": [
      "[(-0.001, 7.854], (41.579, 512.329], (7.854, 10.5], (10.5, 21.558], (21.558, 41.579]]\n",
      "Categories (5, interval[float64, right]): [(-0.001, 7.854] < (7.854, 10.5] < (10.5, 21.558] < (21.558, 41.579] < (41.579, 512.329]]\n"
     ]
    }
   ],
   "source": [
    "all_data['FareBins'] = pd.qcut(all_data.Fare, 5)\n",
    "print(all_data['FareBins'].unique())\n",
    "label = LabelEncoder()\n",
    "\n",
    "all_data['FareBins_code'] = label.fit_transform(all_data['FareBins'])\n",
    "\n",
    "train_data['FareBins_code'] = all_data['FareBins_code'][:891]\n",
    "test_data['FareBins_code'] = all_data['FareBins_code'][891:]"
   ]
  },
  {
   "cell_type": "code",
   "execution_count": 21,
   "id": "55fe185b",
   "metadata": {
    "execution": {
     "iopub.execute_input": "2022-12-06T10:59:07.075042Z",
     "iopub.status.busy": "2022-12-06T10:59:07.074582Z",
     "iopub.status.idle": "2022-12-06T10:59:07.082084Z",
     "shell.execute_reply": "2022-12-06T10:59:07.081164Z"
    },
    "papermill": {
     "duration": 0.042871,
     "end_time": "2022-12-06T10:59:07.084192",
     "exception": false,
     "start_time": "2022-12-06T10:59:07.041321",
     "status": "completed"
    },
    "tags": []
   },
   "outputs": [
    {
     "data": {
      "text/plain": [
       "array([0, 4, 1, 2, 3])"
      ]
     },
     "execution_count": 21,
     "metadata": {},
     "output_type": "execute_result"
    }
   ],
   "source": [
    "all_data['FareBins_code'].unique()"
   ]
  },
  {
   "cell_type": "markdown",
   "id": "4755fb15",
   "metadata": {
    "papermill": {
     "duration": 0.031007,
     "end_time": "2022-12-06T10:59:07.148810",
     "exception": false,
     "start_time": "2022-12-06T10:59:07.117803",
     "status": "completed"
    },
    "tags": []
   },
   "source": [
    "- 0 : (-0.001, 7.854]\n",
    "- 1 : (7.854, 10.5]\n",
    "- 2 : (10.5, 21.558]\n",
    "- 3 : (21.558, 41.579]\n",
    "- 4 : (41.579, 512.329]"
   ]
  },
  {
   "cell_type": "code",
   "execution_count": 22,
   "id": "cb41175e",
   "metadata": {
    "execution": {
     "iopub.execute_input": "2022-12-06T10:59:07.213815Z",
     "iopub.status.busy": "2022-12-06T10:59:07.213105Z",
     "iopub.status.idle": "2022-12-06T10:59:07.225490Z",
     "shell.execute_reply": "2022-12-06T10:59:07.224493Z"
    },
    "papermill": {
     "duration": 0.047684,
     "end_time": "2022-12-06T10:59:07.227786",
     "exception": false,
     "start_time": "2022-12-06T10:59:07.180102",
     "status": "completed"
    },
    "tags": []
   },
   "outputs": [
    {
     "data": {
      "text/html": [
       "<div>\n",
       "<style scoped>\n",
       "    .dataframe tbody tr th:only-of-type {\n",
       "        vertical-align: middle;\n",
       "    }\n",
       "\n",
       "    .dataframe tbody tr th {\n",
       "        vertical-align: top;\n",
       "    }\n",
       "\n",
       "    .dataframe thead th {\n",
       "        text-align: right;\n",
       "    }\n",
       "</style>\n",
       "<table border=\"1\" class=\"dataframe\">\n",
       "  <thead>\n",
       "    <tr style=\"text-align: right;\">\n",
       "      <th></th>\n",
       "      <th>FareBins</th>\n",
       "      <th>FareBins_code</th>\n",
       "    </tr>\n",
       "  </thead>\n",
       "  <tbody>\n",
       "    <tr>\n",
       "      <th>0</th>\n",
       "      <td>(-0.001, 7.854]</td>\n",
       "      <td>0</td>\n",
       "    </tr>\n",
       "    <tr>\n",
       "      <th>1</th>\n",
       "      <td>(41.579, 512.329]</td>\n",
       "      <td>4</td>\n",
       "    </tr>\n",
       "    <tr>\n",
       "      <th>2</th>\n",
       "      <td>(7.854, 10.5]</td>\n",
       "      <td>1</td>\n",
       "    </tr>\n",
       "    <tr>\n",
       "      <th>3</th>\n",
       "      <td>(41.579, 512.329]</td>\n",
       "      <td>4</td>\n",
       "    </tr>\n",
       "    <tr>\n",
       "      <th>4</th>\n",
       "      <td>(7.854, 10.5]</td>\n",
       "      <td>1</td>\n",
       "    </tr>\n",
       "    <tr>\n",
       "      <th>5</th>\n",
       "      <td>(7.854, 10.5]</td>\n",
       "      <td>1</td>\n",
       "    </tr>\n",
       "    <tr>\n",
       "      <th>6</th>\n",
       "      <td>(41.579, 512.329]</td>\n",
       "      <td>4</td>\n",
       "    </tr>\n",
       "    <tr>\n",
       "      <th>7</th>\n",
       "      <td>(10.5, 21.558]</td>\n",
       "      <td>2</td>\n",
       "    </tr>\n",
       "    <tr>\n",
       "      <th>8</th>\n",
       "      <td>(10.5, 21.558]</td>\n",
       "      <td>2</td>\n",
       "    </tr>\n",
       "    <tr>\n",
       "      <th>9</th>\n",
       "      <td>(21.558, 41.579]</td>\n",
       "      <td>3</td>\n",
       "    </tr>\n",
       "  </tbody>\n",
       "</table>\n",
       "</div>"
      ],
      "text/plain": [
       "            FareBins  FareBins_code\n",
       "0    (-0.001, 7.854]              0\n",
       "1  (41.579, 512.329]              4\n",
       "2      (7.854, 10.5]              1\n",
       "3  (41.579, 512.329]              4\n",
       "4      (7.854, 10.5]              1\n",
       "5      (7.854, 10.5]              1\n",
       "6  (41.579, 512.329]              4\n",
       "7     (10.5, 21.558]              2\n",
       "8     (10.5, 21.558]              2\n",
       "9   (21.558, 41.579]              3"
      ]
     },
     "execution_count": 22,
     "metadata": {},
     "output_type": "execute_result"
    }
   ],
   "source": [
    "all_data[['FareBins', 'FareBins_code']].head(10)"
   ]
  },
  {
   "cell_type": "markdown",
   "id": "8f53f868",
   "metadata": {
    "papermill": {
     "duration": 0.030693,
     "end_time": "2022-12-06T10:59:07.289593",
     "exception": false,
     "start_time": "2022-12-06T10:59:07.258900",
     "status": "completed"
    },
    "tags": []
   },
   "source": [
    "* #### **Sex**\n",
    "We will encode the Sex column into a new column- Sex_cat, where 0 = female and 1 = male."
   ]
  },
  {
   "cell_type": "code",
   "execution_count": 23,
   "id": "eae90ef1",
   "metadata": {
    "execution": {
     "iopub.execute_input": "2022-12-06T10:59:07.357093Z",
     "iopub.status.busy": "2022-12-06T10:59:07.356367Z",
     "iopub.status.idle": "2022-12-06T10:59:07.365707Z",
     "shell.execute_reply": "2022-12-06T10:59:07.364495Z"
    },
    "papermill": {
     "duration": 0.046799,
     "end_time": "2022-12-06T10:59:07.368410",
     "exception": false,
     "start_time": "2022-12-06T10:59:07.321611",
     "status": "completed"
    },
    "tags": []
   },
   "outputs": [],
   "source": [
    "all_data[\"Sex\"] = all_data[\"Sex\"].astype('category')\n",
    "all_data[\"Sex_cat\"] = all_data[\"Sex\"].cat.codes\n",
    "\n",
    "train_data['Sex_cat'] = all_data['Sex_cat'][:891]\n",
    "test_data['Sex_cat'] = all_data['Sex_cat'][891:]"
   ]
  },
  {
   "cell_type": "markdown",
   "id": "89b93d5b",
   "metadata": {
    "papermill": {
     "duration": 0.030774,
     "end_time": "2022-12-06T10:59:07.430232",
     "exception": false,
     "start_time": "2022-12-06T10:59:07.399458",
     "status": "completed"
    },
    "tags": []
   },
   "source": [
    "* #### **Adding Family_Size**"
   ]
  },
  {
   "cell_type": "code",
   "execution_count": 24,
   "id": "d6e747dd",
   "metadata": {
    "execution": {
     "iopub.execute_input": "2022-12-06T10:59:07.495201Z",
     "iopub.status.busy": "2022-12-06T10:59:07.493849Z",
     "iopub.status.idle": "2022-12-06T10:59:07.502238Z",
     "shell.execute_reply": "2022-12-06T10:59:07.501361Z"
    },
    "papermill": {
     "duration": 0.043398,
     "end_time": "2022-12-06T10:59:07.504758",
     "exception": false,
     "start_time": "2022-12-06T10:59:07.461360",
     "status": "completed"
    },
    "tags": []
   },
   "outputs": [],
   "source": [
    "all_data['Family_Size'] = all_data['SibSp'] + all_data['Parch']\n",
    "\n",
    "# Substituting the values in train_data and test_data:\n",
    "train_data['Family_Size'] = all_data['Family_Size'][:891]\n",
    "test_data['Family_Size'] = all_data['Family_Size'][891:]"
   ]
  },
  {
   "cell_type": "markdown",
   "id": "b2a9d55d",
   "metadata": {
    "papermill": {
     "duration": 0.030933,
     "end_time": "2022-12-06T10:59:07.566935",
     "exception": false,
     "start_time": "2022-12-06T10:59:07.536002",
     "status": "completed"
    },
    "tags": []
   },
   "source": [
    "* #### **Adding Family_Survival**\n",
    "Grouping families and people with the same tickets together and researches the info."
   ]
  },
  {
   "cell_type": "code",
   "execution_count": 25,
   "id": "bfc7d15c",
   "metadata": {
    "execution": {
     "iopub.execute_input": "2022-12-06T10:59:07.630694Z",
     "iopub.status.busy": "2022-12-06T10:59:07.629886Z",
     "iopub.status.idle": "2022-12-06T10:59:07.637007Z",
     "shell.execute_reply": "2022-12-06T10:59:07.636038Z"
    },
    "papermill": {
     "duration": 0.041904,
     "end_time": "2022-12-06T10:59:07.639692",
     "exception": false,
     "start_time": "2022-12-06T10:59:07.597788",
     "status": "completed"
    },
    "tags": []
   },
   "outputs": [],
   "source": [
    "all_data['Last_Name'] = all_data['Name'].apply(lambda x: str.split(x, \",\")[0])"
   ]
  },
  {
   "cell_type": "code",
   "execution_count": 26,
   "id": "a0cf5a28",
   "metadata": {
    "execution": {
     "iopub.execute_input": "2022-12-06T10:59:07.704688Z",
     "iopub.status.busy": "2022-12-06T10:59:07.703907Z",
     "iopub.status.idle": "2022-12-06T10:59:08.642174Z",
     "shell.execute_reply": "2022-12-06T10:59:08.640852Z"
    },
    "papermill": {
     "duration": 0.973969,
     "end_time": "2022-12-06T10:59:08.644982",
     "exception": false,
     "start_time": "2022-12-06T10:59:07.671013",
     "status": "completed"
    },
    "tags": []
   },
   "outputs": [
    {
     "name": "stdout",
     "output_type": "stream",
     "text": [
      "Number of passengers with family survival information: 420\n"
     ]
    }
   ],
   "source": [
    "DEFAULT_SURVIVAL_VALUE = 0.5\n",
    "all_data['Family_Survival'] = DEFAULT_SURVIVAL_VALUE\n",
    "\n",
    "for grp, grp_df in all_data[['Survived','Name', 'Last_Name', 'Fare', 'Ticket', 'PassengerId',\n",
    "                           'SibSp', 'Parch', 'Age', 'Cabin']].groupby(['Last_Name', 'Fare']):\n",
    "    \n",
    "    if len(grp_df) != 1: # A Family group is found.\n",
    "        \n",
    "        for ind, row in grp_df.iterrows():\n",
    "            surv_max = grp_df.drop(ind)['Survived'].max()\n",
    "            surv_min = grp_df.drop(ind)['Survived'].min()\n",
    "            passID = row['PassengerId']\n",
    "            \n",
    "            if surv_max == 1.0:\n",
    "                all_data.loc[all_data.PassengerId == passID, 'Family_Survival'] = 1\n",
    "            elif surv_min == 0.0:\n",
    "                all_data.loc[all_data.PassengerId == passID, 'Family_Survival'] = 0\n",
    "\n",
    "print(\"Number of passengers with family survival information:\", \n",
    "      all_data.loc[all_data['Family_Survival'] != 0.5].shape[0])"
   ]
  },
  {
   "cell_type": "code",
   "execution_count": 27,
   "id": "01275e2f",
   "metadata": {
    "execution": {
     "iopub.execute_input": "2022-12-06T10:59:08.710018Z",
     "iopub.status.busy": "2022-12-06T10:59:08.708922Z",
     "iopub.status.idle": "2022-12-06T10:59:09.653141Z",
     "shell.execute_reply": "2022-12-06T10:59:09.651732Z"
    },
    "papermill": {
     "duration": 0.979643,
     "end_time": "2022-12-06T10:59:09.656005",
     "exception": false,
     "start_time": "2022-12-06T10:59:08.676362",
     "status": "completed"
    },
    "tags": []
   },
   "outputs": [
    {
     "name": "stdout",
     "output_type": "stream",
     "text": [
      "Number of passenger with family/group survival information:  546\n"
     ]
    }
   ],
   "source": [
    "for grp, grp_df in all_data.groupby('Ticket'):\n",
    "    if len(grp_df) != 1:\n",
    "        \n",
    "        for ind, row in grp_df.iterrows():\n",
    "            if (row['Family_Survival'] == 0) | (row['Family_Survival'] == 0.5):\n",
    "                surv_max = grp_df.drop(ind)['Survived'].max()\n",
    "                surv_min = grp_df.drop(ind)['Survived'].min()\n",
    "                passID = row['PassengerId']\n",
    "\n",
    "                if surv_max == 1.0:\n",
    "                    all_data.loc[all_data.PassengerId == passID, 'Family_Survival'] = 1\n",
    "                elif surv_min == 0.0:\n",
    "                    all_data.loc[all_data.PassengerId == passID, 'Family_Survival'] = 0\n",
    "print(\"Number of passenger with family/group survival information: \" ,\n",
    "      (all_data[all_data['Family_Survival']!=0.5].shape[0]))"
   ]
  },
  {
   "cell_type": "code",
   "execution_count": 28,
   "id": "2d889fcd",
   "metadata": {
    "execution": {
     "iopub.execute_input": "2022-12-06T10:59:09.720348Z",
     "iopub.status.busy": "2022-12-06T10:59:09.719895Z",
     "iopub.status.idle": "2022-12-06T10:59:09.727272Z",
     "shell.execute_reply": "2022-12-06T10:59:09.726424Z"
    },
    "papermill": {
     "duration": 0.042009,
     "end_time": "2022-12-06T10:59:09.729415",
     "exception": false,
     "start_time": "2022-12-06T10:59:09.687406",
     "status": "completed"
    },
    "tags": []
   },
   "outputs": [],
   "source": [
    "# # Family_Survival in TRAIN_DATA and TEST_DATA:\n",
    "train_data['Family_Survival'] = all_data['Family_Survival'][:891]\n",
    "test_data['Family_Survival'] = all_data['Family_Survival'][891:]"
   ]
  },
  {
   "cell_type": "markdown",
   "id": "79ab1eb6",
   "metadata": {
    "papermill": {
     "duration": 0.031008,
     "end_time": "2022-12-06T10:59:09.791590",
     "exception": false,
     "start_time": "2022-12-06T10:59:09.760582",
     "status": "completed"
    },
    "tags": []
   },
   "source": [
    "* #### **Cleaning Data**"
   ]
  },
  {
   "cell_type": "code",
   "execution_count": 29,
   "id": "eeef6043",
   "metadata": {
    "execution": {
     "iopub.execute_input": "2022-12-06T10:59:09.856648Z",
     "iopub.status.busy": "2022-12-06T10:59:09.855935Z",
     "iopub.status.idle": "2022-12-06T10:59:09.862772Z",
     "shell.execute_reply": "2022-12-06T10:59:09.861753Z"
    },
    "papermill": {
     "duration": 0.042478,
     "end_time": "2022-12-06T10:59:09.865447",
     "exception": false,
     "start_time": "2022-12-06T10:59:09.822969",
     "status": "completed"
    },
    "tags": []
   },
   "outputs": [
    {
     "data": {
      "text/plain": [
       "Index(['PassengerId', 'Survived', 'Pclass', 'Name', 'Sex', 'Age', 'SibSp',\n",
       "       'Parch', 'Ticket', 'Fare', 'Cabin', 'Embarked', 'AgeGroup',\n",
       "       'AgeGroup_code', 'FareBins', 'FareBins_code', 'Sex_cat', 'Family_Size',\n",
       "       'Last_Name', 'Family_Survival'],\n",
       "      dtype='object')"
      ]
     },
     "execution_count": 29,
     "metadata": {},
     "output_type": "execute_result"
    }
   ],
   "source": [
    "all_data.columns"
   ]
  },
  {
   "cell_type": "code",
   "execution_count": 30,
   "id": "7e61a99b",
   "metadata": {
    "execution": {
     "iopub.execute_input": "2022-12-06T10:59:09.931669Z",
     "iopub.status.busy": "2022-12-06T10:59:09.930817Z",
     "iopub.status.idle": "2022-12-06T10:59:09.940128Z",
     "shell.execute_reply": "2022-12-06T10:59:09.938917Z"
    },
    "papermill": {
     "duration": 0.045745,
     "end_time": "2022-12-06T10:59:09.942965",
     "exception": false,
     "start_time": "2022-12-06T10:59:09.897220",
     "status": "completed"
    },
    "tags": []
   },
   "outputs": [],
   "source": [
    "train_data.drop(['PassengerId','Name', 'Sex', 'Age', 'SibSp',\n",
    "                 'Parch', 'Ticket', 'Fare', 'Cabin', 'Embarked'], axis = 1, inplace = True)\n",
    "\n",
    "test_data.drop(['PassengerId','Name', 'Sex', 'Age', 'SibSp',\n",
    "                 'Parch', 'Ticket', 'Fare', 'Cabin', 'Embarked'], axis = 1, inplace = True)"
   ]
  },
  {
   "cell_type": "code",
   "execution_count": 31,
   "id": "384ff359",
   "metadata": {
    "execution": {
     "iopub.execute_input": "2022-12-06T10:59:10.010555Z",
     "iopub.status.busy": "2022-12-06T10:59:10.009997Z",
     "iopub.status.idle": "2022-12-06T10:59:10.016940Z",
     "shell.execute_reply": "2022-12-06T10:59:10.015524Z"
    },
    "papermill": {
     "duration": 0.044443,
     "end_time": "2022-12-06T10:59:10.020019",
     "exception": false,
     "start_time": "2022-12-06T10:59:09.975576",
     "status": "completed"
    },
    "tags": []
   },
   "outputs": [
    {
     "name": "stdout",
     "output_type": "stream",
     "text": [
      "Train data column names:  Index(['Survived', 'Pclass', 'AgeGroup_code', 'FareBins_code', 'Sex_cat',\n",
      "       'Family_Size', 'Family_Survival'],\n",
      "      dtype='object')\n",
      "\n",
      "Test data column names:  Index(['Pclass', 'AgeGroup_code', 'FareBins_code', 'Sex_cat', 'Family_Size',\n",
      "       'Family_Survival'],\n",
      "      dtype='object')\n"
     ]
    }
   ],
   "source": [
    "print(\"Train data column names: \", train_data.columns)\n",
    "print(\"\\nTest data column names: \", test_data.columns)"
   ]
  },
  {
   "cell_type": "code",
   "execution_count": null,
   "id": "7435403f",
   "metadata": {
    "papermill": {
     "duration": 0.030896,
     "end_time": "2022-12-06T10:59:10.084462",
     "exception": false,
     "start_time": "2022-12-06T10:59:10.053566",
     "status": "completed"
    },
    "tags": []
   },
   "outputs": [],
   "source": []
  },
  {
   "cell_type": "code",
   "execution_count": null,
   "id": "2e74c06c",
   "metadata": {
    "execution": {
     "iopub.execute_input": "2022-11-23T10:00:28.606778Z",
     "iopub.status.busy": "2022-11-23T10:00:28.606372Z",
     "iopub.status.idle": "2022-11-23T10:00:28.625823Z",
     "shell.execute_reply": "2022-11-23T10:00:28.624592Z",
     "shell.execute_reply.started": "2022-11-23T10:00:28.606745Z"
    },
    "papermill": {
     "duration": 0.03297,
     "end_time": "2022-12-06T10:59:10.148612",
     "exception": false,
     "start_time": "2022-12-06T10:59:10.115642",
     "status": "completed"
    },
    "tags": []
   },
   "outputs": [],
   "source": []
  },
  {
   "cell_type": "markdown",
   "id": "360c7fc3",
   "metadata": {
    "papermill": {
     "duration": 0.031193,
     "end_time": "2022-12-06T10:59:10.212492",
     "exception": false,
     "start_time": "2022-12-06T10:59:10.181299",
     "status": "completed"
    },
    "tags": []
   },
   "source": [
    "### From now on we will continue to work with the training set (train_data) and not with all the data"
   ]
  },
  {
   "cell_type": "markdown",
   "id": "bb629120",
   "metadata": {
    "papermill": {
     "duration": 0.031268,
     "end_time": "2022-12-06T10:59:10.277484",
     "exception": false,
     "start_time": "2022-12-06T10:59:10.246216",
     "status": "completed"
    },
    "tags": []
   },
   "source": [
    "There are no duplicates:"
   ]
  },
  {
   "cell_type": "code",
   "execution_count": 32,
   "id": "af744e4a",
   "metadata": {
    "execution": {
     "iopub.execute_input": "2022-12-06T10:59:10.347037Z",
     "iopub.status.busy": "2022-12-06T10:59:10.345961Z",
     "iopub.status.idle": "2022-12-06T10:59:10.357059Z",
     "shell.execute_reply": "2022-12-06T10:59:10.356086Z"
    },
    "papermill": {
     "duration": 0.05051,
     "end_time": "2022-12-06T10:59:10.359412",
     "exception": false,
     "start_time": "2022-12-06T10:59:10.308902",
     "status": "completed"
    },
    "tags": []
   },
   "outputs": [
    {
     "data": {
      "text/plain": [
       "True"
      ]
     },
     "execution_count": 32,
     "metadata": {},
     "output_type": "execute_result"
    }
   ],
   "source": [
    "train_data.duplicated().any()"
   ]
  },
  {
   "cell_type": "markdown",
   "id": "7600acda",
   "metadata": {
    "papermill": {
     "duration": 0.035362,
     "end_time": "2022-12-06T10:59:10.435909",
     "exception": false,
     "start_time": "2022-12-06T10:59:10.400547",
     "status": "completed"
    },
    "tags": []
   },
   "source": [
    "### Some statistics information:"
   ]
  },
  {
   "cell_type": "code",
   "execution_count": 33,
   "id": "b7f11662",
   "metadata": {
    "execution": {
     "iopub.execute_input": "2022-12-06T10:59:10.502577Z",
     "iopub.status.busy": "2022-12-06T10:59:10.502098Z",
     "iopub.status.idle": "2022-12-06T10:59:10.508889Z",
     "shell.execute_reply": "2022-12-06T10:59:10.507394Z"
    },
    "papermill": {
     "duration": 0.044209,
     "end_time": "2022-12-06T10:59:10.511548",
     "exception": false,
     "start_time": "2022-12-06T10:59:10.467339",
     "status": "completed"
    },
    "tags": []
   },
   "outputs": [
    {
     "name": "stdout",
     "output_type": "stream",
     "text": [
      "[0 1 3 2]\n"
     ]
    }
   ],
   "source": [
    "print(train_data.AgeGroup_code.unique())\n"
   ]
  },
  {
   "cell_type": "code",
   "execution_count": 34,
   "id": "84f44771",
   "metadata": {
    "execution": {
     "iopub.execute_input": "2022-12-06T10:59:10.577660Z",
     "iopub.status.busy": "2022-12-06T10:59:10.576842Z",
     "iopub.status.idle": "2022-12-06T10:59:10.606984Z",
     "shell.execute_reply": "2022-12-06T10:59:10.605505Z"
    },
    "papermill": {
     "duration": 0.066533,
     "end_time": "2022-12-06T10:59:10.609812",
     "exception": false,
     "start_time": "2022-12-06T10:59:10.543279",
     "status": "completed"
    },
    "tags": []
   },
   "outputs": [
    {
     "data": {
      "text/html": [
       "<div>\n",
       "<style scoped>\n",
       "    .dataframe tbody tr th:only-of-type {\n",
       "        vertical-align: middle;\n",
       "    }\n",
       "\n",
       "    .dataframe tbody tr th {\n",
       "        vertical-align: top;\n",
       "    }\n",
       "\n",
       "    .dataframe thead th {\n",
       "        text-align: right;\n",
       "    }\n",
       "</style>\n",
       "<table border=\"1\" class=\"dataframe\">\n",
       "  <thead>\n",
       "    <tr style=\"text-align: right;\">\n",
       "      <th></th>\n",
       "      <th>Survived</th>\n",
       "      <th>Pclass</th>\n",
       "      <th>AgeGroup_code</th>\n",
       "      <th>FareBins_code</th>\n",
       "      <th>Sex_cat</th>\n",
       "      <th>Family_Size</th>\n",
       "      <th>Family_Survival</th>\n",
       "    </tr>\n",
       "  </thead>\n",
       "  <tbody>\n",
       "    <tr>\n",
       "      <th>count</th>\n",
       "      <td>891.000000</td>\n",
       "      <td>891.000000</td>\n",
       "      <td>891.000000</td>\n",
       "      <td>891.000000</td>\n",
       "      <td>891.000000</td>\n",
       "      <td>891.000000</td>\n",
       "      <td>891.000000</td>\n",
       "    </tr>\n",
       "    <tr>\n",
       "      <th>mean</th>\n",
       "      <td>0.383838</td>\n",
       "      <td>2.308642</td>\n",
       "      <td>0.450056</td>\n",
       "      <td>1.985410</td>\n",
       "      <td>0.647587</td>\n",
       "      <td>0.904602</td>\n",
       "      <td>0.519641</td>\n",
       "    </tr>\n",
       "    <tr>\n",
       "      <th>std</th>\n",
       "      <td>0.486592</td>\n",
       "      <td>0.836071</td>\n",
       "      <td>0.992402</td>\n",
       "      <td>1.411355</td>\n",
       "      <td>0.477990</td>\n",
       "      <td>1.613459</td>\n",
       "      <td>0.323961</td>\n",
       "    </tr>\n",
       "    <tr>\n",
       "      <th>min</th>\n",
       "      <td>0.000000</td>\n",
       "      <td>1.000000</td>\n",
       "      <td>0.000000</td>\n",
       "      <td>0.000000</td>\n",
       "      <td>0.000000</td>\n",
       "      <td>0.000000</td>\n",
       "      <td>0.000000</td>\n",
       "    </tr>\n",
       "    <tr>\n",
       "      <th>25%</th>\n",
       "      <td>0.000000</td>\n",
       "      <td>2.000000</td>\n",
       "      <td>0.000000</td>\n",
       "      <td>1.000000</td>\n",
       "      <td>0.000000</td>\n",
       "      <td>0.000000</td>\n",
       "      <td>0.500000</td>\n",
       "    </tr>\n",
       "    <tr>\n",
       "      <th>50%</th>\n",
       "      <td>0.000000</td>\n",
       "      <td>3.000000</td>\n",
       "      <td>0.000000</td>\n",
       "      <td>2.000000</td>\n",
       "      <td>1.000000</td>\n",
       "      <td>0.000000</td>\n",
       "      <td>0.500000</td>\n",
       "    </tr>\n",
       "    <tr>\n",
       "      <th>75%</th>\n",
       "      <td>1.000000</td>\n",
       "      <td>3.000000</td>\n",
       "      <td>0.000000</td>\n",
       "      <td>3.000000</td>\n",
       "      <td>1.000000</td>\n",
       "      <td>1.000000</td>\n",
       "      <td>0.500000</td>\n",
       "    </tr>\n",
       "    <tr>\n",
       "      <th>max</th>\n",
       "      <td>1.000000</td>\n",
       "      <td>3.000000</td>\n",
       "      <td>3.000000</td>\n",
       "      <td>4.000000</td>\n",
       "      <td>1.000000</td>\n",
       "      <td>10.000000</td>\n",
       "      <td>1.000000</td>\n",
       "    </tr>\n",
       "  </tbody>\n",
       "</table>\n",
       "</div>"
      ],
      "text/plain": [
       "         Survived      Pclass  AgeGroup_code  FareBins_code     Sex_cat  \\\n",
       "count  891.000000  891.000000     891.000000     891.000000  891.000000   \n",
       "mean     0.383838    2.308642       0.450056       1.985410    0.647587   \n",
       "std      0.486592    0.836071       0.992402       1.411355    0.477990   \n",
       "min      0.000000    1.000000       0.000000       0.000000    0.000000   \n",
       "25%      0.000000    2.000000       0.000000       1.000000    0.000000   \n",
       "50%      0.000000    3.000000       0.000000       2.000000    1.000000   \n",
       "75%      1.000000    3.000000       0.000000       3.000000    1.000000   \n",
       "max      1.000000    3.000000       3.000000       4.000000    1.000000   \n",
       "\n",
       "       Family_Size  Family_Survival  \n",
       "count   891.000000       891.000000  \n",
       "mean      0.904602         0.519641  \n",
       "std       1.613459         0.323961  \n",
       "min       0.000000         0.000000  \n",
       "25%       0.000000         0.500000  \n",
       "50%       0.000000         0.500000  \n",
       "75%       1.000000         0.500000  \n",
       "max      10.000000         1.000000  "
      ]
     },
     "execution_count": 34,
     "metadata": {},
     "output_type": "execute_result"
    }
   ],
   "source": [
    "train_data.describe(include='all')"
   ]
  },
  {
   "cell_type": "markdown",
   "id": "f3035bde",
   "metadata": {
    "papermill": {
     "duration": 0.031577,
     "end_time": "2022-12-06T10:59:10.674226",
     "exception": false,
     "start_time": "2022-12-06T10:59:10.642649",
     "status": "completed"
    },
    "tags": []
   },
   "source": [
    "## ---ADD HERE SUPPORT PLOTS---"
   ]
  },
  {
   "cell_type": "markdown",
   "id": "c700e8b4",
   "metadata": {
    "papermill": {
     "duration": 0.031603,
     "end_time": "2022-12-06T10:59:10.738705",
     "exception": false,
     "start_time": "2022-12-06T10:59:10.707102",
     "status": "completed"
    },
    "tags": []
   },
   "source": [
    " #### According to the descriptive statistics table above-\n",
    "\n",
    "**Survived:**\n",
    "- Most of the passengers didn't survived (as we already know...), the mean = 0.3838 and the median = 0.\n",
    "\n",
    "**Ticket Class (Pclass):**\n",
    "- The mean = 2.3 and the median = 3, indicates that most tickets are for third class, and the minority are for first class.\n",
    "\n",
    "**Age/AgeGroup_code**\n",
    "- The average AgeGroup_code is 0.45 and the median is 0, with a std of ~0.99. Most of the passengers are adults.\n",
    "\n",
    "**Fare/FareBins_code**\n",
    "- It seems that most of the passengers paids for the trip between 10.5$ to 21.558$.\n",
    "\n",
    "**Sex**\n",
    "- Most of passengers are males.\n",
    "\n",
    "**Family Size:**\n",
    "- \n",
    "\n",
    "**Number of Siblings/Spouses (SibSp)**\n",
    "- According to the mean and the median, most of the passengers came without their sibilig or spouses.\n",
    "\n",
    "**Number of Parents/Children (Parch)**\n",
    "- According to the mean and the median, most of the passengers came without their parents or children.\n",
    "\n",
    "\n",
    "\n",
    "**Cabin**\n",
    "- The mode of the cabin numer is unknown.\n",
    "\n",
    "**Embarked**\n",
    "- There three port of embarkation: C = Cherbourg, Q = Queenstown, S = Southampton. The common one is Southampton."
   ]
  },
  {
   "cell_type": "code",
   "execution_count": 35,
   "id": "5f3a4e0c",
   "metadata": {
    "execution": {
     "iopub.execute_input": "2022-12-06T10:59:10.804227Z",
     "iopub.status.busy": "2022-12-06T10:59:10.803830Z",
     "iopub.status.idle": "2022-12-06T10:59:10.808908Z",
     "shell.execute_reply": "2022-12-06T10:59:10.807553Z"
    },
    "papermill": {
     "duration": 0.040988,
     "end_time": "2022-12-06T10:59:10.811656",
     "exception": false,
     "start_time": "2022-12-06T10:59:10.770668",
     "status": "completed"
    },
    "tags": []
   },
   "outputs": [],
   "source": [
    "# corr = train_data.corr()\n",
    "# mask = np.triu(np.ones_like(corr))\n",
    "\n",
    "# sns.heatmap(corr, mask = mask, annot = True)"
   ]
  },
  {
   "cell_type": "markdown",
   "id": "4abe22a4",
   "metadata": {
    "papermill": {
     "duration": 0.031564,
     "end_time": "2022-12-06T10:59:10.875287",
     "exception": false,
     "start_time": "2022-12-06T10:59:10.843723",
     "status": "completed"
    },
    "tags": []
   },
   "source": [
    "We can see a moderately negative correlation between the Sex variable ( = Sex_cat) and the Survived variable."
   ]
  },
  {
   "cell_type": "markdown",
   "id": "c891e84c",
   "metadata": {
    "papermill": {
     "duration": 0.031458,
     "end_time": "2022-12-06T10:59:10.939775",
     "exception": false,
     "start_time": "2022-12-06T10:59:10.908317",
     "status": "completed"
    },
    "tags": []
   },
   "source": [
    "### Data Visualization\n",
    "Helps us to understand better how the data are behaving"
   ]
  },
  {
   "cell_type": "code",
   "execution_count": 36,
   "id": "037f74e2",
   "metadata": {
    "execution": {
     "iopub.execute_input": "2022-12-06T10:59:11.007826Z",
     "iopub.status.busy": "2022-12-06T10:59:11.006304Z",
     "iopub.status.idle": "2022-12-06T10:59:11.013888Z",
     "shell.execute_reply": "2022-12-06T10:59:11.011982Z"
    },
    "papermill": {
     "duration": 0.0443,
     "end_time": "2022-12-06T10:59:11.016253",
     "exception": false,
     "start_time": "2022-12-06T10:59:10.971953",
     "status": "completed"
    },
    "tags": []
   },
   "outputs": [],
   "source": [
    "# plt.figure(figsize = (15,20))\n",
    "\n",
    "# plt.subplot(3, 3, 1)\n",
    "# sns.countplot(x = 'Survived', data = train_data)\n",
    "# plt.title(\"How Many Survived\")\n",
    "\n",
    "# plt.subplot(3, 3, 2)\n",
    "# sns.countplot(x = \"Sex\", data = train_data)\n",
    "# plt.title(\"Sex Counting\")\n",
    "\n",
    "# plt.subplot(3, 3, 3)\n",
    "# sns.histplot(x = \"Age\", data = train_data, kde = True)\n",
    "# plt.title(\"Age Distribution\")\n",
    "\n",
    "# plt.subplot(3, 3, 4)\n",
    "# sns.countplot(x = 'Pclass', data = train_data)\n",
    "# plt.title('Ticket Class')\n",
    "\n",
    "# plt.subplot(3, 3, 5)\n",
    "# sns.countplot(x = 'SibSp', data = train_data)\n",
    "# plt.title(\"# of siblings / spouses\\naboard the Titanic\")\n",
    "\n",
    "# plt.subplot(3, 3, 6)\n",
    "# sns.countplot(x = 'Parch', data = train_data)\n",
    "# plt.title('# of parents / children\\naboard the Titanic')\n",
    "\n",
    "# plt.subplot(3, 3, 7)\n",
    "# sns.histplot(x = 'Fare', data = train_data, kde = True)\n",
    "# plt.title('Passenger fare')"
   ]
  },
  {
   "cell_type": "markdown",
   "id": "db926858",
   "metadata": {
    "papermill": {
     "duration": 0.031809,
     "end_time": "2022-12-06T10:59:11.080065",
     "exception": false,
     "start_time": "2022-12-06T10:59:11.048256",
     "status": "completed"
    },
    "tags": []
   },
   "source": [
    "#### We want to evaluate which features are affecting the chance to survive.\n",
    "#### Accordingly, let's visually examine the connection."
   ]
  },
  {
   "cell_type": "markdown",
   "id": "bdfa074b",
   "metadata": {
    "papermill": {
     "duration": 0.032307,
     "end_time": "2022-12-06T10:59:11.144271",
     "exception": false,
     "start_time": "2022-12-06T10:59:11.111964",
     "status": "completed"
    },
    "tags": []
   },
   "source": [
    "**Survived ~ Sex**"
   ]
  },
  {
   "cell_type": "code",
   "execution_count": 37,
   "id": "76b1acb4",
   "metadata": {
    "execution": {
     "iopub.execute_input": "2022-12-06T10:59:11.211484Z",
     "iopub.status.busy": "2022-12-06T10:59:11.210298Z",
     "iopub.status.idle": "2022-12-06T10:59:11.215526Z",
     "shell.execute_reply": "2022-12-06T10:59:11.214579Z"
    },
    "papermill": {
     "duration": 0.041462,
     "end_time": "2022-12-06T10:59:11.217843",
     "exception": false,
     "start_time": "2022-12-06T10:59:11.176381",
     "status": "completed"
    },
    "tags": []
   },
   "outputs": [],
   "source": [
    "# women = train_data.loc[train_data.Sex == \"female\"]['Survived']\n",
    "# rate_women = sum(women) / len(women)\n",
    "\n",
    "# men = train_data.loc[train_data.Sex == \"male\"]['Survived']\n",
    "# rate_men = sum(men) / len(men)\n",
    "\n",
    "# print(\"% of men who survived:\", rate_men)\n",
    "# print(\"% of women who survived:\", rate_women)\n",
    "\n",
    "# sns.countplot(x = 'Sex', data = train_data, hue = 'Survived')"
   ]
  },
  {
   "cell_type": "markdown",
   "id": "49523315",
   "metadata": {
    "papermill": {
     "duration": 0.031808,
     "end_time": "2022-12-06T10:59:11.281489",
     "exception": false,
     "start_time": "2022-12-06T10:59:11.249681",
     "status": "completed"
    },
    "tags": []
   },
   "source": [
    "**Survived ~ Ticket Class (Pclass)**"
   ]
  },
  {
   "cell_type": "code",
   "execution_count": 38,
   "id": "c7865402",
   "metadata": {
    "execution": {
     "iopub.execute_input": "2022-12-06T10:59:11.349096Z",
     "iopub.status.busy": "2022-12-06T10:59:11.347927Z",
     "iopub.status.idle": "2022-12-06T10:59:11.353943Z",
     "shell.execute_reply": "2022-12-06T10:59:11.352983Z"
    },
    "papermill": {
     "duration": 0.042369,
     "end_time": "2022-12-06T10:59:11.356337",
     "exception": false,
     "start_time": "2022-12-06T10:59:11.313968",
     "status": "completed"
    },
    "tags": []
   },
   "outputs": [],
   "source": [
    "# class1 = train_data.loc[train_data.Pclass == 1]['Survived']\n",
    "# rate_class1 = sum(class1) / len(class1)\n",
    "\n",
    "# class2 = train_data.loc[train_data.Pclass == 2]['Survived']\n",
    "# rate_class2 = sum(class2) / len(class2)\n",
    "\n",
    "# class3 = train_data.loc[train_data.Pclass == 3]['Survived']\n",
    "# rate_class3 = sum(class3) / len(class3)\n",
    "\n",
    "# print(\"% of class 1 who survived:\", rate_class1)\n",
    "# print(\"% of class 2 who survived:\", rate_class2)\n",
    "# print(\"% of class 3 who survived:\", rate_class3)\n",
    "\n",
    "# sns.countplot(x = 'Pclass', data = train_data, hue = 'Survived')"
   ]
  },
  {
   "cell_type": "markdown",
   "id": "842300b9",
   "metadata": {
    "papermill": {
     "duration": 0.032411,
     "end_time": "2022-12-06T10:59:11.422735",
     "exception": false,
     "start_time": "2022-12-06T10:59:11.390324",
     "status": "completed"
    },
    "tags": []
   },
   "source": [
    "**Survived ~ # of Parents/Children (Parch)**"
   ]
  },
  {
   "cell_type": "code",
   "execution_count": 39,
   "id": "8cc84f67",
   "metadata": {
    "execution": {
     "iopub.execute_input": "2022-12-06T10:59:11.488520Z",
     "iopub.status.busy": "2022-12-06T10:59:11.488037Z",
     "iopub.status.idle": "2022-12-06T10:59:11.493232Z",
     "shell.execute_reply": "2022-12-06T10:59:11.491969Z"
    },
    "papermill": {
     "duration": 0.041111,
     "end_time": "2022-12-06T10:59:11.495838",
     "exception": false,
     "start_time": "2022-12-06T10:59:11.454727",
     "status": "completed"
    },
    "tags": []
   },
   "outputs": [],
   "source": [
    "# for i in train_data.Parch.unique():\n",
    "#     temp_survived = train_data.loc[train_data.Parch == i]['Survived']\n",
    "#     rate = sum(temp_survived) / len(temp_survived)\n",
    "#     print(\"% of passengers who have \", i, \" of parents/children aboard the Titanic that survived:\", rate)\n",
    "    \n",
    "# sns.countplot(x = 'Parch', data = train_data, hue = 'Survived')\n",
    "# plt.legend(title = 'Survived', loc='upper right')\n"
   ]
  },
  {
   "cell_type": "markdown",
   "id": "559d0f66",
   "metadata": {
    "papermill": {
     "duration": 0.03134,
     "end_time": "2022-12-06T10:59:11.559228",
     "exception": false,
     "start_time": "2022-12-06T10:59:11.527888",
     "status": "completed"
    },
    "tags": []
   },
   "source": [
    "**Survived ~ # of Sibiling/Spouses (SibSp)**"
   ]
  },
  {
   "cell_type": "code",
   "execution_count": 40,
   "id": "9d6157d0",
   "metadata": {
    "execution": {
     "iopub.execute_input": "2022-12-06T10:59:11.626088Z",
     "iopub.status.busy": "2022-12-06T10:59:11.625244Z",
     "iopub.status.idle": "2022-12-06T10:59:11.629541Z",
     "shell.execute_reply": "2022-12-06T10:59:11.628717Z"
    },
    "papermill": {
     "duration": 0.040592,
     "end_time": "2022-12-06T10:59:11.631871",
     "exception": false,
     "start_time": "2022-12-06T10:59:11.591279",
     "status": "completed"
    },
    "tags": []
   },
   "outputs": [],
   "source": [
    "# for i in train_data.SibSp.unique():\n",
    "#     temp_survived = train_data.loc[train_data.SibSp == i]['Survived']\n",
    "#     rate = sum(temp_survived) / len(temp_survived)\n",
    "#     print(\"% of passengers who have \", i, \" of siblings/spouses aboard the Titanic that survived:\", rate)\n",
    "    \n",
    "\n",
    "# sns.countplot(x = 'SibSp', data = train_data, hue = 'Survived')\n",
    "# plt.legend(title = 'Survived', loc='upper right')"
   ]
  },
  {
   "cell_type": "markdown",
   "id": "462aee36",
   "metadata": {
    "papermill": {
     "duration": 0.031696,
     "end_time": "2022-12-06T10:59:11.695567",
     "exception": false,
     "start_time": "2022-12-06T10:59:11.663871",
     "status": "completed"
    },
    "tags": []
   },
   "source": [
    "**Survived ~ Age**"
   ]
  },
  {
   "cell_type": "code",
   "execution_count": 41,
   "id": "791f8f7d",
   "metadata": {
    "execution": {
     "iopub.execute_input": "2022-12-06T10:59:11.762938Z",
     "iopub.status.busy": "2022-12-06T10:59:11.762057Z",
     "iopub.status.idle": "2022-12-06T10:59:11.767043Z",
     "shell.execute_reply": "2022-12-06T10:59:11.766065Z"
    },
    "papermill": {
     "duration": 0.042095,
     "end_time": "2022-12-06T10:59:11.769753",
     "exception": false,
     "start_time": "2022-12-06T10:59:11.727658",
     "status": "completed"
    },
    "tags": []
   },
   "outputs": [],
   "source": [
    "# for i in train_data.AgeGroup.unique():\n",
    "#     temp_survived = train_data.loc[train_data.AgeGroup == i]['Survived']\n",
    "#     rate = sum(temp_survived) / len(temp_survived)\n",
    "#     print(\"% of\", i + 's', \"that survived:\", rate)\n",
    "\n",
    "# sns.countplot(x = 'AgeGroup', data = train_data, hue = 'Survived')"
   ]
  },
  {
   "cell_type": "markdown",
   "id": "0d07bed4",
   "metadata": {
    "papermill": {
     "duration": 0.031809,
     "end_time": "2022-12-06T10:59:11.833720",
     "exception": false,
     "start_time": "2022-12-06T10:59:11.801911",
     "status": "completed"
    },
    "tags": []
   },
   "source": [
    "###### The features- PassengerId, Name, Number of Ticket, Cabin, Embarked and Fare, are not affecting in any way the chance to survive or not."
   ]
  },
  {
   "cell_type": "markdown",
   "id": "2afb44dd",
   "metadata": {
    "papermill": {
     "duration": 0.032776,
     "end_time": "2022-12-06T10:59:11.899019",
     "exception": false,
     "start_time": "2022-12-06T10:59:11.866243",
     "status": "completed"
    },
    "tags": []
   },
   "source": [
    "# **Model Building**"
   ]
  },
  {
   "cell_type": "markdown",
   "id": "03d9e2c8",
   "metadata": {
    "papermill": {
     "duration": 0.031401,
     "end_time": "2022-12-06T10:59:11.963278",
     "exception": false,
     "start_time": "2022-12-06T10:59:11.931877",
     "status": "completed"
    },
    "tags": []
   },
   "source": [
    "### Data Preparation\n",
    "Before using the classification models, let's prepered our data:"
   ]
  },
  {
   "cell_type": "code",
   "execution_count": 42,
   "id": "53a33d64",
   "metadata": {
    "execution": {
     "iopub.execute_input": "2022-12-06T10:59:12.029493Z",
     "iopub.status.busy": "2022-12-06T10:59:12.028335Z",
     "iopub.status.idle": "2022-12-06T10:59:12.033990Z",
     "shell.execute_reply": "2022-12-06T10:59:12.032770Z"
    },
    "papermill": {
     "duration": 0.041277,
     "end_time": "2022-12-06T10:59:12.036351",
     "exception": false,
     "start_time": "2022-12-06T10:59:11.995074",
     "status": "completed"
    },
    "tags": []
   },
   "outputs": [],
   "source": [
    "# X = train_data.loc[:, (\"Sex_cat\", \"Pclass\", \"SibSp\", \"Parch\", \"Age\")]\n",
    "# y = train_data[\"Survived\"].values"
   ]
  },
  {
   "cell_type": "markdown",
   "id": "a86ac1cd",
   "metadata": {
    "papermill": {
     "duration": 0.031989,
     "end_time": "2022-12-06T10:59:12.100228",
     "exception": false,
     "start_time": "2022-12-06T10:59:12.068239",
     "status": "completed"
    },
    "tags": []
   },
   "source": [
    "The feature matrix, X:"
   ]
  },
  {
   "cell_type": "code",
   "execution_count": 43,
   "id": "7eb285ee",
   "metadata": {
    "execution": {
     "iopub.execute_input": "2022-12-06T10:59:12.167297Z",
     "iopub.status.busy": "2022-12-06T10:59:12.166425Z",
     "iopub.status.idle": "2022-12-06T10:59:12.171879Z",
     "shell.execute_reply": "2022-12-06T10:59:12.170667Z"
    },
    "papermill": {
     "duration": 0.041978,
     "end_time": "2022-12-06T10:59:12.174296",
     "exception": false,
     "start_time": "2022-12-06T10:59:12.132318",
     "status": "completed"
    },
    "tags": []
   },
   "outputs": [],
   "source": [
    "# X"
   ]
  },
  {
   "cell_type": "markdown",
   "id": "1819a288",
   "metadata": {
    "papermill": {
     "duration": 0.031958,
     "end_time": "2022-12-06T10:59:12.238044",
     "exception": false,
     "start_time": "2022-12-06T10:59:12.206086",
     "status": "completed"
    },
    "tags": []
   },
   "source": [
    "The target column, y:"
   ]
  },
  {
   "cell_type": "code",
   "execution_count": 44,
   "id": "5d6ffebe",
   "metadata": {
    "execution": {
     "iopub.execute_input": "2022-12-06T10:59:12.304785Z",
     "iopub.status.busy": "2022-12-06T10:59:12.304355Z",
     "iopub.status.idle": "2022-12-06T10:59:12.308965Z",
     "shell.execute_reply": "2022-12-06T10:59:12.307712Z"
    },
    "papermill": {
     "duration": 0.040885,
     "end_time": "2022-12-06T10:59:12.311449",
     "exception": false,
     "start_time": "2022-12-06T10:59:12.270564",
     "status": "completed"
    },
    "tags": []
   },
   "outputs": [],
   "source": [
    "# y[:5]"
   ]
  },
  {
   "cell_type": "markdown",
   "id": "b4baff33",
   "metadata": {
    "papermill": {
     "duration": 0.033101,
     "end_time": "2022-12-06T10:59:12.376467",
     "exception": false,
     "start_time": "2022-12-06T10:59:12.343366",
     "status": "completed"
    },
    "tags": []
   },
   "source": [
    "#### Splitting the dataset into the Training set and Test set"
   ]
  },
  {
   "cell_type": "code",
   "execution_count": 45,
   "id": "4bece0c6",
   "metadata": {
    "execution": {
     "iopub.execute_input": "2022-12-06T10:59:12.442593Z",
     "iopub.status.busy": "2022-12-06T10:59:12.442155Z",
     "iopub.status.idle": "2022-12-06T10:59:12.447373Z",
     "shell.execute_reply": "2022-12-06T10:59:12.446182Z"
    },
    "papermill": {
     "duration": 0.041346,
     "end_time": "2022-12-06T10:59:12.449824",
     "exception": false,
     "start_time": "2022-12-06T10:59:12.408478",
     "status": "completed"
    },
    "tags": []
   },
   "outputs": [],
   "source": [
    "# from sklearn.model_selection import train_test_split\n",
    "# X_train, X_test, y_train, y_test = train_test_split(X, y, test_size = 0.2, random_state = 0)"
   ]
  },
  {
   "cell_type": "code",
   "execution_count": 46,
   "id": "76ccf062",
   "metadata": {
    "execution": {
     "iopub.execute_input": "2022-12-06T10:59:12.515426Z",
     "iopub.status.busy": "2022-12-06T10:59:12.515000Z",
     "iopub.status.idle": "2022-12-06T10:59:12.520349Z",
     "shell.execute_reply": "2022-12-06T10:59:12.518949Z"
    },
    "papermill": {
     "duration": 0.041206,
     "end_time": "2022-12-06T10:59:12.522912",
     "exception": false,
     "start_time": "2022-12-06T10:59:12.481706",
     "status": "completed"
    },
    "tags": []
   },
   "outputs": [],
   "source": [
    "# X_train"
   ]
  },
  {
   "cell_type": "markdown",
   "id": "5c5e133f",
   "metadata": {
    "papermill": {
     "duration": 0.033014,
     "end_time": "2022-12-06T10:59:12.588308",
     "exception": false,
     "start_time": "2022-12-06T10:59:12.555294",
     "status": "completed"
    },
    "tags": []
   },
   "source": [
    "#### Feature Scaling"
   ]
  },
  {
   "cell_type": "code",
   "execution_count": 47,
   "id": "ae35ba98",
   "metadata": {
    "execution": {
     "iopub.execute_input": "2022-12-06T10:59:12.655982Z",
     "iopub.status.busy": "2022-12-06T10:59:12.655530Z",
     "iopub.status.idle": "2022-12-06T10:59:12.660082Z",
     "shell.execute_reply": "2022-12-06T10:59:12.658870Z"
    },
    "papermill": {
     "duration": 0.041867,
     "end_time": "2022-12-06T10:59:12.662814",
     "exception": false,
     "start_time": "2022-12-06T10:59:12.620947",
     "status": "completed"
    },
    "tags": []
   },
   "outputs": [],
   "source": [
    "# # feature scaling\n",
    "# from sklearn.preprocessing import StandardScaler\n",
    "# sc = StandardScaler()\n",
    "# X_train = sc.fit_transform(X_train)\n",
    "# X_test = sc.transform(X_test)"
   ]
  },
  {
   "cell_type": "markdown",
   "id": "c89269eb",
   "metadata": {
    "papermill": {
     "duration": 0.031687,
     "end_time": "2022-12-06T10:59:12.726349",
     "exception": false,
     "start_time": "2022-12-06T10:59:12.694662",
     "status": "completed"
    },
    "tags": []
   },
   "source": [
    "## **Feature and Model Selection**"
   ]
  },
  {
   "cell_type": "code",
   "execution_count": 48,
   "id": "bff4692d",
   "metadata": {
    "execution": {
     "iopub.execute_input": "2022-12-06T10:59:12.792222Z",
     "iopub.status.busy": "2022-12-06T10:59:12.791818Z",
     "iopub.status.idle": "2022-12-06T10:59:12.796878Z",
     "shell.execute_reply": "2022-12-06T10:59:12.795309Z"
    },
    "papermill": {
     "duration": 0.041272,
     "end_time": "2022-12-06T10:59:12.799361",
     "exception": false,
     "start_time": "2022-12-06T10:59:12.758089",
     "status": "completed"
    },
    "tags": []
   },
   "outputs": [],
   "source": [
    "# from sklearn.model_selection import cross_val_score, GridSearchCV, RepeatedStratifiedKFold\n",
    "# #cross_val_predict, KFold, \n",
    "# from sklearn.metrics import confusion_matrix, accuracy_score\n",
    "# from sklearn.pipeline import Pipeline\n",
    "# from sklearn.feature_selection import RFECV"
   ]
  },
  {
   "cell_type": "code",
   "execution_count": 49,
   "id": "5d6715cc",
   "metadata": {
    "execution": {
     "iopub.execute_input": "2022-12-06T10:59:12.865238Z",
     "iopub.status.busy": "2022-12-06T10:59:12.864828Z",
     "iopub.status.idle": "2022-12-06T10:59:12.870188Z",
     "shell.execute_reply": "2022-12-06T10:59:12.868815Z"
    },
    "papermill": {
     "duration": 0.041356,
     "end_time": "2022-12-06T10:59:12.872419",
     "exception": false,
     "start_time": "2022-12-06T10:59:12.831063",
     "status": "completed"
    },
    "tags": []
   },
   "outputs": [],
   "source": [
    "# some experience....\n",
    "# here we use Decision Tree as estimator in the RFECV\n",
    "# from sklearn.tree import DecisionTreeClassifier\n",
    "# from sklearn.ensemble import RandomForestClassifier\n",
    "# rfe = RFECV(estimator=LogisticRegression(), cv = 10)\n",
    "# rfe = rfe.fit(X_train,y_train)\n",
    "# print(\"Feature ranking: \", rfe.ranking_)\n",
    "\n",
    "# # extracting the selected features.  get_support() function helps us to get those features names. \n",
    "# mask = rfe.get_support()\n",
    "# features = X.columns\n",
    "# best_features = features[mask]\n",
    " \n",
    "# print(\"All features: \", X.shape[1])\n",
    "# print(features)\n",
    "\n",
    "# print(\"Selected best: \", best_features.shape[0])\n",
    "# print(features[mask])"
   ]
  },
  {
   "cell_type": "markdown",
   "id": "34f6e27f",
   "metadata": {
    "papermill": {
     "duration": 0.031423,
     "end_time": "2022-12-06T10:59:12.935738",
     "exception": false,
     "start_time": "2022-12-06T10:59:12.904315",
     "status": "completed"
    },
    "tags": []
   },
   "source": [
    "Let's run RFECV with different estimators to select features. Additionally, let's run some classification models, to get intuition about which estimator and classification algorithm will give us the best results.\n",
    "\n",
    "After we chose the estimator and the model, we can check which features are selected and use GridSearchCV to find the best hyperparameters for the chosen model."
   ]
  },
  {
   "cell_type": "code",
   "execution_count": 50,
   "id": "f4ec6d3e",
   "metadata": {
    "execution": {
     "iopub.execute_input": "2022-12-06T10:59:13.001682Z",
     "iopub.status.busy": "2022-12-06T10:59:13.001248Z",
     "iopub.status.idle": "2022-12-06T10:59:13.277960Z",
     "shell.execute_reply": "2022-12-06T10:59:13.276574Z"
    },
    "papermill": {
     "duration": 0.313397,
     "end_time": "2022-12-06T10:59:13.280723",
     "exception": false,
     "start_time": "2022-12-06T10:59:12.967326",
     "status": "completed"
    },
    "tags": []
   },
   "outputs": [],
   "source": [
    "from sklearn.linear_model import LogisticRegression\n",
    "from sklearn.linear_model import Perceptron\n",
    "from sklearn.tree import DecisionTreeClassifier\n",
    "from sklearn.ensemble import RandomForestClassifier\n",
    "from sklearn.ensemble import GradientBoostingClassifier\n",
    "from sklearn.svm import SVC\n",
    "from sklearn.naive_bayes import GaussianNB\n",
    "from sklearn.neighbors import KNeighborsClassifier"
   ]
  },
  {
   "cell_type": "code",
   "execution_count": 51,
   "id": "59b1acae",
   "metadata": {
    "collapsed": true,
    "execution": {
     "iopub.execute_input": "2022-12-06T10:59:13.347422Z",
     "iopub.status.busy": "2022-12-06T10:59:13.346933Z",
     "iopub.status.idle": "2022-12-06T10:59:13.353139Z",
     "shell.execute_reply": "2022-12-06T10:59:13.352143Z"
    },
    "jupyter": {
     "outputs_hidden": true
    },
    "papermill": {
     "duration": 0.042117,
     "end_time": "2022-12-06T10:59:13.355536",
     "exception": false,
     "start_time": "2022-12-06T10:59:13.313419",
     "status": "completed"
    },
    "tags": []
   },
   "outputs": [],
   "source": [
    "# # get a list of models to evaluate\n",
    "# def get_models(modelc):\n",
    "#     models = dict()\n",
    "#     # lr\n",
    "#     rfe = RFECV(estimator=LogisticRegression())\n",
    "#     model = modelc\n",
    "#     models['lr'] = Pipeline(steps=[('s',rfe),('m',model)])\n",
    "#     # perceptron\n",
    "#     rfe = RFECV(estimator=Perceptron())\n",
    "#     model = modelc\n",
    "#     models['per'] = Pipeline(steps=[('s',rfe),('m',model)])\n",
    "#     # cart\n",
    "#     rfe = RFECV(estimator=DecisionTreeClassifier())\n",
    "#     model = modelc\n",
    "#     models['cart'] = Pipeline(steps=[('s',rfe),('m',model)])\n",
    "#     # rf\n",
    "#     rfe = RFECV(estimator=RandomForestClassifier())\n",
    "#     model = modelc\n",
    "#     models['rf'] = Pipeline(steps=[('s',rfe),('m',model)])\n",
    "#     # gbm\n",
    "#     rfe = RFECV(estimator=GradientBoostingClassifier())\n",
    "#     model = modelc\n",
    "#     models['gbm'] = Pipeline(steps=[('s',rfe),('m',model)])\n",
    "#     # svm\n",
    "#     rfe = RFECV(estimator=SVC(kernel='linear'))\n",
    "#     model = modelc\n",
    "#     models['svm'] = Pipeline(steps=[('s',rfe),('m',model)])\n",
    "#     return models\n",
    "\n",
    "# # evaluate a give model using cross-validation\n",
    "# def evaluate_model(model, X, y):\n",
    "#     cv = RepeatedStratifiedKFold(n_splits=10, n_repeats=3, random_state=1)\n",
    "#     scores = cross_val_score(model, X, y, scoring='accuracy', cv=cv, n_jobs=-1)\n",
    "#     return scores\n",
    "\n",
    "# models_dict = {'LR': LogisticRegression(random_state=0),\n",
    "#                'SVM': SVC(kernel='linear', random_state=0),\n",
    "#                'RF': RandomForestClassifier(),\n",
    "#                'KNN': KNeighborsClassifier(),\n",
    "#                'NB': GaussianNB()}\n",
    "\n",
    "# # get the models to evaluate\n",
    "# for i in models_dict.keys():\n",
    "#     print('\\n'+i+'\\n')\n",
    "#     models = get_models(models_dict[i])\n",
    "#     # evaluate the models and store results\n",
    "#     results, names = list(), list()\n",
    "#     for name, model in models.items():\n",
    "#         scores = evaluate_model(model, X_train, y_train)\n",
    "#         results.append(scores)\n",
    "#         names.append(name)\n",
    "#         print('>%s %.3f (%.3f)' % (name, np.mean(scores), np.std(scores)))"
   ]
  },
  {
   "cell_type": "markdown",
   "id": "6d9c5285",
   "metadata": {
    "papermill": {
     "duration": 0.031336,
     "end_time": "2022-12-06T10:59:13.418839",
     "exception": false,
     "start_time": "2022-12-06T10:59:13.387503",
     "status": "completed"
    },
    "tags": []
   },
   "source": [
    "O.K, let's continue with the two models with the highest accuracy score-\n",
    "- Random Forest + Random Forest as estimator in the RFECV (accuracy score = 0.8).\n",
    "- K-NN + Random Forest as estimator in the RFECV (accuracy score = 0.806).\n"
   ]
  },
  {
   "cell_type": "markdown",
   "id": "61f39500",
   "metadata": {
    "papermill": {
     "duration": 0.031343,
     "end_time": "2022-12-06T10:59:13.481687",
     "exception": false,
     "start_time": "2022-12-06T10:59:13.450344",
     "status": "completed"
    },
    "tags": []
   },
   "source": [
    "## **Random Forest**\n",
    "The feature that were selected:"
   ]
  },
  {
   "cell_type": "code",
   "execution_count": 52,
   "id": "1ea68790",
   "metadata": {
    "execution": {
     "iopub.execute_input": "2022-12-06T10:59:13.547139Z",
     "iopub.status.busy": "2022-12-06T10:59:13.546413Z",
     "iopub.status.idle": "2022-12-06T10:59:13.550783Z",
     "shell.execute_reply": "2022-12-06T10:59:13.549886Z"
    },
    "papermill": {
     "duration": 0.039727,
     "end_time": "2022-12-06T10:59:13.553014",
     "exception": false,
     "start_time": "2022-12-06T10:59:13.513287",
     "status": "completed"
    },
    "tags": []
   },
   "outputs": [],
   "source": [
    "# rf_rfe = RFECV(estimator=RandomForestClassifier())\n",
    "# rf_pipe = Pipeline(steps=[('s',rf_rfe),('m',RandomForestClassifier())])\n",
    "\n",
    "# X_new = rf_rfe.fit_transform(X_train, y_train)\n",
    "# print(\"Feature ranking: \", rf_rfe.ranking_)\n",
    "\n",
    "# mask = rf_rfe.get_support()\n",
    "# features = X.columns\n",
    "# best_features = features[mask]\n",
    "\n",
    "# # print(\"All features: \", x.shape[1])\n",
    "# # print(features)\n",
    "\n",
    "# print(\"Selected best: \", best_features.shape[0])\n",
    "# print(features[mask])"
   ]
  },
  {
   "cell_type": "code",
   "execution_count": 53,
   "id": "79e60fce",
   "metadata": {
    "execution": {
     "iopub.execute_input": "2022-12-06T10:59:13.619853Z",
     "iopub.status.busy": "2022-12-06T10:59:13.619147Z",
     "iopub.status.idle": "2022-12-06T10:59:13.623591Z",
     "shell.execute_reply": "2022-12-06T10:59:13.622467Z"
    },
    "papermill": {
     "duration": 0.040977,
     "end_time": "2022-12-06T10:59:13.626425",
     "exception": false,
     "start_time": "2022-12-06T10:59:13.585448",
     "status": "completed"
    },
    "tags": []
   },
   "outputs": [],
   "source": [
    "# X_train[:,mask]"
   ]
  },
  {
   "cell_type": "markdown",
   "id": "472a1dbc",
   "metadata": {
    "papermill": {
     "duration": 0.040888,
     "end_time": "2022-12-06T10:59:13.700087",
     "exception": false,
     "start_time": "2022-12-06T10:59:13.659199",
     "status": "completed"
    },
    "tags": []
   },
   "source": [
    "Evaluate the model"
   ]
  },
  {
   "cell_type": "code",
   "execution_count": 54,
   "id": "27f4e168",
   "metadata": {
    "execution": {
     "iopub.execute_input": "2022-12-06T10:59:13.771987Z",
     "iopub.status.busy": "2022-12-06T10:59:13.770825Z",
     "iopub.status.idle": "2022-12-06T10:59:13.776462Z",
     "shell.execute_reply": "2022-12-06T10:59:13.775335Z"
    },
    "papermill": {
     "duration": 0.042369,
     "end_time": "2022-12-06T10:59:13.779056",
     "exception": false,
     "start_time": "2022-12-06T10:59:13.736687",
     "status": "completed"
    },
    "tags": []
   },
   "outputs": [],
   "source": [
    "# # evaluate model\n",
    "# cv = RepeatedStratifiedKFold(n_splits=10, n_repeats=3, random_state=1)\n",
    "# n_scores = cross_val_score(rf_pipe, X_new, y_train, scoring='accuracy', cv=cv, error_score='raise')\n",
    "# # report performance\n",
    "# print('Accuracy: %.3f (%.3f)' % (np.mean(n_scores), np.std(n_scores)))"
   ]
  },
  {
   "cell_type": "markdown",
   "id": "c64e812a",
   "metadata": {
    "papermill": {
     "duration": 0.032772,
     "end_time": "2022-12-06T10:59:13.849160",
     "exception": false,
     "start_time": "2022-12-06T10:59:13.816388",
     "status": "completed"
    },
    "tags": []
   },
   "source": [
    "Find the best hyperparameters using GridSearchCV"
   ]
  },
  {
   "cell_type": "code",
   "execution_count": 55,
   "id": "77cdf8d7",
   "metadata": {
    "execution": {
     "iopub.execute_input": "2022-12-06T10:59:13.922937Z",
     "iopub.status.busy": "2022-12-06T10:59:13.922043Z",
     "iopub.status.idle": "2022-12-06T10:59:13.928190Z",
     "shell.execute_reply": "2022-12-06T10:59:13.927090Z"
    },
    "papermill": {
     "duration": 0.047743,
     "end_time": "2022-12-06T10:59:13.930776",
     "exception": false,
     "start_time": "2022-12-06T10:59:13.883033",
     "status": "completed"
    },
    "tags": []
   },
   "outputs": [],
   "source": [
    "# # Criterion\n",
    "# criterion = ['gini', 'entropy']\n",
    "# # Number of trees in random forest\n",
    "# n_estimators = [int(x) for x in np.linspace(start = 200, stop = 2000, num = 5)]\n",
    "# # Number of features to consider at every split\n",
    "# max_features = ['auto', 'sqrt']\n",
    "# # Maximum number of levels in tree\n",
    "# max_depth = [int(x) for x in np.linspace(10, 110, num = 11)]\n",
    "# max_depth.append(None)\n",
    "# # Minimum number of samples required to split a node\n",
    "# min_samples_split = [2, 5, 10]\n",
    "# # Minimum number of samples required at each leaf node\n",
    "# min_samples_leaf = [1, 2, 4]\n",
    "# # Method of selecting samples for training each tree\n",
    "# bootstrap = [True, False]\n",
    "\n",
    "# # Create the random grid\n",
    "# random_grid = {'m__criterion': criterion,\n",
    "#                'm__n_estimators': n_estimators,\n",
    "#                'm__max_features': max_features,\n",
    "#                'm__max_depth': max_depth,\n",
    "#                'm__min_samples_split': min_samples_split,\n",
    "#                'm__min_samples_leaf': min_samples_leaf,\n",
    "#                'm__bootstrap': bootstrap}"
   ]
  },
  {
   "cell_type": "code",
   "execution_count": 56,
   "id": "a5847103",
   "metadata": {
    "collapsed": true,
    "execution": {
     "iopub.execute_input": "2022-12-06T10:59:13.999913Z",
     "iopub.status.busy": "2022-12-06T10:59:13.998806Z",
     "iopub.status.idle": "2022-12-06T10:59:14.008125Z",
     "shell.execute_reply": "2022-12-06T10:59:14.006718Z"
    },
    "jupyter": {
     "outputs_hidden": true
    },
    "papermill": {
     "duration": 0.047229,
     "end_time": "2022-12-06T10:59:14.010905",
     "exception": false,
     "start_time": "2022-12-06T10:59:13.963676",
     "status": "completed"
    },
    "tags": []
   },
   "outputs": [
    {
     "data": {
      "text/plain": [
       "'#run very slow\\nrf_grid_search = GridSearchCV(rf_pipe,\\n                           param_grid = random_grid,\\n                           scoring = \\'accuracy\\',\\n                           cv = cv)\\nrf_grid_search.fit(X_new, y_train)\\nbest_accuracy = rf_grid_search.best_score_\\nbest_parameters = rf_grid_search.best_params_\\nprint(\"Best Accuracy: {:.2f} %\".format(best_accuracy*100))\\nprint(\"Best Parameters:\", best_parameters)'"
      ]
     },
     "execution_count": 56,
     "metadata": {},
     "output_type": "execute_result"
    }
   ],
   "source": [
    "'''#run very slow\n",
    "rf_grid_search = GridSearchCV(rf_pipe,\n",
    "                           param_grid = random_grid,\n",
    "                           scoring = 'accuracy',\n",
    "                           cv = cv)\n",
    "rf_grid_search.fit(X_new, y_train)\n",
    "best_accuracy = rf_grid_search.best_score_\n",
    "best_parameters = rf_grid_search.best_params_\n",
    "print(\"Best Accuracy: {:.2f} %\".format(best_accuracy*100))\n",
    "print(\"Best Parameters:\", best_parameters)'''"
   ]
  },
  {
   "cell_type": "code",
   "execution_count": 57,
   "id": "d90d4111",
   "metadata": {
    "collapsed": true,
    "execution": {
     "iopub.execute_input": "2022-12-06T10:59:14.089090Z",
     "iopub.status.busy": "2022-12-06T10:59:14.088244Z",
     "iopub.status.idle": "2022-12-06T10:59:14.093392Z",
     "shell.execute_reply": "2022-12-06T10:59:14.092399Z"
    },
    "jupyter": {
     "outputs_hidden": true
    },
    "papermill": {
     "duration": 0.046491,
     "end_time": "2022-12-06T10:59:14.096209",
     "exception": false,
     "start_time": "2022-12-06T10:59:14.049718",
     "status": "completed"
    },
    "tags": []
   },
   "outputs": [],
   "source": [
    "# rf_clf = RandomForestClassifier(n_estimators=2000, criterion='gini')\n",
    "# rf_clf.fit(X_new, y_train)\n",
    "# y_pred = rf_clf.predict(X_test[:,mask])\n",
    "# cm = confusion_matrix(y_test, y_pred)\n",
    "# print(cm)\n",
    "# accuracy_score(y_test, y_pred)"
   ]
  },
  {
   "cell_type": "code",
   "execution_count": 58,
   "id": "319825b1",
   "metadata": {
    "execution": {
     "iopub.execute_input": "2022-12-06T10:59:14.169382Z",
     "iopub.status.busy": "2022-12-06T10:59:14.168518Z",
     "iopub.status.idle": "2022-12-06T10:59:14.173573Z",
     "shell.execute_reply": "2022-12-06T10:59:14.172733Z"
    },
    "papermill": {
     "duration": 0.043728,
     "end_time": "2022-12-06T10:59:14.176026",
     "exception": false,
     "start_time": "2022-12-06T10:59:14.132298",
     "status": "completed"
    },
    "tags": []
   },
   "outputs": [],
   "source": [
    "# X_train[:,[0,1,2,4]]"
   ]
  },
  {
   "cell_type": "code",
   "execution_count": 59,
   "id": "897f73dd",
   "metadata": {
    "execution": {
     "iopub.execute_input": "2022-12-06T10:59:14.243956Z",
     "iopub.status.busy": "2022-12-06T10:59:14.243043Z",
     "iopub.status.idle": "2022-12-06T10:59:14.248089Z",
     "shell.execute_reply": "2022-12-06T10:59:14.247219Z"
    },
    "papermill": {
     "duration": 0.041213,
     "end_time": "2022-12-06T10:59:14.250511",
     "exception": false,
     "start_time": "2022-12-06T10:59:14.209298",
     "status": "completed"
    },
    "tags": []
   },
   "outputs": [],
   "source": [
    "# X_new"
   ]
  },
  {
   "cell_type": "markdown",
   "id": "ec00c244",
   "metadata": {
    "papermill": {
     "duration": 0.0326,
     "end_time": "2022-12-06T10:59:14.315250",
     "exception": false,
     "start_time": "2022-12-06T10:59:14.282650",
     "status": "completed"
    },
    "tags": []
   },
   "source": [
    "Predict the test set"
   ]
  },
  {
   "cell_type": "code",
   "execution_count": 60,
   "id": "e8d63c9c",
   "metadata": {
    "execution": {
     "iopub.execute_input": "2022-12-06T10:59:14.381808Z",
     "iopub.status.busy": "2022-12-06T10:59:14.381385Z",
     "iopub.status.idle": "2022-12-06T10:59:14.388439Z",
     "shell.execute_reply": "2022-12-06T10:59:14.387205Z"
    },
    "papermill": {
     "duration": 0.043182,
     "end_time": "2022-12-06T10:59:14.390893",
     "exception": false,
     "start_time": "2022-12-06T10:59:14.347711",
     "status": "completed"
    },
    "tags": []
   },
   "outputs": [
    {
     "data": {
      "text/plain": [
       "'\\n# The next step:\\nrf_pred = rf_pipe.predict(X_test)\\ncm = confusion_matrix(y_test, rf_pred)\\nprint(cm)\\naccuracy_score(y_test, rf_pred)\\n'"
      ]
     },
     "execution_count": 60,
     "metadata": {},
     "output_type": "execute_result"
    }
   ],
   "source": [
    "'''\n",
    "# The next step:\n",
    "rf_pred = rf_pipe.predict(X_test)\n",
    "cm = confusion_matrix(y_test, rf_pred)\n",
    "print(cm)\n",
    "accuracy_score(y_test, rf_pred)\n",
    "'''"
   ]
  },
  {
   "cell_type": "markdown",
   "id": "67ff8579",
   "metadata": {
    "papermill": {
     "duration": 0.031852,
     "end_time": "2022-12-06T10:59:14.455644",
     "exception": false,
     "start_time": "2022-12-06T10:59:14.423792",
     "status": "completed"
    },
    "tags": []
   },
   "source": [
    "## **K-NN**"
   ]
  },
  {
   "cell_type": "code",
   "execution_count": 61,
   "id": "0ee1250b",
   "metadata": {
    "execution": {
     "iopub.execute_input": "2022-12-06T10:59:14.523009Z",
     "iopub.status.busy": "2022-12-06T10:59:14.522210Z",
     "iopub.status.idle": "2022-12-06T10:59:14.527449Z",
     "shell.execute_reply": "2022-12-06T10:59:14.526580Z"
    },
    "papermill": {
     "duration": 0.041656,
     "end_time": "2022-12-06T10:59:14.529818",
     "exception": false,
     "start_time": "2022-12-06T10:59:14.488162",
     "status": "completed"
    },
    "tags": []
   },
   "outputs": [],
   "source": [
    "# knn_rfe = RFECV(estimator=RandomForestClassifier())\n",
    "# knn_pipe = Pipeline(steps=[('s',knn_rfe),('m',KNeighborsClassifier())])\n",
    "\n",
    "# X_new_knn = knn_rfe.fit_transform(X_train, y_train)\n",
    "# print(\"Feature ranking: \", rf_rfe.ranking_)\n",
    "\n",
    "# mask = knn_rfe.get_support()\n",
    "# features = X.columns\n",
    "# best_features = features[mask]\n",
    "\n",
    "# # print(\"All features: \", x.shape[1])\n",
    "# # print(features)\n",
    "\n",
    "# print(\"Selected best: \", best_features.shape[0])\n",
    "# print(features[mask])"
   ]
  },
  {
   "cell_type": "code",
   "execution_count": 62,
   "id": "33c12734",
   "metadata": {
    "execution": {
     "iopub.execute_input": "2022-12-06T10:59:14.598833Z",
     "iopub.status.busy": "2022-12-06T10:59:14.598039Z",
     "iopub.status.idle": "2022-12-06T10:59:14.602995Z",
     "shell.execute_reply": "2022-12-06T10:59:14.602064Z"
    },
    "papermill": {
     "duration": 0.04102,
     "end_time": "2022-12-06T10:59:14.605393",
     "exception": false,
     "start_time": "2022-12-06T10:59:14.564373",
     "status": "completed"
    },
    "tags": []
   },
   "outputs": [],
   "source": [
    "# cv = RepeatedStratifiedKFold(n_splits=10, n_repeats=3, random_state=1)\n",
    "# n_scores = cross_val_score(knn_pipe, X_new_knn, y_train, scoring='accuracy', cv=cv, error_score='raise')\n",
    "# # report performance\n",
    "# print('Accuracy: %.3f (%.3f)' % (np.mean(n_scores), np.std(n_scores)))"
   ]
  },
  {
   "cell_type": "code",
   "execution_count": 63,
   "id": "c3e83f71",
   "metadata": {
    "execution": {
     "iopub.execute_input": "2022-12-06T10:59:14.674117Z",
     "iopub.status.busy": "2022-12-06T10:59:14.673255Z",
     "iopub.status.idle": "2022-12-06T10:59:14.678887Z",
     "shell.execute_reply": "2022-12-06T10:59:14.677934Z"
    },
    "papermill": {
     "duration": 0.042093,
     "end_time": "2022-12-06T10:59:14.681370",
     "exception": false,
     "start_time": "2022-12-06T10:59:14.639277",
     "status": "completed"
    },
    "tags": []
   },
   "outputs": [],
   "source": [
    "# # Number of neighbors\n",
    "# n_neighbors = [21]\n",
    "# # Weight function used in prediction\n",
    "# weights = ['uniform']\n",
    "# # Algorithm used to compute the nearest neighbors\n",
    "# algorithm = ['auto', 'ball_tree', 'kd_tree', 'brute']\n",
    "# # Euclidean distance\n",
    "# metric = ['minkowski']\n",
    "# p = [2]\n",
    "\n",
    "# # Create the knn hyperparameters grid\n",
    "# knn_grid = {'m__n_neighbors': n_neighbors,\n",
    "#                'm__weights': weights,\n",
    "#                'm__algorithm': algorithm,\n",
    "#                'm__metric': metric,\n",
    "#                'm__p': p}"
   ]
  },
  {
   "cell_type": "code",
   "execution_count": 64,
   "id": "bdec2d4e",
   "metadata": {
    "collapsed": true,
    "execution": {
     "iopub.execute_input": "2022-12-06T10:59:14.749911Z",
     "iopub.status.busy": "2022-12-06T10:59:14.748972Z",
     "iopub.status.idle": "2022-12-06T10:59:14.757008Z",
     "shell.execute_reply": "2022-12-06T10:59:14.755835Z"
    },
    "jupyter": {
     "outputs_hidden": true
    },
    "papermill": {
     "duration": 0.04571,
     "end_time": "2022-12-06T10:59:14.759508",
     "exception": false,
     "start_time": "2022-12-06T10:59:14.713798",
     "status": "completed"
    },
    "tags": []
   },
   "outputs": [
    {
     "data": {
      "text/plain": [
       "' # run very slow\\nknn_grid_search = GridSearchCV(knn_pipe,\\n                           param_grid = knn_grid,\\n                           scoring = \\'accuracy\\',\\n                           cv = cv)\\nrf_grid_search.fit(X_new_knn, y_train)\\nbest_accuracy = knn_grid_search.best_score_\\nbest_parameters = knn_grid_search.best_params_\\nprint(\"Best Accuracy: {:.2f} %\".format(best_accuracy*100))\\nprint(\"Best Parameters:\", best_parameters)\\n'"
      ]
     },
     "execution_count": 64,
     "metadata": {},
     "output_type": "execute_result"
    }
   ],
   "source": [
    "''' # run very slow\n",
    "knn_grid_search = GridSearchCV(knn_pipe,\n",
    "                           param_grid = knn_grid,\n",
    "                           scoring = 'accuracy',\n",
    "                           cv = cv)\n",
    "rf_grid_search.fit(X_new_knn, y_train)\n",
    "best_accuracy = knn_grid_search.best_score_\n",
    "best_parameters = knn_grid_search.best_params_\n",
    "print(\"Best Accuracy: {:.2f} %\".format(best_accuracy*100))\n",
    "print(\"Best Parameters:\", best_parameters)\n",
    "'''"
   ]
  },
  {
   "cell_type": "code",
   "execution_count": 65,
   "id": "9eb104b9",
   "metadata": {
    "execution": {
     "iopub.execute_input": "2022-12-06T10:59:14.828826Z",
     "iopub.status.busy": "2022-12-06T10:59:14.828352Z",
     "iopub.status.idle": "2022-12-06T10:59:14.835783Z",
     "shell.execute_reply": "2022-12-06T10:59:14.834560Z"
    },
    "papermill": {
     "duration": 0.044869,
     "end_time": "2022-12-06T10:59:14.838253",
     "exception": false,
     "start_time": "2022-12-06T10:59:14.793384",
     "status": "completed"
    },
    "tags": []
   },
   "outputs": [
    {
     "data": {
      "text/plain": [
       "'knn_pred = knn_pipe.predict(X_test[mask])\\ncm = confusion_matrix(y_test, knn_pred)\\nprint(cm)\\naccuracy_score(y_test, knn_pred)'"
      ]
     },
     "execution_count": 65,
     "metadata": {},
     "output_type": "execute_result"
    }
   ],
   "source": [
    "'''knn_pred = knn_pipe.predict(X_test[mask])\n",
    "cm = confusion_matrix(y_test, knn_pred)\n",
    "print(cm)\n",
    "accuracy_score(y_test, knn_pred)'''"
   ]
  },
  {
   "cell_type": "code",
   "execution_count": null,
   "id": "6981a27c",
   "metadata": {
    "papermill": {
     "duration": 0.03213,
     "end_time": "2022-12-06T10:59:14.902690",
     "exception": false,
     "start_time": "2022-12-06T10:59:14.870560",
     "status": "completed"
    },
    "tags": []
   },
   "outputs": [],
   "source": []
  },
  {
   "cell_type": "markdown",
   "id": "02ba7646",
   "metadata": {
    "papermill": {
     "duration": 0.031811,
     "end_time": "2022-12-06T10:59:14.966663",
     "exception": false,
     "start_time": "2022-12-06T10:59:14.934852",
     "status": "completed"
    },
    "tags": []
   },
   "source": [
    "## **Model Selection**"
   ]
  },
  {
   "cell_type": "markdown",
   "id": "856e8dae",
   "metadata": {
    "papermill": {
     "duration": 0.031878,
     "end_time": "2022-12-06T10:59:15.030602",
     "exception": false,
     "start_time": "2022-12-06T10:59:14.998724",
     "status": "completed"
    },
    "tags": []
   },
   "source": [
    "To find the best model with the best parameters, let's use cross validation and grid search."
   ]
  },
  {
   "cell_type": "code",
   "execution_count": 66,
   "id": "d156c544",
   "metadata": {
    "execution": {
     "iopub.execute_input": "2022-12-06T10:59:15.099816Z",
     "iopub.status.busy": "2022-12-06T10:59:15.098434Z",
     "iopub.status.idle": "2022-12-06T10:59:15.104023Z",
     "shell.execute_reply": "2022-12-06T10:59:15.103073Z"
    },
    "papermill": {
     "duration": 0.042126,
     "end_time": "2022-12-06T10:59:15.106434",
     "exception": false,
     "start_time": "2022-12-06T10:59:15.064308",
     "status": "completed"
    },
    "tags": []
   },
   "outputs": [],
   "source": [
    "# models_accuracy_scores = {}\n",
    "# best_params = {}"
   ]
  },
  {
   "cell_type": "markdown",
   "id": "074c7a3c",
   "metadata": {
    "papermill": {
     "duration": 0.033573,
     "end_time": "2022-12-06T10:59:15.172747",
     "exception": false,
     "start_time": "2022-12-06T10:59:15.139174",
     "status": "completed"
    },
    "tags": []
   },
   "source": [
    "## **Logistic Regression**"
   ]
  },
  {
   "cell_type": "markdown",
   "id": "fceefba2",
   "metadata": {
    "papermill": {
     "duration": 0.034186,
     "end_time": "2022-12-06T10:59:15.239426",
     "exception": false,
     "start_time": "2022-12-06T10:59:15.205240",
     "status": "completed"
    },
    "tags": []
   },
   "source": [
    "Training the Logistic Regression model on the Training set"
   ]
  },
  {
   "cell_type": "code",
   "execution_count": 67,
   "id": "919036f0",
   "metadata": {
    "execution": {
     "iopub.execute_input": "2022-12-06T10:59:15.307015Z",
     "iopub.status.busy": "2022-12-06T10:59:15.306571Z",
     "iopub.status.idle": "2022-12-06T10:59:15.312056Z",
     "shell.execute_reply": "2022-12-06T10:59:15.310702Z"
    },
    "papermill": {
     "duration": 0.042361,
     "end_time": "2022-12-06T10:59:15.314718",
     "exception": false,
     "start_time": "2022-12-06T10:59:15.272357",
     "status": "completed"
    },
    "tags": []
   },
   "outputs": [],
   "source": [
    "# logistic_classifier = LogisticRegression(random_state=0)\n",
    "# logistic_classifier.fit(X_train, y_train)"
   ]
  },
  {
   "cell_type": "markdown",
   "id": "3d33ee16",
   "metadata": {
    "papermill": {
     "duration": 0.032349,
     "end_time": "2022-12-06T10:59:15.380329",
     "exception": false,
     "start_time": "2022-12-06T10:59:15.347980",
     "status": "completed"
    },
    "tags": []
   },
   "source": [
    "Making the Confusion Matrix"
   ]
  },
  {
   "cell_type": "code",
   "execution_count": 68,
   "id": "205a97bb",
   "metadata": {
    "execution": {
     "iopub.execute_input": "2022-12-06T10:59:15.449969Z",
     "iopub.status.busy": "2022-12-06T10:59:15.449225Z",
     "iopub.status.idle": "2022-12-06T10:59:15.453765Z",
     "shell.execute_reply": "2022-12-06T10:59:15.452600Z"
    },
    "papermill": {
     "duration": 0.042922,
     "end_time": "2022-12-06T10:59:15.456253",
     "exception": false,
     "start_time": "2022-12-06T10:59:15.413331",
     "status": "completed"
    },
    "tags": []
   },
   "outputs": [],
   "source": [
    "# y_pred = logistic_classifier.predict(X_test)\n",
    "# cm = confusion_matrix(y_test, y_pred)\n",
    "# print(cm)\n",
    "# accuracy_score(y_test, y_pred)"
   ]
  },
  {
   "cell_type": "markdown",
   "id": "0691c0c6",
   "metadata": {
    "papermill": {
     "duration": 0.032055,
     "end_time": "2022-12-06T10:59:15.520771",
     "exception": false,
     "start_time": "2022-12-06T10:59:15.488716",
     "status": "completed"
    },
    "tags": []
   },
   "source": [
    "Feature Selection"
   ]
  },
  {
   "cell_type": "code",
   "execution_count": 69,
   "id": "db6cd515",
   "metadata": {
    "execution": {
     "iopub.execute_input": "2022-12-06T10:59:15.588518Z",
     "iopub.status.busy": "2022-12-06T10:59:15.588074Z",
     "iopub.status.idle": "2022-12-06T10:59:15.593149Z",
     "shell.execute_reply": "2022-12-06T10:59:15.592043Z"
    },
    "papermill": {
     "duration": 0.041946,
     "end_time": "2022-12-06T10:59:15.595278",
     "exception": false,
     "start_time": "2022-12-06T10:59:15.553332",
     "status": "completed"
    },
    "tags": []
   },
   "outputs": [],
   "source": [
    "# from sklearn.tree import DecisionTreeClassifier\n",
    "# # create pipeline\n",
    "# rfe = RFECV(estimator=LogisticRegression())\n",
    "# model = LogisticRegression()\n",
    "# pipeline = Pipeline(steps=[('s',rfe),('m',model)])\n",
    "# # evaluate model\n",
    "# cv = RepeatedStratifiedKFold(n_splits=10, n_repeats=1, random_state=1)\n",
    "# n_scores = cross_val_score(pipeline, X_train, y_train, scoring='accuracy', cv=cv, error_score='raise')\n",
    "# # report performance\n",
    "# print('Accuracy: %.3f (%.3f)' % (np.mean(n_scores), np.std(n_scores)))"
   ]
  },
  {
   "cell_type": "code",
   "execution_count": 70,
   "id": "157c3405",
   "metadata": {
    "execution": {
     "iopub.execute_input": "2022-12-06T10:59:15.665882Z",
     "iopub.status.busy": "2022-12-06T10:59:15.664584Z",
     "iopub.status.idle": "2022-12-06T10:59:15.670259Z",
     "shell.execute_reply": "2022-12-06T10:59:15.669034Z"
    },
    "papermill": {
     "duration": 0.043713,
     "end_time": "2022-12-06T10:59:15.672865",
     "exception": false,
     "start_time": "2022-12-06T10:59:15.629152",
     "status": "completed"
    },
    "tags": []
   },
   "outputs": [],
   "source": [
    "# rfe.fit(X_train, y_train)\n",
    "# mask = rfe.get_support()\n",
    "# features = X.columns\n",
    "# best_features = features[mask]\n",
    " \n",
    "# print(\"All features: \", X.shape[1])\n",
    "# print(features)\n",
    "\n",
    "# print(\"Selected best: \", best_features.shape[0])\n",
    "# print(features[mask])"
   ]
  },
  {
   "cell_type": "code",
   "execution_count": 71,
   "id": "1c7c7301",
   "metadata": {
    "execution": {
     "iopub.execute_input": "2022-12-06T10:59:15.740874Z",
     "iopub.status.busy": "2022-12-06T10:59:15.740409Z",
     "iopub.status.idle": "2022-12-06T10:59:15.745161Z",
     "shell.execute_reply": "2022-12-06T10:59:15.743946Z"
    },
    "papermill": {
     "duration": 0.041882,
     "end_time": "2022-12-06T10:59:15.747875",
     "exception": false,
     "start_time": "2022-12-06T10:59:15.705993",
     "status": "completed"
    },
    "tags": []
   },
   "outputs": [],
   "source": [
    "# model.fit(X_new, y_train)\n",
    "# pip_pred = pipeline.predict(X_test)\n",
    "# cm = confusion_matrix(y_test, pip_pred)\n",
    "# print(cm)\n",
    "# accuracy_score(y_test, pip_pred)"
   ]
  },
  {
   "cell_type": "markdown",
   "id": "7b14dfc3",
   "metadata": {
    "papermill": {
     "duration": 0.032446,
     "end_time": "2022-12-06T10:59:15.813278",
     "exception": false,
     "start_time": "2022-12-06T10:59:15.780832",
     "status": "completed"
    },
    "tags": []
   },
   "source": [
    "Applying k-Fold Cross Validation"
   ]
  },
  {
   "cell_type": "code",
   "execution_count": 72,
   "id": "09a3c2ba",
   "metadata": {
    "execution": {
     "iopub.execute_input": "2022-12-06T10:59:15.882873Z",
     "iopub.status.busy": "2022-12-06T10:59:15.882367Z",
     "iopub.status.idle": "2022-12-06T10:59:15.887403Z",
     "shell.execute_reply": "2022-12-06T10:59:15.886105Z"
    },
    "papermill": {
     "duration": 0.04329,
     "end_time": "2022-12-06T10:59:15.890161",
     "exception": false,
     "start_time": "2022-12-06T10:59:15.846871",
     "status": "completed"
    },
    "tags": []
   },
   "outputs": [],
   "source": [
    "# accuracies = cross_val_score(estimator = logistic_classifier, X = X_train, y = y_train, cv = 10)\n",
    "# print(\"Accuracy: {:.2f} %\".format(accuracies.mean()*100))\n",
    "# print(\"Standard Deviation: {:.2f} %\".format(accuracies.std()*100))"
   ]
  },
  {
   "cell_type": "markdown",
   "id": "42f85957",
   "metadata": {
    "papermill": {
     "duration": 0.033175,
     "end_time": "2022-12-06T10:59:15.957516",
     "exception": false,
     "start_time": "2022-12-06T10:59:15.924341",
     "status": "completed"
    },
    "tags": []
   },
   "source": [
    "Applying Grid Search to find the best model and the best parameters"
   ]
  },
  {
   "cell_type": "code",
   "execution_count": 73,
   "id": "17de5508",
   "metadata": {
    "execution": {
     "iopub.execute_input": "2022-12-06T10:59:16.026520Z",
     "iopub.status.busy": "2022-12-06T10:59:16.026047Z",
     "iopub.status.idle": "2022-12-06T10:59:16.031336Z",
     "shell.execute_reply": "2022-12-06T10:59:16.030329Z"
    },
    "papermill": {
     "duration": 0.043438,
     "end_time": "2022-12-06T10:59:16.033761",
     "exception": false,
     "start_time": "2022-12-06T10:59:15.990323",
     "status": "completed"
    },
    "tags": []
   },
   "outputs": [],
   "source": [
    "# parameters = [{'C': [0.01, 0.1, 0.15, 0.25, 0.5, 0.75, 1], 'penalty': ['l2'], 'solver': ['newton-cg', 'lbfgs', 'sag', 'saga']},\n",
    "#               {'penalty': ['none'], 'solver': ['newton-cg', 'lbfgs', 'sag', 'saga']},\n",
    "#               {'C': [0.01, 0.1, 0.15,  0.25, 0.5, 0.75, 1], 'penalty': ['l2', 'l1'], 'solver': ['liblinear', 'saga']},\n",
    "#               {'C': [0.01, 0.1, 0.15, 0.25, 0.5, 0.75, 1], 'penalty': ['elasticnet'], 'solver': ['saga'], 'l1_ratio': [0.25, 0.5, 0.75]}]\n",
    "\n",
    "# grid_search = GridSearchCV(estimator = logistic_classifier,\n",
    "#                            param_grid = parameters,\n",
    "#                            scoring = 'accuracy',\n",
    "#                            cv = 10)\n",
    "# grid_search.fit(X_train, y_train)\n",
    "# best_accuracy = grid_search.best_score_\n",
    "# best_parameters = grid_search.best_params_\n",
    "# print(\"Best Accuracy: {:.2f} %\".format(best_accuracy*100))\n",
    "# print(\"Best Parameters:\", best_parameters)"
   ]
  },
  {
   "cell_type": "code",
   "execution_count": 74,
   "id": "fa5b5360",
   "metadata": {
    "execution": {
     "iopub.execute_input": "2022-12-06T10:59:16.103056Z",
     "iopub.status.busy": "2022-12-06T10:59:16.102260Z",
     "iopub.status.idle": "2022-12-06T10:59:16.106650Z",
     "shell.execute_reply": "2022-12-06T10:59:16.105557Z"
    },
    "papermill": {
     "duration": 0.040884,
     "end_time": "2022-12-06T10:59:16.108856",
     "exception": false,
     "start_time": "2022-12-06T10:59:16.067972",
     "status": "completed"
    },
    "tags": []
   },
   "outputs": [],
   "source": [
    "# grid_pred = grid_search.predict(X_test)\n",
    "# accuracy_score(y_test, grid_pred)"
   ]
  },
  {
   "cell_type": "code",
   "execution_count": 75,
   "id": "765fd556",
   "metadata": {
    "execution": {
     "iopub.execute_input": "2022-12-06T10:59:16.176186Z",
     "iopub.status.busy": "2022-12-06T10:59:16.175723Z",
     "iopub.status.idle": "2022-12-06T10:59:16.180784Z",
     "shell.execute_reply": "2022-12-06T10:59:16.179497Z"
    },
    "papermill": {
     "duration": 0.041376,
     "end_time": "2022-12-06T10:59:16.183168",
     "exception": false,
     "start_time": "2022-12-06T10:59:16.141792",
     "status": "completed"
    },
    "tags": []
   },
   "outputs": [],
   "source": [
    "# grid_search"
   ]
  },
  {
   "cell_type": "code",
   "execution_count": 76,
   "id": "d57619aa",
   "metadata": {
    "execution": {
     "iopub.execute_input": "2022-12-06T10:59:16.249900Z",
     "iopub.status.busy": "2022-12-06T10:59:16.249425Z",
     "iopub.status.idle": "2022-12-06T10:59:16.254500Z",
     "shell.execute_reply": "2022-12-06T10:59:16.253496Z"
    },
    "papermill": {
     "duration": 0.041149,
     "end_time": "2022-12-06T10:59:16.256927",
     "exception": false,
     "start_time": "2022-12-06T10:59:16.215778",
     "status": "completed"
    },
    "tags": []
   },
   "outputs": [],
   "source": [
    "# models_accuracy_scores[\"Logistic Regression\"] = [logistic_score, logistic_std]"
   ]
  },
  {
   "cell_type": "markdown",
   "id": "ea4b7b98",
   "metadata": {
    "papermill": {
     "duration": 0.032644,
     "end_time": "2022-12-06T10:59:16.323100",
     "exception": false,
     "start_time": "2022-12-06T10:59:16.290456",
     "status": "completed"
    },
    "tags": []
   },
   "source": [
    "## **K-NN**"
   ]
  },
  {
   "cell_type": "code",
   "execution_count": 77,
   "id": "fd731a60",
   "metadata": {
    "execution": {
     "iopub.execute_input": "2022-12-06T10:59:16.391670Z",
     "iopub.status.busy": "2022-12-06T10:59:16.390496Z",
     "iopub.status.idle": "2022-12-06T10:59:16.398137Z",
     "shell.execute_reply": "2022-12-06T10:59:16.396946Z"
    },
    "papermill": {
     "duration": 0.044629,
     "end_time": "2022-12-06T10:59:16.400549",
     "exception": false,
     "start_time": "2022-12-06T10:59:16.355920",
     "status": "completed"
    },
    "tags": []
   },
   "outputs": [
    {
     "data": {
      "text/plain": [
       "\"# search for an optimal value of k for K-NN\\nfrom sklearn.neighbors import KNeighborsClassifier\\nk_range = range(1,31)\\nk_scores = []\\nfor k in k_range:\\n    knn = KNeighborsClassifier(n_neighbors=k, metric='minkowski', p=2)\\n    scores = cross_val_score(knn, X_new_knn, y_train, cv = cv, scoring = 'accuracy')\\n    k_scores.append(scores.mean())\\nprint(k_scores)\""
      ]
     },
     "execution_count": 77,
     "metadata": {},
     "output_type": "execute_result"
    }
   ],
   "source": [
    "'''# search for an optimal value of k for K-NN\n",
    "from sklearn.neighbors import KNeighborsClassifier\n",
    "k_range = range(1,31)\n",
    "k_scores = []\n",
    "for k in k_range:\n",
    "    knn = KNeighborsClassifier(n_neighbors=k, metric='minkowski', p=2)\n",
    "    scores = cross_val_score(knn, X_new_knn, y_train, cv = cv, scoring = 'accuracy')\n",
    "    k_scores.append(scores.mean())\n",
    "print(k_scores)'''"
   ]
  },
  {
   "cell_type": "code",
   "execution_count": 78,
   "id": "db9e8973",
   "metadata": {
    "execution": {
     "iopub.execute_input": "2022-12-06T10:59:16.468283Z",
     "iopub.status.busy": "2022-12-06T10:59:16.467824Z",
     "iopub.status.idle": "2022-12-06T10:59:16.474253Z",
     "shell.execute_reply": "2022-12-06T10:59:16.473405Z"
    },
    "papermill": {
     "duration": 0.042851,
     "end_time": "2022-12-06T10:59:16.476508",
     "exception": false,
     "start_time": "2022-12-06T10:59:16.433657",
     "status": "completed"
    },
    "tags": []
   },
   "outputs": [
    {
     "data": {
      "text/plain": [
       "\"# plot the value of k for K-NN (x axis) versus the cross-validated accuracy (y axis)\\nplt.plot(k_range, k_scores)\\nplt.xlabel('Value of k')\\nplt.ylabel('Cross-Validated Accuracy')\""
      ]
     },
     "execution_count": 78,
     "metadata": {},
     "output_type": "execute_result"
    }
   ],
   "source": [
    "'''# plot the value of k for K-NN (x axis) versus the cross-validated accuracy (y axis)\n",
    "plt.plot(k_range, k_scores)\n",
    "plt.xlabel('Value of k')\n",
    "plt.ylabel('Cross-Validated Accuracy')'''"
   ]
  },
  {
   "cell_type": "code",
   "execution_count": 79,
   "id": "800f6164",
   "metadata": {
    "execution": {
     "iopub.execute_input": "2022-12-06T10:59:16.544862Z",
     "iopub.status.busy": "2022-12-06T10:59:16.544140Z",
     "iopub.status.idle": "2022-12-06T10:59:16.550222Z",
     "shell.execute_reply": "2022-12-06T10:59:16.549094Z"
    },
    "papermill": {
     "duration": 0.04322,
     "end_time": "2022-12-06T10:59:16.552782",
     "exception": false,
     "start_time": "2022-12-06T10:59:16.509562",
     "status": "completed"
    },
    "tags": []
   },
   "outputs": [
    {
     "data": {
      "text/plain": [
       "'k_scores.index(max(k_scores))'"
      ]
     },
     "execution_count": 79,
     "metadata": {},
     "output_type": "execute_result"
    }
   ],
   "source": [
    "'''k_scores.index(max(k_scores))'''"
   ]
  },
  {
   "cell_type": "markdown",
   "id": "572fa420",
   "metadata": {
    "papermill": {
     "duration": 0.032505,
     "end_time": "2022-12-06T10:59:16.619776",
     "exception": false,
     "start_time": "2022-12-06T10:59:16.587271",
     "status": "completed"
    },
    "tags": []
   },
   "source": [
    "The optimal value of k is 27 with 0.786729 accuracy score"
   ]
  },
  {
   "cell_type": "code",
   "execution_count": 80,
   "id": "c607c245",
   "metadata": {
    "execution": {
     "iopub.execute_input": "2022-12-06T10:59:16.687399Z",
     "iopub.status.busy": "2022-12-06T10:59:16.686682Z",
     "iopub.status.idle": "2022-12-06T10:59:16.692450Z",
     "shell.execute_reply": "2022-12-06T10:59:16.691651Z"
    },
    "papermill": {
     "duration": 0.042203,
     "end_time": "2022-12-06T10:59:16.694644",
     "exception": false,
     "start_time": "2022-12-06T10:59:16.652441",
     "status": "completed"
    },
    "tags": []
   },
   "outputs": [
    {
     "data": {
      "text/plain": [
       "'knn_classifier = KNeighborsClassifier(n_neighbors=26, metric=\\'minkowski\\', p=2)\\nknn_accuracies = cross_val_score(knn_classifier, X, y, cv = 10, scoring = \\'accuracy\\')\\nknn_score = knn_accuracies.mean()\\nknn_std = knn_accuracies.std()\\nprint(knn_score)\\nmodels_accuracy_scores[\"K-NN\"] = [knn_score, knn_std]'"
      ]
     },
     "execution_count": 80,
     "metadata": {},
     "output_type": "execute_result"
    }
   ],
   "source": [
    "'''knn_classifier = KNeighborsClassifier(n_neighbors=26, metric='minkowski', p=2)\n",
    "knn_accuracies = cross_val_score(knn_classifier, X, y, cv = 10, scoring = 'accuracy')\n",
    "knn_score = knn_accuracies.mean()\n",
    "knn_std = knn_accuracies.std()\n",
    "print(knn_score)\n",
    "models_accuracy_scores[\"K-NN\"] = [knn_score, knn_std]'''"
   ]
  },
  {
   "cell_type": "markdown",
   "id": "f4993c62",
   "metadata": {
    "papermill": {
     "duration": 0.033315,
     "end_time": "2022-12-06T10:59:16.763044",
     "exception": false,
     "start_time": "2022-12-06T10:59:16.729729",
     "status": "completed"
    },
    "tags": []
   },
   "source": [
    "## **SVM**"
   ]
  },
  {
   "cell_type": "code",
   "execution_count": 81,
   "id": "accace37",
   "metadata": {
    "execution": {
     "iopub.execute_input": "2022-12-06T10:59:16.833752Z",
     "iopub.status.busy": "2022-12-06T10:59:16.833205Z",
     "iopub.status.idle": "2022-12-06T10:59:16.838099Z",
     "shell.execute_reply": "2022-12-06T10:59:16.836974Z"
    },
    "papermill": {
     "duration": 0.043783,
     "end_time": "2022-12-06T10:59:16.840692",
     "exception": false,
     "start_time": "2022-12-06T10:59:16.796909",
     "status": "completed"
    },
    "tags": []
   },
   "outputs": [],
   "source": [
    "# from sklearn.svm import SVC\n",
    "# svm_classifier = SVC(kernel='linear', random_state=0)\n",
    "# svm_accuracies = cross_val_score(svm_classifier, X, y, cv = 10, scoring = 'accuracy')\n",
    "# svm_score = svm_accuracies.mean()\n",
    "# svm_std = svm_accuracies.std()\n",
    "# models_accuracy_scores[\"SVM\"] = [svm_score, svm_std]"
   ]
  },
  {
   "cell_type": "code",
   "execution_count": 82,
   "id": "c659023e",
   "metadata": {
    "execution": {
     "iopub.execute_input": "2022-12-06T10:59:16.909429Z",
     "iopub.status.busy": "2022-12-06T10:59:16.908985Z",
     "iopub.status.idle": "2022-12-06T10:59:16.914346Z",
     "shell.execute_reply": "2022-12-06T10:59:16.912984Z"
    },
    "papermill": {
     "duration": 0.042617,
     "end_time": "2022-12-06T10:59:16.917072",
     "exception": false,
     "start_time": "2022-12-06T10:59:16.874455",
     "status": "completed"
    },
    "tags": []
   },
   "outputs": [],
   "source": [
    "# models_accuracy_scores"
   ]
  },
  {
   "cell_type": "markdown",
   "id": "d5b025ea",
   "metadata": {
    "papermill": {
     "duration": 0.032954,
     "end_time": "2022-12-06T10:59:16.983772",
     "exception": false,
     "start_time": "2022-12-06T10:59:16.950818",
     "status": "completed"
    },
    "tags": []
   },
   "source": [
    "## **Naive Bayes**"
   ]
  },
  {
   "cell_type": "code",
   "execution_count": 83,
   "id": "3f44921e",
   "metadata": {
    "execution": {
     "iopub.execute_input": "2022-12-06T10:59:17.054911Z",
     "iopub.status.busy": "2022-12-06T10:59:17.054113Z",
     "iopub.status.idle": "2022-12-06T10:59:17.058814Z",
     "shell.execute_reply": "2022-12-06T10:59:17.057672Z"
    },
    "papermill": {
     "duration": 0.043452,
     "end_time": "2022-12-06T10:59:17.061038",
     "exception": false,
     "start_time": "2022-12-06T10:59:17.017586",
     "status": "completed"
    },
    "tags": []
   },
   "outputs": [],
   "source": [
    "# from sklearn.naive_bayes import GaussianNB\n",
    "# nb_classifier = GaussianNB()\n",
    "# nb_accuracies = cross_val_score(nb_classifier, X, y, cv = 10, scoring = 'accuracy')\n",
    "# nb_score = nb_accuracies.mean()\n",
    "# nb_std = nb_accuracies.std()\n",
    "# models_accuracy_scores[\"Naive Bayes\"] = [nb_score, nb_std]"
   ]
  },
  {
   "cell_type": "code",
   "execution_count": 84,
   "id": "6954afa9",
   "metadata": {
    "execution": {
     "iopub.execute_input": "2022-12-06T10:59:17.131055Z",
     "iopub.status.busy": "2022-12-06T10:59:17.130120Z",
     "iopub.status.idle": "2022-12-06T10:59:17.134946Z",
     "shell.execute_reply": "2022-12-06T10:59:17.133937Z"
    },
    "papermill": {
     "duration": 0.042068,
     "end_time": "2022-12-06T10:59:17.137374",
     "exception": false,
     "start_time": "2022-12-06T10:59:17.095306",
     "status": "completed"
    },
    "tags": []
   },
   "outputs": [],
   "source": [
    "# nb_score"
   ]
  },
  {
   "cell_type": "markdown",
   "id": "8f3ae7ad",
   "metadata": {
    "papermill": {
     "duration": 0.033687,
     "end_time": "2022-12-06T10:59:17.204358",
     "exception": false,
     "start_time": "2022-12-06T10:59:17.170671",
     "status": "completed"
    },
    "tags": []
   },
   "source": [
    "## **Random Forest**"
   ]
  },
  {
   "cell_type": "code",
   "execution_count": 85,
   "id": "440c25f5",
   "metadata": {
    "execution": {
     "iopub.execute_input": "2022-12-06T10:59:17.272520Z",
     "iopub.status.busy": "2022-12-06T10:59:17.271734Z",
     "iopub.status.idle": "2022-12-06T10:59:17.276061Z",
     "shell.execute_reply": "2022-12-06T10:59:17.275185Z"
    },
    "papermill": {
     "duration": 0.041215,
     "end_time": "2022-12-06T10:59:17.278503",
     "exception": false,
     "start_time": "2022-12-06T10:59:17.237288",
     "status": "completed"
    },
    "tags": []
   },
   "outputs": [],
   "source": [
    "# from sklearn.ensemble import RandomForestClassifier\n",
    "# rf_classifier = RandomForestClassifier(n_estimators=10, criterion='entropy', random_state=0)\n",
    "# rf_accuracies = cross_val_score(rf_classifier, X, y, cv = 10, scoring = 'accuracy')\n",
    "# rf_score = rf_accuracies.mean()\n",
    "# rf_std = rf_accuracies.std()\n",
    "# models_accuracy_scores[\"Random forest\"] = [rf_score, rf_std]\n",
    "# rf_score"
   ]
  },
  {
   "cell_type": "code",
   "execution_count": 86,
   "id": "3f9a3614",
   "metadata": {
    "execution": {
     "iopub.execute_input": "2022-12-06T10:59:17.350090Z",
     "iopub.status.busy": "2022-12-06T10:59:17.349229Z",
     "iopub.status.idle": "2022-12-06T10:59:17.353966Z",
     "shell.execute_reply": "2022-12-06T10:59:17.352988Z"
    },
    "papermill": {
     "duration": 0.04392,
     "end_time": "2022-12-06T10:59:17.356433",
     "exception": false,
     "start_time": "2022-12-06T10:59:17.312513",
     "status": "completed"
    },
    "tags": []
   },
   "outputs": [],
   "source": [
    "# models_accuracy_scores"
   ]
  },
  {
   "cell_type": "code",
   "execution_count": 87,
   "id": "c6317ce3",
   "metadata": {
    "execution": {
     "iopub.execute_input": "2022-12-06T10:59:17.425583Z",
     "iopub.status.busy": "2022-12-06T10:59:17.424790Z",
     "iopub.status.idle": "2022-12-06T10:59:17.429840Z",
     "shell.execute_reply": "2022-12-06T10:59:17.428858Z"
    },
    "papermill": {
     "duration": 0.042269,
     "end_time": "2022-12-06T10:59:17.432251",
     "exception": false,
     "start_time": "2022-12-06T10:59:17.389982",
     "status": "completed"
    },
    "tags": []
   },
   "outputs": [],
   "source": [
    "# from sklearn.ensemble import RandomForestClassifier\n",
    "\n",
    "# y = train_data[\"Survived\"]\n",
    "\n",
    "# features = [\"Pclass\", \"Sex\", \"SibSp\", \"Parch\"]\n",
    "# X = pd.get_dummies(train_data[features])\n",
    "# X_test = pd.get_dummies(test_data[features])\n",
    "\n",
    "# model = RandomForestClassifier(n_estimators=100, max_depth=5, random_state=1)\n",
    "# model.fit(X, y)\n",
    "# predictions = model.predict(X_test)\n",
    "\n",
    "# output = pd.DataFrame({'PassengerId': test_data.PassengerId, 'Survived': predictions})\n",
    "# output.to_csv('submission.csv', index=False)\n",
    "# print(\"Your submission was successfully saved!\")"
   ]
  },
  {
   "cell_type": "code",
   "execution_count": 88,
   "id": "47542f7a",
   "metadata": {
    "execution": {
     "iopub.execute_input": "2022-12-06T10:59:17.501862Z",
     "iopub.status.busy": "2022-12-06T10:59:17.501345Z",
     "iopub.status.idle": "2022-12-06T10:59:17.505746Z",
     "shell.execute_reply": "2022-12-06T10:59:17.504740Z"
    },
    "papermill": {
     "duration": 0.041122,
     "end_time": "2022-12-06T10:59:17.507857",
     "exception": false,
     "start_time": "2022-12-06T10:59:17.466735",
     "status": "completed"
    },
    "tags": []
   },
   "outputs": [],
   "source": [
    "# output.head()"
   ]
  }
 ],
 "metadata": {
  "kernelspec": {
   "display_name": "Python 3",
   "language": "python",
   "name": "python3"
  },
  "language_info": {
   "codemirror_mode": {
    "name": "ipython",
    "version": 3
   },
   "file_extension": ".py",
   "mimetype": "text/x-python",
   "name": "python",
   "nbconvert_exporter": "python",
   "pygments_lexer": "ipython3",
   "version": "3.7.12"
  },
  "papermill": {
   "default_parameters": {},
   "duration": 29.575011,
   "end_time": "2022-12-06T10:59:18.363356",
   "environment_variables": {},
   "exception": null,
   "input_path": "__notebook__.ipynb",
   "output_path": "__notebook__.ipynb",
   "parameters": {},
   "start_time": "2022-12-06T10:58:48.788345",
   "version": "2.3.4"
  }
 },
 "nbformat": 4,
 "nbformat_minor": 5
}
