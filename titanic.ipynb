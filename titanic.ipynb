{
 "cells": [
  {
   "cell_type": "code",
   "execution_count": 1,
   "id": "8b9e583c",
   "metadata": {
    "_cell_guid": "b1076dfc-b9ad-4769-8c92-a6c4dae69d19",
    "_uuid": "8f2839f25d086af736a60e9eeb907d3b93b6e0e5",
    "execution": {
     "iopub.execute_input": "2022-11-22T12:38:08.126241Z",
     "iopub.status.busy": "2022-11-22T12:38:08.125603Z",
     "iopub.status.idle": "2022-11-22T12:38:08.140467Z",
     "shell.execute_reply": "2022-11-22T12:38:08.138993Z"
    },
    "papermill": {
     "duration": 0.045831,
     "end_time": "2022-11-22T12:38:08.143508",
     "exception": false,
     "start_time": "2022-11-22T12:38:08.097677",
     "status": "completed"
    },
    "tags": []
   },
   "outputs": [
    {
     "name": "stdout",
     "output_type": "stream",
     "text": [
      "/kaggle/input/titanic/train.csv\n",
      "/kaggle/input/titanic/test.csv\n",
      "/kaggle/input/titanic/gender_submission.csv\n"
     ]
    }
   ],
   "source": [
    "# This Python 3 environment comes with many helpful analytics libraries installed\n",
    "# It is defined by the kaggle/python Docker image: https://github.com/kaggle/docker-python\n",
    "# For example, here's several helpful packages to load\n",
    "\n",
    "import numpy as np # linear algebra\n",
    "import pandas as pd # data processing, CSV file I/O (e.g. pd.read_csv)\n",
    "\n",
    "# Input data files are available in the read-only \"../input/\" directory\n",
    "# For example, running this (by clicking run or pressing Shift+Enter) will list all files under the input directory\n",
    "\n",
    "import os\n",
    "for dirname, _, filenames in os.walk('/kaggle/input'):\n",
    "    for filename in filenames:\n",
    "        print(os.path.join(dirname, filename))\n",
    "\n",
    "# You can write up to 20GB to the current directory (/kaggle/working/) that gets preserved as output when you create a version using \"Save & Run All\" \n",
    "# You can also write temporary files to /kaggle/temp/, but they won't be saved outside of the current session"
   ]
  },
  {
   "cell_type": "markdown",
   "id": "2f4905ee",
   "metadata": {
    "papermill": {
     "duration": 0.021921,
     "end_time": "2022-11-22T12:38:08.186844",
     "exception": false,
     "start_time": "2022-11-22T12:38:08.164923",
     "status": "completed"
    },
    "tags": []
   },
   "source": [
    "On April 15, 1912, during her maiden voyage, the widely considered “unsinkable” RMS Titanic sank after colliding with an iceberg. Unfortunately, there weren’t enough lifeboats for everyone onboard, resulting in the death of 1502 out of 2224 passengers and crew.\n",
    "\n",
    "While there was some element of luck involved in surviving, it seems some groups of people were more likely to survive than others.\n",
    "\n",
    "In this notebook I would like the answer the question-\n",
    "“what sorts of people were more likely to survive?”\n",
    "using some classification models that predicts which passengers survived the Titanic shipwreck."
   ]
  },
  {
   "cell_type": "code",
   "execution_count": 2,
   "id": "fd6db793",
   "metadata": {
    "execution": {
     "iopub.execute_input": "2022-11-22T12:38:08.230241Z",
     "iopub.status.busy": "2022-11-22T12:38:08.229796Z",
     "iopub.status.idle": "2022-11-22T12:38:09.472773Z",
     "shell.execute_reply": "2022-11-22T12:38:09.470932Z"
    },
    "papermill": {
     "duration": 1.268288,
     "end_time": "2022-11-22T12:38:09.475932",
     "exception": false,
     "start_time": "2022-11-22T12:38:08.207644",
     "status": "completed"
    },
    "tags": []
   },
   "outputs": [],
   "source": [
    "import matplotlib.pyplot as plt\n",
    "import seaborn as sns"
   ]
  },
  {
   "cell_type": "markdown",
   "id": "bd1b078b",
   "metadata": {
    "papermill": {
     "duration": 0.020601,
     "end_time": "2022-11-22T12:38:09.517905",
     "exception": false,
     "start_time": "2022-11-22T12:38:09.497304",
     "status": "completed"
    },
    "tags": []
   },
   "source": [
    "# **Importing the datasets**"
   ]
  },
  {
   "cell_type": "markdown",
   "id": "2ff517b6",
   "metadata": {
    "papermill": {
     "duration": 0.021185,
     "end_time": "2022-11-22T12:38:09.560024",
     "exception": false,
     "start_time": "2022-11-22T12:38:09.538839",
     "status": "completed"
    },
    "tags": []
   },
   "source": [
    "## **Train data**"
   ]
  },
  {
   "cell_type": "code",
   "execution_count": 3,
   "id": "706fe746",
   "metadata": {
    "execution": {
     "iopub.execute_input": "2022-11-22T12:38:09.604406Z",
     "iopub.status.busy": "2022-11-22T12:38:09.603664Z",
     "iopub.status.idle": "2022-11-22T12:38:09.648738Z",
     "shell.execute_reply": "2022-11-22T12:38:09.647554Z"
    },
    "papermill": {
     "duration": 0.070323,
     "end_time": "2022-11-22T12:38:09.651399",
     "exception": false,
     "start_time": "2022-11-22T12:38:09.581076",
     "status": "completed"
    },
    "tags": []
   },
   "outputs": [
    {
     "data": {
      "text/html": [
       "<div>\n",
       "<style scoped>\n",
       "    .dataframe tbody tr th:only-of-type {\n",
       "        vertical-align: middle;\n",
       "    }\n",
       "\n",
       "    .dataframe tbody tr th {\n",
       "        vertical-align: top;\n",
       "    }\n",
       "\n",
       "    .dataframe thead th {\n",
       "        text-align: right;\n",
       "    }\n",
       "</style>\n",
       "<table border=\"1\" class=\"dataframe\">\n",
       "  <thead>\n",
       "    <tr style=\"text-align: right;\">\n",
       "      <th></th>\n",
       "      <th>PassengerId</th>\n",
       "      <th>Survived</th>\n",
       "      <th>Pclass</th>\n",
       "      <th>Name</th>\n",
       "      <th>Sex</th>\n",
       "      <th>Age</th>\n",
       "      <th>SibSp</th>\n",
       "      <th>Parch</th>\n",
       "      <th>Ticket</th>\n",
       "      <th>Fare</th>\n",
       "      <th>Cabin</th>\n",
       "      <th>Embarked</th>\n",
       "    </tr>\n",
       "  </thead>\n",
       "  <tbody>\n",
       "    <tr>\n",
       "      <th>0</th>\n",
       "      <td>1</td>\n",
       "      <td>0</td>\n",
       "      <td>3</td>\n",
       "      <td>Braund, Mr. Owen Harris</td>\n",
       "      <td>male</td>\n",
       "      <td>22.0</td>\n",
       "      <td>1</td>\n",
       "      <td>0</td>\n",
       "      <td>A/5 21171</td>\n",
       "      <td>7.2500</td>\n",
       "      <td>NaN</td>\n",
       "      <td>S</td>\n",
       "    </tr>\n",
       "    <tr>\n",
       "      <th>1</th>\n",
       "      <td>2</td>\n",
       "      <td>1</td>\n",
       "      <td>1</td>\n",
       "      <td>Cumings, Mrs. John Bradley (Florence Briggs Th...</td>\n",
       "      <td>female</td>\n",
       "      <td>38.0</td>\n",
       "      <td>1</td>\n",
       "      <td>0</td>\n",
       "      <td>PC 17599</td>\n",
       "      <td>71.2833</td>\n",
       "      <td>C85</td>\n",
       "      <td>C</td>\n",
       "    </tr>\n",
       "    <tr>\n",
       "      <th>2</th>\n",
       "      <td>3</td>\n",
       "      <td>1</td>\n",
       "      <td>3</td>\n",
       "      <td>Heikkinen, Miss. Laina</td>\n",
       "      <td>female</td>\n",
       "      <td>26.0</td>\n",
       "      <td>0</td>\n",
       "      <td>0</td>\n",
       "      <td>STON/O2. 3101282</td>\n",
       "      <td>7.9250</td>\n",
       "      <td>NaN</td>\n",
       "      <td>S</td>\n",
       "    </tr>\n",
       "    <tr>\n",
       "      <th>3</th>\n",
       "      <td>4</td>\n",
       "      <td>1</td>\n",
       "      <td>1</td>\n",
       "      <td>Futrelle, Mrs. Jacques Heath (Lily May Peel)</td>\n",
       "      <td>female</td>\n",
       "      <td>35.0</td>\n",
       "      <td>1</td>\n",
       "      <td>0</td>\n",
       "      <td>113803</td>\n",
       "      <td>53.1000</td>\n",
       "      <td>C123</td>\n",
       "      <td>S</td>\n",
       "    </tr>\n",
       "    <tr>\n",
       "      <th>4</th>\n",
       "      <td>5</td>\n",
       "      <td>0</td>\n",
       "      <td>3</td>\n",
       "      <td>Allen, Mr. William Henry</td>\n",
       "      <td>male</td>\n",
       "      <td>35.0</td>\n",
       "      <td>0</td>\n",
       "      <td>0</td>\n",
       "      <td>373450</td>\n",
       "      <td>8.0500</td>\n",
       "      <td>NaN</td>\n",
       "      <td>S</td>\n",
       "    </tr>\n",
       "  </tbody>\n",
       "</table>\n",
       "</div>"
      ],
      "text/plain": [
       "   PassengerId  Survived  Pclass  \\\n",
       "0            1         0       3   \n",
       "1            2         1       1   \n",
       "2            3         1       3   \n",
       "3            4         1       1   \n",
       "4            5         0       3   \n",
       "\n",
       "                                                Name     Sex   Age  SibSp  \\\n",
       "0                            Braund, Mr. Owen Harris    male  22.0      1   \n",
       "1  Cumings, Mrs. John Bradley (Florence Briggs Th...  female  38.0      1   \n",
       "2                             Heikkinen, Miss. Laina  female  26.0      0   \n",
       "3       Futrelle, Mrs. Jacques Heath (Lily May Peel)  female  35.0      1   \n",
       "4                           Allen, Mr. William Henry    male  35.0      0   \n",
       "\n",
       "   Parch            Ticket     Fare Cabin Embarked  \n",
       "0      0         A/5 21171   7.2500   NaN        S  \n",
       "1      0          PC 17599  71.2833   C85        C  \n",
       "2      0  STON/O2. 3101282   7.9250   NaN        S  \n",
       "3      0            113803  53.1000  C123        S  \n",
       "4      0            373450   8.0500   NaN        S  "
      ]
     },
     "execution_count": 3,
     "metadata": {},
     "output_type": "execute_result"
    }
   ],
   "source": [
    "train_data = pd.read_csv('/kaggle/input/titanic/train.csv')\n",
    "train_data.head()"
   ]
  },
  {
   "cell_type": "markdown",
   "id": "d762a87a",
   "metadata": {
    "papermill": {
     "duration": 0.020981,
     "end_time": "2022-11-22T12:38:09.694536",
     "exception": false,
     "start_time": "2022-11-22T12:38:09.673555",
     "status": "completed"
    },
    "tags": []
   },
   "source": [
    "## **Test data**"
   ]
  },
  {
   "cell_type": "code",
   "execution_count": 4,
   "id": "7b26e916",
   "metadata": {
    "execution": {
     "iopub.execute_input": "2022-11-22T12:38:09.740770Z",
     "iopub.status.busy": "2022-11-22T12:38:09.740355Z",
     "iopub.status.idle": "2022-11-22T12:38:09.766491Z",
     "shell.execute_reply": "2022-11-22T12:38:09.765100Z"
    },
    "papermill": {
     "duration": 0.052149,
     "end_time": "2022-11-22T12:38:09.769116",
     "exception": false,
     "start_time": "2022-11-22T12:38:09.716967",
     "status": "completed"
    },
    "tags": []
   },
   "outputs": [
    {
     "data": {
      "text/html": [
       "<div>\n",
       "<style scoped>\n",
       "    .dataframe tbody tr th:only-of-type {\n",
       "        vertical-align: middle;\n",
       "    }\n",
       "\n",
       "    .dataframe tbody tr th {\n",
       "        vertical-align: top;\n",
       "    }\n",
       "\n",
       "    .dataframe thead th {\n",
       "        text-align: right;\n",
       "    }\n",
       "</style>\n",
       "<table border=\"1\" class=\"dataframe\">\n",
       "  <thead>\n",
       "    <tr style=\"text-align: right;\">\n",
       "      <th></th>\n",
       "      <th>PassengerId</th>\n",
       "      <th>Pclass</th>\n",
       "      <th>Name</th>\n",
       "      <th>Sex</th>\n",
       "      <th>Age</th>\n",
       "      <th>SibSp</th>\n",
       "      <th>Parch</th>\n",
       "      <th>Ticket</th>\n",
       "      <th>Fare</th>\n",
       "      <th>Cabin</th>\n",
       "      <th>Embarked</th>\n",
       "    </tr>\n",
       "  </thead>\n",
       "  <tbody>\n",
       "    <tr>\n",
       "      <th>0</th>\n",
       "      <td>892</td>\n",
       "      <td>3</td>\n",
       "      <td>Kelly, Mr. James</td>\n",
       "      <td>male</td>\n",
       "      <td>34.5</td>\n",
       "      <td>0</td>\n",
       "      <td>0</td>\n",
       "      <td>330911</td>\n",
       "      <td>7.8292</td>\n",
       "      <td>NaN</td>\n",
       "      <td>Q</td>\n",
       "    </tr>\n",
       "    <tr>\n",
       "      <th>1</th>\n",
       "      <td>893</td>\n",
       "      <td>3</td>\n",
       "      <td>Wilkes, Mrs. James (Ellen Needs)</td>\n",
       "      <td>female</td>\n",
       "      <td>47.0</td>\n",
       "      <td>1</td>\n",
       "      <td>0</td>\n",
       "      <td>363272</td>\n",
       "      <td>7.0000</td>\n",
       "      <td>NaN</td>\n",
       "      <td>S</td>\n",
       "    </tr>\n",
       "    <tr>\n",
       "      <th>2</th>\n",
       "      <td>894</td>\n",
       "      <td>2</td>\n",
       "      <td>Myles, Mr. Thomas Francis</td>\n",
       "      <td>male</td>\n",
       "      <td>62.0</td>\n",
       "      <td>0</td>\n",
       "      <td>0</td>\n",
       "      <td>240276</td>\n",
       "      <td>9.6875</td>\n",
       "      <td>NaN</td>\n",
       "      <td>Q</td>\n",
       "    </tr>\n",
       "    <tr>\n",
       "      <th>3</th>\n",
       "      <td>895</td>\n",
       "      <td>3</td>\n",
       "      <td>Wirz, Mr. Albert</td>\n",
       "      <td>male</td>\n",
       "      <td>27.0</td>\n",
       "      <td>0</td>\n",
       "      <td>0</td>\n",
       "      <td>315154</td>\n",
       "      <td>8.6625</td>\n",
       "      <td>NaN</td>\n",
       "      <td>S</td>\n",
       "    </tr>\n",
       "    <tr>\n",
       "      <th>4</th>\n",
       "      <td>896</td>\n",
       "      <td>3</td>\n",
       "      <td>Hirvonen, Mrs. Alexander (Helga E Lindqvist)</td>\n",
       "      <td>female</td>\n",
       "      <td>22.0</td>\n",
       "      <td>1</td>\n",
       "      <td>1</td>\n",
       "      <td>3101298</td>\n",
       "      <td>12.2875</td>\n",
       "      <td>NaN</td>\n",
       "      <td>S</td>\n",
       "    </tr>\n",
       "  </tbody>\n",
       "</table>\n",
       "</div>"
      ],
      "text/plain": [
       "   PassengerId  Pclass                                          Name     Sex  \\\n",
       "0          892       3                              Kelly, Mr. James    male   \n",
       "1          893       3              Wilkes, Mrs. James (Ellen Needs)  female   \n",
       "2          894       2                     Myles, Mr. Thomas Francis    male   \n",
       "3          895       3                              Wirz, Mr. Albert    male   \n",
       "4          896       3  Hirvonen, Mrs. Alexander (Helga E Lindqvist)  female   \n",
       "\n",
       "    Age  SibSp  Parch   Ticket     Fare Cabin Embarked  \n",
       "0  34.5      0      0   330911   7.8292   NaN        Q  \n",
       "1  47.0      1      0   363272   7.0000   NaN        S  \n",
       "2  62.0      0      0   240276   9.6875   NaN        Q  \n",
       "3  27.0      0      0   315154   8.6625   NaN        S  \n",
       "4  22.0      1      1  3101298  12.2875   NaN        S  "
      ]
     },
     "execution_count": 4,
     "metadata": {},
     "output_type": "execute_result"
    }
   ],
   "source": [
    "test_data = pd.read_csv('/kaggle/input/titanic/test.csv')\n",
    "test_data.head()"
   ]
  },
  {
   "cell_type": "markdown",
   "id": "7777568f",
   "metadata": {
    "papermill": {
     "duration": 0.021966,
     "end_time": "2022-11-22T12:38:09.813441",
     "exception": false,
     "start_time": "2022-11-22T12:38:09.791475",
     "status": "completed"
    },
    "tags": []
   },
   "source": [
    "# **Data Analysis**"
   ]
  },
  {
   "cell_type": "markdown",
   "id": "78133fd9",
   "metadata": {
    "papermill": {
     "duration": 0.021205,
     "end_time": "2022-11-22T12:38:09.856627",
     "exception": false,
     "start_time": "2022-11-22T12:38:09.835422",
     "status": "completed"
    },
    "tags": []
   },
   "source": [
    "### The train data contain information about 891 passengers (rows) and 14 columns."
   ]
  },
  {
   "cell_type": "code",
   "execution_count": 5,
   "id": "21db36d1",
   "metadata": {
    "execution": {
     "iopub.execute_input": "2022-11-22T12:38:09.902115Z",
     "iopub.status.busy": "2022-11-22T12:38:09.901389Z",
     "iopub.status.idle": "2022-11-22T12:38:09.907741Z",
     "shell.execute_reply": "2022-11-22T12:38:09.906820Z"
    },
    "papermill": {
     "duration": 0.031792,
     "end_time": "2022-11-22T12:38:09.910175",
     "exception": false,
     "start_time": "2022-11-22T12:38:09.878383",
     "status": "completed"
    },
    "tags": []
   },
   "outputs": [
    {
     "data": {
      "text/plain": [
       "(891, 12)"
      ]
     },
     "execution_count": 5,
     "metadata": {},
     "output_type": "execute_result"
    }
   ],
   "source": [
    "train_data.shape"
   ]
  },
  {
   "cell_type": "markdown",
   "id": "30166e5f",
   "metadata": {
    "papermill": {
     "duration": 0.022035,
     "end_time": "2022-11-22T12:38:09.954204",
     "exception": false,
     "start_time": "2022-11-22T12:38:09.932169",
     "status": "completed"
    },
    "tags": []
   },
   "source": [
    "### The type of each column in the data frame:"
   ]
  },
  {
   "cell_type": "code",
   "execution_count": 6,
   "id": "77339fbb",
   "metadata": {
    "execution": {
     "iopub.execute_input": "2022-11-22T12:38:10.001878Z",
     "iopub.status.busy": "2022-11-22T12:38:10.001208Z",
     "iopub.status.idle": "2022-11-22T12:38:10.009796Z",
     "shell.execute_reply": "2022-11-22T12:38:10.008767Z"
    },
    "papermill": {
     "duration": 0.035382,
     "end_time": "2022-11-22T12:38:10.012456",
     "exception": false,
     "start_time": "2022-11-22T12:38:09.977074",
     "status": "completed"
    },
    "tags": []
   },
   "outputs": [
    {
     "data": {
      "text/plain": [
       "PassengerId      int64\n",
       "Survived         int64\n",
       "Pclass           int64\n",
       "Name            object\n",
       "Sex             object\n",
       "Age            float64\n",
       "SibSp            int64\n",
       "Parch            int64\n",
       "Ticket          object\n",
       "Fare           float64\n",
       "Cabin           object\n",
       "Embarked        object\n",
       "dtype: object"
      ]
     },
     "execution_count": 6,
     "metadata": {},
     "output_type": "execute_result"
    }
   ],
   "source": [
    "train_data.dtypes"
   ]
  },
  {
   "cell_type": "markdown",
   "id": "220b2c89",
   "metadata": {
    "papermill": {
     "duration": 0.02176,
     "end_time": "2022-11-22T12:38:10.056593",
     "exception": false,
     "start_time": "2022-11-22T12:38:10.034833",
     "status": "completed"
    },
    "tags": []
   },
   "source": [
    "### Checking for missing data"
   ]
  },
  {
   "cell_type": "code",
   "execution_count": 7,
   "id": "31e9226b",
   "metadata": {
    "execution": {
     "iopub.execute_input": "2022-11-22T12:38:10.103033Z",
     "iopub.status.busy": "2022-11-22T12:38:10.102596Z",
     "iopub.status.idle": "2022-11-22T12:38:10.112430Z",
     "shell.execute_reply": "2022-11-22T12:38:10.110773Z"
    },
    "papermill": {
     "duration": 0.036654,
     "end_time": "2022-11-22T12:38:10.115113",
     "exception": false,
     "start_time": "2022-11-22T12:38:10.078459",
     "status": "completed"
    },
    "tags": []
   },
   "outputs": [
    {
     "data": {
      "text/plain": [
       "['Age', 'Cabin', 'Embarked']"
      ]
     },
     "execution_count": 7,
     "metadata": {},
     "output_type": "execute_result"
    }
   ],
   "source": [
    "# find the columns with Nans\n",
    "train_data.columns[train_data.isna().any()].tolist()"
   ]
  },
  {
   "cell_type": "markdown",
   "id": "c4ed09ff",
   "metadata": {
    "papermill": {
     "duration": 0.022178,
     "end_time": "2022-11-22T12:38:10.159779",
     "exception": false,
     "start_time": "2022-11-22T12:38:10.137601",
     "status": "completed"
    },
    "tags": []
   },
   "source": [
    "There are three columns with Nan values.\n",
    "\n",
    "Let's replace the Nans in the Age column by the mean of the column."
   ]
  },
  {
   "cell_type": "code",
   "execution_count": 8,
   "id": "462beed5",
   "metadata": {
    "execution": {
     "iopub.execute_input": "2022-11-22T12:38:10.206381Z",
     "iopub.status.busy": "2022-11-22T12:38:10.205274Z",
     "iopub.status.idle": "2022-11-22T12:38:10.622299Z",
     "shell.execute_reply": "2022-11-22T12:38:10.620894Z"
    },
    "papermill": {
     "duration": 0.443326,
     "end_time": "2022-11-22T12:38:10.625051",
     "exception": false,
     "start_time": "2022-11-22T12:38:10.181725",
     "status": "completed"
    },
    "tags": []
   },
   "outputs": [],
   "source": [
    "from sklearn.impute import SimpleImputer\n",
    "imputer = SimpleImputer(missing_values=np.nan, strategy='mean') # replace the nan by the mean of the column's values\n",
    "imputer.fit(train_data[['Age']])\n",
    "train_data['Age'] = imputer.transform(train_data[['Age']])"
   ]
  },
  {
   "cell_type": "markdown",
   "id": "e8d5f971",
   "metadata": {
    "papermill": {
     "duration": 0.02153,
     "end_time": "2022-11-22T12:38:10.668678",
     "exception": false,
     "start_time": "2022-11-22T12:38:10.647148",
     "status": "completed"
    },
    "tags": []
   },
   "source": [
    "The Cabin column and the Embarked column are object types, so we'll replace the Nans by empty string ''."
   ]
  },
  {
   "cell_type": "code",
   "execution_count": 9,
   "id": "84a8d06a",
   "metadata": {
    "execution": {
     "iopub.execute_input": "2022-11-22T12:38:10.715300Z",
     "iopub.status.busy": "2022-11-22T12:38:10.714836Z",
     "iopub.status.idle": "2022-11-22T12:38:10.722594Z",
     "shell.execute_reply": "2022-11-22T12:38:10.721158Z"
    },
    "papermill": {
     "duration": 0.034349,
     "end_time": "2022-11-22T12:38:10.724961",
     "exception": false,
     "start_time": "2022-11-22T12:38:10.690612",
     "status": "completed"
    },
    "tags": []
   },
   "outputs": [],
   "source": [
    "train_data['Cabin'].replace(np.nan, '', inplace = True)\n",
    "train_data['Embarked'].replace(np.nan, '', inplace = True)"
   ]
  },
  {
   "cell_type": "markdown",
   "id": "ab17e9f8",
   "metadata": {
    "papermill": {
     "duration": 0.023095,
     "end_time": "2022-11-22T12:38:10.770874",
     "exception": false,
     "start_time": "2022-11-22T12:38:10.747779",
     "status": "completed"
    },
    "tags": []
   },
   "source": [
    "Now we will ensure there are no Nan values anymore-"
   ]
  },
  {
   "cell_type": "code",
   "execution_count": 10,
   "id": "343328cf",
   "metadata": {
    "execution": {
     "iopub.execute_input": "2022-11-22T12:38:10.820883Z",
     "iopub.status.busy": "2022-11-22T12:38:10.820407Z",
     "iopub.status.idle": "2022-11-22T12:38:10.832243Z",
     "shell.execute_reply": "2022-11-22T12:38:10.830965Z"
    },
    "papermill": {
     "duration": 0.039661,
     "end_time": "2022-11-22T12:38:10.834958",
     "exception": false,
     "start_time": "2022-11-22T12:38:10.795297",
     "status": "completed"
    },
    "tags": []
   },
   "outputs": [
    {
     "data": {
      "text/plain": [
       "[]"
      ]
     },
     "execution_count": 10,
     "metadata": {},
     "output_type": "execute_result"
    }
   ],
   "source": [
    "train_data.isnull().values.any()\n",
    "train_data.columns[train_data.isna().any()].tolist()"
   ]
  },
  {
   "cell_type": "markdown",
   "id": "2c4445f0",
   "metadata": {
    "papermill": {
     "duration": 0.022577,
     "end_time": "2022-11-22T12:38:10.879701",
     "exception": false,
     "start_time": "2022-11-22T12:38:10.857124",
     "status": "completed"
    },
    "tags": []
   },
   "source": [
    "**Good! there are no Nans.**"
   ]
  },
  {
   "cell_type": "markdown",
   "id": "1b37ab55",
   "metadata": {
    "papermill": {
     "duration": 0.021843,
     "end_time": "2022-11-22T12:38:10.923959",
     "exception": false,
     "start_time": "2022-11-22T12:38:10.902116",
     "status": "completed"
    },
    "tags": []
   },
   "source": [
    "There are no duplicates:"
   ]
  },
  {
   "cell_type": "code",
   "execution_count": 11,
   "id": "b33a06fa",
   "metadata": {
    "execution": {
     "iopub.execute_input": "2022-11-22T12:38:10.971651Z",
     "iopub.status.busy": "2022-11-22T12:38:10.970551Z",
     "iopub.status.idle": "2022-11-22T12:38:10.984152Z",
     "shell.execute_reply": "2022-11-22T12:38:10.982865Z"
    },
    "papermill": {
     "duration": 0.040461,
     "end_time": "2022-11-22T12:38:10.986990",
     "exception": false,
     "start_time": "2022-11-22T12:38:10.946529",
     "status": "completed"
    },
    "tags": []
   },
   "outputs": [
    {
     "data": {
      "text/plain": [
       "False"
      ]
     },
     "execution_count": 11,
     "metadata": {},
     "output_type": "execute_result"
    }
   ],
   "source": [
    "train_data.duplicated().any()"
   ]
  },
  {
   "cell_type": "markdown",
   "id": "bf96c720",
   "metadata": {
    "papermill": {
     "duration": 0.0225,
     "end_time": "2022-11-22T12:38:11.032273",
     "exception": false,
     "start_time": "2022-11-22T12:38:11.009773",
     "status": "completed"
    },
    "tags": []
   },
   "source": [
    "For the sake of convenience, we will encode the Sex column into a new column- Sex_cat, where 0 = female and 1 = male.\n",
    "\n",
    "Additionally, we will create a new column, AgeGroup, that will contain the age groups of the passengers according the following partition:\n",
    "- Infant: 0-3\n",
    "- Kid: 4-12\n",
    "- Teen: 13-19\n",
    "- Adult: 20-110"
   ]
  },
  {
   "cell_type": "code",
   "execution_count": 12,
   "id": "bf84679b",
   "metadata": {
    "execution": {
     "iopub.execute_input": "2022-11-22T12:38:11.078852Z",
     "iopub.status.busy": "2022-11-22T12:38:11.078434Z",
     "iopub.status.idle": "2022-11-22T12:38:11.095501Z",
     "shell.execute_reply": "2022-11-22T12:38:11.094212Z"
    },
    "papermill": {
     "duration": 0.043934,
     "end_time": "2022-11-22T12:38:11.098268",
     "exception": false,
     "start_time": "2022-11-22T12:38:11.054334",
     "status": "completed"
    },
    "tags": []
   },
   "outputs": [
    {
     "data": {
      "text/plain": [
       "PassengerId       int64\n",
       "Survived          int64\n",
       "Pclass            int64\n",
       "Name             object\n",
       "Sex            category\n",
       "Age             float64\n",
       "SibSp             int64\n",
       "Parch             int64\n",
       "Ticket           object\n",
       "Fare            float64\n",
       "Cabin            object\n",
       "Embarked         object\n",
       "Sex_cat            int8\n",
       "AgeGroup       category\n",
       "dtype: object"
      ]
     },
     "execution_count": 12,
     "metadata": {},
     "output_type": "execute_result"
    }
   ],
   "source": [
    "train_data[\"Sex\"] = train_data[\"Sex\"].astype('category')\n",
    "train_data[\"Sex_cat\"] = train_data[\"Sex\"].cat.codes\n",
    "\n",
    "bins= [0,4,13,20,110]\n",
    "labels = ['Infant','Kid','Teen','Adult']\n",
    "train_data['AgeGroup'] = pd.cut(train_data['Age'], bins=bins, labels=labels, right=False)\n",
    "train_data.dtypes"
   ]
  },
  {
   "cell_type": "code",
   "execution_count": 13,
   "id": "beb18ad2",
   "metadata": {
    "execution": {
     "iopub.execute_input": "2022-11-22T12:38:11.146885Z",
     "iopub.status.busy": "2022-11-22T12:38:11.146256Z",
     "iopub.status.idle": "2022-11-22T12:38:11.164391Z",
     "shell.execute_reply": "2022-11-22T12:38:11.163325Z"
    },
    "papermill": {
     "duration": 0.045177,
     "end_time": "2022-11-22T12:38:11.166726",
     "exception": false,
     "start_time": "2022-11-22T12:38:11.121549",
     "status": "completed"
    },
    "tags": []
   },
   "outputs": [
    {
     "data": {
      "text/html": [
       "<div>\n",
       "<style scoped>\n",
       "    .dataframe tbody tr th:only-of-type {\n",
       "        vertical-align: middle;\n",
       "    }\n",
       "\n",
       "    .dataframe tbody tr th {\n",
       "        vertical-align: top;\n",
       "    }\n",
       "\n",
       "    .dataframe thead th {\n",
       "        text-align: right;\n",
       "    }\n",
       "</style>\n",
       "<table border=\"1\" class=\"dataframe\">\n",
       "  <thead>\n",
       "    <tr style=\"text-align: right;\">\n",
       "      <th></th>\n",
       "      <th>PassengerId</th>\n",
       "      <th>Survived</th>\n",
       "      <th>Pclass</th>\n",
       "      <th>Name</th>\n",
       "      <th>Sex</th>\n",
       "      <th>Age</th>\n",
       "      <th>SibSp</th>\n",
       "      <th>Parch</th>\n",
       "      <th>Ticket</th>\n",
       "      <th>Fare</th>\n",
       "      <th>Cabin</th>\n",
       "      <th>Embarked</th>\n",
       "      <th>Sex_cat</th>\n",
       "      <th>AgeGroup</th>\n",
       "    </tr>\n",
       "  </thead>\n",
       "  <tbody>\n",
       "    <tr>\n",
       "      <th>0</th>\n",
       "      <td>1</td>\n",
       "      <td>0</td>\n",
       "      <td>3</td>\n",
       "      <td>Braund, Mr. Owen Harris</td>\n",
       "      <td>male</td>\n",
       "      <td>22.0</td>\n",
       "      <td>1</td>\n",
       "      <td>0</td>\n",
       "      <td>A/5 21171</td>\n",
       "      <td>7.2500</td>\n",
       "      <td></td>\n",
       "      <td>S</td>\n",
       "      <td>1</td>\n",
       "      <td>Adult</td>\n",
       "    </tr>\n",
       "    <tr>\n",
       "      <th>1</th>\n",
       "      <td>2</td>\n",
       "      <td>1</td>\n",
       "      <td>1</td>\n",
       "      <td>Cumings, Mrs. John Bradley (Florence Briggs Th...</td>\n",
       "      <td>female</td>\n",
       "      <td>38.0</td>\n",
       "      <td>1</td>\n",
       "      <td>0</td>\n",
       "      <td>PC 17599</td>\n",
       "      <td>71.2833</td>\n",
       "      <td>C85</td>\n",
       "      <td>C</td>\n",
       "      <td>0</td>\n",
       "      <td>Adult</td>\n",
       "    </tr>\n",
       "    <tr>\n",
       "      <th>2</th>\n",
       "      <td>3</td>\n",
       "      <td>1</td>\n",
       "      <td>3</td>\n",
       "      <td>Heikkinen, Miss. Laina</td>\n",
       "      <td>female</td>\n",
       "      <td>26.0</td>\n",
       "      <td>0</td>\n",
       "      <td>0</td>\n",
       "      <td>STON/O2. 3101282</td>\n",
       "      <td>7.9250</td>\n",
       "      <td></td>\n",
       "      <td>S</td>\n",
       "      <td>0</td>\n",
       "      <td>Adult</td>\n",
       "    </tr>\n",
       "    <tr>\n",
       "      <th>3</th>\n",
       "      <td>4</td>\n",
       "      <td>1</td>\n",
       "      <td>1</td>\n",
       "      <td>Futrelle, Mrs. Jacques Heath (Lily May Peel)</td>\n",
       "      <td>female</td>\n",
       "      <td>35.0</td>\n",
       "      <td>1</td>\n",
       "      <td>0</td>\n",
       "      <td>113803</td>\n",
       "      <td>53.1000</td>\n",
       "      <td>C123</td>\n",
       "      <td>S</td>\n",
       "      <td>0</td>\n",
       "      <td>Adult</td>\n",
       "    </tr>\n",
       "    <tr>\n",
       "      <th>4</th>\n",
       "      <td>5</td>\n",
       "      <td>0</td>\n",
       "      <td>3</td>\n",
       "      <td>Allen, Mr. William Henry</td>\n",
       "      <td>male</td>\n",
       "      <td>35.0</td>\n",
       "      <td>0</td>\n",
       "      <td>0</td>\n",
       "      <td>373450</td>\n",
       "      <td>8.0500</td>\n",
       "      <td></td>\n",
       "      <td>S</td>\n",
       "      <td>1</td>\n",
       "      <td>Adult</td>\n",
       "    </tr>\n",
       "  </tbody>\n",
       "</table>\n",
       "</div>"
      ],
      "text/plain": [
       "   PassengerId  Survived  Pclass  \\\n",
       "0            1         0       3   \n",
       "1            2         1       1   \n",
       "2            3         1       3   \n",
       "3            4         1       1   \n",
       "4            5         0       3   \n",
       "\n",
       "                                                Name     Sex   Age  SibSp  \\\n",
       "0                            Braund, Mr. Owen Harris    male  22.0      1   \n",
       "1  Cumings, Mrs. John Bradley (Florence Briggs Th...  female  38.0      1   \n",
       "2                             Heikkinen, Miss. Laina  female  26.0      0   \n",
       "3       Futrelle, Mrs. Jacques Heath (Lily May Peel)  female  35.0      1   \n",
       "4                           Allen, Mr. William Henry    male  35.0      0   \n",
       "\n",
       "   Parch            Ticket     Fare Cabin Embarked  Sex_cat AgeGroup  \n",
       "0      0         A/5 21171   7.2500              S        1    Adult  \n",
       "1      0          PC 17599  71.2833   C85        C        0    Adult  \n",
       "2      0  STON/O2. 3101282   7.9250              S        0    Adult  \n",
       "3      0            113803  53.1000  C123        S        0    Adult  \n",
       "4      0            373450   8.0500              S        1    Adult  "
      ]
     },
     "execution_count": 13,
     "metadata": {},
     "output_type": "execute_result"
    }
   ],
   "source": [
    "train_data.head()"
   ]
  },
  {
   "cell_type": "markdown",
   "id": "aae8c394",
   "metadata": {
    "papermill": {
     "duration": 0.022368,
     "end_time": "2022-11-22T12:38:11.212116",
     "exception": false,
     "start_time": "2022-11-22T12:38:11.189748",
     "status": "completed"
    },
    "tags": []
   },
   "source": [
    "### Some statistics information:"
   ]
  },
  {
   "cell_type": "code",
   "execution_count": 14,
   "id": "aac4d0bc",
   "metadata": {
    "execution": {
     "iopub.execute_input": "2022-11-22T12:38:11.259264Z",
     "iopub.status.busy": "2022-11-22T12:38:11.258589Z",
     "iopub.status.idle": "2022-11-22T12:38:11.313354Z",
     "shell.execute_reply": "2022-11-22T12:38:11.312150Z"
    },
    "papermill": {
     "duration": 0.081365,
     "end_time": "2022-11-22T12:38:11.316027",
     "exception": false,
     "start_time": "2022-11-22T12:38:11.234662",
     "status": "completed"
    },
    "tags": []
   },
   "outputs": [
    {
     "data": {
      "text/html": [
       "<div>\n",
       "<style scoped>\n",
       "    .dataframe tbody tr th:only-of-type {\n",
       "        vertical-align: middle;\n",
       "    }\n",
       "\n",
       "    .dataframe tbody tr th {\n",
       "        vertical-align: top;\n",
       "    }\n",
       "\n",
       "    .dataframe thead th {\n",
       "        text-align: right;\n",
       "    }\n",
       "</style>\n",
       "<table border=\"1\" class=\"dataframe\">\n",
       "  <thead>\n",
       "    <tr style=\"text-align: right;\">\n",
       "      <th></th>\n",
       "      <th>Survived</th>\n",
       "      <th>Pclass</th>\n",
       "      <th>Name</th>\n",
       "      <th>Sex</th>\n",
       "      <th>Age</th>\n",
       "      <th>SibSp</th>\n",
       "      <th>Parch</th>\n",
       "      <th>Ticket</th>\n",
       "      <th>Fare</th>\n",
       "      <th>Cabin</th>\n",
       "      <th>Embarked</th>\n",
       "      <th>Sex_cat</th>\n",
       "      <th>AgeGroup</th>\n",
       "    </tr>\n",
       "  </thead>\n",
       "  <tbody>\n",
       "    <tr>\n",
       "      <th>count</th>\n",
       "      <td>891.000000</td>\n",
       "      <td>891.000000</td>\n",
       "      <td>891</td>\n",
       "      <td>891</td>\n",
       "      <td>891.000000</td>\n",
       "      <td>891.000000</td>\n",
       "      <td>891.000000</td>\n",
       "      <td>891</td>\n",
       "      <td>891.000000</td>\n",
       "      <td>891</td>\n",
       "      <td>891</td>\n",
       "      <td>891.000000</td>\n",
       "      <td>891</td>\n",
       "    </tr>\n",
       "    <tr>\n",
       "      <th>unique</th>\n",
       "      <td>NaN</td>\n",
       "      <td>NaN</td>\n",
       "      <td>891</td>\n",
       "      <td>2</td>\n",
       "      <td>NaN</td>\n",
       "      <td>NaN</td>\n",
       "      <td>NaN</td>\n",
       "      <td>681</td>\n",
       "      <td>NaN</td>\n",
       "      <td>148</td>\n",
       "      <td>4</td>\n",
       "      <td>NaN</td>\n",
       "      <td>4</td>\n",
       "    </tr>\n",
       "    <tr>\n",
       "      <th>top</th>\n",
       "      <td>NaN</td>\n",
       "      <td>NaN</td>\n",
       "      <td>Braund, Mr. Owen Harris</td>\n",
       "      <td>male</td>\n",
       "      <td>NaN</td>\n",
       "      <td>NaN</td>\n",
       "      <td>NaN</td>\n",
       "      <td>347082</td>\n",
       "      <td>NaN</td>\n",
       "      <td></td>\n",
       "      <td>S</td>\n",
       "      <td>NaN</td>\n",
       "      <td>Adult</td>\n",
       "    </tr>\n",
       "    <tr>\n",
       "      <th>freq</th>\n",
       "      <td>NaN</td>\n",
       "      <td>NaN</td>\n",
       "      <td>1</td>\n",
       "      <td>577</td>\n",
       "      <td>NaN</td>\n",
       "      <td>NaN</td>\n",
       "      <td>NaN</td>\n",
       "      <td>7</td>\n",
       "      <td>NaN</td>\n",
       "      <td>687</td>\n",
       "      <td>644</td>\n",
       "      <td>NaN</td>\n",
       "      <td>727</td>\n",
       "    </tr>\n",
       "    <tr>\n",
       "      <th>mean</th>\n",
       "      <td>0.383838</td>\n",
       "      <td>2.308642</td>\n",
       "      <td>NaN</td>\n",
       "      <td>NaN</td>\n",
       "      <td>29.699118</td>\n",
       "      <td>0.523008</td>\n",
       "      <td>0.381594</td>\n",
       "      <td>NaN</td>\n",
       "      <td>32.204208</td>\n",
       "      <td>NaN</td>\n",
       "      <td>NaN</td>\n",
       "      <td>0.647587</td>\n",
       "      <td>NaN</td>\n",
       "    </tr>\n",
       "    <tr>\n",
       "      <th>std</th>\n",
       "      <td>0.486592</td>\n",
       "      <td>0.836071</td>\n",
       "      <td>NaN</td>\n",
       "      <td>NaN</td>\n",
       "      <td>13.002015</td>\n",
       "      <td>1.102743</td>\n",
       "      <td>0.806057</td>\n",
       "      <td>NaN</td>\n",
       "      <td>49.693429</td>\n",
       "      <td>NaN</td>\n",
       "      <td>NaN</td>\n",
       "      <td>0.477990</td>\n",
       "      <td>NaN</td>\n",
       "    </tr>\n",
       "    <tr>\n",
       "      <th>min</th>\n",
       "      <td>0.000000</td>\n",
       "      <td>1.000000</td>\n",
       "      <td>NaN</td>\n",
       "      <td>NaN</td>\n",
       "      <td>0.420000</td>\n",
       "      <td>0.000000</td>\n",
       "      <td>0.000000</td>\n",
       "      <td>NaN</td>\n",
       "      <td>0.000000</td>\n",
       "      <td>NaN</td>\n",
       "      <td>NaN</td>\n",
       "      <td>0.000000</td>\n",
       "      <td>NaN</td>\n",
       "    </tr>\n",
       "    <tr>\n",
       "      <th>25%</th>\n",
       "      <td>0.000000</td>\n",
       "      <td>2.000000</td>\n",
       "      <td>NaN</td>\n",
       "      <td>NaN</td>\n",
       "      <td>22.000000</td>\n",
       "      <td>0.000000</td>\n",
       "      <td>0.000000</td>\n",
       "      <td>NaN</td>\n",
       "      <td>7.910400</td>\n",
       "      <td>NaN</td>\n",
       "      <td>NaN</td>\n",
       "      <td>0.000000</td>\n",
       "      <td>NaN</td>\n",
       "    </tr>\n",
       "    <tr>\n",
       "      <th>50%</th>\n",
       "      <td>0.000000</td>\n",
       "      <td>3.000000</td>\n",
       "      <td>NaN</td>\n",
       "      <td>NaN</td>\n",
       "      <td>29.699118</td>\n",
       "      <td>0.000000</td>\n",
       "      <td>0.000000</td>\n",
       "      <td>NaN</td>\n",
       "      <td>14.454200</td>\n",
       "      <td>NaN</td>\n",
       "      <td>NaN</td>\n",
       "      <td>1.000000</td>\n",
       "      <td>NaN</td>\n",
       "    </tr>\n",
       "    <tr>\n",
       "      <th>75%</th>\n",
       "      <td>1.000000</td>\n",
       "      <td>3.000000</td>\n",
       "      <td>NaN</td>\n",
       "      <td>NaN</td>\n",
       "      <td>35.000000</td>\n",
       "      <td>1.000000</td>\n",
       "      <td>0.000000</td>\n",
       "      <td>NaN</td>\n",
       "      <td>31.000000</td>\n",
       "      <td>NaN</td>\n",
       "      <td>NaN</td>\n",
       "      <td>1.000000</td>\n",
       "      <td>NaN</td>\n",
       "    </tr>\n",
       "    <tr>\n",
       "      <th>max</th>\n",
       "      <td>1.000000</td>\n",
       "      <td>3.000000</td>\n",
       "      <td>NaN</td>\n",
       "      <td>NaN</td>\n",
       "      <td>80.000000</td>\n",
       "      <td>8.000000</td>\n",
       "      <td>6.000000</td>\n",
       "      <td>NaN</td>\n",
       "      <td>512.329200</td>\n",
       "      <td>NaN</td>\n",
       "      <td>NaN</td>\n",
       "      <td>1.000000</td>\n",
       "      <td>NaN</td>\n",
       "    </tr>\n",
       "  </tbody>\n",
       "</table>\n",
       "</div>"
      ],
      "text/plain": [
       "          Survived      Pclass                     Name   Sex         Age  \\\n",
       "count   891.000000  891.000000                      891   891  891.000000   \n",
       "unique         NaN         NaN                      891     2         NaN   \n",
       "top            NaN         NaN  Braund, Mr. Owen Harris  male         NaN   \n",
       "freq           NaN         NaN                        1   577         NaN   \n",
       "mean      0.383838    2.308642                      NaN   NaN   29.699118   \n",
       "std       0.486592    0.836071                      NaN   NaN   13.002015   \n",
       "min       0.000000    1.000000                      NaN   NaN    0.420000   \n",
       "25%       0.000000    2.000000                      NaN   NaN   22.000000   \n",
       "50%       0.000000    3.000000                      NaN   NaN   29.699118   \n",
       "75%       1.000000    3.000000                      NaN   NaN   35.000000   \n",
       "max       1.000000    3.000000                      NaN   NaN   80.000000   \n",
       "\n",
       "             SibSp       Parch  Ticket        Fare Cabin Embarked     Sex_cat  \\\n",
       "count   891.000000  891.000000     891  891.000000   891      891  891.000000   \n",
       "unique         NaN         NaN     681         NaN   148        4         NaN   \n",
       "top            NaN         NaN  347082         NaN              S         NaN   \n",
       "freq           NaN         NaN       7         NaN   687      644         NaN   \n",
       "mean      0.523008    0.381594     NaN   32.204208   NaN      NaN    0.647587   \n",
       "std       1.102743    0.806057     NaN   49.693429   NaN      NaN    0.477990   \n",
       "min       0.000000    0.000000     NaN    0.000000   NaN      NaN    0.000000   \n",
       "25%       0.000000    0.000000     NaN    7.910400   NaN      NaN    0.000000   \n",
       "50%       0.000000    0.000000     NaN   14.454200   NaN      NaN    1.000000   \n",
       "75%       1.000000    0.000000     NaN   31.000000   NaN      NaN    1.000000   \n",
       "max       8.000000    6.000000     NaN  512.329200   NaN      NaN    1.000000   \n",
       "\n",
       "       AgeGroup  \n",
       "count       891  \n",
       "unique        4  \n",
       "top       Adult  \n",
       "freq        727  \n",
       "mean        NaN  \n",
       "std         NaN  \n",
       "min         NaN  \n",
       "25%         NaN  \n",
       "50%         NaN  \n",
       "75%         NaN  \n",
       "max         NaN  "
      ]
     },
     "execution_count": 14,
     "metadata": {},
     "output_type": "execute_result"
    }
   ],
   "source": [
    "train_data.iloc[:, 1:].describe(include='all')"
   ]
  },
  {
   "cell_type": "markdown",
   "id": "0e96798e",
   "metadata": {
    "papermill": {
     "duration": 0.023914,
     "end_time": "2022-11-22T12:38:11.363752",
     "exception": false,
     "start_time": "2022-11-22T12:38:11.339838",
     "status": "completed"
    },
    "tags": []
   },
   "source": [
    " #### According to the descriptive statistics table above-\n",
    "\n",
    "**Survived:**\n",
    "- Most of the passengers didn't survived (as we already know...), the mean = 0.3838 and the median = 0.\n",
    "\n",
    "**Ticket Class (Pclass):**\n",
    "- The mean = 2.3 and the median = 3, indicates that most tickets are for third class, and the minority are for first class.\n",
    "\n",
    "**Sex**\n",
    "- There are 577 male passengers and the rest are female.\n",
    "\n",
    "**Age/AgeGroup**\n",
    "- The average age is 29.699 and so the median, with a std of ~13. Most of the passengers are adults.\n",
    "\n",
    "**Number of Siblings/Spouses (SibSp)**\n",
    "- According to the mean and the median, most of the passengers came without their sibilig or spouses.\n",
    "\n",
    "**Number of Parents/Children (Parch)**\n",
    "- According to the mean and the median, most of the passengers came without their parents or children.\n",
    "\n",
    "**Fare**\n",
    "- It seems that most of the passengers paids for the trip below to 14.45 (A right skewed distribution, mean > median).\n",
    "\n",
    "**Cabin**\n",
    "- The mode of the cabin numer is unknown.\n",
    "\n",
    "**Embarked**\n",
    "- There three port of embarkation: C = Cherbourg, Q = Queenstown, S = Southampton. The common one is Southampton."
   ]
  },
  {
   "cell_type": "code",
   "execution_count": 15,
   "id": "0e7b75c3",
   "metadata": {
    "execution": {
     "iopub.execute_input": "2022-11-22T12:38:11.412824Z",
     "iopub.status.busy": "2022-11-22T12:38:11.412367Z",
     "iopub.status.idle": "2022-11-22T12:38:11.416979Z",
     "shell.execute_reply": "2022-11-22T12:38:11.415728Z"
    },
    "papermill": {
     "duration": 0.031773,
     "end_time": "2022-11-22T12:38:11.419585",
     "exception": false,
     "start_time": "2022-11-22T12:38:11.387812",
     "status": "completed"
    },
    "tags": []
   },
   "outputs": [],
   "source": [
    "# corr = train_data.corr()\n",
    "# mask = np.triu(np.ones_like(corr))\n",
    "\n",
    "# sns.heatmap(corr, mask = mask, annot = True)"
   ]
  },
  {
   "cell_type": "markdown",
   "id": "550952dc",
   "metadata": {
    "papermill": {
     "duration": 0.022811,
     "end_time": "2022-11-22T12:38:11.465663",
     "exception": false,
     "start_time": "2022-11-22T12:38:11.442852",
     "status": "completed"
    },
    "tags": []
   },
   "source": [
    "We can see a moderately negative correlation between the Sex variable ( = Sex_cat) and the Survived variable."
   ]
  },
  {
   "cell_type": "markdown",
   "id": "83b2d1f5",
   "metadata": {
    "papermill": {
     "duration": 0.023859,
     "end_time": "2022-11-22T12:38:11.512689",
     "exception": false,
     "start_time": "2022-11-22T12:38:11.488830",
     "status": "completed"
    },
    "tags": []
   },
   "source": [
    "### Data Visualization\n",
    "Helps us to understand better how the data are behaving"
   ]
  },
  {
   "cell_type": "code",
   "execution_count": 16,
   "id": "2b5a2402",
   "metadata": {
    "execution": {
     "iopub.execute_input": "2022-11-22T12:38:11.562844Z",
     "iopub.status.busy": "2022-11-22T12:38:11.561754Z",
     "iopub.status.idle": "2022-11-22T12:38:13.033151Z",
     "shell.execute_reply": "2022-11-22T12:38:13.031678Z"
    },
    "papermill": {
     "duration": 1.499049,
     "end_time": "2022-11-22T12:38:13.036185",
     "exception": false,
     "start_time": "2022-11-22T12:38:11.537136",
     "status": "completed"
    },
    "tags": []
   },
   "outputs": [
    {
     "data": {
      "text/plain": [
       "Text(0.5, 1.0, 'Passenger fare')"
      ]
     },
     "execution_count": 16,
     "metadata": {},
     "output_type": "execute_result"
    },
    {
     "data": {
      "image/png": "[encoded data removed]",
      "text/plain": [
       "<Figure size 1080x1440 with 7 Axes>"
      ]
     },
     "metadata": {
      "needs_background": "light"
     },
     "output_type": "display_data"
    }
   ],
   "source": [
    "plt.figure(figsize = (15,20))\n",
    "\n",
    "plt.subplot(3, 3, 1)\n",
    "sns.countplot(x = 'Survived', data = train_data)\n",
    "plt.title(\"How Many Survived\")\n",
    "\n",
    "plt.subplot(3, 3, 2)\n",
    "sns.countplot(x = \"Sex\", data = train_data)\n",
    "plt.title(\"Sex Counting\")\n",
    "\n",
    "plt.subplot(3, 3, 3)\n",
    "sns.histplot(x = \"Age\", data = train_data, kde = True)\n",
    "plt.title(\"Age Distribution\")\n",
    "\n",
    "plt.subplot(3, 3, 4)\n",
    "sns.countplot(x = 'Pclass', data = train_data)\n",
    "plt.title('Ticket Class')\n",
    "\n",
    "plt.subplot(3, 3, 5)\n",
    "sns.countplot(x = 'SibSp', data = train_data)\n",
    "plt.title(\"# of siblings / spouses\\naboard the Titanic\")\n",
    "\n",
    "plt.subplot(3, 3, 6)\n",
    "sns.countplot(x = 'Parch', data = train_data)\n",
    "plt.title('# of parents / children\\naboard the Titanic')\n",
    "\n",
    "plt.subplot(3, 3, 7)\n",
    "sns.histplot(x = 'Fare', data = train_data, kde = True)\n",
    "plt.title('Passenger fare')"
   ]
  },
  {
   "cell_type": "markdown",
   "id": "6bac8c04",
   "metadata": {
    "papermill": {
     "duration": 0.024925,
     "end_time": "2022-11-22T12:38:13.086316",
     "exception": false,
     "start_time": "2022-11-22T12:38:13.061391",
     "status": "completed"
    },
    "tags": []
   },
   "source": [
    "#### We want to evaluate which features are affecting the chance to survive.\n",
    "#### Accordingly, let's visually examine the connection."
   ]
  },
  {
   "cell_type": "markdown",
   "id": "d758a75c",
   "metadata": {
    "papermill": {
     "duration": 0.024353,
     "end_time": "2022-11-22T12:38:13.134749",
     "exception": false,
     "start_time": "2022-11-22T12:38:13.110396",
     "status": "completed"
    },
    "tags": []
   },
   "source": [
    "**Survived ~ Sex**"
   ]
  },
  {
   "cell_type": "code",
   "execution_count": 17,
   "id": "6df8ca6a",
   "metadata": {
    "execution": {
     "iopub.execute_input": "2022-11-22T12:38:13.189646Z",
     "iopub.status.busy": "2022-11-22T12:38:13.189187Z",
     "iopub.status.idle": "2022-11-22T12:38:13.413411Z",
     "shell.execute_reply": "2022-11-22T12:38:13.411996Z"
    },
    "papermill": {
     "duration": 0.255521,
     "end_time": "2022-11-22T12:38:13.416714",
     "exception": false,
     "start_time": "2022-11-22T12:38:13.161193",
     "status": "completed"
    },
    "tags": []
   },
   "outputs": [
    {
     "name": "stdout",
     "output_type": "stream",
     "text": [
      "% of men who survived: 0.18890814558058924\n",
      "% of women who survived: 0.7420382165605095\n"
     ]
    },
    {
     "data": {
      "text/plain": [
       "<AxesSubplot:xlabel='Sex', ylabel='count'>"
      ]
     },
     "execution_count": 17,
     "metadata": {},
     "output_type": "execute_result"
    },
    {
     "data": {
      "image/png": "[encoded data removed]",
      "text/plain": [
       "<Figure size 432x288 with 1 Axes>"
      ]
     },
     "metadata": {
      "needs_background": "light"
     },
     "output_type": "display_data"
    }
   ],
   "source": [
    "women = train_data.loc[train_data.Sex == \"female\"]['Survived']\n",
    "rate_women = sum(women) / len(women)\n",
    "\n",
    "men = train_data.loc[train_data.Sex == \"male\"]['Survived']\n",
    "rate_men = sum(men) / len(men)\n",
    "\n",
    "print(\"% of men who survived:\", rate_men)\n",
    "print(\"% of women who survived:\", rate_women)\n",
    "\n",
    "sns.countplot(x = 'Sex', data = train_data, hue = 'Survived')"
   ]
  },
  {
   "cell_type": "markdown",
   "id": "25091f2b",
   "metadata": {
    "papermill": {
     "duration": 0.025292,
     "end_time": "2022-11-22T12:38:13.467898",
     "exception": false,
     "start_time": "2022-11-22T12:38:13.442606",
     "status": "completed"
    },
    "tags": []
   },
   "source": [
    "**Survived ~ Ticket Class (Pclass)**"
   ]
  },
  {
   "cell_type": "code",
   "execution_count": 18,
   "id": "2482b128",
   "metadata": {
    "execution": {
     "iopub.execute_input": "2022-11-22T12:38:13.522652Z",
     "iopub.status.busy": "2022-11-22T12:38:13.522191Z",
     "iopub.status.idle": "2022-11-22T12:38:13.775877Z",
     "shell.execute_reply": "2022-11-22T12:38:13.774606Z"
    },
    "papermill": {
     "duration": 0.283399,
     "end_time": "2022-11-22T12:38:13.778861",
     "exception": false,
     "start_time": "2022-11-22T12:38:13.495462",
     "status": "completed"
    },
    "tags": []
   },
   "outputs": [
    {
     "name": "stdout",
     "output_type": "stream",
     "text": [
      "% of class 1 who survived: 0.6296296296296297\n",
      "% of class 2 who survived: 0.47282608695652173\n",
      "% of class 3 who survived: 0.24236252545824846\n"
     ]
    },
    {
     "data": {
      "text/plain": [
       "<AxesSubplot:xlabel='Pclass', ylabel='count'>"
      ]
     },
     "execution_count": 18,
     "metadata": {},
     "output_type": "execute_result"
    },
    {
     "data": {
      "image/png": "[encoded data removed]",
      "text/plain": [
       "<Figure size 432x288 with 1 Axes>"
      ]
     },
     "metadata": {
      "needs_background": "light"
     },
     "output_type": "display_data"
    }
   ],
   "source": [
    "class1 = train_data.loc[train_data.Pclass == 1]['Survived']\n",
    "rate_class1 = sum(class1) / len(class1)\n",
    "\n",
    "class2 = train_data.loc[train_data.Pclass == 2]['Survived']\n",
    "rate_class2 = sum(class2) / len(class2)\n",
    "\n",
    "class3 = train_data.loc[train_data.Pclass == 3]['Survived']\n",
    "rate_class3 = sum(class3) / len(class3)\n",
    "\n",
    "print(\"% of class 1 who survived:\", rate_class1)\n",
    "print(\"% of class 2 who survived:\", rate_class2)\n",
    "print(\"% of class 3 who survived:\", rate_class3)\n",
    "\n",
    "sns.countplot(x = 'Pclass', data = train_data, hue = 'Survived')"
   ]
  },
  {
   "cell_type": "markdown",
   "id": "5087ff77",
   "metadata": {
    "papermill": {
     "duration": 0.025749,
     "end_time": "2022-11-22T12:38:13.831083",
     "exception": false,
     "start_time": "2022-11-22T12:38:13.805334",
     "status": "completed"
    },
    "tags": []
   },
   "source": [
    "**Survived ~ # of Parents/Children (Parch)**"
   ]
  },
  {
   "cell_type": "code",
   "execution_count": 19,
   "id": "5f69ef65",
   "metadata": {
    "execution": {
     "iopub.execute_input": "2022-11-22T12:38:13.884647Z",
     "iopub.status.busy": "2022-11-22T12:38:13.884239Z",
     "iopub.status.idle": "2022-11-22T12:38:14.154673Z",
     "shell.execute_reply": "2022-11-22T12:38:14.153439Z"
    },
    "papermill": {
     "duration": 0.300246,
     "end_time": "2022-11-22T12:38:14.157289",
     "exception": false,
     "start_time": "2022-11-22T12:38:13.857043",
     "status": "completed"
    },
    "tags": []
   },
   "outputs": [
    {
     "name": "stdout",
     "output_type": "stream",
     "text": [
      "% of passengers who have  0  of parents/children aboard the Titanic that survived: 0.34365781710914456\n",
      "% of passengers who have  1  of parents/children aboard the Titanic that survived: 0.5508474576271186\n",
      "% of passengers who have  2  of parents/children aboard the Titanic that survived: 0.5\n",
      "% of passengers who have  5  of parents/children aboard the Titanic that survived: 0.2\n",
      "% of passengers who have  3  of parents/children aboard the Titanic that survived: 0.6\n",
      "% of passengers who have  4  of parents/children aboard the Titanic that survived: 0.0\n",
      "% of passengers who have  6  of parents/children aboard the Titanic that survived: 0.0\n"
     ]
    },
    {
     "data": {
      "text/plain": [
       "<matplotlib.legend.Legend at 0x7f455459fd50>"
      ]
     },
     "execution_count": 19,
     "metadata": {},
     "output_type": "execute_result"
    },
    {
     "data": {
      "image/png": "[encoded data removed]",
      "text/plain": [
       "<Figure size 432x288 with 1 Axes>"
      ]
     },
     "metadata": {
      "needs_background": "light"
     },
     "output_type": "display_data"
    }
   ],
   "source": [
    "for i in train_data.Parch.unique():\n",
    "    temp_survived = train_data.loc[train_data.Parch == i]['Survived']\n",
    "    rate = sum(temp_survived) / len(temp_survived)\n",
    "    print(\"% of passengers who have \", i, \" of parents/children aboard the Titanic that survived:\", rate)\n",
    "    \n",
    "sns.countplot(x = 'Parch', data = train_data, hue = 'Survived')\n",
    "plt.legend(title = 'Survived', loc='upper right')\n"
   ]
  },
  {
   "cell_type": "markdown",
   "id": "12adddfa",
   "metadata": {
    "papermill": {
     "duration": 0.024995,
     "end_time": "2022-11-22T12:38:14.207986",
     "exception": false,
     "start_time": "2022-11-22T12:38:14.182991",
     "status": "completed"
    },
    "tags": []
   },
   "source": [
    "**Survived ~ # of Sibiling/Spouses (SibSp)**"
   ]
  },
  {
   "cell_type": "code",
   "execution_count": 20,
   "id": "c55b4da0",
   "metadata": {
    "execution": {
     "iopub.execute_input": "2022-11-22T12:38:14.260787Z",
     "iopub.status.busy": "2022-11-22T12:38:14.260124Z",
     "iopub.status.idle": "2022-11-22T12:38:14.560860Z",
     "shell.execute_reply": "2022-11-22T12:38:14.559392Z"
    },
    "papermill": {
     "duration": 0.330474,
     "end_time": "2022-11-22T12:38:14.563794",
     "exception": false,
     "start_time": "2022-11-22T12:38:14.233320",
     "status": "completed"
    },
    "tags": []
   },
   "outputs": [
    {
     "name": "stdout",
     "output_type": "stream",
     "text": [
      "% of passengers who have  1  of siblings/spouses aboard the Titanic that survived: 0.5358851674641149\n",
      "% of passengers who have  0  of siblings/spouses aboard the Titanic that survived: 0.34539473684210525\n",
      "% of passengers who have  3  of siblings/spouses aboard the Titanic that survived: 0.25\n",
      "% of passengers who have  4  of siblings/spouses aboard the Titanic that survived: 0.16666666666666666\n",
      "% of passengers who have  2  of siblings/spouses aboard the Titanic that survived: 0.4642857142857143\n",
      "% of passengers who have  5  of siblings/spouses aboard the Titanic that survived: 0.0\n",
      "% of passengers who have  8  of siblings/spouses aboard the Titanic that survived: 0.0\n"
     ]
    },
    {
     "data": {
      "text/plain": [
       "<matplotlib.legend.Legend at 0x7f4554637d10>"
      ]
     },
     "execution_count": 20,
     "metadata": {},
     "output_type": "execute_result"
    },
    {
     "data": {
      "image/png": "[encoded data removed]",
      "text/plain": [
       "<Figure size 432x288 with 1 Axes>"
      ]
     },
     "metadata": {
      "needs_background": "light"
     },
     "output_type": "display_data"
    }
   ],
   "source": [
    "for i in train_data.SibSp.unique():\n",
    "    temp_survived = train_data.loc[train_data.SibSp == i]['Survived']\n",
    "    rate = sum(temp_survived) / len(temp_survived)\n",
    "    print(\"% of passengers who have \", i, \" of siblings/spouses aboard the Titanic that survived:\", rate)\n",
    "    \n",
    "\n",
    "sns.countplot(x = 'SibSp', data = train_data, hue = 'Survived')\n",
    "plt.legend(title = 'Survived', loc='upper right')"
   ]
  },
  {
   "cell_type": "markdown",
   "id": "19c60676",
   "metadata": {
    "papermill": {
     "duration": 0.025379,
     "end_time": "2022-11-22T12:38:14.615038",
     "exception": false,
     "start_time": "2022-11-22T12:38:14.589659",
     "status": "completed"
    },
    "tags": []
   },
   "source": [
    "**Survived ~ Age**"
   ]
  },
  {
   "cell_type": "code",
   "execution_count": 21,
   "id": "49af6449",
   "metadata": {
    "execution": {
     "iopub.execute_input": "2022-11-22T12:38:14.670258Z",
     "iopub.status.busy": "2022-11-22T12:38:14.669474Z",
     "iopub.status.idle": "2022-11-22T12:38:14.916377Z",
     "shell.execute_reply": "2022-11-22T12:38:14.915155Z"
    },
    "papermill": {
     "duration": 0.277343,
     "end_time": "2022-11-22T12:38:14.919247",
     "exception": false,
     "start_time": "2022-11-22T12:38:14.641904",
     "status": "completed"
    },
    "tags": []
   },
   "outputs": [
    {
     "name": "stdout",
     "output_type": "stream",
     "text": [
      "% of Adults that survived: 0.36176066024759285\n",
      "% of Infants that survived: 0.6666666666666666\n",
      "% of Teens that survived: 0.4105263157894737\n",
      "% of Kids that survived: 0.5128205128205128\n"
     ]
    },
    {
     "data": {
      "text/plain": [
       "<AxesSubplot:xlabel='AgeGroup', ylabel='count'>"
      ]
     },
     "execution_count": 21,
     "metadata": {},
     "output_type": "execute_result"
    },
    {
     "data": {
      "image/png": "[encoded data removed]",
      "text/plain": [
       "<Figure size 432x288 with 1 Axes>"
      ]
     },
     "metadata": {
      "needs_background": "light"
     },
     "output_type": "display_data"
    }
   ],
   "source": [
    "for i in train_data.AgeGroup.unique():\n",
    "    temp_survived = train_data.loc[train_data.AgeGroup == i]['Survived']\n",
    "    rate = sum(temp_survived) / len(temp_survived)\n",
    "    print(\"% of\", i + 's', \"that survived:\", rate)\n",
    "\n",
    "sns.countplot(x = 'AgeGroup', data = train_data, hue = 'Survived')"
   ]
  },
  {
   "cell_type": "markdown",
   "id": "7b15a94c",
   "metadata": {
    "papermill": {
     "duration": 0.026846,
     "end_time": "2022-11-22T12:38:14.973314",
     "exception": false,
     "start_time": "2022-11-22T12:38:14.946468",
     "status": "completed"
    },
    "tags": []
   },
   "source": [
    "###### The features- PassengerId, Name, Number of Ticket, Cabin, Embarked and Fare, are not affectingin in any way the chance to survive or not."
   ]
  },
  {
   "cell_type": "markdown",
   "id": "d4e08014",
   "metadata": {
    "papermill": {
     "duration": 0.028422,
     "end_time": "2022-11-22T12:38:15.029504",
     "exception": false,
     "start_time": "2022-11-22T12:38:15.001082",
     "status": "completed"
    },
    "tags": []
   },
   "source": [
    "# **Model Building**"
   ]
  },
  {
   "cell_type": "markdown",
   "id": "572cf9e8",
   "metadata": {
    "papermill": {
     "duration": 0.025364,
     "end_time": "2022-11-22T12:38:15.081168",
     "exception": false,
     "start_time": "2022-11-22T12:38:15.055804",
     "status": "completed"
    },
    "tags": []
   },
   "source": [
    "### Data Preparation\n",
    "Before using the classification models, let's prepered our data:"
   ]
  },
  {
   "cell_type": "code",
   "execution_count": 22,
   "id": "24882c60",
   "metadata": {
    "execution": {
     "iopub.execute_input": "2022-11-22T12:38:15.137505Z",
     "iopub.status.busy": "2022-11-22T12:38:15.136996Z",
     "iopub.status.idle": "2022-11-22T12:38:15.144679Z",
     "shell.execute_reply": "2022-11-22T12:38:15.143436Z"
    },
    "papermill": {
     "duration": 0.039662,
     "end_time": "2022-11-22T12:38:15.147541",
     "exception": false,
     "start_time": "2022-11-22T12:38:15.107879",
     "status": "completed"
    },
    "tags": []
   },
   "outputs": [],
   "source": [
    "X = train_data.loc[:, (\"Sex_cat\", \"Pclass\", \"SibSp\", \"Parch\", \"Age\")]\n",
    "y = train_data[\"Survived\"].values"
   ]
  },
  {
   "cell_type": "markdown",
   "id": "25dc9c85",
   "metadata": {
    "papermill": {
     "duration": 0.026256,
     "end_time": "2022-11-22T12:38:15.200626",
     "exception": false,
     "start_time": "2022-11-22T12:38:15.174370",
     "status": "completed"
    },
    "tags": []
   },
   "source": [
    "The feature matrix, X:"
   ]
  },
  {
   "cell_type": "code",
   "execution_count": 23,
   "id": "93c5ec6c",
   "metadata": {
    "execution": {
     "iopub.execute_input": "2022-11-22T12:38:15.255015Z",
     "iopub.status.busy": "2022-11-22T12:38:15.254607Z",
     "iopub.status.idle": "2022-11-22T12:38:15.268730Z",
     "shell.execute_reply": "2022-11-22T12:38:15.267738Z"
    },
    "papermill": {
     "duration": 0.044412,
     "end_time": "2022-11-22T12:38:15.271004",
     "exception": false,
     "start_time": "2022-11-22T12:38:15.226592",
     "status": "completed"
    },
    "tags": []
   },
   "outputs": [
    {
     "data": {
      "text/html": [
       "<div>\n",
       "<style scoped>\n",
       "    .dataframe tbody tr th:only-of-type {\n",
       "        vertical-align: middle;\n",
       "    }\n",
       "\n",
       "    .dataframe tbody tr th {\n",
       "        vertical-align: top;\n",
       "    }\n",
       "\n",
       "    .dataframe thead th {\n",
       "        text-align: right;\n",
       "    }\n",
       "</style>\n",
       "<table border=\"1\" class=\"dataframe\">\n",
       "  <thead>\n",
       "    <tr style=\"text-align: right;\">\n",
       "      <th></th>\n",
       "      <th>Sex_cat</th>\n",
       "      <th>Pclass</th>\n",
       "      <th>SibSp</th>\n",
       "      <th>Parch</th>\n",
       "      <th>Age</th>\n",
       "    </tr>\n",
       "  </thead>\n",
       "  <tbody>\n",
       "    <tr>\n",
       "      <th>0</th>\n",
       "      <td>1</td>\n",
       "      <td>3</td>\n",
       "      <td>1</td>\n",
       "      <td>0</td>\n",
       "      <td>22.000000</td>\n",
       "    </tr>\n",
       "    <tr>\n",
       "      <th>1</th>\n",
       "      <td>0</td>\n",
       "      <td>1</td>\n",
       "      <td>1</td>\n",
       "      <td>0</td>\n",
       "      <td>38.000000</td>\n",
       "    </tr>\n",
       "    <tr>\n",
       "      <th>2</th>\n",
       "      <td>0</td>\n",
       "      <td>3</td>\n",
       "      <td>0</td>\n",
       "      <td>0</td>\n",
       "      <td>26.000000</td>\n",
       "    </tr>\n",
       "    <tr>\n",
       "      <th>3</th>\n",
       "      <td>0</td>\n",
       "      <td>1</td>\n",
       "      <td>1</td>\n",
       "      <td>0</td>\n",
       "      <td>35.000000</td>\n",
       "    </tr>\n",
       "    <tr>\n",
       "      <th>4</th>\n",
       "      <td>1</td>\n",
       "      <td>3</td>\n",
       "      <td>0</td>\n",
       "      <td>0</td>\n",
       "      <td>35.000000</td>\n",
       "    </tr>\n",
       "    <tr>\n",
       "      <th>...</th>\n",
       "      <td>...</td>\n",
       "      <td>...</td>\n",
       "      <td>...</td>\n",
       "      <td>...</td>\n",
       "      <td>...</td>\n",
       "    </tr>\n",
       "    <tr>\n",
       "      <th>886</th>\n",
       "      <td>1</td>\n",
       "      <td>2</td>\n",
       "      <td>0</td>\n",
       "      <td>0</td>\n",
       "      <td>27.000000</td>\n",
       "    </tr>\n",
       "    <tr>\n",
       "      <th>887</th>\n",
       "      <td>0</td>\n",
       "      <td>1</td>\n",
       "      <td>0</td>\n",
       "      <td>0</td>\n",
       "      <td>19.000000</td>\n",
       "    </tr>\n",
       "    <tr>\n",
       "      <th>888</th>\n",
       "      <td>0</td>\n",
       "      <td>3</td>\n",
       "      <td>1</td>\n",
       "      <td>2</td>\n",
       "      <td>29.699118</td>\n",
       "    </tr>\n",
       "    <tr>\n",
       "      <th>889</th>\n",
       "      <td>1</td>\n",
       "      <td>1</td>\n",
       "      <td>0</td>\n",
       "      <td>0</td>\n",
       "      <td>26.000000</td>\n",
       "    </tr>\n",
       "    <tr>\n",
       "      <th>890</th>\n",
       "      <td>1</td>\n",
       "      <td>3</td>\n",
       "      <td>0</td>\n",
       "      <td>0</td>\n",
       "      <td>32.000000</td>\n",
       "    </tr>\n",
       "  </tbody>\n",
       "</table>\n",
       "<p>891 rows × 5 columns</p>\n",
       "</div>"
      ],
      "text/plain": [
       "     Sex_cat  Pclass  SibSp  Parch        Age\n",
       "0          1       3      1      0  22.000000\n",
       "1          0       1      1      0  38.000000\n",
       "2          0       3      0      0  26.000000\n",
       "3          0       1      1      0  35.000000\n",
       "4          1       3      0      0  35.000000\n",
       "..       ...     ...    ...    ...        ...\n",
       "886        1       2      0      0  27.000000\n",
       "887        0       1      0      0  19.000000\n",
       "888        0       3      1      2  29.699118\n",
       "889        1       1      0      0  26.000000\n",
       "890        1       3      0      0  32.000000\n",
       "\n",
       "[891 rows x 5 columns]"
      ]
     },
     "execution_count": 23,
     "metadata": {},
     "output_type": "execute_result"
    }
   ],
   "source": [
    "X"
   ]
  },
  {
   "cell_type": "markdown",
   "id": "2c94ad97",
   "metadata": {
    "papermill": {
     "duration": 0.025987,
     "end_time": "2022-11-22T12:38:15.323463",
     "exception": false,
     "start_time": "2022-11-22T12:38:15.297476",
     "status": "completed"
    },
    "tags": []
   },
   "source": [
    "The target column, y:"
   ]
  },
  {
   "cell_type": "code",
   "execution_count": 24,
   "id": "bb1ec309",
   "metadata": {
    "execution": {
     "iopub.execute_input": "2022-11-22T12:38:15.379336Z",
     "iopub.status.busy": "2022-11-22T12:38:15.378931Z",
     "iopub.status.idle": "2022-11-22T12:38:15.385501Z",
     "shell.execute_reply": "2022-11-22T12:38:15.384167Z"
    },
    "papermill": {
     "duration": 0.037471,
     "end_time": "2022-11-22T12:38:15.387835",
     "exception": false,
     "start_time": "2022-11-22T12:38:15.350364",
     "status": "completed"
    },
    "tags": []
   },
   "outputs": [
    {
     "data": {
      "text/plain": [
       "array([0, 1, 1, 1, 0])"
      ]
     },
     "execution_count": 24,
     "metadata": {},
     "output_type": "execute_result"
    }
   ],
   "source": [
    "y[:5]"
   ]
  },
  {
   "cell_type": "markdown",
   "id": "ab33c178",
   "metadata": {
    "papermill": {
     "duration": 0.026146,
     "end_time": "2022-11-22T12:38:15.441468",
     "exception": false,
     "start_time": "2022-11-22T12:38:15.415322",
     "status": "completed"
    },
    "tags": []
   },
   "source": [
    "#### Splitting the dataset into the Training set and Test set"
   ]
  },
  {
   "cell_type": "code",
   "execution_count": 25,
   "id": "a119b254",
   "metadata": {
    "execution": {
     "iopub.execute_input": "2022-11-22T12:38:15.498019Z",
     "iopub.status.busy": "2022-11-22T12:38:15.496782Z",
     "iopub.status.idle": "2022-11-22T12:38:15.503617Z",
     "shell.execute_reply": "2022-11-22T12:38:15.502771Z"
    },
    "papermill": {
     "duration": 0.037474,
     "end_time": "2022-11-22T12:38:15.506044",
     "exception": false,
     "start_time": "2022-11-22T12:38:15.468570",
     "status": "completed"
    },
    "tags": []
   },
   "outputs": [],
   "source": [
    "from sklearn.model_selection import train_test_split\n",
    "X_train, X_test, y_train, y_test = train_test_split(X, y, test_size = 0.2, random_state = 0)"
   ]
  },
  {
   "cell_type": "code",
   "execution_count": 26,
   "id": "f28c28b5",
   "metadata": {
    "execution": {
     "iopub.execute_input": "2022-11-22T12:38:15.563653Z",
     "iopub.status.busy": "2022-11-22T12:38:15.563240Z",
     "iopub.status.idle": "2022-11-22T12:38:15.577811Z",
     "shell.execute_reply": "2022-11-22T12:38:15.576458Z"
    },
    "papermill": {
     "duration": 0.047489,
     "end_time": "2022-11-22T12:38:15.580445",
     "exception": false,
     "start_time": "2022-11-22T12:38:15.532956",
     "status": "completed"
    },
    "tags": []
   },
   "outputs": [
    {
     "data": {
      "text/html": [
       "<div>\n",
       "<style scoped>\n",
       "    .dataframe tbody tr th:only-of-type {\n",
       "        vertical-align: middle;\n",
       "    }\n",
       "\n",
       "    .dataframe tbody tr th {\n",
       "        vertical-align: top;\n",
       "    }\n",
       "\n",
       "    .dataframe thead th {\n",
       "        text-align: right;\n",
       "    }\n",
       "</style>\n",
       "<table border=\"1\" class=\"dataframe\">\n",
       "  <thead>\n",
       "    <tr style=\"text-align: right;\">\n",
       "      <th></th>\n",
       "      <th>Sex_cat</th>\n",
       "      <th>Pclass</th>\n",
       "      <th>SibSp</th>\n",
       "      <th>Parch</th>\n",
       "      <th>Age</th>\n",
       "    </tr>\n",
       "  </thead>\n",
       "  <tbody>\n",
       "    <tr>\n",
       "      <th>140</th>\n",
       "      <td>0</td>\n",
       "      <td>3</td>\n",
       "      <td>0</td>\n",
       "      <td>2</td>\n",
       "      <td>29.699118</td>\n",
       "    </tr>\n",
       "    <tr>\n",
       "      <th>439</th>\n",
       "      <td>1</td>\n",
       "      <td>2</td>\n",
       "      <td>0</td>\n",
       "      <td>0</td>\n",
       "      <td>31.000000</td>\n",
       "    </tr>\n",
       "    <tr>\n",
       "      <th>817</th>\n",
       "      <td>1</td>\n",
       "      <td>2</td>\n",
       "      <td>1</td>\n",
       "      <td>1</td>\n",
       "      <td>31.000000</td>\n",
       "    </tr>\n",
       "    <tr>\n",
       "      <th>378</th>\n",
       "      <td>1</td>\n",
       "      <td>3</td>\n",
       "      <td>0</td>\n",
       "      <td>0</td>\n",
       "      <td>20.000000</td>\n",
       "    </tr>\n",
       "    <tr>\n",
       "      <th>491</th>\n",
       "      <td>1</td>\n",
       "      <td>3</td>\n",
       "      <td>0</td>\n",
       "      <td>0</td>\n",
       "      <td>21.000000</td>\n",
       "    </tr>\n",
       "    <tr>\n",
       "      <th>...</th>\n",
       "      <td>...</td>\n",
       "      <td>...</td>\n",
       "      <td>...</td>\n",
       "      <td>...</td>\n",
       "      <td>...</td>\n",
       "    </tr>\n",
       "    <tr>\n",
       "      <th>835</th>\n",
       "      <td>0</td>\n",
       "      <td>1</td>\n",
       "      <td>1</td>\n",
       "      <td>1</td>\n",
       "      <td>39.000000</td>\n",
       "    </tr>\n",
       "    <tr>\n",
       "      <th>192</th>\n",
       "      <td>0</td>\n",
       "      <td>3</td>\n",
       "      <td>1</td>\n",
       "      <td>0</td>\n",
       "      <td>19.000000</td>\n",
       "    </tr>\n",
       "    <tr>\n",
       "      <th>629</th>\n",
       "      <td>1</td>\n",
       "      <td>3</td>\n",
       "      <td>0</td>\n",
       "      <td>0</td>\n",
       "      <td>29.699118</td>\n",
       "    </tr>\n",
       "    <tr>\n",
       "      <th>559</th>\n",
       "      <td>0</td>\n",
       "      <td>3</td>\n",
       "      <td>1</td>\n",
       "      <td>0</td>\n",
       "      <td>36.000000</td>\n",
       "    </tr>\n",
       "    <tr>\n",
       "      <th>684</th>\n",
       "      <td>1</td>\n",
       "      <td>2</td>\n",
       "      <td>1</td>\n",
       "      <td>1</td>\n",
       "      <td>60.000000</td>\n",
       "    </tr>\n",
       "  </tbody>\n",
       "</table>\n",
       "<p>712 rows × 5 columns</p>\n",
       "</div>"
      ],
      "text/plain": [
       "     Sex_cat  Pclass  SibSp  Parch        Age\n",
       "140        0       3      0      2  29.699118\n",
       "439        1       2      0      0  31.000000\n",
       "817        1       2      1      1  31.000000\n",
       "378        1       3      0      0  20.000000\n",
       "491        1       3      0      0  21.000000\n",
       "..       ...     ...    ...    ...        ...\n",
       "835        0       1      1      1  39.000000\n",
       "192        0       3      1      0  19.000000\n",
       "629        1       3      0      0  29.699118\n",
       "559        0       3      1      0  36.000000\n",
       "684        1       2      1      1  60.000000\n",
       "\n",
       "[712 rows x 5 columns]"
      ]
     },
     "execution_count": 26,
     "metadata": {},
     "output_type": "execute_result"
    }
   ],
   "source": [
    "X_train"
   ]
  },
  {
   "cell_type": "markdown",
   "id": "15db4815",
   "metadata": {
    "papermill": {
     "duration": 0.026598,
     "end_time": "2022-11-22T12:38:15.633896",
     "exception": false,
     "start_time": "2022-11-22T12:38:15.607298",
     "status": "completed"
    },
    "tags": []
   },
   "source": [
    "#### Feature Scaling"
   ]
  },
  {
   "cell_type": "code",
   "execution_count": 27,
   "id": "f2a2f02c",
   "metadata": {
    "execution": {
     "iopub.execute_input": "2022-11-22T12:38:15.689798Z",
     "iopub.status.busy": "2022-11-22T12:38:15.689354Z",
     "iopub.status.idle": "2022-11-22T12:38:15.700772Z",
     "shell.execute_reply": "2022-11-22T12:38:15.699794Z"
    },
    "papermill": {
     "duration": 0.041996,
     "end_time": "2022-11-22T12:38:15.703270",
     "exception": false,
     "start_time": "2022-11-22T12:38:15.661274",
     "status": "completed"
    },
    "tags": []
   },
   "outputs": [],
   "source": [
    "# feature scaling\n",
    "from sklearn.preprocessing import StandardScaler\n",
    "sc = StandardScaler()\n",
    "X_train = sc.fit_transform(X_train)\n",
    "X_test = sc.transform(X_test)"
   ]
  },
  {
   "cell_type": "markdown",
   "id": "1adba6b0",
   "metadata": {
    "papermill": {
     "duration": 0.026082,
     "end_time": "2022-11-22T12:38:15.755941",
     "exception": false,
     "start_time": "2022-11-22T12:38:15.729859",
     "status": "completed"
    },
    "tags": []
   },
   "source": [
    "## **Feature and Model Selection**"
   ]
  },
  {
   "cell_type": "code",
   "execution_count": 28,
   "id": "df735d70",
   "metadata": {
    "execution": {
     "iopub.execute_input": "2022-11-22T12:38:15.812618Z",
     "iopub.status.busy": "2022-11-22T12:38:15.812204Z",
     "iopub.status.idle": "2022-11-22T12:38:15.834007Z",
     "shell.execute_reply": "2022-11-22T12:38:15.832642Z"
    },
    "papermill": {
     "duration": 0.053192,
     "end_time": "2022-11-22T12:38:15.836825",
     "exception": false,
     "start_time": "2022-11-22T12:38:15.783633",
     "status": "completed"
    },
    "tags": []
   },
   "outputs": [],
   "source": [
    "from sklearn.model_selection import cross_val_score, GridSearchCV, RepeatedStratifiedKFold\n",
    "#cross_val_predict, KFold, \n",
    "from sklearn.metrics import confusion_matrix, accuracy_score\n",
    "from sklearn.pipeline import Pipeline\n",
    "from sklearn.feature_selection import RFECV"
   ]
  },
  {
   "cell_type": "code",
   "execution_count": 29,
   "id": "77df7d00",
   "metadata": {
    "execution": {
     "iopub.execute_input": "2022-11-22T12:38:15.892107Z",
     "iopub.status.busy": "2022-11-22T12:38:15.891687Z",
     "iopub.status.idle": "2022-11-22T12:38:15.896990Z",
     "shell.execute_reply": "2022-11-22T12:38:15.895615Z"
    },
    "papermill": {
     "duration": 0.036086,
     "end_time": "2022-11-22T12:38:15.899656",
     "exception": false,
     "start_time": "2022-11-22T12:38:15.863570",
     "status": "completed"
    },
    "tags": []
   },
   "outputs": [],
   "source": [
    "# some experience....\n",
    "# here we use Decision Tree as estimator in the RFECV\n",
    "# from sklearn.tree import DecisionTreeClassifier\n",
    "# from sklearn.ensemble import RandomForestClassifier\n",
    "# rfe = RFECV(estimator=LogisticRegression(), cv = 10)\n",
    "# rfe = rfe.fit(X_train,y_train)\n",
    "# print(\"Feature ranking: \", rfe.ranking_)\n",
    "\n",
    "# # extracting the selected features.  get_support() function helps us to get those features names. \n",
    "# mask = rfe.get_support()\n",
    "# features = X.columns\n",
    "# best_features = features[mask]\n",
    " \n",
    "# print(\"All features: \", X.shape[1])\n",
    "# print(features)\n",
    "\n",
    "# print(\"Selected best: \", best_features.shape[0])\n",
    "# print(features[mask])"
   ]
  },
  {
   "cell_type": "markdown",
   "id": "d713ad42",
   "metadata": {
    "papermill": {
     "duration": 0.026898,
     "end_time": "2022-11-22T12:38:15.954614",
     "exception": false,
     "start_time": "2022-11-22T12:38:15.927716",
     "status": "completed"
    },
    "tags": []
   },
   "source": [
    "Let's run RFECV with different estimators to select features. Additionally, let's run some classification models, to get intuition about which estimator and classification algorithm will give us the best results.\n",
    "\n",
    "After we chose the estimator and the model, we can check which features are selected and use GridSearchCV to find the best hyperparameters for the chosen model."
   ]
  },
  {
   "cell_type": "code",
   "execution_count": 30,
   "id": "b5f09e6b",
   "metadata": {
    "execution": {
     "iopub.execute_input": "2022-11-22T12:38:16.013904Z",
     "iopub.status.busy": "2022-11-22T12:38:16.013492Z",
     "iopub.status.idle": "2022-11-22T12:46:42.835205Z",
     "shell.execute_reply": "2022-11-22T12:46:42.833653Z"
    },
    "papermill": {
     "duration": 506.854881,
     "end_time": "2022-11-22T12:46:42.837817",
     "exception": false,
     "start_time": "2022-11-22T12:38:15.982936",
     "status": "completed"
    },
    "tags": []
   },
   "outputs": [
    {
     "name": "stdout",
     "output_type": "stream",
     "text": [
      "\n",
      "LR\n",
      "\n",
      ">lr 0.789 (0.045)\n",
      ">per 0.787 (0.046)\n",
      ">cart 0.782 (0.045)\n",
      ">rf 0.786 (0.042)\n",
      ">gbm 0.784 (0.044)\n",
      ">svm 0.786 (0.045)\n",
      "\n",
      "SVM\n",
      "\n",
      ">lr 0.786 (0.045)\n",
      ">per 0.786 (0.045)\n",
      ">cart 0.786 (0.045)\n",
      ">rf 0.786 (0.045)\n",
      ">gbm 0.786 (0.045)\n",
      ">svm 0.786 (0.045)\n",
      "\n",
      "RF\n",
      "\n",
      ">lr 0.803 (0.039)\n",
      ">per 0.792 (0.050)\n",
      ">cart 0.789 (0.045)\n",
      ">rf 0.793 (0.044)\n",
      ">gbm 0.800 (0.049)\n",
      ">svm 0.786 (0.045)\n",
      "\n",
      "KNN\n",
      "\n",
      ">lr 0.798 (0.045)\n",
      ">per 0.796 (0.046)\n",
      ">cart 0.789 (0.054)\n",
      ">rf 0.804 (0.043)\n",
      ">gbm 0.802 (0.044)\n",
      ">svm 0.747 (0.077)\n",
      "\n",
      "NB\n",
      "\n",
      ">lr 0.781 (0.050)\n",
      ">per 0.769 (0.052)\n",
      ">cart 0.765 (0.046)\n",
      ">rf 0.766 (0.048)\n",
      ">gbm 0.763 (0.047)\n",
      ">svm 0.786 (0.045)\n"
     ]
    }
   ],
   "source": [
    "from sklearn.linear_model import LogisticRegression\n",
    "from sklearn.linear_model import Perceptron\n",
    "from sklearn.tree import DecisionTreeClassifier\n",
    "from sklearn.ensemble import RandomForestClassifier\n",
    "from sklearn.ensemble import GradientBoostingClassifier\n",
    "from sklearn.svm import SVC\n",
    "from sklearn.naive_bayes import GaussianNB\n",
    "from sklearn.neighbors import KNeighborsClassifier\n",
    "\n",
    "\n",
    "# from sklearn.pipeline import Pipeline\n",
    "# get a list of models to evaluate\n",
    "def get_models(modelc):\n",
    "    models = dict()\n",
    "    # lr\n",
    "    rfe = RFECV(estimator=LogisticRegression())\n",
    "    model = modelc\n",
    "    models['lr'] = Pipeline(steps=[('s',rfe),('m',model)])\n",
    "    # perceptron\n",
    "    rfe = RFECV(estimator=Perceptron())\n",
    "    model = modelc\n",
    "    models['per'] = Pipeline(steps=[('s',rfe),('m',model)])\n",
    "    # cart\n",
    "    rfe = RFECV(estimator=DecisionTreeClassifier())\n",
    "    model = modelc\n",
    "    models['cart'] = Pipeline(steps=[('s',rfe),('m',model)])\n",
    "    # rf\n",
    "    rfe = RFECV(estimator=RandomForestClassifier())\n",
    "    model = modelc\n",
    "    models['rf'] = Pipeline(steps=[('s',rfe),('m',model)])\n",
    "    # gbm\n",
    "    rfe = RFECV(estimator=GradientBoostingClassifier())\n",
    "    model = modelc\n",
    "    models['gbm'] = Pipeline(steps=[('s',rfe),('m',model)])\n",
    "    # svm\n",
    "    rfe = RFECV(estimator=SVC(kernel='linear'))\n",
    "    model = modelc\n",
    "    models['svm'] = Pipeline(steps=[('s',rfe),('m',model)])\n",
    "    return models\n",
    "\n",
    "# evaluate a give model using cross-validation\n",
    "def evaluate_model(model, X, y):\n",
    "    cv = RepeatedStratifiedKFold(n_splits=10, n_repeats=3, random_state=1)\n",
    "    scores = cross_val_score(model, X, y, scoring='accuracy', cv=cv, n_jobs=-1)\n",
    "    return scores\n",
    "\n",
    "models_dict = {'LR': LogisticRegression(random_state=0),\n",
    "               'SVM': SVC(kernel='linear', random_state=0),\n",
    "               'RF': RandomForestClassifier(),\n",
    "               'KNN': KNeighborsClassifier(),\n",
    "               'NB': GaussianNB()}\n",
    "\n",
    "# get the models to evaluate\n",
    "for i in models_dict.keys():\n",
    "    print('\\n'+i+'\\n')\n",
    "    models = get_models(models_dict[i])\n",
    "    # evaluate the models and store results\n",
    "    results, names = list(), list()\n",
    "    for name, model in models.items():\n",
    "        scores = evaluate_model(model, X_train, y_train)\n",
    "        results.append(scores)\n",
    "        names.append(name)\n",
    "        print('>%s %.3f (%.3f)' % (name, np.mean(scores), np.std(scores)))"
   ]
  },
  {
   "cell_type": "markdown",
   "id": "0a5434e4",
   "metadata": {
    "papermill": {
     "duration": 0.028662,
     "end_time": "2022-11-22T12:46:42.895226",
     "exception": false,
     "start_time": "2022-11-22T12:46:42.866564",
     "status": "completed"
    },
    "tags": []
   },
   "source": [
    "O.K, let's continue with the two models with the highest accuracy score-\n",
    "- Random Forest + Random Forest as estimator in the RFECV (accuracy score = 0.8).\n",
    "- K-NN + Random Forest as estimator in the RFECV (accuracy score = 0.806).\n"
   ]
  },
  {
   "cell_type": "markdown",
   "id": "7421a06e",
   "metadata": {
    "papermill": {
     "duration": 0.028041,
     "end_time": "2022-11-22T12:46:42.951980",
     "exception": false,
     "start_time": "2022-11-22T12:46:42.923939",
     "status": "completed"
    },
    "tags": []
   },
   "source": [
    "## **Random Forest**\n",
    "The feature that were selected:"
   ]
  },
  {
   "cell_type": "code",
   "execution_count": 31,
   "id": "f072be14",
   "metadata": {
    "execution": {
     "iopub.execute_input": "2022-11-22T12:46:43.014045Z",
     "iopub.status.busy": "2022-11-22T12:46:43.013262Z",
     "iopub.status.idle": "2022-11-22T12:46:48.427409Z",
     "shell.execute_reply": "2022-11-22T12:46:48.425898Z"
    },
    "papermill": {
     "duration": 5.448774,
     "end_time": "2022-11-22T12:46:48.430252",
     "exception": false,
     "start_time": "2022-11-22T12:46:42.981478",
     "status": "completed"
    },
    "tags": []
   },
   "outputs": [
    {
     "name": "stdout",
     "output_type": "stream",
     "text": [
      "Feature ranking:  [1 1 1 1 1]\n",
      "Selected best:  5\n",
      "Index(['Sex_cat', 'Pclass', 'SibSp', 'Parch', 'Age'], dtype='object')\n"
     ]
    }
   ],
   "source": [
    "rf_rfe = RFECV(estimator=RandomForestClassifier())\n",
    "rf_pipe = Pipeline(steps=[('s',rf_rfe),('m',RandomForestClassifier())])\n",
    "\n",
    "X_new = rf_rfe.fit_transform(X_train, y_train)\n",
    "print(\"Feature ranking: \", rf_rfe.ranking_)\n",
    "\n",
    "mask = rf_rfe.get_support()\n",
    "features = X.columns\n",
    "best_features = features[mask]\n",
    "\n",
    "# print(\"All features: \", x.shape[1])\n",
    "# print(features)\n",
    "\n",
    "print(\"Selected best: \", best_features.shape[0])\n",
    "print(features[mask])"
   ]
  },
  {
   "cell_type": "code",
   "execution_count": 32,
   "id": "b076c320",
   "metadata": {
    "execution": {
     "iopub.execute_input": "2022-11-22T12:46:48.492545Z",
     "iopub.status.busy": "2022-11-22T12:46:48.491836Z",
     "iopub.status.idle": "2022-11-22T12:46:48.500682Z",
     "shell.execute_reply": "2022-11-22T12:46:48.499373Z"
    },
    "papermill": {
     "duration": 0.043345,
     "end_time": "2022-11-22T12:46:48.503132",
     "exception": false,
     "start_time": "2022-11-22T12:46:48.459787",
     "status": "completed"
    },
    "tags": []
   },
   "outputs": [
    {
     "data": {
      "text/plain": [
       "array([[-1.37207547,  0.81925059, -0.46445234,  1.95926403, -0.00282437],\n",
       "       [ 0.72882288, -0.38096838, -0.46445234, -0.47741019,  0.09662937],\n",
       "       [ 0.72882288, -0.38096838,  0.41270964,  0.74092692,  0.09662937],\n",
       "       ...,\n",
       "       [ 0.72882288,  0.81925059, -0.46445234, -0.47741019, -0.00282437],\n",
       "       [-1.37207547,  0.81925059,  0.41270964, -0.47741019,  0.47888431],\n",
       "       [ 0.72882288, -0.38096838,  0.41270964,  0.74092692,  2.31370804]])"
      ]
     },
     "execution_count": 32,
     "metadata": {},
     "output_type": "execute_result"
    }
   ],
   "source": [
    "X_train[:,mask]"
   ]
  },
  {
   "cell_type": "markdown",
   "id": "5a35855c",
   "metadata": {
    "papermill": {
     "duration": 0.028979,
     "end_time": "2022-11-22T12:46:48.561802",
     "exception": false,
     "start_time": "2022-11-22T12:46:48.532823",
     "status": "completed"
    },
    "tags": []
   },
   "source": [
    "Evaluate the model"
   ]
  },
  {
   "cell_type": "code",
   "execution_count": 33,
   "id": "b08b3e9a",
   "metadata": {
    "execution": {
     "iopub.execute_input": "2022-11-22T12:46:48.622476Z",
     "iopub.status.busy": "2022-11-22T12:46:48.621249Z",
     "iopub.status.idle": "2022-11-22T12:49:31.465501Z",
     "shell.execute_reply": "2022-11-22T12:49:31.464303Z"
    },
    "papermill": {
     "duration": 162.905986,
     "end_time": "2022-11-22T12:49:31.497067",
     "exception": false,
     "start_time": "2022-11-22T12:46:48.591081",
     "status": "completed"
    },
    "tags": []
   },
   "outputs": [
    {
     "name": "stdout",
     "output_type": "stream",
     "text": [
      "Accuracy: 0.794 (0.044)\n"
     ]
    }
   ],
   "source": [
    "# evaluate model\n",
    "cv = RepeatedStratifiedKFold(n_splits=10, n_repeats=3, random_state=1)\n",
    "n_scores = cross_val_score(rf_pipe, X_new, y_train, scoring='accuracy', cv=cv, error_score='raise')\n",
    "# report performance\n",
    "print('Accuracy: %.3f (%.3f)' % (np.mean(n_scores), np.std(n_scores)))"
   ]
  },
  {
   "cell_type": "markdown",
   "id": "12e635fa",
   "metadata": {
    "papermill": {
     "duration": 0.029048,
     "end_time": "2022-11-22T12:49:31.554682",
     "exception": false,
     "start_time": "2022-11-22T12:49:31.525634",
     "status": "completed"
    },
    "tags": []
   },
   "source": [
    "Find the best hyperparameters using GridSearchCV"
   ]
  },
  {
   "cell_type": "code",
   "execution_count": 34,
   "id": "95313913",
   "metadata": {
    "execution": {
     "iopub.execute_input": "2022-11-22T12:49:31.615911Z",
     "iopub.status.busy": "2022-11-22T12:49:31.615537Z",
     "iopub.status.idle": "2022-11-22T12:49:31.623648Z",
     "shell.execute_reply": "2022-11-22T12:49:31.622185Z"
    },
    "papermill": {
     "duration": 0.041327,
     "end_time": "2022-11-22T12:49:31.626188",
     "exception": false,
     "start_time": "2022-11-22T12:49:31.584861",
     "status": "completed"
    },
    "tags": []
   },
   "outputs": [],
   "source": [
    "# Criterion\n",
    "criterion = ['gini', 'entropy', 'log_loss']\n",
    "# Number of trees in random forest\n",
    "n_estimators = [100, 250, 500, 1000]\n",
    "#[int(x) for x in np.linspace(start = 200, stop = 2000, num = 10)]\n",
    "# Number of features to consider at every split\n",
    "max_features = ['auto', 'sqrt']\n",
    "# Maximum number of levels in tree\n",
    "max_depth = [int(x) for x in np.linspace(10, 110, num = 11)]\n",
    "max_depth.append(None)\n",
    "# Minimum number of samples required to split a node\n",
    "min_samples_split = [2, 5, 10]\n",
    "# Minimum number of samples required at each leaf node\n",
    "min_samples_leaf = [1, 2, 4]\n",
    "# Method of selecting samples for training each tree\n",
    "bootstrap = [True, False]\n",
    "\n",
    "# Create the random grid\n",
    "random_grid = {'m__criterion': criterion,\n",
    "               'm__n_estimators': n_estimators,\n",
    "               'm__max_features': max_features,\n",
    "               'm__max_depth': max_depth,\n",
    "               'm__min_samples_split': min_samples_split,\n",
    "               'm__min_samples_leaf': min_samples_leaf,\n",
    "               'm__bootstrap': bootstrap}"
   ]
  },
  {
   "cell_type": "code",
   "execution_count": 35,
   "id": "78880835",
   "metadata": {
    "execution": {
     "iopub.execute_input": "2022-11-22T12:49:31.687205Z",
     "iopub.status.busy": "2022-11-22T12:49:31.686744Z",
     "iopub.status.idle": "2022-11-22T12:49:31.693817Z",
     "shell.execute_reply": "2022-11-22T12:49:31.693022Z"
    },
    "papermill": {
     "duration": 0.039528,
     "end_time": "2022-11-22T12:49:31.695881",
     "exception": false,
     "start_time": "2022-11-22T12:49:31.656353",
     "status": "completed"
    },
    "tags": []
   },
   "outputs": [
    {
     "data": {
      "text/plain": [
       "'rf_grid_search = GridSearchCV(rf_pipe,\\n                           param_grid = random_grid,\\n                           scoring = \\'accuracy\\',\\n                           cv = cv)\\nrf_grid_search.fit(X_new, y_train)\\nbest_accuracy = rf_grid_search.best_score_\\nbest_parameters = rf_grid_search.best_params_\\nprint(\"Best Accuracy: {:.2f} %\".format(best_accuracy*100))\\nprint(\"Best Parameters:\", best_parameters)'"
      ]
     },
     "execution_count": 35,
     "metadata": {},
     "output_type": "execute_result"
    }
   ],
   "source": [
    "#run very slow\n",
    "'''rf_grid_search = GridSearchCV(rf_pipe,\n",
    "                           param_grid = random_grid,\n",
    "                           scoring = 'accuracy',\n",
    "                           cv = cv)\n",
    "rf_grid_search.fit(X_new, y_train)\n",
    "best_accuracy = rf_grid_search.best_score_\n",
    "best_parameters = rf_grid_search.best_params_\n",
    "print(\"Best Accuracy: {:.2f} %\".format(best_accuracy*100))\n",
    "print(\"Best Parameters:\", best_parameters)'''"
   ]
  },
  {
   "cell_type": "code",
   "execution_count": 36,
   "id": "37ef5a1e",
   "metadata": {
    "execution": {
     "iopub.execute_input": "2022-11-22T12:49:31.758827Z",
     "iopub.status.busy": "2022-11-22T12:49:31.758013Z",
     "iopub.status.idle": "2022-11-22T12:49:35.658238Z",
     "shell.execute_reply": "2022-11-22T12:49:35.657054Z"
    },
    "papermill": {
     "duration": 3.934157,
     "end_time": "2022-11-22T12:49:35.660717",
     "exception": false,
     "start_time": "2022-11-22T12:49:31.726560",
     "status": "completed"
    },
    "tags": []
   },
   "outputs": [
    {
     "name": "stdout",
     "output_type": "stream",
     "text": [
      "[[99 11]\n",
      " [20 49]]\n"
     ]
    },
    {
     "data": {
      "text/plain": [
       "0.8268156424581006"
      ]
     },
     "execution_count": 36,
     "metadata": {},
     "output_type": "execute_result"
    }
   ],
   "source": [
    "rf_clf = RandomForestClassifier(n_estimators=2000, criterion='gini')\n",
    "rf_clf.fit(X_new, y_train)\n",
    "y_pred = rf_clf.predict(X_test[:,mask])\n",
    "cm = confusion_matrix(y_test, y_pred)\n",
    "print(cm)\n",
    "accuracy_score(y_test, y_pred)"
   ]
  },
  {
   "cell_type": "code",
   "execution_count": 37,
   "id": "44abfc25",
   "metadata": {
    "execution": {
     "iopub.execute_input": "2022-11-22T12:49:35.722574Z",
     "iopub.status.busy": "2022-11-22T12:49:35.722151Z",
     "iopub.status.idle": "2022-11-22T12:49:35.730219Z",
     "shell.execute_reply": "2022-11-22T12:49:35.728933Z"
    },
    "papermill": {
     "duration": 0.041368,
     "end_time": "2022-11-22T12:49:35.732535",
     "exception": false,
     "start_time": "2022-11-22T12:49:35.691167",
     "status": "completed"
    },
    "tags": []
   },
   "outputs": [
    {
     "data": {
      "text/plain": [
       "array([[-1.37207547,  0.81925059, -0.46445234, -0.00282437],\n",
       "       [ 0.72882288, -0.38096838, -0.46445234,  0.09662937],\n",
       "       [ 0.72882288, -0.38096838,  0.41270964,  0.09662937],\n",
       "       ...,\n",
       "       [ 0.72882288,  0.81925059, -0.46445234, -0.00282437],\n",
       "       [-1.37207547,  0.81925059,  0.41270964,  0.47888431],\n",
       "       [ 0.72882288, -0.38096838,  0.41270964,  2.31370804]])"
      ]
     },
     "execution_count": 37,
     "metadata": {},
     "output_type": "execute_result"
    }
   ],
   "source": [
    "X_train[:,[0,1,2,4]]"
   ]
  },
  {
   "cell_type": "code",
   "execution_count": 38,
   "id": "cac0c8d9",
   "metadata": {
    "execution": {
     "iopub.execute_input": "2022-11-22T12:49:35.793977Z",
     "iopub.status.busy": "2022-11-22T12:49:35.793541Z",
     "iopub.status.idle": "2022-11-22T12:49:35.800519Z",
     "shell.execute_reply": "2022-11-22T12:49:35.799557Z"
    },
    "papermill": {
     "duration": 0.040046,
     "end_time": "2022-11-22T12:49:35.802767",
     "exception": false,
     "start_time": "2022-11-22T12:49:35.762721",
     "status": "completed"
    },
    "tags": []
   },
   "outputs": [
    {
     "data": {
      "text/plain": [
       "array([[-1.37207547,  0.81925059, -0.46445234,  1.95926403, -0.00282437],\n",
       "       [ 0.72882288, -0.38096838, -0.46445234, -0.47741019,  0.09662937],\n",
       "       [ 0.72882288, -0.38096838,  0.41270964,  0.74092692,  0.09662937],\n",
       "       ...,\n",
       "       [ 0.72882288,  0.81925059, -0.46445234, -0.47741019, -0.00282437],\n",
       "       [-1.37207547,  0.81925059,  0.41270964, -0.47741019,  0.47888431],\n",
       "       [ 0.72882288, -0.38096838,  0.41270964,  0.74092692,  2.31370804]])"
      ]
     },
     "execution_count": 38,
     "metadata": {},
     "output_type": "execute_result"
    }
   ],
   "source": [
    "X_new"
   ]
  },
  {
   "cell_type": "markdown",
   "id": "5768713b",
   "metadata": {
    "papermill": {
     "duration": 0.02961,
     "end_time": "2022-11-22T12:49:35.864146",
     "exception": false,
     "start_time": "2022-11-22T12:49:35.834536",
     "status": "completed"
    },
    "tags": []
   },
   "source": [
    "Predict the test set"
   ]
  },
  {
   "cell_type": "code",
   "execution_count": 39,
   "id": "33931ee4",
   "metadata": {
    "execution": {
     "iopub.execute_input": "2022-11-22T12:49:35.927836Z",
     "iopub.status.busy": "2022-11-22T12:49:35.927439Z",
     "iopub.status.idle": "2022-11-22T12:49:35.934356Z",
     "shell.execute_reply": "2022-11-22T12:49:35.933163Z"
    },
    "papermill": {
     "duration": 0.042028,
     "end_time": "2022-11-22T12:49:35.936943",
     "exception": false,
     "start_time": "2022-11-22T12:49:35.894915",
     "status": "completed"
    },
    "tags": []
   },
   "outputs": [
    {
     "data": {
      "text/plain": [
       "'\\n# The next step:\\nrf_pred = rf_pipe.predict(X_test)\\ncm = confusion_matrix(y_test, rf_pred)\\nprint(cm)\\naccuracy_score(y_test, rf_pred)\\n'"
      ]
     },
     "execution_count": 39,
     "metadata": {},
     "output_type": "execute_result"
    }
   ],
   "source": [
    "'''\n",
    "# The next step:\n",
    "rf_pred = rf_pipe.predict(X_test)\n",
    "cm = confusion_matrix(y_test, rf_pred)\n",
    "print(cm)\n",
    "accuracy_score(y_test, rf_pred)\n",
    "'''"
   ]
  },
  {
   "cell_type": "markdown",
   "id": "dcf346ff",
   "metadata": {
    "papermill": {
     "duration": 0.02937,
     "end_time": "2022-11-22T12:49:35.997053",
     "exception": false,
     "start_time": "2022-11-22T12:49:35.967683",
     "status": "completed"
    },
    "tags": []
   },
   "source": [
    "## **Model Selection**"
   ]
  },
  {
   "cell_type": "markdown",
   "id": "a34453cf",
   "metadata": {
    "papermill": {
     "duration": 0.029325,
     "end_time": "2022-11-22T12:49:36.057142",
     "exception": false,
     "start_time": "2022-11-22T12:49:36.027817",
     "status": "completed"
    },
    "tags": []
   },
   "source": [
    "To find the best model with the best parameters, let's use cross validation and grid search."
   ]
  },
  {
   "cell_type": "code",
   "execution_count": 40,
   "id": "d6f3e04d",
   "metadata": {
    "execution": {
     "iopub.execute_input": "2022-11-22T12:49:36.118487Z",
     "iopub.status.busy": "2022-11-22T12:49:36.117752Z",
     "iopub.status.idle": "2022-11-22T12:49:36.123153Z",
     "shell.execute_reply": "2022-11-22T12:49:36.121941Z"
    },
    "papermill": {
     "duration": 0.038779,
     "end_time": "2022-11-22T12:49:36.125479",
     "exception": false,
     "start_time": "2022-11-22T12:49:36.086700",
     "status": "completed"
    },
    "tags": []
   },
   "outputs": [],
   "source": [
    "models_accuracy_scores = {}\n",
    "# best_params = {}"
   ]
  },
  {
   "cell_type": "markdown",
   "id": "59d17d06",
   "metadata": {
    "papermill": {
     "duration": 0.029552,
     "end_time": "2022-11-22T12:49:36.185174",
     "exception": false,
     "start_time": "2022-11-22T12:49:36.155622",
     "status": "completed"
    },
    "tags": []
   },
   "source": [
    "## **Logistic Regression**"
   ]
  },
  {
   "cell_type": "markdown",
   "id": "c31961fb",
   "metadata": {
    "papermill": {
     "duration": 0.029896,
     "end_time": "2022-11-22T12:49:36.244536",
     "exception": false,
     "start_time": "2022-11-22T12:49:36.214640",
     "status": "completed"
    },
    "tags": []
   },
   "source": [
    "Training the Logistic Regression model on the Training set"
   ]
  },
  {
   "cell_type": "code",
   "execution_count": 41,
   "id": "ab934bd5",
   "metadata": {
    "execution": {
     "iopub.execute_input": "2022-11-22T12:49:36.306510Z",
     "iopub.status.busy": "2022-11-22T12:49:36.305724Z",
     "iopub.status.idle": "2022-11-22T12:49:36.320800Z",
     "shell.execute_reply": "2022-11-22T12:49:36.319980Z"
    },
    "papermill": {
     "duration": 0.048433,
     "end_time": "2022-11-22T12:49:36.323161",
     "exception": false,
     "start_time": "2022-11-22T12:49:36.274728",
     "status": "completed"
    },
    "tags": []
   },
   "outputs": [
    {
     "data": {
      "text/plain": [
       "LogisticRegression(random_state=0)"
      ]
     },
     "execution_count": 41,
     "metadata": {},
     "output_type": "execute_result"
    }
   ],
   "source": [
    "logistic_classifier = LogisticRegression(random_state=0)\n",
    "logistic_classifier.fit(X_train, y_train)"
   ]
  },
  {
   "cell_type": "markdown",
   "id": "52feec85",
   "metadata": {
    "papermill": {
     "duration": 0.029996,
     "end_time": "2022-11-22T12:49:36.384960",
     "exception": false,
     "start_time": "2022-11-22T12:49:36.354964",
     "status": "completed"
    },
    "tags": []
   },
   "source": [
    "Making the Confusion Matrix"
   ]
  },
  {
   "cell_type": "code",
   "execution_count": 42,
   "id": "3aaccc4a",
   "metadata": {
    "execution": {
     "iopub.execute_input": "2022-11-22T12:49:36.450308Z",
     "iopub.status.busy": "2022-11-22T12:49:36.449877Z",
     "iopub.status.idle": "2022-11-22T12:49:36.461898Z",
     "shell.execute_reply": "2022-11-22T12:49:36.460048Z"
    },
    "papermill": {
     "duration": 0.048653,
     "end_time": "2022-11-22T12:49:36.464947",
     "exception": false,
     "start_time": "2022-11-22T12:49:36.416294",
     "status": "completed"
    },
    "tags": []
   },
   "outputs": [
    {
     "name": "stdout",
     "output_type": "stream",
     "text": [
      "[[92 18]\n",
      " [17 52]]\n"
     ]
    },
    {
     "data": {
      "text/plain": [
       "0.8044692737430168"
      ]
     },
     "execution_count": 42,
     "metadata": {},
     "output_type": "execute_result"
    }
   ],
   "source": [
    "y_pred = logistic_classifier.predict(X_test)\n",
    "cm = confusion_matrix(y_test, y_pred)\n",
    "print(cm)\n",
    "accuracy_score(y_test, y_pred)"
   ]
  },
  {
   "cell_type": "markdown",
   "id": "56b22fd6",
   "metadata": {
    "papermill": {
     "duration": 0.036201,
     "end_time": "2022-11-22T12:49:36.531694",
     "exception": false,
     "start_time": "2022-11-22T12:49:36.495493",
     "status": "completed"
    },
    "tags": []
   },
   "source": [
    "Feature Selection"
   ]
  },
  {
   "cell_type": "code",
   "execution_count": 43,
   "id": "9eed4b2a",
   "metadata": {
    "execution": {
     "iopub.execute_input": "2022-11-22T12:49:36.607765Z",
     "iopub.status.busy": "2022-11-22T12:49:36.607377Z",
     "iopub.status.idle": "2022-11-22T12:49:37.855736Z",
     "shell.execute_reply": "2022-11-22T12:49:37.854170Z"
    },
    "papermill": {
     "duration": 1.287115,
     "end_time": "2022-11-22T12:49:37.858317",
     "exception": false,
     "start_time": "2022-11-22T12:49:36.571202",
     "status": "completed"
    },
    "tags": []
   },
   "outputs": [
    {
     "name": "stdout",
     "output_type": "stream",
     "text": [
      "Accuracy: 0.800 (0.045)\n"
     ]
    }
   ],
   "source": [
    "from sklearn.tree import DecisionTreeClassifier\n",
    "# create pipeline\n",
    "rfe = RFECV(estimator=LogisticRegression())\n",
    "model = LogisticRegression()\n",
    "pipeline = Pipeline(steps=[('s',rfe),('m',model)])\n",
    "# evaluate model\n",
    "cv = RepeatedStratifiedKFold(n_splits=10, n_repeats=1, random_state=1)\n",
    "n_scores = cross_val_score(pipeline, X_train, y_train, scoring='accuracy', cv=cv, error_score='raise')\n",
    "# report performance\n",
    "print('Accuracy: %.3f (%.3f)' % (np.mean(n_scores), np.std(n_scores)))"
   ]
  },
  {
   "cell_type": "code",
   "execution_count": 44,
   "id": "a9ebee2f",
   "metadata": {
    "execution": {
     "iopub.execute_input": "2022-11-22T12:49:37.924125Z",
     "iopub.status.busy": "2022-11-22T12:49:37.923230Z",
     "iopub.status.idle": "2022-11-22T12:49:38.050357Z",
     "shell.execute_reply": "2022-11-22T12:49:38.048148Z"
    },
    "papermill": {
     "duration": 0.164125,
     "end_time": "2022-11-22T12:49:38.053806",
     "exception": false,
     "start_time": "2022-11-22T12:49:37.889681",
     "status": "completed"
    },
    "tags": []
   },
   "outputs": [
    {
     "name": "stdout",
     "output_type": "stream",
     "text": [
      "All features:  5\n",
      "Index(['Sex_cat', 'Pclass', 'SibSp', 'Parch', 'Age'], dtype='object')\n",
      "Selected best:  3\n",
      "Index(['Sex_cat', 'Pclass', 'Age'], dtype='object')\n"
     ]
    }
   ],
   "source": [
    "rfe.fit(X_train, y_train)\n",
    "mask = rfe.get_support()\n",
    "features = X.columns\n",
    "best_features = features[mask]\n",
    " \n",
    "print(\"All features: \", X.shape[1])\n",
    "print(features)\n",
    "\n",
    "print(\"Selected best: \", best_features.shape[0])\n",
    "print(features[mask])"
   ]
  },
  {
   "cell_type": "code",
   "execution_count": 45,
   "id": "98f3f078",
   "metadata": {
    "execution": {
     "iopub.execute_input": "2022-11-22T12:49:38.116809Z",
     "iopub.status.busy": "2022-11-22T12:49:38.116388Z",
     "iopub.status.idle": "2022-11-22T12:49:38.121309Z",
     "shell.execute_reply": "2022-11-22T12:49:38.119972Z"
    },
    "papermill": {
     "duration": 0.039553,
     "end_time": "2022-11-22T12:49:38.123926",
     "exception": false,
     "start_time": "2022-11-22T12:49:38.084373",
     "status": "completed"
    },
    "tags": []
   },
   "outputs": [],
   "source": [
    "# model.fit(X_new, y_train)\n",
    "# pip_pred = pipeline.predict(X_test)\n",
    "# cm = confusion_matrix(y_test, pip_pred)\n",
    "# print(cm)\n",
    "# accuracy_score(y_test, pip_pred)"
   ]
  },
  {
   "cell_type": "markdown",
   "id": "fac64d53",
   "metadata": {
    "papermill": {
     "duration": 0.030395,
     "end_time": "2022-11-22T12:49:38.184688",
     "exception": false,
     "start_time": "2022-11-22T12:49:38.154293",
     "status": "completed"
    },
    "tags": []
   },
   "source": [
    "Applying k-Fold Cross Validation"
   ]
  },
  {
   "cell_type": "code",
   "execution_count": 46,
   "id": "6c67d093",
   "metadata": {
    "execution": {
     "iopub.execute_input": "2022-11-22T12:49:38.246136Z",
     "iopub.status.busy": "2022-11-22T12:49:38.245694Z",
     "iopub.status.idle": "2022-11-22T12:49:38.303863Z",
     "shell.execute_reply": "2022-11-22T12:49:38.302162Z"
    },
    "papermill": {
     "duration": 0.092538,
     "end_time": "2022-11-22T12:49:38.307050",
     "exception": false,
     "start_time": "2022-11-22T12:49:38.214512",
     "status": "completed"
    },
    "tags": []
   },
   "outputs": [
    {
     "name": "stdout",
     "output_type": "stream",
     "text": [
      "Accuracy: 78.38 %\n",
      "Standard Deviation: 4.74 %\n"
     ]
    }
   ],
   "source": [
    "accuracies = cross_val_score(estimator = logistic_classifier, X = X_train, y = y_train, cv = 10)\n",
    "print(\"Accuracy: {:.2f} %\".format(accuracies.mean()*100))\n",
    "print(\"Standard Deviation: {:.2f} %\".format(accuracies.std()*100))"
   ]
  },
  {
   "cell_type": "markdown",
   "id": "662ebc33",
   "metadata": {
    "papermill": {
     "duration": 0.030305,
     "end_time": "2022-11-22T12:49:38.367670",
     "exception": false,
     "start_time": "2022-11-22T12:49:38.337365",
     "status": "completed"
    },
    "tags": []
   },
   "source": [
    "Applying Grid Search to find the best model and the best parameters"
   ]
  },
  {
   "cell_type": "code",
   "execution_count": 47,
   "id": "5588b4d8",
   "metadata": {
    "execution": {
     "iopub.execute_input": "2022-11-22T12:49:38.430772Z",
     "iopub.status.busy": "2022-11-22T12:49:38.430337Z",
     "iopub.status.idle": "2022-11-22T12:49:41.784302Z",
     "shell.execute_reply": "2022-11-22T12:49:41.782950Z"
    },
    "papermill": {
     "duration": 3.390601,
     "end_time": "2022-11-22T12:49:41.788247",
     "exception": false,
     "start_time": "2022-11-22T12:49:38.397646",
     "status": "completed"
    },
    "tags": []
   },
   "outputs": [
    {
     "name": "stdout",
     "output_type": "stream",
     "text": [
      "Best Accuracy: 80.49 %\n",
      "Best Parameters: {'C': 0.1, 'penalty': 'l1', 'solver': 'saga'}\n"
     ]
    }
   ],
   "source": [
    "parameters = [{'C': [0.01, 0.1, 0.15, 0.25, 0.5, 0.75, 1], 'penalty': ['l2'], 'solver': ['newton-cg', 'lbfgs', 'sag', 'saga']},\n",
    "              {'penalty': ['none'], 'solver': ['newton-cg', 'lbfgs', 'sag', 'saga']},\n",
    "              {'C': [0.01, 0.1, 0.15,  0.25, 0.5, 0.75, 1], 'penalty': ['l2', 'l1'], 'solver': ['liblinear', 'saga']},\n",
    "              {'C': [0.01, 0.1, 0.15, 0.25, 0.5, 0.75, 1], 'penalty': ['elasticnet'], 'solver': ['saga'], 'l1_ratio': [0.25, 0.5, 0.75]}]\n",
    "\n",
    "grid_search = GridSearchCV(estimator = logistic_classifier,\n",
    "                           param_grid = parameters,\n",
    "                           scoring = 'accuracy',\n",
    "                           cv = 10)\n",
    "grid_search.fit(X_train, y_train)\n",
    "best_accuracy = grid_search.best_score_\n",
    "best_parameters = grid_search.best_params_\n",
    "print(\"Best Accuracy: {:.2f} %\".format(best_accuracy*100))\n",
    "print(\"Best Parameters:\", best_parameters)"
   ]
  },
  {
   "cell_type": "code",
   "execution_count": 48,
   "id": "b50978c9",
   "metadata": {
    "execution": {
     "iopub.execute_input": "2022-11-22T12:49:41.854371Z",
     "iopub.status.busy": "2022-11-22T12:49:41.853811Z",
     "iopub.status.idle": "2022-11-22T12:49:41.862827Z",
     "shell.execute_reply": "2022-11-22T12:49:41.861636Z"
    },
    "papermill": {
     "duration": 0.044521,
     "end_time": "2022-11-22T12:49:41.865261",
     "exception": false,
     "start_time": "2022-11-22T12:49:41.820740",
     "status": "completed"
    },
    "tags": []
   },
   "outputs": [
    {
     "data": {
      "text/plain": [
       "0.7877094972067039"
      ]
     },
     "execution_count": 48,
     "metadata": {},
     "output_type": "execute_result"
    }
   ],
   "source": [
    "grid_pred = grid_search.predict(X_test)\n",
    "accuracy_score(y_test, grid_pred)"
   ]
  },
  {
   "cell_type": "code",
   "execution_count": 49,
   "id": "2033068c",
   "metadata": {
    "execution": {
     "iopub.execute_input": "2022-11-22T12:49:41.928478Z",
     "iopub.status.busy": "2022-11-22T12:49:41.928033Z",
     "iopub.status.idle": "2022-11-22T12:49:41.937306Z",
     "shell.execute_reply": "2022-11-22T12:49:41.936231Z"
    },
    "papermill": {
     "duration": 0.044428,
     "end_time": "2022-11-22T12:49:41.939658",
     "exception": false,
     "start_time": "2022-11-22T12:49:41.895230",
     "status": "completed"
    },
    "tags": []
   },
   "outputs": [
    {
     "data": {
      "text/plain": [
       "GridSearchCV(cv=10, estimator=LogisticRegression(random_state=0),\n",
       "             param_grid=[{'C': [0.01, 0.1, 0.15, 0.25, 0.5, 0.75, 1],\n",
       "                          'penalty': ['l2'],\n",
       "                          'solver': ['newton-cg', 'lbfgs', 'sag', 'saga']},\n",
       "                         {'penalty': ['none'],\n",
       "                          'solver': ['newton-cg', 'lbfgs', 'sag', 'saga']},\n",
       "                         {'C': [0.01, 0.1, 0.15, 0.25, 0.5, 0.75, 1],\n",
       "                          'penalty': ['l2', 'l1'],\n",
       "                          'solver': ['liblinear', 'saga']},\n",
       "                         {'C': [0.01, 0.1, 0.15, 0.25, 0.5, 0.75, 1],\n",
       "                          'l1_ratio': [0.25, 0.5, 0.75],\n",
       "                          'penalty': ['elasticnet'], 'solver': ['saga']}],\n",
       "             scoring='accuracy')"
      ]
     },
     "execution_count": 49,
     "metadata": {},
     "output_type": "execute_result"
    }
   ],
   "source": [
    "grid_search"
   ]
  },
  {
   "cell_type": "code",
   "execution_count": 50,
   "id": "61a206e0",
   "metadata": {
    "execution": {
     "iopub.execute_input": "2022-11-22T12:49:42.003682Z",
     "iopub.status.busy": "2022-11-22T12:49:42.003271Z",
     "iopub.status.idle": "2022-11-22T12:49:42.009412Z",
     "shell.execute_reply": "2022-11-22T12:49:42.008181Z"
    },
    "papermill": {
     "duration": 0.041662,
     "end_time": "2022-11-22T12:49:42.011934",
     "exception": false,
     "start_time": "2022-11-22T12:49:41.970272",
     "status": "completed"
    },
    "tags": []
   },
   "outputs": [],
   "source": [
    "# models_accuracy_scores[\"Logistic Regression\"] = [logistic_score, logistic_std]"
   ]
  },
  {
   "cell_type": "markdown",
   "id": "6a14c762",
   "metadata": {
    "papermill": {
     "duration": 0.029978,
     "end_time": "2022-11-22T12:49:42.072046",
     "exception": false,
     "start_time": "2022-11-22T12:49:42.042068",
     "status": "completed"
    },
    "tags": []
   },
   "source": [
    "## **K-NN**"
   ]
  },
  {
   "cell_type": "code",
   "execution_count": 51,
   "id": "bf06017c",
   "metadata": {
    "execution": {
     "iopub.execute_input": "2022-11-22T12:49:42.136301Z",
     "iopub.status.busy": "2022-11-22T12:49:42.135081Z",
     "iopub.status.idle": "2022-11-22T12:49:44.704977Z",
     "shell.execute_reply": "2022-11-22T12:49:44.703512Z"
    },
    "papermill": {
     "duration": 2.60564,
     "end_time": "2022-11-22T12:49:44.707786",
     "exception": false,
     "start_time": "2022-11-22T12:49:42.102146",
     "status": "completed"
    },
    "tags": []
   },
   "outputs": [
    {
     "name": "stdout",
     "output_type": "stream",
     "text": [
      "[0.7519725343320849, 0.7845318352059925, 0.7901498127340825, 0.7878776529338327, 0.7912609238451935, 0.7845318352059926, 0.7811860174781524, 0.7755555555555554, 0.7901622971285892, 0.7699500624219725, 0.772247191011236, 0.7778152309612983, 0.7857053682896379, 0.7598501872659176, 0.77, 0.7509113607990012, 0.7509238451935081, 0.7486516853932584, 0.7464294631710363, 0.7419101123595506, 0.7441697877652933, 0.7407740324594257, 0.7452808988764045, 0.7374406991260923, 0.7385892634207242, 0.7296254681647939, 0.7385892634207241, 0.7228589263420724, 0.734107365792759, 0.7205992509363296]\n"
     ]
    }
   ],
   "source": [
    "# search for an optimal value of k for K-NN\n",
    "from sklearn.neighbors import KNeighborsClassifier\n",
    "k_range = range(1,31)\n",
    "k_scores = []\n",
    "for k in k_range:\n",
    "    knn = KNeighborsClassifier(n_neighbors=k, metric='minkowski', p=2)\n",
    "    scores = cross_val_score(knn, X, y, cv = 10, scoring = 'accuracy')\n",
    "    k_scores.append(scores.mean())\n",
    "print(k_scores)"
   ]
  },
  {
   "cell_type": "code",
   "execution_count": 52,
   "id": "514aa91b",
   "metadata": {
    "execution": {
     "iopub.execute_input": "2022-11-22T12:49:44.770603Z",
     "iopub.status.busy": "2022-11-22T12:49:44.769732Z",
     "iopub.status.idle": "2022-11-22T12:49:45.007743Z",
     "shell.execute_reply": "2022-11-22T12:49:45.006435Z"
    },
    "papermill": {
     "duration": 0.272104,
     "end_time": "2022-11-22T12:49:45.010245",
     "exception": false,
     "start_time": "2022-11-22T12:49:44.738141",
     "status": "completed"
    },
    "tags": []
   },
   "outputs": [
    {
     "data": {
      "text/plain": [
       "Text(0, 0.5, 'Cross-Validated Accuracy')"
      ]
     },
     "execution_count": 52,
     "metadata": {},
     "output_type": "execute_result"
    },
    {
     "data": {
      "image/png": "[encoded data removed]",
      "text/plain": [
       "<Figure size 432x288 with 1 Axes>"
      ]
     },
     "metadata": {
      "needs_background": "light"
     },
     "output_type": "display_data"
    }
   ],
   "source": [
    "# plot the value of k for K-NN (x axis) versus the cross-validated accuracy (y axis)\n",
    "plt.plot(k_range, k_scores)\n",
    "plt.xlabel('Value of k')\n",
    "plt.ylabel('Cross-Validated Accuracy')"
   ]
  },
  {
   "cell_type": "markdown",
   "id": "ab19cf1b",
   "metadata": {
    "papermill": {
     "duration": 0.030902,
     "end_time": "2022-11-22T12:49:45.071902",
     "exception": false,
     "start_time": "2022-11-22T12:49:45.041000",
     "status": "completed"
    },
    "tags": []
   },
   "source": [
    "The optimal value of k is 27 with 0.786729 accuracy score"
   ]
  },
  {
   "cell_type": "code",
   "execution_count": 53,
   "id": "38fe4869",
   "metadata": {
    "execution": {
     "iopub.execute_input": "2022-11-22T12:49:45.135066Z",
     "iopub.status.busy": "2022-11-22T12:49:45.134655Z",
     "iopub.status.idle": "2022-11-22T12:49:45.231960Z",
     "shell.execute_reply": "2022-11-22T12:49:45.230487Z"
    },
    "papermill": {
     "duration": 0.132561,
     "end_time": "2022-11-22T12:49:45.235068",
     "exception": false,
     "start_time": "2022-11-22T12:49:45.102507",
     "status": "completed"
    },
    "tags": []
   },
   "outputs": [
    {
     "name": "stdout",
     "output_type": "stream",
     "text": [
      "0.7296254681647939\n"
     ]
    }
   ],
   "source": [
    "knn_classifier = KNeighborsClassifier(n_neighbors=26, metric='minkowski', p=2)\n",
    "knn_accuracies = cross_val_score(knn_classifier, X, y, cv = 10, scoring = 'accuracy')\n",
    "knn_score = knn_accuracies.mean()\n",
    "knn_std = knn_accuracies.std()\n",
    "print(knn_score)\n",
    "models_accuracy_scores[\"K-NN\"] = [knn_score, knn_std]"
   ]
  },
  {
   "cell_type": "markdown",
   "id": "d21911ad",
   "metadata": {
    "papermill": {
     "duration": 0.030989,
     "end_time": "2022-11-22T12:49:45.298046",
     "exception": false,
     "start_time": "2022-11-22T12:49:45.267057",
     "status": "completed"
    },
    "tags": []
   },
   "source": [
    "## **SVM**"
   ]
  },
  {
   "cell_type": "code",
   "execution_count": 54,
   "id": "e3e60fc8",
   "metadata": {
    "execution": {
     "iopub.execute_input": "2022-11-22T12:49:45.363666Z",
     "iopub.status.busy": "2022-11-22T12:49:45.362958Z",
     "iopub.status.idle": "2022-11-22T12:50:05.328256Z",
     "shell.execute_reply": "2022-11-22T12:50:05.327037Z"
    },
    "papermill": {
     "duration": 20.001437,
     "end_time": "2022-11-22T12:50:05.331081",
     "exception": false,
     "start_time": "2022-11-22T12:49:45.329644",
     "status": "completed"
    },
    "tags": []
   },
   "outputs": [],
   "source": [
    "from sklearn.svm import SVC\n",
    "svm_classifier = SVC(kernel='linear', random_state=0)\n",
    "svm_accuracies = cross_val_score(svm_classifier, X, y, cv = 10, scoring = 'accuracy')\n",
    "svm_score = svm_accuracies.mean()\n",
    "svm_std = svm_accuracies.std()\n",
    "models_accuracy_scores[\"SVM\"] = [svm_score, svm_std]"
   ]
  },
  {
   "cell_type": "code",
   "execution_count": 55,
   "id": "b5b494ae",
   "metadata": {
    "execution": {
     "iopub.execute_input": "2022-11-22T12:50:05.397221Z",
     "iopub.status.busy": "2022-11-22T12:50:05.396711Z",
     "iopub.status.idle": "2022-11-22T12:50:05.404782Z",
     "shell.execute_reply": "2022-11-22T12:50:05.403646Z"
    },
    "papermill": {
     "duration": 0.044258,
     "end_time": "2022-11-22T12:50:05.407311",
     "exception": false,
     "start_time": "2022-11-22T12:50:05.363053",
     "status": "completed"
    },
    "tags": []
   },
   "outputs": [
    {
     "data": {
      "text/plain": [
       "{'K-NN': [0.7296254681647939, 0.04557067527823288],\n",
       " 'SVM': [0.786729088639201, 0.028599350013463757]}"
      ]
     },
     "execution_count": 55,
     "metadata": {},
     "output_type": "execute_result"
    }
   ],
   "source": [
    "models_accuracy_scores"
   ]
  },
  {
   "cell_type": "markdown",
   "id": "de947e2e",
   "metadata": {
    "papermill": {
     "duration": 0.030688,
     "end_time": "2022-11-22T12:50:05.470126",
     "exception": false,
     "start_time": "2022-11-22T12:50:05.439438",
     "status": "completed"
    },
    "tags": []
   },
   "source": [
    "## **Naive Bayes**"
   ]
  },
  {
   "cell_type": "code",
   "execution_count": 56,
   "id": "49ab8b6b",
   "metadata": {
    "execution": {
     "iopub.execute_input": "2022-11-22T12:50:05.534402Z",
     "iopub.status.busy": "2022-11-22T12:50:05.533819Z",
     "iopub.status.idle": "2022-11-22T12:50:05.592496Z",
     "shell.execute_reply": "2022-11-22T12:50:05.591272Z"
    },
    "papermill": {
     "duration": 0.093902,
     "end_time": "2022-11-22T12:50:05.595065",
     "exception": false,
     "start_time": "2022-11-22T12:50:05.501163",
     "status": "completed"
    },
    "tags": []
   },
   "outputs": [],
   "source": [
    "from sklearn.naive_bayes import GaussianNB\n",
    "nb_classifier = GaussianNB()\n",
    "nb_accuracies = cross_val_score(nb_classifier, X, y, cv = 10, scoring = 'accuracy')\n",
    "nb_score = nb_accuracies.mean()\n",
    "nb_std = nb_accuracies.std()\n",
    "models_accuracy_scores[\"Naive Bayes\"] = [nb_score, nb_std]"
   ]
  },
  {
   "cell_type": "code",
   "execution_count": 57,
   "id": "4aaa5713",
   "metadata": {
    "execution": {
     "iopub.execute_input": "2022-11-22T12:50:05.661632Z",
     "iopub.status.busy": "2022-11-22T12:50:05.661234Z",
     "iopub.status.idle": "2022-11-22T12:50:05.668859Z",
     "shell.execute_reply": "2022-11-22T12:50:05.667637Z"
    },
    "papermill": {
     "duration": 0.043692,
     "end_time": "2022-11-22T12:50:05.671361",
     "exception": false,
     "start_time": "2022-11-22T12:50:05.627669",
     "status": "completed"
    },
    "tags": []
   },
   "outputs": [
    {
     "data": {
      "text/plain": [
       "0.762059925093633"
      ]
     },
     "execution_count": 57,
     "metadata": {},
     "output_type": "execute_result"
    }
   ],
   "source": [
    "nb_score"
   ]
  },
  {
   "cell_type": "markdown",
   "id": "4802dd9f",
   "metadata": {
    "papermill": {
     "duration": 0.031074,
     "end_time": "2022-11-22T12:50:05.735021",
     "exception": false,
     "start_time": "2022-11-22T12:50:05.703947",
     "status": "completed"
    },
    "tags": []
   },
   "source": [
    "## **Random Forest**"
   ]
  },
  {
   "cell_type": "code",
   "execution_count": 58,
   "id": "49ea0570",
   "metadata": {
    "execution": {
     "iopub.execute_input": "2022-11-22T12:50:05.799974Z",
     "iopub.status.busy": "2022-11-22T12:50:05.799526Z",
     "iopub.status.idle": "2022-11-22T12:50:06.072452Z",
     "shell.execute_reply": "2022-11-22T12:50:06.071613Z"
    },
    "papermill": {
     "duration": 0.308236,
     "end_time": "2022-11-22T12:50:06.074822",
     "exception": false,
     "start_time": "2022-11-22T12:50:05.766586",
     "status": "completed"
    },
    "tags": []
   },
   "outputs": [
    {
     "data": {
      "text/plain": [
       "0.7991885143570536"
      ]
     },
     "execution_count": 58,
     "metadata": {},
     "output_type": "execute_result"
    }
   ],
   "source": [
    "from sklearn.ensemble import RandomForestClassifier\n",
    "rf_classifier = RandomForestClassifier(n_estimators=10, criterion='entropy', random_state=0)\n",
    "rf_accuracies = cross_val_score(rf_classifier, X, y, cv = 10, scoring = 'accuracy')\n",
    "rf_score = rf_accuracies.mean()\n",
    "rf_std = rf_accuracies.std()\n",
    "models_accuracy_scores[\"Random forest\"] = [rf_score, rf_std]\n",
    "rf_score"
   ]
  },
  {
   "cell_type": "code",
   "execution_count": 59,
   "id": "ca07f3f3",
   "metadata": {
    "execution": {
     "iopub.execute_input": "2022-11-22T12:50:06.141343Z",
     "iopub.status.busy": "2022-11-22T12:50:06.140204Z",
     "iopub.status.idle": "2022-11-22T12:50:06.148215Z",
     "shell.execute_reply": "2022-11-22T12:50:06.147016Z"
    },
    "papermill": {
     "duration": 0.04428,
     "end_time": "2022-11-22T12:50:06.150846",
     "exception": false,
     "start_time": "2022-11-22T12:50:06.106566",
     "status": "completed"
    },
    "tags": []
   },
   "outputs": [
    {
     "data": {
      "text/plain": [
       "{'K-NN': [0.7296254681647939, 0.04557067527823288],\n",
       " 'SVM': [0.786729088639201, 0.028599350013463757],\n",
       " 'Naive Bayes': [0.762059925093633, 0.028809289673386286],\n",
       " 'Random forest': [0.7991885143570536, 0.039088368060222374]}"
      ]
     },
     "execution_count": 59,
     "metadata": {},
     "output_type": "execute_result"
    }
   ],
   "source": [
    "models_accuracy_scores"
   ]
  },
  {
   "cell_type": "code",
   "execution_count": 60,
   "id": "53d7cd50",
   "metadata": {
    "execution": {
     "iopub.execute_input": "2022-11-22T12:50:06.217333Z",
     "iopub.status.busy": "2022-11-22T12:50:06.216503Z",
     "iopub.status.idle": "2022-11-22T12:50:06.222322Z",
     "shell.execute_reply": "2022-11-22T12:50:06.221064Z"
    },
    "papermill": {
     "duration": 0.0429,
     "end_time": "2022-11-22T12:50:06.225186",
     "exception": false,
     "start_time": "2022-11-22T12:50:06.182286",
     "status": "completed"
    },
    "tags": []
   },
   "outputs": [],
   "source": [
    "# from sklearn.ensemble import RandomForestClassifier\n",
    "\n",
    "# y = train_data[\"Survived\"]\n",
    "\n",
    "# features = [\"Pclass\", \"Sex\", \"SibSp\", \"Parch\"]\n",
    "# X = pd.get_dummies(train_data[features])\n",
    "# X_test = pd.get_dummies(test_data[features])\n",
    "\n",
    "# model = RandomForestClassifier(n_estimators=100, max_depth=5, random_state=1)\n",
    "# model.fit(X, y)\n",
    "# predictions = model.predict(X_test)\n",
    "\n",
    "# output = pd.DataFrame({'PassengerId': test_data.PassengerId, 'Survived': predictions})\n",
    "# output.to_csv('submission.csv', index=False)\n",
    "# print(\"Your submission was successfully saved!\")"
   ]
  },
  {
   "cell_type": "code",
   "execution_count": 61,
   "id": "9d73d61b",
   "metadata": {
    "execution": {
     "iopub.execute_input": "2022-11-22T12:50:06.291572Z",
     "iopub.status.busy": "2022-11-22T12:50:06.291171Z",
     "iopub.status.idle": "2022-11-22T12:50:06.296108Z",
     "shell.execute_reply": "2022-11-22T12:50:06.294848Z"
    },
    "papermill": {
     "duration": 0.040837,
     "end_time": "2022-11-22T12:50:06.298396",
     "exception": false,
     "start_time": "2022-11-22T12:50:06.257559",
     "status": "completed"
    },
    "tags": []
   },
   "outputs": [],
   "source": [
    "# output.head()"
   ]
  }
 ],
 "metadata": {
  "kernelspec": {
   "display_name": "Python 3",
   "language": "python",
   "name": "python3"
  },
  "language_info": {
   "codemirror_mode": {
    "name": "ipython",
    "version": 3
   },
   "file_extension": ".py",
   "mimetype": "text/x-python",
   "name": "python",
   "nbconvert_exporter": "python",
   "pygments_lexer": "ipython3",
   "version": "3.7.12"
  },
  "papermill": {
   "default_parameters": {},
   "duration": 730.286224,
   "end_time": "2022-11-22T12:50:08.953942",
   "environment_variables": {},
   "exception": null,
   "input_path": "__notebook__.ipynb",
   "output_path": "__notebook__.ipynb",
   "parameters": {},
   "start_time": "2022-11-22T12:37:58.667718",
   "version": "2.3.4"
  }
 },
 "nbformat": 4,
 "nbformat_minor": 5
}
