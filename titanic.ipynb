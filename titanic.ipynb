{
 "cells": [
  {
   "cell_type": "code",
   "execution_count": 1,
   "id": "9be0da1f",
   "metadata": {
    "_cell_guid": "b1076dfc-b9ad-4769-8c92-a6c4dae69d19",
    "_uuid": "8f2839f25d086af736a60e9eeb907d3b93b6e0e5",
    "execution": {
     "iopub.execute_input": "2022-12-05T13:39:07.667943Z",
     "iopub.status.busy": "2022-12-05T13:39:07.667290Z",
     "iopub.status.idle": "2022-12-05T13:39:07.682527Z",
     "shell.execute_reply": "2022-12-05T13:39:07.680980Z"
    },
    "papermill": {
     "duration": 0.047754,
     "end_time": "2022-12-05T13:39:07.685922",
     "exception": false,
     "start_time": "2022-12-05T13:39:07.638168",
     "status": "completed"
    },
    "tags": []
   },
   "outputs": [
    {
     "name": "stdout",
     "output_type": "stream",
     "text": [
      "/kaggle/input/titanic/train.csv\n",
      "/kaggle/input/titanic/test.csv\n",
      "/kaggle/input/titanic/gender_submission.csv\n"
     ]
    }
   ],
   "source": [
    "# This Python 3 environment comes with many helpful analytics libraries installed\n",
    "# It is defined by the kaggle/python Docker image: https://github.com/kaggle/docker-python\n",
    "# For example, here's several helpful packages to load\n",
    "\n",
    "import numpy as np # linear algebra\n",
    "import pandas as pd # data processing, CSV file I/O (e.g. pd.read_csv)\n",
    "\n",
    "# Input data files are available in the read-only \"../input/\" directory\n",
    "# For example, running this (by clicking run or pressing Shift+Enter) will list all files under the input directory\n",
    "\n",
    "import os\n",
    "for dirname, _, filenames in os.walk('/kaggle/input'):\n",
    "    for filename in filenames:\n",
    "        print(os.path.join(dirname, filename))\n",
    "\n",
    "# You can write up to 20GB to the current directory (/kaggle/working/) that gets preserved as output when you create a version using \"Save & Run All\" \n",
    "# You can also write temporary files to /kaggle/temp/, but they won't be saved outside of the current session"
   ]
  },
  {
   "cell_type": "markdown",
   "id": "9598bee7",
   "metadata": {
    "papermill": {
     "duration": 0.030163,
     "end_time": "2022-12-05T13:39:07.748448",
     "exception": false,
     "start_time": "2022-12-05T13:39:07.718285",
     "status": "completed"
    },
    "tags": []
   },
   "source": [
    "On April 15, 1912, during her maiden voyage, the widely considered “unsinkable” RMS Titanic sank after colliding with an iceberg. Unfortunately, there weren’t enough lifeboats for everyone onboard, resulting in the death of 1502 out of 2224 passengers and crew.\n",
    "\n",
    "While there was some element of luck involved in surviving, it seems some groups of people were more likely to survive than others.\n",
    "\n",
    "In this notebook I would like the answer the question-\n",
    "“what sorts of people were more likely to survive?”\n",
    "using some classification models that predicts which passengers survived the Titanic shipwreck."
   ]
  },
  {
   "cell_type": "code",
   "execution_count": 2,
   "id": "cec05c77",
   "metadata": {
    "execution": {
     "iopub.execute_input": "2022-12-05T13:39:07.803374Z",
     "iopub.status.busy": "2022-12-05T13:39:07.802078Z",
     "iopub.status.idle": "2022-12-05T13:39:09.137110Z",
     "shell.execute_reply": "2022-12-05T13:39:09.134937Z"
    },
    "papermill": {
     "duration": 1.364954,
     "end_time": "2022-12-05T13:39:09.140205",
     "exception": false,
     "start_time": "2022-12-05T13:39:07.775251",
     "status": "completed"
    },
    "tags": []
   },
   "outputs": [],
   "source": [
    "import matplotlib.pyplot as plt\n",
    "import seaborn as sns"
   ]
  },
  {
   "cell_type": "code",
   "execution_count": 3,
   "id": "5d78e8d8",
   "metadata": {
    "execution": {
     "iopub.execute_input": "2022-12-05T13:39:09.195546Z",
     "iopub.status.busy": "2022-12-05T13:39:09.195176Z",
     "iopub.status.idle": "2022-12-05T13:39:09.385536Z",
     "shell.execute_reply": "2022-12-05T13:39:09.383554Z"
    },
    "papermill": {
     "duration": 0.221642,
     "end_time": "2022-12-05T13:39:09.388716",
     "exception": false,
     "start_time": "2022-12-05T13:39:09.167074",
     "status": "completed"
    },
    "tags": []
   },
   "outputs": [],
   "source": [
    "from sklearn.preprocessing import OneHotEncoder, LabelEncoder"
   ]
  },
  {
   "cell_type": "markdown",
   "id": "a38c0023",
   "metadata": {
    "papermill": {
     "duration": 0.025558,
     "end_time": "2022-12-05T13:39:09.440540",
     "exception": false,
     "start_time": "2022-12-05T13:39:09.414982",
     "status": "completed"
    },
    "tags": []
   },
   "source": [
    "# **Importing the datasets**"
   ]
  },
  {
   "cell_type": "markdown",
   "id": "8ce1ec97",
   "metadata": {
    "papermill": {
     "duration": 0.025818,
     "end_time": "2022-12-05T13:39:09.492043",
     "exception": false,
     "start_time": "2022-12-05T13:39:09.466225",
     "status": "completed"
    },
    "tags": []
   },
   "source": [
    "## **Train data**"
   ]
  },
  {
   "cell_type": "code",
   "execution_count": 4,
   "id": "f8af0d5f",
   "metadata": {
    "execution": {
     "iopub.execute_input": "2022-12-05T13:39:09.544601Z",
     "iopub.status.busy": "2022-12-05T13:39:09.544149Z",
     "iopub.status.idle": "2022-12-05T13:39:09.588710Z",
     "shell.execute_reply": "2022-12-05T13:39:09.586500Z"
    },
    "papermill": {
     "duration": 0.074851,
     "end_time": "2022-12-05T13:39:09.591940",
     "exception": false,
     "start_time": "2022-12-05T13:39:09.517089",
     "status": "completed"
    },
    "tags": []
   },
   "outputs": [
    {
     "data": {
      "text/html": [
       "<div>\n",
       "<style scoped>\n",
       "    .dataframe tbody tr th:only-of-type {\n",
       "        vertical-align: middle;\n",
       "    }\n",
       "\n",
       "    .dataframe tbody tr th {\n",
       "        vertical-align: top;\n",
       "    }\n",
       "\n",
       "    .dataframe thead th {\n",
       "        text-align: right;\n",
       "    }\n",
       "</style>\n",
       "<table border=\"1\" class=\"dataframe\">\n",
       "  <thead>\n",
       "    <tr style=\"text-align: right;\">\n",
       "      <th></th>\n",
       "      <th>PassengerId</th>\n",
       "      <th>Survived</th>\n",
       "      <th>Pclass</th>\n",
       "      <th>Name</th>\n",
       "      <th>Sex</th>\n",
       "      <th>Age</th>\n",
       "      <th>SibSp</th>\n",
       "      <th>Parch</th>\n",
       "      <th>Ticket</th>\n",
       "      <th>Fare</th>\n",
       "      <th>Cabin</th>\n",
       "      <th>Embarked</th>\n",
       "    </tr>\n",
       "  </thead>\n",
       "  <tbody>\n",
       "    <tr>\n",
       "      <th>0</th>\n",
       "      <td>1</td>\n",
       "      <td>0</td>\n",
       "      <td>3</td>\n",
       "      <td>Braund, Mr. Owen Harris</td>\n",
       "      <td>male</td>\n",
       "      <td>22.0</td>\n",
       "      <td>1</td>\n",
       "      <td>0</td>\n",
       "      <td>A/5 21171</td>\n",
       "      <td>7.2500</td>\n",
       "      <td>NaN</td>\n",
       "      <td>S</td>\n",
       "    </tr>\n",
       "    <tr>\n",
       "      <th>1</th>\n",
       "      <td>2</td>\n",
       "      <td>1</td>\n",
       "      <td>1</td>\n",
       "      <td>Cumings, Mrs. John Bradley (Florence Briggs Th...</td>\n",
       "      <td>female</td>\n",
       "      <td>38.0</td>\n",
       "      <td>1</td>\n",
       "      <td>0</td>\n",
       "      <td>PC 17599</td>\n",
       "      <td>71.2833</td>\n",
       "      <td>C85</td>\n",
       "      <td>C</td>\n",
       "    </tr>\n",
       "    <tr>\n",
       "      <th>2</th>\n",
       "      <td>3</td>\n",
       "      <td>1</td>\n",
       "      <td>3</td>\n",
       "      <td>Heikkinen, Miss. Laina</td>\n",
       "      <td>female</td>\n",
       "      <td>26.0</td>\n",
       "      <td>0</td>\n",
       "      <td>0</td>\n",
       "      <td>STON/O2. 3101282</td>\n",
       "      <td>7.9250</td>\n",
       "      <td>NaN</td>\n",
       "      <td>S</td>\n",
       "    </tr>\n",
       "    <tr>\n",
       "      <th>3</th>\n",
       "      <td>4</td>\n",
       "      <td>1</td>\n",
       "      <td>1</td>\n",
       "      <td>Futrelle, Mrs. Jacques Heath (Lily May Peel)</td>\n",
       "      <td>female</td>\n",
       "      <td>35.0</td>\n",
       "      <td>1</td>\n",
       "      <td>0</td>\n",
       "      <td>113803</td>\n",
       "      <td>53.1000</td>\n",
       "      <td>C123</td>\n",
       "      <td>S</td>\n",
       "    </tr>\n",
       "    <tr>\n",
       "      <th>4</th>\n",
       "      <td>5</td>\n",
       "      <td>0</td>\n",
       "      <td>3</td>\n",
       "      <td>Allen, Mr. William Henry</td>\n",
       "      <td>male</td>\n",
       "      <td>35.0</td>\n",
       "      <td>0</td>\n",
       "      <td>0</td>\n",
       "      <td>373450</td>\n",
       "      <td>8.0500</td>\n",
       "      <td>NaN</td>\n",
       "      <td>S</td>\n",
       "    </tr>\n",
       "  </tbody>\n",
       "</table>\n",
       "</div>"
      ],
      "text/plain": [
       "   PassengerId  Survived  Pclass  \\\n",
       "0            1         0       3   \n",
       "1            2         1       1   \n",
       "2            3         1       3   \n",
       "3            4         1       1   \n",
       "4            5         0       3   \n",
       "\n",
       "                                                Name     Sex   Age  SibSp  \\\n",
       "0                            Braund, Mr. Owen Harris    male  22.0      1   \n",
       "1  Cumings, Mrs. John Bradley (Florence Briggs Th...  female  38.0      1   \n",
       "2                             Heikkinen, Miss. Laina  female  26.0      0   \n",
       "3       Futrelle, Mrs. Jacques Heath (Lily May Peel)  female  35.0      1   \n",
       "4                           Allen, Mr. William Henry    male  35.0      0   \n",
       "\n",
       "   Parch            Ticket     Fare Cabin Embarked  \n",
       "0      0         A/5 21171   7.2500   NaN        S  \n",
       "1      0          PC 17599  71.2833   C85        C  \n",
       "2      0  STON/O2. 3101282   7.9250   NaN        S  \n",
       "3      0            113803  53.1000  C123        S  \n",
       "4      0            373450   8.0500   NaN        S  "
      ]
     },
     "execution_count": 4,
     "metadata": {},
     "output_type": "execute_result"
    }
   ],
   "source": [
    "train_data = pd.read_csv('/kaggle/input/titanic/train.csv')\n",
    "train_data.head()"
   ]
  },
  {
   "cell_type": "markdown",
   "id": "c65076a5",
   "metadata": {
    "papermill": {
     "duration": 0.025686,
     "end_time": "2022-12-05T13:39:09.645069",
     "exception": false,
     "start_time": "2022-12-05T13:39:09.619383",
     "status": "completed"
    },
    "tags": []
   },
   "source": [
    "The train data contain information about 891 passengers (rows) and 12 columns."
   ]
  },
  {
   "cell_type": "code",
   "execution_count": 5,
   "id": "980b484d",
   "metadata": {
    "execution": {
     "iopub.execute_input": "2022-12-05T13:39:09.701427Z",
     "iopub.status.busy": "2022-12-05T13:39:09.700119Z",
     "iopub.status.idle": "2022-12-05T13:39:09.707146Z",
     "shell.execute_reply": "2022-12-05T13:39:09.706241Z"
    },
    "papermill": {
     "duration": 0.038781,
     "end_time": "2022-12-05T13:39:09.708802",
     "exception": false,
     "start_time": "2022-12-05T13:39:09.670021",
     "status": "completed"
    },
    "tags": []
   },
   "outputs": [
    {
     "data": {
      "text/plain": [
       "(891, 12)"
      ]
     },
     "execution_count": 5,
     "metadata": {},
     "output_type": "execute_result"
    }
   ],
   "source": [
    "train_data.shape"
   ]
  },
  {
   "cell_type": "markdown",
   "id": "dbda70a3",
   "metadata": {
    "papermill": {
     "duration": 0.035588,
     "end_time": "2022-12-05T13:39:09.779858",
     "exception": false,
     "start_time": "2022-12-05T13:39:09.744270",
     "status": "completed"
    },
    "tags": []
   },
   "source": [
    "## **Test data**"
   ]
  },
  {
   "cell_type": "code",
   "execution_count": 6,
   "id": "519428d2",
   "metadata": {
    "execution": {
     "iopub.execute_input": "2022-12-05T13:39:09.834518Z",
     "iopub.status.busy": "2022-12-05T13:39:09.834103Z",
     "iopub.status.idle": "2022-12-05T13:39:09.859828Z",
     "shell.execute_reply": "2022-12-05T13:39:09.858780Z"
    },
    "papermill": {
     "duration": 0.055935,
     "end_time": "2022-12-05T13:39:09.862645",
     "exception": false,
     "start_time": "2022-12-05T13:39:09.806710",
     "status": "completed"
    },
    "tags": []
   },
   "outputs": [
    {
     "data": {
      "text/html": [
       "<div>\n",
       "<style scoped>\n",
       "    .dataframe tbody tr th:only-of-type {\n",
       "        vertical-align: middle;\n",
       "    }\n",
       "\n",
       "    .dataframe tbody tr th {\n",
       "        vertical-align: top;\n",
       "    }\n",
       "\n",
       "    .dataframe thead th {\n",
       "        text-align: right;\n",
       "    }\n",
       "</style>\n",
       "<table border=\"1\" class=\"dataframe\">\n",
       "  <thead>\n",
       "    <tr style=\"text-align: right;\">\n",
       "      <th></th>\n",
       "      <th>PassengerId</th>\n",
       "      <th>Pclass</th>\n",
       "      <th>Name</th>\n",
       "      <th>Sex</th>\n",
       "      <th>Age</th>\n",
       "      <th>SibSp</th>\n",
       "      <th>Parch</th>\n",
       "      <th>Ticket</th>\n",
       "      <th>Fare</th>\n",
       "      <th>Cabin</th>\n",
       "      <th>Embarked</th>\n",
       "    </tr>\n",
       "  </thead>\n",
       "  <tbody>\n",
       "    <tr>\n",
       "      <th>0</th>\n",
       "      <td>892</td>\n",
       "      <td>3</td>\n",
       "      <td>Kelly, Mr. James</td>\n",
       "      <td>male</td>\n",
       "      <td>34.5</td>\n",
       "      <td>0</td>\n",
       "      <td>0</td>\n",
       "      <td>330911</td>\n",
       "      <td>7.8292</td>\n",
       "      <td>NaN</td>\n",
       "      <td>Q</td>\n",
       "    </tr>\n",
       "    <tr>\n",
       "      <th>1</th>\n",
       "      <td>893</td>\n",
       "      <td>3</td>\n",
       "      <td>Wilkes, Mrs. James (Ellen Needs)</td>\n",
       "      <td>female</td>\n",
       "      <td>47.0</td>\n",
       "      <td>1</td>\n",
       "      <td>0</td>\n",
       "      <td>363272</td>\n",
       "      <td>7.0000</td>\n",
       "      <td>NaN</td>\n",
       "      <td>S</td>\n",
       "    </tr>\n",
       "    <tr>\n",
       "      <th>2</th>\n",
       "      <td>894</td>\n",
       "      <td>2</td>\n",
       "      <td>Myles, Mr. Thomas Francis</td>\n",
       "      <td>male</td>\n",
       "      <td>62.0</td>\n",
       "      <td>0</td>\n",
       "      <td>0</td>\n",
       "      <td>240276</td>\n",
       "      <td>9.6875</td>\n",
       "      <td>NaN</td>\n",
       "      <td>Q</td>\n",
       "    </tr>\n",
       "    <tr>\n",
       "      <th>3</th>\n",
       "      <td>895</td>\n",
       "      <td>3</td>\n",
       "      <td>Wirz, Mr. Albert</td>\n",
       "      <td>male</td>\n",
       "      <td>27.0</td>\n",
       "      <td>0</td>\n",
       "      <td>0</td>\n",
       "      <td>315154</td>\n",
       "      <td>8.6625</td>\n",
       "      <td>NaN</td>\n",
       "      <td>S</td>\n",
       "    </tr>\n",
       "    <tr>\n",
       "      <th>4</th>\n",
       "      <td>896</td>\n",
       "      <td>3</td>\n",
       "      <td>Hirvonen, Mrs. Alexander (Helga E Lindqvist)</td>\n",
       "      <td>female</td>\n",
       "      <td>22.0</td>\n",
       "      <td>1</td>\n",
       "      <td>1</td>\n",
       "      <td>3101298</td>\n",
       "      <td>12.2875</td>\n",
       "      <td>NaN</td>\n",
       "      <td>S</td>\n",
       "    </tr>\n",
       "  </tbody>\n",
       "</table>\n",
       "</div>"
      ],
      "text/plain": [
       "   PassengerId  Pclass                                          Name     Sex  \\\n",
       "0          892       3                              Kelly, Mr. James    male   \n",
       "1          893       3              Wilkes, Mrs. James (Ellen Needs)  female   \n",
       "2          894       2                     Myles, Mr. Thomas Francis    male   \n",
       "3          895       3                              Wirz, Mr. Albert    male   \n",
       "4          896       3  Hirvonen, Mrs. Alexander (Helga E Lindqvist)  female   \n",
       "\n",
       "    Age  SibSp  Parch   Ticket     Fare Cabin Embarked  \n",
       "0  34.5      0      0   330911   7.8292   NaN        Q  \n",
       "1  47.0      1      0   363272   7.0000   NaN        S  \n",
       "2  62.0      0      0   240276   9.6875   NaN        Q  \n",
       "3  27.0      0      0   315154   8.6625   NaN        S  \n",
       "4  22.0      1      1  3101298  12.2875   NaN        S  "
      ]
     },
     "execution_count": 6,
     "metadata": {},
     "output_type": "execute_result"
    }
   ],
   "source": [
    "test_data = pd.read_csv('/kaggle/input/titanic/test.csv')\n",
    "test_data.head()"
   ]
  },
  {
   "cell_type": "markdown",
   "id": "a436a9b7",
   "metadata": {
    "papermill": {
     "duration": 0.026628,
     "end_time": "2022-12-05T13:39:09.915985",
     "exception": false,
     "start_time": "2022-12-05T13:39:09.889357",
     "status": "completed"
    },
    "tags": []
   },
   "source": [
    "The test data contain information about 418 passengers (rows) and 11 columns."
   ]
  },
  {
   "cell_type": "code",
   "execution_count": 7,
   "id": "7aae5468",
   "metadata": {
    "execution": {
     "iopub.execute_input": "2022-12-05T13:39:09.971569Z",
     "iopub.status.busy": "2022-12-05T13:39:09.971006Z",
     "iopub.status.idle": "2022-12-05T13:39:09.979843Z",
     "shell.execute_reply": "2022-12-05T13:39:09.978367Z"
    },
    "papermill": {
     "duration": 0.039602,
     "end_time": "2022-12-05T13:39:09.982297",
     "exception": false,
     "start_time": "2022-12-05T13:39:09.942695",
     "status": "completed"
    },
    "tags": []
   },
   "outputs": [
    {
     "data": {
      "text/plain": [
       "(418, 11)"
      ]
     },
     "execution_count": 7,
     "metadata": {},
     "output_type": "execute_result"
    }
   ],
   "source": [
    "test_data.shape"
   ]
  },
  {
   "cell_type": "markdown",
   "id": "091a857c",
   "metadata": {
    "papermill": {
     "duration": 0.025277,
     "end_time": "2022-12-05T13:39:10.034014",
     "exception": false,
     "start_time": "2022-12-05T13:39:10.008737",
     "status": "completed"
    },
    "tags": []
   },
   "source": [
    "# **Features Engineering & Data Analysis**"
   ]
  },
  {
   "cell_type": "markdown",
   "id": "6dee0604",
   "metadata": {
    "papermill": {
     "duration": 0.026709,
     "end_time": "2022-12-05T13:39:10.087286",
     "exception": false,
     "start_time": "2022-12-05T13:39:10.060577",
     "status": "completed"
    },
    "tags": []
   },
   "source": [
    "#### For Features Engineering let's combine the train set and the test set."
   ]
  },
  {
   "cell_type": "code",
   "execution_count": 8,
   "id": "b52dff04",
   "metadata": {
    "execution": {
     "iopub.execute_input": "2022-12-05T13:39:10.144810Z",
     "iopub.status.busy": "2022-12-05T13:39:10.143994Z",
     "iopub.status.idle": "2022-12-05T13:39:10.161868Z",
     "shell.execute_reply": "2022-12-05T13:39:10.160567Z"
    },
    "papermill": {
     "duration": 0.051011,
     "end_time": "2022-12-05T13:39:10.165259",
     "exception": false,
     "start_time": "2022-12-05T13:39:10.114248",
     "status": "completed"
    },
    "tags": []
   },
   "outputs": [],
   "source": [
    "all_data = train_data.append(test_data)"
   ]
  },
  {
   "cell_type": "code",
   "execution_count": 9,
   "id": "4c85a1b8",
   "metadata": {
    "execution": {
     "iopub.execute_input": "2022-12-05T13:39:10.220050Z",
     "iopub.status.busy": "2022-12-05T13:39:10.219643Z",
     "iopub.status.idle": "2022-12-05T13:39:10.226233Z",
     "shell.execute_reply": "2022-12-05T13:39:10.225059Z"
    },
    "papermill": {
     "duration": 0.036077,
     "end_time": "2022-12-05T13:39:10.228543",
     "exception": false,
     "start_time": "2022-12-05T13:39:10.192466",
     "status": "completed"
    },
    "tags": []
   },
   "outputs": [
    {
     "data": {
      "text/plain": [
       "(1309, 12)"
      ]
     },
     "execution_count": 9,
     "metadata": {},
     "output_type": "execute_result"
    }
   ],
   "source": [
    "all_data.shape"
   ]
  },
  {
   "cell_type": "markdown",
   "id": "acd302e5",
   "metadata": {
    "papermill": {
     "duration": 0.027623,
     "end_time": "2022-12-05T13:39:10.286298",
     "exception": false,
     "start_time": "2022-12-05T13:39:10.258675",
     "status": "completed"
    },
    "tags": []
   },
   "source": [
    "* #### **Adding Family_Size**"
   ]
  },
  {
   "cell_type": "code",
   "execution_count": 10,
   "id": "53743a0a",
   "metadata": {
    "execution": {
     "iopub.execute_input": "2022-12-05T13:39:10.344474Z",
     "iopub.status.busy": "2022-12-05T13:39:10.344092Z",
     "iopub.status.idle": "2022-12-05T13:39:10.356658Z",
     "shell.execute_reply": "2022-12-05T13:39:10.355164Z"
    },
    "papermill": {
     "duration": 0.043722,
     "end_time": "2022-12-05T13:39:10.359583",
     "exception": false,
     "start_time": "2022-12-05T13:39:10.315861",
     "status": "completed"
    },
    "tags": []
   },
   "outputs": [],
   "source": [
    "all_data['Family_Size'] = all_data['SibSp'] + all_data['Parch']\n",
    "\n",
    "# Substituting the values in train_data and test_data:\n",
    "train_data['Family_Size'] = all_data['Family_Size'][:891]\n",
    "test_data['Family_Size'] = all_data['Family_Size'][891:]"
   ]
  },
  {
   "cell_type": "markdown",
   "id": "602ad55f",
   "metadata": {
    "papermill": {
     "duration": 0.026899,
     "end_time": "2022-12-05T13:39:10.413246",
     "exception": false,
     "start_time": "2022-12-05T13:39:10.386347",
     "status": "completed"
    },
    "tags": []
   },
   "source": [
    "* #### **Checking whether there are missing data**"
   ]
  },
  {
   "cell_type": "code",
   "execution_count": 11,
   "id": "f2e8ef7c",
   "metadata": {
    "execution": {
     "iopub.execute_input": "2022-12-05T13:39:10.467598Z",
     "iopub.status.busy": "2022-12-05T13:39:10.467213Z",
     "iopub.status.idle": "2022-12-05T13:39:10.477128Z",
     "shell.execute_reply": "2022-12-05T13:39:10.475930Z"
    },
    "papermill": {
     "duration": 0.039786,
     "end_time": "2022-12-05T13:39:10.479265",
     "exception": false,
     "start_time": "2022-12-05T13:39:10.439479",
     "status": "completed"
    },
    "tags": []
   },
   "outputs": [
    {
     "data": {
      "text/plain": [
       "['Survived', 'Age', 'Fare', 'Cabin', 'Embarked']"
      ]
     },
     "execution_count": 11,
     "metadata": {},
     "output_type": "execute_result"
    }
   ],
   "source": [
    "all_data.columns[all_data.isna().any()].tolist()"
   ]
  },
  {
   "cell_type": "markdown",
   "id": "6ca7a18a",
   "metadata": {
    "papermill": {
     "duration": 0.026439,
     "end_time": "2022-12-05T13:39:10.533110",
     "exception": false,
     "start_time": "2022-12-05T13:39:10.506671",
     "status": "completed"
    },
    "tags": []
   },
   "source": [
    "It's obvious why there are missing values in the Survived column...\n",
    "\n",
    "I can't see how the information about the Cabin can help, so I won't fill up the empty cells.\n",
    "\n",
    "For the rest columns with missing values, let's do some manipulations to fill up the empty cells."
   ]
  },
  {
   "cell_type": "markdown",
   "id": "13dd4418",
   "metadata": {
    "papermill": {
     "duration": 0.024985,
     "end_time": "2022-12-05T13:39:10.584592",
     "exception": false,
     "start_time": "2022-12-05T13:39:10.559607",
     "status": "completed"
    },
    "tags": []
   },
   "source": [
    "* #### **Age**\n",
    "To imputing the age more precisely, let's define a new temp column- 'Title' (the title of each passenger). "
   ]
  },
  {
   "cell_type": "code",
   "execution_count": 12,
   "id": "b162b646",
   "metadata": {
    "execution": {
     "iopub.execute_input": "2022-12-05T13:39:10.637315Z",
     "iopub.status.busy": "2022-12-05T13:39:10.636946Z",
     "iopub.status.idle": "2022-12-05T13:39:15.237731Z",
     "shell.execute_reply": "2022-12-05T13:39:15.235129Z"
    },
    "papermill": {
     "duration": 4.631542,
     "end_time": "2022-12-05T13:39:15.241388",
     "exception": false,
     "start_time": "2022-12-05T13:39:10.609846",
     "status": "completed"
    },
    "tags": []
   },
   "outputs": [
    {
     "data": {
      "text/plain": [
       "array(['Mr', 'Mrs', 'Miss', 'Master', 'Don', 'Rev', 'Dr', 'Mme', 'Ms',\n",
       "       'Major', 'Lady', 'Sir', 'Mlle', 'Col', 'Capt', 'Countess',\n",
       "       'Jonkheer', 'Dona'], dtype=object)"
      ]
     },
     "execution_count": 12,
     "metadata": {},
     "output_type": "execute_result"
    }
   ],
   "source": [
    "all_data['Title'] = all_data['Name']\n",
    "\n",
    "# Cleaning name and extracting Title\n",
    "for name_string in all_data['Name']:\n",
    "    all_data['Title'] = all_data['Name'].str.extract('([A-Za-z]+)\\.', expand=True)\n",
    "\n",
    "all_data.Title.unique()"
   ]
  },
  {
   "cell_type": "code",
   "execution_count": 13,
   "id": "83528e90",
   "metadata": {
    "execution": {
     "iopub.execute_input": "2022-12-05T13:39:15.311821Z",
     "iopub.status.busy": "2022-12-05T13:39:15.311359Z",
     "iopub.status.idle": "2022-12-05T13:39:15.347223Z",
     "shell.execute_reply": "2022-12-05T13:39:15.346107Z"
    },
    "papermill": {
     "duration": 0.077157,
     "end_time": "2022-12-05T13:39:15.350334",
     "exception": false,
     "start_time": "2022-12-05T13:39:15.273177",
     "status": "completed"
    },
    "tags": []
   },
   "outputs": [],
   "source": [
    "# Replacing rare titles with more common ones\n",
    "mapping = {'Mlle': 'Miss', 'Major': 'Mr', 'Col': 'Mr', 'Sir': 'Mr', 'Don': 'Mr', 'Mme': 'Miss',\n",
    "          'Jonkheer': 'Mr', 'Lady': 'Mrs', 'Capt': 'Mr', 'Countess': 'Mrs', 'Ms': 'Miss', 'Dona': 'Mrs'}\n",
    "\n",
    "all_data.replace({'Title': mapping}, inplace=True)\n",
    "titles = ['Dr', 'Master', 'Miss', 'Mr', 'Mrs', 'Rev']\n",
    "\n",
    "for title in titles:\n",
    "    age_to_impute = all_data.groupby('Title')['Age'].median()[titles.index(title)]\n",
    "    all_data.loc[(all_data['Age'].isnull()) & (all_data['Title'] == title), 'Age'] = age_to_impute\n",
    "    \n",
    "# Substituting Age values in TRAIN_DF and TEST_DF:\n",
    "train_data['Age'] = all_data['Age'][:891]\n",
    "test_data['Age'] = all_data['Age'][891:]\n",
    "\n",
    "# Dropping Title feature\n",
    "all_data.drop('Title', axis = 1, inplace = True)"
   ]
  },
  {
   "cell_type": "markdown",
   "id": "b2952ed1",
   "metadata": {
    "papermill": {
     "duration": 0.025818,
     "end_time": "2022-12-05T13:39:15.402905",
     "exception": false,
     "start_time": "2022-12-05T13:39:15.377087",
     "status": "completed"
    },
    "tags": []
   },
   "source": [
    "We will create a new column, AgeGroup, that will contain the age groups of the passengers according the following partition:\n",
    "- Infant: 0-3\n",
    "- Kid: 4-12\n",
    "- Teen: 13-19\n",
    "- Adult: 20-110\n",
    "\n",
    "After that, we will encode this column to a new one - AgeGroup_code."
   ]
  },
  {
   "cell_type": "code",
   "execution_count": 14,
   "id": "5c7815e9",
   "metadata": {
    "execution": {
     "iopub.execute_input": "2022-12-05T13:39:15.463506Z",
     "iopub.status.busy": "2022-12-05T13:39:15.462670Z",
     "iopub.status.idle": "2022-12-05T13:39:15.476739Z",
     "shell.execute_reply": "2022-12-05T13:39:15.475433Z"
    },
    "papermill": {
     "duration": 0.04527,
     "end_time": "2022-12-05T13:39:15.479872",
     "exception": false,
     "start_time": "2022-12-05T13:39:15.434602",
     "status": "completed"
    },
    "tags": []
   },
   "outputs": [],
   "source": [
    "bins= [0,4,13,20,110]\n",
    "labels = ['Infant','Kid','Teen','Adult']\n",
    "all_data['AgeGroup'] = pd.cut(train_data['Age'], bins=bins, labels=labels, right=False)\n",
    "\n",
    "label = LabelEncoder()\n",
    "\n",
    "all_data['AgeGroup_code'] = label.fit_transform(all_data['AgeGroup'])\n",
    "\n",
    "train_data['AgeGroup_code'] = all_data['Age'][:891]\n",
    "test_data['AgeGroup_code'] = all_data['Age'][891:]"
   ]
  },
  {
   "cell_type": "markdown",
   "id": "9a106806",
   "metadata": {
    "papermill": {
     "duration": 0.031184,
     "end_time": "2022-12-05T13:39:15.541831",
     "exception": false,
     "start_time": "2022-12-05T13:39:15.510647",
     "status": "completed"
    },
    "tags": []
   },
   "source": [
    "* #### **Embarked**\n",
    "Let's fill up the missing values cells in the Embarked column with the most common value."
   ]
  },
  {
   "cell_type": "code",
   "execution_count": 15,
   "id": "f7be098d",
   "metadata": {
    "execution": {
     "iopub.execute_input": "2022-12-05T13:39:15.600481Z",
     "iopub.status.busy": "2022-12-05T13:39:15.600062Z",
     "iopub.status.idle": "2022-12-05T13:39:15.608539Z",
     "shell.execute_reply": "2022-12-05T13:39:15.607412Z"
    },
    "papermill": {
     "duration": 0.042111,
     "end_time": "2022-12-05T13:39:15.610843",
     "exception": false,
     "start_time": "2022-12-05T13:39:15.568732",
     "status": "completed"
    },
    "tags": []
   },
   "outputs": [
    {
     "name": "stdout",
     "output_type": "stream",
     "text": [
      "the most common value in the Embarked column:  S\n"
     ]
    }
   ],
   "source": [
    "print('the most common value in the Embarked column: ', all_data.Embarked.value_counts().idxmax())"
   ]
  },
  {
   "cell_type": "code",
   "execution_count": 16,
   "id": "0aa2c064",
   "metadata": {
    "execution": {
     "iopub.execute_input": "2022-12-05T13:39:15.668784Z",
     "iopub.status.busy": "2022-12-05T13:39:15.668021Z",
     "iopub.status.idle": "2022-12-05T13:39:15.673114Z",
     "shell.execute_reply": "2022-12-05T13:39:15.672415Z"
    },
    "papermill": {
     "duration": 0.036261,
     "end_time": "2022-12-05T13:39:15.675290",
     "exception": false,
     "start_time": "2022-12-05T13:39:15.639029",
     "status": "completed"
    },
    "tags": []
   },
   "outputs": [],
   "source": [
    "all_data.Embarked.fillna('S', inplace = True)"
   ]
  },
  {
   "cell_type": "markdown",
   "id": "50b4ac8b",
   "metadata": {
    "papermill": {
     "duration": 0.026086,
     "end_time": "2022-12-05T13:39:15.727969",
     "exception": false,
     "start_time": "2022-12-05T13:39:15.701883",
     "status": "completed"
    },
    "tags": []
   },
   "source": [
    "* #### **Fare**\n",
    "Filling up the missing values with the median of the Fare column"
   ]
  },
  {
   "cell_type": "code",
   "execution_count": 17,
   "id": "57c7b90f",
   "metadata": {
    "execution": {
     "iopub.execute_input": "2022-12-05T13:39:15.783878Z",
     "iopub.status.busy": "2022-12-05T13:39:15.783177Z",
     "iopub.status.idle": "2022-12-05T13:39:15.790003Z",
     "shell.execute_reply": "2022-12-05T13:39:15.789302Z"
    },
    "papermill": {
     "duration": 0.037663,
     "end_time": "2022-12-05T13:39:15.792339",
     "exception": false,
     "start_time": "2022-12-05T13:39:15.754676",
     "status": "completed"
    },
    "tags": []
   },
   "outputs": [],
   "source": [
    "all_data.Fare.fillna(all_data.Fare.median(), inplace = True)"
   ]
  },
  {
   "cell_type": "markdown",
   "id": "9aa10f47",
   "metadata": {
    "papermill": {
     "duration": 0.025804,
     "end_time": "2022-12-05T13:39:15.845039",
     "exception": false,
     "start_time": "2022-12-05T13:39:15.819235",
     "status": "completed"
    },
    "tags": []
   },
   "source": [
    "Encoding the Fare column into a new column - FareBins_code :"
   ]
  },
  {
   "cell_type": "code",
   "execution_count": 18,
   "id": "e366bf5c",
   "metadata": {
    "execution": {
     "iopub.execute_input": "2022-12-05T13:39:15.903236Z",
     "iopub.status.busy": "2022-12-05T13:39:15.902637Z",
     "iopub.status.idle": "2022-12-05T13:39:15.922929Z",
     "shell.execute_reply": "2022-12-05T13:39:15.921270Z"
    },
    "papermill": {
     "duration": 0.050812,
     "end_time": "2022-12-05T13:39:15.925376",
     "exception": false,
     "start_time": "2022-12-05T13:39:15.874564",
     "status": "completed"
    },
    "tags": []
   },
   "outputs": [],
   "source": [
    "all_data['FareBins'] = pd.qcut(all_data.Fare, 5)\n",
    "\n",
    "label = LabelEncoder()\n",
    "\n",
    "all_data['FareBins_code'] = label.fit_transform(all_data['FareBins'])\n",
    "\n",
    "train_data['FareBins_code'] = all_data['Age'][:891]\n",
    "test_data['FareBins_code'] = all_data['Age'][891:]"
   ]
  },
  {
   "cell_type": "markdown",
   "id": "743a18b4",
   "metadata": {
    "papermill": {
     "duration": 0.025603,
     "end_time": "2022-12-05T13:39:15.978259",
     "exception": false,
     "start_time": "2022-12-05T13:39:15.952656",
     "status": "completed"
    },
    "tags": []
   },
   "source": []
  },
  {
   "cell_type": "markdown",
   "id": "0ae8d13a",
   "metadata": {
    "papermill": {
     "duration": 0.025344,
     "end_time": "2022-12-05T13:39:16.029369",
     "exception": false,
     "start_time": "2022-12-05T13:39:16.004025",
     "status": "completed"
    },
    "tags": []
   },
   "source": [
    "* #### **Sex**\n",
    "We will encode the Sex column into a new column- Sex_cat, where 0 = female and 1 = male."
   ]
  },
  {
   "cell_type": "code",
   "execution_count": 19,
   "id": "daf400d4",
   "metadata": {
    "execution": {
     "iopub.execute_input": "2022-12-05T13:39:16.083079Z",
     "iopub.status.busy": "2022-12-05T13:39:16.081957Z",
     "iopub.status.idle": "2022-12-05T13:39:16.090108Z",
     "shell.execute_reply": "2022-12-05T13:39:16.089147Z"
    },
    "papermill": {
     "duration": 0.0373,
     "end_time": "2022-12-05T13:39:16.092763",
     "exception": false,
     "start_time": "2022-12-05T13:39:16.055463",
     "status": "completed"
    },
    "tags": []
   },
   "outputs": [],
   "source": [
    "all_data[\"Sex\"] = all_data[\"Sex\"].astype('category')\n",
    "all_data[\"Sex_cat\"] = all_data[\"Sex\"].cat.codes\n",
    "\n",
    "train_data['Sex_cat'] = all_data['Sex_cat'][:891]\n",
    "test_data['Sex_cat'] = all_data['Sex_cat'][891:]"
   ]
  },
  {
   "cell_type": "markdown",
   "id": "fd35fcac",
   "metadata": {
    "papermill": {
     "duration": 0.026084,
     "end_time": "2022-12-05T13:39:16.144803",
     "exception": false,
     "start_time": "2022-12-05T13:39:16.118719",
     "status": "completed"
    },
    "tags": []
   },
   "source": []
  },
  {
   "cell_type": "markdown",
   "id": "bb176d92",
   "metadata": {
    "papermill": {
     "duration": 0.025646,
     "end_time": "2022-12-05T13:39:16.196878",
     "exception": false,
     "start_time": "2022-12-05T13:39:16.171232",
     "status": "completed"
    },
    "tags": []
   },
   "source": [
    "### The type of each column in the data frame:"
   ]
  },
  {
   "cell_type": "code",
   "execution_count": null,
   "id": "18a73c03",
   "metadata": {
    "papermill": {
     "duration": 0.025894,
     "end_time": "2022-12-05T13:39:16.248690",
     "exception": false,
     "start_time": "2022-12-05T13:39:16.222796",
     "status": "completed"
    },
    "tags": []
   },
   "outputs": [],
   "source": []
  },
  {
   "cell_type": "code",
   "execution_count": 20,
   "id": "8fccfc2e",
   "metadata": {
    "execution": {
     "iopub.execute_input": "2022-12-05T13:39:16.304441Z",
     "iopub.status.busy": "2022-12-05T13:39:16.303806Z",
     "iopub.status.idle": "2022-12-05T13:39:16.310809Z",
     "shell.execute_reply": "2022-12-05T13:39:16.310048Z"
    },
    "papermill": {
     "duration": 0.036503,
     "end_time": "2022-12-05T13:39:16.312497",
     "exception": false,
     "start_time": "2022-12-05T13:39:16.275994",
     "status": "completed"
    },
    "tags": []
   },
   "outputs": [
    {
     "data": {
      "text/plain": [
       "PassengerId        int64\n",
       "Survived           int64\n",
       "Pclass             int64\n",
       "Name              object\n",
       "Sex               object\n",
       "Age              float64\n",
       "SibSp              int64\n",
       "Parch              int64\n",
       "Ticket            object\n",
       "Fare             float64\n",
       "Cabin             object\n",
       "Embarked          object\n",
       "Family_Size        int64\n",
       "AgeGroup_code    float64\n",
       "FareBins_code    float64\n",
       "Sex_cat             int8\n",
       "dtype: object"
      ]
     },
     "execution_count": 20,
     "metadata": {},
     "output_type": "execute_result"
    }
   ],
   "source": [
    "train_data.dtypes"
   ]
  },
  {
   "cell_type": "code",
   "execution_count": null,
   "id": "8c4bb571",
   "metadata": {
    "execution": {
     "iopub.execute_input": "2022-11-23T10:00:28.606778Z",
     "iopub.status.busy": "2022-11-23T10:00:28.606372Z",
     "iopub.status.idle": "2022-11-23T10:00:28.625823Z",
     "shell.execute_reply": "2022-11-23T10:00:28.624592Z",
     "shell.execute_reply.started": "2022-11-23T10:00:28.606745Z"
    },
    "papermill": {
     "duration": 0.026431,
     "end_time": "2022-12-05T13:39:16.366152",
     "exception": false,
     "start_time": "2022-12-05T13:39:16.339721",
     "status": "completed"
    },
    "tags": []
   },
   "outputs": [],
   "source": []
  },
  {
   "cell_type": "markdown",
   "id": "09deac49",
   "metadata": {
    "papermill": {
     "duration": 0.02583,
     "end_time": "2022-12-05T13:39:16.418559",
     "exception": false,
     "start_time": "2022-12-05T13:39:16.392729",
     "status": "completed"
    },
    "tags": []
   },
   "source": [
    "### Checking for missing data"
   ]
  },
  {
   "cell_type": "code",
   "execution_count": 21,
   "id": "5c9d9d7e",
   "metadata": {
    "execution": {
     "iopub.execute_input": "2022-12-05T13:39:16.474304Z",
     "iopub.status.busy": "2022-12-05T13:39:16.473744Z",
     "iopub.status.idle": "2022-12-05T13:39:16.482242Z",
     "shell.execute_reply": "2022-12-05T13:39:16.480703Z"
    },
    "papermill": {
     "duration": 0.039925,
     "end_time": "2022-12-05T13:39:16.485018",
     "exception": false,
     "start_time": "2022-12-05T13:39:16.445093",
     "status": "completed"
    },
    "tags": []
   },
   "outputs": [
    {
     "data": {
      "text/plain": [
       "['Cabin', 'Embarked']"
      ]
     },
     "execution_count": 21,
     "metadata": {},
     "output_type": "execute_result"
    }
   ],
   "source": [
    "# find the columns with Nans\n",
    "train_data.columns[train_data.isna().any()].tolist()"
   ]
  },
  {
   "cell_type": "markdown",
   "id": "de0cedab",
   "metadata": {
    "papermill": {
     "duration": 0.025691,
     "end_time": "2022-12-05T13:39:16.536852",
     "exception": false,
     "start_time": "2022-12-05T13:39:16.511161",
     "status": "completed"
    },
    "tags": []
   },
   "source": [
    "There are three columns with Nan values.\n",
    "\n",
    "Let's replace the Nans in the Age column by the mean of the column."
   ]
  },
  {
   "cell_type": "code",
   "execution_count": 22,
   "id": "033426cc",
   "metadata": {
    "execution": {
     "iopub.execute_input": "2022-12-05T13:39:16.592590Z",
     "iopub.status.busy": "2022-12-05T13:39:16.592205Z",
     "iopub.status.idle": "2022-12-05T13:39:16.816266Z",
     "shell.execute_reply": "2022-12-05T13:39:16.814545Z"
    },
    "papermill": {
     "duration": 0.254897,
     "end_time": "2022-12-05T13:39:16.818906",
     "exception": false,
     "start_time": "2022-12-05T13:39:16.564009",
     "status": "completed"
    },
    "tags": []
   },
   "outputs": [],
   "source": [
    "from sklearn.impute import SimpleImputer\n",
    "imputer = SimpleImputer(missing_values=np.nan, strategy='mean') # replace the nan by the mean of the column's values\n",
    "imputer.fit(train_data[['Age']])\n",
    "train_data['Age'] = imputer.transform(train_data[['Age']])"
   ]
  },
  {
   "cell_type": "markdown",
   "id": "bf15bc10",
   "metadata": {
    "papermill": {
     "duration": 0.02642,
     "end_time": "2022-12-05T13:39:16.871396",
     "exception": false,
     "start_time": "2022-12-05T13:39:16.844976",
     "status": "completed"
    },
    "tags": []
   },
   "source": [
    "The Cabin column and the Embarked column are object types, so we'll replace the Nans by empty string ''."
   ]
  },
  {
   "cell_type": "code",
   "execution_count": 23,
   "id": "33ffc260",
   "metadata": {
    "execution": {
     "iopub.execute_input": "2022-12-05T13:39:16.926816Z",
     "iopub.status.busy": "2022-12-05T13:39:16.926084Z",
     "iopub.status.idle": "2022-12-05T13:39:16.932558Z",
     "shell.execute_reply": "2022-12-05T13:39:16.931424Z"
    },
    "papermill": {
     "duration": 0.036932,
     "end_time": "2022-12-05T13:39:16.935036",
     "exception": false,
     "start_time": "2022-12-05T13:39:16.898104",
     "status": "completed"
    },
    "tags": []
   },
   "outputs": [],
   "source": [
    "train_data['Cabin'].replace(np.nan, '', inplace = True)\n",
    "train_data['Embarked'].replace(np.nan, '', inplace = True)"
   ]
  },
  {
   "cell_type": "markdown",
   "id": "c10da50c",
   "metadata": {
    "papermill": {
     "duration": 0.028804,
     "end_time": "2022-12-05T13:39:16.990602",
     "exception": false,
     "start_time": "2022-12-05T13:39:16.961798",
     "status": "completed"
    },
    "tags": []
   },
   "source": [
    "Now we will ensure there are no Nan values anymore-"
   ]
  },
  {
   "cell_type": "code",
   "execution_count": 24,
   "id": "faf4eeb5",
   "metadata": {
    "execution": {
     "iopub.execute_input": "2022-12-05T13:39:17.046372Z",
     "iopub.status.busy": "2022-12-05T13:39:17.045936Z",
     "iopub.status.idle": "2022-12-05T13:39:17.061463Z",
     "shell.execute_reply": "2022-12-05T13:39:17.059180Z"
    },
    "papermill": {
     "duration": 0.046512,
     "end_time": "2022-12-05T13:39:17.064057",
     "exception": false,
     "start_time": "2022-12-05T13:39:17.017545",
     "status": "completed"
    },
    "tags": []
   },
   "outputs": [
    {
     "data": {
      "text/plain": [
       "[]"
      ]
     },
     "execution_count": 24,
     "metadata": {},
     "output_type": "execute_result"
    }
   ],
   "source": [
    "train_data.isnull().values.any()\n",
    "train_data.columns[train_data.isna().any()].tolist()"
   ]
  },
  {
   "cell_type": "markdown",
   "id": "c1433164",
   "metadata": {
    "papermill": {
     "duration": 0.033735,
     "end_time": "2022-12-05T13:39:17.127387",
     "exception": false,
     "start_time": "2022-12-05T13:39:17.093652",
     "status": "completed"
    },
    "tags": []
   },
   "source": [
    "**Good! there are no Nans.**"
   ]
  },
  {
   "cell_type": "markdown",
   "id": "75c728f7",
   "metadata": {
    "papermill": {
     "duration": 0.032385,
     "end_time": "2022-12-05T13:39:17.193049",
     "exception": false,
     "start_time": "2022-12-05T13:39:17.160664",
     "status": "completed"
    },
    "tags": []
   },
   "source": [
    "There are no duplicates:"
   ]
  },
  {
   "cell_type": "code",
   "execution_count": 25,
   "id": "5203194e",
   "metadata": {
    "execution": {
     "iopub.execute_input": "2022-12-05T13:39:17.254525Z",
     "iopub.status.busy": "2022-12-05T13:39:17.254106Z",
     "iopub.status.idle": "2022-12-05T13:39:17.266395Z",
     "shell.execute_reply": "2022-12-05T13:39:17.264649Z"
    },
    "papermill": {
     "duration": 0.04676,
     "end_time": "2022-12-05T13:39:17.269653",
     "exception": false,
     "start_time": "2022-12-05T13:39:17.222893",
     "status": "completed"
    },
    "tags": []
   },
   "outputs": [
    {
     "data": {
      "text/plain": [
       "False"
      ]
     },
     "execution_count": 25,
     "metadata": {},
     "output_type": "execute_result"
    }
   ],
   "source": [
    "train_data.duplicated().any()"
   ]
  },
  {
   "cell_type": "markdown",
   "id": "4b46d17d",
   "metadata": {
    "papermill": {
     "duration": 0.026745,
     "end_time": "2022-12-05T13:39:17.324621",
     "exception": false,
     "start_time": "2022-12-05T13:39:17.297876",
     "status": "completed"
    },
    "tags": []
   },
   "source": [
    "For the sake of convenience, we will encode the Sex column into a new column- Sex_cat, where 0 = female and 1 = male.\n",
    "\n",
    "Additionally, we will create a new column, AgeGroup, that will contain the age groups of the passengers according the following partition:\n",
    "- Infant: 0-3\n",
    "- Kid: 4-12\n",
    "- Teen: 13-19\n",
    "- Adult: 20-110"
   ]
  },
  {
   "cell_type": "code",
   "execution_count": 26,
   "id": "ee603197",
   "metadata": {
    "execution": {
     "iopub.execute_input": "2022-12-05T13:39:17.380955Z",
     "iopub.status.busy": "2022-12-05T13:39:17.380542Z",
     "iopub.status.idle": "2022-12-05T13:39:17.396865Z",
     "shell.execute_reply": "2022-12-05T13:39:17.395464Z"
    },
    "papermill": {
     "duration": 0.048502,
     "end_time": "2022-12-05T13:39:17.399988",
     "exception": false,
     "start_time": "2022-12-05T13:39:17.351486",
     "status": "completed"
    },
    "tags": []
   },
   "outputs": [
    {
     "data": {
      "text/plain": [
       "PassengerId         int64\n",
       "Survived            int64\n",
       "Pclass              int64\n",
       "Name               object\n",
       "Sex              category\n",
       "Age               float64\n",
       "SibSp               int64\n",
       "Parch               int64\n",
       "Ticket             object\n",
       "Fare              float64\n",
       "Cabin              object\n",
       "Embarked           object\n",
       "Family_Size         int64\n",
       "AgeGroup_code     float64\n",
       "FareBins_code     float64\n",
       "Sex_cat              int8\n",
       "AgeGroup         category\n",
       "dtype: object"
      ]
     },
     "execution_count": 26,
     "metadata": {},
     "output_type": "execute_result"
    }
   ],
   "source": [
    "train_data[\"Sex\"] = train_data[\"Sex\"].astype('category')\n",
    "train_data[\"Sex_cat\"] = train_data[\"Sex\"].cat.codes\n",
    "\n",
    "bins= [0,4,13,20,110]\n",
    "labels = ['Infant','Kid','Teen','Adult']\n",
    "train_data['AgeGroup'] = pd.cut(train_data['Age'], bins=bins, labels=labels, right=False)\n",
    "train_data.dtypes"
   ]
  },
  {
   "cell_type": "code",
   "execution_count": 27,
   "id": "9dbcca1e",
   "metadata": {
    "execution": {
     "iopub.execute_input": "2022-12-05T13:39:17.455957Z",
     "iopub.status.busy": "2022-12-05T13:39:17.455245Z",
     "iopub.status.idle": "2022-12-05T13:39:17.474541Z",
     "shell.execute_reply": "2022-12-05T13:39:17.473438Z"
    },
    "papermill": {
     "duration": 0.0502,
     "end_time": "2022-12-05T13:39:17.476984",
     "exception": false,
     "start_time": "2022-12-05T13:39:17.426784",
     "status": "completed"
    },
    "tags": []
   },
   "outputs": [
    {
     "data": {
      "text/html": [
       "<div>\n",
       "<style scoped>\n",
       "    .dataframe tbody tr th:only-of-type {\n",
       "        vertical-align: middle;\n",
       "    }\n",
       "\n",
       "    .dataframe tbody tr th {\n",
       "        vertical-align: top;\n",
       "    }\n",
       "\n",
       "    .dataframe thead th {\n",
       "        text-align: right;\n",
       "    }\n",
       "</style>\n",
       "<table border=\"1\" class=\"dataframe\">\n",
       "  <thead>\n",
       "    <tr style=\"text-align: right;\">\n",
       "      <th></th>\n",
       "      <th>PassengerId</th>\n",
       "      <th>Survived</th>\n",
       "      <th>Pclass</th>\n",
       "      <th>Name</th>\n",
       "      <th>Sex</th>\n",
       "      <th>Age</th>\n",
       "      <th>SibSp</th>\n",
       "      <th>Parch</th>\n",
       "      <th>Ticket</th>\n",
       "      <th>Fare</th>\n",
       "      <th>Cabin</th>\n",
       "      <th>Embarked</th>\n",
       "      <th>Family_Size</th>\n",
       "      <th>AgeGroup_code</th>\n",
       "      <th>FareBins_code</th>\n",
       "      <th>Sex_cat</th>\n",
       "      <th>AgeGroup</th>\n",
       "    </tr>\n",
       "  </thead>\n",
       "  <tbody>\n",
       "    <tr>\n",
       "      <th>0</th>\n",
       "      <td>1</td>\n",
       "      <td>0</td>\n",
       "      <td>3</td>\n",
       "      <td>Braund, Mr. Owen Harris</td>\n",
       "      <td>male</td>\n",
       "      <td>22.0</td>\n",
       "      <td>1</td>\n",
       "      <td>0</td>\n",
       "      <td>A/5 21171</td>\n",
       "      <td>7.2500</td>\n",
       "      <td></td>\n",
       "      <td>S</td>\n",
       "      <td>1</td>\n",
       "      <td>22.0</td>\n",
       "      <td>22.0</td>\n",
       "      <td>1</td>\n",
       "      <td>Adult</td>\n",
       "    </tr>\n",
       "    <tr>\n",
       "      <th>1</th>\n",
       "      <td>2</td>\n",
       "      <td>1</td>\n",
       "      <td>1</td>\n",
       "      <td>Cumings, Mrs. John Bradley (Florence Briggs Th...</td>\n",
       "      <td>female</td>\n",
       "      <td>38.0</td>\n",
       "      <td>1</td>\n",
       "      <td>0</td>\n",
       "      <td>PC 17599</td>\n",
       "      <td>71.2833</td>\n",
       "      <td>C85</td>\n",
       "      <td>C</td>\n",
       "      <td>1</td>\n",
       "      <td>38.0</td>\n",
       "      <td>38.0</td>\n",
       "      <td>0</td>\n",
       "      <td>Adult</td>\n",
       "    </tr>\n",
       "    <tr>\n",
       "      <th>2</th>\n",
       "      <td>3</td>\n",
       "      <td>1</td>\n",
       "      <td>3</td>\n",
       "      <td>Heikkinen, Miss. Laina</td>\n",
       "      <td>female</td>\n",
       "      <td>26.0</td>\n",
       "      <td>0</td>\n",
       "      <td>0</td>\n",
       "      <td>STON/O2. 3101282</td>\n",
       "      <td>7.9250</td>\n",
       "      <td></td>\n",
       "      <td>S</td>\n",
       "      <td>0</td>\n",
       "      <td>26.0</td>\n",
       "      <td>26.0</td>\n",
       "      <td>0</td>\n",
       "      <td>Adult</td>\n",
       "    </tr>\n",
       "    <tr>\n",
       "      <th>3</th>\n",
       "      <td>4</td>\n",
       "      <td>1</td>\n",
       "      <td>1</td>\n",
       "      <td>Futrelle, Mrs. Jacques Heath (Lily May Peel)</td>\n",
       "      <td>female</td>\n",
       "      <td>35.0</td>\n",
       "      <td>1</td>\n",
       "      <td>0</td>\n",
       "      <td>113803</td>\n",
       "      <td>53.1000</td>\n",
       "      <td>C123</td>\n",
       "      <td>S</td>\n",
       "      <td>1</td>\n",
       "      <td>35.0</td>\n",
       "      <td>35.0</td>\n",
       "      <td>0</td>\n",
       "      <td>Adult</td>\n",
       "    </tr>\n",
       "    <tr>\n",
       "      <th>4</th>\n",
       "      <td>5</td>\n",
       "      <td>0</td>\n",
       "      <td>3</td>\n",
       "      <td>Allen, Mr. William Henry</td>\n",
       "      <td>male</td>\n",
       "      <td>35.0</td>\n",
       "      <td>0</td>\n",
       "      <td>0</td>\n",
       "      <td>373450</td>\n",
       "      <td>8.0500</td>\n",
       "      <td></td>\n",
       "      <td>S</td>\n",
       "      <td>0</td>\n",
       "      <td>35.0</td>\n",
       "      <td>35.0</td>\n",
       "      <td>1</td>\n",
       "      <td>Adult</td>\n",
       "    </tr>\n",
       "  </tbody>\n",
       "</table>\n",
       "</div>"
      ],
      "text/plain": [
       "   PassengerId  Survived  Pclass  \\\n",
       "0            1         0       3   \n",
       "1            2         1       1   \n",
       "2            3         1       3   \n",
       "3            4         1       1   \n",
       "4            5         0       3   \n",
       "\n",
       "                                                Name     Sex   Age  SibSp  \\\n",
       "0                            Braund, Mr. Owen Harris    male  22.0      1   \n",
       "1  Cumings, Mrs. John Bradley (Florence Briggs Th...  female  38.0      1   \n",
       "2                             Heikkinen, Miss. Laina  female  26.0      0   \n",
       "3       Futrelle, Mrs. Jacques Heath (Lily May Peel)  female  35.0      1   \n",
       "4                           Allen, Mr. William Henry    male  35.0      0   \n",
       "\n",
       "   Parch            Ticket     Fare Cabin Embarked  Family_Size  \\\n",
       "0      0         A/5 21171   7.2500              S            1   \n",
       "1      0          PC 17599  71.2833   C85        C            1   \n",
       "2      0  STON/O2. 3101282   7.9250              S            0   \n",
       "3      0            113803  53.1000  C123        S            1   \n",
       "4      0            373450   8.0500              S            0   \n",
       "\n",
       "   AgeGroup_code  FareBins_code  Sex_cat AgeGroup  \n",
       "0           22.0           22.0        1    Adult  \n",
       "1           38.0           38.0        0    Adult  \n",
       "2           26.0           26.0        0    Adult  \n",
       "3           35.0           35.0        0    Adult  \n",
       "4           35.0           35.0        1    Adult  "
      ]
     },
     "execution_count": 27,
     "metadata": {},
     "output_type": "execute_result"
    }
   ],
   "source": [
    "train_data.head()"
   ]
  },
  {
   "cell_type": "markdown",
   "id": "aebbed80",
   "metadata": {
    "papermill": {
     "duration": 0.027529,
     "end_time": "2022-12-05T13:39:17.531849",
     "exception": false,
     "start_time": "2022-12-05T13:39:17.504320",
     "status": "completed"
    },
    "tags": []
   },
   "source": [
    "### Some statistics information:"
   ]
  },
  {
   "cell_type": "code",
   "execution_count": 28,
   "id": "fc5bc206",
   "metadata": {
    "execution": {
     "iopub.execute_input": "2022-12-05T13:39:17.588363Z",
     "iopub.status.busy": "2022-12-05T13:39:17.587941Z",
     "iopub.status.idle": "2022-12-05T13:39:17.637260Z",
     "shell.execute_reply": "2022-12-05T13:39:17.635932Z"
    },
    "papermill": {
     "duration": 0.080088,
     "end_time": "2022-12-05T13:39:17.639347",
     "exception": false,
     "start_time": "2022-12-05T13:39:17.559259",
     "status": "completed"
    },
    "tags": []
   },
   "outputs": [
    {
     "data": {
      "text/html": [
       "<div>\n",
       "<style scoped>\n",
       "    .dataframe tbody tr th:only-of-type {\n",
       "        vertical-align: middle;\n",
       "    }\n",
       "\n",
       "    .dataframe tbody tr th {\n",
       "        vertical-align: top;\n",
       "    }\n",
       "\n",
       "    .dataframe thead th {\n",
       "        text-align: right;\n",
       "    }\n",
       "</style>\n",
       "<table border=\"1\" class=\"dataframe\">\n",
       "  <thead>\n",
       "    <tr style=\"text-align: right;\">\n",
       "      <th></th>\n",
       "      <th>Survived</th>\n",
       "      <th>Pclass</th>\n",
       "      <th>Name</th>\n",
       "      <th>Sex</th>\n",
       "      <th>Age</th>\n",
       "      <th>SibSp</th>\n",
       "      <th>Parch</th>\n",
       "      <th>Ticket</th>\n",
       "      <th>Fare</th>\n",
       "      <th>Cabin</th>\n",
       "      <th>Embarked</th>\n",
       "      <th>Family_Size</th>\n",
       "      <th>AgeGroup_code</th>\n",
       "      <th>FareBins_code</th>\n",
       "      <th>Sex_cat</th>\n",
       "      <th>AgeGroup</th>\n",
       "    </tr>\n",
       "  </thead>\n",
       "  <tbody>\n",
       "    <tr>\n",
       "      <th>count</th>\n",
       "      <td>891.000000</td>\n",
       "      <td>891.000000</td>\n",
       "      <td>891</td>\n",
       "      <td>891</td>\n",
       "      <td>891.000000</td>\n",
       "      <td>891.000000</td>\n",
       "      <td>891.000000</td>\n",
       "      <td>891</td>\n",
       "      <td>891.000000</td>\n",
       "      <td>891</td>\n",
       "      <td>891</td>\n",
       "      <td>891.000000</td>\n",
       "      <td>891.000000</td>\n",
       "      <td>891.000000</td>\n",
       "      <td>891.000000</td>\n",
       "      <td>891</td>\n",
       "    </tr>\n",
       "    <tr>\n",
       "      <th>unique</th>\n",
       "      <td>NaN</td>\n",
       "      <td>NaN</td>\n",
       "      <td>891</td>\n",
       "      <td>2</td>\n",
       "      <td>NaN</td>\n",
       "      <td>NaN</td>\n",
       "      <td>NaN</td>\n",
       "      <td>681</td>\n",
       "      <td>NaN</td>\n",
       "      <td>148</td>\n",
       "      <td>4</td>\n",
       "      <td>NaN</td>\n",
       "      <td>NaN</td>\n",
       "      <td>NaN</td>\n",
       "      <td>NaN</td>\n",
       "      <td>4</td>\n",
       "    </tr>\n",
       "    <tr>\n",
       "      <th>top</th>\n",
       "      <td>NaN</td>\n",
       "      <td>NaN</td>\n",
       "      <td>Braund, Mr. Owen Harris</td>\n",
       "      <td>male</td>\n",
       "      <td>NaN</td>\n",
       "      <td>NaN</td>\n",
       "      <td>NaN</td>\n",
       "      <td>347082</td>\n",
       "      <td>NaN</td>\n",
       "      <td></td>\n",
       "      <td>S</td>\n",
       "      <td>NaN</td>\n",
       "      <td>NaN</td>\n",
       "      <td>NaN</td>\n",
       "      <td>NaN</td>\n",
       "      <td>Adult</td>\n",
       "    </tr>\n",
       "    <tr>\n",
       "      <th>freq</th>\n",
       "      <td>NaN</td>\n",
       "      <td>NaN</td>\n",
       "      <td>1</td>\n",
       "      <td>577</td>\n",
       "      <td>NaN</td>\n",
       "      <td>NaN</td>\n",
       "      <td>NaN</td>\n",
       "      <td>7</td>\n",
       "      <td>NaN</td>\n",
       "      <td>687</td>\n",
       "      <td>644</td>\n",
       "      <td>NaN</td>\n",
       "      <td>NaN</td>\n",
       "      <td>NaN</td>\n",
       "      <td>NaN</td>\n",
       "      <td>723</td>\n",
       "    </tr>\n",
       "    <tr>\n",
       "      <th>mean</th>\n",
       "      <td>0.383838</td>\n",
       "      <td>2.308642</td>\n",
       "      <td>NaN</td>\n",
       "      <td>NaN</td>\n",
       "      <td>29.454736</td>\n",
       "      <td>0.523008</td>\n",
       "      <td>0.381594</td>\n",
       "      <td>NaN</td>\n",
       "      <td>32.204208</td>\n",
       "      <td>NaN</td>\n",
       "      <td>NaN</td>\n",
       "      <td>0.904602</td>\n",
       "      <td>29.454736</td>\n",
       "      <td>29.454736</td>\n",
       "      <td>0.647587</td>\n",
       "      <td>NaN</td>\n",
       "    </tr>\n",
       "    <tr>\n",
       "      <th>std</th>\n",
       "      <td>0.486592</td>\n",
       "      <td>0.836071</td>\n",
       "      <td>NaN</td>\n",
       "      <td>NaN</td>\n",
       "      <td>13.249438</td>\n",
       "      <td>1.102743</td>\n",
       "      <td>0.806057</td>\n",
       "      <td>NaN</td>\n",
       "      <td>49.693429</td>\n",
       "      <td>NaN</td>\n",
       "      <td>NaN</td>\n",
       "      <td>1.613459</td>\n",
       "      <td>13.249438</td>\n",
       "      <td>13.249438</td>\n",
       "      <td>0.477990</td>\n",
       "      <td>NaN</td>\n",
       "    </tr>\n",
       "    <tr>\n",
       "      <th>min</th>\n",
       "      <td>0.000000</td>\n",
       "      <td>1.000000</td>\n",
       "      <td>NaN</td>\n",
       "      <td>NaN</td>\n",
       "      <td>0.420000</td>\n",
       "      <td>0.000000</td>\n",
       "      <td>0.000000</td>\n",
       "      <td>NaN</td>\n",
       "      <td>0.000000</td>\n",
       "      <td>NaN</td>\n",
       "      <td>NaN</td>\n",
       "      <td>0.000000</td>\n",
       "      <td>0.420000</td>\n",
       "      <td>0.420000</td>\n",
       "      <td>0.000000</td>\n",
       "      <td>NaN</td>\n",
       "    </tr>\n",
       "    <tr>\n",
       "      <th>25%</th>\n",
       "      <td>0.000000</td>\n",
       "      <td>2.000000</td>\n",
       "      <td>NaN</td>\n",
       "      <td>NaN</td>\n",
       "      <td>22.000000</td>\n",
       "      <td>0.000000</td>\n",
       "      <td>0.000000</td>\n",
       "      <td>NaN</td>\n",
       "      <td>7.910400</td>\n",
       "      <td>NaN</td>\n",
       "      <td>NaN</td>\n",
       "      <td>0.000000</td>\n",
       "      <td>22.000000</td>\n",
       "      <td>22.000000</td>\n",
       "      <td>0.000000</td>\n",
       "      <td>NaN</td>\n",
       "    </tr>\n",
       "    <tr>\n",
       "      <th>50%</th>\n",
       "      <td>0.000000</td>\n",
       "      <td>3.000000</td>\n",
       "      <td>NaN</td>\n",
       "      <td>NaN</td>\n",
       "      <td>30.000000</td>\n",
       "      <td>0.000000</td>\n",
       "      <td>0.000000</td>\n",
       "      <td>NaN</td>\n",
       "      <td>14.454200</td>\n",
       "      <td>NaN</td>\n",
       "      <td>NaN</td>\n",
       "      <td>0.000000</td>\n",
       "      <td>30.000000</td>\n",
       "      <td>30.000000</td>\n",
       "      <td>1.000000</td>\n",
       "      <td>NaN</td>\n",
       "    </tr>\n",
       "    <tr>\n",
       "      <th>75%</th>\n",
       "      <td>1.000000</td>\n",
       "      <td>3.000000</td>\n",
       "      <td>NaN</td>\n",
       "      <td>NaN</td>\n",
       "      <td>36.000000</td>\n",
       "      <td>1.000000</td>\n",
       "      <td>0.000000</td>\n",
       "      <td>NaN</td>\n",
       "      <td>31.000000</td>\n",
       "      <td>NaN</td>\n",
       "      <td>NaN</td>\n",
       "      <td>1.000000</td>\n",
       "      <td>36.000000</td>\n",
       "      <td>36.000000</td>\n",
       "      <td>1.000000</td>\n",
       "      <td>NaN</td>\n",
       "    </tr>\n",
       "    <tr>\n",
       "      <th>max</th>\n",
       "      <td>1.000000</td>\n",
       "      <td>3.000000</td>\n",
       "      <td>NaN</td>\n",
       "      <td>NaN</td>\n",
       "      <td>80.000000</td>\n",
       "      <td>8.000000</td>\n",
       "      <td>6.000000</td>\n",
       "      <td>NaN</td>\n",
       "      <td>512.329200</td>\n",
       "      <td>NaN</td>\n",
       "      <td>NaN</td>\n",
       "      <td>10.000000</td>\n",
       "      <td>80.000000</td>\n",
       "      <td>80.000000</td>\n",
       "      <td>1.000000</td>\n",
       "      <td>NaN</td>\n",
       "    </tr>\n",
       "  </tbody>\n",
       "</table>\n",
       "</div>"
      ],
      "text/plain": [
       "          Survived      Pclass                     Name   Sex         Age  \\\n",
       "count   891.000000  891.000000                      891   891  891.000000   \n",
       "unique         NaN         NaN                      891     2         NaN   \n",
       "top            NaN         NaN  Braund, Mr. Owen Harris  male         NaN   \n",
       "freq           NaN         NaN                        1   577         NaN   \n",
       "mean      0.383838    2.308642                      NaN   NaN   29.454736   \n",
       "std       0.486592    0.836071                      NaN   NaN   13.249438   \n",
       "min       0.000000    1.000000                      NaN   NaN    0.420000   \n",
       "25%       0.000000    2.000000                      NaN   NaN   22.000000   \n",
       "50%       0.000000    3.000000                      NaN   NaN   30.000000   \n",
       "75%       1.000000    3.000000                      NaN   NaN   36.000000   \n",
       "max       1.000000    3.000000                      NaN   NaN   80.000000   \n",
       "\n",
       "             SibSp       Parch  Ticket        Fare Cabin Embarked  \\\n",
       "count   891.000000  891.000000     891  891.000000   891      891   \n",
       "unique         NaN         NaN     681         NaN   148        4   \n",
       "top            NaN         NaN  347082         NaN              S   \n",
       "freq           NaN         NaN       7         NaN   687      644   \n",
       "mean      0.523008    0.381594     NaN   32.204208   NaN      NaN   \n",
       "std       1.102743    0.806057     NaN   49.693429   NaN      NaN   \n",
       "min       0.000000    0.000000     NaN    0.000000   NaN      NaN   \n",
       "25%       0.000000    0.000000     NaN    7.910400   NaN      NaN   \n",
       "50%       0.000000    0.000000     NaN   14.454200   NaN      NaN   \n",
       "75%       1.000000    0.000000     NaN   31.000000   NaN      NaN   \n",
       "max       8.000000    6.000000     NaN  512.329200   NaN      NaN   \n",
       "\n",
       "        Family_Size  AgeGroup_code  FareBins_code     Sex_cat AgeGroup  \n",
       "count    891.000000     891.000000     891.000000  891.000000      891  \n",
       "unique          NaN            NaN            NaN         NaN        4  \n",
       "top             NaN            NaN            NaN         NaN    Adult  \n",
       "freq            NaN            NaN            NaN         NaN      723  \n",
       "mean       0.904602      29.454736      29.454736    0.647587      NaN  \n",
       "std        1.613459      13.249438      13.249438    0.477990      NaN  \n",
       "min        0.000000       0.420000       0.420000    0.000000      NaN  \n",
       "25%        0.000000      22.000000      22.000000    0.000000      NaN  \n",
       "50%        0.000000      30.000000      30.000000    1.000000      NaN  \n",
       "75%        1.000000      36.000000      36.000000    1.000000      NaN  \n",
       "max       10.000000      80.000000      80.000000    1.000000      NaN  "
      ]
     },
     "execution_count": 28,
     "metadata": {},
     "output_type": "execute_result"
    }
   ],
   "source": [
    "train_data.iloc[:, 1:].describe(include='all')"
   ]
  },
  {
   "cell_type": "markdown",
   "id": "0522298d",
   "metadata": {
    "papermill": {
     "duration": 0.030278,
     "end_time": "2022-12-05T13:39:17.697340",
     "exception": false,
     "start_time": "2022-12-05T13:39:17.667062",
     "status": "completed"
    },
    "tags": []
   },
   "source": [
    " #### According to the descriptive statistics table above-\n",
    "\n",
    "**Survived:**\n",
    "- Most of the passengers didn't survived (as we already know...), the mean = 0.3838 and the median = 0.\n",
    "\n",
    "**Ticket Class (Pclass):**\n",
    "- The mean = 2.3 and the median = 3, indicates that most tickets are for third class, and the minority are for first class.\n",
    "\n",
    "**Sex**\n",
    "- There are 577 male passengers and the rest are female.\n",
    "\n",
    "**Age/AgeGroup**\n",
    "- The average age is 29.699 and so the median, with a std of ~13. Most of the passengers are adults.\n",
    "\n",
    "**Number of Siblings/Spouses (SibSp)**\n",
    "- According to the mean and the median, most of the passengers came without their sibilig or spouses.\n",
    "\n",
    "**Number of Parents/Children (Parch)**\n",
    "- According to the mean and the median, most of the passengers came without their parents or children.\n",
    "\n",
    "**Fare**\n",
    "- It seems that most of the passengers paids for the trip below to 14.45 (A right skewed distribution, mean > median).\n",
    "\n",
    "**Cabin**\n",
    "- The mode of the cabin numer is unknown.\n",
    "\n",
    "**Embarked**\n",
    "- There three port of embarkation: C = Cherbourg, Q = Queenstown, S = Southampton. The common one is Southampton."
   ]
  },
  {
   "cell_type": "code",
   "execution_count": 29,
   "id": "2ce9db48",
   "metadata": {
    "execution": {
     "iopub.execute_input": "2022-12-05T13:39:17.755408Z",
     "iopub.status.busy": "2022-12-05T13:39:17.755006Z",
     "iopub.status.idle": "2022-12-05T13:39:17.758746Z",
     "shell.execute_reply": "2022-12-05T13:39:17.757698Z"
    },
    "papermill": {
     "duration": 0.036702,
     "end_time": "2022-12-05T13:39:17.761536",
     "exception": false,
     "start_time": "2022-12-05T13:39:17.724834",
     "status": "completed"
    },
    "tags": []
   },
   "outputs": [],
   "source": [
    "# corr = train_data.corr()\n",
    "# mask = np.triu(np.ones_like(corr))\n",
    "\n",
    "# sns.heatmap(corr, mask = mask, annot = True)"
   ]
  },
  {
   "cell_type": "markdown",
   "id": "11149506",
   "metadata": {
    "papermill": {
     "duration": 0.027632,
     "end_time": "2022-12-05T13:39:17.822134",
     "exception": false,
     "start_time": "2022-12-05T13:39:17.794502",
     "status": "completed"
    },
    "tags": []
   },
   "source": [
    "We can see a moderately negative correlation between the Sex variable ( = Sex_cat) and the Survived variable."
   ]
  },
  {
   "cell_type": "markdown",
   "id": "7c70a550",
   "metadata": {
    "papermill": {
     "duration": 0.027308,
     "end_time": "2022-12-05T13:39:17.877399",
     "exception": false,
     "start_time": "2022-12-05T13:39:17.850091",
     "status": "completed"
    },
    "tags": []
   },
   "source": [
    "### Data Visualization\n",
    "Helps us to understand better how the data are behaving"
   ]
  },
  {
   "cell_type": "code",
   "execution_count": 30,
   "id": "504ba6e3",
   "metadata": {
    "execution": {
     "iopub.execute_input": "2022-12-05T13:39:17.934517Z",
     "iopub.status.busy": "2022-12-05T13:39:17.933997Z",
     "iopub.status.idle": "2022-12-05T13:39:19.126930Z",
     "shell.execute_reply": "2022-12-05T13:39:19.125618Z"
    },
    "papermill": {
     "duration": 1.22453,
     "end_time": "2022-12-05T13:39:19.129766",
     "exception": false,
     "start_time": "2022-12-05T13:39:17.905236",
     "status": "completed"
    },
    "tags": []
   },
   "outputs": [
    {
     "data": {
      "text/plain": [
       "Text(0.5, 1.0, 'Passenger fare')"
      ]
     },
     "execution_count": 30,
     "metadata": {},
     "output_type": "execute_result"
    },
    {
     "data": {
      "image/png": "[encoded data removed]",
      "text/plain": [
       "<Figure size 1080x1440 with 7 Axes>"
      ]
     },
     "metadata": {
      "needs_background": "light"
     },
     "output_type": "display_data"
    }
   ],
   "source": [
    "plt.figure(figsize = (15,20))\n",
    "\n",
    "plt.subplot(3, 3, 1)\n",
    "sns.countplot(x = 'Survived', data = train_data)\n",
    "plt.title(\"How Many Survived\")\n",
    "\n",
    "plt.subplot(3, 3, 2)\n",
    "sns.countplot(x = \"Sex\", data = train_data)\n",
    "plt.title(\"Sex Counting\")\n",
    "\n",
    "plt.subplot(3, 3, 3)\n",
    "sns.histplot(x = \"Age\", data = train_data, kde = True)\n",
    "plt.title(\"Age Distribution\")\n",
    "\n",
    "plt.subplot(3, 3, 4)\n",
    "sns.countplot(x = 'Pclass', data = train_data)\n",
    "plt.title('Ticket Class')\n",
    "\n",
    "plt.subplot(3, 3, 5)\n",
    "sns.countplot(x = 'SibSp', data = train_data)\n",
    "plt.title(\"# of siblings / spouses\\naboard the Titanic\")\n",
    "\n",
    "plt.subplot(3, 3, 6)\n",
    "sns.countplot(x = 'Parch', data = train_data)\n",
    "plt.title('# of parents / children\\naboard the Titanic')\n",
    "\n",
    "plt.subplot(3, 3, 7)\n",
    "sns.histplot(x = 'Fare', data = train_data, kde = True)\n",
    "plt.title('Passenger fare')"
   ]
  },
  {
   "cell_type": "markdown",
   "id": "a117bc47",
   "metadata": {
    "papermill": {
     "duration": 0.029319,
     "end_time": "2022-12-05T13:39:19.187971",
     "exception": false,
     "start_time": "2022-12-05T13:39:19.158652",
     "status": "completed"
    },
    "tags": []
   },
   "source": [
    "#### We want to evaluate which features are affecting the chance to survive.\n",
    "#### Accordingly, let's visually examine the connection."
   ]
  },
  {
   "cell_type": "markdown",
   "id": "ffaefc1e",
   "metadata": {
    "papermill": {
     "duration": 0.027955,
     "end_time": "2022-12-05T13:39:19.244976",
     "exception": false,
     "start_time": "2022-12-05T13:39:19.217021",
     "status": "completed"
    },
    "tags": []
   },
   "source": [
    "**Survived ~ Sex**"
   ]
  },
  {
   "cell_type": "code",
   "execution_count": 31,
   "id": "2c7a68d9",
   "metadata": {
    "execution": {
     "iopub.execute_input": "2022-12-05T13:39:19.311735Z",
     "iopub.status.busy": "2022-12-05T13:39:19.311273Z",
     "iopub.status.idle": "2022-12-05T13:39:19.467163Z",
     "shell.execute_reply": "2022-12-05T13:39:19.466346Z"
    },
    "papermill": {
     "duration": 0.190306,
     "end_time": "2022-12-05T13:39:19.469466",
     "exception": false,
     "start_time": "2022-12-05T13:39:19.279160",
     "status": "completed"
    },
    "tags": []
   },
   "outputs": [
    {
     "name": "stdout",
     "output_type": "stream",
     "text": [
      "% of men who survived: 0.18890814558058924\n",
      "% of women who survived: 0.7420382165605095\n"
     ]
    },
    {
     "data": {
      "text/plain": [
       "<AxesSubplot:xlabel='Sex', ylabel='count'>"
      ]
     },
     "execution_count": 31,
     "metadata": {},
     "output_type": "execute_result"
    },
    {
     "data": {
      "image/png": "[encoded data removed]",
      "text/plain": [
       "<Figure size 432x288 with 1 Axes>"
      ]
     },
     "metadata": {
      "needs_background": "light"
     },
     "output_type": "display_data"
    }
   ],
   "source": [
    "women = train_data.loc[train_data.Sex == \"female\"]['Survived']\n",
    "rate_women = sum(women) / len(women)\n",
    "\n",
    "men = train_data.loc[train_data.Sex == \"male\"]['Survived']\n",
    "rate_men = sum(men) / len(men)\n",
    "\n",
    "print(\"% of men who survived:\", rate_men)\n",
    "print(\"% of women who survived:\", rate_women)\n",
    "\n",
    "sns.countplot(x = 'Sex', data = train_data, hue = 'Survived')"
   ]
  },
  {
   "cell_type": "markdown",
   "id": "410e572c",
   "metadata": {
    "papermill": {
     "duration": 0.029451,
     "end_time": "2022-12-05T13:39:19.530663",
     "exception": false,
     "start_time": "2022-12-05T13:39:19.501212",
     "status": "completed"
    },
    "tags": []
   },
   "source": [
    "**Survived ~ Ticket Class (Pclass)**"
   ]
  },
  {
   "cell_type": "code",
   "execution_count": 32,
   "id": "68cc0a72",
   "metadata": {
    "execution": {
     "iopub.execute_input": "2022-12-05T13:39:19.594593Z",
     "iopub.status.busy": "2022-12-05T13:39:19.593901Z",
     "iopub.status.idle": "2022-12-05T13:39:19.931464Z",
     "shell.execute_reply": "2022-12-05T13:39:19.930253Z"
    },
    "papermill": {
     "duration": 0.372891,
     "end_time": "2022-12-05T13:39:19.933427",
     "exception": false,
     "start_time": "2022-12-05T13:39:19.560536",
     "status": "completed"
    },
    "tags": []
   },
   "outputs": [
    {
     "name": "stdout",
     "output_type": "stream",
     "text": [
      "% of class 1 who survived: 0.6296296296296297\n",
      "% of class 2 who survived: 0.47282608695652173\n",
      "% of class 3 who survived: 0.24236252545824846\n"
     ]
    },
    {
     "data": {
      "text/plain": [
       "<AxesSubplot:xlabel='Pclass', ylabel='count'>"
      ]
     },
     "execution_count": 32,
     "metadata": {},
     "output_type": "execute_result"
    },
    {
     "data": {
      "image/png": "[encoded data removed]",
      "text/plain": [
       "<Figure size 432x288 with 1 Axes>"
      ]
     },
     "metadata": {
      "needs_background": "light"
     },
     "output_type": "display_data"
    }
   ],
   "source": [
    "class1 = train_data.loc[train_data.Pclass == 1]['Survived']\n",
    "rate_class1 = sum(class1) / len(class1)\n",
    "\n",
    "class2 = train_data.loc[train_data.Pclass == 2]['Survived']\n",
    "rate_class2 = sum(class2) / len(class2)\n",
    "\n",
    "class3 = train_data.loc[train_data.Pclass == 3]['Survived']\n",
    "rate_class3 = sum(class3) / len(class3)\n",
    "\n",
    "print(\"% of class 1 who survived:\", rate_class1)\n",
    "print(\"% of class 2 who survived:\", rate_class2)\n",
    "print(\"% of class 3 who survived:\", rate_class3)\n",
    "\n",
    "sns.countplot(x = 'Pclass', data = train_data, hue = 'Survived')"
   ]
  },
  {
   "cell_type": "markdown",
   "id": "2cb22be3",
   "metadata": {
    "papermill": {
     "duration": 0.029183,
     "end_time": "2022-12-05T13:39:19.991231",
     "exception": false,
     "start_time": "2022-12-05T13:39:19.962048",
     "status": "completed"
    },
    "tags": []
   },
   "source": [
    "**Survived ~ # of Parents/Children (Parch)**"
   ]
  },
  {
   "cell_type": "code",
   "execution_count": 33,
   "id": "203a88c0",
   "metadata": {
    "execution": {
     "iopub.execute_input": "2022-12-05T13:39:20.052616Z",
     "iopub.status.busy": "2022-12-05T13:39:20.052213Z",
     "iopub.status.idle": "2022-12-05T13:39:20.246018Z",
     "shell.execute_reply": "2022-12-05T13:39:20.244613Z"
    },
    "papermill": {
     "duration": 0.227762,
     "end_time": "2022-12-05T13:39:20.248566",
     "exception": false,
     "start_time": "2022-12-05T13:39:20.020804",
     "status": "completed"
    },
    "tags": []
   },
   "outputs": [
    {
     "name": "stdout",
     "output_type": "stream",
     "text": [
      "% of passengers who have  0  of parents/children aboard the Titanic that survived: 0.34365781710914456\n",
      "% of passengers who have  1  of parents/children aboard the Titanic that survived: 0.5508474576271186\n",
      "% of passengers who have  2  of parents/children aboard the Titanic that survived: 0.5\n",
      "% of passengers who have  5  of parents/children aboard the Titanic that survived: 0.2\n",
      "% of passengers who have  3  of parents/children aboard the Titanic that survived: 0.6\n",
      "% of passengers who have  4  of parents/children aboard the Titanic that survived: 0.0\n",
      "% of passengers who have  6  of parents/children aboard the Titanic that survived: 0.0\n"
     ]
    },
    {
     "data": {
      "text/plain": [
       "<matplotlib.legend.Legend at 0x7f328e24d810>"
      ]
     },
     "execution_count": 33,
     "metadata": {},
     "output_type": "execute_result"
    },
    {
     "data": {
      "image/png": "[encoded data removed]",
      "text/plain": [
       "<Figure size 432x288 with 1 Axes>"
      ]
     },
     "metadata": {
      "needs_background": "light"
     },
     "output_type": "display_data"
    }
   ],
   "source": [
    "for i in train_data.Parch.unique():\n",
    "    temp_survived = train_data.loc[train_data.Parch == i]['Survived']\n",
    "    rate = sum(temp_survived) / len(temp_survived)\n",
    "    print(\"% of passengers who have \", i, \" of parents/children aboard the Titanic that survived:\", rate)\n",
    "    \n",
    "sns.countplot(x = 'Parch', data = train_data, hue = 'Survived')\n",
    "plt.legend(title = 'Survived', loc='upper right')\n"
   ]
  },
  {
   "cell_type": "markdown",
   "id": "b7a00df0",
   "metadata": {
    "papermill": {
     "duration": 0.029591,
     "end_time": "2022-12-05T13:39:20.308033",
     "exception": false,
     "start_time": "2022-12-05T13:39:20.278442",
     "status": "completed"
    },
    "tags": []
   },
   "source": [
    "**Survived ~ # of Sibiling/Spouses (SibSp)**"
   ]
  },
  {
   "cell_type": "code",
   "execution_count": 34,
   "id": "9ae7d153",
   "metadata": {
    "execution": {
     "iopub.execute_input": "2022-12-05T13:39:20.374016Z",
     "iopub.status.busy": "2022-12-05T13:39:20.373107Z",
     "iopub.status.idle": "2022-12-05T13:39:20.583720Z",
     "shell.execute_reply": "2022-12-05T13:39:20.582514Z"
    },
    "papermill": {
     "duration": 0.245998,
     "end_time": "2022-12-05T13:39:20.586122",
     "exception": false,
     "start_time": "2022-12-05T13:39:20.340124",
     "status": "completed"
    },
    "tags": []
   },
   "outputs": [
    {
     "name": "stdout",
     "output_type": "stream",
     "text": [
      "% of passengers who have  1  of siblings/spouses aboard the Titanic that survived: 0.5358851674641149\n",
      "% of passengers who have  0  of siblings/spouses aboard the Titanic that survived: 0.34539473684210525\n",
      "% of passengers who have  3  of siblings/spouses aboard the Titanic that survived: 0.25\n",
      "% of passengers who have  4  of siblings/spouses aboard the Titanic that survived: 0.16666666666666666\n",
      "% of passengers who have  2  of siblings/spouses aboard the Titanic that survived: 0.4642857142857143\n",
      "% of passengers who have  5  of siblings/spouses aboard the Titanic that survived: 0.0\n",
      "% of passengers who have  8  of siblings/spouses aboard the Titanic that survived: 0.0\n"
     ]
    },
    {
     "data": {
      "text/plain": [
       "<matplotlib.legend.Legend at 0x7f328e197490>"
      ]
     },
     "execution_count": 34,
     "metadata": {},
     "output_type": "execute_result"
    },
    {
     "data": {
      "image/png": "[encoded data removed]",
      "text/plain": [
       "<Figure size 432x288 with 1 Axes>"
      ]
     },
     "metadata": {
      "needs_background": "light"
     },
     "output_type": "display_data"
    }
   ],
   "source": [
    "for i in train_data.SibSp.unique():\n",
    "    temp_survived = train_data.loc[train_data.SibSp == i]['Survived']\n",
    "    rate = sum(temp_survived) / len(temp_survived)\n",
    "    print(\"% of passengers who have \", i, \" of siblings/spouses aboard the Titanic that survived:\", rate)\n",
    "    \n",
    "\n",
    "sns.countplot(x = 'SibSp', data = train_data, hue = 'Survived')\n",
    "plt.legend(title = 'Survived', loc='upper right')"
   ]
  },
  {
   "cell_type": "markdown",
   "id": "ee597c7d",
   "metadata": {
    "papermill": {
     "duration": 0.02933,
     "end_time": "2022-12-05T13:39:20.645141",
     "exception": false,
     "start_time": "2022-12-05T13:39:20.615811",
     "status": "completed"
    },
    "tags": []
   },
   "source": [
    "**Survived ~ Age**"
   ]
  },
  {
   "cell_type": "code",
   "execution_count": 35,
   "id": "d6d41d67",
   "metadata": {
    "execution": {
     "iopub.execute_input": "2022-12-05T13:39:20.715105Z",
     "iopub.status.busy": "2022-12-05T13:39:20.714092Z",
     "iopub.status.idle": "2022-12-05T13:39:20.907600Z",
     "shell.execute_reply": "2022-12-05T13:39:20.906466Z"
    },
    "papermill": {
     "duration": 0.234791,
     "end_time": "2022-12-05T13:39:20.910389",
     "exception": false,
     "start_time": "2022-12-05T13:39:20.675598",
     "status": "completed"
    },
    "tags": []
   },
   "outputs": [
    {
     "name": "stdout",
     "output_type": "stream",
     "text": [
      "% of Adults that survived: 0.36099585062240663\n",
      "% of Infants that survived: 0.6666666666666666\n",
      "% of Teens that survived: 0.4105263157894737\n",
      "% of Kids that survived: 0.5116279069767442\n"
     ]
    },
    {
     "data": {
      "text/plain": [
       "<AxesSubplot:xlabel='AgeGroup', ylabel='count'>"
      ]
     },
     "execution_count": 35,
     "metadata": {},
     "output_type": "execute_result"
    },
    {
     "data": {
      "image/png": "[encoded data removed]",
      "text/plain": [
       "<Figure size 432x288 with 1 Axes>"
      ]
     },
     "metadata": {
      "needs_background": "light"
     },
     "output_type": "display_data"
    }
   ],
   "source": [
    "for i in train_data.AgeGroup.unique():\n",
    "    temp_survived = train_data.loc[train_data.AgeGroup == i]['Survived']\n",
    "    rate = sum(temp_survived) / len(temp_survived)\n",
    "    print(\"% of\", i + 's', \"that survived:\", rate)\n",
    "\n",
    "sns.countplot(x = 'AgeGroup', data = train_data, hue = 'Survived')"
   ]
  },
  {
   "cell_type": "markdown",
   "id": "fadb16b3",
   "metadata": {
    "papermill": {
     "duration": 0.032143,
     "end_time": "2022-12-05T13:39:20.975234",
     "exception": false,
     "start_time": "2022-12-05T13:39:20.943091",
     "status": "completed"
    },
    "tags": []
   },
   "source": [
    "###### The features- PassengerId, Name, Number of Ticket, Cabin, Embarked and Fare, are not affecting in any way the chance to survive or not."
   ]
  },
  {
   "cell_type": "markdown",
   "id": "27495302",
   "metadata": {
    "papermill": {
     "duration": 0.032473,
     "end_time": "2022-12-05T13:39:21.041295",
     "exception": false,
     "start_time": "2022-12-05T13:39:21.008822",
     "status": "completed"
    },
    "tags": []
   },
   "source": [
    "# **Model Building**"
   ]
  },
  {
   "cell_type": "markdown",
   "id": "746f864a",
   "metadata": {
    "papermill": {
     "duration": 0.031502,
     "end_time": "2022-12-05T13:39:21.105023",
     "exception": false,
     "start_time": "2022-12-05T13:39:21.073521",
     "status": "completed"
    },
    "tags": []
   },
   "source": [
    "### Data Preparation\n",
    "Before using the classification models, let's prepered our data:"
   ]
  },
  {
   "cell_type": "code",
   "execution_count": 36,
   "id": "5b48d111",
   "metadata": {
    "execution": {
     "iopub.execute_input": "2022-12-05T13:39:21.173646Z",
     "iopub.status.busy": "2022-12-05T13:39:21.173131Z",
     "iopub.status.idle": "2022-12-05T13:39:21.180931Z",
     "shell.execute_reply": "2022-12-05T13:39:21.179794Z"
    },
    "papermill": {
     "duration": 0.046543,
     "end_time": "2022-12-05T13:39:21.183531",
     "exception": false,
     "start_time": "2022-12-05T13:39:21.136988",
     "status": "completed"
    },
    "tags": []
   },
   "outputs": [],
   "source": [
    "X = train_data.loc[:, (\"Sex_cat\", \"Pclass\", \"SibSp\", \"Parch\", \"Age\")]\n",
    "y = train_data[\"Survived\"].values"
   ]
  },
  {
   "cell_type": "markdown",
   "id": "783e363e",
   "metadata": {
    "papermill": {
     "duration": 0.033895,
     "end_time": "2022-12-05T13:39:21.250421",
     "exception": false,
     "start_time": "2022-12-05T13:39:21.216526",
     "status": "completed"
    },
    "tags": []
   },
   "source": [
    "The feature matrix, X:"
   ]
  },
  {
   "cell_type": "code",
   "execution_count": 37,
   "id": "83b11e9b",
   "metadata": {
    "execution": {
     "iopub.execute_input": "2022-12-05T13:39:21.320823Z",
     "iopub.status.busy": "2022-12-05T13:39:21.319863Z",
     "iopub.status.idle": "2022-12-05T13:39:21.337841Z",
     "shell.execute_reply": "2022-12-05T13:39:21.336179Z"
    },
    "papermill": {
     "duration": 0.056115,
     "end_time": "2022-12-05T13:39:21.340518",
     "exception": false,
     "start_time": "2022-12-05T13:39:21.284403",
     "status": "completed"
    },
    "tags": []
   },
   "outputs": [
    {
     "data": {
      "text/html": [
       "<div>\n",
       "<style scoped>\n",
       "    .dataframe tbody tr th:only-of-type {\n",
       "        vertical-align: middle;\n",
       "    }\n",
       "\n",
       "    .dataframe tbody tr th {\n",
       "        vertical-align: top;\n",
       "    }\n",
       "\n",
       "    .dataframe thead th {\n",
       "        text-align: right;\n",
       "    }\n",
       "</style>\n",
       "<table border=\"1\" class=\"dataframe\">\n",
       "  <thead>\n",
       "    <tr style=\"text-align: right;\">\n",
       "      <th></th>\n",
       "      <th>Sex_cat</th>\n",
       "      <th>Pclass</th>\n",
       "      <th>SibSp</th>\n",
       "      <th>Parch</th>\n",
       "      <th>Age</th>\n",
       "    </tr>\n",
       "  </thead>\n",
       "  <tbody>\n",
       "    <tr>\n",
       "      <th>0</th>\n",
       "      <td>1</td>\n",
       "      <td>3</td>\n",
       "      <td>1</td>\n",
       "      <td>0</td>\n",
       "      <td>22.0</td>\n",
       "    </tr>\n",
       "    <tr>\n",
       "      <th>1</th>\n",
       "      <td>0</td>\n",
       "      <td>1</td>\n",
       "      <td>1</td>\n",
       "      <td>0</td>\n",
       "      <td>38.0</td>\n",
       "    </tr>\n",
       "    <tr>\n",
       "      <th>2</th>\n",
       "      <td>0</td>\n",
       "      <td>3</td>\n",
       "      <td>0</td>\n",
       "      <td>0</td>\n",
       "      <td>26.0</td>\n",
       "    </tr>\n",
       "    <tr>\n",
       "      <th>3</th>\n",
       "      <td>0</td>\n",
       "      <td>1</td>\n",
       "      <td>1</td>\n",
       "      <td>0</td>\n",
       "      <td>35.0</td>\n",
       "    </tr>\n",
       "    <tr>\n",
       "      <th>4</th>\n",
       "      <td>1</td>\n",
       "      <td>3</td>\n",
       "      <td>0</td>\n",
       "      <td>0</td>\n",
       "      <td>35.0</td>\n",
       "    </tr>\n",
       "    <tr>\n",
       "      <th>...</th>\n",
       "      <td>...</td>\n",
       "      <td>...</td>\n",
       "      <td>...</td>\n",
       "      <td>...</td>\n",
       "      <td>...</td>\n",
       "    </tr>\n",
       "    <tr>\n",
       "      <th>886</th>\n",
       "      <td>1</td>\n",
       "      <td>2</td>\n",
       "      <td>0</td>\n",
       "      <td>0</td>\n",
       "      <td>27.0</td>\n",
       "    </tr>\n",
       "    <tr>\n",
       "      <th>887</th>\n",
       "      <td>0</td>\n",
       "      <td>1</td>\n",
       "      <td>0</td>\n",
       "      <td>0</td>\n",
       "      <td>19.0</td>\n",
       "    </tr>\n",
       "    <tr>\n",
       "      <th>888</th>\n",
       "      <td>0</td>\n",
       "      <td>3</td>\n",
       "      <td>1</td>\n",
       "      <td>2</td>\n",
       "      <td>22.0</td>\n",
       "    </tr>\n",
       "    <tr>\n",
       "      <th>889</th>\n",
       "      <td>1</td>\n",
       "      <td>1</td>\n",
       "      <td>0</td>\n",
       "      <td>0</td>\n",
       "      <td>26.0</td>\n",
       "    </tr>\n",
       "    <tr>\n",
       "      <th>890</th>\n",
       "      <td>1</td>\n",
       "      <td>3</td>\n",
       "      <td>0</td>\n",
       "      <td>0</td>\n",
       "      <td>32.0</td>\n",
       "    </tr>\n",
       "  </tbody>\n",
       "</table>\n",
       "<p>891 rows × 5 columns</p>\n",
       "</div>"
      ],
      "text/plain": [
       "     Sex_cat  Pclass  SibSp  Parch   Age\n",
       "0          1       3      1      0  22.0\n",
       "1          0       1      1      0  38.0\n",
       "2          0       3      0      0  26.0\n",
       "3          0       1      1      0  35.0\n",
       "4          1       3      0      0  35.0\n",
       "..       ...     ...    ...    ...   ...\n",
       "886        1       2      0      0  27.0\n",
       "887        0       1      0      0  19.0\n",
       "888        0       3      1      2  22.0\n",
       "889        1       1      0      0  26.0\n",
       "890        1       3      0      0  32.0\n",
       "\n",
       "[891 rows x 5 columns]"
      ]
     },
     "execution_count": 37,
     "metadata": {},
     "output_type": "execute_result"
    }
   ],
   "source": [
    "X"
   ]
  },
  {
   "cell_type": "markdown",
   "id": "7baf138a",
   "metadata": {
    "papermill": {
     "duration": 0.032228,
     "end_time": "2022-12-05T13:39:21.404846",
     "exception": false,
     "start_time": "2022-12-05T13:39:21.372618",
     "status": "completed"
    },
    "tags": []
   },
   "source": [
    "The target column, y:"
   ]
  },
  {
   "cell_type": "code",
   "execution_count": 38,
   "id": "fd7297e6",
   "metadata": {
    "execution": {
     "iopub.execute_input": "2022-12-05T13:39:21.469499Z",
     "iopub.status.busy": "2022-12-05T13:39:21.468814Z",
     "iopub.status.idle": "2022-12-05T13:39:21.477489Z",
     "shell.execute_reply": "2022-12-05T13:39:21.476282Z"
    },
    "papermill": {
     "duration": 0.042995,
     "end_time": "2022-12-05T13:39:21.479849",
     "exception": false,
     "start_time": "2022-12-05T13:39:21.436854",
     "status": "completed"
    },
    "tags": []
   },
   "outputs": [
    {
     "data": {
      "text/plain": [
       "array([0, 1, 1, 1, 0])"
      ]
     },
     "execution_count": 38,
     "metadata": {},
     "output_type": "execute_result"
    }
   ],
   "source": [
    "y[:5]"
   ]
  },
  {
   "cell_type": "markdown",
   "id": "2c31ad19",
   "metadata": {
    "papermill": {
     "duration": 0.030136,
     "end_time": "2022-12-05T13:39:21.540893",
     "exception": false,
     "start_time": "2022-12-05T13:39:21.510757",
     "status": "completed"
    },
    "tags": []
   },
   "source": [
    "#### Splitting the dataset into the Training set and Test set"
   ]
  },
  {
   "cell_type": "code",
   "execution_count": 39,
   "id": "536ab1b5",
   "metadata": {
    "execution": {
     "iopub.execute_input": "2022-12-05T13:39:21.605113Z",
     "iopub.status.busy": "2022-12-05T13:39:21.604690Z",
     "iopub.status.idle": "2022-12-05T13:39:21.611776Z",
     "shell.execute_reply": "2022-12-05T13:39:21.611040Z"
    },
    "papermill": {
     "duration": 0.04252,
     "end_time": "2022-12-05T13:39:21.614410",
     "exception": false,
     "start_time": "2022-12-05T13:39:21.571890",
     "status": "completed"
    },
    "tags": []
   },
   "outputs": [],
   "source": [
    "from sklearn.model_selection import train_test_split\n",
    "X_train, X_test, y_train, y_test = train_test_split(X, y, test_size = 0.2, random_state = 0)"
   ]
  },
  {
   "cell_type": "code",
   "execution_count": 40,
   "id": "ff9e1ea4",
   "metadata": {
    "execution": {
     "iopub.execute_input": "2022-12-05T13:39:21.679805Z",
     "iopub.status.busy": "2022-12-05T13:39:21.679160Z",
     "iopub.status.idle": "2022-12-05T13:39:21.692276Z",
     "shell.execute_reply": "2022-12-05T13:39:21.691463Z"
    },
    "papermill": {
     "duration": 0.047641,
     "end_time": "2022-12-05T13:39:21.694213",
     "exception": false,
     "start_time": "2022-12-05T13:39:21.646572",
     "status": "completed"
    },
    "tags": []
   },
   "outputs": [
    {
     "data": {
      "text/html": [
       "<div>\n",
       "<style scoped>\n",
       "    .dataframe tbody tr th:only-of-type {\n",
       "        vertical-align: middle;\n",
       "    }\n",
       "\n",
       "    .dataframe tbody tr th {\n",
       "        vertical-align: top;\n",
       "    }\n",
       "\n",
       "    .dataframe thead th {\n",
       "        text-align: right;\n",
       "    }\n",
       "</style>\n",
       "<table border=\"1\" class=\"dataframe\">\n",
       "  <thead>\n",
       "    <tr style=\"text-align: right;\">\n",
       "      <th></th>\n",
       "      <th>Sex_cat</th>\n",
       "      <th>Pclass</th>\n",
       "      <th>SibSp</th>\n",
       "      <th>Parch</th>\n",
       "      <th>Age</th>\n",
       "    </tr>\n",
       "  </thead>\n",
       "  <tbody>\n",
       "    <tr>\n",
       "      <th>140</th>\n",
       "      <td>0</td>\n",
       "      <td>3</td>\n",
       "      <td>0</td>\n",
       "      <td>2</td>\n",
       "      <td>36.0</td>\n",
       "    </tr>\n",
       "    <tr>\n",
       "      <th>439</th>\n",
       "      <td>1</td>\n",
       "      <td>2</td>\n",
       "      <td>0</td>\n",
       "      <td>0</td>\n",
       "      <td>31.0</td>\n",
       "    </tr>\n",
       "    <tr>\n",
       "      <th>817</th>\n",
       "      <td>1</td>\n",
       "      <td>2</td>\n",
       "      <td>1</td>\n",
       "      <td>1</td>\n",
       "      <td>31.0</td>\n",
       "    </tr>\n",
       "    <tr>\n",
       "      <th>378</th>\n",
       "      <td>1</td>\n",
       "      <td>3</td>\n",
       "      <td>0</td>\n",
       "      <td>0</td>\n",
       "      <td>20.0</td>\n",
       "    </tr>\n",
       "    <tr>\n",
       "      <th>491</th>\n",
       "      <td>1</td>\n",
       "      <td>3</td>\n",
       "      <td>0</td>\n",
       "      <td>0</td>\n",
       "      <td>21.0</td>\n",
       "    </tr>\n",
       "    <tr>\n",
       "      <th>...</th>\n",
       "      <td>...</td>\n",
       "      <td>...</td>\n",
       "      <td>...</td>\n",
       "      <td>...</td>\n",
       "      <td>...</td>\n",
       "    </tr>\n",
       "    <tr>\n",
       "      <th>835</th>\n",
       "      <td>0</td>\n",
       "      <td>1</td>\n",
       "      <td>1</td>\n",
       "      <td>1</td>\n",
       "      <td>39.0</td>\n",
       "    </tr>\n",
       "    <tr>\n",
       "      <th>192</th>\n",
       "      <td>0</td>\n",
       "      <td>3</td>\n",
       "      <td>1</td>\n",
       "      <td>0</td>\n",
       "      <td>19.0</td>\n",
       "    </tr>\n",
       "    <tr>\n",
       "      <th>629</th>\n",
       "      <td>1</td>\n",
       "      <td>3</td>\n",
       "      <td>0</td>\n",
       "      <td>0</td>\n",
       "      <td>30.0</td>\n",
       "    </tr>\n",
       "    <tr>\n",
       "      <th>559</th>\n",
       "      <td>0</td>\n",
       "      <td>3</td>\n",
       "      <td>1</td>\n",
       "      <td>0</td>\n",
       "      <td>36.0</td>\n",
       "    </tr>\n",
       "    <tr>\n",
       "      <th>684</th>\n",
       "      <td>1</td>\n",
       "      <td>2</td>\n",
       "      <td>1</td>\n",
       "      <td>1</td>\n",
       "      <td>60.0</td>\n",
       "    </tr>\n",
       "  </tbody>\n",
       "</table>\n",
       "<p>712 rows × 5 columns</p>\n",
       "</div>"
      ],
      "text/plain": [
       "     Sex_cat  Pclass  SibSp  Parch   Age\n",
       "140        0       3      0      2  36.0\n",
       "439        1       2      0      0  31.0\n",
       "817        1       2      1      1  31.0\n",
       "378        1       3      0      0  20.0\n",
       "491        1       3      0      0  21.0\n",
       "..       ...     ...    ...    ...   ...\n",
       "835        0       1      1      1  39.0\n",
       "192        0       3      1      0  19.0\n",
       "629        1       3      0      0  30.0\n",
       "559        0       3      1      0  36.0\n",
       "684        1       2      1      1  60.0\n",
       "\n",
       "[712 rows x 5 columns]"
      ]
     },
     "execution_count": 40,
     "metadata": {},
     "output_type": "execute_result"
    }
   ],
   "source": [
    "X_train"
   ]
  },
  {
   "cell_type": "markdown",
   "id": "d0346fa8",
   "metadata": {
    "papermill": {
     "duration": 0.030865,
     "end_time": "2022-12-05T13:39:21.756678",
     "exception": false,
     "start_time": "2022-12-05T13:39:21.725813",
     "status": "completed"
    },
    "tags": []
   },
   "source": [
    "#### Feature Scaling"
   ]
  },
  {
   "cell_type": "code",
   "execution_count": 41,
   "id": "5cbd23e9",
   "metadata": {
    "execution": {
     "iopub.execute_input": "2022-12-05T13:39:21.822659Z",
     "iopub.status.busy": "2022-12-05T13:39:21.822046Z",
     "iopub.status.idle": "2022-12-05T13:39:21.832305Z",
     "shell.execute_reply": "2022-12-05T13:39:21.831530Z"
    },
    "papermill": {
     "duration": 0.04644,
     "end_time": "2022-12-05T13:39:21.835031",
     "exception": false,
     "start_time": "2022-12-05T13:39:21.788591",
     "status": "completed"
    },
    "tags": []
   },
   "outputs": [],
   "source": [
    "# feature scaling\n",
    "from sklearn.preprocessing import StandardScaler\n",
    "sc = StandardScaler()\n",
    "X_train = sc.fit_transform(X_train)\n",
    "X_test = sc.transform(X_test)"
   ]
  },
  {
   "cell_type": "markdown",
   "id": "318ed306",
   "metadata": {
    "papermill": {
     "duration": 0.034667,
     "end_time": "2022-12-05T13:39:21.900784",
     "exception": false,
     "start_time": "2022-12-05T13:39:21.866117",
     "status": "completed"
    },
    "tags": []
   },
   "source": [
    "## **Feature and Model Selection**"
   ]
  },
  {
   "cell_type": "code",
   "execution_count": 42,
   "id": "51cbc11a",
   "metadata": {
    "execution": {
     "iopub.execute_input": "2022-12-05T13:39:21.966854Z",
     "iopub.status.busy": "2022-12-05T13:39:21.966257Z",
     "iopub.status.idle": "2022-12-05T13:39:21.985135Z",
     "shell.execute_reply": "2022-12-05T13:39:21.983756Z"
    },
    "papermill": {
     "duration": 0.054873,
     "end_time": "2022-12-05T13:39:21.987920",
     "exception": false,
     "start_time": "2022-12-05T13:39:21.933047",
     "status": "completed"
    },
    "tags": []
   },
   "outputs": [],
   "source": [
    "from sklearn.model_selection import cross_val_score, GridSearchCV, RepeatedStratifiedKFold\n",
    "#cross_val_predict, KFold, \n",
    "from sklearn.metrics import confusion_matrix, accuracy_score\n",
    "from sklearn.pipeline import Pipeline\n",
    "from sklearn.feature_selection import RFECV"
   ]
  },
  {
   "cell_type": "code",
   "execution_count": 43,
   "id": "1be457ae",
   "metadata": {
    "execution": {
     "iopub.execute_input": "2022-12-05T13:39:22.055018Z",
     "iopub.status.busy": "2022-12-05T13:39:22.054655Z",
     "iopub.status.idle": "2022-12-05T13:39:22.059921Z",
     "shell.execute_reply": "2022-12-05T13:39:22.058293Z"
    },
    "papermill": {
     "duration": 0.040981,
     "end_time": "2022-12-05T13:39:22.062322",
     "exception": false,
     "start_time": "2022-12-05T13:39:22.021341",
     "status": "completed"
    },
    "tags": []
   },
   "outputs": [],
   "source": [
    "# some experience....\n",
    "# here we use Decision Tree as estimator in the RFECV\n",
    "# from sklearn.tree import DecisionTreeClassifier\n",
    "# from sklearn.ensemble import RandomForestClassifier\n",
    "# rfe = RFECV(estimator=LogisticRegression(), cv = 10)\n",
    "# rfe = rfe.fit(X_train,y_train)\n",
    "# print(\"Feature ranking: \", rfe.ranking_)\n",
    "\n",
    "# # extracting the selected features.  get_support() function helps us to get those features names. \n",
    "# mask = rfe.get_support()\n",
    "# features = X.columns\n",
    "# best_features = features[mask]\n",
    " \n",
    "# print(\"All features: \", X.shape[1])\n",
    "# print(features)\n",
    "\n",
    "# print(\"Selected best: \", best_features.shape[0])\n",
    "# print(features[mask])"
   ]
  },
  {
   "cell_type": "markdown",
   "id": "3e85c863",
   "metadata": {
    "papermill": {
     "duration": 0.03287,
     "end_time": "2022-12-05T13:39:22.126929",
     "exception": false,
     "start_time": "2022-12-05T13:39:22.094059",
     "status": "completed"
    },
    "tags": []
   },
   "source": [
    "Let's run RFECV with different estimators to select features. Additionally, let's run some classification models, to get intuition about which estimator and classification algorithm will give us the best results.\n",
    "\n",
    "After we chose the estimator and the model, we can check which features are selected and use GridSearchCV to find the best hyperparameters for the chosen model."
   ]
  },
  {
   "cell_type": "code",
   "execution_count": 44,
   "id": "2f7f2929",
   "metadata": {
    "execution": {
     "iopub.execute_input": "2022-12-05T13:39:22.193804Z",
     "iopub.status.busy": "2022-12-05T13:39:22.193209Z",
     "iopub.status.idle": "2022-12-05T13:39:22.304999Z",
     "shell.execute_reply": "2022-12-05T13:39:22.304239Z"
    },
    "papermill": {
     "duration": 0.149103,
     "end_time": "2022-12-05T13:39:22.307397",
     "exception": false,
     "start_time": "2022-12-05T13:39:22.158294",
     "status": "completed"
    },
    "tags": []
   },
   "outputs": [],
   "source": [
    "from sklearn.linear_model import LogisticRegression\n",
    "from sklearn.linear_model import Perceptron\n",
    "from sklearn.tree import DecisionTreeClassifier\n",
    "from sklearn.ensemble import RandomForestClassifier\n",
    "from sklearn.ensemble import GradientBoostingClassifier\n",
    "from sklearn.svm import SVC\n",
    "from sklearn.naive_bayes import GaussianNB\n",
    "from sklearn.neighbors import KNeighborsClassifier"
   ]
  },
  {
   "cell_type": "code",
   "execution_count": 45,
   "id": "21298b9c",
   "metadata": {
    "collapsed": true,
    "execution": {
     "iopub.execute_input": "2022-12-05T13:39:22.373845Z",
     "iopub.status.busy": "2022-12-05T13:39:22.373237Z",
     "iopub.status.idle": "2022-12-05T13:45:29.220643Z",
     "shell.execute_reply": "2022-12-05T13:45:29.219796Z"
    },
    "jupyter": {
     "outputs_hidden": true
    },
    "papermill": {
     "duration": 366.882894,
     "end_time": "2022-12-05T13:45:29.222668",
     "exception": false,
     "start_time": "2022-12-05T13:39:22.339774",
     "status": "completed"
    },
    "tags": []
   },
   "outputs": [
    {
     "name": "stdout",
     "output_type": "stream",
     "text": [
      "\n",
      "LR\n",
      "\n",
      ">lr 0.786 (0.042)\n",
      ">per 0.772 (0.058)\n",
      ">cart 0.782 (0.043)\n",
      ">rf 0.780 (0.045)\n",
      ">gbm 0.780 (0.044)\n",
      ">svm 0.786 (0.045)\n",
      "\n",
      "SVM\n",
      "\n",
      ">lr 0.786 (0.045)\n",
      ">per 0.779 (0.060)\n",
      ">cart 0.786 (0.045)\n",
      ">rf 0.786 (0.045)\n",
      ">gbm 0.786 (0.045)\n",
      ">svm 0.786 (0.045)\n",
      "\n",
      "RF\n",
      "\n",
      ">lr 0.797 (0.043)\n",
      ">per 0.777 (0.063)\n",
      ">cart 0.794 (0.047)\n",
      ">rf 0.796 (0.047)\n",
      ">gbm 0.800 (0.047)\n",
      ">svm 0.786 (0.045)\n",
      "\n",
      "KNN\n",
      "\n",
      ">lr 0.793 (0.042)\n",
      ">per 0.773 (0.064)\n",
      ">cart 0.779 (0.055)\n",
      ">rf 0.801 (0.047)\n",
      ">gbm 0.798 (0.043)\n",
      ">svm 0.747 (0.077)\n",
      "\n",
      "NB\n",
      "\n",
      ">lr 0.779 (0.045)\n",
      ">per 0.755 (0.078)\n",
      ">cart 0.765 (0.044)\n",
      ">rf 0.766 (0.048)\n",
      ">gbm 0.767 (0.047)\n",
      ">svm 0.786 (0.045)\n"
     ]
    }
   ],
   "source": [
    "# get a list of models to evaluate\n",
    "def get_models(modelc):\n",
    "    models = dict()\n",
    "    # lr\n",
    "    rfe = RFECV(estimator=LogisticRegression())\n",
    "    model = modelc\n",
    "    models['lr'] = Pipeline(steps=[('s',rfe),('m',model)])\n",
    "    # perceptron\n",
    "    rfe = RFECV(estimator=Perceptron())\n",
    "    model = modelc\n",
    "    models['per'] = Pipeline(steps=[('s',rfe),('m',model)])\n",
    "    # cart\n",
    "    rfe = RFECV(estimator=DecisionTreeClassifier())\n",
    "    model = modelc\n",
    "    models['cart'] = Pipeline(steps=[('s',rfe),('m',model)])\n",
    "    # rf\n",
    "    rfe = RFECV(estimator=RandomForestClassifier())\n",
    "    model = modelc\n",
    "    models['rf'] = Pipeline(steps=[('s',rfe),('m',model)])\n",
    "    # gbm\n",
    "    rfe = RFECV(estimator=GradientBoostingClassifier())\n",
    "    model = modelc\n",
    "    models['gbm'] = Pipeline(steps=[('s',rfe),('m',model)])\n",
    "    # svm\n",
    "    rfe = RFECV(estimator=SVC(kernel='linear'))\n",
    "    model = modelc\n",
    "    models['svm'] = Pipeline(steps=[('s',rfe),('m',model)])\n",
    "    return models\n",
    "\n",
    "# evaluate a give model using cross-validation\n",
    "def evaluate_model(model, X, y):\n",
    "    cv = RepeatedStratifiedKFold(n_splits=10, n_repeats=3, random_state=1)\n",
    "    scores = cross_val_score(model, X, y, scoring='accuracy', cv=cv, n_jobs=-1)\n",
    "    return scores\n",
    "\n",
    "models_dict = {'LR': LogisticRegression(random_state=0),\n",
    "               'SVM': SVC(kernel='linear', random_state=0),\n",
    "               'RF': RandomForestClassifier(),\n",
    "               'KNN': KNeighborsClassifier(),\n",
    "               'NB': GaussianNB()}\n",
    "\n",
    "# get the models to evaluate\n",
    "for i in models_dict.keys():\n",
    "    print('\\n'+i+'\\n')\n",
    "    models = get_models(models_dict[i])\n",
    "    # evaluate the models and store results\n",
    "    results, names = list(), list()\n",
    "    for name, model in models.items():\n",
    "        scores = evaluate_model(model, X_train, y_train)\n",
    "        results.append(scores)\n",
    "        names.append(name)\n",
    "        print('>%s %.3f (%.3f)' % (name, np.mean(scores), np.std(scores)))"
   ]
  },
  {
   "cell_type": "markdown",
   "id": "0fafd413",
   "metadata": {
    "papermill": {
     "duration": 0.035068,
     "end_time": "2022-12-05T13:45:29.289876",
     "exception": false,
     "start_time": "2022-12-05T13:45:29.254808",
     "status": "completed"
    },
    "tags": []
   },
   "source": [
    "O.K, let's continue with the two models with the highest accuracy score-\n",
    "- Random Forest + Random Forest as estimator in the RFECV (accuracy score = 0.8).\n",
    "- K-NN + Random Forest as estimator in the RFECV (accuracy score = 0.806).\n"
   ]
  },
  {
   "cell_type": "markdown",
   "id": "0315c2e5",
   "metadata": {
    "papermill": {
     "duration": 0.032093,
     "end_time": "2022-12-05T13:45:29.354576",
     "exception": false,
     "start_time": "2022-12-05T13:45:29.322483",
     "status": "completed"
    },
    "tags": []
   },
   "source": [
    "## **Random Forest**\n",
    "The feature that were selected:"
   ]
  },
  {
   "cell_type": "code",
   "execution_count": 46,
   "id": "7d9dea45",
   "metadata": {
    "execution": {
     "iopub.execute_input": "2022-12-05T13:45:29.424535Z",
     "iopub.status.busy": "2022-12-05T13:45:29.424172Z",
     "iopub.status.idle": "2022-12-05T13:45:33.873848Z",
     "shell.execute_reply": "2022-12-05T13:45:33.872306Z"
    },
    "papermill": {
     "duration": 4.488428,
     "end_time": "2022-12-05T13:45:33.876648",
     "exception": false,
     "start_time": "2022-12-05T13:45:29.388220",
     "status": "completed"
    },
    "tags": []
   },
   "outputs": [
    {
     "name": "stdout",
     "output_type": "stream",
     "text": [
      "Feature ranking:  [1 1 1 2 1]\n",
      "Selected best:  4\n",
      "Index(['Sex_cat', 'Pclass', 'SibSp', 'Age'], dtype='object')\n"
     ]
    }
   ],
   "source": [
    "rf_rfe = RFECV(estimator=RandomForestClassifier())\n",
    "rf_pipe = Pipeline(steps=[('s',rf_rfe),('m',RandomForestClassifier())])\n",
    "\n",
    "X_new = rf_rfe.fit_transform(X_train, y_train)\n",
    "print(\"Feature ranking: \", rf_rfe.ranking_)\n",
    "\n",
    "mask = rf_rfe.get_support()\n",
    "features = X.columns\n",
    "best_features = features[mask]\n",
    "\n",
    "# print(\"All features: \", x.shape[1])\n",
    "# print(features)\n",
    "\n",
    "print(\"Selected best: \", best_features.shape[0])\n",
    "print(features[mask])"
   ]
  },
  {
   "cell_type": "code",
   "execution_count": 47,
   "id": "c52676f5",
   "metadata": {
    "execution": {
     "iopub.execute_input": "2022-12-05T13:45:33.947935Z",
     "iopub.status.busy": "2022-12-05T13:45:33.947016Z",
     "iopub.status.idle": "2022-12-05T13:45:33.955922Z",
     "shell.execute_reply": "2022-12-05T13:45:33.954273Z"
    },
    "papermill": {
     "duration": 0.046965,
     "end_time": "2022-12-05T13:45:33.958642",
     "exception": false,
     "start_time": "2022-12-05T13:45:33.911677",
     "status": "completed"
    },
    "tags": []
   },
   "outputs": [
    {
     "data": {
      "text/plain": [
       "array([[-1.37207547,  0.81925059, -0.46445234,  0.49313053],\n",
       "       [ 0.72882288, -0.38096838, -0.46445234,  0.11861433],\n",
       "       [ 0.72882288, -0.38096838,  0.41270964,  0.11861433],\n",
       "       ...,\n",
       "       [ 0.72882288,  0.81925059, -0.46445234,  0.04371109],\n",
       "       [-1.37207547,  0.81925059,  0.41270964,  0.49313053],\n",
       "       [ 0.72882288, -0.38096838,  0.41270964,  2.29080831]])"
      ]
     },
     "execution_count": 47,
     "metadata": {},
     "output_type": "execute_result"
    }
   ],
   "source": [
    "X_train[:,mask]"
   ]
  },
  {
   "cell_type": "markdown",
   "id": "b482ca0d",
   "metadata": {
    "papermill": {
     "duration": 0.03452,
     "end_time": "2022-12-05T13:45:34.027277",
     "exception": false,
     "start_time": "2022-12-05T13:45:33.992757",
     "status": "completed"
    },
    "tags": []
   },
   "source": [
    "Evaluate the model"
   ]
  },
  {
   "cell_type": "code",
   "execution_count": 48,
   "id": "8c28a0e7",
   "metadata": {
    "execution": {
     "iopub.execute_input": "2022-12-05T13:45:34.098130Z",
     "iopub.status.busy": "2022-12-05T13:45:34.097026Z",
     "iopub.status.idle": "2022-12-05T13:47:18.953262Z",
     "shell.execute_reply": "2022-12-05T13:47:18.951402Z"
    },
    "papermill": {
     "duration": 104.925725,
     "end_time": "2022-12-05T13:47:18.987416",
     "exception": false,
     "start_time": "2022-12-05T13:45:34.061691",
     "status": "completed"
    },
    "tags": []
   },
   "outputs": [
    {
     "name": "stdout",
     "output_type": "stream",
     "text": [
      "Accuracy: 0.801 (0.047)\n"
     ]
    }
   ],
   "source": [
    "# evaluate model\n",
    "cv = RepeatedStratifiedKFold(n_splits=10, n_repeats=3, random_state=1)\n",
    "n_scores = cross_val_score(rf_pipe, X_new, y_train, scoring='accuracy', cv=cv, error_score='raise')\n",
    "# report performance\n",
    "print('Accuracy: %.3f (%.3f)' % (np.mean(n_scores), np.std(n_scores)))"
   ]
  },
  {
   "cell_type": "markdown",
   "id": "7bc52a77",
   "metadata": {
    "papermill": {
     "duration": 0.033176,
     "end_time": "2022-12-05T13:47:19.055692",
     "exception": false,
     "start_time": "2022-12-05T13:47:19.022516",
     "status": "completed"
    },
    "tags": []
   },
   "source": [
    "Find the best hyperparameters using GridSearchCV"
   ]
  },
  {
   "cell_type": "code",
   "execution_count": 49,
   "id": "0c6a7f47",
   "metadata": {
    "execution": {
     "iopub.execute_input": "2022-12-05T13:47:19.123864Z",
     "iopub.status.busy": "2022-12-05T13:47:19.123489Z",
     "iopub.status.idle": "2022-12-05T13:47:19.133049Z",
     "shell.execute_reply": "2022-12-05T13:47:19.131108Z"
    },
    "papermill": {
     "duration": 0.047698,
     "end_time": "2022-12-05T13:47:19.135932",
     "exception": false,
     "start_time": "2022-12-05T13:47:19.088234",
     "status": "completed"
    },
    "tags": []
   },
   "outputs": [],
   "source": [
    "# Criterion\n",
    "criterion = ['gini', 'entropy']\n",
    "# Number of trees in random forest\n",
    "n_estimators = [int(x) for x in np.linspace(start = 200, stop = 2000, num = 5)]\n",
    "# Number of features to consider at every split\n",
    "max_features = ['auto', 'sqrt']\n",
    "# Maximum number of levels in tree\n",
    "max_depth = [int(x) for x in np.linspace(10, 110, num = 11)]\n",
    "max_depth.append(None)\n",
    "# Minimum number of samples required to split a node\n",
    "min_samples_split = [2, 5, 10]\n",
    "# Minimum number of samples required at each leaf node\n",
    "min_samples_leaf = [1, 2, 4]\n",
    "# Method of selecting samples for training each tree\n",
    "bootstrap = [True, False]\n",
    "\n",
    "# Create the random grid\n",
    "random_grid = {'m__criterion': criterion,\n",
    "               'm__n_estimators': n_estimators,\n",
    "               'm__max_features': max_features,\n",
    "               'm__max_depth': max_depth,\n",
    "               'm__min_samples_split': min_samples_split,\n",
    "               'm__min_samples_leaf': min_samples_leaf,\n",
    "               'm__bootstrap': bootstrap}"
   ]
  },
  {
   "cell_type": "code",
   "execution_count": 50,
   "id": "df566f23",
   "metadata": {
    "collapsed": true,
    "execution": {
     "iopub.execute_input": "2022-12-05T13:47:19.205020Z",
     "iopub.status.busy": "2022-12-05T13:47:19.204560Z",
     "iopub.status.idle": "2022-12-05T13:47:19.214355Z",
     "shell.execute_reply": "2022-12-05T13:47:19.213256Z"
    },
    "jupyter": {
     "outputs_hidden": true
    },
    "papermill": {
     "duration": 0.045979,
     "end_time": "2022-12-05T13:47:19.216730",
     "exception": false,
     "start_time": "2022-12-05T13:47:19.170751",
     "status": "completed"
    },
    "tags": []
   },
   "outputs": [
    {
     "data": {
      "text/plain": [
       "'#run very slow\\nrf_grid_search = GridSearchCV(rf_pipe,\\n                           param_grid = random_grid,\\n                           scoring = \\'accuracy\\',\\n                           cv = cv)\\nrf_grid_search.fit(X_new, y_train)\\nbest_accuracy = rf_grid_search.best_score_\\nbest_parameters = rf_grid_search.best_params_\\nprint(\"Best Accuracy: {:.2f} %\".format(best_accuracy*100))\\nprint(\"Best Parameters:\", best_parameters)'"
      ]
     },
     "execution_count": 50,
     "metadata": {},
     "output_type": "execute_result"
    }
   ],
   "source": [
    "'''#run very slow\n",
    "rf_grid_search = GridSearchCV(rf_pipe,\n",
    "                           param_grid = random_grid,\n",
    "                           scoring = 'accuracy',\n",
    "                           cv = cv)\n",
    "rf_grid_search.fit(X_new, y_train)\n",
    "best_accuracy = rf_grid_search.best_score_\n",
    "best_parameters = rf_grid_search.best_params_\n",
    "print(\"Best Accuracy: {:.2f} %\".format(best_accuracy*100))\n",
    "print(\"Best Parameters:\", best_parameters)'''"
   ]
  },
  {
   "cell_type": "code",
   "execution_count": 51,
   "id": "c2738dd2",
   "metadata": {
    "collapsed": true,
    "execution": {
     "iopub.execute_input": "2022-12-05T13:47:19.285749Z",
     "iopub.status.busy": "2022-12-05T13:47:19.285322Z",
     "iopub.status.idle": "2022-12-05T13:47:22.366299Z",
     "shell.execute_reply": "2022-12-05T13:47:22.365070Z"
    },
    "jupyter": {
     "outputs_hidden": true
    },
    "papermill": {
     "duration": 3.118928,
     "end_time": "2022-12-05T13:47:22.369561",
     "exception": false,
     "start_time": "2022-12-05T13:47:19.250633",
     "status": "completed"
    },
    "tags": []
   },
   "outputs": [
    {
     "name": "stdout",
     "output_type": "stream",
     "text": [
      "[[97 13]\n",
      " [21 48]]\n"
     ]
    },
    {
     "data": {
      "text/plain": [
       "0.8100558659217877"
      ]
     },
     "execution_count": 51,
     "metadata": {},
     "output_type": "execute_result"
    }
   ],
   "source": [
    "rf_clf = RandomForestClassifier(n_estimators=2000, criterion='gini')\n",
    "rf_clf.fit(X_new, y_train)\n",
    "y_pred = rf_clf.predict(X_test[:,mask])\n",
    "cm = confusion_matrix(y_test, y_pred)\n",
    "print(cm)\n",
    "accuracy_score(y_test, y_pred)"
   ]
  },
  {
   "cell_type": "code",
   "execution_count": 52,
   "id": "1388da68",
   "metadata": {
    "execution": {
     "iopub.execute_input": "2022-12-05T13:47:22.438643Z",
     "iopub.status.busy": "2022-12-05T13:47:22.438225Z",
     "iopub.status.idle": "2022-12-05T13:47:22.446405Z",
     "shell.execute_reply": "2022-12-05T13:47:22.445409Z"
    },
    "papermill": {
     "duration": 0.045827,
     "end_time": "2022-12-05T13:47:22.449339",
     "exception": false,
     "start_time": "2022-12-05T13:47:22.403512",
     "status": "completed"
    },
    "tags": []
   },
   "outputs": [
    {
     "data": {
      "text/plain": [
       "array([[-1.37207547,  0.81925059, -0.46445234,  0.49313053],\n",
       "       [ 0.72882288, -0.38096838, -0.46445234,  0.11861433],\n",
       "       [ 0.72882288, -0.38096838,  0.41270964,  0.11861433],\n",
       "       ...,\n",
       "       [ 0.72882288,  0.81925059, -0.46445234,  0.04371109],\n",
       "       [-1.37207547,  0.81925059,  0.41270964,  0.49313053],\n",
       "       [ 0.72882288, -0.38096838,  0.41270964,  2.29080831]])"
      ]
     },
     "execution_count": 52,
     "metadata": {},
     "output_type": "execute_result"
    }
   ],
   "source": [
    "X_train[:,[0,1,2,4]]"
   ]
  },
  {
   "cell_type": "code",
   "execution_count": 53,
   "id": "9f011e3d",
   "metadata": {
    "execution": {
     "iopub.execute_input": "2022-12-05T13:47:22.519463Z",
     "iopub.status.busy": "2022-12-05T13:47:22.517867Z",
     "iopub.status.idle": "2022-12-05T13:47:22.525825Z",
     "shell.execute_reply": "2022-12-05T13:47:22.524694Z"
    },
    "papermill": {
     "duration": 0.044671,
     "end_time": "2022-12-05T13:47:22.527621",
     "exception": false,
     "start_time": "2022-12-05T13:47:22.482950",
     "status": "completed"
    },
    "tags": []
   },
   "outputs": [
    {
     "data": {
      "text/plain": [
       "array([[-1.37207547,  0.81925059, -0.46445234,  0.49313053],\n",
       "       [ 0.72882288, -0.38096838, -0.46445234,  0.11861433],\n",
       "       [ 0.72882288, -0.38096838,  0.41270964,  0.11861433],\n",
       "       ...,\n",
       "       [ 0.72882288,  0.81925059, -0.46445234,  0.04371109],\n",
       "       [-1.37207547,  0.81925059,  0.41270964,  0.49313053],\n",
       "       [ 0.72882288, -0.38096838,  0.41270964,  2.29080831]])"
      ]
     },
     "execution_count": 53,
     "metadata": {},
     "output_type": "execute_result"
    }
   ],
   "source": [
    "X_new"
   ]
  },
  {
   "cell_type": "markdown",
   "id": "70c5a3de",
   "metadata": {
    "papermill": {
     "duration": 0.033569,
     "end_time": "2022-12-05T13:47:22.596557",
     "exception": false,
     "start_time": "2022-12-05T13:47:22.562988",
     "status": "completed"
    },
    "tags": []
   },
   "source": [
    "Predict the test set"
   ]
  },
  {
   "cell_type": "code",
   "execution_count": 54,
   "id": "4645b549",
   "metadata": {
    "execution": {
     "iopub.execute_input": "2022-12-05T13:47:22.665577Z",
     "iopub.status.busy": "2022-12-05T13:47:22.665124Z",
     "iopub.status.idle": "2022-12-05T13:47:22.669827Z",
     "shell.execute_reply": "2022-12-05T13:47:22.669233Z"
    },
    "papermill": {
     "duration": 0.040975,
     "end_time": "2022-12-05T13:47:22.671711",
     "exception": false,
     "start_time": "2022-12-05T13:47:22.630736",
     "status": "completed"
    },
    "tags": []
   },
   "outputs": [
    {
     "data": {
      "text/plain": [
       "'\\n# The next step:\\nrf_pred = rf_pipe.predict(X_test)\\ncm = confusion_matrix(y_test, rf_pred)\\nprint(cm)\\naccuracy_score(y_test, rf_pred)\\n'"
      ]
     },
     "execution_count": 54,
     "metadata": {},
     "output_type": "execute_result"
    }
   ],
   "source": [
    "'''\n",
    "# The next step:\n",
    "rf_pred = rf_pipe.predict(X_test)\n",
    "cm = confusion_matrix(y_test, rf_pred)\n",
    "print(cm)\n",
    "accuracy_score(y_test, rf_pred)\n",
    "'''"
   ]
  },
  {
   "cell_type": "markdown",
   "id": "d61e1a3e",
   "metadata": {
    "papermill": {
     "duration": 0.033233,
     "end_time": "2022-12-05T13:47:22.737957",
     "exception": false,
     "start_time": "2022-12-05T13:47:22.704724",
     "status": "completed"
    },
    "tags": []
   },
   "source": [
    "## **K-NN**"
   ]
  },
  {
   "cell_type": "code",
   "execution_count": 55,
   "id": "23295e1e",
   "metadata": {
    "execution": {
     "iopub.execute_input": "2022-12-05T13:47:22.807961Z",
     "iopub.status.busy": "2022-12-05T13:47:22.806795Z",
     "iopub.status.idle": "2022-12-05T13:47:27.043520Z",
     "shell.execute_reply": "2022-12-05T13:47:27.042015Z"
    },
    "papermill": {
     "duration": 4.27489,
     "end_time": "2022-12-05T13:47:27.046522",
     "exception": false,
     "start_time": "2022-12-05T13:47:22.771632",
     "status": "completed"
    },
    "tags": []
   },
   "outputs": [
    {
     "name": "stdout",
     "output_type": "stream",
     "text": [
      "Feature ranking:  [1 1 1 2 1]\n",
      "Selected best:  5\n",
      "Index(['Sex_cat', 'Pclass', 'SibSp', 'Parch', 'Age'], dtype='object')\n"
     ]
    }
   ],
   "source": [
    "knn_rfe = RFECV(estimator=RandomForestClassifier())\n",
    "knn_pipe = Pipeline(steps=[('s',knn_rfe),('m',KNeighborsClassifier())])\n",
    "\n",
    "X_new_knn = knn_rfe.fit_transform(X_train, y_train)\n",
    "print(\"Feature ranking: \", rf_rfe.ranking_)\n",
    "\n",
    "mask = knn_rfe.get_support()\n",
    "features = X.columns\n",
    "best_features = features[mask]\n",
    "\n",
    "# print(\"All features: \", x.shape[1])\n",
    "# print(features)\n",
    "\n",
    "print(\"Selected best: \", best_features.shape[0])\n",
    "print(features[mask])"
   ]
  },
  {
   "cell_type": "code",
   "execution_count": 56,
   "id": "b67955f3",
   "metadata": {
    "execution": {
     "iopub.execute_input": "2022-12-05T13:47:27.117298Z",
     "iopub.status.busy": "2022-12-05T13:47:27.116458Z",
     "iopub.status.idle": "2022-12-05T13:49:35.138818Z",
     "shell.execute_reply": "2022-12-05T13:49:35.137245Z"
    },
    "papermill": {
     "duration": 128.092721,
     "end_time": "2022-12-05T13:49:35.174340",
     "exception": false,
     "start_time": "2022-12-05T13:47:27.081619",
     "status": "completed"
    },
    "tags": []
   },
   "outputs": [
    {
     "name": "stdout",
     "output_type": "stream",
     "text": [
      "Accuracy: 0.807 (0.040)\n"
     ]
    }
   ],
   "source": [
    "cv = RepeatedStratifiedKFold(n_splits=10, n_repeats=3, random_state=1)\n",
    "n_scores = cross_val_score(knn_pipe, X_new_knn, y_train, scoring='accuracy', cv=cv, error_score='raise')\n",
    "# report performance\n",
    "print('Accuracy: %.3f (%.3f)' % (np.mean(n_scores), np.std(n_scores)))"
   ]
  },
  {
   "cell_type": "code",
   "execution_count": 57,
   "id": "9220f246",
   "metadata": {
    "execution": {
     "iopub.execute_input": "2022-12-05T13:49:35.245538Z",
     "iopub.status.busy": "2022-12-05T13:49:35.245085Z",
     "iopub.status.idle": "2022-12-05T13:49:35.251461Z",
     "shell.execute_reply": "2022-12-05T13:49:35.250355Z"
    },
    "papermill": {
     "duration": 0.044904,
     "end_time": "2022-12-05T13:49:35.253488",
     "exception": false,
     "start_time": "2022-12-05T13:49:35.208584",
     "status": "completed"
    },
    "tags": []
   },
   "outputs": [],
   "source": [
    "# Number of neighbors\n",
    "n_neighbors = [21]\n",
    "# Weight function used in prediction\n",
    "weights = ['uniform']\n",
    "# Algorithm used to compute the nearest neighbors\n",
    "algorithm = ['auto', 'ball_tree', 'kd_tree', 'brute']\n",
    "# Euclidean distance\n",
    "metric = ['minkowski']\n",
    "p = [2]\n",
    "\n",
    "# Create the knn hyperparameters grid\n",
    "knn_grid = {'m__n_neighbors': n_neighbors,\n",
    "               'm__weights': weights,\n",
    "               'm__algorithm': algorithm,\n",
    "               'm__metric': metric,\n",
    "               'm__p': p}"
   ]
  },
  {
   "cell_type": "code",
   "execution_count": 58,
   "id": "0b592ca7",
   "metadata": {
    "collapsed": true,
    "execution": {
     "iopub.execute_input": "2022-12-05T13:49:35.326159Z",
     "iopub.status.busy": "2022-12-05T13:49:35.325568Z",
     "iopub.status.idle": "2022-12-05T13:49:35.333065Z",
     "shell.execute_reply": "2022-12-05T13:49:35.331439Z"
    },
    "jupyter": {
     "outputs_hidden": true
    },
    "papermill": {
     "duration": 0.046233,
     "end_time": "2022-12-05T13:49:35.336093",
     "exception": false,
     "start_time": "2022-12-05T13:49:35.289860",
     "status": "completed"
    },
    "tags": []
   },
   "outputs": [
    {
     "data": {
      "text/plain": [
       "' # run very slow\\nknn_grid_search = GridSearchCV(knn_pipe,\\n                           param_grid = knn_grid,\\n                           scoring = \\'accuracy\\',\\n                           cv = cv)\\nrf_grid_search.fit(X_new_knn, y_train)\\nbest_accuracy = knn_grid_search.best_score_\\nbest_parameters = knn_grid_search.best_params_\\nprint(\"Best Accuracy: {:.2f} %\".format(best_accuracy*100))\\nprint(\"Best Parameters:\", best_parameters)\\n'"
      ]
     },
     "execution_count": 58,
     "metadata": {},
     "output_type": "execute_result"
    }
   ],
   "source": [
    "''' # run very slow\n",
    "knn_grid_search = GridSearchCV(knn_pipe,\n",
    "                           param_grid = knn_grid,\n",
    "                           scoring = 'accuracy',\n",
    "                           cv = cv)\n",
    "rf_grid_search.fit(X_new_knn, y_train)\n",
    "best_accuracy = knn_grid_search.best_score_\n",
    "best_parameters = knn_grid_search.best_params_\n",
    "print(\"Best Accuracy: {:.2f} %\".format(best_accuracy*100))\n",
    "print(\"Best Parameters:\", best_parameters)\n",
    "'''"
   ]
  },
  {
   "cell_type": "code",
   "execution_count": 59,
   "id": "d4a86605",
   "metadata": {
    "execution": {
     "iopub.execute_input": "2022-12-05T13:49:35.405770Z",
     "iopub.status.busy": "2022-12-05T13:49:35.405369Z",
     "iopub.status.idle": "2022-12-05T13:49:35.412640Z",
     "shell.execute_reply": "2022-12-05T13:49:35.411252Z"
    },
    "papermill": {
     "duration": 0.045248,
     "end_time": "2022-12-05T13:49:35.415321",
     "exception": false,
     "start_time": "2022-12-05T13:49:35.370073",
     "status": "completed"
    },
    "tags": []
   },
   "outputs": [
    {
     "data": {
      "text/plain": [
       "'knn_pred = knn_pipe.predict(X_test[mask])\\ncm = confusion_matrix(y_test, knn_pred)\\nprint(cm)\\naccuracy_score(y_test, knn_pred)'"
      ]
     },
     "execution_count": 59,
     "metadata": {},
     "output_type": "execute_result"
    }
   ],
   "source": [
    "'''knn_pred = knn_pipe.predict(X_test[mask])\n",
    "cm = confusion_matrix(y_test, knn_pred)\n",
    "print(cm)\n",
    "accuracy_score(y_test, knn_pred)'''"
   ]
  },
  {
   "cell_type": "code",
   "execution_count": null,
   "id": "38c64cff",
   "metadata": {
    "papermill": {
     "duration": 0.033764,
     "end_time": "2022-12-05T13:49:35.483832",
     "exception": false,
     "start_time": "2022-12-05T13:49:35.450068",
     "status": "completed"
    },
    "tags": []
   },
   "outputs": [],
   "source": []
  },
  {
   "cell_type": "markdown",
   "id": "4d748912",
   "metadata": {
    "papermill": {
     "duration": 0.033197,
     "end_time": "2022-12-05T13:49:35.551300",
     "exception": false,
     "start_time": "2022-12-05T13:49:35.518103",
     "status": "completed"
    },
    "tags": []
   },
   "source": [
    "## **Model Selection**"
   ]
  },
  {
   "cell_type": "markdown",
   "id": "6062453e",
   "metadata": {
    "papermill": {
     "duration": 0.035037,
     "end_time": "2022-12-05T13:49:35.686719",
     "exception": false,
     "start_time": "2022-12-05T13:49:35.651682",
     "status": "completed"
    },
    "tags": []
   },
   "source": [
    "To find the best model with the best parameters, let's use cross validation and grid search."
   ]
  },
  {
   "cell_type": "code",
   "execution_count": 60,
   "id": "0f5ebe1b",
   "metadata": {
    "execution": {
     "iopub.execute_input": "2022-12-05T13:49:35.755828Z",
     "iopub.status.busy": "2022-12-05T13:49:35.755327Z",
     "iopub.status.idle": "2022-12-05T13:49:35.759601Z",
     "shell.execute_reply": "2022-12-05T13:49:35.758296Z"
    },
    "papermill": {
     "duration": 0.041453,
     "end_time": "2022-12-05T13:49:35.761851",
     "exception": false,
     "start_time": "2022-12-05T13:49:35.720398",
     "status": "completed"
    },
    "tags": []
   },
   "outputs": [],
   "source": [
    "models_accuracy_scores = {}\n",
    "# best_params = {}"
   ]
  },
  {
   "cell_type": "markdown",
   "id": "16950d12",
   "metadata": {
    "papermill": {
     "duration": 0.033284,
     "end_time": "2022-12-05T13:49:35.830045",
     "exception": false,
     "start_time": "2022-12-05T13:49:35.796761",
     "status": "completed"
    },
    "tags": []
   },
   "source": [
    "## **Logistic Regression**"
   ]
  },
  {
   "cell_type": "markdown",
   "id": "118afa59",
   "metadata": {
    "papermill": {
     "duration": 0.033932,
     "end_time": "2022-12-05T13:49:35.897091",
     "exception": false,
     "start_time": "2022-12-05T13:49:35.863159",
     "status": "completed"
    },
    "tags": []
   },
   "source": [
    "Training the Logistic Regression model on the Training set"
   ]
  },
  {
   "cell_type": "code",
   "execution_count": 61,
   "id": "3b3acccd",
   "metadata": {
    "execution": {
     "iopub.execute_input": "2022-12-05T13:49:35.965444Z",
     "iopub.status.busy": "2022-12-05T13:49:35.965070Z",
     "iopub.status.idle": "2022-12-05T13:49:35.979694Z",
     "shell.execute_reply": "2022-12-05T13:49:35.977338Z"
    },
    "papermill": {
     "duration": 0.052181,
     "end_time": "2022-12-05T13:49:35.982536",
     "exception": false,
     "start_time": "2022-12-05T13:49:35.930355",
     "status": "completed"
    },
    "tags": []
   },
   "outputs": [
    {
     "data": {
      "text/plain": [
       "LogisticRegression(random_state=0)"
      ]
     },
     "execution_count": 61,
     "metadata": {},
     "output_type": "execute_result"
    }
   ],
   "source": [
    "logistic_classifier = LogisticRegression(random_state=0)\n",
    "logistic_classifier.fit(X_train, y_train)"
   ]
  },
  {
   "cell_type": "markdown",
   "id": "011e0527",
   "metadata": {
    "papermill": {
     "duration": 0.033055,
     "end_time": "2022-12-05T13:49:36.049354",
     "exception": false,
     "start_time": "2022-12-05T13:49:36.016299",
     "status": "completed"
    },
    "tags": []
   },
   "source": [
    "Making the Confusion Matrix"
   ]
  },
  {
   "cell_type": "code",
   "execution_count": 62,
   "id": "2ee2cceb",
   "metadata": {
    "execution": {
     "iopub.execute_input": "2022-12-05T13:49:36.120980Z",
     "iopub.status.busy": "2022-12-05T13:49:36.120559Z",
     "iopub.status.idle": "2022-12-05T13:49:36.132271Z",
     "shell.execute_reply": "2022-12-05T13:49:36.131058Z"
    },
    "papermill": {
     "duration": 0.050793,
     "end_time": "2022-12-05T13:49:36.134851",
     "exception": false,
     "start_time": "2022-12-05T13:49:36.084058",
     "status": "completed"
    },
    "tags": []
   },
   "outputs": [
    {
     "name": "stdout",
     "output_type": "stream",
     "text": [
      "[[93 17]\n",
      " [17 52]]\n"
     ]
    },
    {
     "data": {
      "text/plain": [
       "0.8100558659217877"
      ]
     },
     "execution_count": 62,
     "metadata": {},
     "output_type": "execute_result"
    }
   ],
   "source": [
    "y_pred = logistic_classifier.predict(X_test)\n",
    "cm = confusion_matrix(y_test, y_pred)\n",
    "print(cm)\n",
    "accuracy_score(y_test, y_pred)"
   ]
  },
  {
   "cell_type": "markdown",
   "id": "a4856917",
   "metadata": {
    "papermill": {
     "duration": 0.034376,
     "end_time": "2022-12-05T13:49:36.203764",
     "exception": false,
     "start_time": "2022-12-05T13:49:36.169388",
     "status": "completed"
    },
    "tags": []
   },
   "source": [
    "Feature Selection"
   ]
  },
  {
   "cell_type": "code",
   "execution_count": 63,
   "id": "67f21fdf",
   "metadata": {
    "execution": {
     "iopub.execute_input": "2022-12-05T13:49:36.274926Z",
     "iopub.status.busy": "2022-12-05T13:49:36.274581Z",
     "iopub.status.idle": "2022-12-05T13:49:37.242468Z",
     "shell.execute_reply": "2022-12-05T13:49:37.241113Z"
    },
    "papermill": {
     "duration": 1.006999,
     "end_time": "2022-12-05T13:49:37.245678",
     "exception": false,
     "start_time": "2022-12-05T13:49:36.238679",
     "status": "completed"
    },
    "tags": []
   },
   "outputs": [
    {
     "name": "stdout",
     "output_type": "stream",
     "text": [
      "Accuracy: 0.785 (0.041)\n"
     ]
    }
   ],
   "source": [
    "from sklearn.tree import DecisionTreeClassifier\n",
    "# create pipeline\n",
    "rfe = RFECV(estimator=LogisticRegression())\n",
    "model = LogisticRegression()\n",
    "pipeline = Pipeline(steps=[('s',rfe),('m',model)])\n",
    "# evaluate model\n",
    "cv = RepeatedStratifiedKFold(n_splits=10, n_repeats=1, random_state=1)\n",
    "n_scores = cross_val_score(pipeline, X_train, y_train, scoring='accuracy', cv=cv, error_score='raise')\n",
    "# report performance\n",
    "print('Accuracy: %.3f (%.3f)' % (np.mean(n_scores), np.std(n_scores)))"
   ]
  },
  {
   "cell_type": "code",
   "execution_count": 64,
   "id": "6aa10df5",
   "metadata": {
    "execution": {
     "iopub.execute_input": "2022-12-05T13:49:37.316986Z",
     "iopub.status.busy": "2022-12-05T13:49:37.316304Z",
     "iopub.status.idle": "2022-12-05T13:49:37.422179Z",
     "shell.execute_reply": "2022-12-05T13:49:37.420984Z"
    },
    "papermill": {
     "duration": 0.14446,
     "end_time": "2022-12-05T13:49:37.424992",
     "exception": false,
     "start_time": "2022-12-05T13:49:37.280532",
     "status": "completed"
    },
    "tags": []
   },
   "outputs": [
    {
     "name": "stdout",
     "output_type": "stream",
     "text": [
      "All features:  5\n",
      "Index(['Sex_cat', 'Pclass', 'SibSp', 'Parch', 'Age'], dtype='object')\n",
      "Selected best:  3\n",
      "Index(['Sex_cat', 'Pclass', 'Age'], dtype='object')\n"
     ]
    }
   ],
   "source": [
    "rfe.fit(X_train, y_train)\n",
    "mask = rfe.get_support()\n",
    "features = X.columns\n",
    "best_features = features[mask]\n",
    " \n",
    "print(\"All features: \", X.shape[1])\n",
    "print(features)\n",
    "\n",
    "print(\"Selected best: \", best_features.shape[0])\n",
    "print(features[mask])"
   ]
  },
  {
   "cell_type": "code",
   "execution_count": 65,
   "id": "357f1dd2",
   "metadata": {
    "execution": {
     "iopub.execute_input": "2022-12-05T13:49:37.499726Z",
     "iopub.status.busy": "2022-12-05T13:49:37.499363Z",
     "iopub.status.idle": "2022-12-05T13:49:37.504766Z",
     "shell.execute_reply": "2022-12-05T13:49:37.503141Z"
    },
    "papermill": {
     "duration": 0.047285,
     "end_time": "2022-12-05T13:49:37.507950",
     "exception": false,
     "start_time": "2022-12-05T13:49:37.460665",
     "status": "completed"
    },
    "tags": []
   },
   "outputs": [],
   "source": [
    "# model.fit(X_new, y_train)\n",
    "# pip_pred = pipeline.predict(X_test)\n",
    "# cm = confusion_matrix(y_test, pip_pred)\n",
    "# print(cm)\n",
    "# accuracy_score(y_test, pip_pred)"
   ]
  },
  {
   "cell_type": "markdown",
   "id": "afbde939",
   "metadata": {
    "papermill": {
     "duration": 0.034059,
     "end_time": "2022-12-05T13:49:37.578813",
     "exception": false,
     "start_time": "2022-12-05T13:49:37.544754",
     "status": "completed"
    },
    "tags": []
   },
   "source": [
    "Applying k-Fold Cross Validation"
   ]
  },
  {
   "cell_type": "code",
   "execution_count": 66,
   "id": "594e9a32",
   "metadata": {
    "execution": {
     "iopub.execute_input": "2022-12-05T13:49:37.649704Z",
     "iopub.status.busy": "2022-12-05T13:49:37.649021Z",
     "iopub.status.idle": "2022-12-05T13:49:37.695850Z",
     "shell.execute_reply": "2022-12-05T13:49:37.693865Z"
    },
    "papermill": {
     "duration": 0.085555,
     "end_time": "2022-12-05T13:49:37.698078",
     "exception": false,
     "start_time": "2022-12-05T13:49:37.612523",
     "status": "completed"
    },
    "tags": []
   },
   "outputs": [
    {
     "name": "stdout",
     "output_type": "stream",
     "text": [
      "Accuracy: 78.09 %\n",
      "Standard Deviation: 3.96 %\n"
     ]
    }
   ],
   "source": [
    "accuracies = cross_val_score(estimator = logistic_classifier, X = X_train, y = y_train, cv = 10)\n",
    "print(\"Accuracy: {:.2f} %\".format(accuracies.mean()*100))\n",
    "print(\"Standard Deviation: {:.2f} %\".format(accuracies.std()*100))"
   ]
  },
  {
   "cell_type": "markdown",
   "id": "133697bf",
   "metadata": {
    "papermill": {
     "duration": 0.034028,
     "end_time": "2022-12-05T13:49:37.765680",
     "exception": false,
     "start_time": "2022-12-05T13:49:37.731652",
     "status": "completed"
    },
    "tags": []
   },
   "source": [
    "Applying Grid Search to find the best model and the best parameters"
   ]
  },
  {
   "cell_type": "code",
   "execution_count": 67,
   "id": "05963fb8",
   "metadata": {
    "execution": {
     "iopub.execute_input": "2022-12-05T13:49:37.838347Z",
     "iopub.status.busy": "2022-12-05T13:49:37.837971Z",
     "iopub.status.idle": "2022-12-05T13:49:40.635547Z",
     "shell.execute_reply": "2022-12-05T13:49:40.634431Z"
    },
    "papermill": {
     "duration": 2.837098,
     "end_time": "2022-12-05T13:49:40.638001",
     "exception": false,
     "start_time": "2022-12-05T13:49:37.800903",
     "status": "completed"
    },
    "tags": []
   },
   "outputs": [
    {
     "name": "stdout",
     "output_type": "stream",
     "text": [
      "Best Accuracy: 79.92 %\n",
      "Best Parameters: {'C': 0.01, 'penalty': 'l2', 'solver': 'newton-cg'}\n"
     ]
    }
   ],
   "source": [
    "parameters = [{'C': [0.01, 0.1, 0.15, 0.25, 0.5, 0.75, 1], 'penalty': ['l2'], 'solver': ['newton-cg', 'lbfgs', 'sag', 'saga']},\n",
    "              {'penalty': ['none'], 'solver': ['newton-cg', 'lbfgs', 'sag', 'saga']},\n",
    "              {'C': [0.01, 0.1, 0.15,  0.25, 0.5, 0.75, 1], 'penalty': ['l2', 'l1'], 'solver': ['liblinear', 'saga']},\n",
    "              {'C': [0.01, 0.1, 0.15, 0.25, 0.5, 0.75, 1], 'penalty': ['elasticnet'], 'solver': ['saga'], 'l1_ratio': [0.25, 0.5, 0.75]}]\n",
    "\n",
    "grid_search = GridSearchCV(estimator = logistic_classifier,\n",
    "                           param_grid = parameters,\n",
    "                           scoring = 'accuracy',\n",
    "                           cv = 10)\n",
    "grid_search.fit(X_train, y_train)\n",
    "best_accuracy = grid_search.best_score_\n",
    "best_parameters = grid_search.best_params_\n",
    "print(\"Best Accuracy: {:.2f} %\".format(best_accuracy*100))\n",
    "print(\"Best Parameters:\", best_parameters)"
   ]
  },
  {
   "cell_type": "code",
   "execution_count": 68,
   "id": "df90014e",
   "metadata": {
    "execution": {
     "iopub.execute_input": "2022-12-05T13:49:40.722549Z",
     "iopub.status.busy": "2022-12-05T13:49:40.721733Z",
     "iopub.status.idle": "2022-12-05T13:49:40.731240Z",
     "shell.execute_reply": "2022-12-05T13:49:40.730039Z"
    },
    "papermill": {
     "duration": 0.053798,
     "end_time": "2022-12-05T13:49:40.733462",
     "exception": false,
     "start_time": "2022-12-05T13:49:40.679664",
     "status": "completed"
    },
    "tags": []
   },
   "outputs": [
    {
     "data": {
      "text/plain": [
       "0.7932960893854749"
      ]
     },
     "execution_count": 68,
     "metadata": {},
     "output_type": "execute_result"
    }
   ],
   "source": [
    "grid_pred = grid_search.predict(X_test)\n",
    "accuracy_score(y_test, grid_pred)"
   ]
  },
  {
   "cell_type": "code",
   "execution_count": 69,
   "id": "23eb0822",
   "metadata": {
    "execution": {
     "iopub.execute_input": "2022-12-05T13:49:40.810121Z",
     "iopub.status.busy": "2022-12-05T13:49:40.809779Z",
     "iopub.status.idle": "2022-12-05T13:49:40.817997Z",
     "shell.execute_reply": "2022-12-05T13:49:40.817231Z"
    },
    "papermill": {
     "duration": 0.045946,
     "end_time": "2022-12-05T13:49:40.820015",
     "exception": false,
     "start_time": "2022-12-05T13:49:40.774069",
     "status": "completed"
    },
    "tags": []
   },
   "outputs": [
    {
     "data": {
      "text/plain": [
       "GridSearchCV(cv=10, estimator=LogisticRegression(random_state=0),\n",
       "             param_grid=[{'C': [0.01, 0.1, 0.15, 0.25, 0.5, 0.75, 1],\n",
       "                          'penalty': ['l2'],\n",
       "                          'solver': ['newton-cg', 'lbfgs', 'sag', 'saga']},\n",
       "                         {'penalty': ['none'],\n",
       "                          'solver': ['newton-cg', 'lbfgs', 'sag', 'saga']},\n",
       "                         {'C': [0.01, 0.1, 0.15, 0.25, 0.5, 0.75, 1],\n",
       "                          'penalty': ['l2', 'l1'],\n",
       "                          'solver': ['liblinear', 'saga']},\n",
       "                         {'C': [0.01, 0.1, 0.15, 0.25, 0.5, 0.75, 1],\n",
       "                          'l1_ratio': [0.25, 0.5, 0.75],\n",
       "                          'penalty': ['elasticnet'], 'solver': ['saga']}],\n",
       "             scoring='accuracy')"
      ]
     },
     "execution_count": 69,
     "metadata": {},
     "output_type": "execute_result"
    }
   ],
   "source": [
    "grid_search"
   ]
  },
  {
   "cell_type": "code",
   "execution_count": 70,
   "id": "3351eace",
   "metadata": {
    "execution": {
     "iopub.execute_input": "2022-12-05T13:49:40.896656Z",
     "iopub.status.busy": "2022-12-05T13:49:40.895378Z",
     "iopub.status.idle": "2022-12-05T13:49:40.900617Z",
     "shell.execute_reply": "2022-12-05T13:49:40.899473Z"
    },
    "papermill": {
     "duration": 0.047738,
     "end_time": "2022-12-05T13:49:40.903023",
     "exception": false,
     "start_time": "2022-12-05T13:49:40.855285",
     "status": "completed"
    },
    "tags": []
   },
   "outputs": [],
   "source": [
    "# models_accuracy_scores[\"Logistic Regression\"] = [logistic_score, logistic_std]"
   ]
  },
  {
   "cell_type": "markdown",
   "id": "bf13ae53",
   "metadata": {
    "papermill": {
     "duration": 0.034919,
     "end_time": "2022-12-05T13:49:40.975330",
     "exception": false,
     "start_time": "2022-12-05T13:49:40.940411",
     "status": "completed"
    },
    "tags": []
   },
   "source": [
    "## **K-NN**"
   ]
  },
  {
   "cell_type": "code",
   "execution_count": 71,
   "id": "d318240f",
   "metadata": {
    "execution": {
     "iopub.execute_input": "2022-12-05T13:49:41.049287Z",
     "iopub.status.busy": "2022-12-05T13:49:41.048550Z",
     "iopub.status.idle": "2022-12-05T13:49:41.055274Z",
     "shell.execute_reply": "2022-12-05T13:49:41.054255Z"
    },
    "papermill": {
     "duration": 0.046182,
     "end_time": "2022-12-05T13:49:41.057207",
     "exception": false,
     "start_time": "2022-12-05T13:49:41.011025",
     "status": "completed"
    },
    "tags": []
   },
   "outputs": [
    {
     "data": {
      "text/plain": [
       "\"# search for an optimal value of k for K-NN\\nfrom sklearn.neighbors import KNeighborsClassifier\\nk_range = range(1,31)\\nk_scores = []\\nfor k in k_range:\\n    knn = KNeighborsClassifier(n_neighbors=k, metric='minkowski', p=2)\\n    scores = cross_val_score(knn, X_new_knn, y_train, cv = cv, scoring = 'accuracy')\\n    k_scores.append(scores.mean())\\nprint(k_scores)\""
      ]
     },
     "execution_count": 71,
     "metadata": {},
     "output_type": "execute_result"
    }
   ],
   "source": [
    "'''# search for an optimal value of k for K-NN\n",
    "from sklearn.neighbors import KNeighborsClassifier\n",
    "k_range = range(1,31)\n",
    "k_scores = []\n",
    "for k in k_range:\n",
    "    knn = KNeighborsClassifier(n_neighbors=k, metric='minkowski', p=2)\n",
    "    scores = cross_val_score(knn, X_new_knn, y_train, cv = cv, scoring = 'accuracy')\n",
    "    k_scores.append(scores.mean())\n",
    "print(k_scores)'''"
   ]
  },
  {
   "cell_type": "code",
   "execution_count": 72,
   "id": "41b8c437",
   "metadata": {
    "execution": {
     "iopub.execute_input": "2022-12-05T13:49:41.132529Z",
     "iopub.status.busy": "2022-12-05T13:49:41.131240Z",
     "iopub.status.idle": "2022-12-05T13:49:41.139784Z",
     "shell.execute_reply": "2022-12-05T13:49:41.138055Z"
    },
    "papermill": {
     "duration": 0.049416,
     "end_time": "2022-12-05T13:49:41.142319",
     "exception": false,
     "start_time": "2022-12-05T13:49:41.092903",
     "status": "completed"
    },
    "tags": []
   },
   "outputs": [
    {
     "data": {
      "text/plain": [
       "\"# plot the value of k for K-NN (x axis) versus the cross-validated accuracy (y axis)\\nplt.plot(k_range, k_scores)\\nplt.xlabel('Value of k')\\nplt.ylabel('Cross-Validated Accuracy')\""
      ]
     },
     "execution_count": 72,
     "metadata": {},
     "output_type": "execute_result"
    }
   ],
   "source": [
    "'''# plot the value of k for K-NN (x axis) versus the cross-validated accuracy (y axis)\n",
    "plt.plot(k_range, k_scores)\n",
    "plt.xlabel('Value of k')\n",
    "plt.ylabel('Cross-Validated Accuracy')'''"
   ]
  },
  {
   "cell_type": "code",
   "execution_count": 73,
   "id": "16d8b735",
   "metadata": {
    "execution": {
     "iopub.execute_input": "2022-12-05T13:49:41.222516Z",
     "iopub.status.busy": "2022-12-05T13:49:41.222053Z",
     "iopub.status.idle": "2022-12-05T13:49:41.229235Z",
     "shell.execute_reply": "2022-12-05T13:49:41.227942Z"
    },
    "papermill": {
     "duration": 0.05333,
     "end_time": "2022-12-05T13:49:41.231750",
     "exception": false,
     "start_time": "2022-12-05T13:49:41.178420",
     "status": "completed"
    },
    "tags": []
   },
   "outputs": [
    {
     "data": {
      "text/plain": [
       "'k_scores.index(max(k_scores))'"
      ]
     },
     "execution_count": 73,
     "metadata": {},
     "output_type": "execute_result"
    }
   ],
   "source": [
    "'''k_scores.index(max(k_scores))'''"
   ]
  },
  {
   "cell_type": "markdown",
   "id": "c6c34548",
   "metadata": {
    "papermill": {
     "duration": 0.036068,
     "end_time": "2022-12-05T13:49:41.305304",
     "exception": false,
     "start_time": "2022-12-05T13:49:41.269236",
     "status": "completed"
    },
    "tags": []
   },
   "source": [
    "The optimal value of k is 27 with 0.786729 accuracy score"
   ]
  },
  {
   "cell_type": "code",
   "execution_count": 74,
   "id": "a2773a99",
   "metadata": {
    "execution": {
     "iopub.execute_input": "2022-12-05T13:49:41.379351Z",
     "iopub.status.busy": "2022-12-05T13:49:41.378673Z",
     "iopub.status.idle": "2022-12-05T13:49:41.383883Z",
     "shell.execute_reply": "2022-12-05T13:49:41.383234Z"
    },
    "papermill": {
     "duration": 0.044558,
     "end_time": "2022-12-05T13:49:41.386626",
     "exception": false,
     "start_time": "2022-12-05T13:49:41.342068",
     "status": "completed"
    },
    "tags": []
   },
   "outputs": [
    {
     "data": {
      "text/plain": [
       "'knn_classifier = KNeighborsClassifier(n_neighbors=26, metric=\\'minkowski\\', p=2)\\nknn_accuracies = cross_val_score(knn_classifier, X, y, cv = 10, scoring = \\'accuracy\\')\\nknn_score = knn_accuracies.mean()\\nknn_std = knn_accuracies.std()\\nprint(knn_score)\\nmodels_accuracy_scores[\"K-NN\"] = [knn_score, knn_std]'"
      ]
     },
     "execution_count": 74,
     "metadata": {},
     "output_type": "execute_result"
    }
   ],
   "source": [
    "'''knn_classifier = KNeighborsClassifier(n_neighbors=26, metric='minkowski', p=2)\n",
    "knn_accuracies = cross_val_score(knn_classifier, X, y, cv = 10, scoring = 'accuracy')\n",
    "knn_score = knn_accuracies.mean()\n",
    "knn_std = knn_accuracies.std()\n",
    "print(knn_score)\n",
    "models_accuracy_scores[\"K-NN\"] = [knn_score, knn_std]'''"
   ]
  },
  {
   "cell_type": "markdown",
   "id": "8adad7cd",
   "metadata": {
    "papermill": {
     "duration": 0.035624,
     "end_time": "2022-12-05T13:49:41.458089",
     "exception": false,
     "start_time": "2022-12-05T13:49:41.422465",
     "status": "completed"
    },
    "tags": []
   },
   "source": [
    "## **SVM**"
   ]
  },
  {
   "cell_type": "code",
   "execution_count": 75,
   "id": "b707e4bb",
   "metadata": {
    "execution": {
     "iopub.execute_input": "2022-12-05T13:49:41.533258Z",
     "iopub.status.busy": "2022-12-05T13:49:41.532869Z",
     "iopub.status.idle": "2022-12-05T13:49:42.053309Z",
     "shell.execute_reply": "2022-12-05T13:49:42.052500Z"
    },
    "papermill": {
     "duration": 0.561908,
     "end_time": "2022-12-05T13:49:42.055838",
     "exception": false,
     "start_time": "2022-12-05T13:49:41.493930",
     "status": "completed"
    },
    "tags": []
   },
   "outputs": [],
   "source": [
    "from sklearn.svm import SVC\n",
    "svm_classifier = SVC(kernel='linear', random_state=0)\n",
    "svm_accuracies = cross_val_score(svm_classifier, X, y, cv = 10, scoring = 'accuracy')\n",
    "svm_score = svm_accuracies.mean()\n",
    "svm_std = svm_accuracies.std()\n",
    "models_accuracy_scores[\"SVM\"] = [svm_score, svm_std]"
   ]
  },
  {
   "cell_type": "code",
   "execution_count": 76,
   "id": "88a43bb8",
   "metadata": {
    "execution": {
     "iopub.execute_input": "2022-12-05T13:49:42.130461Z",
     "iopub.status.busy": "2022-12-05T13:49:42.129550Z",
     "iopub.status.idle": "2022-12-05T13:49:42.135231Z",
     "shell.execute_reply": "2022-12-05T13:49:42.134311Z"
    },
    "papermill": {
     "duration": 0.046444,
     "end_time": "2022-12-05T13:49:42.137863",
     "exception": false,
     "start_time": "2022-12-05T13:49:42.091419",
     "status": "completed"
    },
    "tags": []
   },
   "outputs": [
    {
     "data": {
      "text/plain": [
       "{'SVM': [0.786729088639201, 0.028599350013463757]}"
      ]
     },
     "execution_count": 76,
     "metadata": {},
     "output_type": "execute_result"
    }
   ],
   "source": [
    "models_accuracy_scores"
   ]
  },
  {
   "cell_type": "markdown",
   "id": "8b619642",
   "metadata": {
    "papermill": {
     "duration": 0.034942,
     "end_time": "2022-12-05T13:49:42.209353",
     "exception": false,
     "start_time": "2022-12-05T13:49:42.174411",
     "status": "completed"
    },
    "tags": []
   },
   "source": [
    "## **Naive Bayes**"
   ]
  },
  {
   "cell_type": "code",
   "execution_count": 77,
   "id": "b9a6f645",
   "metadata": {
    "execution": {
     "iopub.execute_input": "2022-12-05T13:49:42.284531Z",
     "iopub.status.busy": "2022-12-05T13:49:42.284117Z",
     "iopub.status.idle": "2022-12-05T13:49:42.331830Z",
     "shell.execute_reply": "2022-12-05T13:49:42.330976Z"
    },
    "papermill": {
     "duration": 0.089031,
     "end_time": "2022-12-05T13:49:42.334321",
     "exception": false,
     "start_time": "2022-12-05T13:49:42.245290",
     "status": "completed"
    },
    "tags": []
   },
   "outputs": [],
   "source": [
    "from sklearn.naive_bayes import GaussianNB\n",
    "nb_classifier = GaussianNB()\n",
    "nb_accuracies = cross_val_score(nb_classifier, X, y, cv = 10, scoring = 'accuracy')\n",
    "nb_score = nb_accuracies.mean()\n",
    "nb_std = nb_accuracies.std()\n",
    "models_accuracy_scores[\"Naive Bayes\"] = [nb_score, nb_std]"
   ]
  },
  {
   "cell_type": "code",
   "execution_count": 78,
   "id": "f3c0b3d9",
   "metadata": {
    "execution": {
     "iopub.execute_input": "2022-12-05T13:49:42.409166Z",
     "iopub.status.busy": "2022-12-05T13:49:42.408020Z",
     "iopub.status.idle": "2022-12-05T13:49:42.414136Z",
     "shell.execute_reply": "2022-12-05T13:49:42.413560Z"
    },
    "papermill": {
     "duration": 0.045248,
     "end_time": "2022-12-05T13:49:42.416169",
     "exception": false,
     "start_time": "2022-12-05T13:49:42.370921",
     "status": "completed"
    },
    "tags": []
   },
   "outputs": [
    {
     "data": {
      "text/plain": [
       "0.762059925093633"
      ]
     },
     "execution_count": 78,
     "metadata": {},
     "output_type": "execute_result"
    }
   ],
   "source": [
    "nb_score"
   ]
  },
  {
   "cell_type": "markdown",
   "id": "d0280e16",
   "metadata": {
    "papermill": {
     "duration": 0.0361,
     "end_time": "2022-12-05T13:49:42.487727",
     "exception": false,
     "start_time": "2022-12-05T13:49:42.451627",
     "status": "completed"
    },
    "tags": []
   },
   "source": [
    "## **Random Forest**"
   ]
  },
  {
   "cell_type": "code",
   "execution_count": 79,
   "id": "24fa68b5",
   "metadata": {
    "execution": {
     "iopub.execute_input": "2022-12-05T13:49:42.565053Z",
     "iopub.status.busy": "2022-12-05T13:49:42.564530Z",
     "iopub.status.idle": "2022-12-05T13:49:42.791224Z",
     "shell.execute_reply": "2022-12-05T13:49:42.789706Z"
    },
    "papermill": {
     "duration": 0.268276,
     "end_time": "2022-12-05T13:49:42.793398",
     "exception": false,
     "start_time": "2022-12-05T13:49:42.525122",
     "status": "completed"
    },
    "tags": []
   },
   "outputs": [
    {
     "data": {
      "text/plain": [
       "0.8002996254681648"
      ]
     },
     "execution_count": 79,
     "metadata": {},
     "output_type": "execute_result"
    }
   ],
   "source": [
    "from sklearn.ensemble import RandomForestClassifier\n",
    "rf_classifier = RandomForestClassifier(n_estimators=10, criterion='entropy', random_state=0)\n",
    "rf_accuracies = cross_val_score(rf_classifier, X, y, cv = 10, scoring = 'accuracy')\n",
    "rf_score = rf_accuracies.mean()\n",
    "rf_std = rf_accuracies.std()\n",
    "models_accuracy_scores[\"Random forest\"] = [rf_score, rf_std]\n",
    "rf_score"
   ]
  },
  {
   "cell_type": "code",
   "execution_count": 80,
   "id": "73fbf9e7",
   "metadata": {
    "execution": {
     "iopub.execute_input": "2022-12-05T13:49:42.866207Z",
     "iopub.status.busy": "2022-12-05T13:49:42.865775Z",
     "iopub.status.idle": "2022-12-05T13:49:42.871753Z",
     "shell.execute_reply": "2022-12-05T13:49:42.870971Z"
    },
    "papermill": {
     "duration": 0.045082,
     "end_time": "2022-12-05T13:49:42.874146",
     "exception": false,
     "start_time": "2022-12-05T13:49:42.829064",
     "status": "completed"
    },
    "tags": []
   },
   "outputs": [
    {
     "data": {
      "text/plain": [
       "{'SVM': [0.786729088639201, 0.028599350013463757],\n",
       " 'Naive Bayes': [0.762059925093633, 0.028809289673386286],\n",
       " 'Random forest': [0.8002996254681648, 0.0386551692533217]}"
      ]
     },
     "execution_count": 80,
     "metadata": {},
     "output_type": "execute_result"
    }
   ],
   "source": [
    "models_accuracy_scores"
   ]
  },
  {
   "cell_type": "code",
   "execution_count": 81,
   "id": "bde23dcd",
   "metadata": {
    "execution": {
     "iopub.execute_input": "2022-12-05T13:49:42.949816Z",
     "iopub.status.busy": "2022-12-05T13:49:42.948572Z",
     "iopub.status.idle": "2022-12-05T13:49:42.955526Z",
     "shell.execute_reply": "2022-12-05T13:49:42.953871Z"
    },
    "papermill": {
     "duration": 0.04813,
     "end_time": "2022-12-05T13:49:42.958272",
     "exception": false,
     "start_time": "2022-12-05T13:49:42.910142",
     "status": "completed"
    },
    "tags": []
   },
   "outputs": [],
   "source": [
    "# from sklearn.ensemble import RandomForestClassifier\n",
    "\n",
    "# y = train_data[\"Survived\"]\n",
    "\n",
    "# features = [\"Pclass\", \"Sex\", \"SibSp\", \"Parch\"]\n",
    "# X = pd.get_dummies(train_data[features])\n",
    "# X_test = pd.get_dummies(test_data[features])\n",
    "\n",
    "# model = RandomForestClassifier(n_estimators=100, max_depth=5, random_state=1)\n",
    "# model.fit(X, y)\n",
    "# predictions = model.predict(X_test)\n",
    "\n",
    "# output = pd.DataFrame({'PassengerId': test_data.PassengerId, 'Survived': predictions})\n",
    "# output.to_csv('submission.csv', index=False)\n",
    "# print(\"Your submission was successfully saved!\")"
   ]
  },
  {
   "cell_type": "code",
   "execution_count": 82,
   "id": "71eb7def",
   "metadata": {
    "execution": {
     "iopub.execute_input": "2022-12-05T13:49:43.035144Z",
     "iopub.status.busy": "2022-12-05T13:49:43.034679Z",
     "iopub.status.idle": "2022-12-05T13:49:43.039575Z",
     "shell.execute_reply": "2022-12-05T13:49:43.038225Z"
    },
    "papermill": {
     "duration": 0.04758,
     "end_time": "2022-12-05T13:49:43.042843",
     "exception": false,
     "start_time": "2022-12-05T13:49:42.995263",
     "status": "completed"
    },
    "tags": []
   },
   "outputs": [],
   "source": [
    "# output.head()"
   ]
  }
 ],
 "metadata": {
  "kernelspec": {
   "display_name": "Python 3",
   "language": "python",
   "name": "python3"
  },
  "language_info": {
   "codemirror_mode": {
    "name": "ipython",
    "version": 3
   },
   "file_extension": ".py",
   "mimetype": "text/x-python",
   "name": "python",
   "nbconvert_exporter": "python",
   "pygments_lexer": "ipython3",
   "version": "3.7.12"
  },
  "papermill": {
   "default_parameters": {},
   "duration": 646.557858,
   "end_time": "2022-12-05T13:49:45.703614",
   "environment_variables": {},
   "exception": null,
   "input_path": "__notebook__.ipynb",
   "output_path": "__notebook__.ipynb",
   "parameters": {},
   "start_time": "2022-12-05T13:38:59.145756",
   "version": "2.3.4"
  }
 },
 "nbformat": 4,
 "nbformat_minor": 5
}
