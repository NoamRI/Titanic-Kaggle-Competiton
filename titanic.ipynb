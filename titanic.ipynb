{
 "cells": [
  {
   "cell_type": "code",
   "execution_count": 1,
   "id": "003c1fa1",
   "metadata": {
    "_cell_guid": "b1076dfc-b9ad-4769-8c92-a6c4dae69d19",
    "_uuid": "8f2839f25d086af736a60e9eeb907d3b93b6e0e5",
    "execution": {
     "iopub.execute_input": "2022-12-12T19:29:14.707425Z",
     "iopub.status.busy": "2022-12-12T19:29:14.706858Z",
     "iopub.status.idle": "2022-12-12T19:29:14.721887Z",
     "shell.execute_reply": "2022-12-12T19:29:14.720884Z"
    },
    "papermill": {
     "duration": 0.051826,
     "end_time": "2022-12-12T19:29:14.724732",
     "exception": false,
     "start_time": "2022-12-12T19:29:14.672906",
     "status": "completed"
    },
    "tags": []
   },
   "outputs": [
    {
     "name": "stdout",
     "output_type": "stream",
     "text": [
      "/kaggle/input/titanic/train.csv\n",
      "/kaggle/input/titanic/test.csv\n",
      "/kaggle/input/titanic/gender_submission.csv\n"
     ]
    }
   ],
   "source": [
    "# This Python 3 environment comes with many helpful analytics libraries installed\n",
    "# It is defined by the kaggle/python Docker image: https://github.com/kaggle/docker-python\n",
    "# For example, here's several helpful packages to load\n",
    "\n",
    "import numpy as np # linear algebra\n",
    "import pandas as pd # data processing, CSV file I/O (e.g. pd.read_csv)\n",
    "\n",
    "# Input data files are available in the read-only \"../input/\" directory\n",
    "# For example, running this (by clicking run or pressing Shift+Enter) will list all files under the input directory\n",
    "\n",
    "import os\n",
    "for dirname, _, filenames in os.walk('/kaggle/input'):\n",
    "    for filename in filenames:\n",
    "        print(os.path.join(dirname, filename))\n",
    "\n",
    "# You can write up to 20GB to the current directory (/kaggle/working/) that gets preserved as output when you create a version using \"Save & Run All\" \n",
    "# You can also write temporary files to /kaggle/temp/, but they won't be saved outside of the current session"
   ]
  },
  {
   "cell_type": "markdown",
   "id": "c7da311f",
   "metadata": {
    "papermill": {
     "duration": 0.028658,
     "end_time": "2022-12-12T19:29:14.782952",
     "exception": false,
     "start_time": "2022-12-12T19:29:14.754294",
     "status": "completed"
    },
    "tags": []
   },
   "source": [
    "On April 15, 1912, during her maiden voyage, the widely considered “unsinkable” RMS Titanic sank after colliding with an iceberg. Unfortunately, there weren’t enough lifeboats for everyone onboard, resulting in the death of 1502 out of 2224 passengers and crew.\n",
    "\n",
    "While there was some element of luck involved in surviving, it seems some groups of people were more likely to survive than others.\n",
    "\n",
    "In this notebook I would like the answer the question-\n",
    "“what sorts of people were more likely to survive?”\n",
    "using some classification models that predicts which passengers survived the Titanic shipwreck."
   ]
  },
  {
   "cell_type": "code",
   "execution_count": 2,
   "id": "cf8833d3",
   "metadata": {
    "execution": {
     "iopub.execute_input": "2022-12-12T19:29:14.842700Z",
     "iopub.status.busy": "2022-12-12T19:29:14.841868Z",
     "iopub.status.idle": "2022-12-12T19:29:16.176220Z",
     "shell.execute_reply": "2022-12-12T19:29:16.174667Z"
    },
    "papermill": {
     "duration": 1.367882,
     "end_time": "2022-12-12T19:29:16.179278",
     "exception": false,
     "start_time": "2022-12-12T19:29:14.811396",
     "status": "completed"
    },
    "tags": []
   },
   "outputs": [],
   "source": [
    "import matplotlib.pyplot as plt\n",
    "import seaborn as sns\n",
    "from sklearn.preprocessing import OneHotEncoder, LabelEncoder"
   ]
  },
  {
   "cell_type": "markdown",
   "id": "aa1e5f51",
   "metadata": {
    "papermill": {
     "duration": 0.028069,
     "end_time": "2022-12-12T19:29:16.235742",
     "exception": false,
     "start_time": "2022-12-12T19:29:16.207673",
     "status": "completed"
    },
    "tags": []
   },
   "source": [
    "# **Importing the datasets**"
   ]
  },
  {
   "cell_type": "markdown",
   "id": "f756b743",
   "metadata": {
    "papermill": {
     "duration": 0.027564,
     "end_time": "2022-12-12T19:29:16.291485",
     "exception": false,
     "start_time": "2022-12-12T19:29:16.263921",
     "status": "completed"
    },
    "tags": []
   },
   "source": [
    "## **Train data**"
   ]
  },
  {
   "cell_type": "code",
   "execution_count": 3,
   "id": "50fe2ad9",
   "metadata": {
    "execution": {
     "iopub.execute_input": "2022-12-12T19:29:16.349315Z",
     "iopub.status.busy": "2022-12-12T19:29:16.348835Z",
     "iopub.status.idle": "2022-12-12T19:29:16.392743Z",
     "shell.execute_reply": "2022-12-12T19:29:16.391399Z"
    },
    "papermill": {
     "duration": 0.075971,
     "end_time": "2022-12-12T19:29:16.395334",
     "exception": false,
     "start_time": "2022-12-12T19:29:16.319363",
     "status": "completed"
    },
    "tags": []
   },
   "outputs": [
    {
     "data": {
      "text/html": [
       "<div>\n",
       "<style scoped>\n",
       "    .dataframe tbody tr th:only-of-type {\n",
       "        vertical-align: middle;\n",
       "    }\n",
       "\n",
       "    .dataframe tbody tr th {\n",
       "        vertical-align: top;\n",
       "    }\n",
       "\n",
       "    .dataframe thead th {\n",
       "        text-align: right;\n",
       "    }\n",
       "</style>\n",
       "<table border=\"1\" class=\"dataframe\">\n",
       "  <thead>\n",
       "    <tr style=\"text-align: right;\">\n",
       "      <th></th>\n",
       "      <th>PassengerId</th>\n",
       "      <th>Survived</th>\n",
       "      <th>Pclass</th>\n",
       "      <th>Name</th>\n",
       "      <th>Sex</th>\n",
       "      <th>Age</th>\n",
       "      <th>SibSp</th>\n",
       "      <th>Parch</th>\n",
       "      <th>Ticket</th>\n",
       "      <th>Fare</th>\n",
       "      <th>Cabin</th>\n",
       "      <th>Embarked</th>\n",
       "    </tr>\n",
       "  </thead>\n",
       "  <tbody>\n",
       "    <tr>\n",
       "      <th>0</th>\n",
       "      <td>1</td>\n",
       "      <td>0</td>\n",
       "      <td>3</td>\n",
       "      <td>Braund, Mr. Owen Harris</td>\n",
       "      <td>male</td>\n",
       "      <td>22.0</td>\n",
       "      <td>1</td>\n",
       "      <td>0</td>\n",
       "      <td>A/5 21171</td>\n",
       "      <td>7.2500</td>\n",
       "      <td>NaN</td>\n",
       "      <td>S</td>\n",
       "    </tr>\n",
       "    <tr>\n",
       "      <th>1</th>\n",
       "      <td>2</td>\n",
       "      <td>1</td>\n",
       "      <td>1</td>\n",
       "      <td>Cumings, Mrs. John Bradley (Florence Briggs Th...</td>\n",
       "      <td>female</td>\n",
       "      <td>38.0</td>\n",
       "      <td>1</td>\n",
       "      <td>0</td>\n",
       "      <td>PC 17599</td>\n",
       "      <td>71.2833</td>\n",
       "      <td>C85</td>\n",
       "      <td>C</td>\n",
       "    </tr>\n",
       "    <tr>\n",
       "      <th>2</th>\n",
       "      <td>3</td>\n",
       "      <td>1</td>\n",
       "      <td>3</td>\n",
       "      <td>Heikkinen, Miss. Laina</td>\n",
       "      <td>female</td>\n",
       "      <td>26.0</td>\n",
       "      <td>0</td>\n",
       "      <td>0</td>\n",
       "      <td>STON/O2. 3101282</td>\n",
       "      <td>7.9250</td>\n",
       "      <td>NaN</td>\n",
       "      <td>S</td>\n",
       "    </tr>\n",
       "    <tr>\n",
       "      <th>3</th>\n",
       "      <td>4</td>\n",
       "      <td>1</td>\n",
       "      <td>1</td>\n",
       "      <td>Futrelle, Mrs. Jacques Heath (Lily May Peel)</td>\n",
       "      <td>female</td>\n",
       "      <td>35.0</td>\n",
       "      <td>1</td>\n",
       "      <td>0</td>\n",
       "      <td>113803</td>\n",
       "      <td>53.1000</td>\n",
       "      <td>C123</td>\n",
       "      <td>S</td>\n",
       "    </tr>\n",
       "    <tr>\n",
       "      <th>4</th>\n",
       "      <td>5</td>\n",
       "      <td>0</td>\n",
       "      <td>3</td>\n",
       "      <td>Allen, Mr. William Henry</td>\n",
       "      <td>male</td>\n",
       "      <td>35.0</td>\n",
       "      <td>0</td>\n",
       "      <td>0</td>\n",
       "      <td>373450</td>\n",
       "      <td>8.0500</td>\n",
       "      <td>NaN</td>\n",
       "      <td>S</td>\n",
       "    </tr>\n",
       "  </tbody>\n",
       "</table>\n",
       "</div>"
      ],
      "text/plain": [
       "   PassengerId  Survived  Pclass  \\\n",
       "0            1         0       3   \n",
       "1            2         1       1   \n",
       "2            3         1       3   \n",
       "3            4         1       1   \n",
       "4            5         0       3   \n",
       "\n",
       "                                                Name     Sex   Age  SibSp  \\\n",
       "0                            Braund, Mr. Owen Harris    male  22.0      1   \n",
       "1  Cumings, Mrs. John Bradley (Florence Briggs Th...  female  38.0      1   \n",
       "2                             Heikkinen, Miss. Laina  female  26.0      0   \n",
       "3       Futrelle, Mrs. Jacques Heath (Lily May Peel)  female  35.0      1   \n",
       "4                           Allen, Mr. William Henry    male  35.0      0   \n",
       "\n",
       "   Parch            Ticket     Fare Cabin Embarked  \n",
       "0      0         A/5 21171   7.2500   NaN        S  \n",
       "1      0          PC 17599  71.2833   C85        C  \n",
       "2      0  STON/O2. 3101282   7.9250   NaN        S  \n",
       "3      0            113803  53.1000  C123        S  \n",
       "4      0            373450   8.0500   NaN        S  "
      ]
     },
     "execution_count": 3,
     "metadata": {},
     "output_type": "execute_result"
    }
   ],
   "source": [
    "train_data = pd.read_csv('/kaggle/input/titanic/train.csv')\n",
    "train_data.head()"
   ]
  },
  {
   "cell_type": "markdown",
   "id": "f8f44bfa",
   "metadata": {
    "papermill": {
     "duration": 0.031054,
     "end_time": "2022-12-12T19:29:16.454529",
     "exception": false,
     "start_time": "2022-12-12T19:29:16.423475",
     "status": "completed"
    },
    "tags": []
   },
   "source": [
    "The train data contain information about 891 passengers (rows) and 12 columns."
   ]
  },
  {
   "cell_type": "code",
   "execution_count": 4,
   "id": "fbb4ad3d",
   "metadata": {
    "execution": {
     "iopub.execute_input": "2022-12-12T19:29:16.513901Z",
     "iopub.status.busy": "2022-12-12T19:29:16.513370Z",
     "iopub.status.idle": "2022-12-12T19:29:16.520763Z",
     "shell.execute_reply": "2022-12-12T19:29:16.519971Z"
    },
    "papermill": {
     "duration": 0.039705,
     "end_time": "2022-12-12T19:29:16.522782",
     "exception": false,
     "start_time": "2022-12-12T19:29:16.483077",
     "status": "completed"
    },
    "tags": []
   },
   "outputs": [
    {
     "data": {
      "text/plain": [
       "(891, 12)"
      ]
     },
     "execution_count": 4,
     "metadata": {},
     "output_type": "execute_result"
    }
   ],
   "source": [
    "train_data.shape"
   ]
  },
  {
   "cell_type": "markdown",
   "id": "fc8b4efe",
   "metadata": {
    "papermill": {
     "duration": 0.027948,
     "end_time": "2022-12-12T19:29:16.579558",
     "exception": false,
     "start_time": "2022-12-12T19:29:16.551610",
     "status": "completed"
    },
    "tags": []
   },
   "source": [
    "## **Test data**"
   ]
  },
  {
   "cell_type": "code",
   "execution_count": 5,
   "id": "52bb71ae",
   "metadata": {
    "execution": {
     "iopub.execute_input": "2022-12-12T19:29:16.639197Z",
     "iopub.status.busy": "2022-12-12T19:29:16.638380Z",
     "iopub.status.idle": "2022-12-12T19:29:16.663279Z",
     "shell.execute_reply": "2022-12-12T19:29:16.662216Z"
    },
    "papermill": {
     "duration": 0.057518,
     "end_time": "2022-12-12T19:29:16.665471",
     "exception": false,
     "start_time": "2022-12-12T19:29:16.607953",
     "status": "completed"
    },
    "tags": []
   },
   "outputs": [
    {
     "data": {
      "text/html": [
       "<div>\n",
       "<style scoped>\n",
       "    .dataframe tbody tr th:only-of-type {\n",
       "        vertical-align: middle;\n",
       "    }\n",
       "\n",
       "    .dataframe tbody tr th {\n",
       "        vertical-align: top;\n",
       "    }\n",
       "\n",
       "    .dataframe thead th {\n",
       "        text-align: right;\n",
       "    }\n",
       "</style>\n",
       "<table border=\"1\" class=\"dataframe\">\n",
       "  <thead>\n",
       "    <tr style=\"text-align: right;\">\n",
       "      <th></th>\n",
       "      <th>PassengerId</th>\n",
       "      <th>Pclass</th>\n",
       "      <th>Name</th>\n",
       "      <th>Sex</th>\n",
       "      <th>Age</th>\n",
       "      <th>SibSp</th>\n",
       "      <th>Parch</th>\n",
       "      <th>Ticket</th>\n",
       "      <th>Fare</th>\n",
       "      <th>Cabin</th>\n",
       "      <th>Embarked</th>\n",
       "    </tr>\n",
       "  </thead>\n",
       "  <tbody>\n",
       "    <tr>\n",
       "      <th>0</th>\n",
       "      <td>892</td>\n",
       "      <td>3</td>\n",
       "      <td>Kelly, Mr. James</td>\n",
       "      <td>male</td>\n",
       "      <td>34.5</td>\n",
       "      <td>0</td>\n",
       "      <td>0</td>\n",
       "      <td>330911</td>\n",
       "      <td>7.8292</td>\n",
       "      <td>NaN</td>\n",
       "      <td>Q</td>\n",
       "    </tr>\n",
       "    <tr>\n",
       "      <th>1</th>\n",
       "      <td>893</td>\n",
       "      <td>3</td>\n",
       "      <td>Wilkes, Mrs. James (Ellen Needs)</td>\n",
       "      <td>female</td>\n",
       "      <td>47.0</td>\n",
       "      <td>1</td>\n",
       "      <td>0</td>\n",
       "      <td>363272</td>\n",
       "      <td>7.0000</td>\n",
       "      <td>NaN</td>\n",
       "      <td>S</td>\n",
       "    </tr>\n",
       "    <tr>\n",
       "      <th>2</th>\n",
       "      <td>894</td>\n",
       "      <td>2</td>\n",
       "      <td>Myles, Mr. Thomas Francis</td>\n",
       "      <td>male</td>\n",
       "      <td>62.0</td>\n",
       "      <td>0</td>\n",
       "      <td>0</td>\n",
       "      <td>240276</td>\n",
       "      <td>9.6875</td>\n",
       "      <td>NaN</td>\n",
       "      <td>Q</td>\n",
       "    </tr>\n",
       "    <tr>\n",
       "      <th>3</th>\n",
       "      <td>895</td>\n",
       "      <td>3</td>\n",
       "      <td>Wirz, Mr. Albert</td>\n",
       "      <td>male</td>\n",
       "      <td>27.0</td>\n",
       "      <td>0</td>\n",
       "      <td>0</td>\n",
       "      <td>315154</td>\n",
       "      <td>8.6625</td>\n",
       "      <td>NaN</td>\n",
       "      <td>S</td>\n",
       "    </tr>\n",
       "    <tr>\n",
       "      <th>4</th>\n",
       "      <td>896</td>\n",
       "      <td>3</td>\n",
       "      <td>Hirvonen, Mrs. Alexander (Helga E Lindqvist)</td>\n",
       "      <td>female</td>\n",
       "      <td>22.0</td>\n",
       "      <td>1</td>\n",
       "      <td>1</td>\n",
       "      <td>3101298</td>\n",
       "      <td>12.2875</td>\n",
       "      <td>NaN</td>\n",
       "      <td>S</td>\n",
       "    </tr>\n",
       "  </tbody>\n",
       "</table>\n",
       "</div>"
      ],
      "text/plain": [
       "   PassengerId  Pclass                                          Name     Sex  \\\n",
       "0          892       3                              Kelly, Mr. James    male   \n",
       "1          893       3              Wilkes, Mrs. James (Ellen Needs)  female   \n",
       "2          894       2                     Myles, Mr. Thomas Francis    male   \n",
       "3          895       3                              Wirz, Mr. Albert    male   \n",
       "4          896       3  Hirvonen, Mrs. Alexander (Helga E Lindqvist)  female   \n",
       "\n",
       "    Age  SibSp  Parch   Ticket     Fare Cabin Embarked  \n",
       "0  34.5      0      0   330911   7.8292   NaN        Q  \n",
       "1  47.0      1      0   363272   7.0000   NaN        S  \n",
       "2  62.0      0      0   240276   9.6875   NaN        Q  \n",
       "3  27.0      0      0   315154   8.6625   NaN        S  \n",
       "4  22.0      1      1  3101298  12.2875   NaN        S  "
      ]
     },
     "execution_count": 5,
     "metadata": {},
     "output_type": "execute_result"
    }
   ],
   "source": [
    "test_data = pd.read_csv('/kaggle/input/titanic/test.csv')\n",
    "test_data.head()"
   ]
  },
  {
   "cell_type": "markdown",
   "id": "d04ca2a6",
   "metadata": {
    "papermill": {
     "duration": 0.028323,
     "end_time": "2022-12-12T19:29:16.722533",
     "exception": false,
     "start_time": "2022-12-12T19:29:16.694210",
     "status": "completed"
    },
    "tags": []
   },
   "source": [
    "The test data contain information about 418 passengers (rows) and 11 columns."
   ]
  },
  {
   "cell_type": "code",
   "execution_count": 6,
   "id": "0c6f6ddc",
   "metadata": {
    "execution": {
     "iopub.execute_input": "2022-12-12T19:29:16.783725Z",
     "iopub.status.busy": "2022-12-12T19:29:16.782913Z",
     "iopub.status.idle": "2022-12-12T19:29:16.789688Z",
     "shell.execute_reply": "2022-12-12T19:29:16.788536Z"
    },
    "papermill": {
     "duration": 0.03988,
     "end_time": "2022-12-12T19:29:16.792437",
     "exception": false,
     "start_time": "2022-12-12T19:29:16.752557",
     "status": "completed"
    },
    "tags": []
   },
   "outputs": [
    {
     "data": {
      "text/plain": [
       "(418, 11)"
      ]
     },
     "execution_count": 6,
     "metadata": {},
     "output_type": "execute_result"
    }
   ],
   "source": [
    "test_data.shape"
   ]
  },
  {
   "cell_type": "markdown",
   "id": "b15ac56e",
   "metadata": {
    "papermill": {
     "duration": 0.028379,
     "end_time": "2022-12-12T19:29:16.849659",
     "exception": false,
     "start_time": "2022-12-12T19:29:16.821280",
     "status": "completed"
    },
    "tags": []
   },
   "source": [
    "# **Features Engineering & Data Analysis**"
   ]
  },
  {
   "cell_type": "markdown",
   "id": "d6d14628",
   "metadata": {
    "papermill": {
     "duration": 0.028639,
     "end_time": "2022-12-12T19:29:16.908018",
     "exception": false,
     "start_time": "2022-12-12T19:29:16.879379",
     "status": "completed"
    },
    "tags": []
   },
   "source": [
    "#### For Features Engineering let's combine the train set and the test set."
   ]
  },
  {
   "cell_type": "code",
   "execution_count": 7,
   "id": "4195d633",
   "metadata": {
    "execution": {
     "iopub.execute_input": "2022-12-12T19:29:16.968877Z",
     "iopub.status.busy": "2022-12-12T19:29:16.968332Z",
     "iopub.status.idle": "2022-12-12T19:29:16.985661Z",
     "shell.execute_reply": "2022-12-12T19:29:16.984228Z"
    },
    "papermill": {
     "duration": 0.051121,
     "end_time": "2022-12-12T19:29:16.988654",
     "exception": false,
     "start_time": "2022-12-12T19:29:16.937533",
     "status": "completed"
    },
    "tags": []
   },
   "outputs": [],
   "source": [
    "all_data = train_data.append(test_data)"
   ]
  },
  {
   "cell_type": "code",
   "execution_count": 8,
   "id": "80b31e05",
   "metadata": {
    "execution": {
     "iopub.execute_input": "2022-12-12T19:29:17.050209Z",
     "iopub.status.busy": "2022-12-12T19:29:17.049708Z",
     "iopub.status.idle": "2022-12-12T19:29:17.056865Z",
     "shell.execute_reply": "2022-12-12T19:29:17.055719Z"
    },
    "papermill": {
     "duration": 0.04013,
     "end_time": "2022-12-12T19:29:17.059201",
     "exception": false,
     "start_time": "2022-12-12T19:29:17.019071",
     "status": "completed"
    },
    "tags": []
   },
   "outputs": [
    {
     "data": {
      "text/plain": [
       "(1309, 12)"
      ]
     },
     "execution_count": 8,
     "metadata": {},
     "output_type": "execute_result"
    }
   ],
   "source": [
    "all_data.shape"
   ]
  },
  {
   "cell_type": "markdown",
   "id": "bee36d1b",
   "metadata": {
    "papermill": {
     "duration": 0.029379,
     "end_time": "2022-12-12T19:29:17.117671",
     "exception": false,
     "start_time": "2022-12-12T19:29:17.088292",
     "status": "completed"
    },
    "tags": []
   },
   "source": [
    "#### **The type of each column in the data frame:**"
   ]
  },
  {
   "cell_type": "code",
   "execution_count": 9,
   "id": "9af3c168",
   "metadata": {
    "execution": {
     "iopub.execute_input": "2022-12-12T19:29:17.178446Z",
     "iopub.status.busy": "2022-12-12T19:29:17.177977Z",
     "iopub.status.idle": "2022-12-12T19:29:17.188101Z",
     "shell.execute_reply": "2022-12-12T19:29:17.186527Z"
    },
    "papermill": {
     "duration": 0.044432,
     "end_time": "2022-12-12T19:29:17.190624",
     "exception": false,
     "start_time": "2022-12-12T19:29:17.146192",
     "status": "completed"
    },
    "tags": []
   },
   "outputs": [
    {
     "data": {
      "text/plain": [
       "PassengerId      int64\n",
       "Survived       float64\n",
       "Pclass           int64\n",
       "Name            object\n",
       "Sex             object\n",
       "Age            float64\n",
       "SibSp            int64\n",
       "Parch            int64\n",
       "Ticket          object\n",
       "Fare           float64\n",
       "Cabin           object\n",
       "Embarked        object\n",
       "dtype: object"
      ]
     },
     "execution_count": 9,
     "metadata": {},
     "output_type": "execute_result"
    }
   ],
   "source": [
    "all_data.dtypes"
   ]
  },
  {
   "cell_type": "markdown",
   "id": "9983aaa6",
   "metadata": {
    "papermill": {
     "duration": 0.028251,
     "end_time": "2022-12-12T19:29:17.248514",
     "exception": false,
     "start_time": "2022-12-12T19:29:17.220263",
     "status": "completed"
    },
    "tags": []
   },
   "source": [
    "- #### **Checking whether there are missing data**"
   ]
  },
  {
   "cell_type": "code",
   "execution_count": 10,
   "id": "b046f22e",
   "metadata": {
    "execution": {
     "iopub.execute_input": "2022-12-12T19:29:17.307706Z",
     "iopub.status.busy": "2022-12-12T19:29:17.307244Z",
     "iopub.status.idle": "2022-12-12T19:29:17.318680Z",
     "shell.execute_reply": "2022-12-12T19:29:17.317558Z"
    },
    "papermill": {
     "duration": 0.043745,
     "end_time": "2022-12-12T19:29:17.320890",
     "exception": false,
     "start_time": "2022-12-12T19:29:17.277145",
     "status": "completed"
    },
    "tags": []
   },
   "outputs": [
    {
     "data": {
      "text/plain": [
       "['Survived', 'Age', 'Fare', 'Cabin', 'Embarked']"
      ]
     },
     "execution_count": 10,
     "metadata": {},
     "output_type": "execute_result"
    }
   ],
   "source": [
    "all_data.columns[all_data.isna().any()].tolist()"
   ]
  },
  {
   "cell_type": "markdown",
   "id": "4cd383a8",
   "metadata": {
    "papermill": {
     "duration": 0.028944,
     "end_time": "2022-12-12T19:29:17.378607",
     "exception": false,
     "start_time": "2022-12-12T19:29:17.349663",
     "status": "completed"
    },
    "tags": []
   },
   "source": [
    "It's obvious why there are missing values in the Survived column...\n",
    "\n",
    "I can't see how the information about the Cabin can help, so I won't fill up the empty cells.\n",
    "\n",
    "For the rest columns with missing values, let's do some manipulations to fill up the empty cells."
   ]
  },
  {
   "cell_type": "markdown",
   "id": "aaec73a9",
   "metadata": {
    "papermill": {
     "duration": 0.028178,
     "end_time": "2022-12-12T19:29:17.435589",
     "exception": false,
     "start_time": "2022-12-12T19:29:17.407411",
     "status": "completed"
    },
    "tags": []
   },
   "source": [
    "- #### **Age**\n",
    "\n",
    "To imputing the age more precisely, let's define a new temp column- 'Title' (the title of each passenger). "
   ]
  },
  {
   "cell_type": "code",
   "execution_count": 11,
   "id": "06e8a829",
   "metadata": {
    "execution": {
     "iopub.execute_input": "2022-12-12T19:29:17.494929Z",
     "iopub.status.busy": "2022-12-12T19:29:17.494376Z",
     "iopub.status.idle": "2022-12-12T19:29:22.515512Z",
     "shell.execute_reply": "2022-12-12T19:29:22.514206Z"
    },
    "papermill": {
     "duration": 5.054398,
     "end_time": "2022-12-12T19:29:22.518885",
     "exception": false,
     "start_time": "2022-12-12T19:29:17.464487",
     "status": "completed"
    },
    "tags": []
   },
   "outputs": [
    {
     "data": {
      "text/plain": [
       "array(['Mr', 'Mrs', 'Miss', 'Master', 'Don', 'Rev', 'Dr', 'Mme', 'Ms',\n",
       "       'Major', 'Lady', 'Sir', 'Mlle', 'Col', 'Capt', 'Countess',\n",
       "       'Jonkheer', 'Dona'], dtype=object)"
      ]
     },
     "execution_count": 11,
     "metadata": {},
     "output_type": "execute_result"
    }
   ],
   "source": [
    "all_data['Title'] = all_data['Name']\n",
    "\n",
    "# Cleaning name and extracting Title\n",
    "for name_string in all_data['Name']:\n",
    "    all_data['Title'] = all_data['Name'].str.extract('([A-Za-z]+)\\.', expand=True)\n",
    "\n",
    "all_data.Title.unique()"
   ]
  },
  {
   "cell_type": "code",
   "execution_count": 12,
   "id": "3cdd6d06",
   "metadata": {
    "execution": {
     "iopub.execute_input": "2022-12-12T19:29:22.580098Z",
     "iopub.status.busy": "2022-12-12T19:29:22.578892Z",
     "iopub.status.idle": "2022-12-12T19:29:22.611880Z",
     "shell.execute_reply": "2022-12-12T19:29:22.610649Z"
    },
    "papermill": {
     "duration": 0.066461,
     "end_time": "2022-12-12T19:29:22.614893",
     "exception": false,
     "start_time": "2022-12-12T19:29:22.548432",
     "status": "completed"
    },
    "tags": []
   },
   "outputs": [],
   "source": [
    "# Replacing rare titles with more common ones\n",
    "mapping = {'Mlle': 'Miss', 'Major': 'Mr', 'Col': 'Mr', 'Sir': 'Mr', 'Don': 'Mr', 'Mme': 'Miss',\n",
    "          'Jonkheer': 'Mr', 'Lady': 'Mrs', 'Capt': 'Mr', 'Countess': 'Mrs', 'Ms': 'Miss', 'Dona': 'Mrs'}\n",
    "\n",
    "all_data.replace({'Title': mapping}, inplace=True)\n",
    "titles = ['Dr', 'Master', 'Miss', 'Mr', 'Mrs', 'Rev']\n",
    "\n",
    "for title in titles:\n",
    "    age_to_impute = all_data.groupby('Title')['Age'].median()[titles.index(title)]\n",
    "    all_data.loc[(all_data['Age'].isnull()) & (all_data['Title'] == title), 'Age'] = age_to_impute\n",
    "    \n",
    "# Substituting Age values in TRAIN_DF and TEST_DF:\n",
    "train_data['Age'] = all_data['Age'][:891]\n",
    "test_data['Age'] = all_data['Age'][891:]\n",
    "\n",
    "# Dropping Title feature\n",
    "all_data.drop('Title', axis = 1, inplace = True)"
   ]
  },
  {
   "cell_type": "markdown",
   "id": "6ab7e317",
   "metadata": {
    "papermill": {
     "duration": 0.028347,
     "end_time": "2022-12-12T19:29:22.672408",
     "exception": false,
     "start_time": "2022-12-12T19:29:22.644061",
     "status": "completed"
    },
    "tags": []
   },
   "source": [
    "We will create a new column, AgeGroup, that will contain the age groups of the passengers according the following partition:\n",
    "- Infant: 0-3\n",
    "- Kid: 4-12\n",
    "- Teen: 13-19\n",
    "- Adult: 20-110\n",
    "\n",
    "After that, we will encode this column to a new one - AgeGroup_code."
   ]
  },
  {
   "cell_type": "code",
   "execution_count": 13,
   "id": "43afaf56",
   "metadata": {
    "execution": {
     "iopub.execute_input": "2022-12-12T19:29:22.734420Z",
     "iopub.status.busy": "2022-12-12T19:29:22.733950Z",
     "iopub.status.idle": "2022-12-12T19:29:22.751222Z",
     "shell.execute_reply": "2022-12-12T19:29:22.749782Z"
    },
    "papermill": {
     "duration": 0.051443,
     "end_time": "2022-12-12T19:29:22.754659",
     "exception": false,
     "start_time": "2022-12-12T19:29:22.703216",
     "status": "completed"
    },
    "tags": []
   },
   "outputs": [],
   "source": [
    "bins= [0,4,13,20,110]\n",
    "labels = ['Infant','Kid','Teen','Adult']\n",
    "all_data['AgeGroup'] = pd.cut(train_data['Age'], bins=bins, labels=labels, right=False)\n",
    "\n",
    "label = LabelEncoder()\n",
    "\n",
    "all_data['AgeGroup_code'] = label.fit_transform(all_data['AgeGroup'])\n",
    "\n",
    "train_data['AgeGroup_code'] = all_data['AgeGroup_code'][:891]\n",
    "test_data['AgeGroup_code'] = all_data['AgeGroup_code'][891:]"
   ]
  },
  {
   "cell_type": "code",
   "execution_count": 14,
   "id": "a812a41e",
   "metadata": {
    "execution": {
     "iopub.execute_input": "2022-12-12T19:29:22.817284Z",
     "iopub.status.busy": "2022-12-12T19:29:22.816757Z",
     "iopub.status.idle": "2022-12-12T19:29:22.831743Z",
     "shell.execute_reply": "2022-12-12T19:29:22.830255Z"
    },
    "papermill": {
     "duration": 0.049818,
     "end_time": "2022-12-12T19:29:22.834517",
     "exception": false,
     "start_time": "2022-12-12T19:29:22.784699",
     "status": "completed"
    },
    "tags": []
   },
   "outputs": [
    {
     "data": {
      "text/html": [
       "<div>\n",
       "<style scoped>\n",
       "    .dataframe tbody tr th:only-of-type {\n",
       "        vertical-align: middle;\n",
       "    }\n",
       "\n",
       "    .dataframe tbody tr th {\n",
       "        vertical-align: top;\n",
       "    }\n",
       "\n",
       "    .dataframe thead th {\n",
       "        text-align: right;\n",
       "    }\n",
       "</style>\n",
       "<table border=\"1\" class=\"dataframe\">\n",
       "  <thead>\n",
       "    <tr style=\"text-align: right;\">\n",
       "      <th></th>\n",
       "      <th>AgeGroup</th>\n",
       "      <th>AgeGroup_code</th>\n",
       "    </tr>\n",
       "  </thead>\n",
       "  <tbody>\n",
       "    <tr>\n",
       "      <th>0</th>\n",
       "      <td>Adult</td>\n",
       "      <td>0</td>\n",
       "    </tr>\n",
       "    <tr>\n",
       "      <th>1</th>\n",
       "      <td>Adult</td>\n",
       "      <td>0</td>\n",
       "    </tr>\n",
       "    <tr>\n",
       "      <th>2</th>\n",
       "      <td>Adult</td>\n",
       "      <td>0</td>\n",
       "    </tr>\n",
       "    <tr>\n",
       "      <th>3</th>\n",
       "      <td>Adult</td>\n",
       "      <td>0</td>\n",
       "    </tr>\n",
       "    <tr>\n",
       "      <th>4</th>\n",
       "      <td>Adult</td>\n",
       "      <td>0</td>\n",
       "    </tr>\n",
       "    <tr>\n",
       "      <th>5</th>\n",
       "      <td>Adult</td>\n",
       "      <td>0</td>\n",
       "    </tr>\n",
       "    <tr>\n",
       "      <th>6</th>\n",
       "      <td>Adult</td>\n",
       "      <td>0</td>\n",
       "    </tr>\n",
       "    <tr>\n",
       "      <th>7</th>\n",
       "      <td>Infant</td>\n",
       "      <td>1</td>\n",
       "    </tr>\n",
       "    <tr>\n",
       "      <th>8</th>\n",
       "      <td>Adult</td>\n",
       "      <td>0</td>\n",
       "    </tr>\n",
       "    <tr>\n",
       "      <th>9</th>\n",
       "      <td>Teen</td>\n",
       "      <td>3</td>\n",
       "    </tr>\n",
       "  </tbody>\n",
       "</table>\n",
       "</div>"
      ],
      "text/plain": [
       "  AgeGroup  AgeGroup_code\n",
       "0    Adult              0\n",
       "1    Adult              0\n",
       "2    Adult              0\n",
       "3    Adult              0\n",
       "4    Adult              0\n",
       "5    Adult              0\n",
       "6    Adult              0\n",
       "7   Infant              1\n",
       "8    Adult              0\n",
       "9     Teen              3"
      ]
     },
     "execution_count": 14,
     "metadata": {},
     "output_type": "execute_result"
    }
   ],
   "source": [
    "all_data[['AgeGroup', 'AgeGroup_code']].head(10)"
   ]
  },
  {
   "cell_type": "markdown",
   "id": "f6279cc8",
   "metadata": {
    "papermill": {
     "duration": 0.030072,
     "end_time": "2022-12-12T19:29:22.894009",
     "exception": false,
     "start_time": "2022-12-12T19:29:22.863937",
     "status": "completed"
    },
    "tags": []
   },
   "source": [
    "- 0 : Adult\n",
    "- 1 : Infant\n",
    "- 2 : Kid\n",
    "- 3 : Teen"
   ]
  },
  {
   "cell_type": "markdown",
   "id": "905c4557",
   "metadata": {
    "papermill": {
     "duration": 0.030003,
     "end_time": "2022-12-12T19:29:22.953230",
     "exception": false,
     "start_time": "2022-12-12T19:29:22.923227",
     "status": "completed"
    },
    "tags": []
   },
   "source": [
    "- #### **Embarked**\n",
    "\n",
    "Let's fill up the missing values cells in the Embarked column with the most common value."
   ]
  },
  {
   "cell_type": "code",
   "execution_count": 15,
   "id": "c4518e98",
   "metadata": {
    "execution": {
     "iopub.execute_input": "2022-12-12T19:29:23.014826Z",
     "iopub.status.busy": "2022-12-12T19:29:23.014342Z",
     "iopub.status.idle": "2022-12-12T19:29:23.025009Z",
     "shell.execute_reply": "2022-12-12T19:29:23.023504Z"
    },
    "papermill": {
     "duration": 0.044152,
     "end_time": "2022-12-12T19:29:23.027724",
     "exception": false,
     "start_time": "2022-12-12T19:29:22.983572",
     "status": "completed"
    },
    "tags": []
   },
   "outputs": [
    {
     "name": "stdout",
     "output_type": "stream",
     "text": [
      "the most common value in the Embarked column:  S\n"
     ]
    }
   ],
   "source": [
    "print('the most common value in the Embarked column: ', all_data.Embarked.value_counts().idxmax())"
   ]
  },
  {
   "cell_type": "code",
   "execution_count": 16,
   "id": "b68a1f33",
   "metadata": {
    "execution": {
     "iopub.execute_input": "2022-12-12T19:29:23.091854Z",
     "iopub.status.busy": "2022-12-12T19:29:23.091378Z",
     "iopub.status.idle": "2022-12-12T19:29:23.097202Z",
     "shell.execute_reply": "2022-12-12T19:29:23.096185Z"
    },
    "papermill": {
     "duration": 0.041512,
     "end_time": "2022-12-12T19:29:23.099360",
     "exception": false,
     "start_time": "2022-12-12T19:29:23.057848",
     "status": "completed"
    },
    "tags": []
   },
   "outputs": [],
   "source": [
    "all_data.Embarked.fillna('S', inplace = True)"
   ]
  },
  {
   "cell_type": "markdown",
   "id": "7c850ac8",
   "metadata": {
    "papermill": {
     "duration": 0.029572,
     "end_time": "2022-12-12T19:29:23.159104",
     "exception": false,
     "start_time": "2022-12-12T19:29:23.129532",
     "status": "completed"
    },
    "tags": []
   },
   "source": [
    "- #### **Fare**\n",
    "\n",
    "Filling up the missing values with the median of the Fare column"
   ]
  },
  {
   "cell_type": "code",
   "execution_count": 17,
   "id": "b23a5301",
   "metadata": {
    "execution": {
     "iopub.execute_input": "2022-12-12T19:29:23.221033Z",
     "iopub.status.busy": "2022-12-12T19:29:23.220517Z",
     "iopub.status.idle": "2022-12-12T19:29:23.229658Z",
     "shell.execute_reply": "2022-12-12T19:29:23.228497Z"
    },
    "papermill": {
     "duration": 0.043579,
     "end_time": "2022-12-12T19:29:23.232590",
     "exception": false,
     "start_time": "2022-12-12T19:29:23.189011",
     "status": "completed"
    },
    "tags": []
   },
   "outputs": [],
   "source": [
    "all_data.Fare.fillna(all_data.Fare.median(), inplace = True)"
   ]
  },
  {
   "cell_type": "markdown",
   "id": "0eda80a5",
   "metadata": {
    "papermill": {
     "duration": 0.030455,
     "end_time": "2022-12-12T19:29:23.294129",
     "exception": false,
     "start_time": "2022-12-12T19:29:23.263674",
     "status": "completed"
    },
    "tags": []
   },
   "source": [
    "Encoding the Fare column into a new column - FareBins_code :"
   ]
  },
  {
   "cell_type": "code",
   "execution_count": 18,
   "id": "59fc7b6d",
   "metadata": {
    "execution": {
     "iopub.execute_input": "2022-12-12T19:29:23.355262Z",
     "iopub.status.busy": "2022-12-12T19:29:23.354451Z",
     "iopub.status.idle": "2022-12-12T19:29:23.383736Z",
     "shell.execute_reply": "2022-12-12T19:29:23.382035Z"
    },
    "papermill": {
     "duration": 0.06325,
     "end_time": "2022-12-12T19:29:23.386883",
     "exception": false,
     "start_time": "2022-12-12T19:29:23.323633",
     "status": "completed"
    },
    "tags": []
   },
   "outputs": [
    {
     "name": "stdout",
     "output_type": "stream",
     "text": [
      "[(-0.001, 7.854], (41.579, 512.329], (7.854, 10.5], (10.5, 21.558], (21.558, 41.579]]\n",
      "Categories (5, interval[float64, right]): [(-0.001, 7.854] < (7.854, 10.5] < (10.5, 21.558] < (21.558, 41.579] < (41.579, 512.329]]\n"
     ]
    }
   ],
   "source": [
    "all_data['FareBins'] = pd.qcut(all_data.Fare, 5)\n",
    "print(all_data['FareBins'].unique())\n",
    "label = LabelEncoder()\n",
    "\n",
    "all_data['FareBins_code'] = label.fit_transform(all_data['FareBins'])\n",
    "\n",
    "train_data['FareBins_code'] = all_data['FareBins_code'][:891]\n",
    "test_data['FareBins_code'] = all_data['FareBins_code'][891:]"
   ]
  },
  {
   "cell_type": "code",
   "execution_count": 19,
   "id": "e30868ba",
   "metadata": {
    "execution": {
     "iopub.execute_input": "2022-12-12T19:29:23.451013Z",
     "iopub.status.busy": "2022-12-12T19:29:23.450153Z",
     "iopub.status.idle": "2022-12-12T19:29:23.463691Z",
     "shell.execute_reply": "2022-12-12T19:29:23.462672Z"
    },
    "papermill": {
     "duration": 0.0486,
     "end_time": "2022-12-12T19:29:23.466174",
     "exception": false,
     "start_time": "2022-12-12T19:29:23.417574",
     "status": "completed"
    },
    "tags": []
   },
   "outputs": [
    {
     "data": {
      "text/html": [
       "<div>\n",
       "<style scoped>\n",
       "    .dataframe tbody tr th:only-of-type {\n",
       "        vertical-align: middle;\n",
       "    }\n",
       "\n",
       "    .dataframe tbody tr th {\n",
       "        vertical-align: top;\n",
       "    }\n",
       "\n",
       "    .dataframe thead th {\n",
       "        text-align: right;\n",
       "    }\n",
       "</style>\n",
       "<table border=\"1\" class=\"dataframe\">\n",
       "  <thead>\n",
       "    <tr style=\"text-align: right;\">\n",
       "      <th></th>\n",
       "      <th>FareBins</th>\n",
       "      <th>FareBins_code</th>\n",
       "    </tr>\n",
       "  </thead>\n",
       "  <tbody>\n",
       "    <tr>\n",
       "      <th>0</th>\n",
       "      <td>(-0.001, 7.854]</td>\n",
       "      <td>0</td>\n",
       "    </tr>\n",
       "    <tr>\n",
       "      <th>1</th>\n",
       "      <td>(41.579, 512.329]</td>\n",
       "      <td>4</td>\n",
       "    </tr>\n",
       "    <tr>\n",
       "      <th>2</th>\n",
       "      <td>(7.854, 10.5]</td>\n",
       "      <td>1</td>\n",
       "    </tr>\n",
       "    <tr>\n",
       "      <th>3</th>\n",
       "      <td>(41.579, 512.329]</td>\n",
       "      <td>4</td>\n",
       "    </tr>\n",
       "    <tr>\n",
       "      <th>4</th>\n",
       "      <td>(7.854, 10.5]</td>\n",
       "      <td>1</td>\n",
       "    </tr>\n",
       "    <tr>\n",
       "      <th>5</th>\n",
       "      <td>(7.854, 10.5]</td>\n",
       "      <td>1</td>\n",
       "    </tr>\n",
       "    <tr>\n",
       "      <th>6</th>\n",
       "      <td>(41.579, 512.329]</td>\n",
       "      <td>4</td>\n",
       "    </tr>\n",
       "    <tr>\n",
       "      <th>7</th>\n",
       "      <td>(10.5, 21.558]</td>\n",
       "      <td>2</td>\n",
       "    </tr>\n",
       "    <tr>\n",
       "      <th>8</th>\n",
       "      <td>(10.5, 21.558]</td>\n",
       "      <td>2</td>\n",
       "    </tr>\n",
       "    <tr>\n",
       "      <th>9</th>\n",
       "      <td>(21.558, 41.579]</td>\n",
       "      <td>3</td>\n",
       "    </tr>\n",
       "  </tbody>\n",
       "</table>\n",
       "</div>"
      ],
      "text/plain": [
       "            FareBins  FareBins_code\n",
       "0    (-0.001, 7.854]              0\n",
       "1  (41.579, 512.329]              4\n",
       "2      (7.854, 10.5]              1\n",
       "3  (41.579, 512.329]              4\n",
       "4      (7.854, 10.5]              1\n",
       "5      (7.854, 10.5]              1\n",
       "6  (41.579, 512.329]              4\n",
       "7     (10.5, 21.558]              2\n",
       "8     (10.5, 21.558]              2\n",
       "9   (21.558, 41.579]              3"
      ]
     },
     "execution_count": 19,
     "metadata": {},
     "output_type": "execute_result"
    }
   ],
   "source": [
    "all_data[['FareBins','FareBins_code']].head(10)"
   ]
  },
  {
   "cell_type": "markdown",
   "id": "38b9e878",
   "metadata": {
    "papermill": {
     "duration": 0.029361,
     "end_time": "2022-12-12T19:29:23.525334",
     "exception": false,
     "start_time": "2022-12-12T19:29:23.495973",
     "status": "completed"
    },
    "tags": []
   },
   "source": [
    "- 0 : (-0.001, 7.854]\n",
    "- 1 : (7.854, 10.5]\n",
    "- 2 : (10.5, 21.558]\n",
    "- 3 : (21.558, 41.579]\n",
    "- 4 : (41.579, 512.329]"
   ]
  },
  {
   "cell_type": "markdown",
   "id": "f4ae3e32",
   "metadata": {
    "papermill": {
     "duration": 0.029646,
     "end_time": "2022-12-12T19:29:23.584570",
     "exception": false,
     "start_time": "2022-12-12T19:29:23.554924",
     "status": "completed"
    },
    "tags": []
   },
   "source": [
    "- #### **Sex**\n",
    "\n",
    "We will encode the Sex column into a new column- Sex_cat, where 0 = female and 1 = male."
   ]
  },
  {
   "cell_type": "code",
   "execution_count": 20,
   "id": "e7938d58",
   "metadata": {
    "execution": {
     "iopub.execute_input": "2022-12-12T19:29:23.646676Z",
     "iopub.status.busy": "2022-12-12T19:29:23.645929Z",
     "iopub.status.idle": "2022-12-12T19:29:23.656831Z",
     "shell.execute_reply": "2022-12-12T19:29:23.655229Z"
    },
    "papermill": {
     "duration": 0.045705,
     "end_time": "2022-12-12T19:29:23.660113",
     "exception": false,
     "start_time": "2022-12-12T19:29:23.614408",
     "status": "completed"
    },
    "tags": []
   },
   "outputs": [],
   "source": [
    "all_data[\"Sex\"] = all_data[\"Sex\"].astype('category')\n",
    "all_data[\"Sex_cat\"] = all_data[\"Sex\"].cat.codes\n",
    "\n",
    "train_data['Sex_cat'] = all_data['Sex_cat'][:891]\n",
    "test_data['Sex_cat'] = all_data['Sex_cat'][891:]"
   ]
  },
  {
   "cell_type": "code",
   "execution_count": 21,
   "id": "0458e454",
   "metadata": {
    "execution": {
     "iopub.execute_input": "2022-12-12T19:29:23.723488Z",
     "iopub.status.busy": "2022-12-12T19:29:23.722992Z",
     "iopub.status.idle": "2022-12-12T19:29:23.736121Z",
     "shell.execute_reply": "2022-12-12T19:29:23.734698Z"
    },
    "papermill": {
     "duration": 0.04716,
     "end_time": "2022-12-12T19:29:23.738427",
     "exception": false,
     "start_time": "2022-12-12T19:29:23.691267",
     "status": "completed"
    },
    "tags": []
   },
   "outputs": [
    {
     "data": {
      "text/html": [
       "<div>\n",
       "<style scoped>\n",
       "    .dataframe tbody tr th:only-of-type {\n",
       "        vertical-align: middle;\n",
       "    }\n",
       "\n",
       "    .dataframe tbody tr th {\n",
       "        vertical-align: top;\n",
       "    }\n",
       "\n",
       "    .dataframe thead th {\n",
       "        text-align: right;\n",
       "    }\n",
       "</style>\n",
       "<table border=\"1\" class=\"dataframe\">\n",
       "  <thead>\n",
       "    <tr style=\"text-align: right;\">\n",
       "      <th></th>\n",
       "      <th>Sex</th>\n",
       "      <th>Sex_cat</th>\n",
       "    </tr>\n",
       "  </thead>\n",
       "  <tbody>\n",
       "    <tr>\n",
       "      <th>0</th>\n",
       "      <td>male</td>\n",
       "      <td>1</td>\n",
       "    </tr>\n",
       "    <tr>\n",
       "      <th>1</th>\n",
       "      <td>female</td>\n",
       "      <td>0</td>\n",
       "    </tr>\n",
       "    <tr>\n",
       "      <th>2</th>\n",
       "      <td>female</td>\n",
       "      <td>0</td>\n",
       "    </tr>\n",
       "    <tr>\n",
       "      <th>3</th>\n",
       "      <td>female</td>\n",
       "      <td>0</td>\n",
       "    </tr>\n",
       "    <tr>\n",
       "      <th>4</th>\n",
       "      <td>male</td>\n",
       "      <td>1</td>\n",
       "    </tr>\n",
       "  </tbody>\n",
       "</table>\n",
       "</div>"
      ],
      "text/plain": [
       "      Sex  Sex_cat\n",
       "0    male        1\n",
       "1  female        0\n",
       "2  female        0\n",
       "3  female        0\n",
       "4    male        1"
      ]
     },
     "execution_count": 21,
     "metadata": {},
     "output_type": "execute_result"
    }
   ],
   "source": [
    "all_data[['Sex', 'Sex_cat']].head()"
   ]
  },
  {
   "cell_type": "markdown",
   "id": "c812d32f",
   "metadata": {
    "papermill": {
     "duration": 0.02964,
     "end_time": "2022-12-12T19:29:23.798117",
     "exception": false,
     "start_time": "2022-12-12T19:29:23.768477",
     "status": "completed"
    },
    "tags": []
   },
   "source": [
    "* male : 1\n",
    "* female : 0 "
   ]
  },
  {
   "cell_type": "markdown",
   "id": "db728bbc",
   "metadata": {
    "papermill": {
     "duration": 0.029558,
     "end_time": "2022-12-12T19:29:23.857678",
     "exception": false,
     "start_time": "2022-12-12T19:29:23.828120",
     "status": "completed"
    },
    "tags": []
   },
   "source": [
    "- #### **Adding Family_Size**"
   ]
  },
  {
   "cell_type": "code",
   "execution_count": 22,
   "id": "ad072657",
   "metadata": {
    "execution": {
     "iopub.execute_input": "2022-12-12T19:29:23.920822Z",
     "iopub.status.busy": "2022-12-12T19:29:23.920278Z",
     "iopub.status.idle": "2022-12-12T19:29:23.929149Z",
     "shell.execute_reply": "2022-12-12T19:29:23.928092Z"
    },
    "papermill": {
     "duration": 0.043782,
     "end_time": "2022-12-12T19:29:23.931373",
     "exception": false,
     "start_time": "2022-12-12T19:29:23.887591",
     "status": "completed"
    },
    "tags": []
   },
   "outputs": [],
   "source": [
    "all_data['Family_Size'] = all_data['SibSp'] + all_data['Parch']\n",
    "\n",
    "# Substituting the values in train_data and test_data:\n",
    "train_data['Family_Size'] = all_data['Family_Size'][:891]\n",
    "test_data['Family_Size'] = all_data['Family_Size'][891:]"
   ]
  },
  {
   "cell_type": "markdown",
   "id": "590a618b",
   "metadata": {
    "papermill": {
     "duration": 0.031241,
     "end_time": "2022-12-12T19:29:23.993317",
     "exception": false,
     "start_time": "2022-12-12T19:29:23.962076",
     "status": "completed"
    },
    "tags": []
   },
   "source": [
    "- #### **Adding Family_Survival**\n",
    "\n",
    "Grouping families and people with the same tickets together and researches the info."
   ]
  },
  {
   "cell_type": "code",
   "execution_count": 23,
   "id": "31143348",
   "metadata": {
    "execution": {
     "iopub.execute_input": "2022-12-12T19:29:24.056059Z",
     "iopub.status.busy": "2022-12-12T19:29:24.055545Z",
     "iopub.status.idle": "2022-12-12T19:29:24.064079Z",
     "shell.execute_reply": "2022-12-12T19:29:24.062825Z"
    },
    "papermill": {
     "duration": 0.042628,
     "end_time": "2022-12-12T19:29:24.066264",
     "exception": false,
     "start_time": "2022-12-12T19:29:24.023636",
     "status": "completed"
    },
    "tags": []
   },
   "outputs": [],
   "source": [
    "all_data['Last_Name'] = all_data['Name'].apply(lambda x: str.split(x, \",\")[0])"
   ]
  },
  {
   "cell_type": "code",
   "execution_count": 24,
   "id": "b988cc41",
   "metadata": {
    "execution": {
     "iopub.execute_input": "2022-12-12T19:29:24.132104Z",
     "iopub.status.busy": "2022-12-12T19:29:24.131564Z",
     "iopub.status.idle": "2022-12-12T19:29:25.062572Z",
     "shell.execute_reply": "2022-12-12T19:29:25.061038Z"
    },
    "papermill": {
     "duration": 0.968484,
     "end_time": "2022-12-12T19:29:25.066042",
     "exception": false,
     "start_time": "2022-12-12T19:29:24.097558",
     "status": "completed"
    },
    "tags": []
   },
   "outputs": [
    {
     "name": "stdout",
     "output_type": "stream",
     "text": [
      "Number of passengers with family survival information: 420\n"
     ]
    }
   ],
   "source": [
    "DEFAULT_SURVIVAL_VALUE = 0.5\n",
    "all_data['Family_Survival'] = DEFAULT_SURVIVAL_VALUE\n",
    "\n",
    "for grp, grp_df in all_data[['Survived','Name', 'Last_Name', 'Fare', 'Ticket', 'PassengerId',\n",
    "                           'SibSp', 'Parch', 'Age', 'Cabin']].groupby(['Last_Name', 'Fare']):\n",
    "    \n",
    "    if len(grp_df) != 1: # A Family group is found.\n",
    "        \n",
    "        for ind, row in grp_df.iterrows():\n",
    "            surv_max = grp_df.drop(ind)['Survived'].max()\n",
    "            surv_min = grp_df.drop(ind)['Survived'].min()\n",
    "            passID = row['PassengerId']\n",
    "            \n",
    "            if surv_max == 1.0:\n",
    "                all_data.loc[all_data.PassengerId == passID, 'Family_Survival'] = 1\n",
    "            elif surv_min == 0.0:\n",
    "                all_data.loc[all_data.PassengerId == passID, 'Family_Survival'] = 0\n",
    "\n",
    "print(\"Number of passengers with family survival information:\", \n",
    "      all_data.loc[all_data['Family_Survival'] != 0.5].shape[0])"
   ]
  },
  {
   "cell_type": "code",
   "execution_count": 25,
   "id": "a347b4b6",
   "metadata": {
    "execution": {
     "iopub.execute_input": "2022-12-12T19:29:25.132676Z",
     "iopub.status.busy": "2022-12-12T19:29:25.131854Z",
     "iopub.status.idle": "2022-12-12T19:29:26.116598Z",
     "shell.execute_reply": "2022-12-12T19:29:26.115151Z"
    },
    "papermill": {
     "duration": 1.021222,
     "end_time": "2022-12-12T19:29:26.120007",
     "exception": false,
     "start_time": "2022-12-12T19:29:25.098785",
     "status": "completed"
    },
    "tags": []
   },
   "outputs": [
    {
     "name": "stdout",
     "output_type": "stream",
     "text": [
      "Number of passenger with family/group survival information:  546\n"
     ]
    }
   ],
   "source": [
    "for grp, grp_df in all_data.groupby('Ticket'):\n",
    "    if len(grp_df) != 1:\n",
    "        \n",
    "        for ind, row in grp_df.iterrows():\n",
    "            if (row['Family_Survival'] == 0) | (row['Family_Survival'] == 0.5):\n",
    "                surv_max = grp_df.drop(ind)['Survived'].max()\n",
    "                surv_min = grp_df.drop(ind)['Survived'].min()\n",
    "                passID = row['PassengerId']\n",
    "\n",
    "                if surv_max == 1.0:\n",
    "                    all_data.loc[all_data.PassengerId == passID, 'Family_Survival'] = 1\n",
    "                elif surv_min == 0.0:\n",
    "                    all_data.loc[all_data.PassengerId == passID, 'Family_Survival'] = 0\n",
    "print(\"Number of passenger with family/group survival information: \" ,\n",
    "      (all_data[all_data['Family_Survival']!=0.5].shape[0]))"
   ]
  },
  {
   "cell_type": "code",
   "execution_count": 26,
   "id": "a1d7707f",
   "metadata": {
    "execution": {
     "iopub.execute_input": "2022-12-12T19:29:26.184110Z",
     "iopub.status.busy": "2022-12-12T19:29:26.182734Z",
     "iopub.status.idle": "2022-12-12T19:29:26.191187Z",
     "shell.execute_reply": "2022-12-12T19:29:26.189967Z"
    },
    "papermill": {
     "duration": 0.042948,
     "end_time": "2022-12-12T19:29:26.193840",
     "exception": false,
     "start_time": "2022-12-12T19:29:26.150892",
     "status": "completed"
    },
    "tags": []
   },
   "outputs": [],
   "source": [
    "# # Family_Survival in TRAIN_DATA and TEST_DATA:\n",
    "train_data['Family_Survival'] = all_data['Family_Survival'][:891]\n",
    "test_data['Family_Survival'] = all_data['Family_Survival'][891:]"
   ]
  },
  {
   "cell_type": "markdown",
   "id": "7ba56eb3",
   "metadata": {
    "papermill": {
     "duration": 0.030194,
     "end_time": "2022-12-12T19:29:26.254192",
     "exception": false,
     "start_time": "2022-12-12T19:29:26.223998",
     "status": "completed"
    },
    "tags": []
   },
   "source": [
    "- #### **Cleaning the Data**"
   ]
  },
  {
   "cell_type": "code",
   "execution_count": 27,
   "id": "7245a480",
   "metadata": {
    "execution": {
     "iopub.execute_input": "2022-12-12T19:29:26.316828Z",
     "iopub.status.busy": "2022-12-12T19:29:26.316332Z",
     "iopub.status.idle": "2022-12-12T19:29:26.323916Z",
     "shell.execute_reply": "2022-12-12T19:29:26.322762Z"
    },
    "papermill": {
     "duration": 0.041539,
     "end_time": "2022-12-12T19:29:26.326191",
     "exception": false,
     "start_time": "2022-12-12T19:29:26.284652",
     "status": "completed"
    },
    "tags": []
   },
   "outputs": [
    {
     "data": {
      "text/plain": [
       "Index(['PassengerId', 'Survived', 'Pclass', 'Name', 'Sex', 'Age', 'SibSp',\n",
       "       'Parch', 'Ticket', 'Fare', 'Cabin', 'Embarked', 'AgeGroup',\n",
       "       'AgeGroup_code', 'FareBins', 'FareBins_code', 'Sex_cat', 'Family_Size',\n",
       "       'Last_Name', 'Family_Survival'],\n",
       "      dtype='object')"
      ]
     },
     "execution_count": 27,
     "metadata": {},
     "output_type": "execute_result"
    }
   ],
   "source": [
    "all_data.columns"
   ]
  },
  {
   "cell_type": "code",
   "execution_count": 28,
   "id": "c116686f",
   "metadata": {
    "execution": {
     "iopub.execute_input": "2022-12-12T19:29:26.389988Z",
     "iopub.status.busy": "2022-12-12T19:29:26.388608Z",
     "iopub.status.idle": "2022-12-12T19:29:26.398663Z",
     "shell.execute_reply": "2022-12-12T19:29:26.397156Z"
    },
    "papermill": {
     "duration": 0.045162,
     "end_time": "2022-12-12T19:29:26.401561",
     "exception": false,
     "start_time": "2022-12-12T19:29:26.356399",
     "status": "completed"
    },
    "tags": []
   },
   "outputs": [],
   "source": [
    "train_data.drop(['PassengerId','Name', 'Sex', 'Age', 'SibSp',\n",
    "                 'Parch', 'Ticket', 'Fare', 'Cabin', 'Embarked'], axis = 1, inplace = True)\n",
    "\n",
    "test_data.drop(['PassengerId','Name', 'Sex', 'Age', 'SibSp',\n",
    "                 'Parch', 'Ticket', 'Fare', 'Cabin', 'Embarked'], axis = 1, inplace = True)"
   ]
  },
  {
   "cell_type": "code",
   "execution_count": 29,
   "id": "217ecaa6",
   "metadata": {
    "execution": {
     "iopub.execute_input": "2022-12-12T19:29:26.464684Z",
     "iopub.status.busy": "2022-12-12T19:29:26.463881Z",
     "iopub.status.idle": "2022-12-12T19:29:26.470858Z",
     "shell.execute_reply": "2022-12-12T19:29:26.469399Z"
    },
    "papermill": {
     "duration": 0.0417,
     "end_time": "2022-12-12T19:29:26.473588",
     "exception": false,
     "start_time": "2022-12-12T19:29:26.431888",
     "status": "completed"
    },
    "tags": []
   },
   "outputs": [
    {
     "name": "stdout",
     "output_type": "stream",
     "text": [
      "Train data column names:  Index(['Survived', 'Pclass', 'AgeGroup_code', 'FareBins_code', 'Sex_cat',\n",
      "       'Family_Size', 'Family_Survival'],\n",
      "      dtype='object')\n",
      "\n",
      "Test data column names:  Index(['Pclass', 'AgeGroup_code', 'FareBins_code', 'Sex_cat', 'Family_Size',\n",
      "       'Family_Survival'],\n",
      "      dtype='object')\n"
     ]
    }
   ],
   "source": [
    "print(\"Train data column names: \", train_data.columns)\n",
    "print(\"\\nTest data column names: \", test_data.columns)"
   ]
  },
  {
   "cell_type": "markdown",
   "id": "415b28b9",
   "metadata": {
    "papermill": {
     "duration": 0.030363,
     "end_time": "2022-12-12T19:29:26.534487",
     "exception": false,
     "start_time": "2022-12-12T19:29:26.504124",
     "status": "completed"
    },
    "tags": []
   },
   "source": [
    "#### From now on we will continue to work with the training set (train_data) and not with all the data"
   ]
  },
  {
   "cell_type": "markdown",
   "id": "9c9ce50d",
   "metadata": {
    "papermill": {
     "duration": 0.030153,
     "end_time": "2022-12-12T19:29:26.596701",
     "exception": false,
     "start_time": "2022-12-12T19:29:26.566548",
     "status": "completed"
    },
    "tags": []
   },
   "source": [
    "### **Statistical information and visualization:**"
   ]
  },
  {
   "cell_type": "code",
   "execution_count": 30,
   "id": "3464eb38",
   "metadata": {
    "execution": {
     "iopub.execute_input": "2022-12-12T19:29:26.660324Z",
     "iopub.status.busy": "2022-12-12T19:29:26.659424Z",
     "iopub.status.idle": "2022-12-12T19:29:26.692092Z",
     "shell.execute_reply": "2022-12-12T19:29:26.690811Z"
    },
    "papermill": {
     "duration": 0.067427,
     "end_time": "2022-12-12T19:29:26.694893",
     "exception": false,
     "start_time": "2022-12-12T19:29:26.627466",
     "status": "completed"
    },
    "tags": []
   },
   "outputs": [
    {
     "data": {
      "text/html": [
       "<div>\n",
       "<style scoped>\n",
       "    .dataframe tbody tr th:only-of-type {\n",
       "        vertical-align: middle;\n",
       "    }\n",
       "\n",
       "    .dataframe tbody tr th {\n",
       "        vertical-align: top;\n",
       "    }\n",
       "\n",
       "    .dataframe thead th {\n",
       "        text-align: right;\n",
       "    }\n",
       "</style>\n",
       "<table border=\"1\" class=\"dataframe\">\n",
       "  <thead>\n",
       "    <tr style=\"text-align: right;\">\n",
       "      <th></th>\n",
       "      <th>Survived</th>\n",
       "      <th>Pclass</th>\n",
       "      <th>AgeGroup_code</th>\n",
       "      <th>FareBins_code</th>\n",
       "      <th>Sex_cat</th>\n",
       "      <th>Family_Size</th>\n",
       "      <th>Family_Survival</th>\n",
       "    </tr>\n",
       "  </thead>\n",
       "  <tbody>\n",
       "    <tr>\n",
       "      <th>count</th>\n",
       "      <td>891.000000</td>\n",
       "      <td>891.000000</td>\n",
       "      <td>891.000000</td>\n",
       "      <td>891.000000</td>\n",
       "      <td>891.000000</td>\n",
       "      <td>891.000000</td>\n",
       "      <td>891.000000</td>\n",
       "    </tr>\n",
       "    <tr>\n",
       "      <th>mean</th>\n",
       "      <td>0.383838</td>\n",
       "      <td>2.308642</td>\n",
       "      <td>0.450056</td>\n",
       "      <td>1.985410</td>\n",
       "      <td>0.647587</td>\n",
       "      <td>0.904602</td>\n",
       "      <td>0.519641</td>\n",
       "    </tr>\n",
       "    <tr>\n",
       "      <th>std</th>\n",
       "      <td>0.486592</td>\n",
       "      <td>0.836071</td>\n",
       "      <td>0.992402</td>\n",
       "      <td>1.411355</td>\n",
       "      <td>0.477990</td>\n",
       "      <td>1.613459</td>\n",
       "      <td>0.323961</td>\n",
       "    </tr>\n",
       "    <tr>\n",
       "      <th>min</th>\n",
       "      <td>0.000000</td>\n",
       "      <td>1.000000</td>\n",
       "      <td>0.000000</td>\n",
       "      <td>0.000000</td>\n",
       "      <td>0.000000</td>\n",
       "      <td>0.000000</td>\n",
       "      <td>0.000000</td>\n",
       "    </tr>\n",
       "    <tr>\n",
       "      <th>25%</th>\n",
       "      <td>0.000000</td>\n",
       "      <td>2.000000</td>\n",
       "      <td>0.000000</td>\n",
       "      <td>1.000000</td>\n",
       "      <td>0.000000</td>\n",
       "      <td>0.000000</td>\n",
       "      <td>0.500000</td>\n",
       "    </tr>\n",
       "    <tr>\n",
       "      <th>50%</th>\n",
       "      <td>0.000000</td>\n",
       "      <td>3.000000</td>\n",
       "      <td>0.000000</td>\n",
       "      <td>2.000000</td>\n",
       "      <td>1.000000</td>\n",
       "      <td>0.000000</td>\n",
       "      <td>0.500000</td>\n",
       "    </tr>\n",
       "    <tr>\n",
       "      <th>75%</th>\n",
       "      <td>1.000000</td>\n",
       "      <td>3.000000</td>\n",
       "      <td>0.000000</td>\n",
       "      <td>3.000000</td>\n",
       "      <td>1.000000</td>\n",
       "      <td>1.000000</td>\n",
       "      <td>0.500000</td>\n",
       "    </tr>\n",
       "    <tr>\n",
       "      <th>max</th>\n",
       "      <td>1.000000</td>\n",
       "      <td>3.000000</td>\n",
       "      <td>3.000000</td>\n",
       "      <td>4.000000</td>\n",
       "      <td>1.000000</td>\n",
       "      <td>10.000000</td>\n",
       "      <td>1.000000</td>\n",
       "    </tr>\n",
       "  </tbody>\n",
       "</table>\n",
       "</div>"
      ],
      "text/plain": [
       "         Survived      Pclass  AgeGroup_code  FareBins_code     Sex_cat  \\\n",
       "count  891.000000  891.000000     891.000000     891.000000  891.000000   \n",
       "mean     0.383838    2.308642       0.450056       1.985410    0.647587   \n",
       "std      0.486592    0.836071       0.992402       1.411355    0.477990   \n",
       "min      0.000000    1.000000       0.000000       0.000000    0.000000   \n",
       "25%      0.000000    2.000000       0.000000       1.000000    0.000000   \n",
       "50%      0.000000    3.000000       0.000000       2.000000    1.000000   \n",
       "75%      1.000000    3.000000       0.000000       3.000000    1.000000   \n",
       "max      1.000000    3.000000       3.000000       4.000000    1.000000   \n",
       "\n",
       "       Family_Size  Family_Survival  \n",
       "count   891.000000       891.000000  \n",
       "mean      0.904602         0.519641  \n",
       "std       1.613459         0.323961  \n",
       "min       0.000000         0.000000  \n",
       "25%       0.000000         0.500000  \n",
       "50%       0.000000         0.500000  \n",
       "75%       1.000000         0.500000  \n",
       "max      10.000000         1.000000  "
      ]
     },
     "execution_count": 30,
     "metadata": {},
     "output_type": "execute_result"
    }
   ],
   "source": [
    "train_data.describe(include='all')"
   ]
  },
  {
   "cell_type": "code",
   "execution_count": 31,
   "id": "f3055802",
   "metadata": {
    "execution": {
     "iopub.execute_input": "2022-12-12T19:29:26.759803Z",
     "iopub.status.busy": "2022-12-12T19:29:26.759057Z",
     "iopub.status.idle": "2022-12-12T19:29:27.886422Z",
     "shell.execute_reply": "2022-12-12T19:29:27.885181Z"
    },
    "papermill": {
     "duration": 1.164238,
     "end_time": "2022-12-12T19:29:27.889621",
     "exception": false,
     "start_time": "2022-12-12T19:29:26.725383",
     "status": "completed"
    },
    "tags": []
   },
   "outputs": [
    {
     "data": {
      "text/plain": [
       "Text(0.5, 0, 'Fare Range')"
      ]
     },
     "execution_count": 31,
     "metadata": {},
     "output_type": "execute_result"
    },
    {
     "data": {
      "image/png": "[encoded data removed]",
      "text/plain": [
       "<Figure size 1080x1440 with 7 Axes>"
      ]
     },
     "metadata": {
      "needs_background": "light"
     },
     "output_type": "display_data"
    }
   ],
   "source": [
    "plt.figure(figsize = (15,20))\n",
    "\n",
    "plt.subplot(3, 3, 1)\n",
    "sns.countplot(x = 'Survived', data = train_data.replace({'Survived':{0:'dead', 1:'survived'}}))\n",
    "plt.title(\"How Many Survived\")\n",
    "\n",
    "plt.subplot(3, 3, 2)\n",
    "sns.countplot(x = \"Sex_cat\", data = train_data.replace({'Sex_cat':{0:'females', 1:'males'}}))\n",
    "plt.title(\"Sex Counting\")\n",
    "plt.xlabel(\"Sex\")\n",
    "\n",
    "plt.subplot(3, 3, 3)\n",
    "sns.countplot(x = \"AgeGroup_code\", data = train_data.replace({'AgeGroup_code':{0:'Adult',1:'Infant',2:'Kid',3:'Teen'}}))\n",
    "plt.title(\"Age Distribution\")\n",
    "plt.xlabel(\"Age Group\")\n",
    "\n",
    "plt.subplot(3, 3, 4)\n",
    "sns.countplot(x = 'Pclass', data = train_data.replace({'Pclass':{1:'1st', 2:'2nd', 3:'3rd'}}))\n",
    "plt.title('Ticket Class')\n",
    "plt.xlabel(\"Class\")\n",
    "\n",
    "plt.subplot(3, 3, 5)\n",
    "sns.countplot(x = 'Family_Size', data = train_data)\n",
    "plt.title(\"Family Size\")\n",
    "\n",
    "plt.subplot(3, 3, 6)\n",
    "sns.countplot(x = 'Family_Survival', data = train_data)\n",
    "plt.title('Family Survival')\n",
    "\n",
    "plt.subplot(3, 3, 7)\n",
    "sns.countplot(x = 'FareBins_code', data = train_data.replace({'FareBins_code':{0:'(-0.001, 7.854]',\n",
    "                                                                              1:'(7.854, 10.5]',\n",
    "                                                                              2:'(10.5, 21.558]',\n",
    "                                                                              3:'(21.558, 41.579]',\n",
    "                                                                              4:'(41.579, 512.329]'}}))\n",
    "plt.title('Passenger fare')\n",
    "plt.xticks(rotation = 45)\n",
    "plt.xlabel(\"Fare Range\")"
   ]
  },
  {
   "cell_type": "markdown",
   "id": "6b7e8c49",
   "metadata": {
    "papermill": {
     "duration": 0.034235,
     "end_time": "2022-12-12T19:29:27.956993",
     "exception": false,
     "start_time": "2022-12-12T19:29:27.922758",
     "status": "completed"
    },
    "tags": []
   },
   "source": [
    " #### According to the descriptive statistics table and the plots above-\n",
    "\n",
    "**Survived:**\n",
    "- Most of the passengers didn't survived (as we already know...), the mean = 0.3838 and the median = 0.\n",
    "\n",
    "**Ticket Class (Pclass):**\n",
    "- The mean = 2.3 and the median = 3, indicates that most tickets are for third class.\n",
    "\n",
    "**Age/AgeGroup_code**\n",
    "- The average AgeGroup_code is 0.45 and the median is 0, with a std of ~0.99. Most of the passengers are adults.\n",
    "\n",
    "**Fare/FareBins_code**\n",
    "- It seems that most of the passengers paids for the trip between 7.854 to 10.5 and between 21.558 to 41.579.\n",
    "\n",
    "**Sex**\n",
    "- Most of passengers are males.\n",
    "\n",
    "**Family Size:**\n",
    "- Most of the passengers came alone (mean = 0.9, std = 1.6).\n",
    "\n",
    "**Family Survival:**\n",
    "- There is no substantial evidence that being with family or being part of a group changes the chance of survival."
   ]
  },
  {
   "cell_type": "markdown",
   "id": "3185ae9c",
   "metadata": {
    "papermill": {
     "duration": 0.030939,
     "end_time": "2022-12-12T19:29:28.019975",
     "exception": false,
     "start_time": "2022-12-12T19:29:27.989036",
     "status": "completed"
    },
    "tags": []
   },
   "source": [
    "#### We want to evaluate which features are affecting the chance to survive.\n",
    "#### Accordingly, let's visually examine the connection."
   ]
  },
  {
   "cell_type": "markdown",
   "id": "a074b717",
   "metadata": {
    "papermill": {
     "duration": 0.032788,
     "end_time": "2022-12-12T19:29:28.084139",
     "exception": false,
     "start_time": "2022-12-12T19:29:28.051351",
     "status": "completed"
    },
    "tags": []
   },
   "source": [
    "**Survived ~ Sex**"
   ]
  },
  {
   "cell_type": "code",
   "execution_count": 32,
   "id": "b6c3512b",
   "metadata": {
    "execution": {
     "iopub.execute_input": "2022-12-12T19:29:28.155994Z",
     "iopub.status.busy": "2022-12-12T19:29:28.155158Z",
     "iopub.status.idle": "2022-12-12T19:29:28.394973Z",
     "shell.execute_reply": "2022-12-12T19:29:28.393671Z"
    },
    "papermill": {
     "duration": 0.280289,
     "end_time": "2022-12-12T19:29:28.398253",
     "exception": false,
     "start_time": "2022-12-12T19:29:28.117964",
     "status": "completed"
    },
    "tags": []
   },
   "outputs": [
    {
     "name": "stdout",
     "output_type": "stream",
     "text": [
      "% of men who survived: 0.18890814558058924\n",
      "% of women who survived: 0.7420382165605095\n"
     ]
    },
    {
     "data": {
      "text/plain": [
       "<matplotlib.legend.Legend at 0x7f8b8b6b33d0>"
      ]
     },
     "execution_count": 32,
     "metadata": {},
     "output_type": "execute_result"
    },
    {
     "data": {
      "image/png": "[encoded data removed]",
      "text/plain": [
       "<Figure size 432x288 with 1 Axes>"
      ]
     },
     "metadata": {
      "needs_background": "light"
     },
     "output_type": "display_data"
    }
   ],
   "source": [
    "women = train_data.loc[train_data.Sex_cat == 0]['Survived']\n",
    "rate_women = sum(women) / len(women)\n",
    "\n",
    "men = train_data.loc[train_data.Sex_cat == 1]['Survived']\n",
    "rate_men = sum(men) / len(men)\n",
    "\n",
    "print(\"% of men who survived:\", rate_men)\n",
    "print(\"% of women who survived:\", rate_women)\n",
    "\n",
    "sns.countplot(x = 'Sex_cat', data = train_data.replace({'Sex_cat':{0:'females', 1:'males'}}), hue = 'Survived')\n",
    "plt.xlabel(\"Sex\")\n",
    "plt.legend(labels = ['dead', 'survived'], title = 'Survived')"
   ]
  },
  {
   "cell_type": "markdown",
   "id": "a85d8d65",
   "metadata": {
    "papermill": {
     "duration": 0.033371,
     "end_time": "2022-12-12T19:29:28.463745",
     "exception": false,
     "start_time": "2022-12-12T19:29:28.430374",
     "status": "completed"
    },
    "tags": []
   },
   "source": [
    "**Survived ~ Ticket Class (Pclass)**"
   ]
  },
  {
   "cell_type": "code",
   "execution_count": 33,
   "id": "a9bfedd6",
   "metadata": {
    "execution": {
     "iopub.execute_input": "2022-12-12T19:29:28.532371Z",
     "iopub.status.busy": "2022-12-12T19:29:28.531390Z",
     "iopub.status.idle": "2022-12-12T19:29:28.790952Z",
     "shell.execute_reply": "2022-12-12T19:29:28.789775Z"
    },
    "papermill": {
     "duration": 0.297305,
     "end_time": "2022-12-12T19:29:28.794377",
     "exception": false,
     "start_time": "2022-12-12T19:29:28.497072",
     "status": "completed"
    },
    "tags": []
   },
   "outputs": [
    {
     "name": "stdout",
     "output_type": "stream",
     "text": [
      "% of class 1 who survived: 0.6296296296296297\n",
      "% of class 2 who survived: 0.47282608695652173\n",
      "% of class 3 who survived: 0.24236252545824846\n"
     ]
    },
    {
     "data": {
      "text/plain": [
       "<matplotlib.legend.Legend at 0x7f8b8936dd50>"
      ]
     },
     "execution_count": 33,
     "metadata": {},
     "output_type": "execute_result"
    },
    {
     "data": {
      "image/png": "[encoded data removed]",
      "text/plain": [
       "<Figure size 432x288 with 1 Axes>"
      ]
     },
     "metadata": {
      "needs_background": "light"
     },
     "output_type": "display_data"
    }
   ],
   "source": [
    "class1 = train_data.loc[train_data.Pclass == 1]['Survived']\n",
    "rate_class1 = sum(class1) / len(class1)\n",
    "\n",
    "class2 = train_data.loc[train_data.Pclass == 2]['Survived']\n",
    "rate_class2 = sum(class2) / len(class2)\n",
    "\n",
    "class3 = train_data.loc[train_data.Pclass == 3]['Survived']\n",
    "rate_class3 = sum(class3) / len(class3)\n",
    "\n",
    "print(\"% of class 1 who survived:\", rate_class1)\n",
    "print(\"% of class 2 who survived:\", rate_class2)\n",
    "print(\"% of class 3 who survived:\", rate_class3)\n",
    "\n",
    "sns.countplot(x = 'Pclass', data = train_data, hue = 'Survived')\n",
    "plt.xlabel(\"Class\")\n",
    "plt.legend(labels = ['dead', 'survived'], title = 'Survived')"
   ]
  },
  {
   "cell_type": "markdown",
   "id": "fde3177f",
   "metadata": {
    "papermill": {
     "duration": 0.032839,
     "end_time": "2022-12-12T19:29:28.860127",
     "exception": false,
     "start_time": "2022-12-12T19:29:28.827288",
     "status": "completed"
    },
    "tags": []
   },
   "source": [
    "**Survived ~ Family Size**"
   ]
  },
  {
   "cell_type": "code",
   "execution_count": 34,
   "id": "649bba1c",
   "metadata": {
    "execution": {
     "iopub.execute_input": "2022-12-12T19:29:28.927598Z",
     "iopub.status.busy": "2022-12-12T19:29:28.926717Z",
     "iopub.status.idle": "2022-12-12T19:29:29.235904Z",
     "shell.execute_reply": "2022-12-12T19:29:29.234922Z"
    },
    "papermill": {
     "duration": 0.346166,
     "end_time": "2022-12-12T19:29:29.238673",
     "exception": false,
     "start_time": "2022-12-12T19:29:28.892507",
     "status": "completed"
    },
    "tags": []
   },
   "outputs": [
    {
     "name": "stdout",
     "output_type": "stream",
     "text": [
      "% of passengers who have  1  of family members aboard the Titanic that survived: 0.5527950310559007\n",
      "% of passengers who have  0  of family members aboard the Titanic that survived: 0.30353817504655495\n",
      "% of passengers who have  4  of family members aboard the Titanic that survived: 0.2\n",
      "% of passengers who have  2  of family members aboard the Titanic that survived: 0.5784313725490197\n",
      "% of passengers who have  6  of family members aboard the Titanic that survived: 0.3333333333333333\n",
      "% of passengers who have  5  of family members aboard the Titanic that survived: 0.13636363636363635\n",
      "% of passengers who have  3  of family members aboard the Titanic that survived: 0.7241379310344828\n",
      "% of passengers who have  7  of family members aboard the Titanic that survived: 0.0\n",
      "% of passengers who have  10  of family members aboard the Titanic that survived: 0.0\n"
     ]
    },
    {
     "data": {
      "text/plain": [
       "<matplotlib.legend.Legend at 0x7f8b8929d150>"
      ]
     },
     "execution_count": 34,
     "metadata": {},
     "output_type": "execute_result"
    },
    {
     "data": {
      "image/png": "[encoded data removed]",
      "text/plain": [
       "<Figure size 432x288 with 1 Axes>"
      ]
     },
     "metadata": {
      "needs_background": "light"
     },
     "output_type": "display_data"
    }
   ],
   "source": [
    "for i in train_data.Family_Size.unique():\n",
    "    temp_survived = train_data.loc[train_data.Family_Size == i]['Survived']\n",
    "    rate = sum(temp_survived) / len(temp_survived)\n",
    "    print(\"% of passengers who have \", i, \" of family members aboard the Titanic that survived:\", rate)\n",
    "    \n",
    "sns.countplot(x = 'Family_Size', data = train_data, hue = 'Survived')\n",
    "plt.legend(labels = ['dead', 'survived'], title = 'Survived', loc='upper right')"
   ]
  },
  {
   "cell_type": "markdown",
   "id": "55a29aa3",
   "metadata": {
    "papermill": {
     "duration": 0.034287,
     "end_time": "2022-12-12T19:29:29.307424",
     "exception": false,
     "start_time": "2022-12-12T19:29:29.273137",
     "status": "completed"
    },
    "tags": []
   },
   "source": [
    "**Survived ~ Fare**"
   ]
  },
  {
   "cell_type": "code",
   "execution_count": 35,
   "id": "6446275c",
   "metadata": {
    "execution": {
     "iopub.execute_input": "2022-12-12T19:29:29.377146Z",
     "iopub.status.busy": "2022-12-12T19:29:29.375684Z",
     "iopub.status.idle": "2022-12-12T19:29:29.659003Z",
     "shell.execute_reply": "2022-12-12T19:29:29.657643Z"
    },
    "papermill": {
     "duration": 0.320413,
     "end_time": "2022-12-12T19:29:29.661685",
     "exception": false,
     "start_time": "2022-12-12T19:29:29.341272",
     "status": "completed"
    },
    "tags": []
   },
   "outputs": [
    {
     "name": "stdout",
     "output_type": "stream",
     "text": [
      "% of passengers who paid in a range  (-0.001, 7.854]  for a ticket that survived: 0.21787709497206703\n",
      "% of passengers who paid in a range  (41.579, 512.329]  for a ticket that survived: 0.6453488372093024\n",
      "% of passengers who paid in a range  (7.854, 10.5]  for a ticket that survived: 0.20108695652173914\n",
      "% of passengers who paid in a range  (10.5, 21.558]  for a ticket that survived: 0.4269005847953216\n",
      "% of passengers who paid in a range  (21.558, 41.579]  for a ticket that survived: 0.44324324324324327\n"
     ]
    },
    {
     "data": {
      "text/plain": [
       "(array([0, 1, 2, 3, 4]),\n",
       " [Text(0, 0, '(-0.001, 7.854]'),\n",
       "  Text(1, 0, '(41.579, 512.329]'),\n",
       "  Text(2, 0, '(7.854, 10.5]'),\n",
       "  Text(3, 0, '(10.5, 21.558]'),\n",
       "  Text(4, 0, '(21.558, 41.579]')])"
      ]
     },
     "execution_count": 35,
     "metadata": {},
     "output_type": "execute_result"
    },
    {
     "data": {
      "image/png": "[encoded data removed]",
      "text/plain": [
       "<Figure size 432x288 with 1 Axes>"
      ]
     },
     "metadata": {
      "needs_background": "light"
     },
     "output_type": "display_data"
    }
   ],
   "source": [
    "temp_train = train_data.replace({'FareBins_code':{0:'(-0.001, 7.854]',1:'(7.854, 10.5]',\n",
    "                                                  2:'(10.5, 21.558]',3:'(21.558, 41.579]',4:'(41.579, 512.329]'}})\n",
    "for i in temp_train.FareBins_code.unique():\n",
    "    temp_survived = temp_train.loc[temp_train.FareBins_code == i]['Survived']\n",
    "    rate = sum(temp_survived) / len(temp_survived)\n",
    "    print(\"% of passengers who paid in a range \", i, \" for a ticket that survived:\", rate)\n",
    "    \n",
    "\n",
    "sns.countplot(x = 'FareBins_code', data = temp_train, hue = 'Survived')\n",
    "plt.xlabel(\"Fare Range\")\n",
    "plt.legend(labels = ['dead', 'survived'], title = 'Survived', loc='upper right')\n",
    "plt.xticks(rotation = 45)"
   ]
  },
  {
   "cell_type": "markdown",
   "id": "4db66b00",
   "metadata": {
    "papermill": {
     "duration": 0.033385,
     "end_time": "2022-12-12T19:29:29.728614",
     "exception": false,
     "start_time": "2022-12-12T19:29:29.695229",
     "status": "completed"
    },
    "tags": []
   },
   "source": [
    "**Survived ~ Age**"
   ]
  },
  {
   "cell_type": "code",
   "execution_count": 36,
   "id": "2e8835be",
   "metadata": {
    "execution": {
     "iopub.execute_input": "2022-12-12T19:29:29.797983Z",
     "iopub.status.busy": "2022-12-12T19:29:29.797453Z",
     "iopub.status.idle": "2022-12-12T19:29:30.236370Z",
     "shell.execute_reply": "2022-12-12T19:29:30.234882Z"
    },
    "papermill": {
     "duration": 0.477205,
     "end_time": "2022-12-12T19:29:30.239512",
     "exception": false,
     "start_time": "2022-12-12T19:29:29.762307",
     "status": "completed"
    },
    "tags": []
   },
   "outputs": [
    {
     "name": "stdout",
     "output_type": "stream",
     "text": [
      "% of Adults that survived: 0.36099585062240663\n",
      "% of Infants that survived: 0.6666666666666666\n",
      "% of Teens that survived: 0.4105263157894737\n",
      "% of Kids that survived: 0.5116279069767442\n"
     ]
    },
    {
     "data": {
      "text/plain": [
       "<matplotlib.legend.Legend at 0x7f8b89303d10>"
      ]
     },
     "execution_count": 36,
     "metadata": {},
     "output_type": "execute_result"
    },
    {
     "data": {
      "image/png": "[encoded data removed]",
      "text/plain": [
       "<Figure size 432x288 with 1 Axes>"
      ]
     },
     "metadata": {
      "needs_background": "light"
     },
     "output_type": "display_data"
    }
   ],
   "source": [
    "temp_train = train_data.replace({'AgeGroup_code':{0:'Adult',1:'Infant',2:'Kid',3:'Teen'}})\n",
    "for i in temp_train.AgeGroup_code.unique():\n",
    "    temp_survived = temp_train.loc[temp_train.AgeGroup_code == i]['Survived']\n",
    "    rate = sum(temp_survived) / len(temp_survived)\n",
    "    print(\"% of\", i + 's', \"that survived:\", rate)\n",
    "\n",
    "sns.countplot(x = 'AgeGroup_code', data = temp_train, hue = 'Survived')\n",
    "plt.xlabel(\"Age Group\")\n",
    "plt.legend(labels = ['dead', 'survived'], title = 'Survived')"
   ]
  },
  {
   "cell_type": "markdown",
   "id": "59210606",
   "metadata": {
    "papermill": {
     "duration": 0.034921,
     "end_time": "2022-12-12T19:29:30.309785",
     "exception": false,
     "start_time": "2022-12-12T19:29:30.274864",
     "status": "completed"
    },
    "tags": []
   },
   "source": [
    "###### The features- PassengerId, Name, Number of Ticket, Cabin, Embarked and Fare, are not affecting in any way the chance to survive or not."
   ]
  },
  {
   "cell_type": "markdown",
   "id": "290e05a8",
   "metadata": {
    "papermill": {
     "duration": 0.034235,
     "end_time": "2022-12-12T19:29:30.378080",
     "exception": false,
     "start_time": "2022-12-12T19:29:30.343845",
     "status": "completed"
    },
    "tags": []
   },
   "source": [
    "# **Model Building**"
   ]
  },
  {
   "cell_type": "markdown",
   "id": "6e464345",
   "metadata": {
    "papermill": {
     "duration": 0.034449,
     "end_time": "2022-12-12T19:29:30.446742",
     "exception": false,
     "start_time": "2022-12-12T19:29:30.412293",
     "status": "completed"
    },
    "tags": []
   },
   "source": [
    "### Data Preparation\n",
    "\n",
    "Before using the classification models, let's prepered our data:"
   ]
  },
  {
   "cell_type": "code",
   "execution_count": 37,
   "id": "61b246c6",
   "metadata": {
    "execution": {
     "iopub.execute_input": "2022-12-12T19:29:30.516928Z",
     "iopub.status.busy": "2022-12-12T19:29:30.516387Z",
     "iopub.status.idle": "2022-12-12T19:29:30.523347Z",
     "shell.execute_reply": "2022-12-12T19:29:30.522278Z"
    },
    "papermill": {
     "duration": 0.044649,
     "end_time": "2022-12-12T19:29:30.525630",
     "exception": false,
     "start_time": "2022-12-12T19:29:30.480981",
     "status": "completed"
    },
    "tags": []
   },
   "outputs": [],
   "source": [
    "X = train_data.loc[:, train_data.columns != \"Survived\"]\n",
    "y = train_data[\"Survived\"].values"
   ]
  },
  {
   "cell_type": "markdown",
   "id": "488f0149",
   "metadata": {
    "papermill": {
     "duration": 0.034824,
     "end_time": "2022-12-12T19:29:30.595054",
     "exception": false,
     "start_time": "2022-12-12T19:29:30.560230",
     "status": "completed"
    },
    "tags": []
   },
   "source": [
    "The feature matrix, X:"
   ]
  },
  {
   "cell_type": "code",
   "execution_count": 38,
   "id": "97c2fd24",
   "metadata": {
    "execution": {
     "iopub.execute_input": "2022-12-12T19:29:30.667544Z",
     "iopub.status.busy": "2022-12-12T19:29:30.666130Z",
     "iopub.status.idle": "2022-12-12T19:29:30.679177Z",
     "shell.execute_reply": "2022-12-12T19:29:30.678027Z"
    },
    "papermill": {
     "duration": 0.050997,
     "end_time": "2022-12-12T19:29:30.681737",
     "exception": false,
     "start_time": "2022-12-12T19:29:30.630740",
     "status": "completed"
    },
    "tags": []
   },
   "outputs": [
    {
     "data": {
      "text/html": [
       "<div>\n",
       "<style scoped>\n",
       "    .dataframe tbody tr th:only-of-type {\n",
       "        vertical-align: middle;\n",
       "    }\n",
       "\n",
       "    .dataframe tbody tr th {\n",
       "        vertical-align: top;\n",
       "    }\n",
       "\n",
       "    .dataframe thead th {\n",
       "        text-align: right;\n",
       "    }\n",
       "</style>\n",
       "<table border=\"1\" class=\"dataframe\">\n",
       "  <thead>\n",
       "    <tr style=\"text-align: right;\">\n",
       "      <th></th>\n",
       "      <th>Pclass</th>\n",
       "      <th>AgeGroup_code</th>\n",
       "      <th>FareBins_code</th>\n",
       "      <th>Sex_cat</th>\n",
       "      <th>Family_Size</th>\n",
       "      <th>Family_Survival</th>\n",
       "    </tr>\n",
       "  </thead>\n",
       "  <tbody>\n",
       "    <tr>\n",
       "      <th>0</th>\n",
       "      <td>3</td>\n",
       "      <td>0</td>\n",
       "      <td>0</td>\n",
       "      <td>1</td>\n",
       "      <td>1</td>\n",
       "      <td>0.5</td>\n",
       "    </tr>\n",
       "    <tr>\n",
       "      <th>1</th>\n",
       "      <td>1</td>\n",
       "      <td>0</td>\n",
       "      <td>4</td>\n",
       "      <td>0</td>\n",
       "      <td>1</td>\n",
       "      <td>0.5</td>\n",
       "    </tr>\n",
       "    <tr>\n",
       "      <th>2</th>\n",
       "      <td>3</td>\n",
       "      <td>0</td>\n",
       "      <td>1</td>\n",
       "      <td>0</td>\n",
       "      <td>0</td>\n",
       "      <td>0.5</td>\n",
       "    </tr>\n",
       "    <tr>\n",
       "      <th>3</th>\n",
       "      <td>1</td>\n",
       "      <td>0</td>\n",
       "      <td>4</td>\n",
       "      <td>0</td>\n",
       "      <td>1</td>\n",
       "      <td>0.0</td>\n",
       "    </tr>\n",
       "    <tr>\n",
       "      <th>4</th>\n",
       "      <td>3</td>\n",
       "      <td>0</td>\n",
       "      <td>1</td>\n",
       "      <td>1</td>\n",
       "      <td>0</td>\n",
       "      <td>0.5</td>\n",
       "    </tr>\n",
       "  </tbody>\n",
       "</table>\n",
       "</div>"
      ],
      "text/plain": [
       "   Pclass  AgeGroup_code  FareBins_code  Sex_cat  Family_Size  Family_Survival\n",
       "0       3              0              0        1            1              0.5\n",
       "1       1              0              4        0            1              0.5\n",
       "2       3              0              1        0            0              0.5\n",
       "3       1              0              4        0            1              0.0\n",
       "4       3              0              1        1            0              0.5"
      ]
     },
     "execution_count": 38,
     "metadata": {},
     "output_type": "execute_result"
    }
   ],
   "source": [
    "X.head()"
   ]
  },
  {
   "cell_type": "markdown",
   "id": "ec63d7ae",
   "metadata": {
    "papermill": {
     "duration": 0.035071,
     "end_time": "2022-12-12T19:29:30.750997",
     "exception": false,
     "start_time": "2022-12-12T19:29:30.715926",
     "status": "completed"
    },
    "tags": []
   },
   "source": [
    "The target column, y:"
   ]
  },
  {
   "cell_type": "code",
   "execution_count": 39,
   "id": "7ead7f6a",
   "metadata": {
    "execution": {
     "iopub.execute_input": "2022-12-12T19:29:30.822293Z",
     "iopub.status.busy": "2022-12-12T19:29:30.821772Z",
     "iopub.status.idle": "2022-12-12T19:29:30.829734Z",
     "shell.execute_reply": "2022-12-12T19:29:30.828426Z"
    },
    "papermill": {
     "duration": 0.045909,
     "end_time": "2022-12-12T19:29:30.832243",
     "exception": false,
     "start_time": "2022-12-12T19:29:30.786334",
     "status": "completed"
    },
    "tags": []
   },
   "outputs": [
    {
     "data": {
      "text/plain": [
       "array([0, 1, 1, 1, 0])"
      ]
     },
     "execution_count": 39,
     "metadata": {},
     "output_type": "execute_result"
    }
   ],
   "source": [
    "y[:5]"
   ]
  },
  {
   "cell_type": "markdown",
   "id": "a3d37fc4",
   "metadata": {
    "papermill": {
     "duration": 0.0358,
     "end_time": "2022-12-12T19:29:30.902322",
     "exception": false,
     "start_time": "2022-12-12T19:29:30.866522",
     "status": "completed"
    },
    "tags": []
   },
   "source": [
    "#### Splitting the dataset into the Training set and Test set"
   ]
  },
  {
   "cell_type": "code",
   "execution_count": 40,
   "id": "0de50a15",
   "metadata": {
    "execution": {
     "iopub.execute_input": "2022-12-12T19:29:30.975691Z",
     "iopub.status.busy": "2022-12-12T19:29:30.974902Z",
     "iopub.status.idle": "2022-12-12T19:29:31.039348Z",
     "shell.execute_reply": "2022-12-12T19:29:31.038114Z"
    },
    "papermill": {
     "duration": 0.104451,
     "end_time": "2022-12-12T19:29:31.042342",
     "exception": false,
     "start_time": "2022-12-12T19:29:30.937891",
     "status": "completed"
    },
    "tags": []
   },
   "outputs": [],
   "source": [
    "from sklearn.model_selection import train_test_split\n",
    "X_train, X_test, y_train, y_test = train_test_split(X, y, test_size = 0.25, random_state = 0)"
   ]
  },
  {
   "cell_type": "markdown",
   "id": "374bcd30",
   "metadata": {
    "papermill": {
     "duration": 0.036801,
     "end_time": "2022-12-12T19:29:31.116508",
     "exception": false,
     "start_time": "2022-12-12T19:29:31.079707",
     "status": "completed"
    },
    "tags": []
   },
   "source": [
    "#### Feature Scaling"
   ]
  },
  {
   "cell_type": "code",
   "execution_count": 41,
   "id": "7ba05561",
   "metadata": {
    "execution": {
     "iopub.execute_input": "2022-12-12T19:29:31.190894Z",
     "iopub.status.busy": "2022-12-12T19:29:31.190399Z",
     "iopub.status.idle": "2022-12-12T19:29:31.203895Z",
     "shell.execute_reply": "2022-12-12T19:29:31.202724Z"
    },
    "papermill": {
     "duration": 0.05282,
     "end_time": "2022-12-12T19:29:31.206176",
     "exception": false,
     "start_time": "2022-12-12T19:29:31.153356",
     "status": "completed"
    },
    "tags": []
   },
   "outputs": [],
   "source": [
    "# feature scaling\n",
    "from sklearn.preprocessing import StandardScaler\n",
    "sc = StandardScaler()\n",
    "X_train = sc.fit_transform(X_train)\n",
    "X_test = sc.transform(X_test)"
   ]
  },
  {
   "cell_type": "markdown",
   "id": "8e1c7ec3",
   "metadata": {
    "papermill": {
     "duration": 0.033842,
     "end_time": "2022-12-12T19:29:31.274918",
     "exception": false,
     "start_time": "2022-12-12T19:29:31.241076",
     "status": "completed"
    },
    "tags": []
   },
   "source": [
    "## **Feature and Model Selection**"
   ]
  },
  {
   "cell_type": "code",
   "execution_count": 42,
   "id": "40bc6e1c",
   "metadata": {
    "execution": {
     "iopub.execute_input": "2022-12-12T19:29:31.353751Z",
     "iopub.status.busy": "2022-12-12T19:29:31.352886Z",
     "iopub.status.idle": "2022-12-12T19:29:31.499807Z",
     "shell.execute_reply": "2022-12-12T19:29:31.498459Z"
    },
    "papermill": {
     "duration": 0.185991,
     "end_time": "2022-12-12T19:29:31.503002",
     "exception": false,
     "start_time": "2022-12-12T19:29:31.317011",
     "status": "completed"
    },
    "tags": []
   },
   "outputs": [],
   "source": [
    "from sklearn.model_selection import cross_val_score, GridSearchCV, RepeatedStratifiedKFold, RandomizedSearchCV\n",
    "#cross_val_predict, KFold, \n",
    "from sklearn.metrics import confusion_matrix, accuracy_score, ConfusionMatrixDisplay\n",
    "from sklearn.pipeline import Pipeline\n",
    "from sklearn.feature_selection import RFECV"
   ]
  },
  {
   "cell_type": "markdown",
   "id": "17b62079",
   "metadata": {
    "papermill": {
     "duration": 0.034573,
     "end_time": "2022-12-12T19:29:31.572752",
     "exception": false,
     "start_time": "2022-12-12T19:29:31.538179",
     "status": "completed"
    },
    "tags": []
   },
   "source": [
    "Let's run RFECV with different estimators to select features.\n",
    "\n",
    "Additionally, let's run some classification models, to get an intuition about which estimator and classification algorithm will give us the best results.\n",
    "\n",
    "Once we have selected the estimator and the model, we can check which features are selected and use GridSearchCV / RandomizedSearchCV to find the best hyperparameters for the selected model."
   ]
  },
  {
   "cell_type": "code",
   "execution_count": 43,
   "id": "4655ecf5",
   "metadata": {
    "execution": {
     "iopub.execute_input": "2022-12-12T19:29:31.643588Z",
     "iopub.status.busy": "2022-12-12T19:29:31.643130Z",
     "iopub.status.idle": "2022-12-12T19:29:31.741154Z",
     "shell.execute_reply": "2022-12-12T19:29:31.739785Z"
    },
    "papermill": {
     "duration": 0.13706,
     "end_time": "2022-12-12T19:29:31.744323",
     "exception": false,
     "start_time": "2022-12-12T19:29:31.607263",
     "status": "completed"
    },
    "tags": []
   },
   "outputs": [],
   "source": [
    "from sklearn.linear_model import LogisticRegression\n",
    "from sklearn.linear_model import Perceptron\n",
    "from sklearn.tree import DecisionTreeClassifier\n",
    "from sklearn.ensemble import RandomForestClassifier\n",
    "from sklearn.ensemble import GradientBoostingClassifier\n",
    "from sklearn.svm import SVC\n",
    "from sklearn.naive_bayes import GaussianNB\n",
    "from sklearn.neighbors import KNeighborsClassifier"
   ]
  },
  {
   "cell_type": "code",
   "execution_count": 44,
   "id": "95d1ef69",
   "metadata": {
    "execution": {
     "iopub.execute_input": "2022-12-12T19:29:31.817324Z",
     "iopub.status.busy": "2022-12-12T19:29:31.816844Z",
     "iopub.status.idle": "2022-12-12T19:29:31.830043Z",
     "shell.execute_reply": "2022-12-12T19:29:31.829072Z"
    },
    "papermill": {
     "duration": 0.053054,
     "end_time": "2022-12-12T19:29:31.832169",
     "exception": false,
     "start_time": "2022-12-12T19:29:31.779115",
     "status": "completed"
    },
    "tags": []
   },
   "outputs": [],
   "source": [
    "# get a list of models to evaluate\n",
    "def get_models(modelc):\n",
    "    models = dict()\n",
    "    # lr\n",
    "    rfe = RFECV(estimator=LogisticRegression())\n",
    "    model = modelc\n",
    "    models['lr'] = Pipeline(steps=[('s',rfe),('m',model)])\n",
    "    # perceptron\n",
    "    rfe = RFECV(estimator=Perceptron())\n",
    "    model = modelc\n",
    "    models['per'] = Pipeline(steps=[('s',rfe),('m',model)])\n",
    "    # cart\n",
    "    rfe = RFECV(estimator=DecisionTreeClassifier())\n",
    "    model = modelc\n",
    "    models['cart'] = Pipeline(steps=[('s',rfe),('m',model)])\n",
    "    # rf\n",
    "    rfe = RFECV(estimator=RandomForestClassifier())\n",
    "    model = modelc\n",
    "    models['rf'] = Pipeline(steps=[('s',rfe),('m',model)])\n",
    "    # gbm\n",
    "    rfe = RFECV(estimator=GradientBoostingClassifier())\n",
    "    model = modelc\n",
    "    models['gbm'] = Pipeline(steps=[('s',rfe),('m',model)])\n",
    "    # svm\n",
    "    rfe = RFECV(estimator=SVC(kernel='linear'))\n",
    "    model = modelc\n",
    "    models['svm'] = Pipeline(steps=[('s',rfe),('m',model)])\n",
    "    return models\n",
    "\n",
    "# evaluate a give model using cross-validation\n",
    "def evaluate_model(model, X, y):\n",
    "    cv = RepeatedStratifiedKFold(n_splits=10, n_repeats=3, random_state=1)\n",
    "    scores = cross_val_score(model, X, y, scoring='accuracy', cv=cv, n_jobs=-1)\n",
    "    return scores"
   ]
  },
  {
   "cell_type": "code",
   "execution_count": 45,
   "id": "1b2014b5",
   "metadata": {
    "execution": {
     "iopub.execute_input": "2022-12-12T19:29:31.903366Z",
     "iopub.status.busy": "2022-12-12T19:29:31.902814Z",
     "iopub.status.idle": "2022-12-12T19:29:31.908601Z",
     "shell.execute_reply": "2022-12-12T19:29:31.907663Z"
    },
    "papermill": {
     "duration": 0.044448,
     "end_time": "2022-12-12T19:29:31.910705",
     "exception": false,
     "start_time": "2022-12-12T19:29:31.866257",
     "status": "completed"
    },
    "tags": []
   },
   "outputs": [],
   "source": [
    "models_dict = {'LR': LogisticRegression(random_state=0),\n",
    "               'SVM': SVC(kernel='linear', random_state=0),\n",
    "               'RF': RandomForestClassifier(),\n",
    "               'KNN': KNeighborsClassifier(),\n",
    "               'NB': GaussianNB()}"
   ]
  },
  {
   "cell_type": "code",
   "execution_count": 46,
   "id": "a5e7e8d5",
   "metadata": {
    "execution": {
     "iopub.execute_input": "2022-12-12T19:29:31.981441Z",
     "iopub.status.busy": "2022-12-12T19:29:31.980534Z",
     "iopub.status.idle": "2022-12-12T19:38:50.453672Z",
     "shell.execute_reply": "2022-12-12T19:38:50.452138Z"
    },
    "papermill": {
     "duration": 558.546037,
     "end_time": "2022-12-12T19:38:50.490927",
     "exception": false,
     "start_time": "2022-12-12T19:29:31.944890",
     "status": "completed"
    },
    "tags": []
   },
   "outputs": [
    {
     "name": "stdout",
     "output_type": "stream",
     "text": [
      "\n",
      "LR\n",
      "\n",
      ">lr 0.827 (0.034)\n",
      ">per 0.809 (0.036)\n",
      ">cart 0.829 (0.038)\n",
      ">rf 0.825 (0.034)\n",
      ">gbm 0.832 (0.038)\n",
      ">svm 0.813 (0.042)\n",
      "\n",
      "SVM\n",
      "\n",
      ">lr 0.797 (0.046)\n",
      ">per 0.800 (0.037)\n",
      ">cart 0.789 (0.041)\n",
      ">rf 0.812 (0.039)\n",
      ">gbm 0.790 (0.039)\n",
      ">svm 0.808 (0.047)\n",
      "\n",
      "RF\n",
      "\n",
      ">lr 0.821 (0.046)\n",
      ">per 0.814 (0.051)\n",
      ">cart 0.835 (0.035)\n",
      ">rf 0.823 (0.048)\n",
      ">gbm 0.842 (0.045)\n",
      ">svm 0.822 (0.048)\n",
      "\n",
      "KNN\n",
      "\n",
      ">lr 0.812 (0.050)\n",
      ">per 0.798 (0.049)\n",
      ">cart 0.827 (0.042)\n",
      ">rf 0.823 (0.048)\n",
      ">gbm 0.828 (0.047)\n",
      ">svm 0.803 (0.067)\n",
      "\n",
      "NB\n",
      "\n",
      ">lr 0.795 (0.042)\n",
      ">per 0.786 (0.042)\n",
      ">cart 0.786 (0.042)\n",
      ">rf 0.789 (0.047)\n",
      ">gbm 0.787 (0.040)\n",
      ">svm 0.800 (0.039)\n"
     ]
    }
   ],
   "source": [
    "# get the models to evaluate\n",
    "for i in models_dict.keys():\n",
    "    print('\\n'+i+'\\n')\n",
    "    models = get_models(models_dict[i])\n",
    "    # evaluate the models and store results\n",
    "    results, names = list(), list()\n",
    "    for name, model in models.items():\n",
    "        scores = evaluate_model(model, X_train, y_train)\n",
    "        results.append(scores)\n",
    "        names.append(name)\n",
    "        print('>%s %.3f (%.3f)' % (name, np.mean(scores), np.std(scores)))"
   ]
  },
  {
   "cell_type": "markdown",
   "id": "b10169f3",
   "metadata": {
    "papermill": {
     "duration": 0.036832,
     "end_time": "2022-12-12T19:38:50.566868",
     "exception": false,
     "start_time": "2022-12-12T19:38:50.530036",
     "status": "completed"
    },
    "tags": []
   },
   "source": [
    "O.K, let's continue with the three models with the highest accuracy mean score-\n",
    "- Random Forest + Gradient Boosting Classifier as estimator in the RFECV (accuracy mean score = 0.842, std = 0.044).\n",
    "- K-NN + Decision Tree Classifier as estimator in the RFECV (accuracy mean score = 0.83, std = 0.040).\n",
    "- Logistic Regression + Gradient Boosting Classifier as estimator in the RFECV (accuracy mean score = 0.834, std = 0.038).\n"
   ]
  },
  {
   "cell_type": "code",
   "execution_count": 47,
   "id": "79bbf1f8",
   "metadata": {
    "execution": {
     "iopub.execute_input": "2022-12-12T19:38:50.643186Z",
     "iopub.status.busy": "2022-12-12T19:38:50.642712Z",
     "iopub.status.idle": "2022-12-12T19:38:50.648104Z",
     "shell.execute_reply": "2022-12-12T19:38:50.647194Z"
    },
    "papermill": {
     "duration": 0.046726,
     "end_time": "2022-12-12T19:38:50.650221",
     "exception": false,
     "start_time": "2022-12-12T19:38:50.603495",
     "status": "completed"
    },
    "tags": []
   },
   "outputs": [],
   "source": [
    "accuracy_results = {}"
   ]
  },
  {
   "cell_type": "markdown",
   "id": "a8e2a9d4",
   "metadata": {
    "papermill": {
     "duration": 0.036264,
     "end_time": "2022-12-12T19:38:50.726359",
     "exception": false,
     "start_time": "2022-12-12T19:38:50.690095",
     "status": "completed"
    },
    "tags": []
   },
   "source": [
    "## **Random Forest**"
   ]
  },
  {
   "cell_type": "markdown",
   "id": "a196582e",
   "metadata": {
    "papermill": {
     "duration": 0.036023,
     "end_time": "2022-12-12T19:38:50.800220",
     "exception": false,
     "start_time": "2022-12-12T19:38:50.764197",
     "status": "completed"
    },
    "tags": []
   },
   "source": [
    "* #### Feature Selection"
   ]
  },
  {
   "cell_type": "code",
   "execution_count": 48,
   "id": "702cb7c4",
   "metadata": {
    "execution": {
     "iopub.execute_input": "2022-12-12T19:38:50.877590Z",
     "iopub.status.busy": "2022-12-12T19:38:50.876821Z",
     "iopub.status.idle": "2022-12-12T19:38:53.256742Z",
     "shell.execute_reply": "2022-12-12T19:38:53.255524Z"
    },
    "papermill": {
     "duration": 2.422889,
     "end_time": "2022-12-12T19:38:53.259410",
     "exception": false,
     "start_time": "2022-12-12T19:38:50.836521",
     "status": "completed"
    },
    "tags": []
   },
   "outputs": [
    {
     "name": "stdout",
     "output_type": "stream",
     "text": [
      "Feature ranking:  [1 1 2 1 3 1]\n",
      "Selected best:  4\n",
      "Index(['Pclass', 'AgeGroup_code', 'Sex_cat', 'Family_Survival'], dtype='object')\n"
     ]
    }
   ],
   "source": [
    "rf_rfe = RFECV(estimator=GradientBoostingClassifier())\n",
    "rf_pipe = Pipeline(steps=[('s',rf_rfe),('m',RandomForestClassifier())])\n",
    "\n",
    "X_new_rf = rf_rfe.fit_transform(X_train, y_train)\n",
    "print(\"Feature ranking: \", rf_rfe.ranking_)\n",
    "\n",
    "rf_mask = rf_rfe.get_support()\n",
    "features = X.columns\n",
    "best_features = features[rf_mask]\n",
    "\n",
    "# print(\"All features: \", x.shape[1])\n",
    "# print(features)\n",
    "\n",
    "print(\"Selected best: \", best_features.shape[0])\n",
    "print(features[rf_mask])"
   ]
  },
  {
   "cell_type": "markdown",
   "id": "5e526289",
   "metadata": {
    "papermill": {
     "duration": 0.036016,
     "end_time": "2022-12-12T19:38:53.331575",
     "exception": false,
     "start_time": "2022-12-12T19:38:53.295559",
     "status": "completed"
    },
    "tags": []
   },
   "source": [
    "* #### Evaluating the Model"
   ]
  },
  {
   "cell_type": "code",
   "execution_count": 49,
   "id": "36147147",
   "metadata": {
    "execution": {
     "iopub.execute_input": "2022-12-12T19:38:53.407531Z",
     "iopub.status.busy": "2022-12-12T19:38:53.407075Z",
     "iopub.status.idle": "2022-12-12T19:39:39.518814Z",
     "shell.execute_reply": "2022-12-12T19:39:39.517520Z"
    },
    "papermill": {
     "duration": 46.191758,
     "end_time": "2022-12-12T19:39:39.559702",
     "exception": false,
     "start_time": "2022-12-12T19:38:53.367944",
     "status": "completed"
    },
    "tags": []
   },
   "outputs": [
    {
     "name": "stdout",
     "output_type": "stream",
     "text": [
      "Accuracy: 0.852 (0.037)\n"
     ]
    }
   ],
   "source": [
    "# evaluate model\n",
    "cv = RepeatedStratifiedKFold(n_splits=10, n_repeats=3, random_state=1)\n",
    "n_scores = cross_val_score(rf_pipe, X_new_rf, y_train, scoring='accuracy', cv=cv, error_score='raise')\n",
    "# report performance\n",
    "print('Accuracy: %.3f (%.3f)' % (np.mean(n_scores), np.std(n_scores)))"
   ]
  },
  {
   "cell_type": "markdown",
   "id": "0eefd4cc",
   "metadata": {
    "papermill": {
     "duration": 0.036142,
     "end_time": "2022-12-12T19:39:39.631828",
     "exception": false,
     "start_time": "2022-12-12T19:39:39.595686",
     "status": "completed"
    },
    "tags": []
   },
   "source": [
    "* #### Find the best hyperparameters using RandomizedSearchCV\n",
    "here I used RandomizedSearchCV because the runtime."
   ]
  },
  {
   "cell_type": "code",
   "execution_count": 50,
   "id": "fb205033",
   "metadata": {
    "execution": {
     "iopub.execute_input": "2022-12-12T19:39:39.707396Z",
     "iopub.status.busy": "2022-12-12T19:39:39.706958Z",
     "iopub.status.idle": "2022-12-12T19:39:39.716243Z",
     "shell.execute_reply": "2022-12-12T19:39:39.714881Z"
    },
    "papermill": {
     "duration": 0.049825,
     "end_time": "2022-12-12T19:39:39.718716",
     "exception": false,
     "start_time": "2022-12-12T19:39:39.668891",
     "status": "completed"
    },
    "tags": []
   },
   "outputs": [],
   "source": [
    "# Criterion\n",
    "criterion = ['gini', 'entropy']\n",
    "# Number of trees in random forest\n",
    "n_estimators = [int(x) for x in np.linspace(start = 200, stop = 2000, num = 5)]\n",
    "# Number of features to consider at every split\n",
    "max_features = ['auto', 'sqrt']\n",
    "# Maximum number of levels in tree\n",
    "max_depth = [int(x) for x in np.linspace(10, 110, num = 11)]\n",
    "max_depth.append(None)\n",
    "# Minimum number of samples required to split a node\n",
    "min_samples_split = [2, 5, 10]\n",
    "# Minimum number of samples required at each leaf node\n",
    "min_samples_leaf = [1, 2, 4]\n",
    "# Method of selecting samples for training each tree\n",
    "bootstrap = [True, False]\n",
    "\n",
    "# Create the random grid\n",
    "rf_random_grid = {'m__criterion': criterion,\n",
    "               'm__n_estimators': n_estimators,\n",
    "               'm__max_features': max_features,\n",
    "               'm__max_depth': max_depth,\n",
    "               'm__min_samples_split': min_samples_split,\n",
    "               'm__min_samples_leaf': min_samples_leaf,\n",
    "               'm__bootstrap': bootstrap}"
   ]
  },
  {
   "cell_type": "code",
   "execution_count": 51,
   "id": "6a78f3f7",
   "metadata": {
    "execution": {
     "iopub.execute_input": "2022-12-12T19:39:39.793452Z",
     "iopub.status.busy": "2022-12-12T19:39:39.793031Z",
     "iopub.status.idle": "2022-12-12T19:55:09.261967Z",
     "shell.execute_reply": "2022-12-12T19:55:09.260988Z"
    },
    "papermill": {
     "duration": 929.546296,
     "end_time": "2022-12-12T19:55:09.301498",
     "exception": false,
     "start_time": "2022-12-12T19:39:39.755202",
     "status": "completed"
    },
    "tags": []
   },
   "outputs": [
    {
     "name": "stdout",
     "output_type": "stream",
     "text": [
      "Best Accuracy: 85.33 %\n",
      "Best Parameters: {'m__n_estimators': 1100, 'm__min_samples_split': 2, 'm__min_samples_leaf': 4, 'm__max_features': 'auto', 'm__max_depth': 70, 'm__criterion': 'gini', 'm__bootstrap': False}\n"
     ]
    }
   ],
   "source": [
    "rf_random_search = RandomizedSearchCV(rf_pipe,\n",
    "                           param_distributions = rf_random_grid,\n",
    "                           scoring = 'accuracy',\n",
    "                           cv = cv,\n",
    "                           random_state = 0)\n",
    "rf_random_search.fit(X_new_rf, y_train)\n",
    "best_accuracy = rf_random_search.best_score_\n",
    "best_parameters = rf_random_search.best_params_\n",
    "print(\"Best Accuracy: {:.2f} %\".format(best_accuracy*100))\n",
    "print(\"Best Parameters:\", best_parameters)"
   ]
  },
  {
   "cell_type": "markdown",
   "id": "6b6f5cf5",
   "metadata": {
    "papermill": {
     "duration": 0.036159,
     "end_time": "2022-12-12T19:55:09.466153",
     "exception": false,
     "start_time": "2022-12-12T19:55:09.429994",
     "status": "completed"
    },
    "tags": []
   },
   "source": [
    "* #### The Selected Random-Forest Model"
   ]
  },
  {
   "cell_type": "code",
   "execution_count": 52,
   "id": "cb7edcdc",
   "metadata": {
    "execution": {
     "iopub.execute_input": "2022-12-12T19:55:09.542448Z",
     "iopub.status.busy": "2022-12-12T19:55:09.541952Z",
     "iopub.status.idle": "2022-12-12T19:55:09.556891Z",
     "shell.execute_reply": "2022-12-12T19:55:09.555651Z"
    },
    "papermill": {
     "duration": 0.056659,
     "end_time": "2022-12-12T19:55:09.559352",
     "exception": false,
     "start_time": "2022-12-12T19:55:09.502693",
     "status": "completed"
    },
    "tags": []
   },
   "outputs": [
    {
     "data": {
      "text/plain": [
       "Pipeline(steps=[('s', RFECV(estimator=GradientBoostingClassifier())),\n",
       "                ('m',\n",
       "                 RandomForestClassifier(bootstrap=False, max_depth=70,\n",
       "                                        min_samples_leaf=4,\n",
       "                                        n_estimators=1100))])"
      ]
     },
     "execution_count": 52,
     "metadata": {},
     "output_type": "execute_result"
    }
   ],
   "source": [
    "best_rf_pipe = rf_random_search.best_estimator_\n",
    "best_rf_pipe"
   ]
  },
  {
   "cell_type": "code",
   "execution_count": 53,
   "id": "7417c869",
   "metadata": {
    "execution": {
     "iopub.execute_input": "2022-12-12T19:55:09.634952Z",
     "iopub.status.busy": "2022-12-12T19:55:09.634467Z",
     "iopub.status.idle": "2022-12-12T19:55:09.838133Z",
     "shell.execute_reply": "2022-12-12T19:55:09.836875Z"
    },
    "papermill": {
     "duration": 0.245043,
     "end_time": "2022-12-12T19:55:09.841025",
     "exception": false,
     "start_time": "2022-12-12T19:55:09.595982",
     "status": "completed"
    },
    "tags": []
   },
   "outputs": [
    {
     "data": {
      "text/plain": [
       "0.8251121076233184"
      ]
     },
     "execution_count": 53,
     "metadata": {},
     "output_type": "execute_result"
    }
   ],
   "source": [
    "best_rf_pipe.score(X_test[:,rf_mask], y_test)"
   ]
  },
  {
   "cell_type": "markdown",
   "id": "6a0d4944",
   "metadata": {
    "papermill": {
     "duration": 0.041127,
     "end_time": "2022-12-12T19:55:09.925427",
     "exception": false,
     "start_time": "2022-12-12T19:55:09.884300",
     "status": "completed"
    },
    "tags": []
   },
   "source": [
    "* #### Predicting the Test set results"
   ]
  },
  {
   "cell_type": "code",
   "execution_count": 54,
   "id": "7293b17b",
   "metadata": {
    "execution": {
     "iopub.execute_input": "2022-12-12T19:55:10.008522Z",
     "iopub.status.busy": "2022-12-12T19:55:10.008056Z",
     "iopub.status.idle": "2022-12-12T19:55:10.192474Z",
     "shell.execute_reply": "2022-12-12T19:55:10.191263Z"
    },
    "papermill": {
     "duration": 0.227555,
     "end_time": "2022-12-12T19:55:10.195711",
     "exception": false,
     "start_time": "2022-12-12T19:55:09.968156",
     "status": "completed"
    },
    "tags": []
   },
   "outputs": [],
   "source": [
    "rf_pred = best_rf_pipe.predict(X_test[:,rf_mask])"
   ]
  },
  {
   "cell_type": "markdown",
   "id": "272dc375",
   "metadata": {
    "papermill": {
     "duration": 0.039321,
     "end_time": "2022-12-12T19:55:10.275891",
     "exception": false,
     "start_time": "2022-12-12T19:55:10.236570",
     "status": "completed"
    },
    "tags": []
   },
   "source": [
    "* #### Making the Confusion Matrix"
   ]
  },
  {
   "cell_type": "code",
   "execution_count": 55,
   "id": "27d0bcb8",
   "metadata": {
    "execution": {
     "iopub.execute_input": "2022-12-12T19:55:10.358010Z",
     "iopub.status.busy": "2022-12-12T19:55:10.356665Z",
     "iopub.status.idle": "2022-12-12T19:55:10.629947Z",
     "shell.execute_reply": "2022-12-12T19:55:10.628677Z"
    },
    "papermill": {
     "duration": 0.316899,
     "end_time": "2022-12-12T19:55:10.632951",
     "exception": false,
     "start_time": "2022-12-12T19:55:10.316052",
     "status": "completed"
    },
    "tags": []
   },
   "outputs": [
    {
     "name": "stdout",
     "output_type": "stream",
     "text": [
      "0.8251121076233184\n"
     ]
    },
    {
     "data": {
      "text/plain": [
       "<sklearn.metrics._plot.confusion_matrix.ConfusionMatrixDisplay at 0x7f8bad5c51d0>"
      ]
     },
     "execution_count": 55,
     "metadata": {},
     "output_type": "execute_result"
    },
    {
     "data": {
      "image/png": "[encoded data removed]",
      "text/plain": [
       "<Figure size 432x288 with 2 Axes>"
      ]
     },
     "metadata": {
      "needs_background": "light"
     },
     "output_type": "display_data"
    }
   ],
   "source": [
    "cm = confusion_matrix(y_test, rf_pred)\n",
    "# print(cm)\n",
    "\n",
    "rf_test_accuracy = accuracy_score(y_test, rf_pred)\n",
    "print(rf_test_accuracy)\n",
    "\n",
    "cm_display = ConfusionMatrixDisplay(cm, display_labels = [False, True])\n",
    "cm_display.plot()"
   ]
  },
  {
   "cell_type": "code",
   "execution_count": 56,
   "id": "177c5f1e",
   "metadata": {
    "execution": {
     "iopub.execute_input": "2022-12-12T19:55:10.720780Z",
     "iopub.status.busy": "2022-12-12T19:55:10.720305Z",
     "iopub.status.idle": "2022-12-12T19:55:10.726300Z",
     "shell.execute_reply": "2022-12-12T19:55:10.724830Z"
    },
    "papermill": {
     "duration": 0.05215,
     "end_time": "2022-12-12T19:55:10.728755",
     "exception": false,
     "start_time": "2022-12-12T19:55:10.676605",
     "status": "completed"
    },
    "tags": []
   },
   "outputs": [],
   "source": [
    "accuracy_results['Random Forest'] = ['GradientBoostingClassifier', best_accuracy, rf_test_accuracy] "
   ]
  },
  {
   "cell_type": "markdown",
   "id": "c679d838",
   "metadata": {
    "papermill": {
     "duration": 0.039604,
     "end_time": "2022-12-12T19:55:10.807741",
     "exception": false,
     "start_time": "2022-12-12T19:55:10.768137",
     "status": "completed"
    },
    "tags": []
   },
   "source": [
    "## **K-NN**"
   ]
  },
  {
   "cell_type": "markdown",
   "id": "6c949b52",
   "metadata": {
    "papermill": {
     "duration": 0.039216,
     "end_time": "2022-12-12T19:55:10.886939",
     "exception": false,
     "start_time": "2022-12-12T19:55:10.847723",
     "status": "completed"
    },
    "tags": []
   },
   "source": [
    "* #### Feature Selection"
   ]
  },
  {
   "cell_type": "code",
   "execution_count": 57,
   "id": "50d359b7",
   "metadata": {
    "execution": {
     "iopub.execute_input": "2022-12-12T19:55:10.969358Z",
     "iopub.status.busy": "2022-12-12T19:55:10.968520Z",
     "iopub.status.idle": "2022-12-12T19:55:11.024555Z",
     "shell.execute_reply": "2022-12-12T19:55:11.022869Z"
    },
    "papermill": {
     "duration": 0.100631,
     "end_time": "2022-12-12T19:55:11.027479",
     "exception": false,
     "start_time": "2022-12-12T19:55:10.926848",
     "status": "completed"
    },
    "tags": []
   },
   "outputs": [
    {
     "name": "stdout",
     "output_type": "stream",
     "text": [
      "Feature ranking:  [1 1 2 1 3 1]\n",
      "Selected best:  4\n",
      "Index(['Pclass', 'AgeGroup_code', 'Sex_cat', 'Family_Survival'], dtype='object')\n"
     ]
    }
   ],
   "source": [
    "knn_rfe = RFECV(estimator=DecisionTreeClassifier())\n",
    "knn_pipe = Pipeline(steps=[('s',knn_rfe),('m',KNeighborsClassifier())])\n",
    "\n",
    "X_new_knn = knn_rfe.fit_transform(X_train, y_train)\n",
    "print(\"Feature ranking: \", knn_rfe.ranking_)\n",
    "\n",
    "knn_mask = knn_rfe.get_support()\n",
    "features = X.columns\n",
    "best_features = features[knn_mask]\n",
    "\n",
    "# print(\"All features: \", x.shape[1])\n",
    "# print(features)\n",
    "\n",
    "print(\"Selected best: \", best_features.shape[0])\n",
    "print(features[knn_mask])"
   ]
  },
  {
   "cell_type": "markdown",
   "id": "140204f4",
   "metadata": {
    "papermill": {
     "duration": 0.040002,
     "end_time": "2022-12-12T19:55:11.111833",
     "exception": false,
     "start_time": "2022-12-12T19:55:11.071831",
     "status": "completed"
    },
    "tags": []
   },
   "source": [
    "* #### Evaluating the Model"
   ]
  },
  {
   "cell_type": "code",
   "execution_count": 58,
   "id": "23672e7d",
   "metadata": {
    "execution": {
     "iopub.execute_input": "2022-12-12T19:55:11.197496Z",
     "iopub.status.busy": "2022-12-12T19:55:11.197031Z",
     "iopub.status.idle": "2022-12-12T19:55:12.225652Z",
     "shell.execute_reply": "2022-12-12T19:55:12.224340Z"
    },
    "papermill": {
     "duration": 1.075995,
     "end_time": "2022-12-12T19:55:12.228455",
     "exception": false,
     "start_time": "2022-12-12T19:55:11.152460",
     "status": "completed"
    },
    "tags": []
   },
   "outputs": [
    {
     "name": "stdout",
     "output_type": "stream",
     "text": [
      "Accuracy: 0.833 (0.042)\n"
     ]
    }
   ],
   "source": [
    "cv = RepeatedStratifiedKFold(n_splits=10, n_repeats=3, random_state=1)\n",
    "n_scores = cross_val_score(knn_pipe, X_new_knn, y_train, scoring='accuracy', cv=cv, error_score='raise')\n",
    "# report performance\n",
    "print('Accuracy: %.3f (%.3f)' % (np.mean(n_scores), np.std(n_scores)))"
   ]
  },
  {
   "cell_type": "markdown",
   "id": "13b83889",
   "metadata": {
    "papermill": {
     "duration": 0.039335,
     "end_time": "2022-12-12T19:55:12.306443",
     "exception": false,
     "start_time": "2022-12-12T19:55:12.267108",
     "status": "completed"
    },
    "tags": []
   },
   "source": [
    "* #### Find the best hyperparameters using GridSearchCV"
   ]
  },
  {
   "cell_type": "code",
   "execution_count": 59,
   "id": "01e0eb49",
   "metadata": {
    "execution": {
     "iopub.execute_input": "2022-12-12T19:55:12.393608Z",
     "iopub.status.busy": "2022-12-12T19:55:12.392670Z",
     "iopub.status.idle": "2022-12-12T19:55:12.399263Z",
     "shell.execute_reply": "2022-12-12T19:55:12.398325Z"
    },
    "papermill": {
     "duration": 0.054777,
     "end_time": "2022-12-12T19:55:12.401854",
     "exception": false,
     "start_time": "2022-12-12T19:55:12.347077",
     "status": "completed"
    },
    "tags": []
   },
   "outputs": [],
   "source": [
    "# Number of neighbors\n",
    "n_neighbors = [i for i in range(1,31)]\n",
    "# Weight function used in prediction\n",
    "weights = ['uniform', 'distance']\n",
    "# Algorithm used to compute the nearest neighbors\n",
    "algorithm = ['auto']\n",
    "# Euclidean distance\n",
    "# metric = ['minkowski']\n",
    "# p = [2]\n",
    "\n",
    "# Create the knn hyperparameters grid\n",
    "knn_grid = {'m__n_neighbors': n_neighbors,\n",
    "               'm__weights': weights,\n",
    "               'm__algorithm': algorithm}"
   ]
  },
  {
   "cell_type": "code",
   "execution_count": 60,
   "id": "44174b6c",
   "metadata": {
    "execution": {
     "iopub.execute_input": "2022-12-12T19:55:12.483090Z",
     "iopub.status.busy": "2022-12-12T19:55:12.482184Z",
     "iopub.status.idle": "2022-12-12T19:56:10.657710Z",
     "shell.execute_reply": "2022-12-12T19:56:10.656241Z"
    },
    "papermill": {
     "duration": 58.258623,
     "end_time": "2022-12-12T19:56:10.699288",
     "exception": false,
     "start_time": "2022-12-12T19:55:12.440665",
     "status": "completed"
    },
    "tags": []
   },
   "outputs": [
    {
     "name": "stdout",
     "output_type": "stream",
     "text": [
      "Best Accuracy: 85.28 %\n",
      "Best Parameters: {'m__algorithm': 'auto', 'm__n_neighbors': 29, 'm__weights': 'distance'}\n"
     ]
    }
   ],
   "source": [
    "knn_random_search = GridSearchCV(knn_pipe,\n",
    "                           param_grid = knn_grid,\n",
    "                           scoring = 'accuracy',\n",
    "                           cv = cv)\n",
    "knn_random_search.fit(X_new_knn, y_train)\n",
    "best_accuracy = knn_random_search.best_score_\n",
    "best_parameters = knn_random_search.best_params_\n",
    "print(\"Best Accuracy: {:.2f} %\".format(best_accuracy*100))\n",
    "print(\"Best Parameters:\", best_parameters)"
   ]
  },
  {
   "cell_type": "markdown",
   "id": "c2ac57ea",
   "metadata": {
    "papermill": {
     "duration": 0.040266,
     "end_time": "2022-12-12T19:56:10.780032",
     "exception": false,
     "start_time": "2022-12-12T19:56:10.739766",
     "status": "completed"
    },
    "tags": []
   },
   "source": [
    "* #### The Selected K-NN Model"
   ]
  },
  {
   "cell_type": "code",
   "execution_count": 61,
   "id": "07fbe475",
   "metadata": {
    "execution": {
     "iopub.execute_input": "2022-12-12T19:56:10.860486Z",
     "iopub.status.busy": "2022-12-12T19:56:10.859992Z",
     "iopub.status.idle": "2022-12-12T19:56:10.870460Z",
     "shell.execute_reply": "2022-12-12T19:56:10.869015Z"
    },
    "papermill": {
     "duration": 0.052508,
     "end_time": "2022-12-12T19:56:10.872736",
     "exception": false,
     "start_time": "2022-12-12T19:56:10.820228",
     "status": "completed"
    },
    "tags": []
   },
   "outputs": [
    {
     "data": {
      "text/plain": [
       "Pipeline(steps=[('s', RFECV(estimator=DecisionTreeClassifier())),\n",
       "                ('m',\n",
       "                 KNeighborsClassifier(n_neighbors=29, weights='distance'))])"
      ]
     },
     "execution_count": 61,
     "metadata": {},
     "output_type": "execute_result"
    }
   ],
   "source": [
    "best_knn_pipe = knn_random_search.best_estimator_\n",
    "best_knn_pipe"
   ]
  },
  {
   "cell_type": "markdown",
   "id": "61c0f93b",
   "metadata": {
    "papermill": {
     "duration": 0.037668,
     "end_time": "2022-12-12T19:56:10.948645",
     "exception": false,
     "start_time": "2022-12-12T19:56:10.910977",
     "status": "completed"
    },
    "tags": []
   },
   "source": [
    "* #### Predicting the Test set results"
   ]
  },
  {
   "cell_type": "code",
   "execution_count": 62,
   "id": "053c6264",
   "metadata": {
    "execution": {
     "iopub.execute_input": "2022-12-12T19:56:11.029350Z",
     "iopub.status.busy": "2022-12-12T19:56:11.028875Z",
     "iopub.status.idle": "2022-12-12T19:56:11.038041Z",
     "shell.execute_reply": "2022-12-12T19:56:11.036854Z"
    },
    "papermill": {
     "duration": 0.052408,
     "end_time": "2022-12-12T19:56:11.040762",
     "exception": false,
     "start_time": "2022-12-12T19:56:10.988354",
     "status": "completed"
    },
    "tags": []
   },
   "outputs": [],
   "source": [
    "knn_pred = best_knn_pipe.predict(X_test[:,knn_mask])"
   ]
  },
  {
   "cell_type": "markdown",
   "id": "af3a3886",
   "metadata": {
    "papermill": {
     "duration": 0.039457,
     "end_time": "2022-12-12T19:56:11.119105",
     "exception": false,
     "start_time": "2022-12-12T19:56:11.079648",
     "status": "completed"
    },
    "tags": []
   },
   "source": [
    "* #### Making the Confusion Matrix"
   ]
  },
  {
   "cell_type": "code",
   "execution_count": 63,
   "id": "2ce62d9f",
   "metadata": {
    "execution": {
     "iopub.execute_input": "2022-12-12T19:56:11.199382Z",
     "iopub.status.busy": "2022-12-12T19:56:11.198593Z",
     "iopub.status.idle": "2022-12-12T19:56:11.487090Z",
     "shell.execute_reply": "2022-12-12T19:56:11.485315Z"
    },
    "papermill": {
     "duration": 0.333268,
     "end_time": "2022-12-12T19:56:11.491312",
     "exception": false,
     "start_time": "2022-12-12T19:56:11.158044",
     "status": "completed"
    },
    "tags": []
   },
   "outputs": [
    {
     "name": "stdout",
     "output_type": "stream",
     "text": [
      "0.820627802690583\n"
     ]
    },
    {
     "data": {
      "text/plain": [
       "<sklearn.metrics._plot.confusion_matrix.ConfusionMatrixDisplay at 0x7f8bad4ebed0>"
      ]
     },
     "execution_count": 63,
     "metadata": {},
     "output_type": "execute_result"
    },
    {
     "data": {
      "image/png": "[encoded data removed]",
      "text/plain": [
       "<Figure size 432x288 with 2 Axes>"
      ]
     },
     "metadata": {
      "needs_background": "light"
     },
     "output_type": "display_data"
    }
   ],
   "source": [
    "cm = confusion_matrix(y_test, knn_pred)\n",
    "# print(cm)\n",
    "\n",
    "knn_test_accuracy = accuracy_score(y_test, knn_pred)\n",
    "print(knn_test_accuracy)\n",
    "\n",
    "cm_display = ConfusionMatrixDisplay(cm, display_labels = [False, True])\n",
    "cm_display.plot()"
   ]
  },
  {
   "cell_type": "code",
   "execution_count": 64,
   "id": "5c8851dd",
   "metadata": {
    "execution": {
     "iopub.execute_input": "2022-12-12T19:56:11.573091Z",
     "iopub.status.busy": "2022-12-12T19:56:11.572597Z",
     "iopub.status.idle": "2022-12-12T19:56:11.577932Z",
     "shell.execute_reply": "2022-12-12T19:56:11.576689Z"
    },
    "papermill": {
     "duration": 0.048467,
     "end_time": "2022-12-12T19:56:11.580528",
     "exception": false,
     "start_time": "2022-12-12T19:56:11.532061",
     "status": "completed"
    },
    "tags": []
   },
   "outputs": [],
   "source": [
    "accuracy_results['K-NN'] = ['DecisionTreeClassifier', best_accuracy, knn_test_accuracy]"
   ]
  },
  {
   "cell_type": "markdown",
   "id": "82163cbe",
   "metadata": {
    "papermill": {
     "duration": 0.041136,
     "end_time": "2022-12-12T19:56:11.661691",
     "exception": false,
     "start_time": "2022-12-12T19:56:11.620555",
     "status": "completed"
    },
    "tags": []
   },
   "source": [
    "## **Logistic Regression**"
   ]
  },
  {
   "cell_type": "markdown",
   "id": "d5f71682",
   "metadata": {
    "papermill": {
     "duration": 0.038497,
     "end_time": "2022-12-12T19:56:11.739278",
     "exception": false,
     "start_time": "2022-12-12T19:56:11.700781",
     "status": "completed"
    },
    "tags": []
   },
   "source": [
    "* #### Feature Selection"
   ]
  },
  {
   "cell_type": "code",
   "execution_count": 65,
   "id": "e36583b1",
   "metadata": {
    "execution": {
     "iopub.execute_input": "2022-12-12T19:56:11.820026Z",
     "iopub.status.busy": "2022-12-12T19:56:11.819476Z",
     "iopub.status.idle": "2022-12-12T19:56:14.232259Z",
     "shell.execute_reply": "2022-12-12T19:56:14.230754Z"
    },
    "papermill": {
     "duration": 2.455942,
     "end_time": "2022-12-12T19:56:14.235521",
     "exception": false,
     "start_time": "2022-12-12T19:56:11.779579",
     "status": "completed"
    },
    "tags": []
   },
   "outputs": [
    {
     "name": "stdout",
     "output_type": "stream",
     "text": [
      "Feature ranking:  [1 1 2 1 3 1]\n",
      "Selected best:  4\n",
      "Index(['Pclass', 'AgeGroup_code', 'Sex_cat', 'Family_Survival'], dtype='object')\n"
     ]
    }
   ],
   "source": [
    "lr_rfe = RFECV(estimator=GradientBoostingClassifier())\n",
    "lr_pipe = Pipeline(steps=[('s',lr_rfe),('m',LogisticRegression())])\n",
    "\n",
    "X_new_lr = lr_rfe.fit_transform(X_train, y_train)\n",
    "print(\"Feature ranking: \", lr_rfe.ranking_)\n",
    "\n",
    "lr_mask = lr_rfe.get_support()\n",
    "features = X.columns\n",
    "lr_best_features = features[lr_mask]\n",
    "\n",
    "# print(\"All features: \", x.shape[1])\n",
    "# print(features)\n",
    "\n",
    "print(\"Selected best: \", lr_best_features.shape[0])\n",
    "print(features[lr_mask])"
   ]
  },
  {
   "cell_type": "markdown",
   "id": "31b4194b",
   "metadata": {
    "papermill": {
     "duration": 0.040055,
     "end_time": "2022-12-12T19:56:14.316774",
     "exception": false,
     "start_time": "2022-12-12T19:56:14.276719",
     "status": "completed"
    },
    "tags": []
   },
   "source": [
    "* #### Evaluating the Model"
   ]
  },
  {
   "cell_type": "code",
   "execution_count": 66,
   "id": "5499f7e3",
   "metadata": {
    "execution": {
     "iopub.execute_input": "2022-12-12T19:56:14.396549Z",
     "iopub.status.busy": "2022-12-12T19:56:14.395475Z",
     "iopub.status.idle": "2022-12-12T19:56:55.759975Z",
     "shell.execute_reply": "2022-12-12T19:56:55.758543Z"
    },
    "papermill": {
     "duration": 41.447308,
     "end_time": "2022-12-12T19:56:55.802888",
     "exception": false,
     "start_time": "2022-12-12T19:56:14.355580",
     "status": "completed"
    },
    "tags": []
   },
   "outputs": [
    {
     "name": "stdout",
     "output_type": "stream",
     "text": [
      "Accuracy: 0.837 (0.036)\n"
     ]
    }
   ],
   "source": [
    "cv = RepeatedStratifiedKFold(n_splits=10, n_repeats=3, random_state=1)\n",
    "n_scores = cross_val_score(lr_pipe, X_new_lr, y_train, scoring='accuracy', cv=cv, error_score='raise')\n",
    "# report performance\n",
    "print('Accuracy: %.3f (%.3f)' % (np.mean(n_scores), np.std(n_scores)))"
   ]
  },
  {
   "cell_type": "markdown",
   "id": "32383932",
   "metadata": {
    "papermill": {
     "duration": 0.039653,
     "end_time": "2022-12-12T19:56:55.881487",
     "exception": false,
     "start_time": "2022-12-12T19:56:55.841834",
     "status": "completed"
    },
    "tags": []
   },
   "source": [
    "* #### Find the best hyperparameters using RandomizedSearchCV\n",
    "here I used RandomizedSearchCV because the runtime."
   ]
  },
  {
   "cell_type": "code",
   "execution_count": 67,
   "id": "fdfc8089",
   "metadata": {
    "execution": {
     "iopub.execute_input": "2022-12-12T19:56:55.963048Z",
     "iopub.status.busy": "2022-12-12T19:56:55.962188Z",
     "iopub.status.idle": "2022-12-12T19:56:55.970256Z",
     "shell.execute_reply": "2022-12-12T19:56:55.969063Z"
    },
    "papermill": {
     "duration": 0.052183,
     "end_time": "2022-12-12T19:56:55.972721",
     "exception": false,
     "start_time": "2022-12-12T19:56:55.920538",
     "status": "completed"
    },
    "tags": []
   },
   "outputs": [],
   "source": [
    "lr_grid = [{'m__C': [0.01, 0.1, 0.15, 0.25, 0.5, 0.75, 1], 'm__penalty': ['l2'], 'm__solver': ['liblinear','newton-cg', 'lbfgs', 'sag', 'saga']},\n",
    "           {'m__penalty': ['none'], 'm__solver': ['newton-cg','lbfgs', 'sag', 'saga']},\n",
    "           {'m__C': [0.01, 0.1, 0.15,  0.25, 0.5, 0.75, 1], 'm__penalty': ['l1'], 'm__solver': ['liblinear', 'saga']},\n",
    "           {'m__C': [0.01, 0.1, 0.15, 0.25, 0.5, 0.75, 1], 'm__penalty': ['elasticnet'], 'm__solver': ['saga'], 'm__l1_ratio': [0.25, 0.5, 0.75]}]"
   ]
  },
  {
   "cell_type": "code",
   "execution_count": 68,
   "id": "abfc1d42",
   "metadata": {
    "execution": {
     "iopub.execute_input": "2022-12-12T19:56:56.053322Z",
     "iopub.status.busy": "2022-12-12T19:56:56.052886Z",
     "iopub.status.idle": "2022-12-12T20:03:48.122342Z",
     "shell.execute_reply": "2022-12-12T20:03:48.120961Z"
    },
    "papermill": {
     "duration": 412.150285,
     "end_time": "2022-12-12T20:03:48.162863",
     "exception": false,
     "start_time": "2022-12-12T19:56:56.012578",
     "status": "completed"
    },
    "tags": []
   },
   "outputs": [
    {
     "name": "stdout",
     "output_type": "stream",
     "text": [
      "Best Accuracy: 83.73 %\n",
      "Best Parameters: {'m__solver': 'liblinear', 'm__penalty': 'l1', 'm__C': 1}\n"
     ]
    }
   ],
   "source": [
    "lr_search = RandomizedSearchCV(lr_pipe,\n",
    "                           param_distributions = lr_grid,\n",
    "                           scoring = 'accuracy',\n",
    "                           cv = cv, random_state = 0)\n",
    "lr_search.fit(X_new_lr, y_train)\n",
    "best_accuracy = lr_search.best_score_\n",
    "best_parameters = lr_search.best_params_\n",
    "print(\"Best Accuracy: {:.2f} %\".format(best_accuracy*100))\n",
    "print(\"Best Parameters:\", best_parameters)"
   ]
  },
  {
   "cell_type": "markdown",
   "id": "5e139cdd",
   "metadata": {
    "papermill": {
     "duration": 0.037937,
     "end_time": "2022-12-12T20:03:48.239269",
     "exception": false,
     "start_time": "2022-12-12T20:03:48.201332",
     "status": "completed"
    },
    "tags": []
   },
   "source": [
    "* #### The Selected Logistic Regression Model"
   ]
  },
  {
   "cell_type": "code",
   "execution_count": 69,
   "id": "399c66e6",
   "metadata": {
    "execution": {
     "iopub.execute_input": "2022-12-12T20:03:48.320207Z",
     "iopub.status.busy": "2022-12-12T20:03:48.319067Z",
     "iopub.status.idle": "2022-12-12T20:03:48.331057Z",
     "shell.execute_reply": "2022-12-12T20:03:48.329872Z"
    },
    "papermill": {
     "duration": 0.05591,
     "end_time": "2022-12-12T20:03:48.333605",
     "exception": false,
     "start_time": "2022-12-12T20:03:48.277695",
     "status": "completed"
    },
    "tags": []
   },
   "outputs": [
    {
     "data": {
      "text/plain": [
       "Pipeline(steps=[('s', RFECV(estimator=GradientBoostingClassifier())),\n",
       "                ('m',\n",
       "                 LogisticRegression(C=1, penalty='l1', solver='liblinear'))])"
      ]
     },
     "execution_count": 69,
     "metadata": {},
     "output_type": "execute_result"
    }
   ],
   "source": [
    "best_lr_pipe = lr_search.best_estimator_\n",
    "best_lr_pipe"
   ]
  },
  {
   "cell_type": "markdown",
   "id": "de9d8f7f",
   "metadata": {
    "papermill": {
     "duration": 0.039238,
     "end_time": "2022-12-12T20:03:48.411432",
     "exception": false,
     "start_time": "2022-12-12T20:03:48.372194",
     "status": "completed"
    },
    "tags": []
   },
   "source": [
    "* #### Predicting the Test set results"
   ]
  },
  {
   "cell_type": "code",
   "execution_count": 70,
   "id": "6634fd00",
   "metadata": {
    "execution": {
     "iopub.execute_input": "2022-12-12T20:03:48.491334Z",
     "iopub.status.busy": "2022-12-12T20:03:48.490452Z",
     "iopub.status.idle": "2022-12-12T20:03:48.496861Z",
     "shell.execute_reply": "2022-12-12T20:03:48.495899Z"
    },
    "papermill": {
     "duration": 0.049708,
     "end_time": "2022-12-12T20:03:48.499603",
     "exception": false,
     "start_time": "2022-12-12T20:03:48.449895",
     "status": "completed"
    },
    "tags": []
   },
   "outputs": [],
   "source": [
    "lr_pred = best_lr_pipe.predict(X_test[:,lr_mask])"
   ]
  },
  {
   "cell_type": "markdown",
   "id": "024e121d",
   "metadata": {
    "papermill": {
     "duration": 0.040839,
     "end_time": "2022-12-12T20:03:48.581810",
     "exception": false,
     "start_time": "2022-12-12T20:03:48.540971",
     "status": "completed"
    },
    "tags": []
   },
   "source": [
    "* #### Making the Confusion Matrix"
   ]
  },
  {
   "cell_type": "code",
   "execution_count": 71,
   "id": "79f5deb2",
   "metadata": {
    "execution": {
     "iopub.execute_input": "2022-12-12T20:03:48.663748Z",
     "iopub.status.busy": "2022-12-12T20:03:48.662898Z",
     "iopub.status.idle": "2022-12-12T20:03:48.935109Z",
     "shell.execute_reply": "2022-12-12T20:03:48.933949Z"
    },
    "papermill": {
     "duration": 0.315988,
     "end_time": "2022-12-12T20:03:48.938012",
     "exception": false,
     "start_time": "2022-12-12T20:03:48.622024",
     "status": "completed"
    },
    "tags": []
   },
   "outputs": [
    {
     "name": "stdout",
     "output_type": "stream",
     "text": [
      "0.8116591928251121\n"
     ]
    },
    {
     "data": {
      "text/plain": [
       "<sklearn.metrics._plot.confusion_matrix.ConfusionMatrixDisplay at 0x7f8bacc3aad0>"
      ]
     },
     "execution_count": 71,
     "metadata": {},
     "output_type": "execute_result"
    },
    {
     "data": {
      "image/png": "[encoded data removed]",
      "text/plain": [
       "<Figure size 432x288 with 2 Axes>"
      ]
     },
     "metadata": {
      "needs_background": "light"
     },
     "output_type": "display_data"
    }
   ],
   "source": [
    "cm = confusion_matrix(y_test, lr_pred)\n",
    "# print(cm)\n",
    "\n",
    "lr_test_accuracy = accuracy_score(y_test, lr_pred)\n",
    "print(lr_test_accuracy)\n",
    "\n",
    "cm_display = ConfusionMatrixDisplay(cm, display_labels = [False, True])\n",
    "cm_display.plot()"
   ]
  },
  {
   "cell_type": "code",
   "execution_count": 72,
   "id": "20b22eb8",
   "metadata": {
    "execution": {
     "iopub.execute_input": "2022-12-12T20:03:49.019940Z",
     "iopub.status.busy": "2022-12-12T20:03:49.019454Z",
     "iopub.status.idle": "2022-12-12T20:03:49.025528Z",
     "shell.execute_reply": "2022-12-12T20:03:49.024317Z"
    },
    "papermill": {
     "duration": 0.050538,
     "end_time": "2022-12-12T20:03:49.028128",
     "exception": false,
     "start_time": "2022-12-12T20:03:48.977590",
     "status": "completed"
    },
    "tags": []
   },
   "outputs": [],
   "source": [
    "accuracy_results['Logistic Regression'] = ['GradientBoostingClassifier', best_accuracy, lr_test_accuracy] "
   ]
  },
  {
   "cell_type": "markdown",
   "id": "f575a634",
   "metadata": {
    "papermill": {
     "duration": 0.038604,
     "end_time": "2022-12-12T20:03:49.106179",
     "exception": false,
     "start_time": "2022-12-12T20:03:49.067575",
     "status": "completed"
    },
    "tags": []
   },
   "source": [
    "# **Conclusions**"
   ]
  },
  {
   "cell_type": "markdown",
   "id": "15520d3d",
   "metadata": {
    "papermill": {
     "duration": 0.038302,
     "end_time": "2022-12-12T20:03:49.183115",
     "exception": false,
     "start_time": "2022-12-12T20:03:49.144813",
     "status": "completed"
    },
    "tags": []
   },
   "source": [
    "### Comparing the performance of the models"
   ]
  },
  {
   "cell_type": "code",
   "execution_count": 73,
   "id": "b3af6b21",
   "metadata": {
    "execution": {
     "iopub.execute_input": "2022-12-12T20:03:49.262346Z",
     "iopub.status.busy": "2022-12-12T20:03:49.261891Z",
     "iopub.status.idle": "2022-12-12T20:03:49.269622Z",
     "shell.execute_reply": "2022-12-12T20:03:49.268358Z"
    },
    "papermill": {
     "duration": 0.050394,
     "end_time": "2022-12-12T20:03:49.272177",
     "exception": false,
     "start_time": "2022-12-12T20:03:49.221783",
     "status": "completed"
    },
    "tags": []
   },
   "outputs": [],
   "source": [
    "final_results = pd.DataFrame.from_dict(accuracy_results, orient='index', columns=['RFECV_Estimator', 'Train_Accuracy', 'Test_Accuracy'])"
   ]
  },
  {
   "cell_type": "code",
   "execution_count": 74,
   "id": "3428fd46",
   "metadata": {
    "execution": {
     "iopub.execute_input": "2022-12-12T20:03:49.351269Z",
     "iopub.status.busy": "2022-12-12T20:03:49.350767Z",
     "iopub.status.idle": "2022-12-12T20:03:49.356514Z",
     "shell.execute_reply": "2022-12-12T20:03:49.355476Z"
    },
    "papermill": {
     "duration": 0.047937,
     "end_time": "2022-12-12T20:03:49.358855",
     "exception": false,
     "start_time": "2022-12-12T20:03:49.310918",
     "status": "completed"
    },
    "tags": []
   },
   "outputs": [],
   "source": [
    "final_results.index.name = 'Model'"
   ]
  },
  {
   "cell_type": "code",
   "execution_count": 75,
   "id": "111dffa6",
   "metadata": {
    "execution": {
     "iopub.execute_input": "2022-12-12T20:03:49.441419Z",
     "iopub.status.busy": "2022-12-12T20:03:49.440937Z",
     "iopub.status.idle": "2022-12-12T20:03:49.448461Z",
     "shell.execute_reply": "2022-12-12T20:03:49.447056Z"
    },
    "papermill": {
     "duration": 0.051682,
     "end_time": "2022-12-12T20:03:49.451031",
     "exception": false,
     "start_time": "2022-12-12T20:03:49.399349",
     "status": "completed"
    },
    "tags": []
   },
   "outputs": [],
   "source": [
    "final_results.reset_index(inplace=True)"
   ]
  },
  {
   "cell_type": "code",
   "execution_count": 76,
   "id": "d1b00262",
   "metadata": {
    "execution": {
     "iopub.execute_input": "2022-12-12T20:03:49.536050Z",
     "iopub.status.busy": "2022-12-12T20:03:49.534676Z",
     "iopub.status.idle": "2022-12-12T20:03:49.542760Z",
     "shell.execute_reply": "2022-12-12T20:03:49.541474Z"
    },
    "papermill": {
     "duration": 0.053048,
     "end_time": "2022-12-12T20:03:49.545492",
     "exception": false,
     "start_time": "2022-12-12T20:03:49.492444",
     "status": "completed"
    },
    "tags": []
   },
   "outputs": [],
   "source": [
    "final_results['Train_Accuracy'] = final_results['Train_Accuracy'] * 100\n",
    "final_results['Test_Accuracy'] = final_results['Test_Accuracy'] * 100"
   ]
  },
  {
   "cell_type": "code",
   "execution_count": 77,
   "id": "f1a0ef2e",
   "metadata": {
    "execution": {
     "iopub.execute_input": "2022-12-12T20:03:49.627245Z",
     "iopub.status.busy": "2022-12-12T20:03:49.626750Z",
     "iopub.status.idle": "2022-12-12T20:03:49.640425Z",
     "shell.execute_reply": "2022-12-12T20:03:49.639290Z"
    },
    "papermill": {
     "duration": 0.05692,
     "end_time": "2022-12-12T20:03:49.642867",
     "exception": false,
     "start_time": "2022-12-12T20:03:49.585947",
     "status": "completed"
    },
    "tags": []
   },
   "outputs": [
    {
     "data": {
      "text/html": [
       "<div>\n",
       "<style scoped>\n",
       "    .dataframe tbody tr th:only-of-type {\n",
       "        vertical-align: middle;\n",
       "    }\n",
       "\n",
       "    .dataframe tbody tr th {\n",
       "        vertical-align: top;\n",
       "    }\n",
       "\n",
       "    .dataframe thead th {\n",
       "        text-align: right;\n",
       "    }\n",
       "</style>\n",
       "<table border=\"1\" class=\"dataframe\">\n",
       "  <thead>\n",
       "    <tr style=\"text-align: right;\">\n",
       "      <th></th>\n",
       "      <th>Model</th>\n",
       "      <th>RFECV_Estimator</th>\n",
       "      <th>Train_Accuracy</th>\n",
       "      <th>Test_Accuracy</th>\n",
       "    </tr>\n",
       "  </thead>\n",
       "  <tbody>\n",
       "    <tr>\n",
       "      <th>0</th>\n",
       "      <td>Random Forest</td>\n",
       "      <td>GradientBoostingClassifier</td>\n",
       "      <td>85.328660</td>\n",
       "      <td>82.511211</td>\n",
       "    </tr>\n",
       "    <tr>\n",
       "      <th>1</th>\n",
       "      <td>K-NN</td>\n",
       "      <td>DecisionTreeClassifier</td>\n",
       "      <td>85.278908</td>\n",
       "      <td>82.062780</td>\n",
       "    </tr>\n",
       "    <tr>\n",
       "      <th>2</th>\n",
       "      <td>Logistic Regression</td>\n",
       "      <td>GradientBoostingClassifier</td>\n",
       "      <td>83.729836</td>\n",
       "      <td>81.165919</td>\n",
       "    </tr>\n",
       "  </tbody>\n",
       "</table>\n",
       "</div>"
      ],
      "text/plain": [
       "                 Model             RFECV_Estimator  Train_Accuracy  \\\n",
       "0        Random Forest  GradientBoostingClassifier       85.328660   \n",
       "1                 K-NN      DecisionTreeClassifier       85.278908   \n",
       "2  Logistic Regression  GradientBoostingClassifier       83.729836   \n",
       "\n",
       "   Test_Accuracy  \n",
       "0      82.511211  \n",
       "1      82.062780  \n",
       "2      81.165919  "
      ]
     },
     "execution_count": 77,
     "metadata": {},
     "output_type": "execute_result"
    }
   ],
   "source": [
    "final_results.head()"
   ]
  },
  {
   "cell_type": "code",
   "execution_count": 78,
   "id": "85f57194",
   "metadata": {
    "execution": {
     "iopub.execute_input": "2022-12-12T20:03:49.725735Z",
     "iopub.status.busy": "2022-12-12T20:03:49.725269Z",
     "iopub.status.idle": "2022-12-12T20:03:50.036022Z",
     "shell.execute_reply": "2022-12-12T20:03:50.034873Z"
    },
    "papermill": {
     "duration": 0.356108,
     "end_time": "2022-12-12T20:03:50.039199",
     "exception": false,
     "start_time": "2022-12-12T20:03:49.683091",
     "status": "completed"
    },
    "tags": []
   },
   "outputs": [
    {
     "data": {
      "text/plain": [
       "<AxesSubplot:xlabel='Model', ylabel='Accuracy score %'>"
      ]
     },
     "execution_count": 78,
     "metadata": {},
     "output_type": "execute_result"
    },
    {
     "data": {
      "image/png": "[encoded data removed]",
      "text/plain": [
       "<Figure size 432x288 with 1 Axes>"
      ]
     },
     "metadata": {
      "needs_background": "light"
     },
     "output_type": "display_data"
    }
   ],
   "source": [
    "sns.barplot(data=final_results.melt(id_vars='Model',\n",
    "                                  value_vars = ['Train_Accuracy', 'Test_Accuracy'],\n",
    "                                   value_name='Accuracy score %',\n",
    "                                   var_name = ''),\n",
    "            x='Model', y='Accuracy score %',hue='', palette=(\"Set2\"))"
   ]
  },
  {
   "cell_type": "markdown",
   "id": "f26ad5d0",
   "metadata": {
    "papermill": {
     "duration": 0.039995,
     "end_time": "2022-12-12T20:03:50.120808",
     "exception": false,
     "start_time": "2022-12-12T20:03:50.080813",
     "status": "completed"
    },
    "tags": []
   },
   "source": [
    "**To conclude,** the best performance was **Random Forest**, with an accuracy score of 85.328% for the train set, and an accuracy score of 82.511% for the test set.\n",
    "\n",
    "I did a lot of experiments, tried many classification models, the forum of the competition helped me, and google- of course...\n",
    "\n",
    "The things that were impactful in improving the performance-\n",
    "- Feature engineering: grouping columns, filling the missing data, converting the features from continuous to categorial.\n",
    "- RFECV method for feature selection using a specific estimator.\n",
    "- Hyperparamter tuning with GridSearchCV and RandomizedSearchCV.\n",
    "\n",
    "\n",
    "This is my first serious project in Kaggle, I learned a lot from this project, and this is a satisfying feeling :)"
   ]
  },
  {
   "cell_type": "markdown",
   "id": "61a0e6de",
   "metadata": {
    "papermill": {
     "duration": 0.039107,
     "end_time": "2022-12-12T20:03:50.200229",
     "exception": false,
     "start_time": "2022-12-12T20:03:50.161122",
     "status": "completed"
    },
    "tags": []
   },
   "source": [
    "# **Predicting the Survival Status on Unseen Data**"
   ]
  },
  {
   "cell_type": "code",
   "execution_count": 79,
   "id": "79c29610",
   "metadata": {
    "execution": {
     "iopub.execute_input": "2022-12-12T20:03:50.281869Z",
     "iopub.status.busy": "2022-12-12T20:03:50.280616Z",
     "iopub.status.idle": "2022-12-12T20:03:50.299726Z",
     "shell.execute_reply": "2022-12-12T20:03:50.298542Z"
    },
    "papermill": {
     "duration": 0.062153,
     "end_time": "2022-12-12T20:03:50.301966",
     "exception": false,
     "start_time": "2022-12-12T20:03:50.239813",
     "status": "completed"
    },
    "tags": []
   },
   "outputs": [
    {
     "data": {
      "text/html": [
       "<div>\n",
       "<style scoped>\n",
       "    .dataframe tbody tr th:only-of-type {\n",
       "        vertical-align: middle;\n",
       "    }\n",
       "\n",
       "    .dataframe tbody tr th {\n",
       "        vertical-align: top;\n",
       "    }\n",
       "\n",
       "    .dataframe thead th {\n",
       "        text-align: right;\n",
       "    }\n",
       "</style>\n",
       "<table border=\"1\" class=\"dataframe\">\n",
       "  <thead>\n",
       "    <tr style=\"text-align: right;\">\n",
       "      <th></th>\n",
       "      <th>Pclass</th>\n",
       "      <th>AgeGroup_code</th>\n",
       "      <th>FareBins_code</th>\n",
       "      <th>Sex_cat</th>\n",
       "      <th>Family_Size</th>\n",
       "      <th>Family_Survival</th>\n",
       "    </tr>\n",
       "  </thead>\n",
       "  <tbody>\n",
       "    <tr>\n",
       "      <th>0</th>\n",
       "      <td>3</td>\n",
       "      <td>0</td>\n",
       "      <td>0</td>\n",
       "      <td>1</td>\n",
       "      <td>0</td>\n",
       "      <td>0.5</td>\n",
       "    </tr>\n",
       "    <tr>\n",
       "      <th>1</th>\n",
       "      <td>3</td>\n",
       "      <td>0</td>\n",
       "      <td>0</td>\n",
       "      <td>0</td>\n",
       "      <td>1</td>\n",
       "      <td>0.5</td>\n",
       "    </tr>\n",
       "    <tr>\n",
       "      <th>2</th>\n",
       "      <td>2</td>\n",
       "      <td>0</td>\n",
       "      <td>1</td>\n",
       "      <td>1</td>\n",
       "      <td>0</td>\n",
       "      <td>0.5</td>\n",
       "    </tr>\n",
       "    <tr>\n",
       "      <th>3</th>\n",
       "      <td>3</td>\n",
       "      <td>0</td>\n",
       "      <td>1</td>\n",
       "      <td>1</td>\n",
       "      <td>0</td>\n",
       "      <td>0.5</td>\n",
       "    </tr>\n",
       "    <tr>\n",
       "      <th>4</th>\n",
       "      <td>3</td>\n",
       "      <td>0</td>\n",
       "      <td>2</td>\n",
       "      <td>0</td>\n",
       "      <td>2</td>\n",
       "      <td>1.0</td>\n",
       "    </tr>\n",
       "    <tr>\n",
       "      <th>...</th>\n",
       "      <td>...</td>\n",
       "      <td>...</td>\n",
       "      <td>...</td>\n",
       "      <td>...</td>\n",
       "      <td>...</td>\n",
       "      <td>...</td>\n",
       "    </tr>\n",
       "    <tr>\n",
       "      <th>413</th>\n",
       "      <td>3</td>\n",
       "      <td>0</td>\n",
       "      <td>1</td>\n",
       "      <td>1</td>\n",
       "      <td>0</td>\n",
       "      <td>0.5</td>\n",
       "    </tr>\n",
       "    <tr>\n",
       "      <th>414</th>\n",
       "      <td>1</td>\n",
       "      <td>0</td>\n",
       "      <td>4</td>\n",
       "      <td>0</td>\n",
       "      <td>0</td>\n",
       "      <td>1.0</td>\n",
       "    </tr>\n",
       "    <tr>\n",
       "      <th>415</th>\n",
       "      <td>3</td>\n",
       "      <td>0</td>\n",
       "      <td>0</td>\n",
       "      <td>1</td>\n",
       "      <td>0</td>\n",
       "      <td>0.5</td>\n",
       "    </tr>\n",
       "    <tr>\n",
       "      <th>416</th>\n",
       "      <td>3</td>\n",
       "      <td>0</td>\n",
       "      <td>1</td>\n",
       "      <td>1</td>\n",
       "      <td>0</td>\n",
       "      <td>0.5</td>\n",
       "    </tr>\n",
       "    <tr>\n",
       "      <th>417</th>\n",
       "      <td>3</td>\n",
       "      <td>3</td>\n",
       "      <td>3</td>\n",
       "      <td>1</td>\n",
       "      <td>2</td>\n",
       "      <td>1.0</td>\n",
       "    </tr>\n",
       "  </tbody>\n",
       "</table>\n",
       "<p>418 rows × 6 columns</p>\n",
       "</div>"
      ],
      "text/plain": [
       "     Pclass  AgeGroup_code  FareBins_code  Sex_cat  Family_Size  \\\n",
       "0         3              0              0        1            0   \n",
       "1         3              0              0        0            1   \n",
       "2         2              0              1        1            0   \n",
       "3         3              0              1        1            0   \n",
       "4         3              0              2        0            2   \n",
       "..      ...            ...            ...      ...          ...   \n",
       "413       3              0              1        1            0   \n",
       "414       1              0              4        0            0   \n",
       "415       3              0              0        1            0   \n",
       "416       3              0              1        1            0   \n",
       "417       3              3              3        1            2   \n",
       "\n",
       "     Family_Survival  \n",
       "0                0.5  \n",
       "1                0.5  \n",
       "2                0.5  \n",
       "3                0.5  \n",
       "4                1.0  \n",
       "..               ...  \n",
       "413              0.5  \n",
       "414              1.0  \n",
       "415              0.5  \n",
       "416              0.5  \n",
       "417              1.0  \n",
       "\n",
       "[418 rows x 6 columns]"
      ]
     },
     "execution_count": 79,
     "metadata": {},
     "output_type": "execute_result"
    }
   ],
   "source": [
    "X_test_data = test_data.copy()\n",
    "X_test_data"
   ]
  },
  {
   "cell_type": "code",
   "execution_count": 80,
   "id": "959262a2",
   "metadata": {
    "execution": {
     "iopub.execute_input": "2022-12-12T20:03:50.382567Z",
     "iopub.status.busy": "2022-12-12T20:03:50.382067Z",
     "iopub.status.idle": "2022-12-12T20:03:50.391048Z",
     "shell.execute_reply": "2022-12-12T20:03:50.389720Z"
    },
    "papermill": {
     "duration": 0.052094,
     "end_time": "2022-12-12T20:03:50.393474",
     "exception": false,
     "start_time": "2022-12-12T20:03:50.341380",
     "status": "completed"
    },
    "tags": []
   },
   "outputs": [],
   "source": [
    "X_test_data = sc.transform(X_test_data)"
   ]
  },
  {
   "cell_type": "code",
   "execution_count": 81,
   "id": "9d90e229",
   "metadata": {
    "execution": {
     "iopub.execute_input": "2022-12-12T20:03:50.474711Z",
     "iopub.status.busy": "2022-12-12T20:03:50.474229Z",
     "iopub.status.idle": "2022-12-12T20:03:50.661619Z",
     "shell.execute_reply": "2022-12-12T20:03:50.660292Z"
    },
    "papermill": {
     "duration": 0.2316,
     "end_time": "2022-12-12T20:03:50.664626",
     "exception": false,
     "start_time": "2022-12-12T20:03:50.433026",
     "status": "completed"
    },
    "tags": []
   },
   "outputs": [],
   "source": [
    "unseen_predict = best_rf_pipe.predict(X_test_data[:,rf_mask])"
   ]
  },
  {
   "cell_type": "code",
   "execution_count": 82,
   "id": "1340d4e6",
   "metadata": {
    "execution": {
     "iopub.execute_input": "2022-12-12T20:03:50.747049Z",
     "iopub.status.busy": "2022-12-12T20:03:50.745922Z",
     "iopub.status.idle": "2022-12-12T20:03:50.759873Z",
     "shell.execute_reply": "2022-12-12T20:03:50.758595Z"
    },
    "papermill": {
     "duration": 0.058732,
     "end_time": "2022-12-12T20:03:50.762828",
     "exception": false,
     "start_time": "2022-12-12T20:03:50.704096",
     "status": "completed"
    },
    "tags": []
   },
   "outputs": [
    {
     "data": {
      "text/html": [
       "<div>\n",
       "<style scoped>\n",
       "    .dataframe tbody tr th:only-of-type {\n",
       "        vertical-align: middle;\n",
       "    }\n",
       "\n",
       "    .dataframe tbody tr th {\n",
       "        vertical-align: top;\n",
       "    }\n",
       "\n",
       "    .dataframe thead th {\n",
       "        text-align: right;\n",
       "    }\n",
       "</style>\n",
       "<table border=\"1\" class=\"dataframe\">\n",
       "  <thead>\n",
       "    <tr style=\"text-align: right;\">\n",
       "      <th></th>\n",
       "      <th>PassengerId</th>\n",
       "      <th>Survived</th>\n",
       "    </tr>\n",
       "  </thead>\n",
       "  <tbody>\n",
       "    <tr>\n",
       "      <th>0</th>\n",
       "      <td>892</td>\n",
       "      <td>0</td>\n",
       "    </tr>\n",
       "    <tr>\n",
       "      <th>1</th>\n",
       "      <td>893</td>\n",
       "      <td>1</td>\n",
       "    </tr>\n",
       "    <tr>\n",
       "      <th>2</th>\n",
       "      <td>894</td>\n",
       "      <td>0</td>\n",
       "    </tr>\n",
       "    <tr>\n",
       "      <th>3</th>\n",
       "      <td>895</td>\n",
       "      <td>0</td>\n",
       "    </tr>\n",
       "    <tr>\n",
       "      <th>4</th>\n",
       "      <td>896</td>\n",
       "      <td>1</td>\n",
       "    </tr>\n",
       "  </tbody>\n",
       "</table>\n",
       "</div>"
      ],
      "text/plain": [
       "   PassengerId  Survived\n",
       "0          892         0\n",
       "1          893         1\n",
       "2          894         0\n",
       "3          895         0\n",
       "4          896         1"
      ]
     },
     "execution_count": 82,
     "metadata": {},
     "output_type": "execute_result"
    }
   ],
   "source": [
    "output = pd.DataFrame({'PassengerId': all_data['PassengerId'][891:], 'Survived': unseen_predict})\n",
    "output.head()"
   ]
  },
  {
   "cell_type": "code",
   "execution_count": 83,
   "id": "69eaf957",
   "metadata": {
    "execution": {
     "iopub.execute_input": "2022-12-12T20:03:50.846883Z",
     "iopub.status.busy": "2022-12-12T20:03:50.846440Z",
     "iopub.status.idle": "2022-12-12T20:03:50.856912Z",
     "shell.execute_reply": "2022-12-12T20:03:50.855442Z"
    },
    "papermill": {
     "duration": 0.055376,
     "end_time": "2022-12-12T20:03:50.859694",
     "exception": false,
     "start_time": "2022-12-12T20:03:50.804318",
     "status": "completed"
    },
    "tags": []
   },
   "outputs": [
    {
     "name": "stdout",
     "output_type": "stream",
     "text": [
      "Your submission was successfully saved!\n"
     ]
    }
   ],
   "source": [
    "output.to_csv('submission.csv', index=False)\n",
    "print(\"Your submission was successfully saved!\")"
   ]
  }
 ],
 "metadata": {
  "kernelspec": {
   "display_name": "Python 3",
   "language": "python",
   "name": "python3"
  },
  "language_info": {
   "codemirror_mode": {
    "name": "ipython",
    "version": 3
   },
   "file_extension": ".py",
   "mimetype": "text/x-python",
   "name": "python",
   "nbconvert_exporter": "python",
   "pygments_lexer": "ipython3",
   "version": "3.7.12"
  },
  "papermill": {
   "default_parameters": {},
   "duration": 2088.747841,
   "end_time": "2022-12-12T20:03:53.528567",
   "environment_variables": {},
   "exception": null,
   "input_path": "__notebook__.ipynb",
   "output_path": "__notebook__.ipynb",
   "parameters": {},
   "start_time": "2022-12-12T19:29:04.780726",
   "version": "2.3.4"
  }
 },
 "nbformat": 4,
 "nbformat_minor": 5
}
