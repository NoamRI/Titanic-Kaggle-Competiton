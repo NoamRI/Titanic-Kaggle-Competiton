{
 "cells": [
  {
   "cell_type": "code",
   "execution_count": 1,
   "id": "1fd695b8",
   "metadata": {
    "_cell_guid": "b1076dfc-b9ad-4769-8c92-a6c4dae69d19",
    "_uuid": "8f2839f25d086af736a60e9eeb907d3b93b6e0e5",
    "execution": {
     "iopub.execute_input": "2022-12-01T13:35:48.245214Z",
     "iopub.status.busy": "2022-12-01T13:35:48.244716Z",
     "iopub.status.idle": "2022-12-01T13:35:48.259115Z",
     "shell.execute_reply": "2022-12-01T13:35:48.257625Z"
    },
    "papermill": {
     "duration": 0.052569,
     "end_time": "2022-12-01T13:35:48.261886",
     "exception": false,
     "start_time": "2022-12-01T13:35:48.209317",
     "status": "completed"
    },
    "tags": []
   },
   "outputs": [
    {
     "name": "stdout",
     "output_type": "stream",
     "text": [
      "/kaggle/input/titanic/train.csv\n",
      "/kaggle/input/titanic/test.csv\n",
      "/kaggle/input/titanic/gender_submission.csv\n"
     ]
    }
   ],
   "source": [
    "# This Python 3 environment comes with many helpful analytics libraries installed\n",
    "# It is defined by the kaggle/python Docker image: https://github.com/kaggle/docker-python\n",
    "# For example, here's several helpful packages to load\n",
    "\n",
    "import numpy as np # linear algebra\n",
    "import pandas as pd # data processing, CSV file I/O (e.g. pd.read_csv)\n",
    "\n",
    "# Input data files are available in the read-only \"../input/\" directory\n",
    "# For example, running this (by clicking run or pressing Shift+Enter) will list all files under the input directory\n",
    "\n",
    "import os\n",
    "for dirname, _, filenames in os.walk('/kaggle/input'):\n",
    "    for filename in filenames:\n",
    "        print(os.path.join(dirname, filename))\n",
    "\n",
    "# You can write up to 20GB to the current directory (/kaggle/working/) that gets preserved as output when you create a version using \"Save & Run All\" \n",
    "# You can also write temporary files to /kaggle/temp/, but they won't be saved outside of the current session"
   ]
  },
  {
   "cell_type": "markdown",
   "id": "6e5c2d9a",
   "metadata": {
    "papermill": {
     "duration": 0.026219,
     "end_time": "2022-12-01T13:35:48.313692",
     "exception": false,
     "start_time": "2022-12-01T13:35:48.287473",
     "status": "completed"
    },
    "tags": []
   },
   "source": [
    "On April 15, 1912, during her maiden voyage, the widely considered “unsinkable” RMS Titanic sank after colliding with an iceberg. Unfortunately, there weren’t enough lifeboats for everyone onboard, resulting in the death of 1502 out of 2224 passengers and crew.\n",
    "\n",
    "While there was some element of luck involved in surviving, it seems some groups of people were more likely to survive than others.\n",
    "\n",
    "In this notebook I would like the answer the question-\n",
    "“what sorts of people were more likely to survive?”\n",
    "using some classification models that predicts which passengers survived the Titanic shipwreck."
   ]
  },
  {
   "cell_type": "code",
   "execution_count": 2,
   "id": "f66cd730",
   "metadata": {
    "execution": {
     "iopub.execute_input": "2022-12-01T13:35:48.371837Z",
     "iopub.status.busy": "2022-12-01T13:35:48.371077Z",
     "iopub.status.idle": "2022-12-01T13:35:49.274589Z",
     "shell.execute_reply": "2022-12-01T13:35:49.273195Z"
    },
    "papermill": {
     "duration": 0.935147,
     "end_time": "2022-12-01T13:35:49.277472",
     "exception": false,
     "start_time": "2022-12-01T13:35:48.342325",
     "status": "completed"
    },
    "tags": []
   },
   "outputs": [],
   "source": [
    "import matplotlib.pyplot as plt\n",
    "import seaborn as sns"
   ]
  },
  {
   "cell_type": "markdown",
   "id": "aa28b16a",
   "metadata": {
    "papermill": {
     "duration": 0.023286,
     "end_time": "2022-12-01T13:35:49.324091",
     "exception": false,
     "start_time": "2022-12-01T13:35:49.300805",
     "status": "completed"
    },
    "tags": []
   },
   "source": [
    "# **Importing the datasets**"
   ]
  },
  {
   "cell_type": "markdown",
   "id": "b0b3d6e1",
   "metadata": {
    "papermill": {
     "duration": 0.023241,
     "end_time": "2022-12-01T13:35:49.372419",
     "exception": false,
     "start_time": "2022-12-01T13:35:49.349178",
     "status": "completed"
    },
    "tags": []
   },
   "source": [
    "## **Train data**"
   ]
  },
  {
   "cell_type": "code",
   "execution_count": 3,
   "id": "cd86cb62",
   "metadata": {
    "execution": {
     "iopub.execute_input": "2022-12-01T13:35:49.422619Z",
     "iopub.status.busy": "2022-12-01T13:35:49.421638Z",
     "iopub.status.idle": "2022-12-01T13:35:49.460691Z",
     "shell.execute_reply": "2022-12-01T13:35:49.459831Z"
    },
    "papermill": {
     "duration": 0.066315,
     "end_time": "2022-12-01T13:35:49.462714",
     "exception": false,
     "start_time": "2022-12-01T13:35:49.396399",
     "status": "completed"
    },
    "tags": []
   },
   "outputs": [
    {
     "data": {
      "text/html": [
       "<div>\n",
       "<style scoped>\n",
       "    .dataframe tbody tr th:only-of-type {\n",
       "        vertical-align: middle;\n",
       "    }\n",
       "\n",
       "    .dataframe tbody tr th {\n",
       "        vertical-align: top;\n",
       "    }\n",
       "\n",
       "    .dataframe thead th {\n",
       "        text-align: right;\n",
       "    }\n",
       "</style>\n",
       "<table border=\"1\" class=\"dataframe\">\n",
       "  <thead>\n",
       "    <tr style=\"text-align: right;\">\n",
       "      <th></th>\n",
       "      <th>PassengerId</th>\n",
       "      <th>Survived</th>\n",
       "      <th>Pclass</th>\n",
       "      <th>Name</th>\n",
       "      <th>Sex</th>\n",
       "      <th>Age</th>\n",
       "      <th>SibSp</th>\n",
       "      <th>Parch</th>\n",
       "      <th>Ticket</th>\n",
       "      <th>Fare</th>\n",
       "      <th>Cabin</th>\n",
       "      <th>Embarked</th>\n",
       "    </tr>\n",
       "  </thead>\n",
       "  <tbody>\n",
       "    <tr>\n",
       "      <th>0</th>\n",
       "      <td>1</td>\n",
       "      <td>0</td>\n",
       "      <td>3</td>\n",
       "      <td>Braund, Mr. Owen Harris</td>\n",
       "      <td>male</td>\n",
       "      <td>22.0</td>\n",
       "      <td>1</td>\n",
       "      <td>0</td>\n",
       "      <td>A/5 21171</td>\n",
       "      <td>7.2500</td>\n",
       "      <td>NaN</td>\n",
       "      <td>S</td>\n",
       "    </tr>\n",
       "    <tr>\n",
       "      <th>1</th>\n",
       "      <td>2</td>\n",
       "      <td>1</td>\n",
       "      <td>1</td>\n",
       "      <td>Cumings, Mrs. John Bradley (Florence Briggs Th...</td>\n",
       "      <td>female</td>\n",
       "      <td>38.0</td>\n",
       "      <td>1</td>\n",
       "      <td>0</td>\n",
       "      <td>PC 17599</td>\n",
       "      <td>71.2833</td>\n",
       "      <td>C85</td>\n",
       "      <td>C</td>\n",
       "    </tr>\n",
       "    <tr>\n",
       "      <th>2</th>\n",
       "      <td>3</td>\n",
       "      <td>1</td>\n",
       "      <td>3</td>\n",
       "      <td>Heikkinen, Miss. Laina</td>\n",
       "      <td>female</td>\n",
       "      <td>26.0</td>\n",
       "      <td>0</td>\n",
       "      <td>0</td>\n",
       "      <td>STON/O2. 3101282</td>\n",
       "      <td>7.9250</td>\n",
       "      <td>NaN</td>\n",
       "      <td>S</td>\n",
       "    </tr>\n",
       "    <tr>\n",
       "      <th>3</th>\n",
       "      <td>4</td>\n",
       "      <td>1</td>\n",
       "      <td>1</td>\n",
       "      <td>Futrelle, Mrs. Jacques Heath (Lily May Peel)</td>\n",
       "      <td>female</td>\n",
       "      <td>35.0</td>\n",
       "      <td>1</td>\n",
       "      <td>0</td>\n",
       "      <td>113803</td>\n",
       "      <td>53.1000</td>\n",
       "      <td>C123</td>\n",
       "      <td>S</td>\n",
       "    </tr>\n",
       "    <tr>\n",
       "      <th>4</th>\n",
       "      <td>5</td>\n",
       "      <td>0</td>\n",
       "      <td>3</td>\n",
       "      <td>Allen, Mr. William Henry</td>\n",
       "      <td>male</td>\n",
       "      <td>35.0</td>\n",
       "      <td>0</td>\n",
       "      <td>0</td>\n",
       "      <td>373450</td>\n",
       "      <td>8.0500</td>\n",
       "      <td>NaN</td>\n",
       "      <td>S</td>\n",
       "    </tr>\n",
       "  </tbody>\n",
       "</table>\n",
       "</div>"
      ],
      "text/plain": [
       "   PassengerId  Survived  Pclass  \\\n",
       "0            1         0       3   \n",
       "1            2         1       1   \n",
       "2            3         1       3   \n",
       "3            4         1       1   \n",
       "4            5         0       3   \n",
       "\n",
       "                                                Name     Sex   Age  SibSp  \\\n",
       "0                            Braund, Mr. Owen Harris    male  22.0      1   \n",
       "1  Cumings, Mrs. John Bradley (Florence Briggs Th...  female  38.0      1   \n",
       "2                             Heikkinen, Miss. Laina  female  26.0      0   \n",
       "3       Futrelle, Mrs. Jacques Heath (Lily May Peel)  female  35.0      1   \n",
       "4                           Allen, Mr. William Henry    male  35.0      0   \n",
       "\n",
       "   Parch            Ticket     Fare Cabin Embarked  \n",
       "0      0         A/5 21171   7.2500   NaN        S  \n",
       "1      0          PC 17599  71.2833   C85        C  \n",
       "2      0  STON/O2. 3101282   7.9250   NaN        S  \n",
       "3      0            113803  53.1000  C123        S  \n",
       "4      0            373450   8.0500   NaN        S  "
      ]
     },
     "execution_count": 3,
     "metadata": {},
     "output_type": "execute_result"
    }
   ],
   "source": [
    "train_data = pd.read_csv('/kaggle/input/titanic/train.csv')\n",
    "train_data.head()"
   ]
  },
  {
   "cell_type": "markdown",
   "id": "148b012c",
   "metadata": {
    "papermill": {
     "duration": 0.023232,
     "end_time": "2022-12-01T13:35:49.509294",
     "exception": false,
     "start_time": "2022-12-01T13:35:49.486062",
     "status": "completed"
    },
    "tags": []
   },
   "source": [
    "The train data contain information about 891 passengers (rows) and 12 columns."
   ]
  },
  {
   "cell_type": "code",
   "execution_count": 4,
   "id": "6b4679fd",
   "metadata": {
    "execution": {
     "iopub.execute_input": "2022-12-01T13:35:49.557911Z",
     "iopub.status.busy": "2022-12-01T13:35:49.557522Z",
     "iopub.status.idle": "2022-12-01T13:35:49.562794Z",
     "shell.execute_reply": "2022-12-01T13:35:49.562094Z"
    },
    "papermill": {
     "duration": 0.032555,
     "end_time": "2022-12-01T13:35:49.565111",
     "exception": false,
     "start_time": "2022-12-01T13:35:49.532556",
     "status": "completed"
    },
    "tags": []
   },
   "outputs": [
    {
     "data": {
      "text/plain": [
       "(891, 12)"
      ]
     },
     "execution_count": 4,
     "metadata": {},
     "output_type": "execute_result"
    }
   ],
   "source": [
    "train_data.shape"
   ]
  },
  {
   "cell_type": "markdown",
   "id": "2122b872",
   "metadata": {
    "papermill": {
     "duration": 0.023802,
     "end_time": "2022-12-01T13:35:49.613496",
     "exception": false,
     "start_time": "2022-12-01T13:35:49.589694",
     "status": "completed"
    },
    "tags": []
   },
   "source": [
    "## **Test data**"
   ]
  },
  {
   "cell_type": "code",
   "execution_count": 5,
   "id": "8278a10f",
   "metadata": {
    "execution": {
     "iopub.execute_input": "2022-12-01T13:35:49.661836Z",
     "iopub.status.busy": "2022-12-01T13:35:49.660918Z",
     "iopub.status.idle": "2022-12-01T13:35:49.682567Z",
     "shell.execute_reply": "2022-12-01T13:35:49.681087Z"
    },
    "papermill": {
     "duration": 0.047888,
     "end_time": "2022-12-01T13:35:49.684500",
     "exception": false,
     "start_time": "2022-12-01T13:35:49.636612",
     "status": "completed"
    },
    "tags": []
   },
   "outputs": [
    {
     "data": {
      "text/html": [
       "<div>\n",
       "<style scoped>\n",
       "    .dataframe tbody tr th:only-of-type {\n",
       "        vertical-align: middle;\n",
       "    }\n",
       "\n",
       "    .dataframe tbody tr th {\n",
       "        vertical-align: top;\n",
       "    }\n",
       "\n",
       "    .dataframe thead th {\n",
       "        text-align: right;\n",
       "    }\n",
       "</style>\n",
       "<table border=\"1\" class=\"dataframe\">\n",
       "  <thead>\n",
       "    <tr style=\"text-align: right;\">\n",
       "      <th></th>\n",
       "      <th>PassengerId</th>\n",
       "      <th>Pclass</th>\n",
       "      <th>Name</th>\n",
       "      <th>Sex</th>\n",
       "      <th>Age</th>\n",
       "      <th>SibSp</th>\n",
       "      <th>Parch</th>\n",
       "      <th>Ticket</th>\n",
       "      <th>Fare</th>\n",
       "      <th>Cabin</th>\n",
       "      <th>Embarked</th>\n",
       "    </tr>\n",
       "  </thead>\n",
       "  <tbody>\n",
       "    <tr>\n",
       "      <th>0</th>\n",
       "      <td>892</td>\n",
       "      <td>3</td>\n",
       "      <td>Kelly, Mr. James</td>\n",
       "      <td>male</td>\n",
       "      <td>34.5</td>\n",
       "      <td>0</td>\n",
       "      <td>0</td>\n",
       "      <td>330911</td>\n",
       "      <td>7.8292</td>\n",
       "      <td>NaN</td>\n",
       "      <td>Q</td>\n",
       "    </tr>\n",
       "    <tr>\n",
       "      <th>1</th>\n",
       "      <td>893</td>\n",
       "      <td>3</td>\n",
       "      <td>Wilkes, Mrs. James (Ellen Needs)</td>\n",
       "      <td>female</td>\n",
       "      <td>47.0</td>\n",
       "      <td>1</td>\n",
       "      <td>0</td>\n",
       "      <td>363272</td>\n",
       "      <td>7.0000</td>\n",
       "      <td>NaN</td>\n",
       "      <td>S</td>\n",
       "    </tr>\n",
       "    <tr>\n",
       "      <th>2</th>\n",
       "      <td>894</td>\n",
       "      <td>2</td>\n",
       "      <td>Myles, Mr. Thomas Francis</td>\n",
       "      <td>male</td>\n",
       "      <td>62.0</td>\n",
       "      <td>0</td>\n",
       "      <td>0</td>\n",
       "      <td>240276</td>\n",
       "      <td>9.6875</td>\n",
       "      <td>NaN</td>\n",
       "      <td>Q</td>\n",
       "    </tr>\n",
       "    <tr>\n",
       "      <th>3</th>\n",
       "      <td>895</td>\n",
       "      <td>3</td>\n",
       "      <td>Wirz, Mr. Albert</td>\n",
       "      <td>male</td>\n",
       "      <td>27.0</td>\n",
       "      <td>0</td>\n",
       "      <td>0</td>\n",
       "      <td>315154</td>\n",
       "      <td>8.6625</td>\n",
       "      <td>NaN</td>\n",
       "      <td>S</td>\n",
       "    </tr>\n",
       "    <tr>\n",
       "      <th>4</th>\n",
       "      <td>896</td>\n",
       "      <td>3</td>\n",
       "      <td>Hirvonen, Mrs. Alexander (Helga E Lindqvist)</td>\n",
       "      <td>female</td>\n",
       "      <td>22.0</td>\n",
       "      <td>1</td>\n",
       "      <td>1</td>\n",
       "      <td>3101298</td>\n",
       "      <td>12.2875</td>\n",
       "      <td>NaN</td>\n",
       "      <td>S</td>\n",
       "    </tr>\n",
       "  </tbody>\n",
       "</table>\n",
       "</div>"
      ],
      "text/plain": [
       "   PassengerId  Pclass                                          Name     Sex  \\\n",
       "0          892       3                              Kelly, Mr. James    male   \n",
       "1          893       3              Wilkes, Mrs. James (Ellen Needs)  female   \n",
       "2          894       2                     Myles, Mr. Thomas Francis    male   \n",
       "3          895       3                              Wirz, Mr. Albert    male   \n",
       "4          896       3  Hirvonen, Mrs. Alexander (Helga E Lindqvist)  female   \n",
       "\n",
       "    Age  SibSp  Parch   Ticket     Fare Cabin Embarked  \n",
       "0  34.5      0      0   330911   7.8292   NaN        Q  \n",
       "1  47.0      1      0   363272   7.0000   NaN        S  \n",
       "2  62.0      0      0   240276   9.6875   NaN        Q  \n",
       "3  27.0      0      0   315154   8.6625   NaN        S  \n",
       "4  22.0      1      1  3101298  12.2875   NaN        S  "
      ]
     },
     "execution_count": 5,
     "metadata": {},
     "output_type": "execute_result"
    }
   ],
   "source": [
    "test_data = pd.read_csv('/kaggle/input/titanic/test.csv')\n",
    "test_data.head()"
   ]
  },
  {
   "cell_type": "markdown",
   "id": "ac9980ac",
   "metadata": {
    "papermill": {
     "duration": 0.023608,
     "end_time": "2022-12-01T13:35:49.732230",
     "exception": false,
     "start_time": "2022-12-01T13:35:49.708622",
     "status": "completed"
    },
    "tags": []
   },
   "source": [
    "The test data contain information about 418 passengers (rows) and 11 columns."
   ]
  },
  {
   "cell_type": "code",
   "execution_count": 6,
   "id": "32e8ab33",
   "metadata": {
    "execution": {
     "iopub.execute_input": "2022-12-01T13:35:49.781499Z",
     "iopub.status.busy": "2022-12-01T13:35:49.780860Z",
     "iopub.status.idle": "2022-12-01T13:35:49.788425Z",
     "shell.execute_reply": "2022-12-01T13:35:49.786864Z"
    },
    "papermill": {
     "duration": 0.035932,
     "end_time": "2022-12-01T13:35:49.791275",
     "exception": false,
     "start_time": "2022-12-01T13:35:49.755343",
     "status": "completed"
    },
    "tags": []
   },
   "outputs": [
    {
     "data": {
      "text/plain": [
       "(418, 11)"
      ]
     },
     "execution_count": 6,
     "metadata": {},
     "output_type": "execute_result"
    }
   ],
   "source": [
    "test_data.shape"
   ]
  },
  {
   "cell_type": "markdown",
   "id": "0ddda164",
   "metadata": {
    "papermill": {
     "duration": 0.023256,
     "end_time": "2022-12-01T13:35:49.838117",
     "exception": false,
     "start_time": "2022-12-01T13:35:49.814861",
     "status": "completed"
    },
    "tags": []
   },
   "source": [
    "# **Features Engineering & Data Analysis**"
   ]
  },
  {
   "cell_type": "markdown",
   "id": "243c601e",
   "metadata": {
    "papermill": {
     "duration": 0.023503,
     "end_time": "2022-12-01T13:35:49.885630",
     "exception": false,
     "start_time": "2022-12-01T13:35:49.862127",
     "status": "completed"
    },
    "tags": []
   },
   "source": [
    "#### For Features Engineering let's combine the train set and the test set."
   ]
  },
  {
   "cell_type": "code",
   "execution_count": 7,
   "id": "c0e6c0a0",
   "metadata": {
    "execution": {
     "iopub.execute_input": "2022-12-01T13:35:49.935823Z",
     "iopub.status.busy": "2022-12-01T13:35:49.935131Z",
     "iopub.status.idle": "2022-12-01T13:35:49.950305Z",
     "shell.execute_reply": "2022-12-01T13:35:49.949030Z"
    },
    "papermill": {
     "duration": 0.04332,
     "end_time": "2022-12-01T13:35:49.953204",
     "exception": false,
     "start_time": "2022-12-01T13:35:49.909884",
     "status": "completed"
    },
    "tags": []
   },
   "outputs": [],
   "source": [
    "all_data = train_data.append(test_data)"
   ]
  },
  {
   "cell_type": "code",
   "execution_count": 8,
   "id": "4fb7f6ab",
   "metadata": {
    "execution": {
     "iopub.execute_input": "2022-12-01T13:35:50.002191Z",
     "iopub.status.busy": "2022-12-01T13:35:50.001823Z",
     "iopub.status.idle": "2022-12-01T13:35:50.007905Z",
     "shell.execute_reply": "2022-12-01T13:35:50.006887Z"
    },
    "papermill": {
     "duration": 0.033255,
     "end_time": "2022-12-01T13:35:50.010271",
     "exception": false,
     "start_time": "2022-12-01T13:35:49.977016",
     "status": "completed"
    },
    "tags": []
   },
   "outputs": [
    {
     "data": {
      "text/plain": [
       "(1309, 12)"
      ]
     },
     "execution_count": 8,
     "metadata": {},
     "output_type": "execute_result"
    }
   ],
   "source": [
    "all_data.shape"
   ]
  },
  {
   "cell_type": "markdown",
   "id": "ac27aa9f",
   "metadata": {
    "papermill": {
     "duration": 0.023672,
     "end_time": "2022-12-01T13:35:50.058175",
     "exception": false,
     "start_time": "2022-12-01T13:35:50.034503",
     "status": "completed"
    },
    "tags": []
   },
   "source": [
    "* #### **Adding Family_Size**"
   ]
  },
  {
   "cell_type": "code",
   "execution_count": 9,
   "id": "ab789fe9",
   "metadata": {
    "execution": {
     "iopub.execute_input": "2022-12-01T13:35:50.107556Z",
     "iopub.status.busy": "2022-12-01T13:35:50.107174Z",
     "iopub.status.idle": "2022-12-01T13:35:50.119626Z",
     "shell.execute_reply": "2022-12-01T13:35:50.117777Z"
    },
    "papermill": {
     "duration": 0.039868,
     "end_time": "2022-12-01T13:35:50.121927",
     "exception": false,
     "start_time": "2022-12-01T13:35:50.082059",
     "status": "completed"
    },
    "tags": []
   },
   "outputs": [],
   "source": [
    "all_data['Family_Size'] = all_data['SibSp'] + all_data['Parch']\n",
    "\n",
    "# Substituting the values in train_data and test_data:\n",
    "train_data['Family_Size'] = all_data['Family_Size'][:891]\n",
    "test_data['Family_Size'] = all_data['Family_Size'][891:]"
   ]
  },
  {
   "cell_type": "markdown",
   "id": "71fefff9",
   "metadata": {
    "papermill": {
     "duration": 0.024807,
     "end_time": "2022-12-01T13:35:50.170368",
     "exception": false,
     "start_time": "2022-12-01T13:35:50.145561",
     "status": "completed"
    },
    "tags": []
   },
   "source": [
    "* #### **Checking whether there are missing data**"
   ]
  },
  {
   "cell_type": "code",
   "execution_count": 10,
   "id": "75f7fb2e",
   "metadata": {
    "execution": {
     "iopub.execute_input": "2022-12-01T13:35:50.229128Z",
     "iopub.status.busy": "2022-12-01T13:35:50.228672Z",
     "iopub.status.idle": "2022-12-01T13:35:50.237814Z",
     "shell.execute_reply": "2022-12-01T13:35:50.236742Z"
    },
    "papermill": {
     "duration": 0.042013,
     "end_time": "2022-12-01T13:35:50.241151",
     "exception": false,
     "start_time": "2022-12-01T13:35:50.199138",
     "status": "completed"
    },
    "tags": []
   },
   "outputs": [
    {
     "data": {
      "text/plain": [
       "['Survived', 'Age', 'Fare', 'Cabin', 'Embarked']"
      ]
     },
     "execution_count": 10,
     "metadata": {},
     "output_type": "execute_result"
    }
   ],
   "source": [
    "all_data.columns[all_data.isna().any()].tolist()"
   ]
  },
  {
   "cell_type": "markdown",
   "id": "2ce7a398",
   "metadata": {
    "papermill": {
     "duration": 0.024332,
     "end_time": "2022-12-01T13:35:50.291993",
     "exception": false,
     "start_time": "2022-12-01T13:35:50.267661",
     "status": "completed"
    },
    "tags": []
   },
   "source": [
    "It's obvious why there are missing values in the Survived column...\n",
    "\n",
    "For the rest columns with missing values, let's do some manipulations to fill up the empty cells."
   ]
  },
  {
   "cell_type": "markdown",
   "id": "6f9f7977",
   "metadata": {
    "papermill": {
     "duration": 0.02348,
     "end_time": "2022-12-01T13:35:50.339548",
     "exception": false,
     "start_time": "2022-12-01T13:35:50.316068",
     "status": "completed"
    },
    "tags": []
   },
   "source": [
    "* #### **Age**\n",
    "To imputing the age more precisely, let's define a new temp column- 'Title' (the title of each passenger). "
   ]
  },
  {
   "cell_type": "code",
   "execution_count": 11,
   "id": "a9003ed8",
   "metadata": {
    "execution": {
     "iopub.execute_input": "2022-12-01T13:35:50.389886Z",
     "iopub.status.busy": "2022-12-01T13:35:50.389217Z",
     "iopub.status.idle": "2022-12-01T13:35:54.785624Z",
     "shell.execute_reply": "2022-12-01T13:35:54.784040Z"
    },
    "papermill": {
     "duration": 4.425395,
     "end_time": "2022-12-01T13:35:54.788788",
     "exception": false,
     "start_time": "2022-12-01T13:35:50.363393",
     "status": "completed"
    },
    "tags": []
   },
   "outputs": [
    {
     "data": {
      "text/plain": [
       "array(['Mr', 'Mrs', 'Miss', 'Master', 'Don', 'Rev', 'Dr', 'Mme', 'Ms',\n",
       "       'Major', 'Lady', 'Sir', 'Mlle', 'Col', 'Capt', 'Countess',\n",
       "       'Jonkheer', 'Dona'], dtype=object)"
      ]
     },
     "execution_count": 11,
     "metadata": {},
     "output_type": "execute_result"
    }
   ],
   "source": [
    "all_data['Title'] = all_data['Name']\n",
    "# Cleaning name and extracting Title\n",
    "for name_string in all_data['Name']:\n",
    "    all_data['Title'] = all_data['Name'].str.extract('([A-Za-z]+)\\.', expand=True)\n",
    "\n",
    "all_data.Title.unique()"
   ]
  },
  {
   "cell_type": "code",
   "execution_count": null,
   "id": "2e51d82a",
   "metadata": {
    "papermill": {
     "duration": 0.023691,
     "end_time": "2022-12-01T13:35:54.837172",
     "exception": false,
     "start_time": "2022-12-01T13:35:54.813481",
     "status": "completed"
    },
    "tags": []
   },
   "outputs": [],
   "source": []
  },
  {
   "cell_type": "markdown",
   "id": "65fa8de3",
   "metadata": {
    "papermill": {
     "duration": 0.025089,
     "end_time": "2022-12-01T13:35:54.886506",
     "exception": false,
     "start_time": "2022-12-01T13:35:54.861417",
     "status": "completed"
    },
    "tags": []
   },
   "source": []
  },
  {
   "cell_type": "markdown",
   "id": "0504b435",
   "metadata": {
    "papermill": {
     "duration": 0.025382,
     "end_time": "2022-12-01T13:35:54.936142",
     "exception": false,
     "start_time": "2022-12-01T13:35:54.910760",
     "status": "completed"
    },
    "tags": []
   },
   "source": [
    "### The type of each column in the data frame:"
   ]
  },
  {
   "cell_type": "code",
   "execution_count": null,
   "id": "5c6f9868",
   "metadata": {
    "papermill": {
     "duration": 0.024404,
     "end_time": "2022-12-01T13:35:54.985901",
     "exception": false,
     "start_time": "2022-12-01T13:35:54.961497",
     "status": "completed"
    },
    "tags": []
   },
   "outputs": [],
   "source": []
  },
  {
   "cell_type": "code",
   "execution_count": 12,
   "id": "8d74f3d2",
   "metadata": {
    "execution": {
     "iopub.execute_input": "2022-12-01T13:35:55.040135Z",
     "iopub.status.busy": "2022-12-01T13:35:55.039139Z",
     "iopub.status.idle": "2022-12-01T13:35:55.047236Z",
     "shell.execute_reply": "2022-12-01T13:35:55.045884Z"
    },
    "papermill": {
     "duration": 0.037853,
     "end_time": "2022-12-01T13:35:55.049772",
     "exception": false,
     "start_time": "2022-12-01T13:35:55.011919",
     "status": "completed"
    },
    "tags": []
   },
   "outputs": [
    {
     "data": {
      "text/plain": [
       "PassengerId      int64\n",
       "Survived         int64\n",
       "Pclass           int64\n",
       "Name            object\n",
       "Sex             object\n",
       "Age            float64\n",
       "SibSp            int64\n",
       "Parch            int64\n",
       "Ticket          object\n",
       "Fare           float64\n",
       "Cabin           object\n",
       "Embarked        object\n",
       "Family_Size      int64\n",
       "dtype: object"
      ]
     },
     "execution_count": 12,
     "metadata": {},
     "output_type": "execute_result"
    }
   ],
   "source": [
    "train_data.dtypes"
   ]
  },
  {
   "cell_type": "code",
   "execution_count": null,
   "id": "6efe873d",
   "metadata": {
    "execution": {
     "iopub.execute_input": "2022-11-23T10:00:28.606778Z",
     "iopub.status.busy": "2022-11-23T10:00:28.606372Z",
     "iopub.status.idle": "2022-11-23T10:00:28.625823Z",
     "shell.execute_reply": "2022-11-23T10:00:28.624592Z",
     "shell.execute_reply.started": "2022-11-23T10:00:28.606745Z"
    },
    "papermill": {
     "duration": 0.026835,
     "end_time": "2022-12-01T13:35:55.102158",
     "exception": false,
     "start_time": "2022-12-01T13:35:55.075323",
     "status": "completed"
    },
    "tags": []
   },
   "outputs": [],
   "source": []
  },
  {
   "cell_type": "markdown",
   "id": "9a95118d",
   "metadata": {
    "papermill": {
     "duration": 0.024908,
     "end_time": "2022-12-01T13:35:55.155393",
     "exception": false,
     "start_time": "2022-12-01T13:35:55.130485",
     "status": "completed"
    },
    "tags": []
   },
   "source": [
    "### Checking for missing data"
   ]
  },
  {
   "cell_type": "code",
   "execution_count": 13,
   "id": "83f09e3b",
   "metadata": {
    "execution": {
     "iopub.execute_input": "2022-12-01T13:35:55.206778Z",
     "iopub.status.busy": "2022-12-01T13:35:55.206098Z",
     "iopub.status.idle": "2022-12-01T13:35:55.213722Z",
     "shell.execute_reply": "2022-12-01T13:35:55.212528Z"
    },
    "papermill": {
     "duration": 0.035944,
     "end_time": "2022-12-01T13:35:55.215720",
     "exception": false,
     "start_time": "2022-12-01T13:35:55.179776",
     "status": "completed"
    },
    "tags": []
   },
   "outputs": [
    {
     "data": {
      "text/plain": [
       "['Age', 'Cabin', 'Embarked']"
      ]
     },
     "execution_count": 13,
     "metadata": {},
     "output_type": "execute_result"
    }
   ],
   "source": [
    "# find the columns with Nans\n",
    "train_data.columns[train_data.isna().any()].tolist()"
   ]
  },
  {
   "cell_type": "markdown",
   "id": "af589a0a",
   "metadata": {
    "papermill": {
     "duration": 0.024846,
     "end_time": "2022-12-01T13:35:55.264604",
     "exception": false,
     "start_time": "2022-12-01T13:35:55.239758",
     "status": "completed"
    },
    "tags": []
   },
   "source": [
    "There are three columns with Nan values.\n",
    "\n",
    "Let's replace the Nans in the Age column by the mean of the column."
   ]
  },
  {
   "cell_type": "code",
   "execution_count": 14,
   "id": "32b1de64",
   "metadata": {
    "execution": {
     "iopub.execute_input": "2022-12-01T13:35:55.317702Z",
     "iopub.status.busy": "2022-12-01T13:35:55.317018Z",
     "iopub.status.idle": "2022-12-01T13:35:55.695645Z",
     "shell.execute_reply": "2022-12-01T13:35:55.694493Z"
    },
    "papermill": {
     "duration": 0.408714,
     "end_time": "2022-12-01T13:35:55.698183",
     "exception": false,
     "start_time": "2022-12-01T13:35:55.289469",
     "status": "completed"
    },
    "tags": []
   },
   "outputs": [],
   "source": [
    "from sklearn.impute import SimpleImputer\n",
    "imputer = SimpleImputer(missing_values=np.nan, strategy='mean') # replace the nan by the mean of the column's values\n",
    "imputer.fit(train_data[['Age']])\n",
    "train_data['Age'] = imputer.transform(train_data[['Age']])"
   ]
  },
  {
   "cell_type": "markdown",
   "id": "e46e64b6",
   "metadata": {
    "papermill": {
     "duration": 0.024274,
     "end_time": "2022-12-01T13:35:55.749629",
     "exception": false,
     "start_time": "2022-12-01T13:35:55.725355",
     "status": "completed"
    },
    "tags": []
   },
   "source": [
    "The Cabin column and the Embarked column are object types, so we'll replace the Nans by empty string ''."
   ]
  },
  {
   "cell_type": "code",
   "execution_count": 15,
   "id": "6feb9a65",
   "metadata": {
    "execution": {
     "iopub.execute_input": "2022-12-01T13:35:55.801602Z",
     "iopub.status.busy": "2022-12-01T13:35:55.801211Z",
     "iopub.status.idle": "2022-12-01T13:35:55.807515Z",
     "shell.execute_reply": "2022-12-01T13:35:55.806799Z"
    },
    "papermill": {
     "duration": 0.034866,
     "end_time": "2022-12-01T13:35:55.809522",
     "exception": false,
     "start_time": "2022-12-01T13:35:55.774656",
     "status": "completed"
    },
    "tags": []
   },
   "outputs": [],
   "source": [
    "train_data['Cabin'].replace(np.nan, '', inplace = True)\n",
    "train_data['Embarked'].replace(np.nan, '', inplace = True)"
   ]
  },
  {
   "cell_type": "markdown",
   "id": "947abbf9",
   "metadata": {
    "papermill": {
     "duration": 0.025394,
     "end_time": "2022-12-01T13:35:55.861795",
     "exception": false,
     "start_time": "2022-12-01T13:35:55.836401",
     "status": "completed"
    },
    "tags": []
   },
   "source": [
    "Now we will ensure there are no Nan values anymore-"
   ]
  },
  {
   "cell_type": "code",
   "execution_count": 16,
   "id": "23831948",
   "metadata": {
    "execution": {
     "iopub.execute_input": "2022-12-01T13:35:55.915158Z",
     "iopub.status.busy": "2022-12-01T13:35:55.914405Z",
     "iopub.status.idle": "2022-12-01T13:35:55.923308Z",
     "shell.execute_reply": "2022-12-01T13:35:55.922253Z"
    },
    "papermill": {
     "duration": 0.039212,
     "end_time": "2022-12-01T13:35:55.925690",
     "exception": false,
     "start_time": "2022-12-01T13:35:55.886478",
     "status": "completed"
    },
    "tags": []
   },
   "outputs": [
    {
     "data": {
      "text/plain": [
       "[]"
      ]
     },
     "execution_count": 16,
     "metadata": {},
     "output_type": "execute_result"
    }
   ],
   "source": [
    "train_data.isnull().values.any()\n",
    "train_data.columns[train_data.isna().any()].tolist()"
   ]
  },
  {
   "cell_type": "markdown",
   "id": "7c755089",
   "metadata": {
    "papermill": {
     "duration": 0.024132,
     "end_time": "2022-12-01T13:35:55.974448",
     "exception": false,
     "start_time": "2022-12-01T13:35:55.950316",
     "status": "completed"
    },
    "tags": []
   },
   "source": [
    "**Good! there are no Nans.**"
   ]
  },
  {
   "cell_type": "markdown",
   "id": "2181e4fd",
   "metadata": {
    "papermill": {
     "duration": 0.02545,
     "end_time": "2022-12-01T13:35:56.025609",
     "exception": false,
     "start_time": "2022-12-01T13:35:56.000159",
     "status": "completed"
    },
    "tags": []
   },
   "source": [
    "There are no duplicates:"
   ]
  },
  {
   "cell_type": "code",
   "execution_count": 17,
   "id": "7605774f",
   "metadata": {
    "execution": {
     "iopub.execute_input": "2022-12-01T13:35:56.077101Z",
     "iopub.status.busy": "2022-12-01T13:35:56.076653Z",
     "iopub.status.idle": "2022-12-01T13:35:56.091517Z",
     "shell.execute_reply": "2022-12-01T13:35:56.090183Z"
    },
    "papermill": {
     "duration": 0.043222,
     "end_time": "2022-12-01T13:35:56.093541",
     "exception": false,
     "start_time": "2022-12-01T13:35:56.050319",
     "status": "completed"
    },
    "tags": []
   },
   "outputs": [
    {
     "data": {
      "text/plain": [
       "False"
      ]
     },
     "execution_count": 17,
     "metadata": {},
     "output_type": "execute_result"
    }
   ],
   "source": [
    "train_data.duplicated().any()"
   ]
  },
  {
   "cell_type": "markdown",
   "id": "d0a4b967",
   "metadata": {
    "papermill": {
     "duration": 0.024353,
     "end_time": "2022-12-01T13:35:56.145138",
     "exception": false,
     "start_time": "2022-12-01T13:35:56.120785",
     "status": "completed"
    },
    "tags": []
   },
   "source": [
    "For the sake of convenience, we will encode the Sex column into a new column- Sex_cat, where 0 = female and 1 = male.\n",
    "\n",
    "Additionally, we will create a new column, AgeGroup, that will contain the age groups of the passengers according the following partition:\n",
    "- Infant: 0-3\n",
    "- Kid: 4-12\n",
    "- Teen: 13-19\n",
    "- Adult: 20-110"
   ]
  },
  {
   "cell_type": "code",
   "execution_count": 18,
   "id": "89bc240e",
   "metadata": {
    "execution": {
     "iopub.execute_input": "2022-12-01T13:35:56.197020Z",
     "iopub.status.busy": "2022-12-01T13:35:56.196443Z",
     "iopub.status.idle": "2022-12-01T13:35:56.210652Z",
     "shell.execute_reply": "2022-12-01T13:35:56.209794Z"
    },
    "papermill": {
     "duration": 0.0424,
     "end_time": "2022-12-01T13:35:56.212513",
     "exception": false,
     "start_time": "2022-12-01T13:35:56.170113",
     "status": "completed"
    },
    "tags": []
   },
   "outputs": [
    {
     "data": {
      "text/plain": [
       "PassengerId       int64\n",
       "Survived          int64\n",
       "Pclass            int64\n",
       "Name             object\n",
       "Sex            category\n",
       "Age             float64\n",
       "SibSp             int64\n",
       "Parch             int64\n",
       "Ticket           object\n",
       "Fare            float64\n",
       "Cabin            object\n",
       "Embarked         object\n",
       "Family_Size       int64\n",
       "Sex_cat            int8\n",
       "AgeGroup       category\n",
       "dtype: object"
      ]
     },
     "execution_count": 18,
     "metadata": {},
     "output_type": "execute_result"
    }
   ],
   "source": [
    "train_data[\"Sex\"] = train_data[\"Sex\"].astype('category')\n",
    "train_data[\"Sex_cat\"] = train_data[\"Sex\"].cat.codes\n",
    "\n",
    "bins= [0,4,13,20,110]\n",
    "labels = ['Infant','Kid','Teen','Adult']\n",
    "train_data['AgeGroup'] = pd.cut(train_data['Age'], bins=bins, labels=labels, right=False)\n",
    "train_data.dtypes"
   ]
  },
  {
   "cell_type": "code",
   "execution_count": 19,
   "id": "9786f3af",
   "metadata": {
    "execution": {
     "iopub.execute_input": "2022-12-01T13:35:56.264238Z",
     "iopub.status.busy": "2022-12-01T13:35:56.263688Z",
     "iopub.status.idle": "2022-12-01T13:35:56.281283Z",
     "shell.execute_reply": "2022-12-01T13:35:56.279475Z"
    },
    "papermill": {
     "duration": 0.04662,
     "end_time": "2022-12-01T13:35:56.284065",
     "exception": false,
     "start_time": "2022-12-01T13:35:56.237445",
     "status": "completed"
    },
    "tags": []
   },
   "outputs": [
    {
     "data": {
      "text/html": [
       "<div>\n",
       "<style scoped>\n",
       "    .dataframe tbody tr th:only-of-type {\n",
       "        vertical-align: middle;\n",
       "    }\n",
       "\n",
       "    .dataframe tbody tr th {\n",
       "        vertical-align: top;\n",
       "    }\n",
       "\n",
       "    .dataframe thead th {\n",
       "        text-align: right;\n",
       "    }\n",
       "</style>\n",
       "<table border=\"1\" class=\"dataframe\">\n",
       "  <thead>\n",
       "    <tr style=\"text-align: right;\">\n",
       "      <th></th>\n",
       "      <th>PassengerId</th>\n",
       "      <th>Survived</th>\n",
       "      <th>Pclass</th>\n",
       "      <th>Name</th>\n",
       "      <th>Sex</th>\n",
       "      <th>Age</th>\n",
       "      <th>SibSp</th>\n",
       "      <th>Parch</th>\n",
       "      <th>Ticket</th>\n",
       "      <th>Fare</th>\n",
       "      <th>Cabin</th>\n",
       "      <th>Embarked</th>\n",
       "      <th>Family_Size</th>\n",
       "      <th>Sex_cat</th>\n",
       "      <th>AgeGroup</th>\n",
       "    </tr>\n",
       "  </thead>\n",
       "  <tbody>\n",
       "    <tr>\n",
       "      <th>0</th>\n",
       "      <td>1</td>\n",
       "      <td>0</td>\n",
       "      <td>3</td>\n",
       "      <td>Braund, Mr. Owen Harris</td>\n",
       "      <td>male</td>\n",
       "      <td>22.0</td>\n",
       "      <td>1</td>\n",
       "      <td>0</td>\n",
       "      <td>A/5 21171</td>\n",
       "      <td>7.2500</td>\n",
       "      <td></td>\n",
       "      <td>S</td>\n",
       "      <td>1</td>\n",
       "      <td>1</td>\n",
       "      <td>Adult</td>\n",
       "    </tr>\n",
       "    <tr>\n",
       "      <th>1</th>\n",
       "      <td>2</td>\n",
       "      <td>1</td>\n",
       "      <td>1</td>\n",
       "      <td>Cumings, Mrs. John Bradley (Florence Briggs Th...</td>\n",
       "      <td>female</td>\n",
       "      <td>38.0</td>\n",
       "      <td>1</td>\n",
       "      <td>0</td>\n",
       "      <td>PC 17599</td>\n",
       "      <td>71.2833</td>\n",
       "      <td>C85</td>\n",
       "      <td>C</td>\n",
       "      <td>1</td>\n",
       "      <td>0</td>\n",
       "      <td>Adult</td>\n",
       "    </tr>\n",
       "    <tr>\n",
       "      <th>2</th>\n",
       "      <td>3</td>\n",
       "      <td>1</td>\n",
       "      <td>3</td>\n",
       "      <td>Heikkinen, Miss. Laina</td>\n",
       "      <td>female</td>\n",
       "      <td>26.0</td>\n",
       "      <td>0</td>\n",
       "      <td>0</td>\n",
       "      <td>STON/O2. 3101282</td>\n",
       "      <td>7.9250</td>\n",
       "      <td></td>\n",
       "      <td>S</td>\n",
       "      <td>0</td>\n",
       "      <td>0</td>\n",
       "      <td>Adult</td>\n",
       "    </tr>\n",
       "    <tr>\n",
       "      <th>3</th>\n",
       "      <td>4</td>\n",
       "      <td>1</td>\n",
       "      <td>1</td>\n",
       "      <td>Futrelle, Mrs. Jacques Heath (Lily May Peel)</td>\n",
       "      <td>female</td>\n",
       "      <td>35.0</td>\n",
       "      <td>1</td>\n",
       "      <td>0</td>\n",
       "      <td>113803</td>\n",
       "      <td>53.1000</td>\n",
       "      <td>C123</td>\n",
       "      <td>S</td>\n",
       "      <td>1</td>\n",
       "      <td>0</td>\n",
       "      <td>Adult</td>\n",
       "    </tr>\n",
       "    <tr>\n",
       "      <th>4</th>\n",
       "      <td>5</td>\n",
       "      <td>0</td>\n",
       "      <td>3</td>\n",
       "      <td>Allen, Mr. William Henry</td>\n",
       "      <td>male</td>\n",
       "      <td>35.0</td>\n",
       "      <td>0</td>\n",
       "      <td>0</td>\n",
       "      <td>373450</td>\n",
       "      <td>8.0500</td>\n",
       "      <td></td>\n",
       "      <td>S</td>\n",
       "      <td>0</td>\n",
       "      <td>1</td>\n",
       "      <td>Adult</td>\n",
       "    </tr>\n",
       "  </tbody>\n",
       "</table>\n",
       "</div>"
      ],
      "text/plain": [
       "   PassengerId  Survived  Pclass  \\\n",
       "0            1         0       3   \n",
       "1            2         1       1   \n",
       "2            3         1       3   \n",
       "3            4         1       1   \n",
       "4            5         0       3   \n",
       "\n",
       "                                                Name     Sex   Age  SibSp  \\\n",
       "0                            Braund, Mr. Owen Harris    male  22.0      1   \n",
       "1  Cumings, Mrs. John Bradley (Florence Briggs Th...  female  38.0      1   \n",
       "2                             Heikkinen, Miss. Laina  female  26.0      0   \n",
       "3       Futrelle, Mrs. Jacques Heath (Lily May Peel)  female  35.0      1   \n",
       "4                           Allen, Mr. William Henry    male  35.0      0   \n",
       "\n",
       "   Parch            Ticket     Fare Cabin Embarked  Family_Size  Sex_cat  \\\n",
       "0      0         A/5 21171   7.2500              S            1        1   \n",
       "1      0          PC 17599  71.2833   C85        C            1        0   \n",
       "2      0  STON/O2. 3101282   7.9250              S            0        0   \n",
       "3      0            113803  53.1000  C123        S            1        0   \n",
       "4      0            373450   8.0500              S            0        1   \n",
       "\n",
       "  AgeGroup  \n",
       "0    Adult  \n",
       "1    Adult  \n",
       "2    Adult  \n",
       "3    Adult  \n",
       "4    Adult  "
      ]
     },
     "execution_count": 19,
     "metadata": {},
     "output_type": "execute_result"
    }
   ],
   "source": [
    "train_data.head()"
   ]
  },
  {
   "cell_type": "markdown",
   "id": "18047891",
   "metadata": {
    "papermill": {
     "duration": 0.026691,
     "end_time": "2022-12-01T13:35:56.341010",
     "exception": false,
     "start_time": "2022-12-01T13:35:56.314319",
     "status": "completed"
    },
    "tags": []
   },
   "source": [
    "### Some statistics information:"
   ]
  },
  {
   "cell_type": "code",
   "execution_count": 20,
   "id": "7dfae66e",
   "metadata": {
    "execution": {
     "iopub.execute_input": "2022-12-01T13:35:56.393203Z",
     "iopub.status.busy": "2022-12-01T13:35:56.392788Z",
     "iopub.status.idle": "2022-12-01T13:35:56.448368Z",
     "shell.execute_reply": "2022-12-01T13:35:56.447146Z"
    },
    "papermill": {
     "duration": 0.084797,
     "end_time": "2022-12-01T13:35:56.450704",
     "exception": false,
     "start_time": "2022-12-01T13:35:56.365907",
     "status": "completed"
    },
    "tags": []
   },
   "outputs": [
    {
     "data": {
      "text/html": [
       "<div>\n",
       "<style scoped>\n",
       "    .dataframe tbody tr th:only-of-type {\n",
       "        vertical-align: middle;\n",
       "    }\n",
       "\n",
       "    .dataframe tbody tr th {\n",
       "        vertical-align: top;\n",
       "    }\n",
       "\n",
       "    .dataframe thead th {\n",
       "        text-align: right;\n",
       "    }\n",
       "</style>\n",
       "<table border=\"1\" class=\"dataframe\">\n",
       "  <thead>\n",
       "    <tr style=\"text-align: right;\">\n",
       "      <th></th>\n",
       "      <th>Survived</th>\n",
       "      <th>Pclass</th>\n",
       "      <th>Name</th>\n",
       "      <th>Sex</th>\n",
       "      <th>Age</th>\n",
       "      <th>SibSp</th>\n",
       "      <th>Parch</th>\n",
       "      <th>Ticket</th>\n",
       "      <th>Fare</th>\n",
       "      <th>Cabin</th>\n",
       "      <th>Embarked</th>\n",
       "      <th>Family_Size</th>\n",
       "      <th>Sex_cat</th>\n",
       "      <th>AgeGroup</th>\n",
       "    </tr>\n",
       "  </thead>\n",
       "  <tbody>\n",
       "    <tr>\n",
       "      <th>count</th>\n",
       "      <td>891.000000</td>\n",
       "      <td>891.000000</td>\n",
       "      <td>891</td>\n",
       "      <td>891</td>\n",
       "      <td>891.000000</td>\n",
       "      <td>891.000000</td>\n",
       "      <td>891.000000</td>\n",
       "      <td>891</td>\n",
       "      <td>891.000000</td>\n",
       "      <td>891</td>\n",
       "      <td>891</td>\n",
       "      <td>891.000000</td>\n",
       "      <td>891.000000</td>\n",
       "      <td>891</td>\n",
       "    </tr>\n",
       "    <tr>\n",
       "      <th>unique</th>\n",
       "      <td>NaN</td>\n",
       "      <td>NaN</td>\n",
       "      <td>891</td>\n",
       "      <td>2</td>\n",
       "      <td>NaN</td>\n",
       "      <td>NaN</td>\n",
       "      <td>NaN</td>\n",
       "      <td>681</td>\n",
       "      <td>NaN</td>\n",
       "      <td>148</td>\n",
       "      <td>4</td>\n",
       "      <td>NaN</td>\n",
       "      <td>NaN</td>\n",
       "      <td>4</td>\n",
       "    </tr>\n",
       "    <tr>\n",
       "      <th>top</th>\n",
       "      <td>NaN</td>\n",
       "      <td>NaN</td>\n",
       "      <td>Braund, Mr. Owen Harris</td>\n",
       "      <td>male</td>\n",
       "      <td>NaN</td>\n",
       "      <td>NaN</td>\n",
       "      <td>NaN</td>\n",
       "      <td>347082</td>\n",
       "      <td>NaN</td>\n",
       "      <td></td>\n",
       "      <td>S</td>\n",
       "      <td>NaN</td>\n",
       "      <td>NaN</td>\n",
       "      <td>Adult</td>\n",
       "    </tr>\n",
       "    <tr>\n",
       "      <th>freq</th>\n",
       "      <td>NaN</td>\n",
       "      <td>NaN</td>\n",
       "      <td>1</td>\n",
       "      <td>577</td>\n",
       "      <td>NaN</td>\n",
       "      <td>NaN</td>\n",
       "      <td>NaN</td>\n",
       "      <td>7</td>\n",
       "      <td>NaN</td>\n",
       "      <td>687</td>\n",
       "      <td>644</td>\n",
       "      <td>NaN</td>\n",
       "      <td>NaN</td>\n",
       "      <td>727</td>\n",
       "    </tr>\n",
       "    <tr>\n",
       "      <th>mean</th>\n",
       "      <td>0.383838</td>\n",
       "      <td>2.308642</td>\n",
       "      <td>NaN</td>\n",
       "      <td>NaN</td>\n",
       "      <td>29.699118</td>\n",
       "      <td>0.523008</td>\n",
       "      <td>0.381594</td>\n",
       "      <td>NaN</td>\n",
       "      <td>32.204208</td>\n",
       "      <td>NaN</td>\n",
       "      <td>NaN</td>\n",
       "      <td>0.904602</td>\n",
       "      <td>0.647587</td>\n",
       "      <td>NaN</td>\n",
       "    </tr>\n",
       "    <tr>\n",
       "      <th>std</th>\n",
       "      <td>0.486592</td>\n",
       "      <td>0.836071</td>\n",
       "      <td>NaN</td>\n",
       "      <td>NaN</td>\n",
       "      <td>13.002015</td>\n",
       "      <td>1.102743</td>\n",
       "      <td>0.806057</td>\n",
       "      <td>NaN</td>\n",
       "      <td>49.693429</td>\n",
       "      <td>NaN</td>\n",
       "      <td>NaN</td>\n",
       "      <td>1.613459</td>\n",
       "      <td>0.477990</td>\n",
       "      <td>NaN</td>\n",
       "    </tr>\n",
       "    <tr>\n",
       "      <th>min</th>\n",
       "      <td>0.000000</td>\n",
       "      <td>1.000000</td>\n",
       "      <td>NaN</td>\n",
       "      <td>NaN</td>\n",
       "      <td>0.420000</td>\n",
       "      <td>0.000000</td>\n",
       "      <td>0.000000</td>\n",
       "      <td>NaN</td>\n",
       "      <td>0.000000</td>\n",
       "      <td>NaN</td>\n",
       "      <td>NaN</td>\n",
       "      <td>0.000000</td>\n",
       "      <td>0.000000</td>\n",
       "      <td>NaN</td>\n",
       "    </tr>\n",
       "    <tr>\n",
       "      <th>25%</th>\n",
       "      <td>0.000000</td>\n",
       "      <td>2.000000</td>\n",
       "      <td>NaN</td>\n",
       "      <td>NaN</td>\n",
       "      <td>22.000000</td>\n",
       "      <td>0.000000</td>\n",
       "      <td>0.000000</td>\n",
       "      <td>NaN</td>\n",
       "      <td>7.910400</td>\n",
       "      <td>NaN</td>\n",
       "      <td>NaN</td>\n",
       "      <td>0.000000</td>\n",
       "      <td>0.000000</td>\n",
       "      <td>NaN</td>\n",
       "    </tr>\n",
       "    <tr>\n",
       "      <th>50%</th>\n",
       "      <td>0.000000</td>\n",
       "      <td>3.000000</td>\n",
       "      <td>NaN</td>\n",
       "      <td>NaN</td>\n",
       "      <td>29.699118</td>\n",
       "      <td>0.000000</td>\n",
       "      <td>0.000000</td>\n",
       "      <td>NaN</td>\n",
       "      <td>14.454200</td>\n",
       "      <td>NaN</td>\n",
       "      <td>NaN</td>\n",
       "      <td>0.000000</td>\n",
       "      <td>1.000000</td>\n",
       "      <td>NaN</td>\n",
       "    </tr>\n",
       "    <tr>\n",
       "      <th>75%</th>\n",
       "      <td>1.000000</td>\n",
       "      <td>3.000000</td>\n",
       "      <td>NaN</td>\n",
       "      <td>NaN</td>\n",
       "      <td>35.000000</td>\n",
       "      <td>1.000000</td>\n",
       "      <td>0.000000</td>\n",
       "      <td>NaN</td>\n",
       "      <td>31.000000</td>\n",
       "      <td>NaN</td>\n",
       "      <td>NaN</td>\n",
       "      <td>1.000000</td>\n",
       "      <td>1.000000</td>\n",
       "      <td>NaN</td>\n",
       "    </tr>\n",
       "    <tr>\n",
       "      <th>max</th>\n",
       "      <td>1.000000</td>\n",
       "      <td>3.000000</td>\n",
       "      <td>NaN</td>\n",
       "      <td>NaN</td>\n",
       "      <td>80.000000</td>\n",
       "      <td>8.000000</td>\n",
       "      <td>6.000000</td>\n",
       "      <td>NaN</td>\n",
       "      <td>512.329200</td>\n",
       "      <td>NaN</td>\n",
       "      <td>NaN</td>\n",
       "      <td>10.000000</td>\n",
       "      <td>1.000000</td>\n",
       "      <td>NaN</td>\n",
       "    </tr>\n",
       "  </tbody>\n",
       "</table>\n",
       "</div>"
      ],
      "text/plain": [
       "          Survived      Pclass                     Name   Sex         Age  \\\n",
       "count   891.000000  891.000000                      891   891  891.000000   \n",
       "unique         NaN         NaN                      891     2         NaN   \n",
       "top            NaN         NaN  Braund, Mr. Owen Harris  male         NaN   \n",
       "freq           NaN         NaN                        1   577         NaN   \n",
       "mean      0.383838    2.308642                      NaN   NaN   29.699118   \n",
       "std       0.486592    0.836071                      NaN   NaN   13.002015   \n",
       "min       0.000000    1.000000                      NaN   NaN    0.420000   \n",
       "25%       0.000000    2.000000                      NaN   NaN   22.000000   \n",
       "50%       0.000000    3.000000                      NaN   NaN   29.699118   \n",
       "75%       1.000000    3.000000                      NaN   NaN   35.000000   \n",
       "max       1.000000    3.000000                      NaN   NaN   80.000000   \n",
       "\n",
       "             SibSp       Parch  Ticket        Fare Cabin Embarked  \\\n",
       "count   891.000000  891.000000     891  891.000000   891      891   \n",
       "unique         NaN         NaN     681         NaN   148        4   \n",
       "top            NaN         NaN  347082         NaN              S   \n",
       "freq           NaN         NaN       7         NaN   687      644   \n",
       "mean      0.523008    0.381594     NaN   32.204208   NaN      NaN   \n",
       "std       1.102743    0.806057     NaN   49.693429   NaN      NaN   \n",
       "min       0.000000    0.000000     NaN    0.000000   NaN      NaN   \n",
       "25%       0.000000    0.000000     NaN    7.910400   NaN      NaN   \n",
       "50%       0.000000    0.000000     NaN   14.454200   NaN      NaN   \n",
       "75%       1.000000    0.000000     NaN   31.000000   NaN      NaN   \n",
       "max       8.000000    6.000000     NaN  512.329200   NaN      NaN   \n",
       "\n",
       "        Family_Size     Sex_cat AgeGroup  \n",
       "count    891.000000  891.000000      891  \n",
       "unique          NaN         NaN        4  \n",
       "top             NaN         NaN    Adult  \n",
       "freq            NaN         NaN      727  \n",
       "mean       0.904602    0.647587      NaN  \n",
       "std        1.613459    0.477990      NaN  \n",
       "min        0.000000    0.000000      NaN  \n",
       "25%        0.000000    0.000000      NaN  \n",
       "50%        0.000000    1.000000      NaN  \n",
       "75%        1.000000    1.000000      NaN  \n",
       "max       10.000000    1.000000      NaN  "
      ]
     },
     "execution_count": 20,
     "metadata": {},
     "output_type": "execute_result"
    }
   ],
   "source": [
    "train_data.iloc[:, 1:].describe(include='all')"
   ]
  },
  {
   "cell_type": "markdown",
   "id": "b51b09ee",
   "metadata": {
    "papermill": {
     "duration": 0.024422,
     "end_time": "2022-12-01T13:35:56.499764",
     "exception": false,
     "start_time": "2022-12-01T13:35:56.475342",
     "status": "completed"
    },
    "tags": []
   },
   "source": [
    " #### According to the descriptive statistics table above-\n",
    "\n",
    "**Survived:**\n",
    "- Most of the passengers didn't survived (as we already know...), the mean = 0.3838 and the median = 0.\n",
    "\n",
    "**Ticket Class (Pclass):**\n",
    "- The mean = 2.3 and the median = 3, indicates that most tickets are for third class, and the minority are for first class.\n",
    "\n",
    "**Sex**\n",
    "- There are 577 male passengers and the rest are female.\n",
    "\n",
    "**Age/AgeGroup**\n",
    "- The average age is 29.699 and so the median, with a std of ~13. Most of the passengers are adults.\n",
    "\n",
    "**Number of Siblings/Spouses (SibSp)**\n",
    "- According to the mean and the median, most of the passengers came without their sibilig or spouses.\n",
    "\n",
    "**Number of Parents/Children (Parch)**\n",
    "- According to the mean and the median, most of the passengers came without their parents or children.\n",
    "\n",
    "**Fare**\n",
    "- It seems that most of the passengers paids for the trip below to 14.45 (A right skewed distribution, mean > median).\n",
    "\n",
    "**Cabin**\n",
    "- The mode of the cabin numer is unknown.\n",
    "\n",
    "**Embarked**\n",
    "- There three port of embarkation: C = Cherbourg, Q = Queenstown, S = Southampton. The common one is Southampton."
   ]
  },
  {
   "cell_type": "code",
   "execution_count": 21,
   "id": "2e98e61a",
   "metadata": {
    "execution": {
     "iopub.execute_input": "2022-12-01T13:35:56.554495Z",
     "iopub.status.busy": "2022-12-01T13:35:56.553788Z",
     "iopub.status.idle": "2022-12-01T13:35:56.558431Z",
     "shell.execute_reply": "2022-12-01T13:35:56.557506Z"
    },
    "papermill": {
     "duration": 0.034731,
     "end_time": "2022-12-01T13:35:56.561066",
     "exception": false,
     "start_time": "2022-12-01T13:35:56.526335",
     "status": "completed"
    },
    "tags": []
   },
   "outputs": [],
   "source": [
    "# corr = train_data.corr()\n",
    "# mask = np.triu(np.ones_like(corr))\n",
    "\n",
    "# sns.heatmap(corr, mask = mask, annot = True)"
   ]
  },
  {
   "cell_type": "markdown",
   "id": "c69836fb",
   "metadata": {
    "papermill": {
     "duration": 0.026811,
     "end_time": "2022-12-01T13:35:56.613242",
     "exception": false,
     "start_time": "2022-12-01T13:35:56.586431",
     "status": "completed"
    },
    "tags": []
   },
   "source": [
    "We can see a moderately negative correlation between the Sex variable ( = Sex_cat) and the Survived variable."
   ]
  },
  {
   "cell_type": "markdown",
   "id": "148780fa",
   "metadata": {
    "papermill": {
     "duration": 0.026307,
     "end_time": "2022-12-01T13:35:56.666064",
     "exception": false,
     "start_time": "2022-12-01T13:35:56.639757",
     "status": "completed"
    },
    "tags": []
   },
   "source": [
    "### Data Visualization\n",
    "Helps us to understand better how the data are behaving"
   ]
  },
  {
   "cell_type": "code",
   "execution_count": 22,
   "id": "5ca41aad",
   "metadata": {
    "execution": {
     "iopub.execute_input": "2022-12-01T13:35:56.719354Z",
     "iopub.status.busy": "2022-12-01T13:35:56.718957Z",
     "iopub.status.idle": "2022-12-01T13:35:57.901449Z",
     "shell.execute_reply": "2022-12-01T13:35:57.899878Z"
    },
    "papermill": {
     "duration": 1.212299,
     "end_time": "2022-12-01T13:35:57.903646",
     "exception": false,
     "start_time": "2022-12-01T13:35:56.691347",
     "status": "completed"
    },
    "tags": []
   },
   "outputs": [
    {
     "data": {
      "text/plain": [
       "Text(0.5, 1.0, 'Passenger fare')"
      ]
     },
     "execution_count": 22,
     "metadata": {},
     "output_type": "execute_result"
    },
    {
     "data": {
      "image/png": "[encoded data removed]",
      "text/plain": [
       "<Figure size 1080x1440 with 7 Axes>"
      ]
     },
     "metadata": {
      "needs_background": "light"
     },
     "output_type": "display_data"
    }
   ],
   "source": [
    "plt.figure(figsize = (15,20))\n",
    "\n",
    "plt.subplot(3, 3, 1)\n",
    "sns.countplot(x = 'Survived', data = train_data)\n",
    "plt.title(\"How Many Survived\")\n",
    "\n",
    "plt.subplot(3, 3, 2)\n",
    "sns.countplot(x = \"Sex\", data = train_data)\n",
    "plt.title(\"Sex Counting\")\n",
    "\n",
    "plt.subplot(3, 3, 3)\n",
    "sns.histplot(x = \"Age\", data = train_data, kde = True)\n",
    "plt.title(\"Age Distribution\")\n",
    "\n",
    "plt.subplot(3, 3, 4)\n",
    "sns.countplot(x = 'Pclass', data = train_data)\n",
    "plt.title('Ticket Class')\n",
    "\n",
    "plt.subplot(3, 3, 5)\n",
    "sns.countplot(x = 'SibSp', data = train_data)\n",
    "plt.title(\"# of siblings / spouses\\naboard the Titanic\")\n",
    "\n",
    "plt.subplot(3, 3, 6)\n",
    "sns.countplot(x = 'Parch', data = train_data)\n",
    "plt.title('# of parents / children\\naboard the Titanic')\n",
    "\n",
    "plt.subplot(3, 3, 7)\n",
    "sns.histplot(x = 'Fare', data = train_data, kde = True)\n",
    "plt.title('Passenger fare')"
   ]
  },
  {
   "cell_type": "markdown",
   "id": "8127fed0",
   "metadata": {
    "papermill": {
     "duration": 0.026382,
     "end_time": "2022-12-01T13:35:57.956503",
     "exception": false,
     "start_time": "2022-12-01T13:35:57.930121",
     "status": "completed"
    },
    "tags": []
   },
   "source": [
    "#### We want to evaluate which features are affecting the chance to survive.\n",
    "#### Accordingly, let's visually examine the connection."
   ]
  },
  {
   "cell_type": "markdown",
   "id": "f920e5bb",
   "metadata": {
    "papermill": {
     "duration": 0.026827,
     "end_time": "2022-12-01T13:35:58.009369",
     "exception": false,
     "start_time": "2022-12-01T13:35:57.982542",
     "status": "completed"
    },
    "tags": []
   },
   "source": [
    "**Survived ~ Sex**"
   ]
  },
  {
   "cell_type": "code",
   "execution_count": 23,
   "id": "808b69e9",
   "metadata": {
    "execution": {
     "iopub.execute_input": "2022-12-01T13:35:58.065137Z",
     "iopub.status.busy": "2022-12-01T13:35:58.064744Z",
     "iopub.status.idle": "2022-12-01T13:35:58.357723Z",
     "shell.execute_reply": "2022-12-01T13:35:58.356769Z"
    },
    "papermill": {
     "duration": 0.323237,
     "end_time": "2022-12-01T13:35:58.359902",
     "exception": false,
     "start_time": "2022-12-01T13:35:58.036665",
     "status": "completed"
    },
    "tags": []
   },
   "outputs": [
    {
     "name": "stdout",
     "output_type": "stream",
     "text": [
      "% of men who survived: 0.18890814558058924\n",
      "% of women who survived: 0.7420382165605095\n"
     ]
    },
    {
     "data": {
      "text/plain": [
       "<AxesSubplot:xlabel='Sex', ylabel='count'>"
      ]
     },
     "execution_count": 23,
     "metadata": {},
     "output_type": "execute_result"
    },
    {
     "data": {
      "image/png": "[encoded data removed]",
      "text/plain": [
       "<Figure size 432x288 with 1 Axes>"
      ]
     },
     "metadata": {
      "needs_background": "light"
     },
     "output_type": "display_data"
    }
   ],
   "source": [
    "women = train_data.loc[train_data.Sex == \"female\"]['Survived']\n",
    "rate_women = sum(women) / len(women)\n",
    "\n",
    "men = train_data.loc[train_data.Sex == \"male\"]['Survived']\n",
    "rate_men = sum(men) / len(men)\n",
    "\n",
    "print(\"% of men who survived:\", rate_men)\n",
    "print(\"% of women who survived:\", rate_women)\n",
    "\n",
    "sns.countplot(x = 'Sex', data = train_data, hue = 'Survived')"
   ]
  },
  {
   "cell_type": "markdown",
   "id": "85a6bd6d",
   "metadata": {
    "papermill": {
     "duration": 0.026194,
     "end_time": "2022-12-01T13:35:58.419049",
     "exception": false,
     "start_time": "2022-12-01T13:35:58.392855",
     "status": "completed"
    },
    "tags": []
   },
   "source": [
    "**Survived ~ Ticket Class (Pclass)**"
   ]
  },
  {
   "cell_type": "code",
   "execution_count": 24,
   "id": "f45dce23",
   "metadata": {
    "execution": {
     "iopub.execute_input": "2022-12-01T13:35:58.473625Z",
     "iopub.status.busy": "2022-12-01T13:35:58.473219Z",
     "iopub.status.idle": "2022-12-01T13:35:58.657199Z",
     "shell.execute_reply": "2022-12-01T13:35:58.655616Z"
    },
    "papermill": {
     "duration": 0.213937,
     "end_time": "2022-12-01T13:35:58.659440",
     "exception": false,
     "start_time": "2022-12-01T13:35:58.445503",
     "status": "completed"
    },
    "tags": []
   },
   "outputs": [
    {
     "name": "stdout",
     "output_type": "stream",
     "text": [
      "% of class 1 who survived: 0.6296296296296297\n",
      "% of class 2 who survived: 0.47282608695652173\n",
      "% of class 3 who survived: 0.24236252545824846\n"
     ]
    },
    {
     "data": {
      "text/plain": [
       "<AxesSubplot:xlabel='Pclass', ylabel='count'>"
      ]
     },
     "execution_count": 24,
     "metadata": {},
     "output_type": "execute_result"
    },
    {
     "data": {
      "image/png": "[encoded data removed]",
      "text/plain": [
       "<Figure size 432x288 with 1 Axes>"
      ]
     },
     "metadata": {
      "needs_background": "light"
     },
     "output_type": "display_data"
    }
   ],
   "source": [
    "class1 = train_data.loc[train_data.Pclass == 1]['Survived']\n",
    "rate_class1 = sum(class1) / len(class1)\n",
    "\n",
    "class2 = train_data.loc[train_data.Pclass == 2]['Survived']\n",
    "rate_class2 = sum(class2) / len(class2)\n",
    "\n",
    "class3 = train_data.loc[train_data.Pclass == 3]['Survived']\n",
    "rate_class3 = sum(class3) / len(class3)\n",
    "\n",
    "print(\"% of class 1 who survived:\", rate_class1)\n",
    "print(\"% of class 2 who survived:\", rate_class2)\n",
    "print(\"% of class 3 who survived:\", rate_class3)\n",
    "\n",
    "sns.countplot(x = 'Pclass', data = train_data, hue = 'Survived')"
   ]
  },
  {
   "cell_type": "markdown",
   "id": "646de806",
   "metadata": {
    "papermill": {
     "duration": 0.027827,
     "end_time": "2022-12-01T13:35:58.713743",
     "exception": false,
     "start_time": "2022-12-01T13:35:58.685916",
     "status": "completed"
    },
    "tags": []
   },
   "source": [
    "**Survived ~ # of Parents/Children (Parch)**"
   ]
  },
  {
   "cell_type": "code",
   "execution_count": 25,
   "id": "4c0a6bae",
   "metadata": {
    "execution": {
     "iopub.execute_input": "2022-12-01T13:35:58.771666Z",
     "iopub.status.busy": "2022-12-01T13:35:58.771267Z",
     "iopub.status.idle": "2022-12-01T13:35:58.972731Z",
     "shell.execute_reply": "2022-12-01T13:35:58.971651Z"
    },
    "papermill": {
     "duration": 0.233315,
     "end_time": "2022-12-01T13:35:58.974957",
     "exception": false,
     "start_time": "2022-12-01T13:35:58.741642",
     "status": "completed"
    },
    "tags": []
   },
   "outputs": [
    {
     "name": "stdout",
     "output_type": "stream",
     "text": [
      "% of passengers who have  0  of parents/children aboard the Titanic that survived: 0.34365781710914456\n",
      "% of passengers who have  1  of parents/children aboard the Titanic that survived: 0.5508474576271186\n",
      "% of passengers who have  2  of parents/children aboard the Titanic that survived: 0.5\n",
      "% of passengers who have  5  of parents/children aboard the Titanic that survived: 0.2\n",
      "% of passengers who have  3  of parents/children aboard the Titanic that survived: 0.6\n",
      "% of passengers who have  4  of parents/children aboard the Titanic that survived: 0.0\n",
      "% of passengers who have  6  of parents/children aboard the Titanic that survived: 0.0\n"
     ]
    },
    {
     "data": {
      "text/plain": [
       "<matplotlib.legend.Legend at 0x7f0b2a822710>"
      ]
     },
     "execution_count": 25,
     "metadata": {},
     "output_type": "execute_result"
    },
    {
     "data": {
      "image/png": "[encoded data removed]",
      "text/plain": [
       "<Figure size 432x288 with 1 Axes>"
      ]
     },
     "metadata": {
      "needs_background": "light"
     },
     "output_type": "display_data"
    }
   ],
   "source": [
    "for i in train_data.Parch.unique():\n",
    "    temp_survived = train_data.loc[train_data.Parch == i]['Survived']\n",
    "    rate = sum(temp_survived) / len(temp_survived)\n",
    "    print(\"% of passengers who have \", i, \" of parents/children aboard the Titanic that survived:\", rate)\n",
    "    \n",
    "sns.countplot(x = 'Parch', data = train_data, hue = 'Survived')\n",
    "plt.legend(title = 'Survived', loc='upper right')\n"
   ]
  },
  {
   "cell_type": "markdown",
   "id": "2b20e246",
   "metadata": {
    "papermill": {
     "duration": 0.028674,
     "end_time": "2022-12-01T13:35:59.031350",
     "exception": false,
     "start_time": "2022-12-01T13:35:59.002676",
     "status": "completed"
    },
    "tags": []
   },
   "source": [
    "**Survived ~ # of Sibiling/Spouses (SibSp)**"
   ]
  },
  {
   "cell_type": "code",
   "execution_count": 26,
   "id": "5091e242",
   "metadata": {
    "execution": {
     "iopub.execute_input": "2022-12-01T13:35:59.090611Z",
     "iopub.status.busy": "2022-12-01T13:35:59.090162Z",
     "iopub.status.idle": "2022-12-01T13:35:59.302487Z",
     "shell.execute_reply": "2022-12-01T13:35:59.301621Z"
    },
    "papermill": {
     "duration": 0.245092,
     "end_time": "2022-12-01T13:35:59.304451",
     "exception": false,
     "start_time": "2022-12-01T13:35:59.059359",
     "status": "completed"
    },
    "tags": []
   },
   "outputs": [
    {
     "name": "stdout",
     "output_type": "stream",
     "text": [
      "% of passengers who have  1  of siblings/spouses aboard the Titanic that survived: 0.5358851674641149\n",
      "% of passengers who have  0  of siblings/spouses aboard the Titanic that survived: 0.34539473684210525\n",
      "% of passengers who have  3  of siblings/spouses aboard the Titanic that survived: 0.25\n",
      "% of passengers who have  4  of siblings/spouses aboard the Titanic that survived: 0.16666666666666666\n",
      "% of passengers who have  2  of siblings/spouses aboard the Titanic that survived: 0.4642857142857143\n",
      "% of passengers who have  5  of siblings/spouses aboard the Titanic that survived: 0.0\n",
      "% of passengers who have  8  of siblings/spouses aboard the Titanic that survived: 0.0\n"
     ]
    },
    {
     "data": {
      "text/plain": [
       "<matplotlib.legend.Legend at 0x7f0b2a7bb450>"
      ]
     },
     "execution_count": 26,
     "metadata": {},
     "output_type": "execute_result"
    },
    {
     "data": {
      "image/png": "[encoded data removed]",
      "text/plain": [
       "<Figure size 432x288 with 1 Axes>"
      ]
     },
     "metadata": {
      "needs_background": "light"
     },
     "output_type": "display_data"
    }
   ],
   "source": [
    "for i in train_data.SibSp.unique():\n",
    "    temp_survived = train_data.loc[train_data.SibSp == i]['Survived']\n",
    "    rate = sum(temp_survived) / len(temp_survived)\n",
    "    print(\"% of passengers who have \", i, \" of siblings/spouses aboard the Titanic that survived:\", rate)\n",
    "    \n",
    "\n",
    "sns.countplot(x = 'SibSp', data = train_data, hue = 'Survived')\n",
    "plt.legend(title = 'Survived', loc='upper right')"
   ]
  },
  {
   "cell_type": "markdown",
   "id": "fad87374",
   "metadata": {
    "papermill": {
     "duration": 0.027854,
     "end_time": "2022-12-01T13:35:59.362548",
     "exception": false,
     "start_time": "2022-12-01T13:35:59.334694",
     "status": "completed"
    },
    "tags": []
   },
   "source": [
    "**Survived ~ Age**"
   ]
  },
  {
   "cell_type": "code",
   "execution_count": 27,
   "id": "b940c462",
   "metadata": {
    "execution": {
     "iopub.execute_input": "2022-12-01T13:35:59.420994Z",
     "iopub.status.busy": "2022-12-01T13:35:59.420459Z",
     "iopub.status.idle": "2022-12-01T13:35:59.577031Z",
     "shell.execute_reply": "2022-12-01T13:35:59.576293Z"
    },
    "papermill": {
     "duration": 0.187658,
     "end_time": "2022-12-01T13:35:59.578984",
     "exception": false,
     "start_time": "2022-12-01T13:35:59.391326",
     "status": "completed"
    },
    "tags": []
   },
   "outputs": [
    {
     "name": "stdout",
     "output_type": "stream",
     "text": [
      "% of Adults that survived: 0.36176066024759285\n",
      "% of Infants that survived: 0.6666666666666666\n",
      "% of Teens that survived: 0.4105263157894737\n",
      "% of Kids that survived: 0.5128205128205128\n"
     ]
    },
    {
     "data": {
      "text/plain": [
       "<AxesSubplot:xlabel='AgeGroup', ylabel='count'>"
      ]
     },
     "execution_count": 27,
     "metadata": {},
     "output_type": "execute_result"
    },
    {
     "data": {
      "image/png": "[encoded data removed]",
      "text/plain": [
       "<Figure size 432x288 with 1 Axes>"
      ]
     },
     "metadata": {
      "needs_background": "light"
     },
     "output_type": "display_data"
    }
   ],
   "source": [
    "for i in train_data.AgeGroup.unique():\n",
    "    temp_survived = train_data.loc[train_data.AgeGroup == i]['Survived']\n",
    "    rate = sum(temp_survived) / len(temp_survived)\n",
    "    print(\"% of\", i + 's', \"that survived:\", rate)\n",
    "\n",
    "sns.countplot(x = 'AgeGroup', data = train_data, hue = 'Survived')"
   ]
  },
  {
   "cell_type": "markdown",
   "id": "4fa4e717",
   "metadata": {
    "papermill": {
     "duration": 0.027607,
     "end_time": "2022-12-01T13:35:59.634739",
     "exception": false,
     "start_time": "2022-12-01T13:35:59.607132",
     "status": "completed"
    },
    "tags": []
   },
   "source": [
    "###### The features- PassengerId, Name, Number of Ticket, Cabin, Embarked and Fare, are not affecting in any way the chance to survive or not."
   ]
  },
  {
   "cell_type": "markdown",
   "id": "e2011420",
   "metadata": {
    "papermill": {
     "duration": 0.027756,
     "end_time": "2022-12-01T13:35:59.690145",
     "exception": false,
     "start_time": "2022-12-01T13:35:59.662389",
     "status": "completed"
    },
    "tags": []
   },
   "source": [
    "# **Model Building**"
   ]
  },
  {
   "cell_type": "markdown",
   "id": "199502c3",
   "metadata": {
    "papermill": {
     "duration": 0.027622,
     "end_time": "2022-12-01T13:35:59.745496",
     "exception": false,
     "start_time": "2022-12-01T13:35:59.717874",
     "status": "completed"
    },
    "tags": []
   },
   "source": [
    "### Data Preparation\n",
    "Before using the classification models, let's prepered our data:"
   ]
  },
  {
   "cell_type": "code",
   "execution_count": 28,
   "id": "80c11171",
   "metadata": {
    "execution": {
     "iopub.execute_input": "2022-12-01T13:35:59.804121Z",
     "iopub.status.busy": "2022-12-01T13:35:59.802656Z",
     "iopub.status.idle": "2022-12-01T13:35:59.809119Z",
     "shell.execute_reply": "2022-12-01T13:35:59.808440Z"
    },
    "papermill": {
     "duration": 0.037664,
     "end_time": "2022-12-01T13:35:59.811049",
     "exception": false,
     "start_time": "2022-12-01T13:35:59.773385",
     "status": "completed"
    },
    "tags": []
   },
   "outputs": [],
   "source": [
    "X = train_data.loc[:, (\"Sex_cat\", \"Pclass\", \"SibSp\", \"Parch\", \"Age\")]\n",
    "y = train_data[\"Survived\"].values"
   ]
  },
  {
   "cell_type": "markdown",
   "id": "10b2274a",
   "metadata": {
    "papermill": {
     "duration": 0.027732,
     "end_time": "2022-12-01T13:35:59.867475",
     "exception": false,
     "start_time": "2022-12-01T13:35:59.839743",
     "status": "completed"
    },
    "tags": []
   },
   "source": [
    "The feature matrix, X:"
   ]
  },
  {
   "cell_type": "code",
   "execution_count": 29,
   "id": "0eb763af",
   "metadata": {
    "execution": {
     "iopub.execute_input": "2022-12-01T13:35:59.926999Z",
     "iopub.status.busy": "2022-12-01T13:35:59.926396Z",
     "iopub.status.idle": "2022-12-01T13:35:59.943378Z",
     "shell.execute_reply": "2022-12-01T13:35:59.941893Z"
    },
    "papermill": {
     "duration": 0.050824,
     "end_time": "2022-12-01T13:35:59.946149",
     "exception": false,
     "start_time": "2022-12-01T13:35:59.895325",
     "status": "completed"
    },
    "tags": []
   },
   "outputs": [
    {
     "data": {
      "text/html": [
       "<div>\n",
       "<style scoped>\n",
       "    .dataframe tbody tr th:only-of-type {\n",
       "        vertical-align: middle;\n",
       "    }\n",
       "\n",
       "    .dataframe tbody tr th {\n",
       "        vertical-align: top;\n",
       "    }\n",
       "\n",
       "    .dataframe thead th {\n",
       "        text-align: right;\n",
       "    }\n",
       "</style>\n",
       "<table border=\"1\" class=\"dataframe\">\n",
       "  <thead>\n",
       "    <tr style=\"text-align: right;\">\n",
       "      <th></th>\n",
       "      <th>Sex_cat</th>\n",
       "      <th>Pclass</th>\n",
       "      <th>SibSp</th>\n",
       "      <th>Parch</th>\n",
       "      <th>Age</th>\n",
       "    </tr>\n",
       "  </thead>\n",
       "  <tbody>\n",
       "    <tr>\n",
       "      <th>0</th>\n",
       "      <td>1</td>\n",
       "      <td>3</td>\n",
       "      <td>1</td>\n",
       "      <td>0</td>\n",
       "      <td>22.000000</td>\n",
       "    </tr>\n",
       "    <tr>\n",
       "      <th>1</th>\n",
       "      <td>0</td>\n",
       "      <td>1</td>\n",
       "      <td>1</td>\n",
       "      <td>0</td>\n",
       "      <td>38.000000</td>\n",
       "    </tr>\n",
       "    <tr>\n",
       "      <th>2</th>\n",
       "      <td>0</td>\n",
       "      <td>3</td>\n",
       "      <td>0</td>\n",
       "      <td>0</td>\n",
       "      <td>26.000000</td>\n",
       "    </tr>\n",
       "    <tr>\n",
       "      <th>3</th>\n",
       "      <td>0</td>\n",
       "      <td>1</td>\n",
       "      <td>1</td>\n",
       "      <td>0</td>\n",
       "      <td>35.000000</td>\n",
       "    </tr>\n",
       "    <tr>\n",
       "      <th>4</th>\n",
       "      <td>1</td>\n",
       "      <td>3</td>\n",
       "      <td>0</td>\n",
       "      <td>0</td>\n",
       "      <td>35.000000</td>\n",
       "    </tr>\n",
       "    <tr>\n",
       "      <th>...</th>\n",
       "      <td>...</td>\n",
       "      <td>...</td>\n",
       "      <td>...</td>\n",
       "      <td>...</td>\n",
       "      <td>...</td>\n",
       "    </tr>\n",
       "    <tr>\n",
       "      <th>886</th>\n",
       "      <td>1</td>\n",
       "      <td>2</td>\n",
       "      <td>0</td>\n",
       "      <td>0</td>\n",
       "      <td>27.000000</td>\n",
       "    </tr>\n",
       "    <tr>\n",
       "      <th>887</th>\n",
       "      <td>0</td>\n",
       "      <td>1</td>\n",
       "      <td>0</td>\n",
       "      <td>0</td>\n",
       "      <td>19.000000</td>\n",
       "    </tr>\n",
       "    <tr>\n",
       "      <th>888</th>\n",
       "      <td>0</td>\n",
       "      <td>3</td>\n",
       "      <td>1</td>\n",
       "      <td>2</td>\n",
       "      <td>29.699118</td>\n",
       "    </tr>\n",
       "    <tr>\n",
       "      <th>889</th>\n",
       "      <td>1</td>\n",
       "      <td>1</td>\n",
       "      <td>0</td>\n",
       "      <td>0</td>\n",
       "      <td>26.000000</td>\n",
       "    </tr>\n",
       "    <tr>\n",
       "      <th>890</th>\n",
       "      <td>1</td>\n",
       "      <td>3</td>\n",
       "      <td>0</td>\n",
       "      <td>0</td>\n",
       "      <td>32.000000</td>\n",
       "    </tr>\n",
       "  </tbody>\n",
       "</table>\n",
       "<p>891 rows × 5 columns</p>\n",
       "</div>"
      ],
      "text/plain": [
       "     Sex_cat  Pclass  SibSp  Parch        Age\n",
       "0          1       3      1      0  22.000000\n",
       "1          0       1      1      0  38.000000\n",
       "2          0       3      0      0  26.000000\n",
       "3          0       1      1      0  35.000000\n",
       "4          1       3      0      0  35.000000\n",
       "..       ...     ...    ...    ...        ...\n",
       "886        1       2      0      0  27.000000\n",
       "887        0       1      0      0  19.000000\n",
       "888        0       3      1      2  29.699118\n",
       "889        1       1      0      0  26.000000\n",
       "890        1       3      0      0  32.000000\n",
       "\n",
       "[891 rows x 5 columns]"
      ]
     },
     "execution_count": 29,
     "metadata": {},
     "output_type": "execute_result"
    }
   ],
   "source": [
    "X"
   ]
  },
  {
   "cell_type": "markdown",
   "id": "5cffb467",
   "metadata": {
    "papermill": {
     "duration": 0.028695,
     "end_time": "2022-12-01T13:36:00.003732",
     "exception": false,
     "start_time": "2022-12-01T13:35:59.975037",
     "status": "completed"
    },
    "tags": []
   },
   "source": [
    "The target column, y:"
   ]
  },
  {
   "cell_type": "code",
   "execution_count": 30,
   "id": "c63c2d4d",
   "metadata": {
    "execution": {
     "iopub.execute_input": "2022-12-01T13:36:00.061963Z",
     "iopub.status.busy": "2022-12-01T13:36:00.061543Z",
     "iopub.status.idle": "2022-12-01T13:36:00.069260Z",
     "shell.execute_reply": "2022-12-01T13:36:00.067380Z"
    },
    "papermill": {
     "duration": 0.038802,
     "end_time": "2022-12-01T13:36:00.071372",
     "exception": false,
     "start_time": "2022-12-01T13:36:00.032570",
     "status": "completed"
    },
    "tags": []
   },
   "outputs": [
    {
     "data": {
      "text/plain": [
       "array([0, 1, 1, 1, 0])"
      ]
     },
     "execution_count": 30,
     "metadata": {},
     "output_type": "execute_result"
    }
   ],
   "source": [
    "y[:5]"
   ]
  },
  {
   "cell_type": "markdown",
   "id": "2435ae0e",
   "metadata": {
    "papermill": {
     "duration": 0.02859,
     "end_time": "2022-12-01T13:36:00.128175",
     "exception": false,
     "start_time": "2022-12-01T13:36:00.099585",
     "status": "completed"
    },
    "tags": []
   },
   "source": [
    "#### Splitting the dataset into the Training set and Test set"
   ]
  },
  {
   "cell_type": "code",
   "execution_count": 31,
   "id": "bbff2e35",
   "metadata": {
    "execution": {
     "iopub.execute_input": "2022-12-01T13:36:00.188288Z",
     "iopub.status.busy": "2022-12-01T13:36:00.187870Z",
     "iopub.status.idle": "2022-12-01T13:36:00.194822Z",
     "shell.execute_reply": "2022-12-01T13:36:00.193229Z"
    },
    "papermill": {
     "duration": 0.041029,
     "end_time": "2022-12-01T13:36:00.197626",
     "exception": false,
     "start_time": "2022-12-01T13:36:00.156597",
     "status": "completed"
    },
    "tags": []
   },
   "outputs": [],
   "source": [
    "from sklearn.model_selection import train_test_split\n",
    "X_train, X_test, y_train, y_test = train_test_split(X, y, test_size = 0.2, random_state = 0)"
   ]
  },
  {
   "cell_type": "code",
   "execution_count": 32,
   "id": "3cb7b771",
   "metadata": {
    "execution": {
     "iopub.execute_input": "2022-12-01T13:36:00.257668Z",
     "iopub.status.busy": "2022-12-01T13:36:00.257292Z",
     "iopub.status.idle": "2022-12-01T13:36:00.272492Z",
     "shell.execute_reply": "2022-12-01T13:36:00.270974Z"
    },
    "papermill": {
     "duration": 0.04689,
     "end_time": "2022-12-01T13:36:00.274806",
     "exception": false,
     "start_time": "2022-12-01T13:36:00.227916",
     "status": "completed"
    },
    "tags": []
   },
   "outputs": [
    {
     "data": {
      "text/html": [
       "<div>\n",
       "<style scoped>\n",
       "    .dataframe tbody tr th:only-of-type {\n",
       "        vertical-align: middle;\n",
       "    }\n",
       "\n",
       "    .dataframe tbody tr th {\n",
       "        vertical-align: top;\n",
       "    }\n",
       "\n",
       "    .dataframe thead th {\n",
       "        text-align: right;\n",
       "    }\n",
       "</style>\n",
       "<table border=\"1\" class=\"dataframe\">\n",
       "  <thead>\n",
       "    <tr style=\"text-align: right;\">\n",
       "      <th></th>\n",
       "      <th>Sex_cat</th>\n",
       "      <th>Pclass</th>\n",
       "      <th>SibSp</th>\n",
       "      <th>Parch</th>\n",
       "      <th>Age</th>\n",
       "    </tr>\n",
       "  </thead>\n",
       "  <tbody>\n",
       "    <tr>\n",
       "      <th>140</th>\n",
       "      <td>0</td>\n",
       "      <td>3</td>\n",
       "      <td>0</td>\n",
       "      <td>2</td>\n",
       "      <td>29.699118</td>\n",
       "    </tr>\n",
       "    <tr>\n",
       "      <th>439</th>\n",
       "      <td>1</td>\n",
       "      <td>2</td>\n",
       "      <td>0</td>\n",
       "      <td>0</td>\n",
       "      <td>31.000000</td>\n",
       "    </tr>\n",
       "    <tr>\n",
       "      <th>817</th>\n",
       "      <td>1</td>\n",
       "      <td>2</td>\n",
       "      <td>1</td>\n",
       "      <td>1</td>\n",
       "      <td>31.000000</td>\n",
       "    </tr>\n",
       "    <tr>\n",
       "      <th>378</th>\n",
       "      <td>1</td>\n",
       "      <td>3</td>\n",
       "      <td>0</td>\n",
       "      <td>0</td>\n",
       "      <td>20.000000</td>\n",
       "    </tr>\n",
       "    <tr>\n",
       "      <th>491</th>\n",
       "      <td>1</td>\n",
       "      <td>3</td>\n",
       "      <td>0</td>\n",
       "      <td>0</td>\n",
       "      <td>21.000000</td>\n",
       "    </tr>\n",
       "    <tr>\n",
       "      <th>...</th>\n",
       "      <td>...</td>\n",
       "      <td>...</td>\n",
       "      <td>...</td>\n",
       "      <td>...</td>\n",
       "      <td>...</td>\n",
       "    </tr>\n",
       "    <tr>\n",
       "      <th>835</th>\n",
       "      <td>0</td>\n",
       "      <td>1</td>\n",
       "      <td>1</td>\n",
       "      <td>1</td>\n",
       "      <td>39.000000</td>\n",
       "    </tr>\n",
       "    <tr>\n",
       "      <th>192</th>\n",
       "      <td>0</td>\n",
       "      <td>3</td>\n",
       "      <td>1</td>\n",
       "      <td>0</td>\n",
       "      <td>19.000000</td>\n",
       "    </tr>\n",
       "    <tr>\n",
       "      <th>629</th>\n",
       "      <td>1</td>\n",
       "      <td>3</td>\n",
       "      <td>0</td>\n",
       "      <td>0</td>\n",
       "      <td>29.699118</td>\n",
       "    </tr>\n",
       "    <tr>\n",
       "      <th>559</th>\n",
       "      <td>0</td>\n",
       "      <td>3</td>\n",
       "      <td>1</td>\n",
       "      <td>0</td>\n",
       "      <td>36.000000</td>\n",
       "    </tr>\n",
       "    <tr>\n",
       "      <th>684</th>\n",
       "      <td>1</td>\n",
       "      <td>2</td>\n",
       "      <td>1</td>\n",
       "      <td>1</td>\n",
       "      <td>60.000000</td>\n",
       "    </tr>\n",
       "  </tbody>\n",
       "</table>\n",
       "<p>712 rows × 5 columns</p>\n",
       "</div>"
      ],
      "text/plain": [
       "     Sex_cat  Pclass  SibSp  Parch        Age\n",
       "140        0       3      0      2  29.699118\n",
       "439        1       2      0      0  31.000000\n",
       "817        1       2      1      1  31.000000\n",
       "378        1       3      0      0  20.000000\n",
       "491        1       3      0      0  21.000000\n",
       "..       ...     ...    ...    ...        ...\n",
       "835        0       1      1      1  39.000000\n",
       "192        0       3      1      0  19.000000\n",
       "629        1       3      0      0  29.699118\n",
       "559        0       3      1      0  36.000000\n",
       "684        1       2      1      1  60.000000\n",
       "\n",
       "[712 rows x 5 columns]"
      ]
     },
     "execution_count": 32,
     "metadata": {},
     "output_type": "execute_result"
    }
   ],
   "source": [
    "X_train"
   ]
  },
  {
   "cell_type": "markdown",
   "id": "ef6d423e",
   "metadata": {
    "papermill": {
     "duration": 0.028698,
     "end_time": "2022-12-01T13:36:00.331556",
     "exception": false,
     "start_time": "2022-12-01T13:36:00.302858",
     "status": "completed"
    },
    "tags": []
   },
   "source": [
    "#### Feature Scaling"
   ]
  },
  {
   "cell_type": "code",
   "execution_count": 33,
   "id": "bba25b45",
   "metadata": {
    "execution": {
     "iopub.execute_input": "2022-12-01T13:36:00.389782Z",
     "iopub.status.busy": "2022-12-01T13:36:00.389406Z",
     "iopub.status.idle": "2022-12-01T13:36:00.400553Z",
     "shell.execute_reply": "2022-12-01T13:36:00.398801Z"
    },
    "papermill": {
     "duration": 0.042727,
     "end_time": "2022-12-01T13:36:00.402743",
     "exception": false,
     "start_time": "2022-12-01T13:36:00.360016",
     "status": "completed"
    },
    "tags": []
   },
   "outputs": [],
   "source": [
    "# feature scaling\n",
    "from sklearn.preprocessing import StandardScaler\n",
    "sc = StandardScaler()\n",
    "X_train = sc.fit_transform(X_train)\n",
    "X_test = sc.transform(X_test)"
   ]
  },
  {
   "cell_type": "markdown",
   "id": "feccd8d4",
   "metadata": {
    "papermill": {
     "duration": 0.030255,
     "end_time": "2022-12-01T13:36:00.462510",
     "exception": false,
     "start_time": "2022-12-01T13:36:00.432255",
     "status": "completed"
    },
    "tags": []
   },
   "source": [
    "## **Feature and Model Selection**"
   ]
  },
  {
   "cell_type": "code",
   "execution_count": 34,
   "id": "f53ef44b",
   "metadata": {
    "execution": {
     "iopub.execute_input": "2022-12-01T13:36:00.522816Z",
     "iopub.status.busy": "2022-12-01T13:36:00.522319Z",
     "iopub.status.idle": "2022-12-01T13:36:00.546056Z",
     "shell.execute_reply": "2022-12-01T13:36:00.544984Z"
    },
    "papermill": {
     "duration": 0.056753,
     "end_time": "2022-12-01T13:36:00.548414",
     "exception": false,
     "start_time": "2022-12-01T13:36:00.491661",
     "status": "completed"
    },
    "tags": []
   },
   "outputs": [],
   "source": [
    "from sklearn.model_selection import cross_val_score, GridSearchCV, RepeatedStratifiedKFold\n",
    "#cross_val_predict, KFold, \n",
    "from sklearn.metrics import confusion_matrix, accuracy_score\n",
    "from sklearn.pipeline import Pipeline\n",
    "from sklearn.feature_selection import RFECV"
   ]
  },
  {
   "cell_type": "code",
   "execution_count": 35,
   "id": "6a51efc0",
   "metadata": {
    "execution": {
     "iopub.execute_input": "2022-12-01T13:36:00.606719Z",
     "iopub.status.busy": "2022-12-01T13:36:00.605721Z",
     "iopub.status.idle": "2022-12-01T13:36:00.612306Z",
     "shell.execute_reply": "2022-12-01T13:36:00.610339Z"
    },
    "papermill": {
     "duration": 0.038681,
     "end_time": "2022-12-01T13:36:00.614596",
     "exception": false,
     "start_time": "2022-12-01T13:36:00.575915",
     "status": "completed"
    },
    "tags": []
   },
   "outputs": [],
   "source": [
    "# some experience....\n",
    "# here we use Decision Tree as estimator in the RFECV\n",
    "# from sklearn.tree import DecisionTreeClassifier\n",
    "# from sklearn.ensemble import RandomForestClassifier\n",
    "# rfe = RFECV(estimator=LogisticRegression(), cv = 10)\n",
    "# rfe = rfe.fit(X_train,y_train)\n",
    "# print(\"Feature ranking: \", rfe.ranking_)\n",
    "\n",
    "# # extracting the selected features.  get_support() function helps us to get those features names. \n",
    "# mask = rfe.get_support()\n",
    "# features = X.columns\n",
    "# best_features = features[mask]\n",
    " \n",
    "# print(\"All features: \", X.shape[1])\n",
    "# print(features)\n",
    "\n",
    "# print(\"Selected best: \", best_features.shape[0])\n",
    "# print(features[mask])"
   ]
  },
  {
   "cell_type": "markdown",
   "id": "9d6b84be",
   "metadata": {
    "papermill": {
     "duration": 0.09858,
     "end_time": "2022-12-01T13:36:00.742051",
     "exception": false,
     "start_time": "2022-12-01T13:36:00.643471",
     "status": "completed"
    },
    "tags": []
   },
   "source": [
    "Let's run RFECV with different estimators to select features. Additionally, let's run some classification models, to get intuition about which estimator and classification algorithm will give us the best results.\n",
    "\n",
    "After we chose the estimator and the model, we can check which features are selected and use GridSearchCV to find the best hyperparameters for the chosen model."
   ]
  },
  {
   "cell_type": "code",
   "execution_count": 36,
   "id": "6753ff4f",
   "metadata": {
    "execution": {
     "iopub.execute_input": "2022-12-01T13:36:00.803122Z",
     "iopub.status.busy": "2022-12-01T13:36:00.802647Z",
     "iopub.status.idle": "2022-12-01T13:36:00.913471Z",
     "shell.execute_reply": "2022-12-01T13:36:00.911796Z"
    },
    "papermill": {
     "duration": 0.144919,
     "end_time": "2022-12-01T13:36:00.916388",
     "exception": false,
     "start_time": "2022-12-01T13:36:00.771469",
     "status": "completed"
    },
    "tags": []
   },
   "outputs": [],
   "source": [
    "from sklearn.linear_model import LogisticRegression\n",
    "from sklearn.linear_model import Perceptron\n",
    "from sklearn.tree import DecisionTreeClassifier\n",
    "from sklearn.ensemble import RandomForestClassifier\n",
    "from sklearn.ensemble import GradientBoostingClassifier\n",
    "from sklearn.svm import SVC\n",
    "from sklearn.naive_bayes import GaussianNB\n",
    "from sklearn.neighbors import KNeighborsClassifier"
   ]
  },
  {
   "cell_type": "code",
   "execution_count": 37,
   "id": "8e5c1c03",
   "metadata": {
    "collapsed": true,
    "execution": {
     "iopub.execute_input": "2022-12-01T13:36:00.977863Z",
     "iopub.status.busy": "2022-12-01T13:36:00.977508Z",
     "iopub.status.idle": "2022-12-01T13:42:06.912775Z",
     "shell.execute_reply": "2022-12-01T13:42:06.911989Z"
    },
    "jupyter": {
     "outputs_hidden": true
    },
    "papermill": {
     "duration": 365.968078,
     "end_time": "2022-12-01T13:42:06.915124",
     "exception": false,
     "start_time": "2022-12-01T13:36:00.947046",
     "status": "completed"
    },
    "tags": []
   },
   "outputs": [
    {
     "name": "stdout",
     "output_type": "stream",
     "text": [
      "\n",
      "LR\n",
      "\n",
      ">lr 0.789 (0.045)\n",
      ">per 0.787 (0.046)\n",
      ">cart 0.783 (0.041)\n",
      ">rf 0.787 (0.042)\n",
      ">gbm 0.784 (0.044)\n",
      ">svm 0.786 (0.045)\n",
      "\n",
      "SVM\n",
      "\n",
      ">lr 0.786 (0.045)\n",
      ">per 0.786 (0.045)\n",
      ">cart 0.786 (0.045)\n",
      ">rf 0.786 (0.045)\n",
      ">gbm 0.786 (0.045)\n",
      ">svm 0.786 (0.045)\n",
      "\n",
      "RF\n",
      "\n",
      ">lr 0.805 (0.045)\n",
      ">per 0.792 (0.048)\n",
      ">cart 0.793 (0.048)\n",
      ">rf 0.801 (0.051)\n",
      ">gbm 0.801 (0.050)\n",
      ">svm 0.786 (0.045)\n",
      "\n",
      "KNN\n",
      "\n",
      ">lr 0.798 (0.045)\n",
      ">per 0.796 (0.046)\n",
      ">cart 0.789 (0.055)\n",
      ">rf 0.806 (0.044)\n",
      ">gbm 0.802 (0.044)\n",
      ">svm 0.747 (0.077)\n",
      "\n",
      "NB\n",
      "\n",
      ">lr 0.781 (0.050)\n",
      ">per 0.769 (0.052)\n",
      ">cart 0.764 (0.046)\n",
      ">rf 0.764 (0.046)\n",
      ">gbm 0.763 (0.047)\n",
      ">svm 0.786 (0.045)\n"
     ]
    }
   ],
   "source": [
    "# get a list of models to evaluate\n",
    "def get_models(modelc):\n",
    "    models = dict()\n",
    "    # lr\n",
    "    rfe = RFECV(estimator=LogisticRegression())\n",
    "    model = modelc\n",
    "    models['lr'] = Pipeline(steps=[('s',rfe),('m',model)])\n",
    "    # perceptron\n",
    "    rfe = RFECV(estimator=Perceptron())\n",
    "    model = modelc\n",
    "    models['per'] = Pipeline(steps=[('s',rfe),('m',model)])\n",
    "    # cart\n",
    "    rfe = RFECV(estimator=DecisionTreeClassifier())\n",
    "    model = modelc\n",
    "    models['cart'] = Pipeline(steps=[('s',rfe),('m',model)])\n",
    "    # rf\n",
    "    rfe = RFECV(estimator=RandomForestClassifier())\n",
    "    model = modelc\n",
    "    models['rf'] = Pipeline(steps=[('s',rfe),('m',model)])\n",
    "    # gbm\n",
    "    rfe = RFECV(estimator=GradientBoostingClassifier())\n",
    "    model = modelc\n",
    "    models['gbm'] = Pipeline(steps=[('s',rfe),('m',model)])\n",
    "    # svm\n",
    "    rfe = RFECV(estimator=SVC(kernel='linear'))\n",
    "    model = modelc\n",
    "    models['svm'] = Pipeline(steps=[('s',rfe),('m',model)])\n",
    "    return models\n",
    "\n",
    "# evaluate a give model using cross-validation\n",
    "def evaluate_model(model, X, y):\n",
    "    cv = RepeatedStratifiedKFold(n_splits=10, n_repeats=3, random_state=1)\n",
    "    scores = cross_val_score(model, X, y, scoring='accuracy', cv=cv, n_jobs=-1)\n",
    "    return scores\n",
    "\n",
    "models_dict = {'LR': LogisticRegression(random_state=0),\n",
    "               'SVM': SVC(kernel='linear', random_state=0),\n",
    "               'RF': RandomForestClassifier(),\n",
    "               'KNN': KNeighborsClassifier(),\n",
    "               'NB': GaussianNB()}\n",
    "\n",
    "# get the models to evaluate\n",
    "for i in models_dict.keys():\n",
    "    print('\\n'+i+'\\n')\n",
    "    models = get_models(models_dict[i])\n",
    "    # evaluate the models and store results\n",
    "    results, names = list(), list()\n",
    "    for name, model in models.items():\n",
    "        scores = evaluate_model(model, X_train, y_train)\n",
    "        results.append(scores)\n",
    "        names.append(name)\n",
    "        print('>%s %.3f (%.3f)' % (name, np.mean(scores), np.std(scores)))"
   ]
  },
  {
   "cell_type": "markdown",
   "id": "d7367e4a",
   "metadata": {
    "papermill": {
     "duration": 0.029501,
     "end_time": "2022-12-01T13:42:06.974047",
     "exception": false,
     "start_time": "2022-12-01T13:42:06.944546",
     "status": "completed"
    },
    "tags": []
   },
   "source": [
    "O.K, let's continue with the two models with the highest accuracy score-\n",
    "- Random Forest + Random Forest as estimator in the RFECV (accuracy score = 0.8).\n",
    "- K-NN + Random Forest as estimator in the RFECV (accuracy score = 0.806).\n"
   ]
  },
  {
   "cell_type": "markdown",
   "id": "b1fe7061",
   "metadata": {
    "papermill": {
     "duration": 0.02972,
     "end_time": "2022-12-01T13:42:07.034311",
     "exception": false,
     "start_time": "2022-12-01T13:42:07.004591",
     "status": "completed"
    },
    "tags": []
   },
   "source": [
    "## **Random Forest**\n",
    "The feature that were selected:"
   ]
  },
  {
   "cell_type": "code",
   "execution_count": 38,
   "id": "b54a37cf",
   "metadata": {
    "execution": {
     "iopub.execute_input": "2022-12-01T13:42:07.095742Z",
     "iopub.status.busy": "2022-12-01T13:42:07.095409Z",
     "iopub.status.idle": "2022-12-01T13:42:11.438414Z",
     "shell.execute_reply": "2022-12-01T13:42:11.436544Z"
    },
    "papermill": {
     "duration": 4.377357,
     "end_time": "2022-12-01T13:42:11.441409",
     "exception": false,
     "start_time": "2022-12-01T13:42:07.064052",
     "status": "completed"
    },
    "tags": []
   },
   "outputs": [
    {
     "name": "stdout",
     "output_type": "stream",
     "text": [
      "Feature ranking:  [1 1 1 2 1]\n",
      "Selected best:  4\n",
      "Index(['Sex_cat', 'Pclass', 'SibSp', 'Age'], dtype='object')\n"
     ]
    }
   ],
   "source": [
    "rf_rfe = RFECV(estimator=RandomForestClassifier())\n",
    "rf_pipe = Pipeline(steps=[('s',rf_rfe),('m',RandomForestClassifier())])\n",
    "\n",
    "X_new = rf_rfe.fit_transform(X_train, y_train)\n",
    "print(\"Feature ranking: \", rf_rfe.ranking_)\n",
    "\n",
    "mask = rf_rfe.get_support()\n",
    "features = X.columns\n",
    "best_features = features[mask]\n",
    "\n",
    "# print(\"All features: \", x.shape[1])\n",
    "# print(features)\n",
    "\n",
    "print(\"Selected best: \", best_features.shape[0])\n",
    "print(features[mask])"
   ]
  },
  {
   "cell_type": "code",
   "execution_count": 39,
   "id": "26eb9f1a",
   "metadata": {
    "execution": {
     "iopub.execute_input": "2022-12-01T13:42:11.503586Z",
     "iopub.status.busy": "2022-12-01T13:42:11.502603Z",
     "iopub.status.idle": "2022-12-01T13:42:11.509963Z",
     "shell.execute_reply": "2022-12-01T13:42:11.508502Z"
    },
    "papermill": {
     "duration": 0.040818,
     "end_time": "2022-12-01T13:42:11.512392",
     "exception": false,
     "start_time": "2022-12-01T13:42:11.471574",
     "status": "completed"
    },
    "tags": []
   },
   "outputs": [
    {
     "data": {
      "text/plain": [
       "array([[-1.37207547,  0.81925059, -0.46445234, -0.00282437],\n",
       "       [ 0.72882288, -0.38096838, -0.46445234,  0.09662937],\n",
       "       [ 0.72882288, -0.38096838,  0.41270964,  0.09662937],\n",
       "       ...,\n",
       "       [ 0.72882288,  0.81925059, -0.46445234, -0.00282437],\n",
       "       [-1.37207547,  0.81925059,  0.41270964,  0.47888431],\n",
       "       [ 0.72882288, -0.38096838,  0.41270964,  2.31370804]])"
      ]
     },
     "execution_count": 39,
     "metadata": {},
     "output_type": "execute_result"
    }
   ],
   "source": [
    "X_train[:,mask]"
   ]
  },
  {
   "cell_type": "markdown",
   "id": "7fba286a",
   "metadata": {
    "papermill": {
     "duration": 0.030263,
     "end_time": "2022-12-01T13:42:11.573100",
     "exception": false,
     "start_time": "2022-12-01T13:42:11.542837",
     "status": "completed"
    },
    "tags": []
   },
   "source": [
    "Evaluate the model"
   ]
  },
  {
   "cell_type": "code",
   "execution_count": 40,
   "id": "011027b8",
   "metadata": {
    "execution": {
     "iopub.execute_input": "2022-12-01T13:42:11.637073Z",
     "iopub.status.busy": "2022-12-01T13:42:11.636644Z",
     "iopub.status.idle": "2022-12-01T13:43:55.594230Z",
     "shell.execute_reply": "2022-12-01T13:43:55.593184Z"
    },
    "papermill": {
     "duration": 104.021836,
     "end_time": "2022-12-01T13:43:55.625733",
     "exception": false,
     "start_time": "2022-12-01T13:42:11.603897",
     "status": "completed"
    },
    "tags": []
   },
   "outputs": [
    {
     "name": "stdout",
     "output_type": "stream",
     "text": [
      "Accuracy: 0.800 (0.049)\n"
     ]
    }
   ],
   "source": [
    "# evaluate model\n",
    "cv = RepeatedStratifiedKFold(n_splits=10, n_repeats=3, random_state=1)\n",
    "n_scores = cross_val_score(rf_pipe, X_new, y_train, scoring='accuracy', cv=cv, error_score='raise')\n",
    "# report performance\n",
    "print('Accuracy: %.3f (%.3f)' % (np.mean(n_scores), np.std(n_scores)))"
   ]
  },
  {
   "cell_type": "markdown",
   "id": "10f7d4ea",
   "metadata": {
    "papermill": {
     "duration": 0.030428,
     "end_time": "2022-12-01T13:43:55.687500",
     "exception": false,
     "start_time": "2022-12-01T13:43:55.657072",
     "status": "completed"
    },
    "tags": []
   },
   "source": [
    "Find the best hyperparameters using GridSearchCV"
   ]
  },
  {
   "cell_type": "code",
   "execution_count": 41,
   "id": "21f59c21",
   "metadata": {
    "execution": {
     "iopub.execute_input": "2022-12-01T13:43:55.750992Z",
     "iopub.status.busy": "2022-12-01T13:43:55.750600Z",
     "iopub.status.idle": "2022-12-01T13:43:55.759361Z",
     "shell.execute_reply": "2022-12-01T13:43:55.758028Z"
    },
    "papermill": {
     "duration": 0.043654,
     "end_time": "2022-12-01T13:43:55.761917",
     "exception": false,
     "start_time": "2022-12-01T13:43:55.718263",
     "status": "completed"
    },
    "tags": []
   },
   "outputs": [],
   "source": [
    "# Criterion\n",
    "criterion = ['gini', 'entropy']\n",
    "# Number of trees in random forest\n",
    "n_estimators = [int(x) for x in np.linspace(start = 200, stop = 2000, num = 5)]\n",
    "# Number of features to consider at every split\n",
    "max_features = ['auto', 'sqrt']\n",
    "# Maximum number of levels in tree\n",
    "max_depth = [int(x) for x in np.linspace(10, 110, num = 11)]\n",
    "max_depth.append(None)\n",
    "# Minimum number of samples required to split a node\n",
    "min_samples_split = [2, 5, 10]\n",
    "# Minimum number of samples required at each leaf node\n",
    "min_samples_leaf = [1, 2, 4]\n",
    "# Method of selecting samples for training each tree\n",
    "bootstrap = [True, False]\n",
    "\n",
    "# Create the random grid\n",
    "random_grid = {'m__criterion': criterion,\n",
    "               'm__n_estimators': n_estimators,\n",
    "               'm__max_features': max_features,\n",
    "               'm__max_depth': max_depth,\n",
    "               'm__min_samples_split': min_samples_split,\n",
    "               'm__min_samples_leaf': min_samples_leaf,\n",
    "               'm__bootstrap': bootstrap}"
   ]
  },
  {
   "cell_type": "code",
   "execution_count": 42,
   "id": "8b2eb16d",
   "metadata": {
    "collapsed": true,
    "execution": {
     "iopub.execute_input": "2022-12-01T13:43:55.825582Z",
     "iopub.status.busy": "2022-12-01T13:43:55.825237Z",
     "iopub.status.idle": "2022-12-01T13:43:55.831780Z",
     "shell.execute_reply": "2022-12-01T13:43:55.830199Z"
    },
    "jupyter": {
     "outputs_hidden": true
    },
    "papermill": {
     "duration": 0.04135,
     "end_time": "2022-12-01T13:43:55.834569",
     "exception": false,
     "start_time": "2022-12-01T13:43:55.793219",
     "status": "completed"
    },
    "tags": []
   },
   "outputs": [
    {
     "data": {
      "text/plain": [
       "'#run very slow\\nrf_grid_search = GridSearchCV(rf_pipe,\\n                           param_grid = random_grid,\\n                           scoring = \\'accuracy\\',\\n                           cv = cv)\\nrf_grid_search.fit(X_new, y_train)\\nbest_accuracy = rf_grid_search.best_score_\\nbest_parameters = rf_grid_search.best_params_\\nprint(\"Best Accuracy: {:.2f} %\".format(best_accuracy*100))\\nprint(\"Best Parameters:\", best_parameters)'"
      ]
     },
     "execution_count": 42,
     "metadata": {},
     "output_type": "execute_result"
    }
   ],
   "source": [
    "'''#run very slow\n",
    "rf_grid_search = GridSearchCV(rf_pipe,\n",
    "                           param_grid = random_grid,\n",
    "                           scoring = 'accuracy',\n",
    "                           cv = cv)\n",
    "rf_grid_search.fit(X_new, y_train)\n",
    "best_accuracy = rf_grid_search.best_score_\n",
    "best_parameters = rf_grid_search.best_params_\n",
    "print(\"Best Accuracy: {:.2f} %\".format(best_accuracy*100))\n",
    "print(\"Best Parameters:\", best_parameters)'''"
   ]
  },
  {
   "cell_type": "code",
   "execution_count": 43,
   "id": "016d2b10",
   "metadata": {
    "collapsed": true,
    "execution": {
     "iopub.execute_input": "2022-12-01T13:43:55.897203Z",
     "iopub.status.busy": "2022-12-01T13:43:55.896811Z",
     "iopub.status.idle": "2022-12-01T13:43:59.075884Z",
     "shell.execute_reply": "2022-12-01T13:43:59.074513Z"
    },
    "jupyter": {
     "outputs_hidden": true
    },
    "papermill": {
     "duration": 3.213867,
     "end_time": "2022-12-01T13:43:59.078743",
     "exception": false,
     "start_time": "2022-12-01T13:43:55.864876",
     "status": "completed"
    },
    "tags": []
   },
   "outputs": [
    {
     "name": "stdout",
     "output_type": "stream",
     "text": [
      "[[97 13]\n",
      " [20 49]]\n"
     ]
    },
    {
     "data": {
      "text/plain": [
       "0.8156424581005587"
      ]
     },
     "execution_count": 43,
     "metadata": {},
     "output_type": "execute_result"
    }
   ],
   "source": [
    "rf_clf = RandomForestClassifier(n_estimators=2000, criterion='gini')\n",
    "rf_clf.fit(X_new, y_train)\n",
    "y_pred = rf_clf.predict(X_test[:,mask])\n",
    "cm = confusion_matrix(y_test, y_pred)\n",
    "print(cm)\n",
    "accuracy_score(y_test, y_pred)"
   ]
  },
  {
   "cell_type": "code",
   "execution_count": 44,
   "id": "9ec36ed7",
   "metadata": {
    "execution": {
     "iopub.execute_input": "2022-12-01T13:43:59.142817Z",
     "iopub.status.busy": "2022-12-01T13:43:59.142449Z",
     "iopub.status.idle": "2022-12-01T13:43:59.150094Z",
     "shell.execute_reply": "2022-12-01T13:43:59.148999Z"
    },
    "papermill": {
     "duration": 0.04227,
     "end_time": "2022-12-01T13:43:59.152079",
     "exception": false,
     "start_time": "2022-12-01T13:43:59.109809",
     "status": "completed"
    },
    "tags": []
   },
   "outputs": [
    {
     "data": {
      "text/plain": [
       "array([[-1.37207547,  0.81925059, -0.46445234, -0.00282437],\n",
       "       [ 0.72882288, -0.38096838, -0.46445234,  0.09662937],\n",
       "       [ 0.72882288, -0.38096838,  0.41270964,  0.09662937],\n",
       "       ...,\n",
       "       [ 0.72882288,  0.81925059, -0.46445234, -0.00282437],\n",
       "       [-1.37207547,  0.81925059,  0.41270964,  0.47888431],\n",
       "       [ 0.72882288, -0.38096838,  0.41270964,  2.31370804]])"
      ]
     },
     "execution_count": 44,
     "metadata": {},
     "output_type": "execute_result"
    }
   ],
   "source": [
    "X_train[:,[0,1,2,4]]"
   ]
  },
  {
   "cell_type": "code",
   "execution_count": 45,
   "id": "69208849",
   "metadata": {
    "execution": {
     "iopub.execute_input": "2022-12-01T13:43:59.216428Z",
     "iopub.status.busy": "2022-12-01T13:43:59.215883Z",
     "iopub.status.idle": "2022-12-01T13:43:59.221858Z",
     "shell.execute_reply": "2022-12-01T13:43:59.221079Z"
    },
    "papermill": {
     "duration": 0.040171,
     "end_time": "2022-12-01T13:43:59.223760",
     "exception": false,
     "start_time": "2022-12-01T13:43:59.183589",
     "status": "completed"
    },
    "tags": []
   },
   "outputs": [
    {
     "data": {
      "text/plain": [
       "array([[-1.37207547,  0.81925059, -0.46445234, -0.00282437],\n",
       "       [ 0.72882288, -0.38096838, -0.46445234,  0.09662937],\n",
       "       [ 0.72882288, -0.38096838,  0.41270964,  0.09662937],\n",
       "       ...,\n",
       "       [ 0.72882288,  0.81925059, -0.46445234, -0.00282437],\n",
       "       [-1.37207547,  0.81925059,  0.41270964,  0.47888431],\n",
       "       [ 0.72882288, -0.38096838,  0.41270964,  2.31370804]])"
      ]
     },
     "execution_count": 45,
     "metadata": {},
     "output_type": "execute_result"
    }
   ],
   "source": [
    "X_new"
   ]
  },
  {
   "cell_type": "markdown",
   "id": "30c8c300",
   "metadata": {
    "papermill": {
     "duration": 0.030681,
     "end_time": "2022-12-01T13:43:59.285173",
     "exception": false,
     "start_time": "2022-12-01T13:43:59.254492",
     "status": "completed"
    },
    "tags": []
   },
   "source": [
    "Predict the test set"
   ]
  },
  {
   "cell_type": "code",
   "execution_count": 46,
   "id": "5c1cdcc9",
   "metadata": {
    "execution": {
     "iopub.execute_input": "2022-12-01T13:43:59.348489Z",
     "iopub.status.busy": "2022-12-01T13:43:59.348091Z",
     "iopub.status.idle": "2022-12-01T13:43:59.355391Z",
     "shell.execute_reply": "2022-12-01T13:43:59.354013Z"
    },
    "papermill": {
     "duration": 0.042551,
     "end_time": "2022-12-01T13:43:59.358471",
     "exception": false,
     "start_time": "2022-12-01T13:43:59.315920",
     "status": "completed"
    },
    "tags": []
   },
   "outputs": [
    {
     "data": {
      "text/plain": [
       "'\\n# The next step:\\nrf_pred = rf_pipe.predict(X_test)\\ncm = confusion_matrix(y_test, rf_pred)\\nprint(cm)\\naccuracy_score(y_test, rf_pred)\\n'"
      ]
     },
     "execution_count": 46,
     "metadata": {},
     "output_type": "execute_result"
    }
   ],
   "source": [
    "'''\n",
    "# The next step:\n",
    "rf_pred = rf_pipe.predict(X_test)\n",
    "cm = confusion_matrix(y_test, rf_pred)\n",
    "print(cm)\n",
    "accuracy_score(y_test, rf_pred)\n",
    "'''"
   ]
  },
  {
   "cell_type": "markdown",
   "id": "798c341e",
   "metadata": {
    "papermill": {
     "duration": 0.031314,
     "end_time": "2022-12-01T13:43:59.421818",
     "exception": false,
     "start_time": "2022-12-01T13:43:59.390504",
     "status": "completed"
    },
    "tags": []
   },
   "source": [
    "## **K-NN**"
   ]
  },
  {
   "cell_type": "code",
   "execution_count": 47,
   "id": "74884d79",
   "metadata": {
    "execution": {
     "iopub.execute_input": "2022-12-01T13:43:59.488747Z",
     "iopub.status.busy": "2022-12-01T13:43:59.488397Z",
     "iopub.status.idle": "2022-12-01T13:44:03.811608Z",
     "shell.execute_reply": "2022-12-01T13:44:03.810420Z"
    },
    "papermill": {
     "duration": 4.358786,
     "end_time": "2022-12-01T13:44:03.813856",
     "exception": false,
     "start_time": "2022-12-01T13:43:59.455070",
     "status": "completed"
    },
    "tags": []
   },
   "outputs": [
    {
     "name": "stdout",
     "output_type": "stream",
     "text": [
      "Feature ranking:  [1 1 1 2 1]\n",
      "Selected best:  5\n",
      "Index(['Sex_cat', 'Pclass', 'SibSp', 'Parch', 'Age'], dtype='object')\n"
     ]
    }
   ],
   "source": [
    "knn_rfe = RFECV(estimator=RandomForestClassifier())\n",
    "knn_pipe = Pipeline(steps=[('s',knn_rfe),('m',KNeighborsClassifier())])\n",
    "\n",
    "X_new_knn = knn_rfe.fit_transform(X_train, y_train)\n",
    "print(\"Feature ranking: \", rf_rfe.ranking_)\n",
    "\n",
    "mask = knn_rfe.get_support()\n",
    "features = X.columns\n",
    "best_features = features[mask]\n",
    "\n",
    "# print(\"All features: \", x.shape[1])\n",
    "# print(features)\n",
    "\n",
    "print(\"Selected best: \", best_features.shape[0])\n",
    "print(features[mask])"
   ]
  },
  {
   "cell_type": "code",
   "execution_count": 48,
   "id": "0796769f",
   "metadata": {
    "execution": {
     "iopub.execute_input": "2022-12-01T13:44:03.878568Z",
     "iopub.status.busy": "2022-12-01T13:44:03.878193Z",
     "iopub.status.idle": "2022-12-01T13:46:09.117903Z",
     "shell.execute_reply": "2022-12-01T13:46:09.116450Z"
    },
    "papermill": {
     "duration": 125.304932,
     "end_time": "2022-12-01T13:46:09.150059",
     "exception": false,
     "start_time": "2022-12-01T13:44:03.845127",
     "status": "completed"
    },
    "tags": []
   },
   "outputs": [
    {
     "name": "stdout",
     "output_type": "stream",
     "text": [
      "Accuracy: 0.799 (0.049)\n"
     ]
    }
   ],
   "source": [
    "cv = RepeatedStratifiedKFold(n_splits=10, n_repeats=3, random_state=1)\n",
    "n_scores = cross_val_score(knn_pipe, X_new_knn, y_train, scoring='accuracy', cv=cv, error_score='raise')\n",
    "# report performance\n",
    "print('Accuracy: %.3f (%.3f)' % (np.mean(n_scores), np.std(n_scores)))"
   ]
  },
  {
   "cell_type": "code",
   "execution_count": 49,
   "id": "e99a2773",
   "metadata": {
    "execution": {
     "iopub.execute_input": "2022-12-01T13:46:09.218561Z",
     "iopub.status.busy": "2022-12-01T13:46:09.218211Z",
     "iopub.status.idle": "2022-12-01T13:46:09.224407Z",
     "shell.execute_reply": "2022-12-01T13:46:09.223072Z"
    },
    "papermill": {
     "duration": 0.042779,
     "end_time": "2022-12-01T13:46:09.227031",
     "exception": false,
     "start_time": "2022-12-01T13:46:09.184252",
     "status": "completed"
    },
    "tags": []
   },
   "outputs": [],
   "source": [
    "# Number of neighbors\n",
    "n_neighbors = [21]\n",
    "# Weight function used in prediction\n",
    "weights = ['uniform']\n",
    "# Algorithm used to compute the nearest neighbors\n",
    "algorithm = ['auto', 'ball_tree', 'kd_tree', 'brute']\n",
    "# Euclidean distance\n",
    "metric = ['minkowski']\n",
    "p = [2]\n",
    "\n",
    "# Create the knn hyperparameters grid\n",
    "knn_grid = {'m__n_neighbors': n_neighbors,\n",
    "               'm__weights': weights,\n",
    "               'm__algorithm': algorithm,\n",
    "               'm__metric': metric,\n",
    "               'm__p': p}"
   ]
  },
  {
   "cell_type": "code",
   "execution_count": 50,
   "id": "18790cf7",
   "metadata": {
    "collapsed": true,
    "execution": {
     "iopub.execute_input": "2022-12-01T13:46:09.296597Z",
     "iopub.status.busy": "2022-12-01T13:46:09.296187Z",
     "iopub.status.idle": "2022-12-01T13:46:09.303149Z",
     "shell.execute_reply": "2022-12-01T13:46:09.301660Z"
    },
    "jupyter": {
     "outputs_hidden": true
    },
    "papermill": {
     "duration": 0.046259,
     "end_time": "2022-12-01T13:46:09.305897",
     "exception": false,
     "start_time": "2022-12-01T13:46:09.259638",
     "status": "completed"
    },
    "tags": []
   },
   "outputs": [
    {
     "data": {
      "text/plain": [
       "' # run very slow\\nknn_grid_search = GridSearchCV(knn_pipe,\\n                           param_grid = knn_grid,\\n                           scoring = \\'accuracy\\',\\n                           cv = cv)\\nrf_grid_search.fit(X_new_knn, y_train)\\nbest_accuracy = knn_grid_search.best_score_\\nbest_parameters = knn_grid_search.best_params_\\nprint(\"Best Accuracy: {:.2f} %\".format(best_accuracy*100))\\nprint(\"Best Parameters:\", best_parameters)\\n'"
      ]
     },
     "execution_count": 50,
     "metadata": {},
     "output_type": "execute_result"
    }
   ],
   "source": [
    "''' # run very slow\n",
    "knn_grid_search = GridSearchCV(knn_pipe,\n",
    "                           param_grid = knn_grid,\n",
    "                           scoring = 'accuracy',\n",
    "                           cv = cv)\n",
    "rf_grid_search.fit(X_new_knn, y_train)\n",
    "best_accuracy = knn_grid_search.best_score_\n",
    "best_parameters = knn_grid_search.best_params_\n",
    "print(\"Best Accuracy: {:.2f} %\".format(best_accuracy*100))\n",
    "print(\"Best Parameters:\", best_parameters)\n",
    "'''"
   ]
  },
  {
   "cell_type": "code",
   "execution_count": 51,
   "id": "920cdbc6",
   "metadata": {
    "execution": {
     "iopub.execute_input": "2022-12-01T13:46:09.372915Z",
     "iopub.status.busy": "2022-12-01T13:46:09.372466Z",
     "iopub.status.idle": "2022-12-01T13:46:09.378661Z",
     "shell.execute_reply": "2022-12-01T13:46:09.377762Z"
    },
    "papermill": {
     "duration": 0.042249,
     "end_time": "2022-12-01T13:46:09.381228",
     "exception": false,
     "start_time": "2022-12-01T13:46:09.338979",
     "status": "completed"
    },
    "tags": []
   },
   "outputs": [
    {
     "data": {
      "text/plain": [
       "'knn_pred = knn_pipe.predict(X_test[mask])\\ncm = confusion_matrix(y_test, knn_pred)\\nprint(cm)\\naccuracy_score(y_test, knn_pred)'"
      ]
     },
     "execution_count": 51,
     "metadata": {},
     "output_type": "execute_result"
    }
   ],
   "source": [
    "'''knn_pred = knn_pipe.predict(X_test[mask])\n",
    "cm = confusion_matrix(y_test, knn_pred)\n",
    "print(cm)\n",
    "accuracy_score(y_test, knn_pred)'''"
   ]
  },
  {
   "cell_type": "code",
   "execution_count": null,
   "id": "aeab995d",
   "metadata": {
    "papermill": {
     "duration": 0.03207,
     "end_time": "2022-12-01T13:46:09.445931",
     "exception": false,
     "start_time": "2022-12-01T13:46:09.413861",
     "status": "completed"
    },
    "tags": []
   },
   "outputs": [],
   "source": []
  },
  {
   "cell_type": "markdown",
   "id": "91e4e701",
   "metadata": {
    "papermill": {
     "duration": 0.031198,
     "end_time": "2022-12-01T13:46:09.509267",
     "exception": false,
     "start_time": "2022-12-01T13:46:09.478069",
     "status": "completed"
    },
    "tags": []
   },
   "source": [
    "## **Model Selection**"
   ]
  },
  {
   "cell_type": "markdown",
   "id": "2262a94c",
   "metadata": {
    "papermill": {
     "duration": 0.032255,
     "end_time": "2022-12-01T13:46:09.573123",
     "exception": false,
     "start_time": "2022-12-01T13:46:09.540868",
     "status": "completed"
    },
    "tags": []
   },
   "source": [
    "To find the best model with the best parameters, let's use cross validation and grid search."
   ]
  },
  {
   "cell_type": "code",
   "execution_count": 52,
   "id": "1d6dafc5",
   "metadata": {
    "execution": {
     "iopub.execute_input": "2022-12-01T13:46:09.640226Z",
     "iopub.status.busy": "2022-12-01T13:46:09.639799Z",
     "iopub.status.idle": "2022-12-01T13:46:09.645605Z",
     "shell.execute_reply": "2022-12-01T13:46:09.644254Z"
    },
    "papermill": {
     "duration": 0.042131,
     "end_time": "2022-12-01T13:46:09.647571",
     "exception": false,
     "start_time": "2022-12-01T13:46:09.605440",
     "status": "completed"
    },
    "tags": []
   },
   "outputs": [],
   "source": [
    "models_accuracy_scores = {}\n",
    "# best_params = {}"
   ]
  },
  {
   "cell_type": "markdown",
   "id": "8bc3a207",
   "metadata": {
    "papermill": {
     "duration": 0.031169,
     "end_time": "2022-12-01T13:46:09.710546",
     "exception": false,
     "start_time": "2022-12-01T13:46:09.679377",
     "status": "completed"
    },
    "tags": []
   },
   "source": [
    "## **Logistic Regression**"
   ]
  },
  {
   "cell_type": "markdown",
   "id": "69c75cbd",
   "metadata": {
    "papermill": {
     "duration": 0.032819,
     "end_time": "2022-12-01T13:46:09.776388",
     "exception": false,
     "start_time": "2022-12-01T13:46:09.743569",
     "status": "completed"
    },
    "tags": []
   },
   "source": [
    "Training the Logistic Regression model on the Training set"
   ]
  },
  {
   "cell_type": "code",
   "execution_count": 53,
   "id": "077913f6",
   "metadata": {
    "execution": {
     "iopub.execute_input": "2022-12-01T13:46:09.845010Z",
     "iopub.status.busy": "2022-12-01T13:46:09.844571Z",
     "iopub.status.idle": "2022-12-01T13:46:09.858988Z",
     "shell.execute_reply": "2022-12-01T13:46:09.857976Z"
    },
    "papermill": {
     "duration": 0.051834,
     "end_time": "2022-12-01T13:46:09.861490",
     "exception": false,
     "start_time": "2022-12-01T13:46:09.809656",
     "status": "completed"
    },
    "tags": []
   },
   "outputs": [
    {
     "data": {
      "text/plain": [
       "LogisticRegression(random_state=0)"
      ]
     },
     "execution_count": 53,
     "metadata": {},
     "output_type": "execute_result"
    }
   ],
   "source": [
    "logistic_classifier = LogisticRegression(random_state=0)\n",
    "logistic_classifier.fit(X_train, y_train)"
   ]
  },
  {
   "cell_type": "markdown",
   "id": "72f4c0e0",
   "metadata": {
    "papermill": {
     "duration": 0.032863,
     "end_time": "2022-12-01T13:46:09.927078",
     "exception": false,
     "start_time": "2022-12-01T13:46:09.894215",
     "status": "completed"
    },
    "tags": []
   },
   "source": [
    "Making the Confusion Matrix"
   ]
  },
  {
   "cell_type": "code",
   "execution_count": 54,
   "id": "690f7da2",
   "metadata": {
    "execution": {
     "iopub.execute_input": "2022-12-01T13:46:09.994620Z",
     "iopub.status.busy": "2022-12-01T13:46:09.994223Z",
     "iopub.status.idle": "2022-12-01T13:46:10.004018Z",
     "shell.execute_reply": "2022-12-01T13:46:10.002452Z"
    },
    "papermill": {
     "duration": 0.045974,
     "end_time": "2022-12-01T13:46:10.006230",
     "exception": false,
     "start_time": "2022-12-01T13:46:09.960256",
     "status": "completed"
    },
    "tags": []
   },
   "outputs": [
    {
     "name": "stdout",
     "output_type": "stream",
     "text": [
      "[[92 18]\n",
      " [17 52]]\n"
     ]
    },
    {
     "data": {
      "text/plain": [
       "0.8044692737430168"
      ]
     },
     "execution_count": 54,
     "metadata": {},
     "output_type": "execute_result"
    }
   ],
   "source": [
    "y_pred = logistic_classifier.predict(X_test)\n",
    "cm = confusion_matrix(y_test, y_pred)\n",
    "print(cm)\n",
    "accuracy_score(y_test, y_pred)"
   ]
  },
  {
   "cell_type": "markdown",
   "id": "daf8e93b",
   "metadata": {
    "papermill": {
     "duration": 0.031628,
     "end_time": "2022-12-01T13:46:10.069282",
     "exception": false,
     "start_time": "2022-12-01T13:46:10.037654",
     "status": "completed"
    },
    "tags": []
   },
   "source": [
    "Feature Selection"
   ]
  },
  {
   "cell_type": "code",
   "execution_count": 55,
   "id": "077d9c1c",
   "metadata": {
    "execution": {
     "iopub.execute_input": "2022-12-01T13:46:10.135245Z",
     "iopub.status.busy": "2022-12-01T13:46:10.134848Z",
     "iopub.status.idle": "2022-12-01T13:46:11.104244Z",
     "shell.execute_reply": "2022-12-01T13:46:11.102673Z"
    },
    "papermill": {
     "duration": 1.006009,
     "end_time": "2022-12-01T13:46:11.106814",
     "exception": false,
     "start_time": "2022-12-01T13:46:10.100805",
     "status": "completed"
    },
    "tags": []
   },
   "outputs": [
    {
     "name": "stdout",
     "output_type": "stream",
     "text": [
      "Accuracy: 0.800 (0.045)\n"
     ]
    }
   ],
   "source": [
    "from sklearn.tree import DecisionTreeClassifier\n",
    "# create pipeline\n",
    "rfe = RFECV(estimator=LogisticRegression())\n",
    "model = LogisticRegression()\n",
    "pipeline = Pipeline(steps=[('s',rfe),('m',model)])\n",
    "# evaluate model\n",
    "cv = RepeatedStratifiedKFold(n_splits=10, n_repeats=1, random_state=1)\n",
    "n_scores = cross_val_score(pipeline, X_train, y_train, scoring='accuracy', cv=cv, error_score='raise')\n",
    "# report performance\n",
    "print('Accuracy: %.3f (%.3f)' % (np.mean(n_scores), np.std(n_scores)))"
   ]
  },
  {
   "cell_type": "code",
   "execution_count": 56,
   "id": "1a5e9b0c",
   "metadata": {
    "execution": {
     "iopub.execute_input": "2022-12-01T13:46:11.172163Z",
     "iopub.status.busy": "2022-12-01T13:46:11.171779Z",
     "iopub.status.idle": "2022-12-01T13:46:11.273131Z",
     "shell.execute_reply": "2022-12-01T13:46:11.271599Z"
    },
    "papermill": {
     "duration": 0.136331,
     "end_time": "2022-12-01T13:46:11.275222",
     "exception": false,
     "start_time": "2022-12-01T13:46:11.138891",
     "status": "completed"
    },
    "tags": []
   },
   "outputs": [
    {
     "name": "stdout",
     "output_type": "stream",
     "text": [
      "All features:  5\n",
      "Index(['Sex_cat', 'Pclass', 'SibSp', 'Parch', 'Age'], dtype='object')\n",
      "Selected best:  3\n",
      "Index(['Sex_cat', 'Pclass', 'Age'], dtype='object')\n"
     ]
    }
   ],
   "source": [
    "rfe.fit(X_train, y_train)\n",
    "mask = rfe.get_support()\n",
    "features = X.columns\n",
    "best_features = features[mask]\n",
    " \n",
    "print(\"All features: \", X.shape[1])\n",
    "print(features)\n",
    "\n",
    "print(\"Selected best: \", best_features.shape[0])\n",
    "print(features[mask])"
   ]
  },
  {
   "cell_type": "code",
   "execution_count": 57,
   "id": "c9fd9bda",
   "metadata": {
    "execution": {
     "iopub.execute_input": "2022-12-01T13:46:11.341700Z",
     "iopub.status.busy": "2022-12-01T13:46:11.341349Z",
     "iopub.status.idle": "2022-12-01T13:46:11.346595Z",
     "shell.execute_reply": "2022-12-01T13:46:11.345126Z"
    },
    "papermill": {
     "duration": 0.041662,
     "end_time": "2022-12-01T13:46:11.349219",
     "exception": false,
     "start_time": "2022-12-01T13:46:11.307557",
     "status": "completed"
    },
    "tags": []
   },
   "outputs": [],
   "source": [
    "# model.fit(X_new, y_train)\n",
    "# pip_pred = pipeline.predict(X_test)\n",
    "# cm = confusion_matrix(y_test, pip_pred)\n",
    "# print(cm)\n",
    "# accuracy_score(y_test, pip_pred)"
   ]
  },
  {
   "cell_type": "markdown",
   "id": "4a02089c",
   "metadata": {
    "papermill": {
     "duration": 0.032455,
     "end_time": "2022-12-01T13:46:11.413886",
     "exception": false,
     "start_time": "2022-12-01T13:46:11.381431",
     "status": "completed"
    },
    "tags": []
   },
   "source": [
    "Applying k-Fold Cross Validation"
   ]
  },
  {
   "cell_type": "code",
   "execution_count": 58,
   "id": "90ec7349",
   "metadata": {
    "execution": {
     "iopub.execute_input": "2022-12-01T13:46:11.482386Z",
     "iopub.status.busy": "2022-12-01T13:46:11.481916Z",
     "iopub.status.idle": "2022-12-01T13:46:11.528239Z",
     "shell.execute_reply": "2022-12-01T13:46:11.527253Z"
    },
    "papermill": {
     "duration": 0.085076,
     "end_time": "2022-12-01T13:46:11.532808",
     "exception": false,
     "start_time": "2022-12-01T13:46:11.447732",
     "status": "completed"
    },
    "tags": []
   },
   "outputs": [
    {
     "name": "stdout",
     "output_type": "stream",
     "text": [
      "Accuracy: 78.38 %\n",
      "Standard Deviation: 4.74 %\n"
     ]
    }
   ],
   "source": [
    "accuracies = cross_val_score(estimator = logistic_classifier, X = X_train, y = y_train, cv = 10)\n",
    "print(\"Accuracy: {:.2f} %\".format(accuracies.mean()*100))\n",
    "print(\"Standard Deviation: {:.2f} %\".format(accuracies.std()*100))"
   ]
  },
  {
   "cell_type": "markdown",
   "id": "99738386",
   "metadata": {
    "papermill": {
     "duration": 0.033209,
     "end_time": "2022-12-01T13:46:11.598814",
     "exception": false,
     "start_time": "2022-12-01T13:46:11.565605",
     "status": "completed"
    },
    "tags": []
   },
   "source": [
    "Applying Grid Search to find the best model and the best parameters"
   ]
  },
  {
   "cell_type": "code",
   "execution_count": 59,
   "id": "f04525e6",
   "metadata": {
    "execution": {
     "iopub.execute_input": "2022-12-01T13:46:11.672213Z",
     "iopub.status.busy": "2022-12-01T13:46:11.671807Z",
     "iopub.status.idle": "2022-12-01T13:46:14.535613Z",
     "shell.execute_reply": "2022-12-01T13:46:14.534432Z"
    },
    "papermill": {
     "duration": 2.904678,
     "end_time": "2022-12-01T13:46:14.539192",
     "exception": false,
     "start_time": "2022-12-01T13:46:11.634514",
     "status": "completed"
    },
    "tags": []
   },
   "outputs": [
    {
     "name": "stdout",
     "output_type": "stream",
     "text": [
      "Best Accuracy: 80.49 %\n",
      "Best Parameters: {'C': 0.1, 'penalty': 'l1', 'solver': 'saga'}\n"
     ]
    }
   ],
   "source": [
    "parameters = [{'C': [0.01, 0.1, 0.15, 0.25, 0.5, 0.75, 1], 'penalty': ['l2'], 'solver': ['newton-cg', 'lbfgs', 'sag', 'saga']},\n",
    "              {'penalty': ['none'], 'solver': ['newton-cg', 'lbfgs', 'sag', 'saga']},\n",
    "              {'C': [0.01, 0.1, 0.15,  0.25, 0.5, 0.75, 1], 'penalty': ['l2', 'l1'], 'solver': ['liblinear', 'saga']},\n",
    "              {'C': [0.01, 0.1, 0.15, 0.25, 0.5, 0.75, 1], 'penalty': ['elasticnet'], 'solver': ['saga'], 'l1_ratio': [0.25, 0.5, 0.75]}]\n",
    "\n",
    "grid_search = GridSearchCV(estimator = logistic_classifier,\n",
    "                           param_grid = parameters,\n",
    "                           scoring = 'accuracy',\n",
    "                           cv = 10)\n",
    "grid_search.fit(X_train, y_train)\n",
    "best_accuracy = grid_search.best_score_\n",
    "best_parameters = grid_search.best_params_\n",
    "print(\"Best Accuracy: {:.2f} %\".format(best_accuracy*100))\n",
    "print(\"Best Parameters:\", best_parameters)"
   ]
  },
  {
   "cell_type": "code",
   "execution_count": 60,
   "id": "eeb76065",
   "metadata": {
    "execution": {
     "iopub.execute_input": "2022-12-01T13:46:14.610196Z",
     "iopub.status.busy": "2022-12-01T13:46:14.609741Z",
     "iopub.status.idle": "2022-12-01T13:46:14.621200Z",
     "shell.execute_reply": "2022-12-01T13:46:14.619356Z"
    },
    "papermill": {
     "duration": 0.051289,
     "end_time": "2022-12-01T13:46:14.623923",
     "exception": false,
     "start_time": "2022-12-01T13:46:14.572634",
     "status": "completed"
    },
    "tags": []
   },
   "outputs": [
    {
     "data": {
      "text/plain": [
       "0.7877094972067039"
      ]
     },
     "execution_count": 60,
     "metadata": {},
     "output_type": "execute_result"
    }
   ],
   "source": [
    "grid_pred = grid_search.predict(X_test)\n",
    "accuracy_score(y_test, grid_pred)"
   ]
  },
  {
   "cell_type": "code",
   "execution_count": 61,
   "id": "0161123b",
   "metadata": {
    "execution": {
     "iopub.execute_input": "2022-12-01T13:46:14.692153Z",
     "iopub.status.busy": "2022-12-01T13:46:14.690820Z",
     "iopub.status.idle": "2022-12-01T13:46:14.699252Z",
     "shell.execute_reply": "2022-12-01T13:46:14.698305Z"
    },
    "papermill": {
     "duration": 0.045305,
     "end_time": "2022-12-01T13:46:14.701829",
     "exception": false,
     "start_time": "2022-12-01T13:46:14.656524",
     "status": "completed"
    },
    "tags": []
   },
   "outputs": [
    {
     "data": {
      "text/plain": [
       "GridSearchCV(cv=10, estimator=LogisticRegression(random_state=0),\n",
       "             param_grid=[{'C': [0.01, 0.1, 0.15, 0.25, 0.5, 0.75, 1],\n",
       "                          'penalty': ['l2'],\n",
       "                          'solver': ['newton-cg', 'lbfgs', 'sag', 'saga']},\n",
       "                         {'penalty': ['none'],\n",
       "                          'solver': ['newton-cg', 'lbfgs', 'sag', 'saga']},\n",
       "                         {'C': [0.01, 0.1, 0.15, 0.25, 0.5, 0.75, 1],\n",
       "                          'penalty': ['l2', 'l1'],\n",
       "                          'solver': ['liblinear', 'saga']},\n",
       "                         {'C': [0.01, 0.1, 0.15, 0.25, 0.5, 0.75, 1],\n",
       "                          'l1_ratio': [0.25, 0.5, 0.75],\n",
       "                          'penalty': ['elasticnet'], 'solver': ['saga']}],\n",
       "             scoring='accuracy')"
      ]
     },
     "execution_count": 61,
     "metadata": {},
     "output_type": "execute_result"
    }
   ],
   "source": [
    "grid_search"
   ]
  },
  {
   "cell_type": "code",
   "execution_count": 62,
   "id": "8457437b",
   "metadata": {
    "execution": {
     "iopub.execute_input": "2022-12-01T13:46:14.774849Z",
     "iopub.status.busy": "2022-12-01T13:46:14.773275Z",
     "iopub.status.idle": "2022-12-01T13:46:14.779582Z",
     "shell.execute_reply": "2022-12-01T13:46:14.778378Z"
    },
    "papermill": {
     "duration": 0.045657,
     "end_time": "2022-12-01T13:46:14.782110",
     "exception": false,
     "start_time": "2022-12-01T13:46:14.736453",
     "status": "completed"
    },
    "tags": []
   },
   "outputs": [],
   "source": [
    "# models_accuracy_scores[\"Logistic Regression\"] = [logistic_score, logistic_std]"
   ]
  },
  {
   "cell_type": "markdown",
   "id": "a08d20a6",
   "metadata": {
    "papermill": {
     "duration": 0.036268,
     "end_time": "2022-12-01T13:46:14.854665",
     "exception": false,
     "start_time": "2022-12-01T13:46:14.818397",
     "status": "completed"
    },
    "tags": []
   },
   "source": [
    "## **K-NN**"
   ]
  },
  {
   "cell_type": "code",
   "execution_count": 63,
   "id": "5f3c44f7",
   "metadata": {
    "execution": {
     "iopub.execute_input": "2022-12-01T13:46:14.927921Z",
     "iopub.status.busy": "2022-12-01T13:46:14.927257Z",
     "iopub.status.idle": "2022-12-01T13:46:14.932567Z",
     "shell.execute_reply": "2022-12-01T13:46:14.931925Z"
    },
    "papermill": {
     "duration": 0.044569,
     "end_time": "2022-12-01T13:46:14.935190",
     "exception": false,
     "start_time": "2022-12-01T13:46:14.890621",
     "status": "completed"
    },
    "tags": []
   },
   "outputs": [
    {
     "data": {
      "text/plain": [
       "\"# search for an optimal value of k for K-NN\\nfrom sklearn.neighbors import KNeighborsClassifier\\nk_range = range(1,31)\\nk_scores = []\\nfor k in k_range:\\n    knn = KNeighborsClassifier(n_neighbors=k, metric='minkowski', p=2)\\n    scores = cross_val_score(knn, X_new_knn, y_train, cv = cv, scoring = 'accuracy')\\n    k_scores.append(scores.mean())\\nprint(k_scores)\""
      ]
     },
     "execution_count": 63,
     "metadata": {},
     "output_type": "execute_result"
    }
   ],
   "source": [
    "'''# search for an optimal value of k for K-NN\n",
    "from sklearn.neighbors import KNeighborsClassifier\n",
    "k_range = range(1,31)\n",
    "k_scores = []\n",
    "for k in k_range:\n",
    "    knn = KNeighborsClassifier(n_neighbors=k, metric='minkowski', p=2)\n",
    "    scores = cross_val_score(knn, X_new_knn, y_train, cv = cv, scoring = 'accuracy')\n",
    "    k_scores.append(scores.mean())\n",
    "print(k_scores)'''"
   ]
  },
  {
   "cell_type": "code",
   "execution_count": 64,
   "id": "fc1ddd19",
   "metadata": {
    "execution": {
     "iopub.execute_input": "2022-12-01T13:46:15.001659Z",
     "iopub.status.busy": "2022-12-01T13:46:15.001104Z",
     "iopub.status.idle": "2022-12-01T13:46:15.006406Z",
     "shell.execute_reply": "2022-12-01T13:46:15.005396Z"
    },
    "papermill": {
     "duration": 0.040329,
     "end_time": "2022-12-01T13:46:15.008108",
     "exception": false,
     "start_time": "2022-12-01T13:46:14.967779",
     "status": "completed"
    },
    "tags": []
   },
   "outputs": [
    {
     "data": {
      "text/plain": [
       "\"# plot the value of k for K-NN (x axis) versus the cross-validated accuracy (y axis)\\nplt.plot(k_range, k_scores)\\nplt.xlabel('Value of k')\\nplt.ylabel('Cross-Validated Accuracy')\""
      ]
     },
     "execution_count": 64,
     "metadata": {},
     "output_type": "execute_result"
    }
   ],
   "source": [
    "'''# plot the value of k for K-NN (x axis) versus the cross-validated accuracy (y axis)\n",
    "plt.plot(k_range, k_scores)\n",
    "plt.xlabel('Value of k')\n",
    "plt.ylabel('Cross-Validated Accuracy')'''"
   ]
  },
  {
   "cell_type": "code",
   "execution_count": 65,
   "id": "8f9db6af",
   "metadata": {
    "execution": {
     "iopub.execute_input": "2022-12-01T13:46:15.075723Z",
     "iopub.status.busy": "2022-12-01T13:46:15.075107Z",
     "iopub.status.idle": "2022-12-01T13:46:15.080087Z",
     "shell.execute_reply": "2022-12-01T13:46:15.079411Z"
    },
    "papermill": {
     "duration": 0.041532,
     "end_time": "2022-12-01T13:46:15.081720",
     "exception": false,
     "start_time": "2022-12-01T13:46:15.040188",
     "status": "completed"
    },
    "tags": []
   },
   "outputs": [
    {
     "data": {
      "text/plain": [
       "'k_scores.index(max(k_scores))'"
      ]
     },
     "execution_count": 65,
     "metadata": {},
     "output_type": "execute_result"
    }
   ],
   "source": [
    "'''k_scores.index(max(k_scores))'''"
   ]
  },
  {
   "cell_type": "markdown",
   "id": "d94a7393",
   "metadata": {
    "papermill": {
     "duration": 0.032203,
     "end_time": "2022-12-01T13:46:15.146775",
     "exception": false,
     "start_time": "2022-12-01T13:46:15.114572",
     "status": "completed"
    },
    "tags": []
   },
   "source": [
    "The optimal value of k is 27 with 0.786729 accuracy score"
   ]
  },
  {
   "cell_type": "code",
   "execution_count": 66,
   "id": "f45816fb",
   "metadata": {
    "execution": {
     "iopub.execute_input": "2022-12-01T13:46:15.216638Z",
     "iopub.status.busy": "2022-12-01T13:46:15.215965Z",
     "iopub.status.idle": "2022-12-01T13:46:15.221404Z",
     "shell.execute_reply": "2022-12-01T13:46:15.220723Z"
    },
    "papermill": {
     "duration": 0.04248,
     "end_time": "2022-12-01T13:46:15.223243",
     "exception": false,
     "start_time": "2022-12-01T13:46:15.180763",
     "status": "completed"
    },
    "tags": []
   },
   "outputs": [
    {
     "data": {
      "text/plain": [
       "'knn_classifier = KNeighborsClassifier(n_neighbors=26, metric=\\'minkowski\\', p=2)\\nknn_accuracies = cross_val_score(knn_classifier, X, y, cv = 10, scoring = \\'accuracy\\')\\nknn_score = knn_accuracies.mean()\\nknn_std = knn_accuracies.std()\\nprint(knn_score)\\nmodels_accuracy_scores[\"K-NN\"] = [knn_score, knn_std]'"
      ]
     },
     "execution_count": 66,
     "metadata": {},
     "output_type": "execute_result"
    }
   ],
   "source": [
    "'''knn_classifier = KNeighborsClassifier(n_neighbors=26, metric='minkowski', p=2)\n",
    "knn_accuracies = cross_val_score(knn_classifier, X, y, cv = 10, scoring = 'accuracy')\n",
    "knn_score = knn_accuracies.mean()\n",
    "knn_std = knn_accuracies.std()\n",
    "print(knn_score)\n",
    "models_accuracy_scores[\"K-NN\"] = [knn_score, knn_std]'''"
   ]
  },
  {
   "cell_type": "markdown",
   "id": "e452601f",
   "metadata": {
    "papermill": {
     "duration": 0.037787,
     "end_time": "2022-12-01T13:46:15.295710",
     "exception": false,
     "start_time": "2022-12-01T13:46:15.257923",
     "status": "completed"
    },
    "tags": []
   },
   "source": [
    "## **SVM**"
   ]
  },
  {
   "cell_type": "code",
   "execution_count": 67,
   "id": "e1870000",
   "metadata": {
    "execution": {
     "iopub.execute_input": "2022-12-01T13:46:15.368154Z",
     "iopub.status.busy": "2022-12-01T13:46:15.367510Z",
     "iopub.status.idle": "2022-12-01T13:46:27.661726Z",
     "shell.execute_reply": "2022-12-01T13:46:27.660579Z"
    },
    "papermill": {
     "duration": 12.333653,
     "end_time": "2022-12-01T13:46:27.664148",
     "exception": false,
     "start_time": "2022-12-01T13:46:15.330495",
     "status": "completed"
    },
    "tags": []
   },
   "outputs": [],
   "source": [
    "from sklearn.svm import SVC\n",
    "svm_classifier = SVC(kernel='linear', random_state=0)\n",
    "svm_accuracies = cross_val_score(svm_classifier, X, y, cv = 10, scoring = 'accuracy')\n",
    "svm_score = svm_accuracies.mean()\n",
    "svm_std = svm_accuracies.std()\n",
    "models_accuracy_scores[\"SVM\"] = [svm_score, svm_std]"
   ]
  },
  {
   "cell_type": "code",
   "execution_count": 68,
   "id": "15f1c441",
   "metadata": {
    "execution": {
     "iopub.execute_input": "2022-12-01T13:46:27.733629Z",
     "iopub.status.busy": "2022-12-01T13:46:27.732982Z",
     "iopub.status.idle": "2022-12-01T13:46:27.738071Z",
     "shell.execute_reply": "2022-12-01T13:46:27.737411Z"
    },
    "papermill": {
     "duration": 0.042506,
     "end_time": "2022-12-01T13:46:27.740376",
     "exception": false,
     "start_time": "2022-12-01T13:46:27.697870",
     "status": "completed"
    },
    "tags": []
   },
   "outputs": [
    {
     "data": {
      "text/plain": [
       "{'SVM': [0.786729088639201, 0.028599350013463757]}"
      ]
     },
     "execution_count": 68,
     "metadata": {},
     "output_type": "execute_result"
    }
   ],
   "source": [
    "models_accuracy_scores"
   ]
  },
  {
   "cell_type": "markdown",
   "id": "eb8d1b73",
   "metadata": {
    "papermill": {
     "duration": 0.03268,
     "end_time": "2022-12-01T13:46:27.805962",
     "exception": false,
     "start_time": "2022-12-01T13:46:27.773282",
     "status": "completed"
    },
    "tags": []
   },
   "source": [
    "## **Naive Bayes**"
   ]
  },
  {
   "cell_type": "code",
   "execution_count": 69,
   "id": "366b1c1b",
   "metadata": {
    "execution": {
     "iopub.execute_input": "2022-12-01T13:46:27.874138Z",
     "iopub.status.busy": "2022-12-01T13:46:27.873485Z",
     "iopub.status.idle": "2022-12-01T13:46:27.922815Z",
     "shell.execute_reply": "2022-12-01T13:46:27.921735Z"
    },
    "papermill": {
     "duration": 0.085981,
     "end_time": "2022-12-01T13:46:27.925228",
     "exception": false,
     "start_time": "2022-12-01T13:46:27.839247",
     "status": "completed"
    },
    "tags": []
   },
   "outputs": [],
   "source": [
    "from sklearn.naive_bayes import GaussianNB\n",
    "nb_classifier = GaussianNB()\n",
    "nb_accuracies = cross_val_score(nb_classifier, X, y, cv = 10, scoring = 'accuracy')\n",
    "nb_score = nb_accuracies.mean()\n",
    "nb_std = nb_accuracies.std()\n",
    "models_accuracy_scores[\"Naive Bayes\"] = [nb_score, nb_std]"
   ]
  },
  {
   "cell_type": "code",
   "execution_count": 70,
   "id": "8aa85567",
   "metadata": {
    "execution": {
     "iopub.execute_input": "2022-12-01T13:46:27.994176Z",
     "iopub.status.busy": "2022-12-01T13:46:27.993457Z",
     "iopub.status.idle": "2022-12-01T13:46:27.998738Z",
     "shell.execute_reply": "2022-12-01T13:46:27.998070Z"
    },
    "papermill": {
     "duration": 0.042592,
     "end_time": "2022-12-01T13:46:28.001238",
     "exception": false,
     "start_time": "2022-12-01T13:46:27.958646",
     "status": "completed"
    },
    "tags": []
   },
   "outputs": [
    {
     "data": {
      "text/plain": [
       "0.762059925093633"
      ]
     },
     "execution_count": 70,
     "metadata": {},
     "output_type": "execute_result"
    }
   ],
   "source": [
    "nb_score"
   ]
  },
  {
   "cell_type": "markdown",
   "id": "170bb014",
   "metadata": {
    "papermill": {
     "duration": 0.032401,
     "end_time": "2022-12-01T13:46:28.066070",
     "exception": false,
     "start_time": "2022-12-01T13:46:28.033669",
     "status": "completed"
    },
    "tags": []
   },
   "source": [
    "## **Random Forest**"
   ]
  },
  {
   "cell_type": "code",
   "execution_count": 71,
   "id": "2c1e73c1",
   "metadata": {
    "execution": {
     "iopub.execute_input": "2022-12-01T13:46:28.134661Z",
     "iopub.status.busy": "2022-12-01T13:46:28.134031Z",
     "iopub.status.idle": "2022-12-01T13:46:28.388172Z",
     "shell.execute_reply": "2022-12-01T13:46:28.387184Z"
    },
    "papermill": {
     "duration": 0.291489,
     "end_time": "2022-12-01T13:46:28.390561",
     "exception": false,
     "start_time": "2022-12-01T13:46:28.099072",
     "status": "completed"
    },
    "tags": []
   },
   "outputs": [
    {
     "data": {
      "text/plain": [
       "0.7991885143570536"
      ]
     },
     "execution_count": 71,
     "metadata": {},
     "output_type": "execute_result"
    }
   ],
   "source": [
    "from sklearn.ensemble import RandomForestClassifier\n",
    "rf_classifier = RandomForestClassifier(n_estimators=10, criterion='entropy', random_state=0)\n",
    "rf_accuracies = cross_val_score(rf_classifier, X, y, cv = 10, scoring = 'accuracy')\n",
    "rf_score = rf_accuracies.mean()\n",
    "rf_std = rf_accuracies.std()\n",
    "models_accuracy_scores[\"Random forest\"] = [rf_score, rf_std]\n",
    "rf_score"
   ]
  },
  {
   "cell_type": "code",
   "execution_count": 72,
   "id": "9dbd3f9a",
   "metadata": {
    "execution": {
     "iopub.execute_input": "2022-12-01T13:46:28.459509Z",
     "iopub.status.busy": "2022-12-01T13:46:28.458826Z",
     "iopub.status.idle": "2022-12-01T13:46:28.464757Z",
     "shell.execute_reply": "2022-12-01T13:46:28.463459Z"
    },
    "papermill": {
     "duration": 0.04369,
     "end_time": "2022-12-01T13:46:28.467320",
     "exception": false,
     "start_time": "2022-12-01T13:46:28.423630",
     "status": "completed"
    },
    "tags": []
   },
   "outputs": [
    {
     "data": {
      "text/plain": [
       "{'SVM': [0.786729088639201, 0.028599350013463757],\n",
       " 'Naive Bayes': [0.762059925093633, 0.028809289673386286],\n",
       " 'Random forest': [0.7991885143570536, 0.039088368060222374]}"
      ]
     },
     "execution_count": 72,
     "metadata": {},
     "output_type": "execute_result"
    }
   ],
   "source": [
    "models_accuracy_scores"
   ]
  },
  {
   "cell_type": "code",
   "execution_count": 73,
   "id": "d50d9944",
   "metadata": {
    "execution": {
     "iopub.execute_input": "2022-12-01T13:46:28.536023Z",
     "iopub.status.busy": "2022-12-01T13:46:28.535581Z",
     "iopub.status.idle": "2022-12-01T13:46:28.539506Z",
     "shell.execute_reply": "2022-12-01T13:46:28.538829Z"
    },
    "papermill": {
     "duration": 0.040569,
     "end_time": "2022-12-01T13:46:28.541244",
     "exception": false,
     "start_time": "2022-12-01T13:46:28.500675",
     "status": "completed"
    },
    "tags": []
   },
   "outputs": [],
   "source": [
    "# from sklearn.ensemble import RandomForestClassifier\n",
    "\n",
    "# y = train_data[\"Survived\"]\n",
    "\n",
    "# features = [\"Pclass\", \"Sex\", \"SibSp\", \"Parch\"]\n",
    "# X = pd.get_dummies(train_data[features])\n",
    "# X_test = pd.get_dummies(test_data[features])\n",
    "\n",
    "# model = RandomForestClassifier(n_estimators=100, max_depth=5, random_state=1)\n",
    "# model.fit(X, y)\n",
    "# predictions = model.predict(X_test)\n",
    "\n",
    "# output = pd.DataFrame({'PassengerId': test_data.PassengerId, 'Survived': predictions})\n",
    "# output.to_csv('submission.csv', index=False)\n",
    "# print(\"Your submission was successfully saved!\")"
   ]
  },
  {
   "cell_type": "code",
   "execution_count": 74,
   "id": "a35de5e2",
   "metadata": {
    "execution": {
     "iopub.execute_input": "2022-12-01T13:46:28.608979Z",
     "iopub.status.busy": "2022-12-01T13:46:28.608526Z",
     "iopub.status.idle": "2022-12-01T13:46:28.613318Z",
     "shell.execute_reply": "2022-12-01T13:46:28.612041Z"
    },
    "papermill": {
     "duration": 0.041423,
     "end_time": "2022-12-01T13:46:28.615451",
     "exception": false,
     "start_time": "2022-12-01T13:46:28.574028",
     "status": "completed"
    },
    "tags": []
   },
   "outputs": [],
   "source": [
    "# output.head()"
   ]
  }
 ],
 "metadata": {
  "kernelspec": {
   "display_name": "Python 3",
   "language": "python",
   "name": "python3"
  },
  "language_info": {
   "codemirror_mode": {
    "name": "ipython",
    "version": 3
   },
   "file_extension": ".py",
   "mimetype": "text/x-python",
   "name": "python",
   "nbconvert_exporter": "python",
   "pygments_lexer": "ipython3",
   "version": "3.7.12"
  },
  "papermill": {
   "default_parameters": {},
   "duration": 651.134277,
   "end_time": "2022-12-01T13:46:31.270856",
   "environment_variables": {},
   "exception": null,
   "input_path": "__notebook__.ipynb",
   "output_path": "__notebook__.ipynb",
   "parameters": {},
   "start_time": "2022-12-01T13:35:40.136579",
   "version": "2.3.4"
  }
 },
 "nbformat": 4,
 "nbformat_minor": 5
}
